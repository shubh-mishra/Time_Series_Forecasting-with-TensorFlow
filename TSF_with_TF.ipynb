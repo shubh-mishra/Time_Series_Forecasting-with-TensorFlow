{
  "nbformat": 4,
  "nbformat_minor": 0,
  "metadata": {
    "colab": {
      "provenance": []
    },
    "kernelspec": {
      "name": "python3",
      "display_name": "Python 3"
    },
    "language_info": {
      "name": "python"
    },
    "accelerator": "GPU",
    "gpuClass": "standard"
  },
  "cells": [
    {
      "cell_type": "markdown",
      "source": [
        "# Time Series Forecasting with TensorFlow"
      ],
      "metadata": {
        "id": "0w8JoogvZb3m"
      }
    },
    {
      "cell_type": "markdown",
      "source": [
        "### Contents of this notebook\n",
        "  * Get the time series data\n",
        "    * Load the time series data using Pandas/Python,s CSV module\n",
        "  * Format data for a time series problem\n",
        "    * Creating training and test sets (the wrong way)\n",
        "    * Creating training and test sets (the right way)\n",
        "    * Visualizing time series data\n",
        "    * Turning time series data into a supervised learning problem (windowing)\n",
        "    * Preparing univariate and multivariate\n",
        "  * Evaluating a time series forecasting model\n",
        "  * Setting up a series of deep learning modelling experiments\n",
        "    * Dense (fully-connected) networks\n",
        "    * Sequence models (LSTM and 1D CNN)\n",
        "    * Ensembling (combining multiple models together)\n",
        "    * Multivariate models\n",
        "    * Replicating the N-BEATS algorithm using TensorFlow layer subclassing\n",
        "  * Creating a model checkpoint to save the best performing model during training\n",
        "  * Making predictions (forecasts) with a time series model\n",
        "  * Creating prediction intervals for the time series model forecasts\n",
        "  * Discussing two different types of uncertainity in machine learning (data uncertainity and model uncertainity)\n",
        "  * Demonstrating why forecasting in an open system is BS (the turkey problem)"
      ],
      "metadata": {
        "id": "6Q2zvb4mZuEe"
      }
    },
    {
      "cell_type": "markdown",
      "source": [
        "### Check for GPU"
      ],
      "metadata": {
        "id": "xF6e0yL_cLWE"
      }
    },
    {
      "cell_type": "code",
      "execution_count": 1,
      "metadata": {
        "colab": {
          "base_uri": "https://localhost:8080/"
        },
        "id": "5G9S5O1-ZSw7",
        "outputId": "3d60d3de-de23-4280-a8f4-3bb807e2249e"
      },
      "outputs": [
        {
          "output_type": "stream",
          "name": "stdout",
          "text": [
            "GPU 0: Tesla T4 (UUID: GPU-42384d9f-287d-4cbf-3f07-4a7245e93405)\n"
          ]
        }
      ],
      "source": [
        "# Check for GPU\n",
        "!nvidia-smi -L"
      ]
    },
    {
      "cell_type": "markdown",
      "source": [
        "## Get data"
      ],
      "metadata": {
        "id": "qkmWlSy1CSfP"
      }
    },
    {
      "cell_type": "code",
      "source": [
        "# Download Bitcoin historical data from GitHub\n",
        "!wget https://raw.githubusercontent.com/mrdbourke/tensorflow-deep-learning/main/extras/BTC_USD_2013-10-01_2021-05-18-CoinDesk.csv"
      ],
      "metadata": {
        "colab": {
          "base_uri": "https://localhost:8080/"
        },
        "id": "qIx9yY30cT-M",
        "outputId": "8226c293-f1c0-4b7c-9952-53b2708f465e"
      },
      "execution_count": 2,
      "outputs": [
        {
          "output_type": "stream",
          "name": "stdout",
          "text": [
            "--2023-02-17 17:39:56--  https://raw.githubusercontent.com/mrdbourke/tensorflow-deep-learning/main/extras/BTC_USD_2013-10-01_2021-05-18-CoinDesk.csv\n",
            "Resolving raw.githubusercontent.com (raw.githubusercontent.com)... 185.199.108.133, 185.199.109.133, 185.199.110.133, ...\n",
            "Connecting to raw.githubusercontent.com (raw.githubusercontent.com)|185.199.108.133|:443... connected.\n",
            "HTTP request sent, awaiting response... 200 OK\n",
            "Length: 178509 (174K) [text/plain]\n",
            "Saving to: ‘BTC_USD_2013-10-01_2021-05-18-CoinDesk.csv’\n",
            "\n",
            "BTC_USD_2013-10-01_ 100%[===================>] 174.33K  --.-KB/s    in 0.008s  \n",
            "\n",
            "2023-02-17 17:39:56 (20.9 MB/s) - ‘BTC_USD_2013-10-01_2021-05-18-CoinDesk.csv’ saved [178509/178509]\n",
            "\n"
          ]
        }
      ]
    },
    {
      "cell_type": "markdown",
      "source": [
        "### Importing time series data with pandas"
      ],
      "metadata": {
        "id": "HSYf_IzbDJqz"
      }
    },
    {
      "cell_type": "code",
      "source": [
        "# Import with pandas\n",
        "import pandas as pd\n",
        "import numpy as np\n",
        "df = pd.read_csv('/content/BTC_USD_2013-10-01_2021-05-18-CoinDesk.csv',\n",
        "                 parse_dates=['Date'],\n",
        "                 index_col=['Date'])"
      ],
      "metadata": {
        "id": "CccBhLmlDFVC"
      },
      "execution_count": 3,
      "outputs": []
    },
    {
      "cell_type": "code",
      "source": [
        "df.head()"
      ],
      "metadata": {
        "colab": {
          "base_uri": "https://localhost:8080/",
          "height": 237
        },
        "id": "qYRO_BYFDm6d",
        "outputId": "5ddcf9a5-8123-4bfa-d391-04638fa17dd4"
      },
      "execution_count": 4,
      "outputs": [
        {
          "output_type": "execute_result",
          "data": {
            "text/plain": [
              "           Currency  Closing Price (USD)  24h Open (USD)  24h High (USD)  \\\n",
              "Date                                                                       \n",
              "2013-10-01      BTC            123.65499       124.30466       124.75166   \n",
              "2013-10-02      BTC            125.45500       123.65499       125.75850   \n",
              "2013-10-03      BTC            108.58483       125.45500       125.66566   \n",
              "2013-10-04      BTC            118.67466       108.58483       118.67500   \n",
              "2013-10-05      BTC            121.33866       118.67466       121.93633   \n",
              "\n",
              "            24h Low (USD)  \n",
              "Date                       \n",
              "2013-10-01      122.56349  \n",
              "2013-10-02      123.63383  \n",
              "2013-10-03       83.32833  \n",
              "2013-10-04      107.05816  \n",
              "2013-10-05      118.00566  "
            ],
            "text/html": [
              "\n",
              "  <div id=\"df-dced4b11-8b4f-4799-8a60-2f98145ea5e6\">\n",
              "    <div class=\"colab-df-container\">\n",
              "      <div>\n",
              "<style scoped>\n",
              "    .dataframe tbody tr th:only-of-type {\n",
              "        vertical-align: middle;\n",
              "    }\n",
              "\n",
              "    .dataframe tbody tr th {\n",
              "        vertical-align: top;\n",
              "    }\n",
              "\n",
              "    .dataframe thead th {\n",
              "        text-align: right;\n",
              "    }\n",
              "</style>\n",
              "<table border=\"1\" class=\"dataframe\">\n",
              "  <thead>\n",
              "    <tr style=\"text-align: right;\">\n",
              "      <th></th>\n",
              "      <th>Currency</th>\n",
              "      <th>Closing Price (USD)</th>\n",
              "      <th>24h Open (USD)</th>\n",
              "      <th>24h High (USD)</th>\n",
              "      <th>24h Low (USD)</th>\n",
              "    </tr>\n",
              "    <tr>\n",
              "      <th>Date</th>\n",
              "      <th></th>\n",
              "      <th></th>\n",
              "      <th></th>\n",
              "      <th></th>\n",
              "      <th></th>\n",
              "    </tr>\n",
              "  </thead>\n",
              "  <tbody>\n",
              "    <tr>\n",
              "      <th>2013-10-01</th>\n",
              "      <td>BTC</td>\n",
              "      <td>123.65499</td>\n",
              "      <td>124.30466</td>\n",
              "      <td>124.75166</td>\n",
              "      <td>122.56349</td>\n",
              "    </tr>\n",
              "    <tr>\n",
              "      <th>2013-10-02</th>\n",
              "      <td>BTC</td>\n",
              "      <td>125.45500</td>\n",
              "      <td>123.65499</td>\n",
              "      <td>125.75850</td>\n",
              "      <td>123.63383</td>\n",
              "    </tr>\n",
              "    <tr>\n",
              "      <th>2013-10-03</th>\n",
              "      <td>BTC</td>\n",
              "      <td>108.58483</td>\n",
              "      <td>125.45500</td>\n",
              "      <td>125.66566</td>\n",
              "      <td>83.32833</td>\n",
              "    </tr>\n",
              "    <tr>\n",
              "      <th>2013-10-04</th>\n",
              "      <td>BTC</td>\n",
              "      <td>118.67466</td>\n",
              "      <td>108.58483</td>\n",
              "      <td>118.67500</td>\n",
              "      <td>107.05816</td>\n",
              "    </tr>\n",
              "    <tr>\n",
              "      <th>2013-10-05</th>\n",
              "      <td>BTC</td>\n",
              "      <td>121.33866</td>\n",
              "      <td>118.67466</td>\n",
              "      <td>121.93633</td>\n",
              "      <td>118.00566</td>\n",
              "    </tr>\n",
              "  </tbody>\n",
              "</table>\n",
              "</div>\n",
              "      <button class=\"colab-df-convert\" onclick=\"convertToInteractive('df-dced4b11-8b4f-4799-8a60-2f98145ea5e6')\"\n",
              "              title=\"Convert this dataframe to an interactive table.\"\n",
              "              style=\"display:none;\">\n",
              "        \n",
              "  <svg xmlns=\"http://www.w3.org/2000/svg\" height=\"24px\"viewBox=\"0 0 24 24\"\n",
              "       width=\"24px\">\n",
              "    <path d=\"M0 0h24v24H0V0z\" fill=\"none\"/>\n",
              "    <path d=\"M18.56 5.44l.94 2.06.94-2.06 2.06-.94-2.06-.94-.94-2.06-.94 2.06-2.06.94zm-11 1L8.5 8.5l.94-2.06 2.06-.94-2.06-.94L8.5 2.5l-.94 2.06-2.06.94zm10 10l.94 2.06.94-2.06 2.06-.94-2.06-.94-.94-2.06-.94 2.06-2.06.94z\"/><path d=\"M17.41 7.96l-1.37-1.37c-.4-.4-.92-.59-1.43-.59-.52 0-1.04.2-1.43.59L10.3 9.45l-7.72 7.72c-.78.78-.78 2.05 0 2.83L4 21.41c.39.39.9.59 1.41.59.51 0 1.02-.2 1.41-.59l7.78-7.78 2.81-2.81c.8-.78.8-2.07 0-2.86zM5.41 20L4 18.59l7.72-7.72 1.47 1.35L5.41 20z\"/>\n",
              "  </svg>\n",
              "      </button>\n",
              "      \n",
              "  <style>\n",
              "    .colab-df-container {\n",
              "      display:flex;\n",
              "      flex-wrap:wrap;\n",
              "      gap: 12px;\n",
              "    }\n",
              "\n",
              "    .colab-df-convert {\n",
              "      background-color: #E8F0FE;\n",
              "      border: none;\n",
              "      border-radius: 50%;\n",
              "      cursor: pointer;\n",
              "      display: none;\n",
              "      fill: #1967D2;\n",
              "      height: 32px;\n",
              "      padding: 0 0 0 0;\n",
              "      width: 32px;\n",
              "    }\n",
              "\n",
              "    .colab-df-convert:hover {\n",
              "      background-color: #E2EBFA;\n",
              "      box-shadow: 0px 1px 2px rgba(60, 64, 67, 0.3), 0px 1px 3px 1px rgba(60, 64, 67, 0.15);\n",
              "      fill: #174EA6;\n",
              "    }\n",
              "\n",
              "    [theme=dark] .colab-df-convert {\n",
              "      background-color: #3B4455;\n",
              "      fill: #D2E3FC;\n",
              "    }\n",
              "\n",
              "    [theme=dark] .colab-df-convert:hover {\n",
              "      background-color: #434B5C;\n",
              "      box-shadow: 0px 1px 3px 1px rgba(0, 0, 0, 0.15);\n",
              "      filter: drop-shadow(0px 1px 2px rgba(0, 0, 0, 0.3));\n",
              "      fill: #FFFFFF;\n",
              "    }\n",
              "  </style>\n",
              "\n",
              "      <script>\n",
              "        const buttonEl =\n",
              "          document.querySelector('#df-dced4b11-8b4f-4799-8a60-2f98145ea5e6 button.colab-df-convert');\n",
              "        buttonEl.style.display =\n",
              "          google.colab.kernel.accessAllowed ? 'block' : 'none';\n",
              "\n",
              "        async function convertToInteractive(key) {\n",
              "          const element = document.querySelector('#df-dced4b11-8b4f-4799-8a60-2f98145ea5e6');\n",
              "          const dataTable =\n",
              "            await google.colab.kernel.invokeFunction('convertToInteractive',\n",
              "                                                     [key], {});\n",
              "          if (!dataTable) return;\n",
              "\n",
              "          const docLinkHtml = 'Like what you see? Visit the ' +\n",
              "            '<a target=\"_blank\" href=https://colab.research.google.com/notebooks/data_table.ipynb>data table notebook</a>'\n",
              "            + ' to learn more about interactive tables.';\n",
              "          element.innerHTML = '';\n",
              "          dataTable['output_type'] = 'display_data';\n",
              "          await google.colab.output.renderOutput(dataTable, element);\n",
              "          const docLink = document.createElement('div');\n",
              "          docLink.innerHTML = docLinkHtml;\n",
              "          element.appendChild(docLink);\n",
              "        }\n",
              "      </script>\n",
              "    </div>\n",
              "  </div>\n",
              "  "
            ]
          },
          "metadata": {},
          "execution_count": 4
        }
      ]
    },
    {
      "cell_type": "code",
      "source": [
        "df.info()"
      ],
      "metadata": {
        "colab": {
          "base_uri": "https://localhost:8080/"
        },
        "id": "oDeBOuRTDtyb",
        "outputId": "d9dd5947-b3ba-47f9-815f-643a5080e234"
      },
      "execution_count": 5,
      "outputs": [
        {
          "output_type": "stream",
          "name": "stdout",
          "text": [
            "<class 'pandas.core.frame.DataFrame'>\n",
            "DatetimeIndex: 2787 entries, 2013-10-01 to 2021-05-18\n",
            "Data columns (total 5 columns):\n",
            " #   Column               Non-Null Count  Dtype  \n",
            "---  ------               --------------  -----  \n",
            " 0   Currency             2787 non-null   object \n",
            " 1   Closing Price (USD)  2787 non-null   float64\n",
            " 2   24h Open (USD)       2787 non-null   float64\n",
            " 3   24h High (USD)       2787 non-null   float64\n",
            " 4   24h Low (USD)        2787 non-null   float64\n",
            "dtypes: float64(4), object(1)\n",
            "memory usage: 130.6+ KB\n"
          ]
        }
      ]
    },
    {
      "cell_type": "code",
      "source": [
        "df.shape"
      ],
      "metadata": {
        "colab": {
          "base_uri": "https://localhost:8080/"
        },
        "id": "_UpS-_04D0xW",
        "outputId": "441456ae-adfc-4cd3-ac38-224cf92e1677"
      },
      "execution_count": 6,
      "outputs": [
        {
          "output_type": "execute_result",
          "data": {
            "text/plain": [
              "(2787, 5)"
            ]
          },
          "metadata": {},
          "execution_count": 6
        }
      ]
    },
    {
      "cell_type": "code",
      "source": [
        "# Only want closing price for each day\n",
        "bitcoin_prices = pd.DataFrame(df['Closing Price (USD)']).rename(columns={'Closing Price (USD)': 'Price'})\n",
        "bitcoin_prices.head()"
      ],
      "metadata": {
        "colab": {
          "base_uri": "https://localhost:8080/",
          "height": 237
        },
        "id": "VF3K-owOEUPm",
        "outputId": "b6c1114b-545a-4f48-f4c5-439175db2215"
      },
      "execution_count": 7,
      "outputs": [
        {
          "output_type": "execute_result",
          "data": {
            "text/plain": [
              "                Price\n",
              "Date                 \n",
              "2013-10-01  123.65499\n",
              "2013-10-02  125.45500\n",
              "2013-10-03  108.58483\n",
              "2013-10-04  118.67466\n",
              "2013-10-05  121.33866"
            ],
            "text/html": [
              "\n",
              "  <div id=\"df-2d5eab43-c150-44e7-bb35-74d054af2559\">\n",
              "    <div class=\"colab-df-container\">\n",
              "      <div>\n",
              "<style scoped>\n",
              "    .dataframe tbody tr th:only-of-type {\n",
              "        vertical-align: middle;\n",
              "    }\n",
              "\n",
              "    .dataframe tbody tr th {\n",
              "        vertical-align: top;\n",
              "    }\n",
              "\n",
              "    .dataframe thead th {\n",
              "        text-align: right;\n",
              "    }\n",
              "</style>\n",
              "<table border=\"1\" class=\"dataframe\">\n",
              "  <thead>\n",
              "    <tr style=\"text-align: right;\">\n",
              "      <th></th>\n",
              "      <th>Price</th>\n",
              "    </tr>\n",
              "    <tr>\n",
              "      <th>Date</th>\n",
              "      <th></th>\n",
              "    </tr>\n",
              "  </thead>\n",
              "  <tbody>\n",
              "    <tr>\n",
              "      <th>2013-10-01</th>\n",
              "      <td>123.65499</td>\n",
              "    </tr>\n",
              "    <tr>\n",
              "      <th>2013-10-02</th>\n",
              "      <td>125.45500</td>\n",
              "    </tr>\n",
              "    <tr>\n",
              "      <th>2013-10-03</th>\n",
              "      <td>108.58483</td>\n",
              "    </tr>\n",
              "    <tr>\n",
              "      <th>2013-10-04</th>\n",
              "      <td>118.67466</td>\n",
              "    </tr>\n",
              "    <tr>\n",
              "      <th>2013-10-05</th>\n",
              "      <td>121.33866</td>\n",
              "    </tr>\n",
              "  </tbody>\n",
              "</table>\n",
              "</div>\n",
              "      <button class=\"colab-df-convert\" onclick=\"convertToInteractive('df-2d5eab43-c150-44e7-bb35-74d054af2559')\"\n",
              "              title=\"Convert this dataframe to an interactive table.\"\n",
              "              style=\"display:none;\">\n",
              "        \n",
              "  <svg xmlns=\"http://www.w3.org/2000/svg\" height=\"24px\"viewBox=\"0 0 24 24\"\n",
              "       width=\"24px\">\n",
              "    <path d=\"M0 0h24v24H0V0z\" fill=\"none\"/>\n",
              "    <path d=\"M18.56 5.44l.94 2.06.94-2.06 2.06-.94-2.06-.94-.94-2.06-.94 2.06-2.06.94zm-11 1L8.5 8.5l.94-2.06 2.06-.94-2.06-.94L8.5 2.5l-.94 2.06-2.06.94zm10 10l.94 2.06.94-2.06 2.06-.94-2.06-.94-.94-2.06-.94 2.06-2.06.94z\"/><path d=\"M17.41 7.96l-1.37-1.37c-.4-.4-.92-.59-1.43-.59-.52 0-1.04.2-1.43.59L10.3 9.45l-7.72 7.72c-.78.78-.78 2.05 0 2.83L4 21.41c.39.39.9.59 1.41.59.51 0 1.02-.2 1.41-.59l7.78-7.78 2.81-2.81c.8-.78.8-2.07 0-2.86zM5.41 20L4 18.59l7.72-7.72 1.47 1.35L5.41 20z\"/>\n",
              "  </svg>\n",
              "      </button>\n",
              "      \n",
              "  <style>\n",
              "    .colab-df-container {\n",
              "      display:flex;\n",
              "      flex-wrap:wrap;\n",
              "      gap: 12px;\n",
              "    }\n",
              "\n",
              "    .colab-df-convert {\n",
              "      background-color: #E8F0FE;\n",
              "      border: none;\n",
              "      border-radius: 50%;\n",
              "      cursor: pointer;\n",
              "      display: none;\n",
              "      fill: #1967D2;\n",
              "      height: 32px;\n",
              "      padding: 0 0 0 0;\n",
              "      width: 32px;\n",
              "    }\n",
              "\n",
              "    .colab-df-convert:hover {\n",
              "      background-color: #E2EBFA;\n",
              "      box-shadow: 0px 1px 2px rgba(60, 64, 67, 0.3), 0px 1px 3px 1px rgba(60, 64, 67, 0.15);\n",
              "      fill: #174EA6;\n",
              "    }\n",
              "\n",
              "    [theme=dark] .colab-df-convert {\n",
              "      background-color: #3B4455;\n",
              "      fill: #D2E3FC;\n",
              "    }\n",
              "\n",
              "    [theme=dark] .colab-df-convert:hover {\n",
              "      background-color: #434B5C;\n",
              "      box-shadow: 0px 1px 3px 1px rgba(0, 0, 0, 0.15);\n",
              "      filter: drop-shadow(0px 1px 2px rgba(0, 0, 0, 0.3));\n",
              "      fill: #FFFFFF;\n",
              "    }\n",
              "  </style>\n",
              "\n",
              "      <script>\n",
              "        const buttonEl =\n",
              "          document.querySelector('#df-2d5eab43-c150-44e7-bb35-74d054af2559 button.colab-df-convert');\n",
              "        buttonEl.style.display =\n",
              "          google.colab.kernel.accessAllowed ? 'block' : 'none';\n",
              "\n",
              "        async function convertToInteractive(key) {\n",
              "          const element = document.querySelector('#df-2d5eab43-c150-44e7-bb35-74d054af2559');\n",
              "          const dataTable =\n",
              "            await google.colab.kernel.invokeFunction('convertToInteractive',\n",
              "                                                     [key], {});\n",
              "          if (!dataTable) return;\n",
              "\n",
              "          const docLinkHtml = 'Like what you see? Visit the ' +\n",
              "            '<a target=\"_blank\" href=https://colab.research.google.com/notebooks/data_table.ipynb>data table notebook</a>'\n",
              "            + ' to learn more about interactive tables.';\n",
              "          element.innerHTML = '';\n",
              "          dataTable['output_type'] = 'display_data';\n",
              "          await google.colab.output.renderOutput(dataTable, element);\n",
              "          const docLink = document.createElement('div');\n",
              "          docLink.innerHTML = docLinkHtml;\n",
              "          element.appendChild(docLink);\n",
              "        }\n",
              "      </script>\n",
              "    </div>\n",
              "  </div>\n",
              "  "
            ]
          },
          "metadata": {},
          "execution_count": 7
        }
      ]
    },
    {
      "cell_type": "code",
      "source": [
        "# Visulaizing data\n",
        "import matplotlib.pyplot as plt\n",
        "bitcoin_prices.plot(figsize=(10, 7))\n",
        "plt.ylabel('BTC Price')\n",
        "plt.title('Price of Bitcoin from 1 Oct 2013 to 18 May 2021', fontsize=16)\n",
        "plt.legend(fontsize=14)"
      ],
      "metadata": {
        "colab": {
          "base_uri": "https://localhost:8080/",
          "height": 477
        },
        "id": "TbkLAN_0FVYy",
        "outputId": "7fd2ce1e-720c-4033-b871-27c2bafb6d62"
      },
      "execution_count": 8,
      "outputs": [
        {
          "output_type": "execute_result",
          "data": {
            "text/plain": [
              "<matplotlib.legend.Legend at 0x7f87a8139880>"
            ]
          },
          "metadata": {},
          "execution_count": 8
        },
        {
          "output_type": "display_data",
          "data": {
            "text/plain": [
              "<Figure size 720x504 with 1 Axes>"
            ],
            "image/png": "[encoded data removed]"
          },
          "metadata": {
            "needs_background": "light"
          }
        }
      ]
    },
    {
      "cell_type": "markdown",
      "source": [
        "### Importing time series data with Python's CSV module"
      ],
      "metadata": {
        "id": "sJTzfAWTGPFT"
      }
    },
    {
      "cell_type": "code",
      "source": [
        "# Importing and formatting historical Bitcoin data with Python\n",
        "\n",
        "import csv\n",
        "from datetime import datetime\n",
        "\n",
        "timesteps = []\n",
        "btc_price = []\n",
        "with open('/content/BTC_USD_2013-10-01_2021-05-18-CoinDesk.csv') as f:\n",
        "  csv_reader = csv.reader(f, delimiter=',')\n",
        "  next(csv_reader)\n",
        "  for line in csv_reader:\n",
        "    timesteps.append(datetime.strptime(line[1], \"%Y-%m-%d\"))\n",
        "    btc_price.append(float(line[2]))\n",
        "\n",
        "# View first 10 of each\n",
        "\n",
        "timesteps[:10], btc_price[:10]"
      ],
      "metadata": {
        "colab": {
          "base_uri": "https://localhost:8080/"
        },
        "id": "iGnvksqrGLF8",
        "outputId": "bf815598-969c-4984-ae4c-71a3f7e423f5"
      },
      "execution_count": 9,
      "outputs": [
        {
          "output_type": "execute_result",
          "data": {
            "text/plain": [
              "([datetime.datetime(2013, 10, 1, 0, 0),\n",
              "  datetime.datetime(2013, 10, 2, 0, 0),\n",
              "  datetime.datetime(2013, 10, 3, 0, 0),\n",
              "  datetime.datetime(2013, 10, 4, 0, 0),\n",
              "  datetime.datetime(2013, 10, 5, 0, 0),\n",
              "  datetime.datetime(2013, 10, 6, 0, 0),\n",
              "  datetime.datetime(2013, 10, 7, 0, 0),\n",
              "  datetime.datetime(2013, 10, 8, 0, 0),\n",
              "  datetime.datetime(2013, 10, 9, 0, 0),\n",
              "  datetime.datetime(2013, 10, 10, 0, 0)],\n",
              " [123.65499,\n",
              "  125.455,\n",
              "  108.58483,\n",
              "  118.67466,\n",
              "  121.33866,\n",
              "  120.65533,\n",
              "  121.795,\n",
              "  123.033,\n",
              "  124.049,\n",
              "  125.96116])"
            ]
          },
          "metadata": {},
          "execution_count": 9
        }
      ]
    },
    {
      "cell_type": "code",
      "source": [
        "# Plot from CSV\n",
        "import matplotlib.pyplot as plt\n",
        "plt.figure(figsize=(10, 7))\n",
        "plt.plot(timesteps, btc_price)\n",
        "plt.ylabel('BTC Price')\n",
        "plt.title('Price of Bitcoin from 1 Oct 2013 to 18 May 2021', fontsize=16)\n",
        "plt.xlabel('Date')"
      ],
      "metadata": {
        "colab": {
          "base_uri": "https://localhost:8080/",
          "height": 477
        },
        "id": "qBOzExKVH5MY",
        "outputId": "c1b73cf2-6324-4448-ba51-6770b1b01ef9"
      },
      "execution_count": 10,
      "outputs": [
        {
          "output_type": "execute_result",
          "data": {
            "text/plain": [
              "Text(0.5, 0, 'Date')"
            ]
          },
          "metadata": {},
          "execution_count": 10
        },
        {
          "output_type": "display_data",
          "data": {
            "text/plain": [
              "<Figure size 720x504 with 1 Axes>"
            ],
            "image/png": "[encoded data removed]"
          },
          "metadata": {
            "needs_background": "light"
          }
        }
      ]
    },
    {
      "cell_type": "markdown",
      "source": [
        "## Formatting data for time series problem"
      ],
      "metadata": {
        "id": "kDch2yFnKIUM"
      }
    },
    {
      "cell_type": "markdown",
      "source": [
        "### Creating train and test sets for time series data (the wrong way)"
      ],
      "metadata": {
        "id": "8mZmNjyCKNU8"
      }
    },
    {
      "cell_type": "code",
      "source": [
        "# Get Bitcoin date array\n",
        "\n",
        "timesteps = bitcoin_prices.index.to_numpy()\n",
        "prices = bitcoin_prices['Price'].to_numpy()\n",
        "\n",
        "timesteps[:10], prices[:10]"
      ],
      "metadata": {
        "colab": {
          "base_uri": "https://localhost:8080/"
        },
        "id": "DnfJTaXLIu9x",
        "outputId": "579c17d2-34cf-4b08-d090-30716af3aa10"
      },
      "execution_count": 11,
      "outputs": [
        {
          "output_type": "execute_result",
          "data": {
            "text/plain": [
              "(array(['2013-10-01T00:00:00.000000000', '2013-10-02T00:00:00.000000000',\n",
              "        '2013-10-03T00:00:00.000000000', '2013-10-04T00:00:00.000000000',\n",
              "        '2013-10-05T00:00:00.000000000', '2013-10-06T00:00:00.000000000',\n",
              "        '2013-10-07T00:00:00.000000000', '2013-10-08T00:00:00.000000000',\n",
              "        '2013-10-09T00:00:00.000000000', '2013-10-10T00:00:00.000000000'],\n",
              "       dtype='datetime64[ns]'),\n",
              " array([123.65499, 125.455  , 108.58483, 118.67466, 121.33866, 120.65533,\n",
              "        121.795  , 123.033  , 124.049  , 125.96116]))"
            ]
          },
          "metadata": {},
          "execution_count": 11
        }
      ]
    },
    {
      "cell_type": "code",
      "source": [
        "# Wrong way to make train test split\n",
        "\n",
        "from sklearn.model_selection import train_test_split\n",
        "X_train, X_test, y_train, y_test = train_test_split(timesteps,\n",
        "                                                    prices,\n",
        "                                                    test_size=0.2,\n",
        "                                                    random_state=42)\n",
        "X_train.shape, X_test.shape, y_train.shape, y_test.shape"
      ],
      "metadata": {
        "colab": {
          "base_uri": "https://localhost:8080/"
        },
        "id": "vqlUhjJULTK3",
        "outputId": "c74235f4-1042-4e9f-e13b-2953f3d4abb7"
      },
      "execution_count": 12,
      "outputs": [
        {
          "output_type": "execute_result",
          "data": {
            "text/plain": [
              "((2229,), (558,), (2229,), (558,))"
            ]
          },
          "metadata": {},
          "execution_count": 12
        }
      ]
    },
    {
      "cell_type": "code",
      "source": [
        "# Plotting wrong train and test splits\n",
        "\n",
        "plt.figure(figsize=(10, 7))\n",
        "plt.scatter(X_train, y_train, s=5, label='Train data')\n",
        "plt.scatter(X_test, y_test, s=5, label='Test data')\n",
        "plt.xlabel('Date')\n",
        "plt.ylabel('BTC Price')\n",
        "plt.legend(fontsize=14)\n",
        "plt.show()"
      ],
      "metadata": {
        "colab": {
          "base_uri": "https://localhost:8080/",
          "height": 442
        },
        "id": "AT8nCaLAMAev",
        "outputId": "a622d870-9163-4fb6-eb6f-e237104aab1e"
      },
      "execution_count": 13,
      "outputs": [
        {
          "output_type": "display_data",
          "data": {
            "text/plain": [
              "<Figure size 720x504 with 1 Axes>"
            ],
            "image/png": "[encoded data removed]"
          },
          "metadata": {
            "needs_background": "light"
          }
        }
      ]
    },
    {
      "cell_type": "markdown",
      "source": [
        "### Creating train and test sets for time series data (the right way)"
      ],
      "metadata": {
        "id": "zlqfQuVxOLez"
      }
    },
    {
      "cell_type": "code",
      "source": [
        "split_size = int(0.8 * len(prices))\n",
        "\n",
        "X_train, y_train = timesteps[0:split_size], prices[:split_size]\n",
        "\n",
        "X_test, y_test = timesteps[split_size:], prices[split_size:]\n",
        "\n",
        "len(X_train), len(X_test), len(y_train), len(y_test)"
      ],
      "metadata": {
        "colab": {
          "base_uri": "https://localhost:8080/"
        },
        "id": "gV8dMGg5M5zk",
        "outputId": "6f2c5f43-0f56-409d-8a08-fd4d15f12993"
      },
      "execution_count": 14,
      "outputs": [
        {
          "output_type": "execute_result",
          "data": {
            "text/plain": [
              "(2229, 558, 2229, 558)"
            ]
          },
          "metadata": {},
          "execution_count": 14
        }
      ]
    },
    {
      "cell_type": "code",
      "source": [
        "# Plot correctly made splits\n",
        "\n",
        "plt.figure(figsize=(10, 7))\n",
        "plt.scatter(X_train, y_train, s=5, label='Train data')\n",
        "plt.scatter(X_test, y_test, s=5, label='Test data')\n",
        "plt.xlabel('Date')\n",
        "plt.ylabel('BTC Price')\n",
        "plt.legend(fontsize=14)\n",
        "plt.show()"
      ],
      "metadata": {
        "colab": {
          "base_uri": "https://localhost:8080/",
          "height": 442
        },
        "id": "xiFfNRa8PF6S",
        "outputId": "692e8bbe-8c03-43a1-e8a3-f84e3d68f463"
      },
      "execution_count": 15,
      "outputs": [
        {
          "output_type": "display_data",
          "data": {
            "text/plain": [
              "<Figure size 720x504 with 1 Axes>"
            ],
            "image/png": "[encoded data removed]"
          },
          "metadata": {
            "needs_background": "light"
          }
        }
      ]
    },
    {
      "cell_type": "markdown",
      "source": [
        "### Creating a plotting function"
      ],
      "metadata": {
        "id": "QZIaqB4fP5f-"
      }
    },
    {
      "cell_type": "code",
      "source": [
        "def plot_time_series(timesteps, values, format='.', start=0, end=None, label=None):\n",
        "  plt.plot(timesteps[start:end], values[start:end], format, label=label)\n",
        "  plt.xlabel('Time')\n",
        "  plt.ylabel('BTC Price')\n",
        "  if label:\n",
        "    plt.legend(fontsize=14)\n",
        "  plt.grid(True) "
      ],
      "metadata": {
        "id": "bOQp_MxvP0R7"
      },
      "execution_count": 16,
      "outputs": []
    },
    {
      "cell_type": "code",
      "source": [
        "# Try out our plotting function\n",
        "\n",
        "plt.figure(figsize=(10, 7))\n",
        "plot_time_series(timesteps=X_train, values=y_train, label='Train data')\n",
        "plot_time_series(timesteps=X_test, values=y_test, label='Test data')"
      ],
      "metadata": {
        "colab": {
          "base_uri": "https://localhost:8080/",
          "height": 442
        },
        "id": "NxSMbI3GRaVW",
        "outputId": "4b00261f-fc42-4c74-ebfb-7624e17468cb"
      },
      "execution_count": 17,
      "outputs": [
        {
          "output_type": "display_data",
          "data": {
            "text/plain": [
              "<Figure size 720x504 with 1 Axes>"
            ],
            "image/png": "[encoded data removed]"
          },
          "metadata": {
            "needs_background": "light"
          }
        }
      ]
    },
    {
      "cell_type": "markdown",
      "source": [
        "## Modelling Experiments"
      ],
      "metadata": {
        "id": "BfgMr9kUb5mH"
      }
    },
    {
      "cell_type": "markdown",
      "source": [
        "### Model 0: Naive Forecast (baseline)"
      ],
      "metadata": {
        "id": "rpB-eC7ob87b"
      }
    },
    {
      "cell_type": "code",
      "source": [
        "# Create a naive forecast\n",
        "\n",
        "naive_forecast = y_test[:-1]\n",
        "naive_forecast[:10], naive_forecast[-10:]"
      ],
      "metadata": {
        "id": "pmwXESXCR4W5",
        "colab": {
          "base_uri": "https://localhost:8080/"
        },
        "outputId": "4fff3da1-ac63-4c26-80a2-6a71c6e46842"
      },
      "execution_count": 18,
      "outputs": [
        {
          "output_type": "execute_result",
          "data": {
            "text/plain": [
              "(array([9226.48582088, 8794.35864452, 8798.04205463, 9081.18687849,\n",
              "        8711.53433917, 8760.89271814, 8749.52059102, 8656.97092235,\n",
              "        8500.64355816, 8469.2608989 ]),\n",
              " array([57107.12067189, 58788.20967893, 58102.19142623, 55715.54665129,\n",
              "        56573.5554719 , 52147.82118698, 49764.1320816 , 50032.69313676,\n",
              "        47885.62525472, 45604.61575361]))"
            ]
          },
          "metadata": {},
          "execution_count": 18
        }
      ]
    },
    {
      "cell_type": "code",
      "source": [
        "# Plot naive forecast\n",
        "\n",
        "plt.figure(figsize=(10, 7))\n",
        "plot_time_series(timesteps=X_train, values=y_train, label='Train data')\n",
        "plot_time_series(timesteps=X_test, values=y_test, label='Test data')\n",
        "plot_time_series(timesteps=X_test[1:], values=naive_forecast, label='Naive Forecast')"
      ],
      "metadata": {
        "colab": {
          "base_uri": "https://localhost:8080/",
          "height": 442
        },
        "id": "o0SYgJp0c7iJ",
        "outputId": "29622e37-a012-4724-8066-bbc0d1db3adf"
      },
      "execution_count": 19,
      "outputs": [
        {
          "output_type": "display_data",
          "data": {
            "text/plain": [
              "<Figure size 720x504 with 1 Axes>"
            ],
            "image/png": "[encoded data removed]"
          },
          "metadata": {
            "needs_background": "light"
          }
        }
      ]
    },
    {
      "cell_type": "code",
      "source": [
        "# Zooming in the plot\n",
        "\n",
        "plt.figure(figsize=(10, 7))\n",
        "offset = 300\n",
        "plot_time_series(timesteps=X_test, values=y_test, start=offset, label='Test data')\n",
        "plot_time_series(timesteps=X_test[1:], values=naive_forecast, start=offset, format='-', label='Naive forecast')\n"
      ],
      "metadata": {
        "colab": {
          "base_uri": "https://localhost:8080/",
          "height": 442
        },
        "id": "0oTrV_iKeDJG",
        "outputId": "78fa37ac-fe99-4368-9c56-6cc7dd3e0dc5"
      },
      "execution_count": 20,
      "outputs": [
        {
          "output_type": "display_data",
          "data": {
            "text/plain": [
              "<Figure size 720x504 with 1 Axes>"
            ],
            "image/png": "[encoded data removed]"
          },
          "metadata": {
            "needs_background": "light"
          }
        }
      ]
    },
    {
      "cell_type": "markdown",
      "source": [
        "### Evaluating a time series model"
      ],
      "metadata": {
        "id": "sanRTmVuf1Nn"
      }
    },
    {
      "cell_type": "code",
      "source": [
        "import tensorflow as tf"
      ],
      "metadata": {
        "id": "OvW8fMQ4faf-"
      },
      "execution_count": 21,
      "outputs": []
    },
    {
      "cell_type": "code",
      "source": [
        "# Create a function to calculate MASE (mean absolute scaled error)\n",
        "\n",
        "def mean_absolute_scaled_error(y_true, y_pred):\n",
        "  \n",
        "  mae = tf.reduce_mean(tf.abs(y_true - y_pred))\n",
        "  mae_naive_no_season = tf.reduce_mean(tf.abs(y_true[1:]-y_true[:-1]))\n",
        "  \n",
        "  return mae/mae_naive_no_season"
      ],
      "metadata": {
        "id": "QM1clImrhVrn"
      },
      "execution_count": 22,
      "outputs": []
    },
    {
      "cell_type": "code",
      "source": [
        "# Create a function to calculate results (predictions)\n",
        "\n",
        "def evaluate_preds(y_true, y_pred):\n",
        "\n",
        "  y_true = tf.cast(y_true, dtype=tf.float32)\n",
        "  y_pred = tf.cast(y_pred, dtype=tf.float32)\n",
        "\n",
        "  mae = tf.keras.metrics.mean_absolute_error(y_true, y_pred)\n",
        "  mape = tf.keras.metrics.mean_absolute_percentage_error(y_true, y_pred)\n",
        "  mse = tf.keras.metrics.mean_squared_error(y_true, y_pred)\n",
        "  rmse = tf.sqrt(mse)\n",
        "  mase = mean_absolute_scaled_error(y_true, y_pred)\n",
        "\n",
        "  return {\"mae\": mae.numpy(),\n",
        "          \"mse\": mse.numpy(),\n",
        "          \"rmse\": rmse.numpy(),\n",
        "          \"mape\": mape.numpy(),\n",
        "          \"mase\": mase.numpy()}"
      ],
      "metadata": {
        "id": "XBtQtFGOiLrB"
      },
      "execution_count": 23,
      "outputs": []
    },
    {
      "cell_type": "code",
      "source": [
        "naive_results = evaluate_preds(y_true=y_test[1:], y_pred=naive_forecast)\n",
        "naive_results"
      ],
      "metadata": {
        "colab": {
          "base_uri": "https://localhost:8080/"
        },
        "id": "x7es2RpTkshz",
        "outputId": "56379ba3-6541-4131-c708-24768216df43"
      },
      "execution_count": 24,
      "outputs": [
        {
          "output_type": "execute_result",
          "data": {
            "text/plain": [
              "{'mae': 567.9802,\n",
              " 'mse': 1147547.0,\n",
              " 'rmse': 1071.2362,\n",
              " 'mape': 2.516525,\n",
              " 'mase': 0.99957}"
            ]
          },
          "metadata": {},
          "execution_count": 24
        }
      ]
    },
    {
      "cell_type": "markdown",
      "source": [
        "### Other models/libraries for time series forecasting\n",
        "  * Moving average\n",
        "  * ARIMA (AutoRegression Integrated Moving Average)\n",
        "  * Sktime (Scikit-learn for time series)\n",
        "  * TensorFlow Decision Forecasts (random forest, gradient boosting trees)\n",
        "  * Facebook Kats (purpose built forecasting and time series analysis library by facebook)\n",
        "  * LinkedIn Greykite (flexible, intuitive and fast forecasts)\n"
      ],
      "metadata": {
        "id": "TV-DO7-MluR4"
      }
    },
    {
      "cell_type": "markdown",
      "source": [
        "### Windowing dataset"
      ],
      "metadata": {
        "id": "I22RSH9sn3ln"
      }
    },
    {
      "cell_type": "code",
      "source": [
        "HORIZON = 1           # Predict 1 step at a time\n",
        "WINDOW_SIZE = 7       # Use a week worth of timestamps to predict the horizon"
      ],
      "metadata": {
        "id": "a70thobTlPuh"
      },
      "execution_count": 25,
      "outputs": []
    },
    {
      "cell_type": "code",
      "source": [
        "# Create a function to label windowed data\n",
        "\n",
        "def get_labelled_windows(x, horizon=1):\n",
        "\n",
        "  return x[:,:-horizon], x[:,-horizon:]"
      ],
      "metadata": {
        "id": "VPKDC6yciCQY"
      },
      "execution_count": 26,
      "outputs": []
    },
    {
      "cell_type": "code",
      "source": [
        "# Test out the window labelling function\n",
        "\n",
        "test_window, test_label = get_labelled_windows(tf.expand_dims(tf.range(8)+1, axis=0), horizon=HORIZON)\n",
        "print(f\"Window: {test_window} -> Label: {test_label}\")"
      ],
      "metadata": {
        "colab": {
          "base_uri": "https://localhost:8080/"
        },
        "id": "IUX9-nrCigQh",
        "outputId": "96cdb682-40d1-44cb-c254-7b89c4b85997"
      },
      "execution_count": 27,
      "outputs": [
        {
          "output_type": "stream",
          "name": "stdout",
          "text": [
            "Window: [[1 2 3 4 5 6 7]] -> Label: [[8]]\n"
          ]
        }
      ]
    },
    {
      "cell_type": "code",
      "source": [
        "# Create a function to view NumPy arrays as windows\n",
        "\n",
        "def make_windows(x, window_size=7, horizon=1):\n",
        "\n",
        "  # 1. Create a window of specific window size (add the horizon on the end for later labelling)\n",
        "  window_step = np.expand_dims(np.arange(window_size+horizon), axis=0)\n",
        "\n",
        "  # 2. Create a 2D array of multiple window steps (minus 1 to account for zero indexing)\n",
        "  window_indexes = window_step + np.expand_dims(np.arange(len(x) - (window_size+horizon-1)), axis=0).T\n",
        "\n",
        "  # 3. Index on the target array (time series) with 2D array of multiple window steps\n",
        "  windowed_array = x[window_indexes]\n",
        "\n",
        "  # 4. Get the labelled windows\n",
        "  windows, labels = get_labelled_windows(windowed_array, horizon=horizon)\n",
        "\n",
        "  return windows, labels"
      ],
      "metadata": {
        "id": "gpxsb2UFjMnm"
      },
      "execution_count": 28,
      "outputs": []
    },
    {
      "cell_type": "code",
      "source": [
        "full_windows, full_labels = make_windows(prices, window_size=WINDOW_SIZE, horizon=HORIZON)\n",
        "len(full_windows), len(full_labels)"
      ],
      "metadata": {
        "colab": {
          "base_uri": "https://localhost:8080/"
        },
        "id": "_5vi0FoVmn6E",
        "outputId": "d35a7fc8-f67e-4459-b39b-be2a1ecf3b14"
      },
      "execution_count": 29,
      "outputs": [
        {
          "output_type": "execute_result",
          "data": {
            "text/plain": [
              "(2780, 2780)"
            ]
          },
          "metadata": {},
          "execution_count": 29
        }
      ]
    },
    {
      "cell_type": "code",
      "source": [
        "# View the first three windows/labels\n",
        "\n",
        "for i in range(3):\n",
        "  print(f\"Window: {full_windows[i]} -> Label: {full_labels[i]}\")"
      ],
      "metadata": {
        "colab": {
          "base_uri": "https://localhost:8080/"
        },
        "id": "3cp-Yq6Kodhs",
        "outputId": "58c28edc-f43d-4ba3-9919-a9414be936c3"
      },
      "execution_count": 30,
      "outputs": [
        {
          "output_type": "stream",
          "name": "stdout",
          "text": [
            "Window: [123.65499 125.455   108.58483 118.67466 121.33866 120.65533 121.795  ] -> Label: [123.033]\n",
            "Window: [125.455   108.58483 118.67466 121.33866 120.65533 121.795   123.033  ] -> Label: [124.049]\n",
            "Window: [108.58483 118.67466 121.33866 120.65533 121.795   123.033   124.049  ] -> Label: [125.96116]\n"
          ]
        }
      ]
    },
    {
      "cell_type": "markdown",
      "source": [
        "### Turning windows into training and test sets"
      ],
      "metadata": {
        "id": "L1GLRpXNplZa"
      }
    },
    {
      "cell_type": "code",
      "source": [
        "# Make the train test split\n",
        "\n",
        "def make_train_test_split(windows, labels, test_split=0.2):\n",
        "\n",
        "  split_size = int(len(windows) * (1-test_split))\n",
        "  train_windows = windows[:split_size]\n",
        "  train_labels = labels[:split_size]\n",
        "  test_windows = windows[split_size:]\n",
        "  test_labels = labels[split_size:]\n",
        "\n",
        "  return train_windows, test_windows, train_labels, test_labels"
      ],
      "metadata": {
        "id": "Z_Lz-h6HpRke"
      },
      "execution_count": 31,
      "outputs": []
    },
    {
      "cell_type": "code",
      "source": [
        "train_windows, test_windows, train_labels, test_labels = make_train_test_split(full_windows, full_labels)\n",
        "len(train_windows), len(test_windows), len(train_labels), len(test_labels)"
      ],
      "metadata": {
        "colab": {
          "base_uri": "https://localhost:8080/"
        },
        "id": "TJwMFnKArrGT",
        "outputId": "60904de7-2f06-4182-8a4e-da925a6ed840"
      },
      "execution_count": 32,
      "outputs": [
        {
          "output_type": "execute_result",
          "data": {
            "text/plain": [
              "(2224, 556, 2224, 556)"
            ]
          },
          "metadata": {},
          "execution_count": 32
        }
      ]
    },
    {
      "cell_type": "code",
      "source": [
        "train_windows[:5], train_labels[:5]"
      ],
      "metadata": {
        "colab": {
          "base_uri": "https://localhost:8080/"
        },
        "id": "mdae9nPmr-TP",
        "outputId": "15f04d52-3ea5-474f-c086-eca7342c0d86"
      },
      "execution_count": 33,
      "outputs": [
        {
          "output_type": "execute_result",
          "data": {
            "text/plain": [
              "(array([[123.65499, 125.455  , 108.58483, 118.67466, 121.33866, 120.65533,\n",
              "         121.795  ],\n",
              "        [125.455  , 108.58483, 118.67466, 121.33866, 120.65533, 121.795  ,\n",
              "         123.033  ],\n",
              "        [108.58483, 118.67466, 121.33866, 120.65533, 121.795  , 123.033  ,\n",
              "         124.049  ],\n",
              "        [118.67466, 121.33866, 120.65533, 121.795  , 123.033  , 124.049  ,\n",
              "         125.96116],\n",
              "        [121.33866, 120.65533, 121.795  , 123.033  , 124.049  , 125.96116,\n",
              "         125.27966]]), array([[123.033  ],\n",
              "        [124.049  ],\n",
              "        [125.96116],\n",
              "        [125.27966],\n",
              "        [125.9275 ]]))"
            ]
          },
          "metadata": {},
          "execution_count": 33
        }
      ]
    },
    {
      "cell_type": "markdown",
      "source": [
        "### Make modelling checkpoint"
      ],
      "metadata": {
        "id": "TgtlgPZPsjEu"
      }
    },
    {
      "cell_type": "code",
      "source": [
        "import os\n",
        "\n",
        "# Create a function ti implement model checkpoint callback with a specific filename\n",
        "\n",
        "def create_model_checkpoint(model_name, save_path=\"model_experiments\"):\n",
        "  \n",
        "  return tf.keras.callbacks.ModelCheckpoint(filepath=os.path.join(save_path, model_name),\n",
        "                                            verbose=0,\n",
        "                                            save_best_only=True)"
      ],
      "metadata": {
        "id": "qFXvvNMYslwM"
      },
      "execution_count": 34,
      "outputs": []
    },
    {
      "cell_type": "markdown",
      "source": [
        "### Model 1: Dense model (window = 7, horizon = 1)"
      ],
      "metadata": {
        "id": "Z9baqLMTd2nL"
      }
    },
    {
      "cell_type": "code",
      "source": [
        "import tensorflow as tf\n",
        "from tensorflow.keras import layers\n",
        "\n",
        "# Set seed\n",
        "tf.random.set_seed(42)\n",
        "\n",
        "# Construct model\n",
        "model_1 = tf.keras.Sequential([\n",
        "    layers.Dense(128, activation=\"relu\"),\n",
        "    layers.Dense(HORIZON, activation=\"linear\")\n",
        "], name=\"model_1_dense\")\n",
        "\n",
        "# Compile model\n",
        "model_1.compile(loss=\"mae\",\n",
        "                optimizer=tf.keras.optimizers.Adam(),\n",
        "                metrics=[\"mae\"])\n",
        "\n",
        "# Fit model\n",
        "model_1.fit(x=train_windows,\n",
        "            y=train_labels,\n",
        "            epochs=100,\n",
        "            verbose=1,\n",
        "            batch_size=128,\n",
        "            validation_data=(test_windows, test_labels),\n",
        "            callbacks=[create_model_checkpoint(model_name=model_1.name)])"
      ],
      "metadata": {
        "colab": {
          "base_uri": "https://localhost:8080/"
        },
        "id": "N3JjZ0mzu6_9",
        "outputId": "5284e9fb-4636-4db4-a9ab-a02d9b898134"
      },
      "execution_count": 35,
      "outputs": [
        {
          "output_type": "stream",
          "name": "stdout",
          "text": [
            "Epoch 1/100\n",
            " 1/18 [>.............................] - ETA: 1:45 - loss: 1000.3937 - mae: 1000.3937"
          ]
        },
        {
          "output_type": "stream",
          "name": "stderr",
          "text": [
            "WARNING:absl:Found untraced functions such as _update_step_xla while saving (showing 1 of 1). These functions will not be directly callable after loading.\n"
          ]
        },
        {
          "output_type": "stream",
          "name": "stdout",
          "text": [
            "\b\b\b\b\b\b\b\b\b\b\b\b\b\b\b\b\b\b\b\b\b\b\b\b\b\b\b\b\b\b\b\b\b\b\b\b\b\b\b\b\b\b\b\b\b\b\b\b\b\b\b\b\b\b\b\b\b\b\b\b\b\b\b\b\b\b\b\b\b\b\b\b\b\b\b\b\b\b\b\b\b\b\b\b\b\r18/18 [==============================] - 7s 74ms/step - loss: 356.0833 - mae: 356.0833 - val_loss: 1682.2142 - val_mae: 1682.2142\n",
            "Epoch 2/100\n",
            " 1/18 [>.............................] - ETA: 0s - loss: 216.7373 - mae: 216.7373"
          ]
        },
        {
          "output_type": "stream",
          "name": "stderr",
          "text": [
            "WARNING:absl:Found untraced functions such as _update_step_xla while saving (showing 1 of 1). These functions will not be directly callable after loading.\n"
          ]
        },
        {
          "output_type": "stream",
          "name": "stdout",
          "text": [
            "\b\b\b\b\b\b\b\b\b\b\b\b\b\b\b\b\b\b\b\b\b\b\b\b\b\b\b\b\b\b\b\b\b\b\b\b\b\b\b\b\b\b\b\b\b\b\b\b\b\b\b\b\b\b\b\b\b\b\b\b\b\b\b\b\b\b\b\b\b\b\b\b\b\b\b\b\b\b\b\b\b\r18/18 [==============================] - 1s 40ms/step - loss: 194.9924 - mae: 194.9924 - val_loss: 943.2106 - val_mae: 943.2106\n",
            "Epoch 3/100\n",
            "18/18 [==============================] - 0s 14ms/step - loss: 165.5934 - mae: 165.5934 - val_loss: 983.7570 - val_mae: 983.7570\n",
            "Epoch 4/100\n",
            "18/18 [==============================] - 0s 15ms/step - loss: 165.1729 - mae: 165.1729 - val_loss: 973.2968 - val_mae: 973.2968\n",
            "Epoch 5/100\n",
            "13/18 [====================>.........] - ETA: 0s - loss: 161.6020 - mae: 161.6020"
          ]
        },
        {
          "output_type": "stream",
          "name": "stderr",
          "text": [
            "WARNING:absl:Found untraced functions such as _update_step_xla while saving (showing 1 of 1). These functions will not be directly callable after loading.\n"
          ]
        },
        {
          "output_type": "stream",
          "name": "stdout",
          "text": [
            "\b\b\b\b\b\b\b\b\b\b\b\b\b\b\b\b\b\b\b\b\b\b\b\b\b\b\b\b\b\b\b\b\b\b\b\b\b\b\b\b\b\b\b\b\b\b\b\b\b\b\b\b\b\b\b\b\b\b\b\b\b\b\b\b\b\b\b\b\b\b\b\b\b\b\b\b\b\b\b\b\b\r18/18 [==============================] - 2s 96ms/step - loss: 158.6634 - mae: 158.6634 - val_loss: 870.7419 - val_mae: 870.7420\n",
            "Epoch 6/100\n",
            "18/18 [==============================] - 0s 15ms/step - loss: 154.0160 - mae: 154.0160 - val_loss: 907.6194 - val_mae: 907.6194\n",
            "Epoch 7/100\n",
            " 9/18 [==============>...............] - ETA: 0s - loss: 162.1352 - mae: 162.1352"
          ]
        },
        {
          "output_type": "stream",
          "name": "stderr",
          "text": [
            "WARNING:absl:Found untraced functions such as _update_step_xla while saving (showing 1 of 1). These functions will not be directly callable after loading.\n"
          ]
        },
        {
          "output_type": "stream",
          "name": "stdout",
          "text": [
            "\b\b\b\b\b\b\b\b\b\b\b\b\b\b\b\b\b\b\b\b\b\b\b\b\b\b\b\b\b\b\b\b\b\b\b\b\b\b\b\b\b\b\b\b\b\b\b\b\b\b\b\b\b\b\b\b\b\b\b\b\b\b\b\b\b\b\b\b\b\b\b\b\b\b\b\b\b\b\b\b\b\r18/18 [==============================] - 1s 55ms/step - loss: 148.1245 - mae: 148.1245 - val_loss: 852.3058 - val_mae: 852.3058\n",
            "Epoch 8/100\n",
            " 1/18 [>.............................] - ETA: 0s - loss: 132.1920 - mae: 132.1920"
          ]
        },
        {
          "output_type": "stream",
          "name": "stderr",
          "text": [
            "WARNING:absl:Found untraced functions such as _update_step_xla while saving (showing 1 of 1). These functions will not be directly callable after loading.\n"
          ]
        },
        {
          "output_type": "stream",
          "name": "stdout",
          "text": [
            "\b\b\b\b\b\b\b\b\b\b\b\b\b\b\b\b\b\b\b\b\b\b\b\b\b\b\b\b\b\b\b\b\b\b\b\b\b\b\b\b\b\b\b\b\b\b\b\b\b\b\b\b\b\b\b\b\b\b\b\b\b\b\b\b\b\b\b\b\b\b\b\b\b\b\b\b\b\b\b\b\b\r18/18 [==============================] - 1s 35ms/step - loss: 143.0608 - mae: 143.0608 - val_loss: 770.0879 - val_mae: 770.0879\n",
            "Epoch 9/100\n",
            " 9/18 [==============>...............] - ETA: 0s - loss: 142.4829 - mae: 142.4829"
          ]
        },
        {
          "output_type": "stream",
          "name": "stderr",
          "text": [
            "WARNING:absl:Found untraced functions such as _update_step_xla while saving (showing 1 of 1). These functions will not be directly callable after loading.\n"
          ]
        },
        {
          "output_type": "stream",
          "name": "stdout",
          "text": [
            "\b\b\b\b\b\b\b\b\b\b\b\b\b\b\b\b\b\b\b\b\b\b\b\b\b\b\b\b\b\b\b\b\b\b\b\b\b\b\b\b\b\b\b\b\b\b\b\b\b\b\b\b\b\b\b\b\b\b\b\b\b\b\b\b\b\b\b\b\b\b\b\b\b\b\b\b\b\b\b\b\b\r18/18 [==============================] - 1s 52ms/step - loss: 141.6586 - mae: 141.6586 - val_loss: 756.6910 - val_mae: 756.6910\n",
            "Epoch 10/100\n",
            "18/18 [==============================] - 0s 8ms/step - loss: 141.7242 - mae: 141.7242 - val_loss: 787.7088 - val_mae: 787.7088\n",
            "Epoch 11/100\n",
            "10/18 [===============>..............] - ETA: 0s - loss: 140.8960 - mae: 140.8960"
          ]
        },
        {
          "output_type": "stream",
          "name": "stderr",
          "text": [
            "WARNING:absl:Found untraced functions such as _update_step_xla while saving (showing 1 of 1). These functions will not be directly callable after loading.\n"
          ]
        },
        {
          "output_type": "stream",
          "name": "stdout",
          "text": [
            "\b\b\b\b\b\b\b\b\b\b\b\b\b\b\b\b\b\b\b\b\b\b\b\b\b\b\b\b\b\b\b\b\b\b\b\b\b\b\b\b\b\b\b\b\b\b\b\b\b\b\b\b\b\b\b\b\b\b\b\b\b\b\b\b\b\b\b\b\b\b\b\b\b\b\b\b\b\b\b\b\b\r18/18 [==============================] - 1s 53ms/step - loss: 141.7720 - mae: 141.7720 - val_loss: 733.3040 - val_mae: 733.3040\n",
            "Epoch 12/100\n",
            "18/18 [==============================] - 0s 8ms/step - loss: 135.1459 - mae: 135.1459 - val_loss: 831.6082 - val_mae: 831.6082\n",
            "Epoch 13/100\n",
            "18/18 [==============================] - 0s 8ms/step - loss: 146.1356 - mae: 146.1356 - val_loss: 783.3598 - val_mae: 783.3598\n",
            "Epoch 14/100\n",
            "10/18 [===============>..............] - ETA: 0s - loss: 138.3138 - mae: 138.3138"
          ]
        },
        {
          "output_type": "stream",
          "name": "stderr",
          "text": [
            "WARNING:absl:Found untraced functions such as _update_step_xla while saving (showing 1 of 1). These functions will not be directly callable after loading.\n"
          ]
        },
        {
          "output_type": "stream",
          "name": "stdout",
          "text": [
            "\b\b\b\b\b\b\b\b\b\b\b\b\b\b\b\b\b\b\b\b\b\b\b\b\b\b\b\b\b\b\b\b\b\b\b\b\b\b\b\b\b\b\b\b\b\b\b\b\b\b\b\b\b\b\b\b\b\b\b\b\b\b\b\b\b\b\b\b\b\b\b\b\b\b\b\b\b\b\b\b\b\r18/18 [==============================] - 1s 50ms/step - loss: 137.9481 - mae: 137.9481 - val_loss: 701.5245 - val_mae: 701.5245\n",
            "Epoch 15/100\n",
            " 1/18 [>.............................] - ETA: 0s - loss: 132.3935 - mae: 132.3935"
          ]
        },
        {
          "output_type": "stream",
          "name": "stderr",
          "text": [
            "WARNING:absl:Found untraced functions such as _update_step_xla while saving (showing 1 of 1). These functions will not be directly callable after loading.\n"
          ]
        },
        {
          "output_type": "stream",
          "name": "stdout",
          "text": [
            "\b\b\b\b\b\b\b\b\b\b\b\b\b\b\b\b\b\b\b\b\b\b\b\b\b\b\b\b\b\b\b\b\b\b\b\b\b\b\b\b\b\b\b\b\b\b\b\b\b\b\b\b\b\b\b\b\b\b\b\b\b\b\b\b\b\b\b\b\b\b\b\b\b\b\b\b\b\b\b\b\b\r18/18 [==============================] - 1s 45ms/step - loss: 136.6510 - mae: 136.6510 - val_loss: 699.7080 - val_mae: 699.7080\n",
            "Epoch 16/100\n",
            "11/18 [=================>............] - ETA: 0s - loss: 128.3439 - mae: 128.3439"
          ]
        },
        {
          "output_type": "stream",
          "name": "stderr",
          "text": [
            "WARNING:absl:Found untraced functions such as _update_step_xla while saving (showing 1 of 1). These functions will not be directly callable after loading.\n"
          ]
        },
        {
          "output_type": "stream",
          "name": "stdout",
          "text": [
            "\b\b\b\b\b\b\b\b\b\b\b\b\b\b\b\b\b\b\b\b\b\b\b\b\b\b\b\b\b\b\b\b\b\b\b\b\b\b\b\b\b\b\b\b\b\b\b\b\b\b\b\b\b\b\b\b\b\b\b\b\b\b\b\b\b\b\b\b\b\b\b\b\b\b\b\b\b\b\b\b\b\r18/18 [==============================] - 1s 46ms/step - loss: 128.3218 - mae: 128.3218 - val_loss: 690.7531 - val_mae: 690.7531\n",
            "Epoch 17/100\n",
            " 1/18 [>.............................] - ETA: 0s - loss: 109.5218 - mae: 109.5218"
          ]
        },
        {
          "output_type": "stream",
          "name": "stderr",
          "text": [
            "WARNING:absl:Found untraced functions such as _update_step_xla while saving (showing 1 of 1). These functions will not be directly callable after loading.\n"
          ]
        },
        {
          "output_type": "stream",
          "name": "stdout",
          "text": [
            "\b\b\b\b\b\b\b\b\b\b\b\b\b\b\b\b\b\b\b\b\b\b\b\b\b\b\b\b\b\b\b\b\b\b\b\b\b\b\b\b\b\b\b\b\b\b\b\b\b\b\b\b\b\b\b\b\b\b\b\b\b\b\b\b\b\b\b\b\b\b\b\b\b\b\b\b\b\b\b\b\b\r18/18 [==============================] - 1s 41ms/step - loss: 127.5987 - mae: 127.5987 - val_loss: 690.1496 - val_mae: 690.1496\n",
            "Epoch 18/100\n",
            "16/18 [=========================>....] - ETA: 0s - loss: 129.0583 - mae: 129.0583"
          ]
        },
        {
          "output_type": "stream",
          "name": "stderr",
          "text": [
            "WARNING:absl:Found untraced functions such as _update_step_xla while saving (showing 1 of 1). These functions will not be directly callable after loading.\n"
          ]
        },
        {
          "output_type": "stream",
          "name": "stdout",
          "text": [
            "\b\b\b\b\b\b\b\b\b\b\b\b\b\b\b\b\b\b\b\b\b\b\b\b\b\b\b\b\b\b\b\b\b\b\b\b\b\b\b\b\b\b\b\b\b\b\b\b\b\b\b\b\b\b\b\b\b\b\b\b\b\b\b\b\b\b\b\b\b\b\b\b\b\b\b\b\b\b\b\b\b\r18/18 [==============================] - 2s 95ms/step - loss: 126.0175 - mae: 126.0175 - val_loss: 672.5667 - val_mae: 672.5667\n",
            "Epoch 19/100\n",
            "18/18 [==============================] - 0s 14ms/step - loss: 129.1051 - mae: 129.1051 - val_loss: 763.6337 - val_mae: 763.6337\n",
            "Epoch 20/100\n",
            "18/18 [==============================] - 0s 12ms/step - loss: 124.8071 - mae: 124.8071 - val_loss: 673.4790 - val_mae: 673.4790\n",
            "Epoch 21/100\n",
            "11/18 [=================>............] - ETA: 0s - loss: 129.0014 - mae: 129.0014"
          ]
        },
        {
          "output_type": "stream",
          "name": "stderr",
          "text": [
            "WARNING:absl:Found untraced functions such as _update_step_xla while saving (showing 1 of 1). These functions will not be directly callable after loading.\n"
          ]
        },
        {
          "output_type": "stream",
          "name": "stdout",
          "text": [
            "\b\b\b\b\b\b\b\b\b\b\b\b\b\b\b\b\b\b\b\b\b\b\b\b\b\b\b\b\b\b\b\b\b\b\b\b\b\b\b\b\b\b\b\b\b\b\b\b\b\b\b\b\b\b\b\b\b\b\b\b\b\b\b\b\b\b\b\b\b\b\b\b\b\b\b\b\b\b\b\b\b\r18/18 [==============================] - 1s 76ms/step - loss: 126.9613 - mae: 126.9613 - val_loss: 649.8799 - val_mae: 649.8799\n",
            "Epoch 22/100\n",
            "18/18 [==============================] - 0s 14ms/step - loss: 123.4308 - mae: 123.4308 - val_loss: 707.8129 - val_mae: 707.8129\n",
            "Epoch 23/100\n",
            "12/18 [===================>..........] - ETA: 0s - loss: 122.4381 - mae: 122.4381"
          ]
        },
        {
          "output_type": "stream",
          "name": "stderr",
          "text": [
            "WARNING:absl:Found untraced functions such as _update_step_xla while saving (showing 1 of 1). These functions will not be directly callable after loading.\n"
          ]
        },
        {
          "output_type": "stream",
          "name": "stdout",
          "text": [
            "\b\b\b\b\b\b\b\b\b\b\b\b\b\b\b\b\b\b\b\b\b\b\b\b\b\b\b\b\b\b\b\b\b\b\b\b\b\b\b\b\b\b\b\b\b\b\b\b\b\b\b\b\b\b\b\b\b\b\b\b\b\b\b\b\b\b\b\b\b\b\b\b\b\b\b\b\b\b\b\b\b\r18/18 [==============================] - 2s 114ms/step - loss: 125.0359 - mae: 125.0359 - val_loss: 639.6282 - val_mae: 639.6282\n",
            "Epoch 24/100\n",
            "12/18 [===================>..........] - ETA: 0s - loss: 123.9205 - mae: 123.9205"
          ]
        },
        {
          "output_type": "stream",
          "name": "stderr",
          "text": [
            "WARNING:absl:Found untraced functions such as _update_step_xla while saving (showing 1 of 1). These functions will not be directly callable after loading.\n"
          ]
        },
        {
          "output_type": "stream",
          "name": "stdout",
          "text": [
            "\b\b\b\b\b\b\b\b\b\b\b\b\b\b\b\b\b\b\b\b\b\b\b\b\b\b\b\b\b\b\b\b\b\b\b\b\b\b\b\b\b\b\b\b\b\b\b\b\b\b\b\b\b\b\b\b\b\b\b\b\b\b\b\b\b\b\b\b\b\b\b\b\b\b\b\b\b\b\b\b\b\r18/18 [==============================] - 1s 61ms/step - loss: 121.0560 - mae: 121.0560 - val_loss: 633.3692 - val_mae: 633.3692\n",
            "Epoch 25/100\n",
            "18/18 [==============================] - 0s 10ms/step - loss: 117.6929 - mae: 117.6929 - val_loss: 644.3737 - val_mae: 644.3737\n",
            "Epoch 26/100\n",
            "15/18 [========================>.....] - ETA: 0s - loss: 124.7914 - mae: 124.7914"
          ]
        },
        {
          "output_type": "stream",
          "name": "stderr",
          "text": [
            "WARNING:absl:Found untraced functions such as _update_step_xla while saving (showing 1 of 1). These functions will not be directly callable after loading.\n"
          ]
        },
        {
          "output_type": "stream",
          "name": "stdout",
          "text": [
            "\b\b\b\b\b\b\b\b\b\b\b\b\b\b\b\b\b\b\b\b\b\b\b\b\b\b\b\b\b\b\b\b\b\b\b\b\b\b\b\b\b\b\b\b\b\b\b\b\b\b\b\b\b\b\b\b\b\b\b\b\b\b\b\b\b\b\b\b\b\b\b\b\b\b\b\b\b\b\b\b\b\r18/18 [==============================] - 1s 52ms/step - loss: 122.2554 - mae: 122.2554 - val_loss: 623.3707 - val_mae: 623.3707\n",
            "Epoch 27/100\n",
            "13/18 [====================>.........] - ETA: 0s - loss: 125.9320 - mae: 125.9320"
          ]
        },
        {
          "output_type": "stream",
          "name": "stderr",
          "text": [
            "WARNING:absl:Found untraced functions such as _update_step_xla while saving (showing 1 of 1). These functions will not be directly callable after loading.\n"
          ]
        },
        {
          "output_type": "stream",
          "name": "stdout",
          "text": [
            "\b\b\b\b\b\b\b\b\b\b\b\b\b\b\b\b\b\b\b\b\b\b\b\b\b\b\b\b\b\b\b\b\b\b\b\b\b\b\b\b\b\b\b\b\b\b\b\b\b\b\b\b\b\b\b\b\b\b\b\b\b\b\b\b\b\b\b\b\b\b\b\b\b\b\b\b\b\b\b\b\b\r18/18 [==============================] - 1s 56ms/step - loss: 122.5484 - mae: 122.5484 - val_loss: 618.8157 - val_mae: 618.8157\n",
            "Epoch 28/100\n",
            "12/18 [===================>..........] - ETA: 0s - loss: 117.5261 - mae: 117.5261"
          ]
        },
        {
          "output_type": "stream",
          "name": "stderr",
          "text": [
            "WARNING:absl:Found untraced functions such as _update_step_xla while saving (showing 1 of 1). These functions will not be directly callable after loading.\n"
          ]
        },
        {
          "output_type": "stream",
          "name": "stdout",
          "text": [
            "\b\b\b\b\b\b\b\b\b\b\b\b\b\b\b\b\b\b\b\b\b\b\b\b\b\b\b\b\b\b\b\b\b\b\b\b\b\b\b\b\b\b\b\b\b\b\b\b\b\b\b\b\b\b\b\b\b\b\b\b\b\b\b\b\b\b\b\b\b\b\b\b\b\b\b\b\b\b\b\b\b\r18/18 [==============================] - 1s 62ms/step - loss: 116.2366 - mae: 116.2366 - val_loss: 615.4773 - val_mae: 615.4773\n",
            "Epoch 29/100\n",
            "18/18 [==============================] - 0s 12ms/step - loss: 114.5903 - mae: 114.5903 - val_loss: 624.0556 - val_mae: 624.0556\n",
            "Epoch 30/100\n",
            "18/18 [==============================] - 0s 12ms/step - loss: 122.4916 - mae: 122.4916 - val_loss: 618.9220 - val_mae: 618.9220\n",
            "Epoch 31/100\n",
            "10/18 [===============>..............] - ETA: 0s - loss: 112.9965 - mae: 112.9965"
          ]
        },
        {
          "output_type": "stream",
          "name": "stderr",
          "text": [
            "WARNING:absl:Found untraced functions such as _update_step_xla while saving (showing 1 of 1). These functions will not be directly callable after loading.\n"
          ]
        },
        {
          "output_type": "stream",
          "name": "stdout",
          "text": [
            "\b\b\b\b\b\b\b\b\b\b\b\b\b\b\b\b\b\b\b\b\b\b\b\b\b\b\b\b\b\b\b\b\b\b\b\b\b\b\b\b\b\b\b\b\b\b\b\b\b\b\b\b\b\b\b\b\b\b\b\b\b\b\b\b\b\b\b\b\b\b\b\b\b\b\b\b\b\b\b\b\b\r18/18 [==============================] - 1s 62ms/step - loss: 113.1570 - mae: 113.1570 - val_loss: 612.9691 - val_mae: 612.9691\n",
            "Epoch 32/100\n",
            "12/18 [===================>..........] - ETA: 0s - loss: 117.8666 - mae: 117.8666"
          ]
        },
        {
          "output_type": "stream",
          "name": "stderr",
          "text": [
            "WARNING:absl:Found untraced functions such as _update_step_xla while saving (showing 1 of 1). These functions will not be directly callable after loading.\n"
          ]
        },
        {
          "output_type": "stream",
          "name": "stdout",
          "text": [
            "\b\b\b\b\b\b\b\b\b\b\b\b\b\b\b\b\b\b\b\b\b\b\b\b\b\b\b\b\b\b\b\b\b\b\b\b\b\b\b\b\b\b\b\b\b\b\b\b\b\b\b\b\b\b\b\b\b\b\b\b\b\b\b\b\b\b\b\b\b\b\b\b\b\b\b\b\b\b\b\b\b\r18/18 [==============================] - 1s 56ms/step - loss: 113.5941 - mae: 113.5941 - val_loss: 608.2818 - val_mae: 608.2818\n",
            "Epoch 33/100\n",
            "18/18 [==============================] - 0s 10ms/step - loss: 116.0948 - mae: 116.0948 - val_loss: 679.0649 - val_mae: 679.0649\n",
            "Epoch 34/100\n",
            "11/18 [=================>............] - ETA: 0s - loss: 119.2103 - mae: 119.2103"
          ]
        },
        {
          "output_type": "stream",
          "name": "stderr",
          "text": [
            "WARNING:absl:Found untraced functions such as _update_step_xla while saving (showing 1 of 1). These functions will not be directly callable after loading.\n"
          ]
        },
        {
          "output_type": "stream",
          "name": "stdout",
          "text": [
            "\b\b\b\b\b\b\b\b\b\b\b\b\b\b\b\b\b\b\b\b\b\b\b\b\b\b\b\b\b\b\b\b\b\b\b\b\b\b\b\b\b\b\b\b\b\b\b\b\b\b\b\b\b\b\b\b\b\b\b\b\b\b\b\b\b\b\b\b\b\b\b\b\b\b\b\b\b\b\b\b\b\r18/18 [==============================] - 1s 60ms/step - loss: 114.4816 - mae: 114.4816 - val_loss: 595.9810 - val_mae: 595.9810\n",
            "Epoch 35/100\n",
            "18/18 [==============================] - 0s 7ms/step - loss: 111.5273 - mae: 111.5273 - val_loss: 628.8455 - val_mae: 628.8455\n",
            "Epoch 36/100\n",
            "18/18 [==============================] - 0s 8ms/step - loss: 116.7080 - mae: 116.7080 - val_loss: 596.2070 - val_mae: 596.2070\n",
            "Epoch 37/100\n",
            "14/18 [======================>.......] - ETA: 0s - loss: 113.3715 - mae: 113.3715"
          ]
        },
        {
          "output_type": "stream",
          "name": "stderr",
          "text": [
            "WARNING:absl:Found untraced functions such as _update_step_xla while saving (showing 1 of 1). These functions will not be directly callable after loading.\n"
          ]
        },
        {
          "output_type": "stream",
          "name": "stdout",
          "text": [
            "\b\b\b\b\b\b\b\b\b\b\b\b\b\b\b\b\b\b\b\b\b\b\b\b\b\b\b\b\b\b\b\b\b\b\b\b\b\b\b\b\b\b\b\b\b\b\b\b\b\b\b\b\b\b\b\b\b\b\b\b\b\b\b\b\b\b\b\b\b\b\b\b\b\b\b\b\b\b\b\b\b\r18/18 [==============================] - 1s 59ms/step - loss: 111.8351 - mae: 111.8351 - val_loss: 593.1260 - val_mae: 593.1260\n",
            "Epoch 38/100\n",
            "18/18 [==============================] - 0s 7ms/step - loss: 113.6868 - mae: 113.6868 - val_loss: 635.4493 - val_mae: 635.4493\n",
            "Epoch 39/100\n",
            "14/18 [======================>.......] - ETA: 0s - loss: 113.5209 - mae: 113.5209"
          ]
        },
        {
          "output_type": "stream",
          "name": "stderr",
          "text": [
            "WARNING:absl:Found untraced functions such as _update_step_xla while saving (showing 1 of 1). These functions will not be directly callable after loading.\n"
          ]
        },
        {
          "output_type": "stream",
          "name": "stdout",
          "text": [
            "\b\b\b\b\b\b\b\b\b\b\b\b\b\b\b\b\b\b\b\b\b\b\b\b\b\b\b\b\b\b\b\b\b\b\b\b\b\b\b\b\b\b\b\b\b\b\b\b\b\b\b\b\b\b\b\b\b\b\b\b\b\b\b\b\b\b\b\b\b\b\b\b\b\b\b\b\b\b\b\b\b\r18/18 [==============================] - 1s 74ms/step - loss: 110.8291 - mae: 110.8291 - val_loss: 585.0121 - val_mae: 585.0121\n",
            "Epoch 40/100\n",
            "13/18 [====================>.........] - ETA: 0s - loss: 110.9978 - mae: 110.9978"
          ]
        },
        {
          "output_type": "stream",
          "name": "stderr",
          "text": [
            "WARNING:absl:Found untraced functions such as _update_step_xla while saving (showing 1 of 1). These functions will not be directly callable after loading.\n"
          ]
        },
        {
          "output_type": "stream",
          "name": "stdout",
          "text": [
            "\b\b\b\b\b\b\b\b\b\b\b\b\b\b\b\b\b\b\b\b\b\b\b\b\b\b\b\b\b\b\b\b\b\b\b\b\b\b\b\b\b\b\b\b\b\b\b\b\b\b\b\b\b\b\b\b\b\b\b\b\b\b\b\b\b\b\b\b\b\b\b\b\b\b\b\b\b\b\b\b\b\r18/18 [==============================] - 2s 117ms/step - loss: 109.7410 - mae: 109.7410 - val_loss: 582.0229 - val_mae: 582.0229\n",
            "Epoch 41/100\n",
            "13/18 [====================>.........] - ETA: 0s - loss: 112.2138 - mae: 112.2138"
          ]
        },
        {
          "output_type": "stream",
          "name": "stderr",
          "text": [
            "WARNING:absl:Found untraced functions such as _update_step_xla while saving (showing 1 of 1). These functions will not be directly callable after loading.\n"
          ]
        },
        {
          "output_type": "stream",
          "name": "stdout",
          "text": [
            "\b\b\b\b\b\b\b\b\b\b\b\b\b\b\b\b\b\b\b\b\b\b\b\b\b\b\b\b\b\b\b\b\b\b\b\b\b\b\b\b\b\b\b\b\b\b\b\b\b\b\b\b\b\b\b\b\b\b\b\b\b\b\b\b\b\b\b\b\b\b\b\b\b\b\b\b\b\b\b\b\b\r18/18 [==============================] - 2s 92ms/step - loss: 109.4414 - mae: 109.4414 - val_loss: 580.2147 - val_mae: 580.2147\n",
            "Epoch 42/100\n",
            "18/18 [==============================] - 0s 11ms/step - loss: 112.2094 - mae: 112.2094 - val_loss: 620.8680 - val_mae: 620.8680\n",
            "Epoch 43/100\n",
            "12/18 [===================>..........] - ETA: 0s - loss: 108.0130 - mae: 108.0130"
          ]
        },
        {
          "output_type": "stream",
          "name": "stderr",
          "text": [
            "WARNING:absl:Found untraced functions such as _update_step_xla while saving (showing 1 of 1). These functions will not be directly callable after loading.\n"
          ]
        },
        {
          "output_type": "stream",
          "name": "stdout",
          "text": [
            "\b\b\b\b\b\b\b\b\b\b\b\b\b\b\b\b\b\b\b\b\b\b\b\b\b\b\b\b\b\b\b\b\b\b\b\b\b\b\b\b\b\b\b\b\b\b\b\b\b\b\b\b\b\b\b\b\b\b\b\b\b\b\b\b\b\b\b\b\b\b\b\b\b\b\b\b\b\b\b\b\b\r18/18 [==============================] - 1s 54ms/step - loss: 111.7931 - mae: 111.7931 - val_loss: 579.5071 - val_mae: 579.5071\n",
            "Epoch 44/100\n",
            "18/18 [==============================] - 0s 9ms/step - loss: 108.5443 - mae: 108.5443 - val_loss: 583.7665 - val_mae: 583.7665\n",
            "Epoch 45/100\n",
            "18/18 [==============================] - 0s 13ms/step - loss: 110.4435 - mae: 110.4435 - val_loss: 607.4604 - val_mae: 607.4604\n",
            "Epoch 46/100\n",
            "18/18 [==============================] - 0s 13ms/step - loss: 109.6203 - mae: 109.6203 - val_loss: 754.4028 - val_mae: 754.4028\n",
            "Epoch 47/100\n",
            "12/18 [===================>..........] - ETA: 0s - loss: 117.6021 - mae: 117.6021"
          ]
        },
        {
          "output_type": "stream",
          "name": "stderr",
          "text": [
            "WARNING:absl:Found untraced functions such as _update_step_xla while saving (showing 1 of 1). These functions will not be directly callable after loading.\n"
          ]
        },
        {
          "output_type": "stream",
          "name": "stdout",
          "text": [
            "\b\b\b\b\b\b\b\b\b\b\b\b\b\b\b\b\b\b\b\b\b\b\b\b\b\b\b\b\b\b\b\b\b\b\b\b\b\b\b\b\b\b\b\b\b\b\b\b\b\b\b\b\b\b\b\b\b\b\b\b\b\b\b\b\b\b\b\b\b\b\b\b\b\b\b\b\b\b\b\b\b\r18/18 [==============================] - 2s 100ms/step - loss: 122.0181 - mae: 122.0181 - val_loss: 573.2593 - val_mae: 573.2593\n",
            "Epoch 48/100\n",
            "18/18 [==============================] - 0s 16ms/step - loss: 115.1413 - mae: 115.1413 - val_loss: 710.4995 - val_mae: 710.4995\n",
            "Epoch 49/100\n",
            "14/18 [======================>.......] - ETA: 0s - loss: 120.7137 - mae: 120.7137"
          ]
        },
        {
          "output_type": "stream",
          "name": "stderr",
          "text": [
            "WARNING:absl:Found untraced functions such as _update_step_xla while saving (showing 1 of 1). These functions will not be directly callable after loading.\n"
          ]
        },
        {
          "output_type": "stream",
          "name": "stdout",
          "text": [
            "\b\b\b\b\b\b\b\b\b\b\b\b\b\b\b\b\b\b\b\b\b\b\b\b\b\b\b\b\b\b\b\b\b\b\b\b\b\b\b\b\b\b\b\b\b\b\b\b\b\b\b\b\b\b\b\b\b\b\b\b\b\b\b\b\b\b\b\b\b\b\b\b\b\b\b\b\b\b\b\b\b\r18/18 [==============================] - 1s 65ms/step - loss: 118.3521 - mae: 118.3521 - val_loss: 571.9080 - val_mae: 571.9080\n",
            "Epoch 50/100\n",
            "18/18 [==============================] - 0s 11ms/step - loss: 113.9305 - mae: 113.9305 - val_loss: 746.5556 - val_mae: 746.5557\n",
            "Epoch 51/100\n",
            "18/18 [==============================] - 0s 9ms/step - loss: 117.0430 - mae: 117.0430 - val_loss: 615.4567 - val_mae: 615.4567\n",
            "Epoch 52/100\n",
            "18/18 [==============================] - 0s 9ms/step - loss: 116.5526 - mae: 116.5526 - val_loss: 626.8187 - val_mae: 626.8187\n",
            "Epoch 53/100\n",
            "18/18 [==============================] - 0s 11ms/step - loss: 109.9871 - mae: 109.9871 - val_loss: 588.2382 - val_mae: 588.2382\n",
            "Epoch 54/100\n",
            "13/18 [====================>.........] - ETA: 0s - loss: 105.9897 - mae: 105.9897"
          ]
        },
        {
          "output_type": "stream",
          "name": "stderr",
          "text": [
            "WARNING:absl:Found untraced functions such as _update_step_xla while saving (showing 1 of 1). These functions will not be directly callable after loading.\n"
          ]
        },
        {
          "output_type": "stream",
          "name": "stdout",
          "text": [
            "\b\b\b\b\b\b\b\b\b\b\b\b\b\b\b\b\b\b\b\b\b\b\b\b\b\b\b\b\b\b\b\b\b\b\b\b\b\b\b\b\b\b\b\b\b\b\b\b\b\b\b\b\b\b\b\b\b\b\b\b\b\b\b\b\b\b\b\b\b\b\b\b\b\b\b\b\b\b\b\b\b\r18/18 [==============================] - 1s 68ms/step - loss: 107.9050 - mae: 107.9050 - val_loss: 567.7510 - val_mae: 567.7510\n",
            "Epoch 55/100\n",
            "18/18 [==============================] - 0s 8ms/step - loss: 110.7133 - mae: 110.7133 - val_loss: 592.2500 - val_mae: 592.2500\n",
            "Epoch 56/100\n",
            "18/18 [==============================] - 0s 8ms/step - loss: 112.9300 - mae: 112.9300 - val_loss: 891.0270 - val_mae: 891.0270\n",
            "Epoch 57/100\n",
            "18/18 [==============================] - 0s 11ms/step - loss: 131.6731 - mae: 131.6731 - val_loss: 650.2655 - val_mae: 650.2655\n",
            "Epoch 58/100\n",
            "18/18 [==============================] - 0s 11ms/step - loss: 121.7032 - mae: 121.7032 - val_loss: 652.4509 - val_mae: 652.4509\n",
            "Epoch 59/100\n",
            "18/18 [==============================] - 0s 11ms/step - loss: 114.6572 - mae: 114.6572 - val_loss: 637.1786 - val_mae: 637.1786\n",
            "Epoch 60/100\n",
            "18/18 [==============================] - 0s 13ms/step - loss: 112.0625 - mae: 112.0625 - val_loss: 623.9566 - val_mae: 623.9566\n",
            "Epoch 61/100\n",
            "16/18 [=========================>....] - ETA: 0s - loss: 109.4461 - mae: 109.4461"
          ]
        },
        {
          "output_type": "stream",
          "name": "stderr",
          "text": [
            "WARNING:absl:Found untraced functions such as _update_step_xla while saving (showing 1 of 1). These functions will not be directly callable after loading.\n"
          ]
        },
        {
          "output_type": "stream",
          "name": "stdout",
          "text": [
            "\b\b\b\b\b\b\b\b\b\b\b\b\b\b\b\b\b\b\b\b\b\b\b\b\b\b\b\b\b\b\b\b\b\b\b\b\b\b\b\b\b\b\b\b\b\b\b\b\b\b\b\b\b\b\b\b\b\b\b\b\b\b\b\b\b\b\b\b\b\b\b\b\b\b\b\b\b\b\b\b\b\r18/18 [==============================] - 1s 72ms/step - loss: 108.4939 - mae: 108.4939 - val_loss: 565.1385 - val_mae: 565.1385\n",
            "Epoch 62/100\n",
            "18/18 [==============================] - 0s 14ms/step - loss: 107.1562 - mae: 107.1562 - val_loss: 572.4548 - val_mae: 572.4548\n",
            "Epoch 63/100\n",
            "18/18 [==============================] - 0s 19ms/step - loss: 111.4803 - mae: 111.4803 - val_loss: 604.1482 - val_mae: 604.1482\n",
            "Epoch 64/100\n",
            "18/18 [==============================] - 0s 10ms/step - loss: 109.9828 - mae: 109.9828 - val_loss: 592.8640 - val_mae: 592.8640\n",
            "Epoch 65/100\n",
            "18/18 [==============================] - 0s 13ms/step - loss: 109.2408 - mae: 109.2408 - val_loss: 575.3091 - val_mae: 575.3091\n",
            "Epoch 66/100\n",
            "18/18 [==============================] - 0s 17ms/step - loss: 107.6746 - mae: 107.6746 - val_loss: 595.0099 - val_mae: 595.0099\n",
            "Epoch 67/100\n",
            "18/18 [==============================] - 0s 15ms/step - loss: 108.5324 - mae: 108.5324 - val_loss: 692.6935 - val_mae: 692.6935\n",
            "Epoch 68/100\n",
            "18/18 [==============================] - 0s 17ms/step - loss: 106.6101 - mae: 106.6101 - val_loss: 568.3352 - val_mae: 568.3352\n",
            "Epoch 69/100\n",
            "18/18 [==============================] - 0s 15ms/step - loss: 107.0207 - mae: 107.0207 - val_loss: 643.4337 - val_mae: 643.4337\n",
            "Epoch 70/100\n",
            "18/18 [==============================] - 0s 14ms/step - loss: 120.7622 - mae: 120.7622 - val_loss: 588.1160 - val_mae: 588.1160\n",
            "Epoch 71/100\n",
            "18/18 [==============================] - 0s 9ms/step - loss: 109.0313 - mae: 109.0313 - val_loss: 577.7244 - val_mae: 577.7244\n",
            "Epoch 72/100\n",
            "18/18 [==============================] - 0s 13ms/step - loss: 115.7729 - mae: 115.7729 - val_loss: 600.0275 - val_mae: 600.0275\n",
            "Epoch 73/100\n",
            "13/18 [====================>.........] - ETA: 0s - loss: 108.7845 - mae: 108.7845"
          ]
        },
        {
          "output_type": "stream",
          "name": "stderr",
          "text": [
            "WARNING:absl:Found untraced functions such as _update_step_xla while saving (showing 1 of 1). These functions will not be directly callable after loading.\n"
          ]
        },
        {
          "output_type": "stream",
          "name": "stdout",
          "text": [
            "\b\b\b\b\b\b\b\b\b\b\b\b\b\b\b\b\b\b\b\b\b\b\b\b\b\b\b\b\b\b\b\b\b\b\b\b\b\b\b\b\b\b\b\b\b\b\b\b\b\b\b\b\b\b\b\b\b\b\b\b\b\b\b\b\b\b\b\b\b\b\b\b\b\b\b\b\b\b\b\b\b\r18/18 [==============================] - 1s 61ms/step - loss: 110.2031 - mae: 110.2031 - val_loss: 564.4868 - val_mae: 564.4868\n",
            "Epoch 74/100\n",
            "18/18 [==============================] - 0s 9ms/step - loss: 109.2204 - mae: 109.2204 - val_loss: 577.9415 - val_mae: 577.9415\n",
            "Epoch 75/100\n",
            "11/18 [=================>............] - ETA: 0s - loss: 107.3671 - mae: 107.3671"
          ]
        },
        {
          "output_type": "stream",
          "name": "stderr",
          "text": [
            "WARNING:absl:Found untraced functions such as _update_step_xla while saving (showing 1 of 1). These functions will not be directly callable after loading.\n"
          ]
        },
        {
          "output_type": "stream",
          "name": "stdout",
          "text": [
            "\b\b\b\b\b\b\b\b\b\b\b\b\b\b\b\b\b\b\b\b\b\b\b\b\b\b\b\b\b\b\b\b\b\b\b\b\b\b\b\b\b\b\b\b\b\b\b\b\b\b\b\b\b\b\b\b\b\b\b\b\b\b\b\b\b\b\b\b\b\b\b\b\b\b\b\b\b\b\b\b\b\r18/18 [==============================] - 1s 55ms/step - loss: 109.5217 - mae: 109.5217 - val_loss: 562.0039 - val_mae: 562.0039\n",
            "Epoch 76/100\n",
            "18/18 [==============================] - 0s 9ms/step - loss: 111.0327 - mae: 111.0327 - val_loss: 575.8726 - val_mae: 575.8726\n",
            "Epoch 77/100\n",
            "18/18 [==============================] - 0s 11ms/step - loss: 109.2102 - mae: 109.2102 - val_loss: 584.7859 - val_mae: 584.7859\n",
            "Epoch 78/100\n",
            "18/18 [==============================] - 0s 10ms/step - loss: 108.7549 - mae: 108.7549 - val_loss: 599.3093 - val_mae: 599.3093\n",
            "Epoch 79/100\n",
            "18/18 [==============================] - 0s 12ms/step - loss: 107.4748 - mae: 107.4748 - val_loss: 592.0253 - val_mae: 592.0253\n",
            "Epoch 80/100\n",
            "18/18 [==============================] - 0s 8ms/step - loss: 109.6550 - mae: 109.6550 - val_loss: 590.0011 - val_mae: 590.0011\n",
            "Epoch 81/100\n",
            "18/18 [==============================] - 0s 5ms/step - loss: 106.2724 - mae: 106.2724 - val_loss: 563.6845 - val_mae: 563.6845\n",
            "Epoch 82/100\n",
            "18/18 [==============================] - 0s 5ms/step - loss: 118.4594 - mae: 118.4594 - val_loss: 564.5363 - val_mae: 564.5363\n",
            "Epoch 83/100\n",
            "18/18 [==============================] - 0s 8ms/step - loss: 117.4412 - mae: 117.4412 - val_loss: 643.0719 - val_mae: 643.0719\n",
            "Epoch 84/100\n",
            "18/18 [==============================] - 0s 13ms/step - loss: 114.5421 - mae: 114.5421 - val_loss: 581.3170 - val_mae: 581.3170\n",
            "Epoch 85/100\n",
            "18/18 [==============================] - 0s 10ms/step - loss: 108.2244 - mae: 108.2244 - val_loss: 567.0987 - val_mae: 567.0987\n",
            "Epoch 86/100\n",
            "18/18 [==============================] - 0s 13ms/step - loss: 106.8217 - mae: 106.8217 - val_loss: 571.3477 - val_mae: 571.3477\n",
            "Epoch 87/100\n",
            "18/18 [==============================] - 0s 18ms/step - loss: 105.4314 - mae: 105.4314 - val_loss: 606.5551 - val_mae: 606.5551\n",
            "Epoch 88/100\n",
            "18/18 [==============================] - ETA: 0s - loss: 110.0289 - mae: 110.0289"
          ]
        },
        {
          "output_type": "stream",
          "name": "stderr",
          "text": [
            "WARNING:absl:Found untraced functions such as _update_step_xla while saving (showing 1 of 1). These functions will not be directly callable after loading.\n"
          ]
        },
        {
          "output_type": "stream",
          "name": "stdout",
          "text": [
            "\b\b\b\b\b\b\b\b\b\b\b\b\b\b\b\b\b\b\b\b\b\b\b\b\b\b\b\b\b\b\b\b\b\b\b\b\b\b\b\b\b\b\b\b\b\b\b\b\b\b\b\b\b\b\b\b\b\b\b\b\b\b\b\b\b\b\b\b\b\b\b\b\b\b\b\b\b\b\b\b\b\r18/18 [==============================] - 1s 77ms/step - loss: 110.0289 - mae: 110.0289 - val_loss: 561.1447 - val_mae: 561.1447\n",
            "Epoch 89/100\n",
            "18/18 [==============================] - 0s 8ms/step - loss: 107.7870 - mae: 107.7870 - val_loss: 563.1964 - val_mae: 563.1964\n",
            "Epoch 90/100\n",
            "18/18 [==============================] - 0s 10ms/step - loss: 104.5233 - mae: 104.5233 - val_loss: 573.3968 - val_mae: 573.3968\n",
            "Epoch 91/100\n",
            "18/18 [==============================] - 0s 8ms/step - loss: 109.2763 - mae: 109.2763 - val_loss: 570.0250 - val_mae: 570.0250\n",
            "Epoch 92/100\n",
            "18/18 [==============================] - 0s 8ms/step - loss: 108.6874 - mae: 108.6874 - val_loss: 612.1595 - val_mae: 612.1595\n",
            "Epoch 93/100\n",
            "18/18 [==============================] - 0s 9ms/step - loss: 111.8540 - mae: 111.8540 - val_loss: 576.2726 - val_mae: 576.2726\n",
            "Epoch 94/100\n",
            "18/18 [==============================] - 0s 9ms/step - loss: 110.0960 - mae: 110.0960 - val_loss: 561.2537 - val_mae: 561.2537\n",
            "Epoch 95/100\n",
            "18/18 [==============================] - 0s 8ms/step - loss: 104.3246 - mae: 104.3246 - val_loss: 567.4266 - val_mae: 567.4266\n",
            "Epoch 96/100\n",
            "18/18 [==============================] - 0s 11ms/step - loss: 109.4996 - mae: 109.4996 - val_loss: 603.9255 - val_mae: 603.9255\n",
            "Epoch 97/100\n",
            "18/18 [==============================] - 0s 11ms/step - loss: 107.2457 - mae: 107.2457 - val_loss: 562.0538 - val_mae: 562.0538\n",
            "Epoch 98/100\n",
            "18/18 [==============================] - 0s 8ms/step - loss: 105.6606 - mae: 105.6606 - val_loss: 584.7894 - val_mae: 584.7894\n",
            "Epoch 99/100\n",
            "18/18 [==============================] - 0s 10ms/step - loss: 107.1030 - mae: 107.1030 - val_loss: 571.6835 - val_mae: 571.6835\n",
            "Epoch 100/100\n",
            "18/18 [==============================] - 0s 8ms/step - loss: 109.6112 - mae: 109.6112 - val_loss: 569.9592 - val_mae: 569.9592\n"
          ]
        },
        {
          "output_type": "execute_result",
          "data": {
            "text/plain": [
              "<keras.callbacks.History at 0x7f871c7ca250>"
            ]
          },
          "metadata": {},
          "execution_count": 35
        }
      ]
    },
    {
      "cell_type": "code",
      "source": [
        "# Evaluate model on test data\n",
        "\n",
        "model_1.evaluate(test_windows, test_labels)"
      ],
      "metadata": {
        "colab": {
          "base_uri": "https://localhost:8080/"
        },
        "id": "QgtfWRNjhFVP",
        "outputId": "49a13784-7034-4b35-a83d-4e8934eb6faa"
      },
      "execution_count": 36,
      "outputs": [
        {
          "output_type": "stream",
          "name": "stdout",
          "text": [
            "18/18 [==============================] - 0s 4ms/step - loss: 569.9592 - mae: 569.9592\n"
          ]
        },
        {
          "output_type": "execute_result",
          "data": {
            "text/plain": [
              "[569.959228515625, 569.959228515625]"
            ]
          },
          "metadata": {},
          "execution_count": 36
        }
      ]
    },
    {
      "cell_type": "code",
      "source": [
        "# Load in saved best performing model_1 and evaluate on test data\n",
        "\n",
        "model_1 = tf.keras.models.load_model(\"model_experiments/model_1_dense\")\n",
        "model_1.evaluate(test_windows, test_labels)"
      ],
      "metadata": {
        "colab": {
          "base_uri": "https://localhost:8080/"
        },
        "id": "SNnOhyzJhTSx",
        "outputId": "21dfdc56-ff5c-4ebd-e8df-36ddd4894361"
      },
      "execution_count": 37,
      "outputs": [
        {
          "output_type": "stream",
          "name": "stdout",
          "text": [
            "18/18 [==============================] - 0s 5ms/step - loss: 561.1446 - mae: 561.1446\n"
          ]
        },
        {
          "output_type": "execute_result",
          "data": {
            "text/plain": [
              "[561.1445922851562, 561.1445922851562]"
            ]
          },
          "metadata": {},
          "execution_count": 37
        }
      ]
    },
    {
      "cell_type": "markdown",
      "source": [
        "### Making forecast with model (on the test dataset)"
      ],
      "metadata": {
        "id": "maL1V0jkh5xC"
      }
    },
    {
      "cell_type": "code",
      "source": [
        "def make_preds(model, input_data):\n",
        "\n",
        "  forecast = model.predict(input_data)\n",
        "\n",
        "  return tf.squeeze(forecast)"
      ],
      "metadata": {
        "id": "mGdYxNUzhwFd"
      },
      "execution_count": 38,
      "outputs": []
    },
    {
      "cell_type": "code",
      "source": [
        "# Make prediction using model_1 on the test dataset and view the results\n",
        "\n",
        "model_1_preds = make_preds(model_1, test_windows)\n",
        "len(model_1_preds), model_1_preds[:10]"
      ],
      "metadata": {
        "colab": {
          "base_uri": "https://localhost:8080/"
        },
        "id": "hG1Iab_fiVE9",
        "outputId": "7f56d72d-5668-4823-c3ce-7384a24d62ee"
      },
      "execution_count": 39,
      "outputs": [
        {
          "output_type": "stream",
          "name": "stdout",
          "text": [
            "18/18 [==============================] - 0s 3ms/step\n"
          ]
        },
        {
          "output_type": "execute_result",
          "data": {
            "text/plain": [
              "(556, <tf.Tensor: shape=(10,), dtype=float32, numpy=\n",
              " array([8831.793, 8766.315, 9032.331, 8777.367, 8731.973, 8719.11 ,\n",
              "        8681.09 , 8517.032, 8442.11 , 8519.224], dtype=float32)>)"
            ]
          },
          "metadata": {},
          "execution_count": 39
        }
      ]
    },
    {
      "cell_type": "code",
      "source": [
        "# Evaluate preds\n",
        "\n",
        "model_1_results = evaluate_preds(y_true=tf.squeeze(test_labels),\n",
        "                                 y_pred=model_1_preds)\n",
        "model_1_results"
      ],
      "metadata": {
        "colab": {
          "base_uri": "https://localhost:8080/"
        },
        "id": "ehIoQukziwD-",
        "outputId": "bd8235af-6025-4017-ed30-f2a1e344f929"
      },
      "execution_count": 40,
      "outputs": [
        {
          "output_type": "execute_result",
          "data": {
            "text/plain": [
              "{'mae': 561.1446,\n",
              " 'mse': 1144953.4,\n",
              " 'rmse': 1070.0249,\n",
              " 'mape': 2.5132928,\n",
              " 'mase': 0.98577565}"
            ]
          },
          "metadata": {},
          "execution_count": 40
        }
      ]
    },
    {
      "cell_type": "code",
      "source": [
        "naive_results"
      ],
      "metadata": {
        "colab": {
          "base_uri": "https://localhost:8080/"
        },
        "id": "rsuqzwowjKD_",
        "outputId": "03f584bb-bee2-4626-cc03-a2213225d80c"
      },
      "execution_count": 41,
      "outputs": [
        {
          "output_type": "execute_result",
          "data": {
            "text/plain": [
              "{'mae': 567.9802,\n",
              " 'mse': 1147547.0,\n",
              " 'rmse': 1071.2362,\n",
              " 'mape': 2.516525,\n",
              " 'mase': 0.99957}"
            ]
          },
          "metadata": {},
          "execution_count": 41
        }
      ]
    },
    {
      "cell_type": "code",
      "source": [
        "# Visualizing the result\n",
        "\n",
        "offset = 300\n",
        "plt.figure(figsize=(10, 7))\n",
        "plot_time_series(timesteps=X_test[-len(test_windows):], values=test_labels[:,0], start=offset, label=\"Test_data\")\n",
        "plot_time_series(timesteps=X_test[-len(test_windows):], values=model_1_preds, start=offset, format=\"-\", label=\"model_1_preds\")"
      ],
      "metadata": {
        "colab": {
          "base_uri": "https://localhost:8080/",
          "height": 442
        },
        "id": "TEmNaVyWjQXt",
        "outputId": "8f31a995-f030-466b-f757-1bf087ecda57"
      },
      "execution_count": 42,
      "outputs": [
        {
          "output_type": "display_data",
          "data": {
            "text/plain": [
              "<Figure size 720x504 with 1 Axes>"
            ],
            "image/png": "[encoded data removed]"
          },
          "metadata": {
            "needs_background": "light"
          }
        }
      ]
    },
    {
      "cell_type": "markdown",
      "source": [
        "### Model 2: Dense (window = 30, horizon = 1)"
      ],
      "metadata": {
        "id": "f4ZmxJlgd_up"
      }
    },
    {
      "cell_type": "code",
      "source": [
        "HORIZON = 1\n",
        "WINDOW_SIZE = 30"
      ],
      "metadata": {
        "id": "0fAUw1uXkPsw"
      },
      "execution_count": 43,
      "outputs": []
    },
    {
      "cell_type": "code",
      "source": [
        "# Make windowed data with appropriate horizon nad window size\n",
        "\n",
        "full_windows, full_labels = make_windows(prices, window_size=WINDOW_SIZE, horizon=HORIZON)\n",
        "len(full_windows), len(full_labels)"
      ],
      "metadata": {
        "colab": {
          "base_uri": "https://localhost:8080/"
        },
        "id": "gdIKLDcIeOyw",
        "outputId": "2fd3297d-5286-4b83-c9a5-fcddee9dd05e"
      },
      "execution_count": 44,
      "outputs": [
        {
          "output_type": "execute_result",
          "data": {
            "text/plain": [
              "(2757, 2757)"
            ]
          },
          "metadata": {},
          "execution_count": 44
        }
      ]
    },
    {
      "cell_type": "code",
      "source": [
        "# Make train and test windows\n",
        "\n",
        "train_windows, test_windows, train_labels, test_labels = make_train_test_split(windows=full_windows,\n",
        "                                                                               labels=full_labels)\n",
        "len(train_windows), len(test_windows), len(train_labels), len(test_labels)"
      ],
      "metadata": {
        "colab": {
          "base_uri": "https://localhost:8080/"
        },
        "id": "yjUaFD4KeshH",
        "outputId": "495c6724-81bf-4978-8e7c-21689a089c2e"
      },
      "execution_count": 45,
      "outputs": [
        {
          "output_type": "execute_result",
          "data": {
            "text/plain": [
              "(2205, 552, 2205, 552)"
            ]
          },
          "metadata": {},
          "execution_count": 45
        }
      ]
    },
    {
      "cell_type": "code",
      "source": [
        "tf.random.set_seed(42)\n",
        "\n",
        "# Create model\n",
        "model_2 = tf.keras.Sequential([\n",
        "    layers.Dense(128, activation=\"relu\"),\n",
        "    layers.Dense(HORIZON)\n",
        "], name=\"model_2_dense\")\n",
        "\n",
        "# Compile model\n",
        "model_2.compile(loss=\"mae\",\n",
        "                optimizer=tf.keras.optimizers.Adam())\n",
        "\n",
        "# Fit the model\n",
        "model_2.fit(train_windows,\n",
        "            train_labels,\n",
        "            epochs=100,\n",
        "            batch_size=128,\n",
        "            verbose=0,\n",
        "            validation_data=(test_windows, test_labels),\n",
        "            callbacks=[create_model_checkpoint(model_name=model_2.name)])"
      ],
      "metadata": {
        "colab": {
          "base_uri": "https://localhost:8080/"
        },
        "id": "c_AyIFtDfyfn",
        "outputId": "c30b65bb-1725-4160-a1c2-333f9ea3f7a3"
      },
      "execution_count": 46,
      "outputs": [
        {
          "output_type": "stream",
          "name": "stderr",
          "text": [
            "WARNING:absl:Found untraced functions such as _update_step_xla while saving (showing 1 of 1). These functions will not be directly callable after loading.\n",
            "WARNING:absl:Found untraced functions such as _update_step_xla while saving (showing 1 of 1). These functions will not be directly callable after loading.\n",
            "WARNING:absl:Found untraced functions such as _update_step_xla while saving (showing 1 of 1). These functions will not be directly callable after loading.\n",
            "WARNING:absl:Found untraced functions such as _update_step_xla while saving (showing 1 of 1). These functions will not be directly callable after loading.\n",
            "WARNING:absl:Found untraced functions such as _update_step_xla while saving (showing 1 of 1). These functions will not be directly callable after loading.\n",
            "WARNING:absl:Found untraced functions such as _update_step_xla while saving (showing 1 of 1). These functions will not be directly callable after loading.\n",
            "WARNING:absl:Found untraced functions such as _update_step_xla while saving (showing 1 of 1). These functions will not be directly callable after loading.\n",
            "WARNING:absl:Found untraced functions such as _update_step_xla while saving (showing 1 of 1). These functions will not be directly callable after loading.\n",
            "WARNING:absl:Found untraced functions such as _update_step_xla while saving (showing 1 of 1). These functions will not be directly callable after loading.\n",
            "WARNING:absl:Found untraced functions such as _update_step_xla while saving (showing 1 of 1). These functions will not be directly callable after loading.\n",
            "WARNING:absl:Found untraced functions such as _update_step_xla while saving (showing 1 of 1). These functions will not be directly callable after loading.\n",
            "WARNING:absl:Found untraced functions such as _update_step_xla while saving (showing 1 of 1). These functions will not be directly callable after loading.\n",
            "WARNING:absl:Found untraced functions such as _update_step_xla while saving (showing 1 of 1). These functions will not be directly callable after loading.\n",
            "WARNING:absl:Found untraced functions such as _update_step_xla while saving (showing 1 of 1). These functions will not be directly callable after loading.\n",
            "WARNING:absl:Found untraced functions such as _update_step_xla while saving (showing 1 of 1). These functions will not be directly callable after loading.\n",
            "WARNING:absl:Found untraced functions such as _update_step_xla while saving (showing 1 of 1). These functions will not be directly callable after loading.\n",
            "WARNING:absl:Found untraced functions such as _update_step_xla while saving (showing 1 of 1). These functions will not be directly callable after loading.\n",
            "WARNING:absl:Found untraced functions such as _update_step_xla while saving (showing 1 of 1). These functions will not be directly callable after loading.\n",
            "WARNING:absl:Found untraced functions such as _update_step_xla while saving (showing 1 of 1). These functions will not be directly callable after loading.\n",
            "WARNING:absl:Found untraced functions such as _update_step_xla while saving (showing 1 of 1). These functions will not be directly callable after loading.\n",
            "WARNING:absl:Found untraced functions such as _update_step_xla while saving (showing 1 of 1). These functions will not be directly callable after loading.\n",
            "WARNING:absl:Found untraced functions such as _update_step_xla while saving (showing 1 of 1). These functions will not be directly callable after loading.\n",
            "WARNING:absl:Found untraced functions such as _update_step_xla while saving (showing 1 of 1). These functions will not be directly callable after loading.\n",
            "WARNING:absl:Found untraced functions such as _update_step_xla while saving (showing 1 of 1). These functions will not be directly callable after loading.\n",
            "WARNING:absl:Found untraced functions such as _update_step_xla while saving (showing 1 of 1). These functions will not be directly callable after loading.\n",
            "WARNING:absl:Found untraced functions such as _update_step_xla while saving (showing 1 of 1). These functions will not be directly callable after loading.\n"
          ]
        },
        {
          "output_type": "execute_result",
          "data": {
            "text/plain": [
              "<keras.callbacks.History at 0x7f871c108ee0>"
            ]
          },
          "metadata": {},
          "execution_count": 46
        }
      ]
    },
    {
      "cell_type": "code",
      "source": [
        "# Evaluate model_2 preds\n",
        "\n",
        "model_2.evaluate(test_windows, test_labels)"
      ],
      "metadata": {
        "colab": {
          "base_uri": "https://localhost:8080/"
        },
        "id": "9LXDjE10kaZ5",
        "outputId": "b64981c8-c402-43f5-fff1-e97e5b8d6235"
      },
      "execution_count": 47,
      "outputs": [
        {
          "output_type": "stream",
          "name": "stdout",
          "text": [
            "18/18 [==============================] - 0s 2ms/step - loss: 599.0822\n"
          ]
        },
        {
          "output_type": "execute_result",
          "data": {
            "text/plain": [
              "599.0821533203125"
            ]
          },
          "metadata": {},
          "execution_count": 47
        }
      ]
    },
    {
      "cell_type": "code",
      "source": [
        "# Load in best performing model\n",
        "\n",
        "model_2 = tf.keras.models.load_model(\"model_experiments/model_2_dense\")\n",
        "model_2.evaluate(test_windows, test_labels)"
      ],
      "metadata": {
        "colab": {
          "base_uri": "https://localhost:8080/"
        },
        "id": "uaFe9xojknOD",
        "outputId": "4ab6ea81-c656-405c-eb8b-bb5b4243b306"
      },
      "execution_count": 48,
      "outputs": [
        {
          "output_type": "stream",
          "name": "stdout",
          "text": [
            "18/18 [==============================] - 0s 2ms/step - loss: 599.0822\n"
          ]
        },
        {
          "output_type": "execute_result",
          "data": {
            "text/plain": [
              "599.0821533203125"
            ]
          },
          "metadata": {},
          "execution_count": 48
        }
      ]
    },
    {
      "cell_type": "code",
      "source": [
        "# Get forecast predictions\n",
        "\n",
        "model_2_preds = make_preds(model_2,\n",
        "                           input_data=test_windows)\n",
        "model_2_preds[-10:]"
      ],
      "metadata": {
        "colab": {
          "base_uri": "https://localhost:8080/"
        },
        "id": "dnQr8F4tlBDD",
        "outputId": "f5f1aace-610d-49ac-8ba0-f68e39ae489b"
      },
      "execution_count": 49,
      "outputs": [
        {
          "output_type": "stream",
          "name": "stdout",
          "text": [
            "18/18 [==============================] - 0s 2ms/step\n"
          ]
        },
        {
          "output_type": "execute_result",
          "data": {
            "text/plain": [
              "<tf.Tensor: shape=(10,), dtype=float32, numpy=\n",
              "array([57690.99 , 57129.54 , 58271.582, 56751.82 , 56505.887, 54047.082,\n",
              "       49308.754, 50882.395, 48140.7  , 46585.38 ], dtype=float32)>"
            ]
          },
          "metadata": {},
          "execution_count": 49
        }
      ]
    },
    {
      "cell_type": "code",
      "source": [
        "# Evaluate results for model_2 prediction\n",
        "\n",
        "model_2_results = evaluate_preds(y_true=tf.squeeze(test_labels),\n",
        "                                 y_pred=model_2_preds)"
      ],
      "metadata": {
        "id": "xxZM5Vk8lr9C"
      },
      "execution_count": 50,
      "outputs": []
    },
    {
      "cell_type": "code",
      "source": [
        "model_2_results"
      ],
      "metadata": {
        "colab": {
          "base_uri": "https://localhost:8080/"
        },
        "id": "lKDHNuoqmH9g",
        "outputId": "3f684f59-9b3d-4d53-b2c4-4ed44f3afbf2"
      },
      "execution_count": 51,
      "outputs": [
        {
          "output_type": "execute_result",
          "data": {
            "text/plain": [
              "{'mae': 599.08215,\n",
              " 'mse': 1274633.2,\n",
              " 'rmse': 1128.9966,\n",
              " 'mape': 2.692077,\n",
              " 'mase': 1.0472015}"
            ]
          },
          "metadata": {},
          "execution_count": 51
        }
      ]
    },
    {
      "cell_type": "markdown",
      "source": [
        "### Model 3: Dense (window = 30, horizon = 7)"
      ],
      "metadata": {
        "id": "ctMseeTZdYIi"
      }
    },
    {
      "cell_type": "code",
      "source": [
        "HORIZON = 7\n",
        "WINDOW_SIZE = 30\n",
        "\n",
        "full_windows, full_labels = make_windows(prices, window_size=WINDOW_SIZE, horizon=HORIZON)\n",
        "len(full_windows), len(full_labels)"
      ],
      "metadata": {
        "id": "56t6LzYnmJ2x"
      },
      "execution_count": 51,
      "outputs": []
    },
    {
      "cell_type": "code",
      "source": [
        "train_windows, test_windows, train_labels, test_labels = make_train_test_split(windows=full_windows, labels=full_labels)\n",
        "len(train_windows), len(test_windows), len(train_labels), len(test_labels)"
      ],
      "metadata": {
        "colab": {
          "base_uri": "https://localhost:8080/"
        },
        "id": "NTiPbNBZd7fP",
        "outputId": "833465f6-b891-4410-de66-17297e91724d"
      },
      "execution_count": 52,
      "outputs": [
        {
          "output_type": "execute_result",
          "data": {
            "text/plain": [
              "(2205, 552, 2205, 552)"
            ]
          },
          "metadata": {},
          "execution_count": 52
        }
      ]
    },
    {
      "cell_type": "code",
      "source": [
        "tf.random.set_seed(42)\n",
        "\n",
        "model_3 = tf.keras.Sequential([\n",
        "    layers.Dense(128, activation=\"relu\"),\n",
        "    layers.Dense(HORIZON)\n",
        "], name = \"model_3_dense\")\n",
        "\n",
        "model_3.compile(loss=\"mae\",\n",
        "                optimizer=tf.keras.optimizers.Adam())\n",
        "\n",
        "model_3.fit(train_windows,\n",
        "            train_labels,\n",
        "            batch_size=128,\n",
        "            epochs=100,\n",
        "            verbose=0,\n",
        "            validation_data=(test_windows, test_labels),\n",
        "            callbacks=[create_model_checkpoint(model_name=model_3.name)])"
      ],
      "metadata": {
        "colab": {
          "base_uri": "https://localhost:8080/"
        },
        "id": "rnEDQrZFeWsc",
        "outputId": "b2743f7b-e3b9-46bf-cc6b-2a2508d4c318"
      },
      "execution_count": 53,
      "outputs": [
        {
          "output_type": "stream",
          "name": "stderr",
          "text": [
            "WARNING:absl:Found untraced functions such as _update_step_xla while saving (showing 1 of 1). These functions will not be directly callable after loading.\n",
            "WARNING:absl:Found untraced functions such as _update_step_xla while saving (showing 1 of 1). These functions will not be directly callable after loading.\n",
            "WARNING:absl:Found untraced functions such as _update_step_xla while saving (showing 1 of 1). These functions will not be directly callable after loading.\n",
            "WARNING:absl:Found untraced functions such as _update_step_xla while saving (showing 1 of 1). These functions will not be directly callable after loading.\n",
            "WARNING:absl:Found untraced functions such as _update_step_xla while saving (showing 1 of 1). These functions will not be directly callable after loading.\n",
            "WARNING:absl:Found untraced functions such as _update_step_xla while saving (showing 1 of 1). These functions will not be directly callable after loading.\n",
            "WARNING:absl:Found untraced functions such as _update_step_xla while saving (showing 1 of 1). These functions will not be directly callable after loading.\n",
            "WARNING:absl:Found untraced functions such as _update_step_xla while saving (showing 1 of 1). These functions will not be directly callable after loading.\n",
            "WARNING:absl:Found untraced functions such as _update_step_xla while saving (showing 1 of 1). These functions will not be directly callable after loading.\n",
            "WARNING:absl:Found untraced functions such as _update_step_xla while saving (showing 1 of 1). These functions will not be directly callable after loading.\n",
            "WARNING:absl:Found untraced functions such as _update_step_xla while saving (showing 1 of 1). These functions will not be directly callable after loading.\n",
            "WARNING:absl:Found untraced functions such as _update_step_xla while saving (showing 1 of 1). These functions will not be directly callable after loading.\n",
            "WARNING:absl:Found untraced functions such as _update_step_xla while saving (showing 1 of 1). These functions will not be directly callable after loading.\n",
            "WARNING:absl:Found untraced functions such as _update_step_xla while saving (showing 1 of 1). These functions will not be directly callable after loading.\n",
            "WARNING:absl:Found untraced functions such as _update_step_xla while saving (showing 1 of 1). These functions will not be directly callable after loading.\n",
            "WARNING:absl:Found untraced functions such as _update_step_xla while saving (showing 1 of 1). These functions will not be directly callable after loading.\n",
            "WARNING:absl:Found untraced functions such as _update_step_xla while saving (showing 1 of 1). These functions will not be directly callable after loading.\n",
            "WARNING:absl:Found untraced functions such as _update_step_xla while saving (showing 1 of 1). These functions will not be directly callable after loading.\n",
            "WARNING:absl:Found untraced functions such as _update_step_xla while saving (showing 1 of 1). These functions will not be directly callable after loading.\n",
            "WARNING:absl:Found untraced functions such as _update_step_xla while saving (showing 1 of 1). These functions will not be directly callable after loading.\n",
            "WARNING:absl:Found untraced functions such as _update_step_xla while saving (showing 1 of 1). These functions will not be directly callable after loading.\n",
            "WARNING:absl:Found untraced functions such as _update_step_xla while saving (showing 1 of 1). These functions will not be directly callable after loading.\n",
            "WARNING:absl:Found untraced functions such as _update_step_xla while saving (showing 1 of 1). These functions will not be directly callable after loading.\n",
            "WARNING:absl:Found untraced functions such as _update_step_xla while saving (showing 1 of 1). These functions will not be directly callable after loading.\n",
            "WARNING:absl:Found untraced functions such as _update_step_xla while saving (showing 1 of 1). These functions will not be directly callable after loading.\n",
            "WARNING:absl:Found untraced functions such as _update_step_xla while saving (showing 1 of 1). These functions will not be directly callable after loading.\n"
          ]
        },
        {
          "output_type": "execute_result",
          "data": {
            "text/plain": [
              "<keras.callbacks.History at 0x7f869c1ae1f0>"
            ]
          },
          "metadata": {},
          "execution_count": 53
        }
      ]
    },
    {
      "cell_type": "code",
      "source": [
        "model_3.evaluate(test_windows, test_labels)"
      ],
      "metadata": {
        "colab": {
          "base_uri": "https://localhost:8080/"
        },
        "id": "NJgBoCyJfYZL",
        "outputId": "8fa5fe49-63d5-4a23-e52c-88c867418627"
      },
      "execution_count": 54,
      "outputs": [
        {
          "output_type": "stream",
          "name": "stdout",
          "text": [
            "18/18 [==============================] - 0s 4ms/step - loss: 679.1817\n"
          ]
        },
        {
          "output_type": "execute_result",
          "data": {
            "text/plain": [
              "679.1817016601562"
            ]
          },
          "metadata": {},
          "execution_count": 54
        }
      ]
    },
    {
      "cell_type": "code",
      "source": [
        "model_3 = tf.keras.models.load_model(\"model_experiments/model_3_dense/\")\n",
        "model_3.evaluate(test_windows, test_labels)"
      ],
      "metadata": {
        "colab": {
          "base_uri": "https://localhost:8080/"
        },
        "id": "rrC8_p1VfjG8",
        "outputId": "25b01fff-82a2-47d5-973e-4062a4da3d36"
      },
      "execution_count": 55,
      "outputs": [
        {
          "output_type": "stream",
          "name": "stdout",
          "text": [
            "18/18 [==============================] - 0s 4ms/step - loss: 613.8173\n"
          ]
        },
        {
          "output_type": "execute_result",
          "data": {
            "text/plain": [
              "613.8173217773438"
            ]
          },
          "metadata": {},
          "execution_count": 55
        }
      ]
    },
    {
      "cell_type": "code",
      "source": [
        "model_3_preds = make_preds(model_3,\n",
        "                           input_data=test_windows)\n",
        "model_3_preds[-5:]"
      ],
      "metadata": {
        "colab": {
          "base_uri": "https://localhost:8080/"
        },
        "id": "6HzRO1yCf2xs",
        "outputId": "78a4d78f-26d9-4540-b568-1f261a135f97"
      },
      "execution_count": 57,
      "outputs": [
        {
          "output_type": "stream",
          "name": "stdout",
          "text": [
            "18/18 [==============================] - 0s 2ms/step\n"
          ]
        },
        {
          "output_type": "execute_result",
          "data": {
            "text/plain": [
              "<tf.Tensor: shape=(5,), dtype=float32, numpy=\n",
              "array([53774.953, 49833.87 , 50261.89 , 49434.79 , 46077.207],\n",
              "      dtype=float32)>"
            ]
          },
          "metadata": {},
          "execution_count": 57
        }
      ]
    },
    {
      "cell_type": "code",
      "source": [
        "model_3_results = evaluate_preds(y_true=tf.squeeze(test_labels),\n",
        "                                 y_pred=model_3_preds)\n",
        "model_3_results"
      ],
      "metadata": {
        "colab": {
          "base_uri": "https://localhost:8080/"
        },
        "id": "1jm6ig1AgH29",
        "outputId": "af2eb9f0-fe5a-4de9-bdf0-997cc4e0f1a4"
      },
      "execution_count": 58,
      "outputs": [
        {
          "output_type": "execute_result",
          "data": {
            "text/plain": [
              "{'mae': 613.8173,\n",
              " 'mse': 1265461.8,\n",
              " 'rmse': 1124.9274,\n",
              " 'mape': 2.7913134,\n",
              " 'mase': 1.0729587}"
            ]
          },
          "metadata": {},
          "execution_count": 58
        }
      ]
    },
    {
      "cell_type": "markdown",
      "source": [
        "### Make our evaluation function work for larger horizon"
      ],
      "metadata": {
        "id": "CwvC3Slwgqh9"
      }
    },
    {
      "cell_type": "code",
      "source": [],
      "metadata": {
        "id": "j4DMzHTQgo34"
      },
      "execution_count": null,
      "outputs": []
    }
  ]
}