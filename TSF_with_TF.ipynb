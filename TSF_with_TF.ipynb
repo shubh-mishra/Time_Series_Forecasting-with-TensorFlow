{
  "nbformat": 4,
  "nbformat_minor": 0,
  "metadata": {
    "colab": {
      "provenance": []
    },
    "kernelspec": {
      "name": "python3",
      "display_name": "Python 3"
    },
    "language_info": {
      "name": "python"
    },
    "accelerator": "GPU",
    "gpuClass": "standard"
  },
  "cells": [
    {
      "cell_type": "markdown",
      "source": [
        "# Time Series Forecasting with TensorFlow"
      ],
      "metadata": {
        "id": "0w8JoogvZb3m"
      }
    },
    {
      "cell_type": "markdown",
      "source": [
        "### Contents of this notebook\n",
        "  * Get the time series data\n",
        "    * Load the time series data using Pandas/Python,s CSV module\n",
        "  * Format data for a time series problem\n",
        "    * Creating training and test sets (the wrong way)\n",
        "    * Creating training and test sets (the right way)\n",
        "    * Visualizing time series data\n",
        "    * Turning time series data into a supervised learning problem (windowing)\n",
        "    * Preparing univariate and multivariate\n",
        "  * Evaluating a time series forecasting model\n",
        "  * Setting up a series of deep learning modelling experiments\n",
        "    * Dense (fully-connected) networks\n",
        "    * Sequence models (LSTM and 1D CNN)\n",
        "    * Ensembling (combining multiple models together)\n",
        "    * Multivariate models\n",
        "    * Replicating the N-BEATS algorithm using TensorFlow layer subclassing\n",
        "  * Creating a model checkpoint to save the best performing model during training\n",
        "  * Making predictions (forecasts) with a time series model\n",
        "  * Creating prediction intervals for the time series model forecasts\n",
        "  * Discussing two different types of uncertainity in machine learning (data uncertainity and model uncertainity)\n",
        "  * Demonstrating why forecasting in an open system is BS (the turkey problem)"
      ],
      "metadata": {
        "id": "6Q2zvb4mZuEe"
      }
    },
    {
      "cell_type": "markdown",
      "source": [
        "### Check for GPU"
      ],
      "metadata": {
        "id": "xF6e0yL_cLWE"
      }
    },
    {
      "cell_type": "code",
      "execution_count": 1,
      "metadata": {
        "colab": {
          "base_uri": "https://localhost:8080/"
        },
        "id": "5G9S5O1-ZSw7",
        "outputId": "031d626a-46e2-45f2-caa3-e4361248930f"
      },
      "outputs": [
        {
          "output_type": "stream",
          "name": "stdout",
          "text": [
            "GPU 0: Tesla T4 (UUID: GPU-701667f9-5738-1474-9421-d4cebf87f4b4)\n"
          ]
        }
      ],
      "source": [
        "# Check for GPU\n",
        "!nvidia-smi -L"
      ]
    },
    {
      "cell_type": "markdown",
      "source": [
        "## Get data"
      ],
      "metadata": {
        "id": "qkmWlSy1CSfP"
      }
    },
    {
      "cell_type": "code",
      "source": [
        "# Download Bitcoin historical data from GitHub\n",
        "!wget https://raw.githubusercontent.com/mrdbourke/tensorflow-deep-learning/main/extras/BTC_USD_2013-10-01_2021-05-18-CoinDesk.csv"
      ],
      "metadata": {
        "colab": {
          "base_uri": "https://localhost:8080/"
        },
        "id": "qIx9yY30cT-M",
        "outputId": "0cdc2614-c7f0-4d5c-8a48-9234d4a769ba"
      },
      "execution_count": 2,
      "outputs": [
        {
          "output_type": "stream",
          "name": "stdout",
          "text": [
            "--2023-03-02 05:38:28--  https://raw.githubusercontent.com/mrdbourke/tensorflow-deep-learning/main/extras/BTC_USD_2013-10-01_2021-05-18-CoinDesk.csv\n",
            "Resolving raw.githubusercontent.com (raw.githubusercontent.com)... 185.199.108.133, 185.199.109.133, 185.199.110.133, ...\n",
            "Connecting to raw.githubusercontent.com (raw.githubusercontent.com)|185.199.108.133|:443... connected.\n",
            "HTTP request sent, awaiting response... 200 OK\n",
            "Length: 178509 (174K) [text/plain]\n",
            "Saving to: ‘BTC_USD_2013-10-01_2021-05-18-CoinDesk.csv’\n",
            "\n",
            "BTC_USD_2013-10-01_ 100%[===================>] 174.33K  --.-KB/s    in 0.02s   \n",
            "\n",
            "2023-03-02 05:38:29 (7.13 MB/s) - ‘BTC_USD_2013-10-01_2021-05-18-CoinDesk.csv’ saved [178509/178509]\n",
            "\n"
          ]
        }
      ]
    },
    {
      "cell_type": "markdown",
      "source": [
        "### Importing time series data with pandas"
      ],
      "metadata": {
        "id": "HSYf_IzbDJqz"
      }
    },
    {
      "cell_type": "code",
      "source": [
        "# Import with pandas\n",
        "import pandas as pd\n",
        "import numpy as np\n",
        "df = pd.read_csv('/content/BTC_USD_2013-10-01_2021-05-18-CoinDesk.csv',\n",
        "                 parse_dates=['Date'],\n",
        "                 index_col=['Date'])"
      ],
      "metadata": {
        "id": "CccBhLmlDFVC"
      },
      "execution_count": 3,
      "outputs": []
    },
    {
      "cell_type": "code",
      "source": [
        "df.head()"
      ],
      "metadata": {
        "colab": {
          "base_uri": "https://localhost:8080/",
          "height": 237
        },
        "id": "qYRO_BYFDm6d",
        "outputId": "17b0e7c0-abda-408b-dd1e-be8fdbd074cb"
      },
      "execution_count": 4,
      "outputs": [
        {
          "output_type": "execute_result",
          "data": {
            "text/plain": [
              "           Currency  Closing Price (USD)  24h Open (USD)  24h High (USD)  \\\n",
              "Date                                                                       \n",
              "2013-10-01      BTC            123.65499       124.30466       124.75166   \n",
              "2013-10-02      BTC            125.45500       123.65499       125.75850   \n",
              "2013-10-03      BTC            108.58483       125.45500       125.66566   \n",
              "2013-10-04      BTC            118.67466       108.58483       118.67500   \n",
              "2013-10-05      BTC            121.33866       118.67466       121.93633   \n",
              "\n",
              "            24h Low (USD)  \n",
              "Date                       \n",
              "2013-10-01      122.56349  \n",
              "2013-10-02      123.63383  \n",
              "2013-10-03       83.32833  \n",
              "2013-10-04      107.05816  \n",
              "2013-10-05      118.00566  "
            ],
            "text/html": [
              "\n",
              "  <div id=\"df-00d85049-d1f7-4349-9926-8da669014971\">\n",
              "    <div class=\"colab-df-container\">\n",
              "      <div>\n",
              "<style scoped>\n",
              "    .dataframe tbody tr th:only-of-type {\n",
              "        vertical-align: middle;\n",
              "    }\n",
              "\n",
              "    .dataframe tbody tr th {\n",
              "        vertical-align: top;\n",
              "    }\n",
              "\n",
              "    .dataframe thead th {\n",
              "        text-align: right;\n",
              "    }\n",
              "</style>\n",
              "<table border=\"1\" class=\"dataframe\">\n",
              "  <thead>\n",
              "    <tr style=\"text-align: right;\">\n",
              "      <th></th>\n",
              "      <th>Currency</th>\n",
              "      <th>Closing Price (USD)</th>\n",
              "      <th>24h Open (USD)</th>\n",
              "      <th>24h High (USD)</th>\n",
              "      <th>24h Low (USD)</th>\n",
              "    </tr>\n",
              "    <tr>\n",
              "      <th>Date</th>\n",
              "      <th></th>\n",
              "      <th></th>\n",
              "      <th></th>\n",
              "      <th></th>\n",
              "      <th></th>\n",
              "    </tr>\n",
              "  </thead>\n",
              "  <tbody>\n",
              "    <tr>\n",
              "      <th>2013-10-01</th>\n",
              "      <td>BTC</td>\n",
              "      <td>123.65499</td>\n",
              "      <td>124.30466</td>\n",
              "      <td>124.75166</td>\n",
              "      <td>122.56349</td>\n",
              "    </tr>\n",
              "    <tr>\n",
              "      <th>2013-10-02</th>\n",
              "      <td>BTC</td>\n",
              "      <td>125.45500</td>\n",
              "      <td>123.65499</td>\n",
              "      <td>125.75850</td>\n",
              "      <td>123.63383</td>\n",
              "    </tr>\n",
              "    <tr>\n",
              "      <th>2013-10-03</th>\n",
              "      <td>BTC</td>\n",
              "      <td>108.58483</td>\n",
              "      <td>125.45500</td>\n",
              "      <td>125.66566</td>\n",
              "      <td>83.32833</td>\n",
              "    </tr>\n",
              "    <tr>\n",
              "      <th>2013-10-04</th>\n",
              "      <td>BTC</td>\n",
              "      <td>118.67466</td>\n",
              "      <td>108.58483</td>\n",
              "      <td>118.67500</td>\n",
              "      <td>107.05816</td>\n",
              "    </tr>\n",
              "    <tr>\n",
              "      <th>2013-10-05</th>\n",
              "      <td>BTC</td>\n",
              "      <td>121.33866</td>\n",
              "      <td>118.67466</td>\n",
              "      <td>121.93633</td>\n",
              "      <td>118.00566</td>\n",
              "    </tr>\n",
              "  </tbody>\n",
              "</table>\n",
              "</div>\n",
              "      <button class=\"colab-df-convert\" onclick=\"convertToInteractive('df-00d85049-d1f7-4349-9926-8da669014971')\"\n",
              "              title=\"Convert this dataframe to an interactive table.\"\n",
              "              style=\"display:none;\">\n",
              "        \n",
              "  <svg xmlns=\"http://www.w3.org/2000/svg\" height=\"24px\"viewBox=\"0 0 24 24\"\n",
              "       width=\"24px\">\n",
              "    <path d=\"M0 0h24v24H0V0z\" fill=\"none\"/>\n",
              "    <path d=\"M18.56 5.44l.94 2.06.94-2.06 2.06-.94-2.06-.94-.94-2.06-.94 2.06-2.06.94zm-11 1L8.5 8.5l.94-2.06 2.06-.94-2.06-.94L8.5 2.5l-.94 2.06-2.06.94zm10 10l.94 2.06.94-2.06 2.06-.94-2.06-.94-.94-2.06-.94 2.06-2.06.94z\"/><path d=\"M17.41 7.96l-1.37-1.37c-.4-.4-.92-.59-1.43-.59-.52 0-1.04.2-1.43.59L10.3 9.45l-7.72 7.72c-.78.78-.78 2.05 0 2.83L4 21.41c.39.39.9.59 1.41.59.51 0 1.02-.2 1.41-.59l7.78-7.78 2.81-2.81c.8-.78.8-2.07 0-2.86zM5.41 20L4 18.59l7.72-7.72 1.47 1.35L5.41 20z\"/>\n",
              "  </svg>\n",
              "      </button>\n",
              "      \n",
              "  <style>\n",
              "    .colab-df-container {\n",
              "      display:flex;\n",
              "      flex-wrap:wrap;\n",
              "      gap: 12px;\n",
              "    }\n",
              "\n",
              "    .colab-df-convert {\n",
              "      background-color: #E8F0FE;\n",
              "      border: none;\n",
              "      border-radius: 50%;\n",
              "      cursor: pointer;\n",
              "      display: none;\n",
              "      fill: #1967D2;\n",
              "      height: 32px;\n",
              "      padding: 0 0 0 0;\n",
              "      width: 32px;\n",
              "    }\n",
              "\n",
              "    .colab-df-convert:hover {\n",
              "      background-color: #E2EBFA;\n",
              "      box-shadow: 0px 1px 2px rgba(60, 64, 67, 0.3), 0px 1px 3px 1px rgba(60, 64, 67, 0.15);\n",
              "      fill: #174EA6;\n",
              "    }\n",
              "\n",
              "    [theme=dark] .colab-df-convert {\n",
              "      background-color: #3B4455;\n",
              "      fill: #D2E3FC;\n",
              "    }\n",
              "\n",
              "    [theme=dark] .colab-df-convert:hover {\n",
              "      background-color: #434B5C;\n",
              "      box-shadow: 0px 1px 3px 1px rgba(0, 0, 0, 0.15);\n",
              "      filter: drop-shadow(0px 1px 2px rgba(0, 0, 0, 0.3));\n",
              "      fill: #FFFFFF;\n",
              "    }\n",
              "  </style>\n",
              "\n",
              "      <script>\n",
              "        const buttonEl =\n",
              "          document.querySelector('#df-00d85049-d1f7-4349-9926-8da669014971 button.colab-df-convert');\n",
              "        buttonEl.style.display =\n",
              "          google.colab.kernel.accessAllowed ? 'block' : 'none';\n",
              "\n",
              "        async function convertToInteractive(key) {\n",
              "          const element = document.querySelector('#df-00d85049-d1f7-4349-9926-8da669014971');\n",
              "          const dataTable =\n",
              "            await google.colab.kernel.invokeFunction('convertToInteractive',\n",
              "                                                     [key], {});\n",
              "          if (!dataTable) return;\n",
              "\n",
              "          const docLinkHtml = 'Like what you see? Visit the ' +\n",
              "            '<a target=\"_blank\" href=https://colab.research.google.com/notebooks/data_table.ipynb>data table notebook</a>'\n",
              "            + ' to learn more about interactive tables.';\n",
              "          element.innerHTML = '';\n",
              "          dataTable['output_type'] = 'display_data';\n",
              "          await google.colab.output.renderOutput(dataTable, element);\n",
              "          const docLink = document.createElement('div');\n",
              "          docLink.innerHTML = docLinkHtml;\n",
              "          element.appendChild(docLink);\n",
              "        }\n",
              "      </script>\n",
              "    </div>\n",
              "  </div>\n",
              "  "
            ]
          },
          "metadata": {},
          "execution_count": 4
        }
      ]
    },
    {
      "cell_type": "code",
      "source": [
        "df.info()"
      ],
      "metadata": {
        "colab": {
          "base_uri": "https://localhost:8080/"
        },
        "id": "oDeBOuRTDtyb",
        "outputId": "a96279ba-d7c5-4731-c3b4-ae50d3579359"
      },
      "execution_count": 5,
      "outputs": [
        {
          "output_type": "stream",
          "name": "stdout",
          "text": [
            "<class 'pandas.core.frame.DataFrame'>\n",
            "DatetimeIndex: 2787 entries, 2013-10-01 to 2021-05-18\n",
            "Data columns (total 5 columns):\n",
            " #   Column               Non-Null Count  Dtype  \n",
            "---  ------               --------------  -----  \n",
            " 0   Currency             2787 non-null   object \n",
            " 1   Closing Price (USD)  2787 non-null   float64\n",
            " 2   24h Open (USD)       2787 non-null   float64\n",
            " 3   24h High (USD)       2787 non-null   float64\n",
            " 4   24h Low (USD)        2787 non-null   float64\n",
            "dtypes: float64(4), object(1)\n",
            "memory usage: 130.6+ KB\n"
          ]
        }
      ]
    },
    {
      "cell_type": "code",
      "source": [
        "df.shape"
      ],
      "metadata": {
        "colab": {
          "base_uri": "https://localhost:8080/"
        },
        "id": "_UpS-_04D0xW",
        "outputId": "701ce961-ebc7-417a-a665-fc549e6a5156"
      },
      "execution_count": 6,
      "outputs": [
        {
          "output_type": "execute_result",
          "data": {
            "text/plain": [
              "(2787, 5)"
            ]
          },
          "metadata": {},
          "execution_count": 6
        }
      ]
    },
    {
      "cell_type": "code",
      "source": [
        "# Only want closing price for each day\n",
        "bitcoin_prices = pd.DataFrame(df['Closing Price (USD)']).rename(columns={'Closing Price (USD)': 'Price'})\n",
        "bitcoin_prices.head()"
      ],
      "metadata": {
        "colab": {
          "base_uri": "https://localhost:8080/",
          "height": 237
        },
        "id": "VF3K-owOEUPm",
        "outputId": "9a8d5806-ef05-46a6-a72f-8a0972d86de9"
      },
      "execution_count": 7,
      "outputs": [
        {
          "output_type": "execute_result",
          "data": {
            "text/plain": [
              "                Price\n",
              "Date                 \n",
              "2013-10-01  123.65499\n",
              "2013-10-02  125.45500\n",
              "2013-10-03  108.58483\n",
              "2013-10-04  118.67466\n",
              "2013-10-05  121.33866"
            ],
            "text/html": [
              "\n",
              "  <div id=\"df-d3ae40e9-1b1d-4ce5-9c29-ee92c930020a\">\n",
              "    <div class=\"colab-df-container\">\n",
              "      <div>\n",
              "<style scoped>\n",
              "    .dataframe tbody tr th:only-of-type {\n",
              "        vertical-align: middle;\n",
              "    }\n",
              "\n",
              "    .dataframe tbody tr th {\n",
              "        vertical-align: top;\n",
              "    }\n",
              "\n",
              "    .dataframe thead th {\n",
              "        text-align: right;\n",
              "    }\n",
              "</style>\n",
              "<table border=\"1\" class=\"dataframe\">\n",
              "  <thead>\n",
              "    <tr style=\"text-align: right;\">\n",
              "      <th></th>\n",
              "      <th>Price</th>\n",
              "    </tr>\n",
              "    <tr>\n",
              "      <th>Date</th>\n",
              "      <th></th>\n",
              "    </tr>\n",
              "  </thead>\n",
              "  <tbody>\n",
              "    <tr>\n",
              "      <th>2013-10-01</th>\n",
              "      <td>123.65499</td>\n",
              "    </tr>\n",
              "    <tr>\n",
              "      <th>2013-10-02</th>\n",
              "      <td>125.45500</td>\n",
              "    </tr>\n",
              "    <tr>\n",
              "      <th>2013-10-03</th>\n",
              "      <td>108.58483</td>\n",
              "    </tr>\n",
              "    <tr>\n",
              "      <th>2013-10-04</th>\n",
              "      <td>118.67466</td>\n",
              "    </tr>\n",
              "    <tr>\n",
              "      <th>2013-10-05</th>\n",
              "      <td>121.33866</td>\n",
              "    </tr>\n",
              "  </tbody>\n",
              "</table>\n",
              "</div>\n",
              "      <button class=\"colab-df-convert\" onclick=\"convertToInteractive('df-d3ae40e9-1b1d-4ce5-9c29-ee92c930020a')\"\n",
              "              title=\"Convert this dataframe to an interactive table.\"\n",
              "              style=\"display:none;\">\n",
              "        \n",
              "  <svg xmlns=\"http://www.w3.org/2000/svg\" height=\"24px\"viewBox=\"0 0 24 24\"\n",
              "       width=\"24px\">\n",
              "    <path d=\"M0 0h24v24H0V0z\" fill=\"none\"/>\n",
              "    <path d=\"M18.56 5.44l.94 2.06.94-2.06 2.06-.94-2.06-.94-.94-2.06-.94 2.06-2.06.94zm-11 1L8.5 8.5l.94-2.06 2.06-.94-2.06-.94L8.5 2.5l-.94 2.06-2.06.94zm10 10l.94 2.06.94-2.06 2.06-.94-2.06-.94-.94-2.06-.94 2.06-2.06.94z\"/><path d=\"M17.41 7.96l-1.37-1.37c-.4-.4-.92-.59-1.43-.59-.52 0-1.04.2-1.43.59L10.3 9.45l-7.72 7.72c-.78.78-.78 2.05 0 2.83L4 21.41c.39.39.9.59 1.41.59.51 0 1.02-.2 1.41-.59l7.78-7.78 2.81-2.81c.8-.78.8-2.07 0-2.86zM5.41 20L4 18.59l7.72-7.72 1.47 1.35L5.41 20z\"/>\n",
              "  </svg>\n",
              "      </button>\n",
              "      \n",
              "  <style>\n",
              "    .colab-df-container {\n",
              "      display:flex;\n",
              "      flex-wrap:wrap;\n",
              "      gap: 12px;\n",
              "    }\n",
              "\n",
              "    .colab-df-convert {\n",
              "      background-color: #E8F0FE;\n",
              "      border: none;\n",
              "      border-radius: 50%;\n",
              "      cursor: pointer;\n",
              "      display: none;\n",
              "      fill: #1967D2;\n",
              "      height: 32px;\n",
              "      padding: 0 0 0 0;\n",
              "      width: 32px;\n",
              "    }\n",
              "\n",
              "    .colab-df-convert:hover {\n",
              "      background-color: #E2EBFA;\n",
              "      box-shadow: 0px 1px 2px rgba(60, 64, 67, 0.3), 0px 1px 3px 1px rgba(60, 64, 67, 0.15);\n",
              "      fill: #174EA6;\n",
              "    }\n",
              "\n",
              "    [theme=dark] .colab-df-convert {\n",
              "      background-color: #3B4455;\n",
              "      fill: #D2E3FC;\n",
              "    }\n",
              "\n",
              "    [theme=dark] .colab-df-convert:hover {\n",
              "      background-color: #434B5C;\n",
              "      box-shadow: 0px 1px 3px 1px rgba(0, 0, 0, 0.15);\n",
              "      filter: drop-shadow(0px 1px 2px rgba(0, 0, 0, 0.3));\n",
              "      fill: #FFFFFF;\n",
              "    }\n",
              "  </style>\n",
              "\n",
              "      <script>\n",
              "        const buttonEl =\n",
              "          document.querySelector('#df-d3ae40e9-1b1d-4ce5-9c29-ee92c930020a button.colab-df-convert');\n",
              "        buttonEl.style.display =\n",
              "          google.colab.kernel.accessAllowed ? 'block' : 'none';\n",
              "\n",
              "        async function convertToInteractive(key) {\n",
              "          const element = document.querySelector('#df-d3ae40e9-1b1d-4ce5-9c29-ee92c930020a');\n",
              "          const dataTable =\n",
              "            await google.colab.kernel.invokeFunction('convertToInteractive',\n",
              "                                                     [key], {});\n",
              "          if (!dataTable) return;\n",
              "\n",
              "          const docLinkHtml = 'Like what you see? Visit the ' +\n",
              "            '<a target=\"_blank\" href=https://colab.research.google.com/notebooks/data_table.ipynb>data table notebook</a>'\n",
              "            + ' to learn more about interactive tables.';\n",
              "          element.innerHTML = '';\n",
              "          dataTable['output_type'] = 'display_data';\n",
              "          await google.colab.output.renderOutput(dataTable, element);\n",
              "          const docLink = document.createElement('div');\n",
              "          docLink.innerHTML = docLinkHtml;\n",
              "          element.appendChild(docLink);\n",
              "        }\n",
              "      </script>\n",
              "    </div>\n",
              "  </div>\n",
              "  "
            ]
          },
          "metadata": {},
          "execution_count": 7
        }
      ]
    },
    {
      "cell_type": "code",
      "source": [
        "# Visulaizing data\n",
        "import matplotlib.pyplot as plt\n",
        "bitcoin_prices.plot(figsize=(10, 7))\n",
        "plt.ylabel('BTC Price')\n",
        "plt.title('Price of Bitcoin from 1 Oct 2013 to 18 May 2021', fontsize=16)\n",
        "plt.legend(fontsize=14)"
      ],
      "metadata": {
        "colab": {
          "base_uri": "https://localhost:8080/",
          "height": 477
        },
        "id": "TbkLAN_0FVYy",
        "outputId": "bbd78b4a-f37b-462d-bbe8-9bc069c1c70c"
      },
      "execution_count": 8,
      "outputs": [
        {
          "output_type": "execute_result",
          "data": {
            "text/plain": [
              "<matplotlib.legend.Legend at 0x7fa0633f6100>"
            ]
          },
          "metadata": {},
          "execution_count": 8
        },
        {
          "output_type": "display_data",
          "data": {
            "text/plain": [
              "<Figure size 720x504 with 1 Axes>"
            ],
            "image/png": "[encoded data removed]"
          },
          "metadata": {
            "needs_background": "light"
          }
        }
      ]
    },
    {
      "cell_type": "markdown",
      "source": [
        "### Importing time series data with Python's CSV module"
      ],
      "metadata": {
        "id": "sJTzfAWTGPFT"
      }
    },
    {
      "cell_type": "code",
      "source": [
        "# Importing and formatting historical Bitcoin data with Python\n",
        "\n",
        "import csv\n",
        "from datetime import datetime\n",
        "\n",
        "timesteps = []\n",
        "btc_price = []\n",
        "with open('/content/BTC_USD_2013-10-01_2021-05-18-CoinDesk.csv') as f:\n",
        "  csv_reader = csv.reader(f, delimiter=',')\n",
        "  next(csv_reader)\n",
        "  for line in csv_reader:\n",
        "    timesteps.append(datetime.strptime(line[1], \"%Y-%m-%d\"))\n",
        "    btc_price.append(float(line[2]))\n",
        "\n",
        "# View first 10 of each\n",
        "\n",
        "timesteps[:10], btc_price[:10]"
      ],
      "metadata": {
        "colab": {
          "base_uri": "https://localhost:8080/"
        },
        "id": "iGnvksqrGLF8",
        "outputId": "c247185c-4e23-4b5f-9b35-9b892c8b5287"
      },
      "execution_count": 9,
      "outputs": [
        {
          "output_type": "execute_result",
          "data": {
            "text/plain": [
              "([datetime.datetime(2013, 10, 1, 0, 0),\n",
              "  datetime.datetime(2013, 10, 2, 0, 0),\n",
              "  datetime.datetime(2013, 10, 3, 0, 0),\n",
              "  datetime.datetime(2013, 10, 4, 0, 0),\n",
              "  datetime.datetime(2013, 10, 5, 0, 0),\n",
              "  datetime.datetime(2013, 10, 6, 0, 0),\n",
              "  datetime.datetime(2013, 10, 7, 0, 0),\n",
              "  datetime.datetime(2013, 10, 8, 0, 0),\n",
              "  datetime.datetime(2013, 10, 9, 0, 0),\n",
              "  datetime.datetime(2013, 10, 10, 0, 0)],\n",
              " [123.65499,\n",
              "  125.455,\n",
              "  108.58483,\n",
              "  118.67466,\n",
              "  121.33866,\n",
              "  120.65533,\n",
              "  121.795,\n",
              "  123.033,\n",
              "  124.049,\n",
              "  125.96116])"
            ]
          },
          "metadata": {},
          "execution_count": 9
        }
      ]
    },
    {
      "cell_type": "code",
      "source": [
        "# Plot from CSV\n",
        "import matplotlib.pyplot as plt\n",
        "plt.figure(figsize=(10, 7))\n",
        "plt.plot(timesteps, btc_price)\n",
        "plt.ylabel('BTC Price')\n",
        "plt.title('Price of Bitcoin from 1 Oct 2013 to 18 May 2021', fontsize=16)\n",
        "plt.xlabel('Date')"
      ],
      "metadata": {
        "colab": {
          "base_uri": "https://localhost:8080/",
          "height": 477
        },
        "id": "qBOzExKVH5MY",
        "outputId": "2e8ce3bb-fcb2-4996-8c62-ba5b585d3e10"
      },
      "execution_count": 10,
      "outputs": [
        {
          "output_type": "execute_result",
          "data": {
            "text/plain": [
              "Text(0.5, 0, 'Date')"
            ]
          },
          "metadata": {},
          "execution_count": 10
        },
        {
          "output_type": "display_data",
          "data": {
            "text/plain": [
              "<Figure size 720x504 with 1 Axes>"
            ],
            "image/png": "[encoded data removed]"
          },
          "metadata": {
            "needs_background": "light"
          }
        }
      ]
    },
    {
      "cell_type": "markdown",
      "source": [
        "## Formatting data for time series problem"
      ],
      "metadata": {
        "id": "kDch2yFnKIUM"
      }
    },
    {
      "cell_type": "markdown",
      "source": [
        "### Creating train and test sets for time series data (the wrong way)"
      ],
      "metadata": {
        "id": "8mZmNjyCKNU8"
      }
    },
    {
      "cell_type": "code",
      "source": [
        "# Get Bitcoin date array\n",
        "\n",
        "timesteps = bitcoin_prices.index.to_numpy()\n",
        "prices = bitcoin_prices['Price'].to_numpy()\n",
        "\n",
        "timesteps[:10], prices[:10]"
      ],
      "metadata": {
        "colab": {
          "base_uri": "https://localhost:8080/"
        },
        "id": "DnfJTaXLIu9x",
        "outputId": "1b944c42-9f04-4bba-da15-9358626dfaee"
      },
      "execution_count": 11,
      "outputs": [
        {
          "output_type": "execute_result",
          "data": {
            "text/plain": [
              "(array(['2013-10-01T00:00:00.000000000', '2013-10-02T00:00:00.000000000',\n",
              "        '2013-10-03T00:00:00.000000000', '2013-10-04T00:00:00.000000000',\n",
              "        '2013-10-05T00:00:00.000000000', '2013-10-06T00:00:00.000000000',\n",
              "        '2013-10-07T00:00:00.000000000', '2013-10-08T00:00:00.000000000',\n",
              "        '2013-10-09T00:00:00.000000000', '2013-10-10T00:00:00.000000000'],\n",
              "       dtype='datetime64[ns]'),\n",
              " array([123.65499, 125.455  , 108.58483, 118.67466, 121.33866, 120.65533,\n",
              "        121.795  , 123.033  , 124.049  , 125.96116]))"
            ]
          },
          "metadata": {},
          "execution_count": 11
        }
      ]
    },
    {
      "cell_type": "code",
      "source": [
        "# Wrong way to make train test split\n",
        "\n",
        "from sklearn.model_selection import train_test_split\n",
        "X_train, X_test, y_train, y_test = train_test_split(timesteps,\n",
        "                                                    prices,\n",
        "                                                    test_size=0.2,\n",
        "                                                    random_state=42)\n",
        "X_train.shape, X_test.shape, y_train.shape, y_test.shape"
      ],
      "metadata": {
        "colab": {
          "base_uri": "https://localhost:8080/"
        },
        "id": "vqlUhjJULTK3",
        "outputId": "3319b5cf-165f-425e-b542-ea8ab345635d"
      },
      "execution_count": 12,
      "outputs": [
        {
          "output_type": "execute_result",
          "data": {
            "text/plain": [
              "((2229,), (558,), (2229,), (558,))"
            ]
          },
          "metadata": {},
          "execution_count": 12
        }
      ]
    },
    {
      "cell_type": "code",
      "source": [
        "# Plotting wrong train and test splits\n",
        "\n",
        "plt.figure(figsize=(10, 7))\n",
        "plt.scatter(X_train, y_train, s=5, label='Train data')\n",
        "plt.scatter(X_test, y_test, s=5, label='Test data')\n",
        "plt.xlabel('Date')\n",
        "plt.ylabel('BTC Price')\n",
        "plt.legend(fontsize=14)\n",
        "plt.show()"
      ],
      "metadata": {
        "colab": {
          "base_uri": "https://localhost:8080/",
          "height": 442
        },
        "id": "AT8nCaLAMAev",
        "outputId": "7204c51e-1cb1-41f2-ab8a-86ce2532c011"
      },
      "execution_count": 13,
      "outputs": [
        {
          "output_type": "display_data",
          "data": {
            "text/plain": [
              "<Figure size 720x504 with 1 Axes>"
            ],
            "image/png": "[encoded data removed]"
          },
          "metadata": {
            "needs_background": "light"
          }
        }
      ]
    },
    {
      "cell_type": "markdown",
      "source": [
        "### Creating train and test sets for time series data (the right way)"
      ],
      "metadata": {
        "id": "zlqfQuVxOLez"
      }
    },
    {
      "cell_type": "code",
      "source": [
        "split_size = int(0.8 * len(prices))\n",
        "\n",
        "X_train, y_train = timesteps[0:split_size], prices[:split_size]\n",
        "\n",
        "X_test, y_test = timesteps[split_size:], prices[split_size:]\n",
        "\n",
        "len(X_train), len(X_test), len(y_train), len(y_test)"
      ],
      "metadata": {
        "colab": {
          "base_uri": "https://localhost:8080/"
        },
        "id": "gV8dMGg5M5zk",
        "outputId": "03b3698c-9a78-4e65-9bdc-feae1034e480"
      },
      "execution_count": 14,
      "outputs": [
        {
          "output_type": "execute_result",
          "data": {
            "text/plain": [
              "(2229, 558, 2229, 558)"
            ]
          },
          "metadata": {},
          "execution_count": 14
        }
      ]
    },
    {
      "cell_type": "code",
      "source": [
        "# Plot correctly made splits\n",
        "\n",
        "plt.figure(figsize=(10, 7))\n",
        "plt.scatter(X_train, y_train, s=5, label='Train data')\n",
        "plt.scatter(X_test, y_test, s=5, label='Test data')\n",
        "plt.xlabel('Date')\n",
        "plt.ylabel('BTC Price')\n",
        "plt.legend(fontsize=14)\n",
        "plt.show()"
      ],
      "metadata": {
        "colab": {
          "base_uri": "https://localhost:8080/",
          "height": 442
        },
        "id": "xiFfNRa8PF6S",
        "outputId": "81f14a60-1396-4a5a-f6d7-c848018af93d"
      },
      "execution_count": 15,
      "outputs": [
        {
          "output_type": "display_data",
          "data": {
            "text/plain": [
              "<Figure size 720x504 with 1 Axes>"
            ],
            "image/png": "[encoded data removed]"
          },
          "metadata": {
            "needs_background": "light"
          }
        }
      ]
    },
    {
      "cell_type": "markdown",
      "source": [
        "### Creating a plotting function"
      ],
      "metadata": {
        "id": "QZIaqB4fP5f-"
      }
    },
    {
      "cell_type": "code",
      "source": [
        "def plot_time_series(timesteps, values, format='.', start=0, end=None, label=None):\n",
        "  plt.plot(timesteps[start:end], values[start:end], format, label=label)\n",
        "  plt.xlabel('Time')\n",
        "  plt.ylabel('BTC Price')\n",
        "  if label:\n",
        "    plt.legend(fontsize=14)\n",
        "  plt.grid(True) "
      ],
      "metadata": {
        "id": "bOQp_MxvP0R7"
      },
      "execution_count": 16,
      "outputs": []
    },
    {
      "cell_type": "code",
      "source": [
        "# Try out our plotting function\n",
        "\n",
        "plt.figure(figsize=(10, 7))\n",
        "plot_time_series(timesteps=X_train, values=y_train, label='Train data')\n",
        "plot_time_series(timesteps=X_test, values=y_test, label='Test data')"
      ],
      "metadata": {
        "colab": {
          "base_uri": "https://localhost:8080/",
          "height": 442
        },
        "id": "NxSMbI3GRaVW",
        "outputId": "a0b5aa30-9ead-49bc-9df2-70e5df423f51"
      },
      "execution_count": 17,
      "outputs": [
        {
          "output_type": "display_data",
          "data": {
            "text/plain": [
              "<Figure size 720x504 with 1 Axes>"
            ],
            "image/png": "[encoded data removed]"
          },
          "metadata": {
            "needs_background": "light"
          }
        }
      ]
    },
    {
      "cell_type": "markdown",
      "source": [
        "## Modelling Experiments"
      ],
      "metadata": {
        "id": "BfgMr9kUb5mH"
      }
    },
    {
      "cell_type": "markdown",
      "source": [
        "### Model 0: Naive Forecast (baseline)"
      ],
      "metadata": {
        "id": "rpB-eC7ob87b"
      }
    },
    {
      "cell_type": "code",
      "source": [
        "# Create a naive forecast\n",
        "\n",
        "naive_forecast = y_test[:-1]\n",
        "naive_forecast[:10], naive_forecast[-10:]"
      ],
      "metadata": {
        "id": "pmwXESXCR4W5",
        "colab": {
          "base_uri": "https://localhost:8080/"
        },
        "outputId": "8f443a48-c826-442f-84e4-c079fdc4216e"
      },
      "execution_count": 18,
      "outputs": [
        {
          "output_type": "execute_result",
          "data": {
            "text/plain": [
              "(array([9226.48582088, 8794.35864452, 8798.04205463, 9081.18687849,\n",
              "        8711.53433917, 8760.89271814, 8749.52059102, 8656.97092235,\n",
              "        8500.64355816, 8469.2608989 ]),\n",
              " array([57107.12067189, 58788.20967893, 58102.19142623, 55715.54665129,\n",
              "        56573.5554719 , 52147.82118698, 49764.1320816 , 50032.69313676,\n",
              "        47885.62525472, 45604.61575361]))"
            ]
          },
          "metadata": {},
          "execution_count": 18
        }
      ]
    },
    {
      "cell_type": "code",
      "source": [
        "# Plot naive forecast\n",
        "\n",
        "plt.figure(figsize=(10, 7))\n",
        "plot_time_series(timesteps=X_train, values=y_train, label='Train data')\n",
        "plot_time_series(timesteps=X_test, values=y_test, label='Test data')\n",
        "plot_time_series(timesteps=X_test[1:], values=naive_forecast, label='Naive Forecast')"
      ],
      "metadata": {
        "colab": {
          "base_uri": "https://localhost:8080/",
          "height": 442
        },
        "id": "o0SYgJp0c7iJ",
        "outputId": "1b09e61a-96da-4bb6-e130-25d437bf1281"
      },
      "execution_count": 19,
      "outputs": [
        {
          "output_type": "display_data",
          "data": {
            "text/plain": [
              "<Figure size 720x504 with 1 Axes>"
            ],
            "image/png": "[encoded data removed]"
          },
          "metadata": {
            "needs_background": "light"
          }
        }
      ]
    },
    {
      "cell_type": "code",
      "source": [
        "# Zooming in the plot\n",
        "\n",
        "plt.figure(figsize=(10, 7))\n",
        "offset = 300\n",
        "plot_time_series(timesteps=X_test, values=y_test, start=offset, label='Test data')\n",
        "plot_time_series(timesteps=X_test[1:], values=naive_forecast, start=offset, format='-', label='Naive forecast')\n"
      ],
      "metadata": {
        "colab": {
          "base_uri": "https://localhost:8080/",
          "height": 442
        },
        "id": "0oTrV_iKeDJG",
        "outputId": "311d38f8-ccab-42db-9bac-54d1fdfba32c"
      },
      "execution_count": 20,
      "outputs": [
        {
          "output_type": "display_data",
          "data": {
            "text/plain": [
              "<Figure size 720x504 with 1 Axes>"
            ],
            "image/png": "[encoded data removed]"
          },
          "metadata": {
            "needs_background": "light"
          }
        }
      ]
    },
    {
      "cell_type": "markdown",
      "source": [
        "### Evaluating a time series model"
      ],
      "metadata": {
        "id": "sanRTmVuf1Nn"
      }
    },
    {
      "cell_type": "code",
      "source": [
        "import tensorflow as tf"
      ],
      "metadata": {
        "id": "OvW8fMQ4faf-"
      },
      "execution_count": 21,
      "outputs": []
    },
    {
      "cell_type": "code",
      "source": [
        "# Create a function to calculate MASE (mean absolute scaled error)\n",
        "\n",
        "def mean_absolute_scaled_error(y_true, y_pred):\n",
        "  \n",
        "  mae = tf.reduce_mean(tf.abs(y_true - y_pred))\n",
        "  mae_naive_no_season = tf.reduce_mean(tf.abs(y_true[1:]-y_true[:-1]))\n",
        "  \n",
        "  return mae/mae_naive_no_season"
      ],
      "metadata": {
        "id": "QM1clImrhVrn"
      },
      "execution_count": 22,
      "outputs": []
    },
    {
      "cell_type": "code",
      "source": [
        "# Create a function to calculate results (predictions)\n",
        "\n",
        "def evaluate_preds(y_true, y_pred):\n",
        "\n",
        "  y_true = tf.cast(y_true, dtype=tf.float32)\n",
        "  y_pred = tf.cast(y_pred, dtype=tf.float32)\n",
        "\n",
        "  mae = tf.keras.metrics.mean_absolute_error(y_true, y_pred)\n",
        "  mape = tf.keras.metrics.mean_absolute_percentage_error(y_true, y_pred)\n",
        "  mse = tf.keras.metrics.mean_squared_error(y_true, y_pred)\n",
        "  rmse = tf.sqrt(mse)\n",
        "  mase = mean_absolute_scaled_error(y_true, y_pred)\n",
        "\n",
        "  return {\"mae\": mae.numpy(),\n",
        "          \"mse\": mse.numpy(),\n",
        "          \"rmse\": rmse.numpy(),\n",
        "          \"mape\": mape.numpy(),\n",
        "          \"mase\": mase.numpy()}"
      ],
      "metadata": {
        "id": "XBtQtFGOiLrB"
      },
      "execution_count": 23,
      "outputs": []
    },
    {
      "cell_type": "code",
      "source": [
        "naive_results = evaluate_preds(y_true=y_test[1:], y_pred=naive_forecast)\n",
        "naive_results"
      ],
      "metadata": {
        "colab": {
          "base_uri": "https://localhost:8080/"
        },
        "id": "x7es2RpTkshz",
        "outputId": "757267ae-067e-4596-9c87-bb31d9e5802e"
      },
      "execution_count": 24,
      "outputs": [
        {
          "output_type": "execute_result",
          "data": {
            "text/plain": [
              "{'mae': 567.9802,\n",
              " 'mse': 1147547.0,\n",
              " 'rmse': 1071.2362,\n",
              " 'mape': 2.516525,\n",
              " 'mase': 0.99957}"
            ]
          },
          "metadata": {},
          "execution_count": 24
        }
      ]
    },
    {
      "cell_type": "markdown",
      "source": [
        "### Other models/libraries for time series forecasting\n",
        "  * Moving average\n",
        "  * ARIMA (AutoRegression Integrated Moving Average)\n",
        "  * Sktime (Scikit-learn for time series)\n",
        "  * TensorFlow Decision Forecasts (random forest, gradient boosting trees)\n",
        "  * Facebook Kats (purpose built forecasting and time series analysis library by facebook)\n",
        "  * LinkedIn Greykite (flexible, intuitive and fast forecasts)\n"
      ],
      "metadata": {
        "id": "TV-DO7-MluR4"
      }
    },
    {
      "cell_type": "markdown",
      "source": [
        "### Windowing dataset"
      ],
      "metadata": {
        "id": "I22RSH9sn3ln"
      }
    },
    {
      "cell_type": "code",
      "source": [
        "HORIZON = 1           # Predict 1 step at a time\n",
        "WINDOW_SIZE = 7       # Use a week worth of timestamps to predict the horizon"
      ],
      "metadata": {
        "id": "a70thobTlPuh"
      },
      "execution_count": 25,
      "outputs": []
    },
    {
      "cell_type": "code",
      "source": [
        "# Create a function to label windowed data\n",
        "\n",
        "def get_labelled_windows(x, horizon=1):\n",
        "\n",
        "  return x[:,:-horizon], x[:,-horizon:]"
      ],
      "metadata": {
        "id": "VPKDC6yciCQY"
      },
      "execution_count": 26,
      "outputs": []
    },
    {
      "cell_type": "code",
      "source": [
        "# Test out the window labelling function\n",
        "\n",
        "test_window, test_label = get_labelled_windows(tf.expand_dims(tf.range(8)+1, axis=0), horizon=HORIZON)\n",
        "print(f\"Window: {test_window} -> Label: {test_label}\")"
      ],
      "metadata": {
        "colab": {
          "base_uri": "https://localhost:8080/"
        },
        "id": "IUX9-nrCigQh",
        "outputId": "09f18245-9bc1-4afd-a710-08f229764ae1"
      },
      "execution_count": 27,
      "outputs": [
        {
          "output_type": "stream",
          "name": "stdout",
          "text": [
            "Window: [[1 2 3 4 5 6 7]] -> Label: [[8]]\n"
          ]
        }
      ]
    },
    {
      "cell_type": "code",
      "source": [
        "# Create a function to view NumPy arrays as windows\n",
        "\n",
        "def make_windows(x, window_size=7, horizon=1):\n",
        "\n",
        "  # 1. Create a window of specific window size (add the horizon on the end for later labelling)\n",
        "  window_step = np.expand_dims(np.arange(window_size+horizon), axis=0)\n",
        "\n",
        "  # 2. Create a 2D array of multiple window steps (minus 1 to account for zero indexing)\n",
        "  window_indexes = window_step + np.expand_dims(np.arange(len(x) - (window_size+horizon-1)), axis=0).T\n",
        "\n",
        "  # 3. Index on the target array (time series) with 2D array of multiple window steps\n",
        "  windowed_array = x[window_indexes]\n",
        "\n",
        "  # 4. Get the labelled windows\n",
        "  windows, labels = get_labelled_windows(windowed_array, horizon=horizon)\n",
        "\n",
        "  return windows, labels"
      ],
      "metadata": {
        "id": "gpxsb2UFjMnm"
      },
      "execution_count": 28,
      "outputs": []
    },
    {
      "cell_type": "code",
      "source": [
        "full_windows, full_labels = make_windows(prices, window_size=WINDOW_SIZE, horizon=HORIZON)\n",
        "len(full_windows), len(full_labels)"
      ],
      "metadata": {
        "colab": {
          "base_uri": "https://localhost:8080/"
        },
        "id": "_5vi0FoVmn6E",
        "outputId": "7246e8d4-2100-4e35-b222-aaeafc260ba5"
      },
      "execution_count": 29,
      "outputs": [
        {
          "output_type": "execute_result",
          "data": {
            "text/plain": [
              "(2780, 2780)"
            ]
          },
          "metadata": {},
          "execution_count": 29
        }
      ]
    },
    {
      "cell_type": "code",
      "source": [
        "# View the first three windows/labels\n",
        "\n",
        "for i in range(3):\n",
        "  print(f\"Window: {full_windows[i]} -> Label: {full_labels[i]}\")"
      ],
      "metadata": {
        "colab": {
          "base_uri": "https://localhost:8080/"
        },
        "id": "3cp-Yq6Kodhs",
        "outputId": "a7173af1-3a28-4bb9-bf67-1d535c7db609"
      },
      "execution_count": 30,
      "outputs": [
        {
          "output_type": "stream",
          "name": "stdout",
          "text": [
            "Window: [123.65499 125.455   108.58483 118.67466 121.33866 120.65533 121.795  ] -> Label: [123.033]\n",
            "Window: [125.455   108.58483 118.67466 121.33866 120.65533 121.795   123.033  ] -> Label: [124.049]\n",
            "Window: [108.58483 118.67466 121.33866 120.65533 121.795   123.033   124.049  ] -> Label: [125.96116]\n"
          ]
        }
      ]
    },
    {
      "cell_type": "markdown",
      "source": [
        "### Turning windows into training and test sets"
      ],
      "metadata": {
        "id": "L1GLRpXNplZa"
      }
    },
    {
      "cell_type": "code",
      "source": [
        "# Make the train test split\n",
        "\n",
        "def make_train_test_split(windows, labels, test_split=0.2):\n",
        "\n",
        "  split_size = int(len(windows) * (1-test_split))\n",
        "  train_windows = windows[:split_size]\n",
        "  train_labels = labels[:split_size]\n",
        "  test_windows = windows[split_size:]\n",
        "  test_labels = labels[split_size:]\n",
        "\n",
        "  return train_windows, test_windows, train_labels, test_labels"
      ],
      "metadata": {
        "id": "Z_Lz-h6HpRke"
      },
      "execution_count": 31,
      "outputs": []
    },
    {
      "cell_type": "code",
      "source": [
        "train_windows, test_windows, train_labels, test_labels = make_train_test_split(full_windows, full_labels)\n",
        "len(train_windows), len(test_windows), len(train_labels), len(test_labels)"
      ],
      "metadata": {
        "colab": {
          "base_uri": "https://localhost:8080/"
        },
        "id": "TJwMFnKArrGT",
        "outputId": "a1454841-32c4-44e4-87f5-f12c30091bcc"
      },
      "execution_count": 32,
      "outputs": [
        {
          "output_type": "execute_result",
          "data": {
            "text/plain": [
              "(2224, 556, 2224, 556)"
            ]
          },
          "metadata": {},
          "execution_count": 32
        }
      ]
    },
    {
      "cell_type": "code",
      "source": [
        "train_windows[:5], train_labels[:5]"
      ],
      "metadata": {
        "colab": {
          "base_uri": "https://localhost:8080/"
        },
        "id": "mdae9nPmr-TP",
        "outputId": "5324cabc-6470-4171-ce8f-a157f51b924a"
      },
      "execution_count": 33,
      "outputs": [
        {
          "output_type": "execute_result",
          "data": {
            "text/plain": [
              "(array([[123.65499, 125.455  , 108.58483, 118.67466, 121.33866, 120.65533,\n",
              "         121.795  ],\n",
              "        [125.455  , 108.58483, 118.67466, 121.33866, 120.65533, 121.795  ,\n",
              "         123.033  ],\n",
              "        [108.58483, 118.67466, 121.33866, 120.65533, 121.795  , 123.033  ,\n",
              "         124.049  ],\n",
              "        [118.67466, 121.33866, 120.65533, 121.795  , 123.033  , 124.049  ,\n",
              "         125.96116],\n",
              "        [121.33866, 120.65533, 121.795  , 123.033  , 124.049  , 125.96116,\n",
              "         125.27966]]), array([[123.033  ],\n",
              "        [124.049  ],\n",
              "        [125.96116],\n",
              "        [125.27966],\n",
              "        [125.9275 ]]))"
            ]
          },
          "metadata": {},
          "execution_count": 33
        }
      ]
    },
    {
      "cell_type": "markdown",
      "source": [
        "### Make modelling checkpoint"
      ],
      "metadata": {
        "id": "TgtlgPZPsjEu"
      }
    },
    {
      "cell_type": "code",
      "source": [
        "import os\n",
        "\n",
        "# Create a function ti implement model checkpoint callback with a specific filename\n",
        "\n",
        "def create_model_checkpoint(model_name, save_path=\"model_experiments\"):\n",
        "  \n",
        "  return tf.keras.callbacks.ModelCheckpoint(filepath=os.path.join(save_path, model_name),\n",
        "                                            verbose=0,\n",
        "                                            save_best_only=True)"
      ],
      "metadata": {
        "id": "qFXvvNMYslwM"
      },
      "execution_count": 34,
      "outputs": []
    },
    {
      "cell_type": "markdown",
      "source": [
        "### Model 1: Dense model (window = 7, horizon = 1)"
      ],
      "metadata": {
        "id": "Z9baqLMTd2nL"
      }
    },
    {
      "cell_type": "code",
      "source": [
        "import tensorflow as tf\n",
        "from tensorflow.keras import layers\n",
        "\n",
        "# Set seed\n",
        "tf.random.set_seed(42)\n",
        "\n",
        "# Construct model\n",
        "model_1 = tf.keras.Sequential([\n",
        "    layers.Dense(128, activation=\"relu\"),\n",
        "    layers.Dense(HORIZON, activation=\"linear\")\n",
        "], name=\"model_1_dense\")\n",
        "\n",
        "# Compile model\n",
        "model_1.compile(loss=\"mae\",\n",
        "                optimizer=tf.keras.optimizers.Adam(),\n",
        "                metrics=[\"mae\"])\n",
        "\n",
        "# Fit model\n",
        "model_1.fit(x=train_windows,\n",
        "            y=train_labels,\n",
        "            epochs=100,\n",
        "            verbose=1,\n",
        "            batch_size=128,\n",
        "            validation_data=(test_windows, test_labels),\n",
        "            callbacks=[create_model_checkpoint(model_name=model_1.name)])"
      ],
      "metadata": {
        "colab": {
          "base_uri": "https://localhost:8080/"
        },
        "id": "N3JjZ0mzu6_9",
        "outputId": "ef007bc3-243f-4d97-f3f1-7e12aee43d25"
      },
      "execution_count": 35,
      "outputs": [
        {
          "output_type": "stream",
          "name": "stdout",
          "text": [
            "Epoch 1/100\n",
            "12/18 [===================>..........] - ETA: 0s - loss: 2476.9292 - mae: 2476.9292  "
          ]
        },
        {
          "output_type": "stream",
          "name": "stderr",
          "text": [
            "WARNING:absl:Found untraced functions such as _update_step_xla while saving (showing 1 of 1). These functions will not be directly callable after loading.\n"
          ]
        },
        {
          "output_type": "stream",
          "name": "stdout",
          "text": [
            "\b\b\b\b\b\b\b\b\b\b\b\b\b\b\b\b\b\b\b\b\b\b\b\b\b\b\b\b\b\b\b\b\b\b\b\b\b\b\b\b\b\b\b\b\b\b\b\b\b\b\b\b\b\b\b\b\b\b\b\b\b\b\b\b\b\b\b\b\b\b\b\b\b\b\b\b\b\b\b\b\b\b\b\r18/18 [==============================] - 7s 108ms/step - loss: 1947.2305 - mae: 1947.2305 - val_loss: 1044.5790 - val_mae: 1044.5790\n",
            "Epoch 2/100\n",
            "18/18 [==============================] - 0s 10ms/step - loss: 378.9498 - mae: 378.9498 - val_loss: 1735.2070 - val_mae: 1735.2070\n",
            "Epoch 3/100\n",
            "18/18 [==============================] - 0s 17ms/step - loss: 236.4646 - mae: 236.4646 - val_loss: 1064.8657 - val_mae: 1064.8657\n",
            "Epoch 4/100\n",
            "17/18 [===========================>..] - ETA: 0s - loss: 191.6989 - mae: 191.6989"
          ]
        },
        {
          "output_type": "stream",
          "name": "stderr",
          "text": [
            "WARNING:absl:Found untraced functions such as _update_step_xla while saving (showing 1 of 1). These functions will not be directly callable after loading.\n"
          ]
        },
        {
          "output_type": "stream",
          "name": "stdout",
          "text": [
            "\b\b\b\b\b\b\b\b\b\b\b\b\b\b\b\b\b\b\b\b\b\b\b\b\b\b\b\b\b\b\b\b\b\b\b\b\b\b\b\b\b\b\b\b\b\b\b\b\b\b\b\b\b\b\b\b\b\b\b\b\b\b\b\b\b\b\b\b\b\b\b\b\b\b\b\b\b\b\b\b\b\r18/18 [==============================] - 2s 111ms/step - loss: 190.1012 - mae: 190.1012 - val_loss: 1007.8514 - val_mae: 1007.8514\n",
            "Epoch 5/100\n",
            "18/18 [==============================] - 0s 10ms/step - loss: 180.8363 - mae: 180.8363 - val_loss: 1024.0829 - val_mae: 1024.0829\n",
            "Epoch 6/100\n",
            "12/18 [===================>..........] - ETA: 0s - loss: 171.9267 - mae: 171.9267"
          ]
        },
        {
          "output_type": "stream",
          "name": "stderr",
          "text": [
            "WARNING:absl:Found untraced functions such as _update_step_xla while saving (showing 1 of 1). These functions will not be directly callable after loading.\n"
          ]
        },
        {
          "output_type": "stream",
          "name": "stdout",
          "text": [
            "\b\b\b\b\b\b\b\b\b\b\b\b\b\b\b\b\b\b\b\b\b\b\b\b\b\b\b\b\b\b\b\b\b\b\b\b\b\b\b\b\b\b\b\b\b\b\b\b\b\b\b\b\b\b\b\b\b\b\b\b\b\b\b\b\b\b\b\b\b\b\b\b\b\b\b\b\b\b\b\b\b\r18/18 [==============================] - 1s 55ms/step - loss: 174.1333 - mae: 174.1333 - val_loss: 953.3743 - val_mae: 953.3743\n",
            "Epoch 7/100\n",
            "18/18 [==============================] - 0s 9ms/step - loss: 169.7044 - mae: 169.7044 - val_loss: 953.8622 - val_mae: 953.8622\n",
            "Epoch 8/100\n",
            "11/18 [=================>............] - ETA: 0s - loss: 163.0294 - mae: 163.0294"
          ]
        },
        {
          "output_type": "stream",
          "name": "stderr",
          "text": [
            "WARNING:absl:Found untraced functions such as _update_step_xla while saving (showing 1 of 1). These functions will not be directly callable after loading.\n"
          ]
        },
        {
          "output_type": "stream",
          "name": "stdout",
          "text": [
            "\b\b\b\b\b\b\b\b\b\b\b\b\b\b\b\b\b\b\b\b\b\b\b\b\b\b\b\b\b\b\b\b\b\b\b\b\b\b\b\b\b\b\b\b\b\b\b\b\b\b\b\b\b\b\b\b\b\b\b\b\b\b\b\b\b\b\b\b\b\b\b\b\b\b\b\b\b\b\b\b\b\r18/18 [==============================] - 1s 78ms/step - loss: 166.2113 - mae: 166.2113 - val_loss: 918.4395 - val_mae: 918.4395\n",
            "Epoch 9/100\n",
            "18/18 [==============================] - 0s 15ms/step - loss: 165.6984 - mae: 165.6984 - val_loss: 948.5614 - val_mae: 948.5614\n",
            "Epoch 10/100\n",
            "11/18 [=================>............] - ETA: 0s - loss: 158.9227 - mae: 158.9227"
          ]
        },
        {
          "output_type": "stream",
          "name": "stderr",
          "text": [
            "WARNING:absl:Found untraced functions such as _update_step_xla while saving (showing 1 of 1). These functions will not be directly callable after loading.\n"
          ]
        },
        {
          "output_type": "stream",
          "name": "stdout",
          "text": [
            "\b\b\b\b\b\b\b\b\b\b\b\b\b\b\b\b\b\b\b\b\b\b\b\b\b\b\b\b\b\b\b\b\b\b\b\b\b\b\b\b\b\b\b\b\b\b\b\b\b\b\b\b\b\b\b\b\b\b\b\b\b\b\b\b\b\b\b\b\b\b\b\b\b\b\b\b\b\b\b\b\b\r18/18 [==============================] - 1s 70ms/step - loss: 162.9008 - mae: 162.9008 - val_loss: 899.2650 - val_mae: 899.2650\n",
            "Epoch 11/100\n",
            " 9/18 [==============>...............] - ETA: 0s - loss: 155.0539 - mae: 155.0539"
          ]
        },
        {
          "output_type": "stream",
          "name": "stderr",
          "text": [
            "WARNING:absl:Found untraced functions such as _update_step_xla while saving (showing 1 of 1). These functions will not be directly callable after loading.\n"
          ]
        },
        {
          "output_type": "stream",
          "name": "stdout",
          "text": [
            "\b\b\b\b\b\b\b\b\b\b\b\b\b\b\b\b\b\b\b\b\b\b\b\b\b\b\b\b\b\b\b\b\b\b\b\b\b\b\b\b\b\b\b\b\b\b\b\b\b\b\b\b\b\b\b\b\b\b\b\b\b\b\b\b\b\b\b\b\b\b\b\b\b\b\b\b\b\b\b\b\b\r18/18 [==============================] - 2s 90ms/step - loss: 160.0114 - mae: 160.0114 - val_loss: 871.8011 - val_mae: 871.8011\n",
            "Epoch 12/100\n",
            "18/18 [==============================] - 0s 10ms/step - loss: 154.9881 - mae: 154.9881 - val_loss: 895.8453 - val_mae: 895.8453\n",
            "Epoch 13/100\n",
            "18/18 [==============================] - 0s 10ms/step - loss: 153.7686 - mae: 153.7686 - val_loss: 888.3965 - val_mae: 888.3965\n",
            "Epoch 14/100\n",
            "13/18 [====================>.........] - ETA: 0s - loss: 146.6189 - mae: 146.6189"
          ]
        },
        {
          "output_type": "stream",
          "name": "stderr",
          "text": [
            "WARNING:absl:Found untraced functions such as _update_step_xla while saving (showing 1 of 1). These functions will not be directly callable after loading.\n"
          ]
        },
        {
          "output_type": "stream",
          "name": "stdout",
          "text": [
            "\b\b\b\b\b\b\b\b\b\b\b\b\b\b\b\b\b\b\b\b\b\b\b\b\b\b\b\b\b\b\b\b\b\b\b\b\b\b\b\b\b\b\b\b\b\b\b\b\b\b\b\b\b\b\b\b\b\b\b\b\b\b\b\b\b\b\b\b\b\b\b\b\b\b\b\b\b\b\b\b\b\r18/18 [==============================] - 1s 74ms/step - loss: 150.1820 - mae: 150.1820 - val_loss: 806.1130 - val_mae: 806.1130\n",
            "Epoch 15/100\n",
            "13/18 [====================>.........] - ETA: 0s - loss: 140.4278 - mae: 140.4278"
          ]
        },
        {
          "output_type": "stream",
          "name": "stderr",
          "text": [
            "WARNING:absl:Found untraced functions such as _update_step_xla while saving (showing 1 of 1). These functions will not be directly callable after loading.\n"
          ]
        },
        {
          "output_type": "stream",
          "name": "stdout",
          "text": [
            "\b\b\b\b\b\b\b\b\b\b\b\b\b\b\b\b\b\b\b\b\b\b\b\b\b\b\b\b\b\b\b\b\b\b\b\b\b\b\b\b\b\b\b\b\b\b\b\b\b\b\b\b\b\b\b\b\b\b\b\b\b\b\b\b\b\b\b\b\b\b\b\b\b\b\b\b\b\b\b\b\b\r18/18 [==============================] - 1s 75ms/step - loss: 145.6185 - mae: 145.6185 - val_loss: 784.6008 - val_mae: 784.6008\n",
            "Epoch 16/100\n",
            "18/18 [==============================] - 0s 9ms/step - loss: 141.7874 - mae: 141.7874 - val_loss: 806.3214 - val_mae: 806.3214\n",
            "Epoch 17/100\n",
            "18/18 [==============================] - 0s 9ms/step - loss: 140.2519 - mae: 140.2519 - val_loss: 810.5737 - val_mae: 810.5737\n",
            "Epoch 18/100\n",
            "12/18 [===================>..........] - ETA: 0s - loss: 146.7832 - mae: 146.7832"
          ]
        },
        {
          "output_type": "stream",
          "name": "stderr",
          "text": [
            "WARNING:absl:Found untraced functions such as _update_step_xla while saving (showing 1 of 1). These functions will not be directly callable after loading.\n"
          ]
        },
        {
          "output_type": "stream",
          "name": "stdout",
          "text": [
            "\b\b\b\b\b\b\b\b\b\b\b\b\b\b\b\b\b\b\b\b\b\b\b\b\b\b\b\b\b\b\b\b\b\b\b\b\b\b\b\b\b\b\b\b\b\b\b\b\b\b\b\b\b\b\b\b\b\b\b\b\b\b\b\b\b\b\b\b\b\b\b\b\b\b\b\b\b\b\b\b\b\r18/18 [==============================] - 1s 66ms/step - loss: 140.3080 - mae: 140.3080 - val_loss: 771.9237 - val_mae: 771.9238\n",
            "Epoch 19/100\n",
            "10/18 [===============>..............] - ETA: 0s - loss: 132.0218 - mae: 132.0218"
          ]
        },
        {
          "output_type": "stream",
          "name": "stderr",
          "text": [
            "WARNING:absl:Found untraced functions such as _update_step_xla while saving (showing 1 of 1). These functions will not be directly callable after loading.\n"
          ]
        },
        {
          "output_type": "stream",
          "name": "stdout",
          "text": [
            "\b\b\b\b\b\b\b\b\b\b\b\b\b\b\b\b\b\b\b\b\b\b\b\b\b\b\b\b\b\b\b\b\b\b\b\b\b\b\b\b\b\b\b\b\b\b\b\b\b\b\b\b\b\b\b\b\b\b\b\b\b\b\b\b\b\b\b\b\b\b\b\b\b\b\b\b\b\b\b\b\b\r18/18 [==============================] - 2s 135ms/step - loss: 136.2285 - mae: 136.2285 - val_loss: 753.8854 - val_mae: 753.8854\n",
            "Epoch 20/100\n",
            "11/18 [=================>............] - ETA: 0s - loss: 142.3166 - mae: 142.3166"
          ]
        },
        {
          "output_type": "stream",
          "name": "stderr",
          "text": [
            "WARNING:absl:Found untraced functions such as _update_step_xla while saving (showing 1 of 1). These functions will not be directly callable after loading.\n"
          ]
        },
        {
          "output_type": "stream",
          "name": "stdout",
          "text": [
            "\b\b\b\b\b\b\b\b\b\b\b\b\b\b\b\b\b\b\b\b\b\b\b\b\b\b\b\b\b\b\b\b\b\b\b\b\b\b\b\b\b\b\b\b\b\b\b\b\b\b\b\b\b\b\b\b\b\b\b\b\b\b\b\b\b\b\b\b\b\b\b\b\b\b\b\b\b\b\b\b\b\r18/18 [==============================] - 1s 60ms/step - loss: 139.4231 - mae: 139.4231 - val_loss: 725.4822 - val_mae: 725.4822\n",
            "Epoch 21/100\n",
            "16/18 [=========================>....] - ETA: 0s - loss: 139.9233 - mae: 139.9233"
          ]
        },
        {
          "output_type": "stream",
          "name": "stderr",
          "text": [
            "WARNING:absl:Found untraced functions such as _update_step_xla while saving (showing 1 of 1). These functions will not be directly callable after loading.\n"
          ]
        },
        {
          "output_type": "stream",
          "name": "stdout",
          "text": [
            "\b\b\b\b\b\b\b\b\b\b\b\b\b\b\b\b\b\b\b\b\b\b\b\b\b\b\b\b\b\b\b\b\b\b\b\b\b\b\b\b\b\b\b\b\b\b\b\b\b\b\b\b\b\b\b\b\b\b\b\b\b\b\b\b\b\b\b\b\b\b\b\b\b\b\b\b\b\b\b\b\b\r18/18 [==============================] - 1s 72ms/step - loss: 140.8497 - mae: 140.8497 - val_loss: 719.1765 - val_mae: 719.1765\n",
            "Epoch 22/100\n",
            " 1/18 [>.............................] - ETA: 0s - loss: 189.5149 - mae: 189.5149"
          ]
        },
        {
          "output_type": "stream",
          "name": "stderr",
          "text": [
            "WARNING:absl:Found untraced functions such as _update_step_xla while saving (showing 1 of 1). These functions will not be directly callable after loading.\n"
          ]
        },
        {
          "output_type": "stream",
          "name": "stdout",
          "text": [
            "\b\b\b\b\b\b\b\b\b\b\b\b\b\b\b\b\b\b\b\b\b\b\b\b\b\b\b\b\b\b\b\b\b\b\b\b\b\b\b\b\b\b\b\b\b\b\b\b\b\b\b\b\b\b\b\b\b\b\b\b\b\b\b\b\b\b\b\b\b\b\b\b\b\b\b\b\b\b\b\b\b\r18/18 [==============================] - 1s 58ms/step - loss: 132.8316 - mae: 132.8316 - val_loss: 709.3670 - val_mae: 709.3670\n",
            "Epoch 23/100\n",
            "14/18 [======================>.......] - ETA: 0s - loss: 127.9141 - mae: 127.9141"
          ]
        },
        {
          "output_type": "stream",
          "name": "stderr",
          "text": [
            "WARNING:absl:Found untraced functions such as _update_step_xla while saving (showing 1 of 1). These functions will not be directly callable after loading.\n"
          ]
        },
        {
          "output_type": "stream",
          "name": "stdout",
          "text": [
            "\b\b\b\b\b\b\b\b\b\b\b\b\b\b\b\b\b\b\b\b\b\b\b\b\b\b\b\b\b\b\b\b\b\b\b\b\b\b\b\b\b\b\b\b\b\b\b\b\b\b\b\b\b\b\b\b\b\b\b\b\b\b\b\b\b\b\b\b\b\b\b\b\b\b\b\b\b\b\b\b\b\r18/18 [==============================] - 1s 52ms/step - loss: 130.2936 - mae: 130.2936 - val_loss: 705.8005 - val_mae: 705.8005\n",
            "Epoch 24/100\n",
            "15/18 [========================>.....] - ETA: 0s - loss: 129.2860 - mae: 129.2860"
          ]
        },
        {
          "output_type": "stream",
          "name": "stderr",
          "text": [
            "WARNING:absl:Found untraced functions such as _update_step_xla while saving (showing 1 of 1). These functions will not be directly callable after loading.\n"
          ]
        },
        {
          "output_type": "stream",
          "name": "stdout",
          "text": [
            "\b\b\b\b\b\b\b\b\b\b\b\b\b\b\b\b\b\b\b\b\b\b\b\b\b\b\b\b\b\b\b\b\b\b\b\b\b\b\b\b\b\b\b\b\b\b\b\b\b\b\b\b\b\b\b\b\b\b\b\b\b\b\b\b\b\b\b\b\b\b\b\b\b\b\b\b\b\b\b\b\b\r18/18 [==============================] - 1s 65ms/step - loss: 128.8589 - mae: 128.8589 - val_loss: 696.4826 - val_mae: 696.4826\n",
            "Epoch 25/100\n",
            "13/18 [====================>.........] - ETA: 0s - loss: 132.8574 - mae: 132.8574"
          ]
        },
        {
          "output_type": "stream",
          "name": "stderr",
          "text": [
            "WARNING:absl:Found untraced functions such as _update_step_xla while saving (showing 1 of 1). These functions will not be directly callable after loading.\n"
          ]
        },
        {
          "output_type": "stream",
          "name": "stdout",
          "text": [
            "\b\b\b\b\b\b\b\b\b\b\b\b\b\b\b\b\b\b\b\b\b\b\b\b\b\b\b\b\b\b\b\b\b\b\b\b\b\b\b\b\b\b\b\b\b\b\b\b\b\b\b\b\b\b\b\b\b\b\b\b\b\b\b\b\b\b\b\b\b\b\b\b\b\b\b\b\b\b\b\b\b\r18/18 [==============================] - 1s 80ms/step - loss: 129.4820 - mae: 129.4820 - val_loss: 688.0772 - val_mae: 688.0772\n",
            "Epoch 26/100\n",
            "18/18 [==============================] - ETA: 0s - loss: 127.8061 - mae: 127.8061"
          ]
        },
        {
          "output_type": "stream",
          "name": "stderr",
          "text": [
            "WARNING:absl:Found untraced functions such as _update_step_xla while saving (showing 1 of 1). These functions will not be directly callable after loading.\n"
          ]
        },
        {
          "output_type": "stream",
          "name": "stdout",
          "text": [
            "\b\b\b\b\b\b\b\b\b\b\b\b\b\b\b\b\b\b\b\b\b\b\b\b\b\b\b\b\b\b\b\b\b\b\b\b\b\b\b\b\b\b\b\b\b\b\b\b\b\b\b\b\b\b\b\b\b\b\b\b\b\b\b\b\b\b\b\b\b\b\b\b\b\b\b\b\b\b\b\b\b\r18/18 [==============================] - 1s 47ms/step - loss: 127.8061 - mae: 127.8061 - val_loss: 681.2709 - val_mae: 681.2709\n",
            "Epoch 27/100\n",
            " 1/18 [>.............................] - ETA: 0s - loss: 182.7895 - mae: 182.7895"
          ]
        },
        {
          "output_type": "stream",
          "name": "stderr",
          "text": [
            "WARNING:absl:Found untraced functions such as _update_step_xla while saving (showing 1 of 1). These functions will not be directly callable after loading.\n"
          ]
        },
        {
          "output_type": "stream",
          "name": "stdout",
          "text": [
            "\b\b\b\b\b\b\b\b\b\b\b\b\b\b\b\b\b\b\b\b\b\b\b\b\b\b\b\b\b\b\b\b\b\b\b\b\b\b\b\b\b\b\b\b\b\b\b\b\b\b\b\b\b\b\b\b\b\b\b\b\b\b\b\b\b\b\b\b\b\b\b\b\b\b\b\b\b\b\b\b\b\r18/18 [==============================] - 1s 52ms/step - loss: 127.5724 - mae: 127.5724 - val_loss: 678.1122 - val_mae: 678.1122\n",
            "Epoch 28/100\n",
            "18/18 [==============================] - 0s 11ms/step - loss: 127.1358 - mae: 127.1358 - val_loss: 691.6887 - val_mae: 691.6887\n",
            "Epoch 29/100\n",
            "18/18 [==============================] - 0s 9ms/step - loss: 127.4957 - mae: 127.4957 - val_loss: 737.0427 - val_mae: 737.0427\n",
            "Epoch 30/100\n",
            "18/18 [==============================] - 0s 5ms/step - loss: 134.4283 - mae: 134.4283 - val_loss: 740.7463 - val_mae: 740.7463\n",
            "Epoch 31/100\n",
            "18/18 [==============================] - 0s 8ms/step - loss: 142.9355 - mae: 142.9355 - val_loss: 898.9730 - val_mae: 898.9730\n",
            "Epoch 32/100\n",
            "10/18 [===============>..............] - ETA: 0s - loss: 144.4943 - mae: 144.4943"
          ]
        },
        {
          "output_type": "stream",
          "name": "stderr",
          "text": [
            "WARNING:absl:Found untraced functions such as _update_step_xla while saving (showing 1 of 1). These functions will not be directly callable after loading.\n"
          ]
        },
        {
          "output_type": "stream",
          "name": "stdout",
          "text": [
            "\b\b\b\b\b\b\b\b\b\b\b\b\b\b\b\b\b\b\b\b\b\b\b\b\b\b\b\b\b\b\b\b\b\b\b\b\b\b\b\b\b\b\b\b\b\b\b\b\b\b\b\b\b\b\b\b\b\b\b\b\b\b\b\b\b\b\b\b\b\b\b\b\b\b\b\b\b\b\b\b\b\r18/18 [==============================] - 1s 43ms/step - loss: 138.6388 - mae: 138.6388 - val_loss: 661.0238 - val_mae: 661.0238\n",
            "Epoch 33/100\n",
            "18/18 [==============================] - 0s 16ms/step - loss: 124.4479 - mae: 124.4479 - val_loss: 684.1182 - val_mae: 684.1182\n",
            "Epoch 34/100\n",
            "12/18 [===================>..........] - ETA: 0s - loss: 127.7432 - mae: 127.7432"
          ]
        },
        {
          "output_type": "stream",
          "name": "stderr",
          "text": [
            "WARNING:absl:Found untraced functions such as _update_step_xla while saving (showing 1 of 1). These functions will not be directly callable after loading.\n"
          ]
        },
        {
          "output_type": "stream",
          "name": "stdout",
          "text": [
            "\b\b\b\b\b\b\b\b\b\b\b\b\b\b\b\b\b\b\b\b\b\b\b\b\b\b\b\b\b\b\b\b\b\b\b\b\b\b\b\b\b\b\b\b\b\b\b\b\b\b\b\b\b\b\b\b\b\b\b\b\b\b\b\b\b\b\b\b\b\b\b\b\b\b\b\b\b\b\b\b\b\r18/18 [==============================] - 3s 166ms/step - loss: 123.4068 - mae: 123.4068 - val_loss: 651.4846 - val_mae: 651.4846\n",
            "Epoch 35/100\n",
            "13/18 [====================>.........] - ETA: 0s - loss: 124.6525 - mae: 124.6525"
          ]
        },
        {
          "output_type": "stream",
          "name": "stderr",
          "text": [
            "WARNING:absl:Found untraced functions such as _update_step_xla while saving (showing 1 of 1). These functions will not be directly callable after loading.\n"
          ]
        },
        {
          "output_type": "stream",
          "name": "stdout",
          "text": [
            "\b\b\b\b\b\b\b\b\b\b\b\b\b\b\b\b\b\b\b\b\b\b\b\b\b\b\b\b\b\b\b\b\b\b\b\b\b\b\b\b\b\b\b\b\b\b\b\b\b\b\b\b\b\b\b\b\b\b\b\b\b\b\b\b\b\b\b\b\b\b\b\b\b\b\b\b\b\b\b\b\b\r18/18 [==============================] - 1s 66ms/step - loss: 120.5317 - mae: 120.5317 - val_loss: 647.2302 - val_mae: 647.2302\n",
            "Epoch 36/100\n",
            "18/18 [==============================] - 0s 10ms/step - loss: 125.3214 - mae: 125.3214 - val_loss: 684.3837 - val_mae: 684.3837\n",
            "Epoch 37/100\n",
            "18/18 [==============================] - 0s 10ms/step - loss: 122.1343 - mae: 122.1343 - val_loss: 657.1744 - val_mae: 657.1744\n",
            "Epoch 38/100\n",
            "14/18 [======================>.......] - ETA: 0s - loss: 124.2836 - mae: 124.2836"
          ]
        },
        {
          "output_type": "stream",
          "name": "stderr",
          "text": [
            "WARNING:absl:Found untraced functions such as _update_step_xla while saving (showing 1 of 1). These functions will not be directly callable after loading.\n"
          ]
        },
        {
          "output_type": "stream",
          "name": "stdout",
          "text": [
            "\b\b\b\b\b\b\b\b\b\b\b\b\b\b\b\b\b\b\b\b\b\b\b\b\b\b\b\b\b\b\b\b\b\b\b\b\b\b\b\b\b\b\b\b\b\b\b\b\b\b\b\b\b\b\b\b\b\b\b\b\b\b\b\b\b\b\b\b\b\b\b\b\b\b\b\b\b\b\b\b\b\r18/18 [==============================] - 1s 73ms/step - loss: 120.2382 - mae: 120.2382 - val_loss: 643.0521 - val_mae: 643.0521\n",
            "Epoch 39/100\n",
            "18/18 [==============================] - 0s 18ms/step - loss: 120.4799 - mae: 120.4799 - val_loss: 693.8040 - val_mae: 693.8040\n",
            "Epoch 40/100\n",
            "18/18 [==============================] - ETA: 0s - loss: 118.7365 - mae: 118.7365"
          ]
        },
        {
          "output_type": "stream",
          "name": "stderr",
          "text": [
            "WARNING:absl:Found untraced functions such as _update_step_xla while saving (showing 1 of 1). These functions will not be directly callable after loading.\n"
          ]
        },
        {
          "output_type": "stream",
          "name": "stdout",
          "text": [
            "\b\b\b\b\b\b\b\b\b\b\b\b\b\b\b\b\b\b\b\b\b\b\b\b\b\b\b\b\b\b\b\b\b\b\b\b\b\b\b\b\b\b\b\b\b\b\b\b\b\b\b\b\b\b\b\b\b\b\b\b\b\b\b\b\b\b\b\b\b\b\b\b\b\b\b\b\b\b\b\b\b\r18/18 [==============================] - 1s 72ms/step - loss: 118.7365 - mae: 118.7365 - val_loss: 635.0573 - val_mae: 635.0573\n",
            "Epoch 41/100\n",
            "11/18 [=================>............] - ETA: 0s - loss: 122.6671 - mae: 122.6671"
          ]
        },
        {
          "output_type": "stream",
          "name": "stderr",
          "text": [
            "WARNING:absl:Found untraced functions such as _update_step_xla while saving (showing 1 of 1). These functions will not be directly callable after loading.\n"
          ]
        },
        {
          "output_type": "stream",
          "name": "stdout",
          "text": [
            "\b\b\b\b\b\b\b\b\b\b\b\b\b\b\b\b\b\b\b\b\b\b\b\b\b\b\b\b\b\b\b\b\b\b\b\b\b\b\b\b\b\b\b\b\b\b\b\b\b\b\b\b\b\b\b\b\b\b\b\b\b\b\b\b\b\b\b\b\b\b\b\b\b\b\b\b\b\b\b\b\b\r18/18 [==============================] - 1s 55ms/step - loss: 117.6348 - mae: 117.6348 - val_loss: 632.9391 - val_mae: 632.9391\n",
            "Epoch 42/100\n",
            "18/18 [==============================] - 0s 5ms/step - loss: 119.7521 - mae: 119.7521 - val_loss: 648.8006 - val_mae: 648.8006\n",
            "Epoch 43/100\n",
            "18/18 [==============================] - 0s 7ms/step - loss: 120.5554 - mae: 120.5554 - val_loss: 645.3214 - val_mae: 645.3214\n",
            "Epoch 44/100\n",
            "18/18 [==============================] - 0s 5ms/step - loss: 123.8466 - mae: 123.8466 - val_loss: 640.3656 - val_mae: 640.3656\n",
            "Epoch 45/100\n",
            "18/18 [==============================] - 0s 5ms/step - loss: 115.9845 - mae: 115.9845 - val_loss: 642.6685 - val_mae: 642.6685\n",
            "Epoch 46/100\n",
            "16/18 [=========================>....] - ETA: 0s - loss: 118.2179 - mae: 118.2179"
          ]
        },
        {
          "output_type": "stream",
          "name": "stderr",
          "text": [
            "WARNING:absl:Found untraced functions such as _update_step_xla while saving (showing 1 of 1). These functions will not be directly callable after loading.\n"
          ]
        },
        {
          "output_type": "stream",
          "name": "stdout",
          "text": [
            "\b\b\b\b\b\b\b\b\b\b\b\b\b\b\b\b\b\b\b\b\b\b\b\b\b\b\b\b\b\b\b\b\b\b\b\b\b\b\b\b\b\b\b\b\b\b\b\b\b\b\b\b\b\b\b\b\b\b\b\b\b\b\b\b\b\b\b\b\b\b\b\b\b\b\b\b\b\b\b\b\b\r18/18 [==============================] - 1s 73ms/step - loss: 117.1712 - mae: 117.1712 - val_loss: 623.9739 - val_mae: 623.9739\n",
            "Epoch 47/100\n",
            "18/18 [==============================] - 0s 5ms/step - loss: 114.9588 - mae: 114.9588 - val_loss: 636.8239 - val_mae: 636.8239\n",
            "Epoch 48/100\n",
            "18/18 [==============================] - 0s 11ms/step - loss: 114.5281 - mae: 114.5281 - val_loss: 626.0228 - val_mae: 626.0228\n",
            "Epoch 49/100\n",
            "18/18 [==============================] - 0s 5ms/step - loss: 115.0658 - mae: 115.0658 - val_loss: 686.1486 - val_mae: 686.1486\n",
            "Epoch 50/100\n",
            "18/18 [==============================] - 0s 5ms/step - loss: 125.0952 - mae: 125.0952 - val_loss: 688.2225 - val_mae: 688.2225\n",
            "Epoch 51/100\n",
            "18/18 [==============================] - 0s 9ms/step - loss: 115.7648 - mae: 115.7648 - val_loss: 632.7682 - val_mae: 632.7682\n",
            "Epoch 52/100\n",
            "18/18 [==============================] - 0s 12ms/step - loss: 115.4334 - mae: 115.4334 - val_loss: 667.6946 - val_mae: 667.6946\n",
            "Epoch 53/100\n",
            "18/18 [==============================] - 0s 6ms/step - loss: 120.1119 - mae: 120.1119 - val_loss: 670.9682 - val_mae: 670.9682\n",
            "Epoch 54/100\n",
            "18/18 [==============================] - 0s 6ms/step - loss: 119.0922 - mae: 119.0922 - val_loss: 626.1266 - val_mae: 626.1266\n",
            "Epoch 55/100\n",
            "13/18 [====================>.........] - ETA: 0s - loss: 123.3325 - mae: 123.3325"
          ]
        },
        {
          "output_type": "stream",
          "name": "stderr",
          "text": [
            "WARNING:absl:Found untraced functions such as _update_step_xla while saving (showing 1 of 1). These functions will not be directly callable after loading.\n"
          ]
        },
        {
          "output_type": "stream",
          "name": "stdout",
          "text": [
            "\b\b\b\b\b\b\b\b\b\b\b\b\b\b\b\b\b\b\b\b\b\b\b\b\b\b\b\b\b\b\b\b\b\b\b\b\b\b\b\b\b\b\b\b\b\b\b\b\b\b\b\b\b\b\b\b\b\b\b\b\b\b\b\b\b\b\b\b\b\b\b\b\b\b\b\b\b\b\b\b\b\r18/18 [==============================] - 1s 55ms/step - loss: 116.5707 - mae: 116.5707 - val_loss: 607.8711 - val_mae: 607.8711\n",
            "Epoch 56/100\n",
            "18/18 [==============================] - 0s 5ms/step - loss: 114.8919 - mae: 114.8919 - val_loss: 752.6774 - val_mae: 752.6774\n",
            "Epoch 57/100\n",
            "18/18 [==============================] - 0s 5ms/step - loss: 132.4744 - mae: 132.4744 - val_loss: 797.3839 - val_mae: 797.3839\n",
            "Epoch 58/100\n",
            "18/18 [==============================] - 0s 7ms/step - loss: 128.1575 - mae: 128.1575 - val_loss: 710.5883 - val_mae: 710.5883\n",
            "Epoch 59/100\n",
            "18/18 [==============================] - 0s 5ms/step - loss: 113.8204 - mae: 113.8204 - val_loss: 618.1483 - val_mae: 618.1483\n",
            "Epoch 60/100\n",
            "18/18 [==============================] - 0s 6ms/step - loss: 112.6458 - mae: 112.6458 - val_loss: 627.4844 - val_mae: 627.4844\n",
            "Epoch 61/100\n",
            "18/18 [==============================] - ETA: 0s - loss: 111.4860 - mae: 111.4860"
          ]
        },
        {
          "output_type": "stream",
          "name": "stderr",
          "text": [
            "WARNING:absl:Found untraced functions such as _update_step_xla while saving (showing 1 of 1). These functions will not be directly callable after loading.\n"
          ]
        },
        {
          "output_type": "stream",
          "name": "stdout",
          "text": [
            "\b\b\b\b\b\b\b\b\b\b\b\b\b\b\b\b\b\b\b\b\b\b\b\b\b\b\b\b\b\b\b\b\b\b\b\b\b\b\b\b\b\b\b\b\b\b\b\b\b\b\b\b\b\b\b\b\b\b\b\b\b\b\b\b\b\b\b\b\b\b\b\b\b\b\b\b\b\b\b\b\b\r18/18 [==============================] - 2s 118ms/step - loss: 111.4860 - mae: 111.4860 - val_loss: 600.5588 - val_mae: 600.5588\n",
            "Epoch 62/100\n",
            "14/18 [======================>.......] - ETA: 0s - loss: 110.3021 - mae: 110.3021"
          ]
        },
        {
          "output_type": "stream",
          "name": "stderr",
          "text": [
            "WARNING:absl:Found untraced functions such as _update_step_xla while saving (showing 1 of 1). These functions will not be directly callable after loading.\n"
          ]
        },
        {
          "output_type": "stream",
          "name": "stdout",
          "text": [
            "\b\b\b\b\b\b\b\b\b\b\b\b\b\b\b\b\b\b\b\b\b\b\b\b\b\b\b\b\b\b\b\b\b\b\b\b\b\b\b\b\b\b\b\b\b\b\b\b\b\b\b\b\b\b\b\b\b\b\b\b\b\b\b\b\b\b\b\b\b\b\b\b\b\b\b\b\b\b\b\b\b\r18/18 [==============================] - 2s 92ms/step - loss: 109.7510 - mae: 109.7510 - val_loss: 600.1334 - val_mae: 600.1334\n",
            "Epoch 63/100\n",
            "18/18 [==============================] - 0s 8ms/step - loss: 112.4337 - mae: 112.4337 - val_loss: 624.3583 - val_mae: 624.3583\n",
            "Epoch 64/100\n",
            "18/18 [==============================] - 0s 11ms/step - loss: 112.1249 - mae: 112.1249 - val_loss: 605.1838 - val_mae: 605.1838\n",
            "Epoch 65/100\n",
            "18/18 [==============================] - 0s 7ms/step - loss: 110.2743 - mae: 110.2743 - val_loss: 621.5535 - val_mae: 621.5535\n",
            "Epoch 66/100\n",
            "18/18 [==============================] - 0s 5ms/step - loss: 109.8986 - mae: 109.8986 - val_loss: 602.4545 - val_mae: 602.4545\n",
            "Epoch 67/100\n",
            "18/18 [==============================] - 0s 7ms/step - loss: 110.4989 - mae: 110.4989 - val_loss: 678.9890 - val_mae: 678.9890\n",
            "Epoch 68/100\n",
            "18/18 [==============================] - 0s 9ms/step - loss: 116.8033 - mae: 116.8033 - val_loss: 718.9506 - val_mae: 718.9506\n",
            "Epoch 69/100\n",
            "18/18 [==============================] - 0s 7ms/step - loss: 136.4183 - mae: 136.4183 - val_loss: 781.2384 - val_mae: 781.2385\n",
            "Epoch 70/100\n",
            "10/18 [===============>..............] - ETA: 0s - loss: 128.1087 - mae: 128.1087"
          ]
        },
        {
          "output_type": "stream",
          "name": "stderr",
          "text": [
            "WARNING:absl:Found untraced functions such as _update_step_xla while saving (showing 1 of 1). These functions will not be directly callable after loading.\n"
          ]
        },
        {
          "output_type": "stream",
          "name": "stdout",
          "text": [
            "\b\b\b\b\b\b\b\b\b\b\b\b\b\b\b\b\b\b\b\b\b\b\b\b\b\b\b\b\b\b\b\b\b\b\b\b\b\b\b\b\b\b\b\b\b\b\b\b\b\b\b\b\b\b\b\b\b\b\b\b\b\b\b\b\b\b\b\b\b\b\b\b\b\b\b\b\b\b\b\b\b\r18/18 [==============================] - 1s 54ms/step - loss: 123.2961 - mae: 123.2961 - val_loss: 594.3159 - val_mae: 594.3159\n",
            "Epoch 71/100\n",
            "18/18 [==============================] - 0s 6ms/step - loss: 115.1470 - mae: 115.1470 - val_loss: 632.4356 - val_mae: 632.4356\n",
            "Epoch 72/100\n",
            " 1/18 [>.............................] - ETA: 0s - loss: 102.7358 - mae: 102.7358"
          ]
        },
        {
          "output_type": "stream",
          "name": "stderr",
          "text": [
            "WARNING:absl:Found untraced functions such as _update_step_xla while saving (showing 1 of 1). These functions will not be directly callable after loading.\n"
          ]
        },
        {
          "output_type": "stream",
          "name": "stdout",
          "text": [
            "\b\b\b\b\b\b\b\b\b\b\b\b\b\b\b\b\b\b\b\b\b\b\b\b\b\b\b\b\b\b\b\b\b\b\b\b\b\b\b\b\b\b\b\b\b\b\b\b\b\b\b\b\b\b\b\b\b\b\b\b\b\b\b\b\b\b\b\b\b\b\b\b\b\b\b\b\b\b\b\b\b\r18/18 [==============================] - 1s 57ms/step - loss: 109.6509 - mae: 109.6509 - val_loss: 589.7447 - val_mae: 589.7447\n",
            "Epoch 73/100\n",
            "18/18 [==============================] - 0s 5ms/step - loss: 107.6840 - mae: 107.6840 - val_loss: 602.1618 - val_mae: 602.1618\n",
            "Epoch 74/100\n",
            "18/18 [==============================] - 0s 5ms/step - loss: 112.5877 - mae: 112.5877 - val_loss: 602.8380 - val_mae: 602.8380\n",
            "Epoch 75/100\n",
            "12/18 [===================>..........] - ETA: 0s - loss: 111.7619 - mae: 111.7619"
          ]
        },
        {
          "output_type": "stream",
          "name": "stderr",
          "text": [
            "WARNING:absl:Found untraced functions such as _update_step_xla while saving (showing 1 of 1). These functions will not be directly callable after loading.\n"
          ]
        },
        {
          "output_type": "stream",
          "name": "stdout",
          "text": [
            "\b\b\b\b\b\b\b\b\b\b\b\b\b\b\b\b\b\b\b\b\b\b\b\b\b\b\b\b\b\b\b\b\b\b\b\b\b\b\b\b\b\b\b\b\b\b\b\b\b\b\b\b\b\b\b\b\b\b\b\b\b\b\b\b\b\b\b\b\b\b\b\b\b\b\b\b\b\b\b\b\b\r18/18 [==============================] - 1s 53ms/step - loss: 110.1221 - mae: 110.1221 - val_loss: 587.5397 - val_mae: 587.5397\n",
            "Epoch 76/100\n",
            "18/18 [==============================] - 0s 11ms/step - loss: 109.4412 - mae: 109.4412 - val_loss: 596.1492 - val_mae: 596.1492\n",
            "Epoch 77/100\n",
            " 6/18 [=========>....................] - ETA: 0s - loss: 109.4428 - mae: 109.4428"
          ]
        },
        {
          "output_type": "stream",
          "name": "stderr",
          "text": [
            "WARNING:absl:Found untraced functions such as _update_step_xla while saving (showing 1 of 1). These functions will not be directly callable after loading.\n"
          ]
        },
        {
          "output_type": "stream",
          "name": "stdout",
          "text": [
            "\b\b\b\b\b\b\b\b\b\b\b\b\b\b\b\b\b\b\b\b\b\b\b\b\b\b\b\b\b\b\b\b\b\b\b\b\b\b\b\b\b\b\b\b\b\b\b\b\b\b\b\b\b\b\b\b\b\b\b\b\b\b\b\b\b\b\b\b\b\b\b\b\b\b\b\b\b\b\b\b\b\r18/18 [==============================] - 1s 46ms/step - loss: 111.7618 - mae: 111.7618 - val_loss: 587.3743 - val_mae: 587.3743\n",
            "Epoch 78/100\n",
            "18/18 [==============================] - 0s 8ms/step - loss: 110.9952 - mae: 110.9952 - val_loss: 597.3173 - val_mae: 597.3173\n",
            "Epoch 79/100\n",
            "18/18 [==============================] - 0s 9ms/step - loss: 109.9447 - mae: 109.9447 - val_loss: 598.3336 - val_mae: 598.3336\n",
            "Epoch 80/100\n",
            "18/18 [==============================] - 0s 11ms/step - loss: 110.6651 - mae: 110.6651 - val_loss: 624.0961 - val_mae: 624.0961\n",
            "Epoch 81/100\n",
            "12/18 [===================>..........] - ETA: 0s - loss: 108.5735 - mae: 108.5735"
          ]
        },
        {
          "output_type": "stream",
          "name": "stderr",
          "text": [
            "WARNING:absl:Found untraced functions such as _update_step_xla while saving (showing 1 of 1). These functions will not be directly callable after loading.\n"
          ]
        },
        {
          "output_type": "stream",
          "name": "stdout",
          "text": [
            "\b\b\b\b\b\b\b\b\b\b\b\b\b\b\b\b\b\b\b\b\b\b\b\b\b\b\b\b\b\b\b\b\b\b\b\b\b\b\b\b\b\b\b\b\b\b\b\b\b\b\b\b\b\b\b\b\b\b\b\b\b\b\b\b\b\b\b\b\b\b\b\b\b\b\b\b\b\b\b\b\b\r18/18 [==============================] - 1s 48ms/step - loss: 108.5433 - mae: 108.5433 - val_loss: 585.3220 - val_mae: 585.3220\n",
            "Epoch 82/100\n",
            "18/18 [==============================] - 0s 5ms/step - loss: 118.5321 - mae: 118.5321 - val_loss: 603.4199 - val_mae: 603.4199\n",
            "Epoch 83/100\n",
            "18/18 [==============================] - 0s 8ms/step - loss: 111.5881 - mae: 111.5881 - val_loss: 670.0997 - val_mae: 670.0997\n",
            "Epoch 84/100\n",
            "18/18 [==============================] - 0s 4ms/step - loss: 112.6830 - mae: 112.6830 - val_loss: 599.3987 - val_mae: 599.3987\n",
            "Epoch 85/100\n",
            "18/18 [==============================] - 0s 5ms/step - loss: 108.8111 - mae: 108.8111 - val_loss: 589.3890 - val_mae: 589.3890\n",
            "Epoch 86/100\n",
            "18/18 [==============================] - 0s 8ms/step - loss: 107.0491 - mae: 107.0491 - val_loss: 586.1733 - val_mae: 586.1733\n",
            "Epoch 87/100\n",
            "18/18 [==============================] - 0s 8ms/step - loss: 107.6025 - mae: 107.6025 - val_loss: 590.1928 - val_mae: 590.1928\n",
            "Epoch 88/100\n",
            "18/18 [==============================] - 0s 11ms/step - loss: 108.1108 - mae: 108.1108 - val_loss: 587.4892 - val_mae: 587.4892\n",
            "Epoch 89/100\n",
            "18/18 [==============================] - 0s 8ms/step - loss: 106.5443 - mae: 106.5443 - val_loss: 615.7932 - val_mae: 615.7932\n",
            "Epoch 90/100\n",
            "18/18 [==============================] - 0s 8ms/step - loss: 110.4611 - mae: 110.4611 - val_loss: 664.3536 - val_mae: 664.3536\n",
            "Epoch 91/100\n",
            "18/18 [==============================] - 0s 8ms/step - loss: 113.9372 - mae: 113.9372 - val_loss: 650.1492 - val_mae: 650.1492\n",
            "Epoch 92/100\n",
            "18/18 [==============================] - 0s 8ms/step - loss: 108.5391 - mae: 108.5391 - val_loss: 591.4451 - val_mae: 591.4451\n",
            "Epoch 93/100\n",
            "18/18 [==============================] - 0s 9ms/step - loss: 114.0457 - mae: 114.0457 - val_loss: 636.2485 - val_mae: 636.2485\n",
            "Epoch 94/100\n",
            "18/18 [==============================] - 0s 8ms/step - loss: 109.6688 - mae: 109.6688 - val_loss: 586.0955 - val_mae: 586.0955\n",
            "Epoch 95/100\n",
            "13/18 [====================>.........] - ETA: 0s - loss: 104.9233 - mae: 104.9233"
          ]
        },
        {
          "output_type": "stream",
          "name": "stderr",
          "text": [
            "WARNING:absl:Found untraced functions such as _update_step_xla while saving (showing 1 of 1). These functions will not be directly callable after loading.\n"
          ]
        },
        {
          "output_type": "stream",
          "name": "stdout",
          "text": [
            "\b\b\b\b\b\b\b\b\b\b\b\b\b\b\b\b\b\b\b\b\b\b\b\b\b\b\b\b\b\b\b\b\b\b\b\b\b\b\b\b\b\b\b\b\b\b\b\b\b\b\b\b\b\b\b\b\b\b\b\b\b\b\b\b\b\b\b\b\b\b\b\b\b\b\b\b\b\b\b\b\b\r18/18 [==============================] - 1s 78ms/step - loss: 105.6222 - mae: 105.6222 - val_loss: 578.0339 - val_mae: 578.0339\n",
            "Epoch 96/100\n",
            "18/18 [==============================] - 0s 18ms/step - loss: 107.3408 - mae: 107.3408 - val_loss: 606.2906 - val_mae: 606.2906\n",
            "Epoch 97/100\n",
            "18/18 [==============================] - 0s 18ms/step - loss: 107.5823 - mae: 107.5823 - val_loss: 590.2369 - val_mae: 590.2369\n",
            "Epoch 98/100\n",
            "12/18 [===================>..........] - ETA: 0s - loss: 107.7833 - mae: 107.7833"
          ]
        },
        {
          "output_type": "stream",
          "name": "stderr",
          "text": [
            "WARNING:absl:Found untraced functions such as _update_step_xla while saving (showing 1 of 1). These functions will not be directly callable after loading.\n"
          ]
        },
        {
          "output_type": "stream",
          "name": "stdout",
          "text": [
            "\b\b\b\b\b\b\b\b\b\b\b\b\b\b\b\b\b\b\b\b\b\b\b\b\b\b\b\b\b\b\b\b\b\b\b\b\b\b\b\b\b\b\b\b\b\b\b\b\b\b\b\b\b\b\b\b\b\b\b\b\b\b\b\b\b\b\b\b\b\b\b\b\b\b\b\b\b\b\b\b\b\r18/18 [==============================] - 2s 109ms/step - loss: 106.1512 - mae: 106.1512 - val_loss: 577.7944 - val_mae: 577.7944\n",
            "Epoch 99/100\n",
            "18/18 [==============================] - 0s 8ms/step - loss: 108.3775 - mae: 108.3775 - val_loss: 577.8371 - val_mae: 577.8371\n",
            "Epoch 100/100\n",
            "18/18 [==============================] - 0s 14ms/step - loss: 111.5323 - mae: 111.5323 - val_loss: 631.3271 - val_mae: 631.3271\n"
          ]
        },
        {
          "output_type": "execute_result",
          "data": {
            "text/plain": [
              "<keras.callbacks.History at 0x7f9f7b553b80>"
            ]
          },
          "metadata": {},
          "execution_count": 35
        }
      ]
    },
    {
      "cell_type": "code",
      "source": [
        "# Evaluate model on test data\n",
        "\n",
        "model_1.evaluate(test_windows, test_labels)"
      ],
      "metadata": {
        "colab": {
          "base_uri": "https://localhost:8080/"
        },
        "id": "QgtfWRNjhFVP",
        "outputId": "849a6e6d-a40d-4bae-f682-5bf03e72e9aa"
      },
      "execution_count": 36,
      "outputs": [
        {
          "output_type": "stream",
          "name": "stdout",
          "text": [
            "18/18 [==============================] - 0s 4ms/step - loss: 631.3273 - mae: 631.3273\n"
          ]
        },
        {
          "output_type": "execute_result",
          "data": {
            "text/plain": [
              "[631.3272705078125, 631.3272705078125]"
            ]
          },
          "metadata": {},
          "execution_count": 36
        }
      ]
    },
    {
      "cell_type": "code",
      "source": [
        "# Load in saved best performing model_1 and evaluate on test data\n",
        "\n",
        "model_1 = tf.keras.models.load_model(\"model_experiments/model_1_dense\")\n",
        "model_1.evaluate(test_windows, test_labels)"
      ],
      "metadata": {
        "colab": {
          "base_uri": "https://localhost:8080/"
        },
        "id": "SNnOhyzJhTSx",
        "outputId": "9b396747-1003-4007-9704-04b06a88bd88"
      },
      "execution_count": 37,
      "outputs": [
        {
          "output_type": "stream",
          "name": "stdout",
          "text": [
            "18/18 [==============================] - 0s 2ms/step - loss: 577.7944 - mae: 577.7944\n"
          ]
        },
        {
          "output_type": "execute_result",
          "data": {
            "text/plain": [
              "[577.79443359375, 577.79443359375]"
            ]
          },
          "metadata": {},
          "execution_count": 37
        }
      ]
    },
    {
      "cell_type": "markdown",
      "source": [
        "### Making forecast with model (on the test dataset)"
      ],
      "metadata": {
        "id": "maL1V0jkh5xC"
      }
    },
    {
      "cell_type": "code",
      "source": [
        "def make_preds(model, input_data):\n",
        "\n",
        "  forecast = model.predict(input_data)\n",
        "\n",
        "  return tf.squeeze(forecast)"
      ],
      "metadata": {
        "id": "mGdYxNUzhwFd"
      },
      "execution_count": 38,
      "outputs": []
    },
    {
      "cell_type": "code",
      "source": [
        "# Make prediction using model_1 on the test dataset and view the results\n",
        "\n",
        "model_1_preds = make_preds(model_1, test_windows)\n",
        "len(model_1_preds), model_1_preds[:10]"
      ],
      "metadata": {
        "colab": {
          "base_uri": "https://localhost:8080/"
        },
        "id": "hG1Iab_fiVE9",
        "outputId": "ceff4398-c944-48ce-8604-a0f94a23ea9f"
      },
      "execution_count": 39,
      "outputs": [
        {
          "output_type": "stream",
          "name": "stdout",
          "text": [
            "18/18 [==============================] - 0s 2ms/step\n"
          ]
        },
        {
          "output_type": "execute_result",
          "data": {
            "text/plain": [
              "(556, <tf.Tensor: shape=(10,), dtype=float32, numpy=\n",
              " array([8836.593, 8737.48 , 9021.796, 8782.535, 8713.902, 8762.219,\n",
              "        8635.695, 8493.252, 8458.207, 8497.395], dtype=float32)>)"
            ]
          },
          "metadata": {},
          "execution_count": 39
        }
      ]
    },
    {
      "cell_type": "code",
      "source": [
        "# Evaluate preds\n",
        "\n",
        "model_1_results = evaluate_preds(y_true=tf.squeeze(test_labels),\n",
        "                                 y_pred=model_1_preds)\n",
        "model_1_results"
      ],
      "metadata": {
        "colab": {
          "base_uri": "https://localhost:8080/"
        },
        "id": "ehIoQukziwD-",
        "outputId": "c909e434-8514-4ccc-db26-d66638f2bc14"
      },
      "execution_count": 40,
      "outputs": [
        {
          "output_type": "execute_result",
          "data": {
            "text/plain": [
              "{'mae': 577.7945,\n",
              " 'mse': 1187824.8,\n",
              " 'rmse': 1089.8737,\n",
              " 'mape': 2.5777857,\n",
              " 'mase': 1.0150249}"
            ]
          },
          "metadata": {},
          "execution_count": 40
        }
      ]
    },
    {
      "cell_type": "code",
      "source": [
        "naive_results"
      ],
      "metadata": {
        "colab": {
          "base_uri": "https://localhost:8080/"
        },
        "id": "rsuqzwowjKD_",
        "outputId": "dce26bec-edfa-4da0-97f4-5ebbf41292eb"
      },
      "execution_count": 41,
      "outputs": [
        {
          "output_type": "execute_result",
          "data": {
            "text/plain": [
              "{'mae': 567.9802,\n",
              " 'mse': 1147547.0,\n",
              " 'rmse': 1071.2362,\n",
              " 'mape': 2.516525,\n",
              " 'mase': 0.99957}"
            ]
          },
          "metadata": {},
          "execution_count": 41
        }
      ]
    },
    {
      "cell_type": "code",
      "source": [
        "# Visualizing the result\n",
        "\n",
        "offset = 300\n",
        "plt.figure(figsize=(10, 7))\n",
        "plot_time_series(timesteps=X_test[-len(test_windows):], values=test_labels[:,0], start=offset, label=\"Test_data\")\n",
        "plot_time_series(timesteps=X_test[-len(test_windows):], values=model_1_preds, start=offset, format=\"-\", label=\"model_1_preds\")"
      ],
      "metadata": {
        "colab": {
          "base_uri": "https://localhost:8080/",
          "height": 442
        },
        "id": "TEmNaVyWjQXt",
        "outputId": "a2fb6947-2829-4bb5-8df6-aa88bf04e62b"
      },
      "execution_count": 42,
      "outputs": [
        {
          "output_type": "display_data",
          "data": {
            "text/plain": [
              "<Figure size 720x504 with 1 Axes>"
            ],
            "image/png": "[encoded data removed]"
          },
          "metadata": {
            "needs_background": "light"
          }
        }
      ]
    },
    {
      "cell_type": "markdown",
      "source": [
        "### Model 2: Dense (window = 30, horizon = 1)"
      ],
      "metadata": {
        "id": "f4ZmxJlgd_up"
      }
    },
    {
      "cell_type": "code",
      "source": [
        "HORIZON = 1\n",
        "WINDOW_SIZE = 30"
      ],
      "metadata": {
        "id": "0fAUw1uXkPsw"
      },
      "execution_count": 43,
      "outputs": []
    },
    {
      "cell_type": "code",
      "source": [
        "# Make windowed data with appropriate horizon nad window size\n",
        "\n",
        "full_windows, full_labels = make_windows(prices, window_size=WINDOW_SIZE, horizon=HORIZON)\n",
        "len(full_windows), len(full_labels)"
      ],
      "metadata": {
        "colab": {
          "base_uri": "https://localhost:8080/"
        },
        "id": "gdIKLDcIeOyw",
        "outputId": "10d1d428-2896-4c7d-ee89-af795252b902"
      },
      "execution_count": 44,
      "outputs": [
        {
          "output_type": "execute_result",
          "data": {
            "text/plain": [
              "(2757, 2757)"
            ]
          },
          "metadata": {},
          "execution_count": 44
        }
      ]
    },
    {
      "cell_type": "code",
      "source": [
        "# Make train and test windows\n",
        "\n",
        "train_windows, test_windows, train_labels, test_labels = make_train_test_split(windows=full_windows,\n",
        "                                                                               labels=full_labels)\n",
        "len(train_windows), len(test_windows), len(train_labels), len(test_labels)"
      ],
      "metadata": {
        "colab": {
          "base_uri": "https://localhost:8080/"
        },
        "id": "yjUaFD4KeshH",
        "outputId": "9d65c8dc-ca4d-4016-85a0-900dfa373d49"
      },
      "execution_count": 45,
      "outputs": [
        {
          "output_type": "execute_result",
          "data": {
            "text/plain": [
              "(2205, 552, 2205, 552)"
            ]
          },
          "metadata": {},
          "execution_count": 45
        }
      ]
    },
    {
      "cell_type": "code",
      "source": [
        "tf.random.set_seed(42)\n",
        "\n",
        "# Create model\n",
        "model_2 = tf.keras.Sequential([\n",
        "    layers.Dense(128, activation=\"relu\"),\n",
        "    layers.Dense(HORIZON)\n",
        "], name=\"model_2_dense\")\n",
        "\n",
        "# Compile model\n",
        "model_2.compile(loss=\"mae\",\n",
        "                optimizer=tf.keras.optimizers.Adam())\n",
        "\n",
        "# Fit the model\n",
        "model_2.fit(train_windows,\n",
        "            train_labels,\n",
        "            epochs=100,\n",
        "            batch_size=128,\n",
        "            verbose=0,\n",
        "            validation_data=(test_windows, test_labels),\n",
        "            callbacks=[create_model_checkpoint(model_name=model_2.name)])"
      ],
      "metadata": {
        "colab": {
          "base_uri": "https://localhost:8080/"
        },
        "id": "c_AyIFtDfyfn",
        "outputId": "25905b1c-798a-496b-bc2f-7a86e469e211"
      },
      "execution_count": 46,
      "outputs": [
        {
          "output_type": "stream",
          "name": "stderr",
          "text": [
            "WARNING:absl:Found untraced functions such as _update_step_xla while saving (showing 1 of 1). These functions will not be directly callable after loading.\n",
            "WARNING:absl:Found untraced functions such as _update_step_xla while saving (showing 1 of 1). These functions will not be directly callable after loading.\n",
            "WARNING:absl:Found untraced functions such as _update_step_xla while saving (showing 1 of 1). These functions will not be directly callable after loading.\n",
            "WARNING:absl:Found untraced functions such as _update_step_xla while saving (showing 1 of 1). These functions will not be directly callable after loading.\n",
            "WARNING:absl:Found untraced functions such as _update_step_xla while saving (showing 1 of 1). These functions will not be directly callable after loading.\n",
            "WARNING:absl:Found untraced functions such as _update_step_xla while saving (showing 1 of 1). These functions will not be directly callable after loading.\n",
            "WARNING:absl:Found untraced functions such as _update_step_xla while saving (showing 1 of 1). These functions will not be directly callable after loading.\n",
            "WARNING:absl:Found untraced functions such as _update_step_xla while saving (showing 1 of 1). These functions will not be directly callable after loading.\n",
            "WARNING:absl:Found untraced functions such as _update_step_xla while saving (showing 1 of 1). These functions will not be directly callable after loading.\n",
            "WARNING:absl:Found untraced functions such as _update_step_xla while saving (showing 1 of 1). These functions will not be directly callable after loading.\n",
            "WARNING:absl:Found untraced functions such as _update_step_xla while saving (showing 1 of 1). These functions will not be directly callable after loading.\n",
            "WARNING:absl:Found untraced functions such as _update_step_xla while saving (showing 1 of 1). These functions will not be directly callable after loading.\n",
            "WARNING:absl:Found untraced functions such as _update_step_xla while saving (showing 1 of 1). These functions will not be directly callable after loading.\n",
            "WARNING:absl:Found untraced functions such as _update_step_xla while saving (showing 1 of 1). These functions will not be directly callable after loading.\n",
            "WARNING:absl:Found untraced functions such as _update_step_xla while saving (showing 1 of 1). These functions will not be directly callable after loading.\n",
            "WARNING:absl:Found untraced functions such as _update_step_xla while saving (showing 1 of 1). These functions will not be directly callable after loading.\n",
            "WARNING:absl:Found untraced functions such as _update_step_xla while saving (showing 1 of 1). These functions will not be directly callable after loading.\n",
            "WARNING:absl:Found untraced functions such as _update_step_xla while saving (showing 1 of 1). These functions will not be directly callable after loading.\n",
            "WARNING:absl:Found untraced functions such as _update_step_xla while saving (showing 1 of 1). These functions will not be directly callable after loading.\n",
            "WARNING:absl:Found untraced functions such as _update_step_xla while saving (showing 1 of 1). These functions will not be directly callable after loading.\n",
            "WARNING:absl:Found untraced functions such as _update_step_xla while saving (showing 1 of 1). These functions will not be directly callable after loading.\n",
            "WARNING:absl:Found untraced functions such as _update_step_xla while saving (showing 1 of 1). These functions will not be directly callable after loading.\n",
            "WARNING:absl:Found untraced functions such as _update_step_xla while saving (showing 1 of 1). These functions will not be directly callable after loading.\n",
            "WARNING:absl:Found untraced functions such as _update_step_xla while saving (showing 1 of 1). These functions will not be directly callable after loading.\n",
            "WARNING:absl:Found untraced functions such as _update_step_xla while saving (showing 1 of 1). These functions will not be directly callable after loading.\n",
            "WARNING:absl:Found untraced functions such as _update_step_xla while saving (showing 1 of 1). These functions will not be directly callable after loading.\n",
            "WARNING:absl:Found untraced functions such as _update_step_xla while saving (showing 1 of 1). These functions will not be directly callable after loading.\n"
          ]
        },
        {
          "output_type": "execute_result",
          "data": {
            "text/plain": [
              "<keras.callbacks.History at 0x7f9f78378940>"
            ]
          },
          "metadata": {},
          "execution_count": 46
        }
      ]
    },
    {
      "cell_type": "code",
      "source": [
        "# Evaluate model_2 preds\n",
        "\n",
        "model_2.evaluate(test_windows, test_labels)"
      ],
      "metadata": {
        "colab": {
          "base_uri": "https://localhost:8080/"
        },
        "id": "9LXDjE10kaZ5",
        "outputId": "d71402b7-3c4e-4ccb-d059-fa60f589f9fb"
      },
      "execution_count": 47,
      "outputs": [
        {
          "output_type": "stream",
          "name": "stdout",
          "text": [
            "18/18 [==============================] - 0s 4ms/step - loss: 610.0170\n"
          ]
        },
        {
          "output_type": "execute_result",
          "data": {
            "text/plain": [
              "610.0169677734375"
            ]
          },
          "metadata": {},
          "execution_count": 47
        }
      ]
    },
    {
      "cell_type": "code",
      "source": [
        "# Load in best performing model\n",
        "\n",
        "model_2 = tf.keras.models.load_model(\"model_experiments/model_2_dense\")\n",
        "model_2.evaluate(test_windows, test_labels)"
      ],
      "metadata": {
        "colab": {
          "base_uri": "https://localhost:8080/"
        },
        "id": "uaFe9xojknOD",
        "outputId": "6887670e-8ba9-4bca-eebf-86c806b7918a"
      },
      "execution_count": 48,
      "outputs": [
        {
          "output_type": "stream",
          "name": "stdout",
          "text": [
            "18/18 [==============================] - 0s 4ms/step - loss: 604.0062\n"
          ]
        },
        {
          "output_type": "execute_result",
          "data": {
            "text/plain": [
              "604.0061645507812"
            ]
          },
          "metadata": {},
          "execution_count": 48
        }
      ]
    },
    {
      "cell_type": "code",
      "source": [
        "# Get forecast predictions\n",
        "\n",
        "model_2_preds = make_preds(model_2,\n",
        "                           input_data=test_windows)\n",
        "model_2_preds[-10:]"
      ],
      "metadata": {
        "colab": {
          "base_uri": "https://localhost:8080/"
        },
        "id": "dnQr8F4tlBDD",
        "outputId": "79994dd6-8b1e-4cfa-fd59-93d93e56b4fb"
      },
      "execution_count": 49,
      "outputs": [
        {
          "output_type": "stream",
          "name": "stdout",
          "text": [
            "18/18 [==============================] - 0s 2ms/step\n"
          ]
        },
        {
          "output_type": "execute_result",
          "data": {
            "text/plain": [
              "<tf.Tensor: shape=(10,), dtype=float32, numpy=\n",
              "array([57249.03 , 57983.566, 59209.227, 56703.133, 56625.977, 53535.01 ,\n",
              "       50775.   , 51294.3  , 48822.95 , 45805.832], dtype=float32)>"
            ]
          },
          "metadata": {},
          "execution_count": 49
        }
      ]
    },
    {
      "cell_type": "code",
      "source": [
        "# Evaluate results for model_2 prediction\n",
        "\n",
        "model_2_results = evaluate_preds(y_true=tf.squeeze(test_labels),\n",
        "                                 y_pred=model_2_preds)"
      ],
      "metadata": {
        "id": "xxZM5Vk8lr9C"
      },
      "execution_count": 50,
      "outputs": []
    },
    {
      "cell_type": "code",
      "source": [
        "model_2_results"
      ],
      "metadata": {
        "colab": {
          "base_uri": "https://localhost:8080/"
        },
        "id": "lKDHNuoqmH9g",
        "outputId": "3d26c545-43ec-41b3-d531-a2dd9eb234e0"
      },
      "execution_count": 51,
      "outputs": [
        {
          "output_type": "execute_result",
          "data": {
            "text/plain": [
              "{'mae': 604.00616,\n",
              " 'mse': 1300901.1,\n",
              " 'rmse': 1140.5706,\n",
              " 'mape': 2.7017002,\n",
              " 'mase': 1.0558087}"
            ]
          },
          "metadata": {},
          "execution_count": 51
        }
      ]
    },
    {
      "cell_type": "markdown",
      "source": [
        "### Model 3: Dense (window = 30, horizon = 7)"
      ],
      "metadata": {
        "id": "ctMseeTZdYIi"
      }
    },
    {
      "cell_type": "code",
      "source": [
        "HORIZON = 7\n",
        "WINDOW_SIZE = 30\n",
        "\n",
        "full_windows, full_labels = make_windows(prices, window_size=WINDOW_SIZE, horizon=HORIZON)\n",
        "len(full_windows), len(full_labels)"
      ],
      "metadata": {
        "id": "56t6LzYnmJ2x",
        "colab": {
          "base_uri": "https://localhost:8080/"
        },
        "outputId": "569ca26b-68fb-4b38-d339-79c41eb7e8c4"
      },
      "execution_count": 52,
      "outputs": [
        {
          "output_type": "execute_result",
          "data": {
            "text/plain": [
              "(2751, 2751)"
            ]
          },
          "metadata": {},
          "execution_count": 52
        }
      ]
    },
    {
      "cell_type": "code",
      "source": [
        "train_windows, test_windows, train_labels, test_labels = make_train_test_split(windows=full_windows, labels=full_labels)\n",
        "len(train_windows), len(test_windows), len(train_labels), len(test_labels)"
      ],
      "metadata": {
        "colab": {
          "base_uri": "https://localhost:8080/"
        },
        "id": "NTiPbNBZd7fP",
        "outputId": "52e96235-218a-4b80-dc6a-584e7718c93a"
      },
      "execution_count": 53,
      "outputs": [
        {
          "output_type": "execute_result",
          "data": {
            "text/plain": [
              "(2200, 551, 2200, 551)"
            ]
          },
          "metadata": {},
          "execution_count": 53
        }
      ]
    },
    {
      "cell_type": "code",
      "source": [
        "tf.random.set_seed(42)\n",
        "\n",
        "model_3 = tf.keras.Sequential([\n",
        "    layers.Dense(128, activation=\"relu\"),\n",
        "    layers.Dense(HORIZON)\n",
        "], name = \"model_3_dense\")\n",
        "\n",
        "model_3.compile(loss=\"mae\",\n",
        "                optimizer=tf.keras.optimizers.Adam())\n",
        "\n",
        "model_3.fit(train_windows,\n",
        "            train_labels,\n",
        "            batch_size=128,\n",
        "            epochs=100,\n",
        "            verbose=0,\n",
        "            validation_data=(test_windows, test_labels),\n",
        "            callbacks=[create_model_checkpoint(model_name=model_3.name)])"
      ],
      "metadata": {
        "colab": {
          "base_uri": "https://localhost:8080/"
        },
        "id": "rnEDQrZFeWsc",
        "outputId": "05925635-539b-4007-d4f3-555d2dc6e553"
      },
      "execution_count": 54,
      "outputs": [
        {
          "output_type": "stream",
          "name": "stderr",
          "text": [
            "WARNING:absl:Found untraced functions such as _update_step_xla while saving (showing 1 of 1). These functions will not be directly callable after loading.\n",
            "WARNING:absl:Found untraced functions such as _update_step_xla while saving (showing 1 of 1). These functions will not be directly callable after loading.\n",
            "WARNING:absl:Found untraced functions such as _update_step_xla while saving (showing 1 of 1). These functions will not be directly callable after loading.\n",
            "WARNING:absl:Found untraced functions such as _update_step_xla while saving (showing 1 of 1). These functions will not be directly callable after loading.\n",
            "WARNING:absl:Found untraced functions such as _update_step_xla while saving (showing 1 of 1). These functions will not be directly callable after loading.\n",
            "WARNING:absl:Found untraced functions such as _update_step_xla while saving (showing 1 of 1). These functions will not be directly callable after loading.\n",
            "WARNING:absl:Found untraced functions such as _update_step_xla while saving (showing 1 of 1). These functions will not be directly callable after loading.\n",
            "WARNING:absl:Found untraced functions such as _update_step_xla while saving (showing 1 of 1). These functions will not be directly callable after loading.\n",
            "WARNING:absl:Found untraced functions such as _update_step_xla while saving (showing 1 of 1). These functions will not be directly callable after loading.\n",
            "WARNING:absl:Found untraced functions such as _update_step_xla while saving (showing 1 of 1). These functions will not be directly callable after loading.\n",
            "WARNING:absl:Found untraced functions such as _update_step_xla while saving (showing 1 of 1). These functions will not be directly callable after loading.\n",
            "WARNING:absl:Found untraced functions such as _update_step_xla while saving (showing 1 of 1). These functions will not be directly callable after loading.\n",
            "WARNING:absl:Found untraced functions such as _update_step_xla while saving (showing 1 of 1). These functions will not be directly callable after loading.\n",
            "WARNING:absl:Found untraced functions such as _update_step_xla while saving (showing 1 of 1). These functions will not be directly callable after loading.\n",
            "WARNING:absl:Found untraced functions such as _update_step_xla while saving (showing 1 of 1). These functions will not be directly callable after loading.\n",
            "WARNING:absl:Found untraced functions such as _update_step_xla while saving (showing 1 of 1). These functions will not be directly callable after loading.\n",
            "WARNING:absl:Found untraced functions such as _update_step_xla while saving (showing 1 of 1). These functions will not be directly callable after loading.\n",
            "WARNING:absl:Found untraced functions such as _update_step_xla while saving (showing 1 of 1). These functions will not be directly callable after loading.\n",
            "WARNING:absl:Found untraced functions such as _update_step_xla while saving (showing 1 of 1). These functions will not be directly callable after loading.\n",
            "WARNING:absl:Found untraced functions such as _update_step_xla while saving (showing 1 of 1). These functions will not be directly callable after loading.\n",
            "WARNING:absl:Found untraced functions such as _update_step_xla while saving (showing 1 of 1). These functions will not be directly callable after loading.\n",
            "WARNING:absl:Found untraced functions such as _update_step_xla while saving (showing 1 of 1). These functions will not be directly callable after loading.\n",
            "WARNING:absl:Found untraced functions such as _update_step_xla while saving (showing 1 of 1). These functions will not be directly callable after loading.\n",
            "WARNING:absl:Found untraced functions such as _update_step_xla while saving (showing 1 of 1). These functions will not be directly callable after loading.\n",
            "WARNING:absl:Found untraced functions such as _update_step_xla while saving (showing 1 of 1). These functions will not be directly callable after loading.\n",
            "WARNING:absl:Found untraced functions such as _update_step_xla while saving (showing 1 of 1). These functions will not be directly callable after loading.\n",
            "WARNING:absl:Found untraced functions such as _update_step_xla while saving (showing 1 of 1). These functions will not be directly callable after loading.\n",
            "WARNING:absl:Found untraced functions such as _update_step_xla while saving (showing 1 of 1). These functions will not be directly callable after loading.\n"
          ]
        },
        {
          "output_type": "execute_result",
          "data": {
            "text/plain": [
              "<keras.callbacks.History at 0x7f9f6157ea00>"
            ]
          },
          "metadata": {},
          "execution_count": 54
        }
      ]
    },
    {
      "cell_type": "code",
      "source": [
        "model_3.evaluate(test_windows, test_labels)"
      ],
      "metadata": {
        "colab": {
          "base_uri": "https://localhost:8080/"
        },
        "id": "NJgBoCyJfYZL",
        "outputId": "67ec136a-b29f-4653-c9fd-beb1157d7943"
      },
      "execution_count": 55,
      "outputs": [
        {
          "output_type": "stream",
          "name": "stdout",
          "text": [
            "18/18 [==============================] - 0s 3ms/step - loss: 1382.7468\n"
          ]
        },
        {
          "output_type": "execute_result",
          "data": {
            "text/plain": [
              "1382.746826171875"
            ]
          },
          "metadata": {},
          "execution_count": 55
        }
      ]
    },
    {
      "cell_type": "code",
      "source": [
        "model_3 = tf.keras.models.load_model(\"model_experiments/model_3_dense/\")\n",
        "model_3.evaluate(test_windows, test_labels)"
      ],
      "metadata": {
        "colab": {
          "base_uri": "https://localhost:8080/"
        },
        "id": "rrC8_p1VfjG8",
        "outputId": "69978209-0c1b-49f4-9041-667976c66180"
      },
      "execution_count": 56,
      "outputs": [
        {
          "output_type": "stream",
          "name": "stdout",
          "text": [
            "18/18 [==============================] - 0s 2ms/step - loss: 1231.6667\n"
          ]
        },
        {
          "output_type": "execute_result",
          "data": {
            "text/plain": [
              "1231.666748046875"
            ]
          },
          "metadata": {},
          "execution_count": 56
        }
      ]
    },
    {
      "cell_type": "code",
      "source": [
        "model_3_preds = make_preds(model_3,\n",
        "                           input_data=test_windows)\n",
        "model_3_preds[-5:]"
      ],
      "metadata": {
        "colab": {
          "base_uri": "https://localhost:8080/"
        },
        "id": "6HzRO1yCf2xs",
        "outputId": "eb9291e4-5b7f-484b-85ae-1dfe55e9bfcf"
      },
      "execution_count": 57,
      "outputs": [
        {
          "output_type": "stream",
          "name": "stdout",
          "text": [
            "18/18 [==============================] - 0s 2ms/step\n"
          ]
        },
        {
          "output_type": "execute_result",
          "data": {
            "text/plain": [
              "<tf.Tensor: shape=(5, 7), dtype=float32, numpy=\n",
              "array([[56941.098, 57037.65 , 57998.19 , 56713.81 , 57502.18 , 57515.215,\n",
              "        57712.215],\n",
              "       [56945.87 , 56602.383, 58121.18 , 58642.93 , 58926.47 , 57735.47 ,\n",
              "        57315.176],\n",
              "       [57605.223, 58757.6  , 57926.266, 60194.426, 59926.195, 59297.152,\n",
              "        58799.19 ],\n",
              "       [57899.676, 58147.92 , 58938.26 , 58979.74 , 60067.727, 59616.24 ,\n",
              "        59006.805],\n",
              "       [57808.098, 57437.594, 59553.055, 58958.812, 60043.965, 58703.63 ,\n",
              "        58950.816]], dtype=float32)>"
            ]
          },
          "metadata": {},
          "execution_count": 57
        }
      ]
    },
    {
      "cell_type": "code",
      "source": [
        "model_3_results = evaluate_preds(y_true=tf.squeeze(test_labels),\n",
        "                                 y_pred=model_3_preds)\n",
        "model_3_results"
      ],
      "metadata": {
        "colab": {
          "base_uri": "https://localhost:8080/"
        },
        "id": "1jm6ig1AgH29",
        "outputId": "c2df8ce6-da30-44b2-c4f7-c043e530bf96"
      },
      "execution_count": 58,
      "outputs": [
        {
          "output_type": "execute_result",
          "data": {
            "text/plain": [
              "{'mae': array([  577.72754 ,   353.59195 ,   359.47543 ,   561.48645 ,\n",
              "          516.33563 ,   540.2046  ,   486.23813 ,   553.563   ,\n",
              "          500.8854  ,   643.84247 ,   871.87494 ,   893.04877 ,\n",
              "         1023.08295 ,  1061.0867  ,   682.2904  ,   273.3986  ,\n",
              "          211.63225 ,   162.49734 ,   200.3628  ,   198.5533  ,\n",
              "          220.67201 ,   260.96255 ,   357.96017 ,   363.25732 ,\n",
              "          162.44719 ,    98.9578  ,   118.631905,   133.65381 ,\n",
              "          219.71443 ,   268.76617 ,   381.2175  ,   434.19135 ,\n",
              "          455.08237 ,   368.54562 ,   322.69244 ,   339.23325 ,\n",
              "          441.68066 ,   227.03453 ,   267.8316  ,   151.19783 ,\n",
              "          474.85107 ,    85.37402 ,   118.73793 ,   153.59055 ,\n",
              "          175.69344 ,   219.52469 ,    97.66908 ,    99.19176 ,\n",
              "           79.76172 ,   195.37263 ,   178.36502 ,   259.116   ,\n",
              "          324.0759  ,   211.57756 ,   253.44469 ,   277.46045 ,\n",
              "          587.0671  ,   437.07553 ,   419.91092 ,   507.9285  ,\n",
              "          286.881   ,   199.5657  ,   286.33334 ,   349.36636 ,\n",
              "          348.622   ,   464.33762 ,   345.02994 ,   403.2066  ,\n",
              "          162.64746 ,   214.18248 ,   357.50348 ,   522.4997  ,\n",
              "          559.78485 ,   388.34055 ,   358.1621  ,   358.827   ,\n",
              "          344.87613 ,   315.238   ,   487.18262 ,   754.1081  ,\n",
              "          733.03796 ,   561.1112  ,   192.23103 ,   220.99178 ,\n",
              "          304.33774 ,   295.5466  ,   210.6522  ,   280.34695 ,\n",
              "          365.90652 ,   564.8817  ,   405.77023 ,   273.26547 ,\n",
              "          242.27664 ,   154.52469 ,   209.32004 ,   291.31125 ,\n",
              "          346.07144 ,   568.9167  ,   689.22125 ,   780.2536  ,\n",
              "          608.286   ,   403.37793 ,   164.18987 ,   361.3641  ,\n",
              "          414.727   ,   496.3482  ,   569.39465 ,   788.25336 ,\n",
              "          961.7041  ,   938.54675 ,   895.2765  ,   365.0721  ,\n",
              "          270.42105 ,   242.46262 ,   198.5985  ,   228.50342 ,\n",
              "          343.9836  ,   505.014   ,   631.9124  ,  1244.1327  ,\n",
              "         1660.4607  ,  2116.7808  ,  2189.6052  ,  2147.9226  ,\n",
              "         2338.9143  ,  2583.9539  ,  1407.0833  ,   714.4712  ,\n",
              "          478.69412 ,   421.7991  ,   475.5754  ,   465.85715 ,\n",
              "          458.35422 ,   242.3335  ,   245.684   ,   169.56326 ,\n",
              "          420.9377  ,   357.74142 ,   211.65144 ,   334.3669  ,\n",
              "          348.75873 ,   351.58636 ,   644.7741  ,   861.2636  ,\n",
              "          767.43115 ,   578.8671  ,   584.88983 ,   169.79869 ,\n",
              "          207.77225 ,   237.78983 ,   230.39188 ,   243.99721 ,\n",
              "          377.5895  ,   674.2423  ,   832.6956  ,   281.86148 ,\n",
              "          236.85533 ,   189.47726 ,   123.178505,   234.33908 ,\n",
              "          315.86984 ,   221.82289 ,   315.79507 ,   277.85504 ,\n",
              "          201.76047 ,   398.5606  ,   621.5443  ,   569.40576 ,\n",
              "          533.0728  ,   552.08234 ,   613.25714 ,   797.707   ,\n",
              "          886.9333  ,   990.85944 ,   438.46414 ,   286.59262 ,\n",
              "          301.27414 ,   316.08817 ,   355.47113 ,   423.8234  ,\n",
              "          515.49414 ,   542.58246 ,   809.68317 ,  1063.851   ,\n",
              "         1019.53644 ,   340.24176 ,   542.821   ,   807.00183 ,\n",
              "          360.30914 ,   123.85491 ,   270.87723 ,   313.62222 ,\n",
              "          416.55594 ,   514.83636 ,   579.2832  ,   483.80804 ,\n",
              "          333.79437 ,   327.99554 ,   345.80078 ,   238.67062 ,\n",
              "          515.2758  ,   816.5614  ,   657.45184 ,   284.06223 ,\n",
              "          271.101   ,   259.09976 ,   202.40402 ,   560.88477 ,\n",
              "          259.77652 ,   176.58469 ,   133.33998 ,   226.25935 ,\n",
              "          310.5657  ,   458.17188 ,   442.96832 ,   447.4897  ,\n",
              "          527.88    ,   289.84137 ,   292.12262 ,   164.12556 ,\n",
              "          221.76535 ,   283.4647  ,   181.2239  ,   306.98703 ,\n",
              "          166.0657  ,   147.97713 ,   188.17982 ,   348.43024 ,\n",
              "          436.03418 ,   578.3901  ,   522.47546 ,   182.86565 ,\n",
              "          291.8828  ,    97.75195 ,   177.56836 ,   162.0099  ,\n",
              "          234.01604 ,   210.51004 ,   185.81389 ,    73.82826 ,\n",
              "           90.7945  ,   140.42104 ,   181.25084 ,   213.61775 ,\n",
              "          389.64105 ,   328.54535 ,   194.20117 ,   161.51465 ,\n",
              "          232.57924 ,   214.69238 ,   228.19322 ,   237.73926 ,\n",
              "          164.93513 ,   142.06697 ,   147.22726 ,   286.2461  ,\n",
              "          550.41534 ,   571.75616 ,   637.8761  ,   769.8058  ,\n",
              "          958.8633  ,  1245.26    ,  1230.2249  ,   347.53696 ,\n",
              "          208.64803 ,   336.37527 ,   290.89215 ,   313.14285 ,\n",
              "          407.1243  ,   133.80008 ,   136.5406  ,   171.56487 ,\n",
              "          216.95969 ,   481.62125 ,   373.10574 ,   284.4728  ,\n",
              "          311.28238 ,   404.67117 ,   210.5166  ,   166.97781 ,\n",
              "          224.67188 ,   180.42383 ,   297.37933 ,   346.74234 ,\n",
              "          540.0484  ,   491.91168 ,   447.30203 ,   380.34528 ,\n",
              "          382.6956  ,   298.2398  ,   346.92746 ,   355.74496 ,\n",
              "          205.0272  ,   139.3478  ,   280.5537  ,   432.48605 ,\n",
              "          657.5406  ,  1003.3651  ,  1254.095   ,  1573.3383  ,\n",
              "         1524.9465  ,   921.5039  ,   554.4354  ,   133.97908 ,\n",
              "          142.99846 ,   166.64941 ,   262.8775  ,   253.54227 ,\n",
              "          289.9177  ,   248.7327  ,   291.10406 ,   487.03195 ,\n",
              "          222.76186 ,   351.36148 ,   521.87683 ,   574.78546 ,\n",
              "          551.54364 ,   424.54898 ,   482.66238 ,   205.30064 ,\n",
              "           77.53097 ,   190.07701 ,   156.31795 ,   225.53459 ,\n",
              "          355.38797 ,   357.7574  ,   330.5537  ,   380.09097 ,\n",
              "          438.0561  ,   236.04533 ,   180.86635 ,   233.80371 ,\n",
              "          256.93637 ,   282.88742 ,   429.47238 ,   631.43164 ,\n",
              "          456.64664 ,   299.77985 ,   180.21889 ,   246.9015  ,\n",
              "          372.42383 ,   311.12555 ,   411.47125 ,   521.43427 ,\n",
              "          710.57587 ,   929.58075 ,  1031.4373  ,   970.7987  ,\n",
              "         1033.2529  ,   309.8351  ,   209.65514 ,   210.17606 ,\n",
              "          291.89008 ,   241.51144 ,   274.9248  ,   178.7574  ,\n",
              "          192.46945 ,   413.14215 ,   566.4374  ,   667.611   ,\n",
              "          690.0088  ,  1034.1094  ,  1214.1113  ,   951.23956 ,\n",
              "          401.31027 ,   499.9604  ,   279.2097  ,   412.62262 ,\n",
              "          517.09344 ,   664.84015 ,   898.29645 ,   801.90234 ,\n",
              "          775.78754 ,  1161.7539  ,  1598.042   ,  1474.5486  ,\n",
              "         1193.308   ,   664.2857  ,   413.2698  ,   692.416   ,\n",
              "         1007.0156  ,  1260.2338  ,  1022.7969  ,  1022.3878  ,\n",
              "         1056.6057  ,   693.15375 ,  1333.5084  ,  1278.4303  ,\n",
              "         1165.2673  ,   356.1116  ,   485.90402 ,   532.30914 ,\n",
              "          925.86774 ,   773.31195 ,   594.44086 ,   685.9118  ,\n",
              "          620.6808  ,   569.90375 ,   656.5851  ,  1428.9501  ,\n",
              "         2263.3796  ,  2687.7522  ,  2954.0942  ,  2939.025   ,\n",
              "         3304.3228  ,  2139.478   ,   605.50586 ,   622.68585 ,\n",
              "         1121.6272  ,  1049.154   ,  1353.4869  ,  1580.692   ,\n",
              "         2111.3645  ,  2964.759   ,  2863.5183  ,  2063.6306  ,\n",
              "         2330.2673  ,  2553.6694  ,  3488.943   ,  3249.7795  ,\n",
              "         3966.1243  ,  4914.8706  ,  4330.32    ,  4234.224   ,\n",
              "         4497.4985  ,  3153.7405  ,  2832.361   ,  2569.241   ,\n",
              "         4396.997   ,  5506.9834  ,  4796.6     ,  1307.5569  ,\n",
              "         1469.4342  ,   849.9347  ,  2358.3152  ,  3072.506   ,\n",
              "         3459.6467  ,  3227.8606  ,  3512.0493  ,  4092.715   ,\n",
              "         3296.9746  ,  1416.842   ,  1220.2819  ,  1237.3666  ,\n",
              "         1106.2391  ,  1344.538   ,  1989.4933  ,  3559.5862  ,\n",
              "         2437.8865  ,  1983.2997  ,  1438.4967  ,  2861.731   ,\n",
              "         4332.181   ,  4647.664   ,  4638.9683  ,  5812.232   ,\n",
              "         5668.673   ,  5579.759   ,  6079.6436  ,  2799.1702  ,\n",
              "         1201.4442  ,  2193.8333  ,  1301.7142  ,  2236.2478  ,\n",
              "         2573.0938  ,  2606.9722  ,  3821.1184  ,  3318.9358  ,\n",
              "         2795.034   ,  3180.6206  ,  5846.3735  ,  7384.005   ,\n",
              "         9225.956   , 10246.607   ,  4730.078   ,  2629.2505  ,\n",
              "         1838.1283  ,  1781.4648  ,  2352.7122  ,  3274.6702  ,\n",
              "         2612.5886  ,  3258.3699  ,  1969.0814  ,  3554.7556  ,\n",
              "         4278.968   ,  5388.237   ,  5778.9927  ,  6274.1626  ,\n",
              "         3818.5496  ,  1775.4542  ,  1943.3158  ,  1880.9498  ,\n",
              "         2750.1355  ,  3292.7231  ,  2030.452   ,  2022.3995  ,\n",
              "         3646.2417  ,  4061.4075  ,  5588.05    ,  5224.4033  ,\n",
              "         5293.356   ,  2891.3333  ,  1949.976   ,  2057.1345  ,\n",
              "         4168.367   ,  3418.1558  ,  1850.0938  ,  2159.9727  ,\n",
              "         1512.7461  ,   635.6133  ,  1017.43195 ,  1525.7963  ,\n",
              "         2036.0084  ,  1567.0881  ,  1213.0184  ,  1502.7819  ,\n",
              "         1711.4698  ,  2696.5803  ,  2667.4844  ,  2824.5095  ,\n",
              "         2115.0637  ,  1855.0458  ,  3193.8398  ,  4064.3816  ,\n",
              "         5875.346   ,  8650.459   ,  8517.609   ,  8096.78    ,\n",
              "         6771.747   ,  5263.4614  ,  4693.428   ,  3455.2935  ,\n",
              "         1523.8348  ,  2636.855   ,  3147.155   ,  5403.3013  ,\n",
              "         3919.9314  ,  1610.1295  ,  1688.6139  ,  1915.1373  ,\n",
              "         1127.442   ,  1723.0842  ,  1296.8125  ,  1354.4955  ,\n",
              "         1657.332   ,  1529.3934  ,  2466.1355  ,  4264.232   ,\n",
              "         6182.633   ,  7847.483   ,  9471.865   ], dtype=float32),\n",
              " 'mse': array([3.72584062e+05, 1.57898594e+05, 1.50250094e+05, 3.78515844e+05,\n",
              "        3.43421719e+05, 3.61555031e+05, 2.55540000e+05, 3.44939188e+05,\n",
              "        4.04691750e+05, 5.78972875e+05, 1.00518488e+06, 1.08377575e+06,\n",
              "        1.21096662e+06, 1.19260912e+06, 5.36263500e+05, 9.51621953e+04,\n",
              "        5.40858945e+04, 3.68488477e+04, 4.80571836e+04, 5.93215234e+04,\n",
              "        7.22497891e+04, 8.39780859e+04, 1.62625875e+05, 1.48804547e+05,\n",
              "        3.50278789e+04, 1.42433184e+04, 1.85168711e+04, 2.35424395e+04,\n",
              "        5.90976250e+04, 9.81515859e+04, 1.74347281e+05, 2.07266156e+05,\n",
              "        2.31220781e+05, 2.05633078e+05, 1.83779531e+05, 1.78591219e+05,\n",
              "        2.65787688e+05, 9.53161250e+04, 1.15225258e+05, 4.74302461e+04,\n",
              "        2.47441422e+05, 1.21564473e+04, 1.81699023e+04, 3.11356289e+04,\n",
              "        4.62911602e+04, 6.93033047e+04, 1.70849434e+04, 1.70549570e+04,\n",
              "        9.00965527e+03, 4.02511797e+04, 5.61932930e+04, 9.99998906e+04,\n",
              "        1.51144719e+05, 5.75381641e+04, 1.27938289e+05, 1.38418641e+05,\n",
              "        4.02407031e+05, 2.41864641e+05, 2.09513234e+05, 2.87801188e+05,\n",
              "        9.60626484e+04, 7.47891953e+04, 1.33200406e+05, 1.83833703e+05,\n",
              "        1.81098328e+05, 2.89552312e+05, 1.47478953e+05, 1.84990516e+05,\n",
              "        4.03864375e+04, 6.10767617e+04, 1.67965375e+05, 3.17584500e+05,\n",
              "        3.55203281e+05, 2.11648359e+05, 1.89819875e+05, 1.72568828e+05,\n",
              "        1.43398641e+05, 1.95565359e+05, 3.31638219e+05, 6.62627000e+05,\n",
              "        5.62555625e+05, 3.22164656e+05, 6.87129453e+04, 6.09761680e+04,\n",
              "        1.41107672e+05, 1.23094453e+05, 6.80357031e+04, 1.31370531e+05,\n",
              "        1.64408516e+05, 3.72845719e+05, 2.05440641e+05, 9.68526953e+04,\n",
              "        7.85158750e+04, 3.47981836e+04, 5.88593750e+04, 1.05782945e+05,\n",
              "        1.95315219e+05, 4.48708656e+05, 5.90529500e+05, 6.53158438e+05,\n",
              "        4.19358656e+05, 2.13360750e+05, 5.07480391e+04, 1.51732328e+05,\n",
              "        3.03603938e+05, 3.94449219e+05, 5.15558281e+05, 8.50978000e+05,\n",
              "        1.13273062e+06, 9.96917312e+05, 8.50271062e+05, 1.64147531e+05,\n",
              "        9.62759219e+04, 6.62524688e+04, 5.24493555e+04, 6.34422422e+04,\n",
              "        2.33662703e+05, 4.64580562e+05, 5.01952219e+05, 2.43740225e+06,\n",
              "        4.08946950e+06, 6.06745950e+06, 6.30983600e+06, 6.14226650e+06,\n",
              "        6.42556300e+06, 6.77464150e+06, 2.21860825e+06, 6.15743062e+05,\n",
              "        2.82799312e+05, 2.36262703e+05, 3.23786844e+05, 3.42875844e+05,\n",
              "        3.37984844e+05, 7.33876406e+04, 8.46059531e+04, 4.06740195e+04,\n",
              "        2.17216781e+05, 1.47570578e+05, 6.22442266e+04, 1.79572609e+05,\n",
              "        1.62645016e+05, 1.97163391e+05, 5.33189625e+05, 8.89937312e+05,\n",
              "        7.06154188e+05, 3.50736000e+05, 4.14332062e+05, 4.09624570e+04,\n",
              "        5.47675000e+04, 1.03531898e+05, 7.19201250e+04, 7.84600391e+04,\n",
              "        1.86771969e+05, 5.49516375e+05, 7.38127312e+05, 1.22592695e+05,\n",
              "        8.03615547e+04, 4.37541250e+04, 2.21438027e+04, 8.23650625e+04,\n",
              "        1.27103484e+05, 6.74099844e+04, 1.15245555e+05, 1.05960188e+05,\n",
              "        6.45711523e+04, 2.25392859e+05, 4.25313000e+05, 5.01233188e+05,\n",
              "        5.59794312e+05, 5.65280562e+05, 6.32894188e+05, 8.68009375e+05,\n",
              "        9.08948062e+05, 9.85728000e+05, 2.33079828e+05, 1.94397734e+05,\n",
              "        1.82605109e+05, 1.11682836e+05, 1.52874250e+05, 2.13352484e+05,\n",
              "        3.02140812e+05, 3.81658844e+05, 9.23343688e+05, 1.29845162e+06,\n",
              "        1.12516512e+06, 1.57140469e+05, 4.02547500e+05, 6.95718375e+05,\n",
              "        1.68725547e+05, 3.37597852e+04, 1.36738141e+05, 1.55297234e+05,\n",
              "        2.46990672e+05, 3.38078844e+05, 4.04847438e+05, 3.29427531e+05,\n",
              "        1.45728641e+05, 1.88460672e+05, 1.55175609e+05, 1.02093836e+05,\n",
              "        4.57048438e+05, 7.91216438e+05, 4.69378344e+05, 1.31400359e+05,\n",
              "        1.24932289e+05, 9.59732031e+04, 7.52563906e+04, 3.37490719e+05,\n",
              "        8.39684453e+04, 3.72559102e+04, 3.25584180e+04, 8.32346328e+04,\n",
              "        1.53946078e+05, 3.08311062e+05, 2.61280719e+05, 2.26264469e+05,\n",
              "        2.95537719e+05, 9.49548203e+04, 1.04092047e+05, 3.72740039e+04,\n",
              "        5.66557109e+04, 1.14644234e+05, 5.01323203e+04, 1.09551109e+05,\n",
              "        4.36205703e+04, 2.86312754e+04, 4.28026172e+04, 1.71930172e+05,\n",
              "        2.17235750e+05, 3.93076156e+05, 3.12313719e+05, 4.10600430e+04,\n",
              "        9.13112891e+04, 1.42864854e+04, 4.45457461e+04, 4.13331055e+04,\n",
              "        7.60201328e+04, 5.98348320e+04, 4.52339102e+04, 1.15995771e+04,\n",
              "        1.10030732e+04, 3.23061133e+04, 3.55026992e+04, 5.75815352e+04,\n",
              "        1.66409484e+05, 1.19903070e+05, 5.14257930e+04, 3.24130586e+04,\n",
              "        7.27499688e+04, 5.17878086e+04, 6.59345078e+04, 7.70972500e+04,\n",
              "        3.80408672e+04, 2.79274277e+04, 3.31214141e+04, 1.23150445e+05,\n",
              "        6.34078062e+05, 6.82919375e+05, 8.29987438e+05, 9.64837125e+05,\n",
              "        1.22903888e+06, 1.79636862e+06, 1.55895462e+06, 1.58928828e+05,\n",
              "        6.34382383e+04, 1.58907578e+05, 1.04852266e+05, 1.36391891e+05,\n",
              "        2.17669875e+05, 2.61106289e+04, 3.89809570e+04, 4.99925273e+04,\n",
              "        6.32045273e+04, 2.83590000e+05, 2.63360562e+05, 1.12432750e+05,\n",
              "        1.05997023e+05, 1.86679891e+05, 8.60778594e+04, 5.04771953e+04,\n",
              "        7.07269375e+04, 4.01184570e+04, 1.10786711e+05, 1.74914750e+05,\n",
              "        3.46068344e+05, 2.80514656e+05, 2.43302609e+05, 1.68151828e+05,\n",
              "        2.26070797e+05, 1.16651555e+05, 1.68866703e+05, 1.76472844e+05,\n",
              "        7.98400000e+04, 2.19891582e+04, 1.15498328e+05, 2.44604281e+05,\n",
              "        7.09040562e+05, 1.47442675e+06, 1.98344638e+06, 2.78270725e+06,\n",
              "        2.44726275e+06, 9.02537000e+05, 3.57949406e+05, 4.10376250e+04,\n",
              "        3.42149805e+04, 3.48527734e+04, 1.01609953e+05, 1.17611234e+05,\n",
              "        1.46265953e+05, 1.02406117e+05, 1.06640117e+05, 2.46287500e+05,\n",
              "        6.63805234e+04, 1.84803656e+05, 3.51244219e+05, 4.69565656e+05,\n",
              "        4.08603000e+05, 2.28157797e+05, 2.73064094e+05, 6.53765820e+04,\n",
              "        1.01623594e+04, 5.89299922e+04, 3.18171211e+04, 7.11197969e+04,\n",
              "        1.83081922e+05, 1.81378609e+05, 1.44352859e+05, 1.77027031e+05,\n",
              "        2.17732328e+05, 7.72053516e+04, 4.85790586e+04, 9.78780781e+04,\n",
              "        1.26405367e+05, 1.62101828e+05, 2.52096219e+05, 4.24032062e+05,\n",
              "        2.27117531e+05, 1.12756875e+05, 4.10063984e+04, 8.24762031e+04,\n",
              "        1.94606141e+05, 1.28743930e+05, 3.73725031e+05, 5.66229938e+05,\n",
              "        9.25219000e+05, 1.20862988e+06, 1.26678538e+06, 1.04152581e+06,\n",
              "        1.16365588e+06, 1.34283391e+05, 6.20372539e+04, 6.82266328e+04,\n",
              "        1.02385109e+05, 8.75817109e+04, 1.25485172e+05, 4.44887891e+04,\n",
              "        6.73125547e+04, 5.09475562e+05, 7.77923312e+05, 7.68983812e+05,\n",
              "        8.48432688e+05, 1.40231375e+06, 1.61844388e+06, 1.07808125e+06,\n",
              "        2.50107672e+05, 3.12847781e+05, 1.36958828e+05, 2.17733172e+05,\n",
              "        4.41918938e+05, 8.30006938e+05, 1.19097038e+06, 9.12782000e+05,\n",
              "        9.77340000e+05, 1.71859062e+06, 3.03174600e+06, 2.23351850e+06,\n",
              "        1.51944338e+06, 5.08969000e+05, 3.26220562e+05, 1.07759412e+06,\n",
              "        1.69663438e+06, 2.22743475e+06, 1.52244400e+06, 1.78037525e+06,\n",
              "        1.60847612e+06, 6.97925812e+05, 2.03713400e+06, 1.70976725e+06,\n",
              "        1.45677488e+06, 1.76775375e+05, 2.92243938e+05, 3.29530312e+05,\n",
              "        9.70365562e+05, 7.41778062e+05, 6.08165125e+05, 5.94528812e+05,\n",
              "        4.82066812e+05, 3.84805969e+05, 1.18271300e+06, 4.73560250e+06,\n",
              "        8.03805450e+06, 1.05027610e+07, 1.12560740e+07, 9.83451100e+06,\n",
              "        1.12217600e+07, 4.64216150e+06, 5.66952562e+05, 5.22154281e+05,\n",
              "        1.63599612e+06, 1.40366200e+06, 3.02821000e+06, 3.84064750e+06,\n",
              "        6.36108050e+06, 1.04842340e+07, 9.27285700e+06, 7.22192300e+06,\n",
              "        9.84037500e+06, 9.46394600e+06, 1.57748950e+07, 1.55507520e+07,\n",
              "        2.49152280e+07, 3.43847400e+07, 2.75394360e+07, 2.26441560e+07,\n",
              "        2.40192140e+07, 1.42668110e+07, 9.26538500e+06, 1.00667470e+07,\n",
              "        2.56023860e+07, 3.41546760e+07, 2.39175060e+07, 2.63598000e+06,\n",
              "        2.92097650e+06, 1.60189588e+06, 9.27721800e+06, 1.42452510e+07,\n",
              "        1.71782900e+07, 1.45199200e+07, 1.65916000e+07, 1.85453460e+07,\n",
              "        1.13673350e+07, 3.30496875e+06, 1.83001688e+06, 2.42953125e+06,\n",
              "        2.03503862e+06, 2.20514025e+06, 5.59455750e+06, 1.51077530e+07,\n",
              "        7.25738650e+06, 4.65631850e+06, 5.08738000e+06, 1.07509510e+07,\n",
              "        2.73070100e+07, 3.52753400e+07, 3.42348120e+07, 4.59111240e+07,\n",
              "        4.18879920e+07, 3.60640440e+07, 3.88758920e+07, 8.52547800e+06,\n",
              "        1.97779088e+06, 8.09317450e+06, 2.31852950e+06, 6.98728800e+06,\n",
              "        1.16552300e+07, 1.08044480e+07, 1.96002100e+07, 1.34646610e+07,\n",
              "        1.24999460e+07, 1.36808470e+07, 4.89061960e+07, 6.74089120e+07,\n",
              "        9.35545600e+07, 1.11364184e+08, 2.58640280e+07, 1.09719820e+07,\n",
              "        5.98493450e+06, 5.20230100e+06, 6.42689050e+06, 1.27031660e+07,\n",
              "        9.11487500e+06, 1.52357260e+07, 7.78594000e+06, 1.81920440e+07,\n",
              "        2.17046740e+07, 3.84724600e+07, 4.07632920e+07, 4.32582760e+07,\n",
              "        1.60991610e+07, 4.83211550e+06, 5.17344900e+06, 4.48103100e+06,\n",
              "        8.90204600e+06, 1.10375260e+07, 5.98245200e+06, 7.17981750e+06,\n",
              "        2.02500520e+07, 2.50066220e+07, 4.06595120e+07, 3.24940260e+07,\n",
              "        3.17405540e+07, 1.07841600e+07, 5.09567300e+06, 8.01741700e+06,\n",
              "        1.97202280e+07, 1.35064530e+07, 3.71337200e+06, 5.51185600e+06,\n",
              "        3.09286800e+06, 7.13860875e+05, 1.15410800e+06, 3.24054750e+06,\n",
              "        5.32670700e+06, 3.16526550e+06, 2.11570075e+06, 2.81030775e+06,\n",
              "        4.65502550e+06, 1.14081210e+07, 9.46963900e+06, 9.89832700e+06,\n",
              "        5.13002400e+06, 5.11730550e+06, 1.38374480e+07, 2.49660800e+07,\n",
              "        4.75867520e+07, 8.81667600e+07, 8.44193440e+07, 7.36620800e+07,\n",
              "        5.51747120e+07, 3.68247600e+07, 2.82716200e+07, 1.69000460e+07,\n",
              "        4.70618450e+06, 1.00504780e+07, 1.41615030e+07, 3.11812620e+07,\n",
              "        1.66603670e+07, 3.15437350e+06, 4.58175900e+06, 4.61331050e+06,\n",
              "        3.03216250e+06, 6.01144000e+06, 2.56807475e+06, 2.61974375e+06,\n",
              "        3.51542550e+06, 3.48659150e+06, 1.38489510e+07, 2.54628380e+07,\n",
              "        5.48974920e+07, 7.94592000e+07, 1.10607752e+08], dtype=float32),\n",
              " 'rmse': array([  610.3966  ,   397.36456 ,   387.62106 ,   615.2364  ,\n",
              "          586.022   ,   601.29443 ,   505.50964 ,   587.31525 ,\n",
              "          636.1539  ,   760.90265 ,  1002.5891  ,  1041.0455  ,\n",
              "         1100.4392  ,  1092.0664  ,   732.3001  ,   308.4837  ,\n",
              "          232.56374 ,   191.96054 ,   219.21948 ,   243.5601  ,\n",
              "          268.7932  ,   289.78973 ,   403.26898 ,   385.75192 ,\n",
              "          187.15736 ,   119.345375,   136.0767  ,   153.43546 ,\n",
              "          243.10002 ,   313.29153 ,   417.54913 ,   455.26492 ,\n",
              "          480.85422 ,   453.46783 ,   428.69516 ,   422.60052 ,\n",
              "          515.546   ,   308.7331  ,   339.44846 ,   217.78487 ,\n",
              "          497.43484 ,   110.25628 ,   134.79578 ,   176.45291 ,\n",
              "          215.15381 ,   263.25522 ,   130.70938 ,   130.59462 ,\n",
              "           94.919205,   200.62697 ,   237.05124 ,   316.2276  ,\n",
              "          388.77335 ,   239.87114 ,   357.68463 ,   372.04657 ,\n",
              "          634.3556  ,   491.79736 ,   457.72614 ,   536.471   ,\n",
              "          309.93976 ,   273.47614 ,   364.9663  ,   428.75833 ,\n",
              "          425.5565  ,   538.10065 ,   384.02988 ,   430.10522 ,\n",
              "          200.96378 ,   247.13713 ,   409.8358  ,   563.5463  ,\n",
              "          595.9893  ,   460.05255 ,   435.68323 ,   415.41403 ,\n",
              "          378.6801  ,   442.22772 ,   575.8804  ,   814.01904 ,\n",
              "          750.0371  ,   567.5955  ,   262.13153 ,   246.93353 ,\n",
              "          375.643   ,   350.84818 ,   260.83655 ,   362.4507  ,\n",
              "          405.4732  ,   610.6109  ,   453.25558 ,   311.21167 ,\n",
              "          280.20685 ,   186.54271 ,   242.60951 ,   325.2429  ,\n",
              "          441.94482 ,   669.8572  ,   768.45917 ,   808.1822  ,\n",
              "          647.57904 ,   461.90988 ,   225.27325 ,   389.52832 ,\n",
              "          551.0026  ,   628.0519  ,   718.02386 ,   922.4847  ,\n",
              "         1064.2981  ,   998.45746 ,   922.10144 ,   405.15125 ,\n",
              "          310.2836  ,   257.39554 ,   229.01823 ,   251.87743 ,\n",
              "          483.3867  ,   681.60144 ,   708.48584 ,  1561.2181  ,\n",
              "         2022.2437  ,  2463.2212  ,  2511.9387  ,  2478.3596  ,\n",
              "         2534.8694  ,  2602.8142  ,  1489.4994  ,   784.69293 ,\n",
              "          531.78876 ,   486.0686  ,   569.0227  ,   585.556   ,\n",
              "          581.3646  ,   270.90152 ,   290.87103 ,   201.67801 ,\n",
              "          466.06522 ,   384.14914 ,   249.48793 ,   423.7601  ,\n",
              "          403.29272 ,   444.03082 ,   730.1983  ,   943.36487 ,\n",
              "          840.3298  ,   592.2297  ,   643.6863  ,   202.39185 ,\n",
              "          234.02458 ,   321.76373 ,   268.17926 ,   280.10718 ,\n",
              "          432.1712  ,   741.2937  ,   859.1434  ,   350.1324  ,\n",
              "          283.48114 ,   209.17487 ,   148.80794 ,   286.99313 ,\n",
              "          356.51575 ,   259.63434 ,   339.47836 ,   325.51526 ,\n",
              "          254.10854 ,   474.75558 ,   652.1603  ,   707.9782  ,\n",
              "          748.19403 ,   751.85144 ,   795.54645 ,   931.6702  ,\n",
              "          953.3877  ,   992.8384  ,   482.78342 ,   440.90558 ,\n",
              "          427.32318 ,   334.18982 ,   390.99136 ,   461.90094 ,\n",
              "          549.67334 ,   617.7854  ,   960.9077  ,  1139.4962  ,\n",
              "         1060.738   ,   396.4095  ,   634.4663  ,   834.09735 ,\n",
              "          410.76215 ,   183.73836 ,   369.78122 ,   394.0777  ,\n",
              "          496.98157 ,   581.4455  ,   636.27625 ,   573.95776 ,\n",
              "          381.7442  ,   434.12057 ,   393.92337 ,   319.52127 ,\n",
              "          676.0536  ,   889.5035  ,   685.11194 ,   362.49185 ,\n",
              "          353.4576  ,   309.7954  ,   274.32898 ,   580.9395  ,\n",
              "          289.77307 ,   193.0179  ,   180.43951 ,   288.50412 ,\n",
              "          392.35962 ,   555.2576  ,   511.15625 ,   475.67264 ,\n",
              "          543.6338  ,   308.1474  ,   322.633   ,   193.06477 ,\n",
              "          238.0246  ,   338.59155 ,   223.90248 ,   330.98505 ,\n",
              "          208.85538 ,   169.2078  ,   206.88792 ,   414.64465 ,\n",
              "          466.08554 ,   626.9578  ,   558.85034 ,   202.63278 ,\n",
              "          302.17758 ,   119.526085,   211.05862 ,   203.30545 ,\n",
              "          275.71747 ,   244.61159 ,   212.68265 ,   107.70133 ,\n",
              "          104.89553 ,   179.73901 ,   188.4216  ,   239.96152 ,\n",
              "          407.93317 ,   346.27023 ,   226.77255 ,   180.03627 ,\n",
              "          269.72202 ,   227.56935 ,   256.77716 ,   277.6639  ,\n",
              "          195.04068 ,   167.115   ,   181.99289 ,   350.92798 ,\n",
              "          796.29016 ,   826.38934 ,   911.03644 ,   982.2612  ,\n",
              "         1108.6202  ,  1340.2867  ,  1248.581   ,   398.65878 ,\n",
              "          251.86949 ,   398.63214 ,   323.809   ,   369.3127  ,\n",
              "          466.55103 ,   161.58784 ,   197.43596 ,   223.59009 ,\n",
              "          251.4051  ,   532.5317  ,   513.18665 ,   335.30994 ,\n",
              "          325.57184 ,   432.06467 ,   293.3903  ,   224.67131 ,\n",
              "          265.94537 ,   200.29591 ,   332.84637 ,   418.2281  ,\n",
              "          588.2757  ,   529.63635 ,   493.25714 ,   410.0632  ,\n",
              "          475.46902 ,   341.5429  ,   410.93393 ,   420.0867  ,\n",
              "          282.55972 ,   148.28741 ,   339.85043 ,   494.57483 ,\n",
              "          842.0455  ,  1214.2598  ,  1408.3488  ,  1668.1449  ,\n",
              "         1564.3729  ,   950.0195  ,   598.2887  ,   202.57745 ,\n",
              "          184.97292 ,   186.68896 ,   318.76315 ,   342.94495 ,\n",
              "          382.44733 ,   320.00955 ,   326.55798 ,   496.27362 ,\n",
              "          257.64417 ,   429.88794 ,   592.6586  ,   685.2486  ,\n",
              "          639.22064 ,   477.65866 ,   522.55536 ,   255.68845 ,\n",
              "          100.808525,   242.755   ,   178.37354 ,   266.68295 ,\n",
              "          427.88074 ,   425.88568 ,   379.93796 ,   420.7458  ,\n",
              "          466.61795 ,   277.8585  ,   220.40659 ,   312.8547  ,\n",
              "          355.5353  ,   402.6187  ,   502.09183 ,   651.1774  ,\n",
              "          476.5685  ,   335.7929  ,   202.50037 ,   287.1867  ,\n",
              "          441.14185 ,   358.80905 ,   611.3305  ,   752.4825  ,\n",
              "          961.88306 ,  1099.3771  ,  1125.5156  ,  1020.5517  ,\n",
              "         1078.7288  ,   366.447   ,   249.07278 ,   261.20227 ,\n",
              "          319.9767  ,   295.94208 ,   354.23886 ,   210.92366 ,\n",
              "          259.44662 ,   713.7756  ,   881.99963 ,   876.91724 ,\n",
              "          921.10406 ,  1184.1932  ,  1272.1808  ,  1038.3069  ,\n",
              "          500.10767 ,   559.32794 ,   370.0795  ,   466.61887 ,\n",
              "          664.76984 ,   911.0472  ,  1091.3159  ,   955.39624 ,\n",
              "          988.60504 ,  1310.9503  ,  1741.1909  ,  1494.4961  ,\n",
              "         1232.657   ,   713.4206  ,   571.1572  ,  1038.0723  ,\n",
              "         1302.5492  ,  1492.4594  ,  1233.8735  ,  1334.307   ,\n",
              "         1268.2571  ,   835.4195  ,  1427.282   ,  1307.5807  ,\n",
              "         1206.9692  ,   420.44662 ,   540.5959  ,   574.0473  ,\n",
              "          985.07135 ,   861.2654  ,   779.8494  ,   771.05695 ,\n",
              "          694.3103  ,   620.32733 ,  1087.5261  ,  2176.1438  ,\n",
              "         2835.1462  ,  3240.7964  ,  3355.0073  ,  3136.0024  ,\n",
              "         3349.8894  ,  2154.5676  ,   752.9625  ,   722.6024  ,\n",
              "         1279.0607  ,  1184.7625  ,  1740.1753  ,  1959.757   ,\n",
              "         2522.1182  ,  3237.9368  ,  3045.1367  ,  2687.3635  ,\n",
              "         3136.9373  ,  3076.3525  ,  3971.7622  ,  3943.444   ,\n",
              "         4991.5156  ,  5863.85    ,  5247.8027  ,  4758.5874  ,\n",
              "         4900.94    ,  3777.1433  ,  3043.9094  ,  3172.8137  ,\n",
              "         5059.88    ,  5844.2     ,  4890.5527  ,  1623.5701  ,\n",
              "         1709.0864  ,  1265.6603  ,  3045.8525  ,  3774.288   ,\n",
              "         4144.67    ,  3810.5012  ,  4073.2788  ,  4306.4307  ,\n",
              "         3371.5479  ,  1817.9573  ,  1352.7811  ,  1558.6953  ,\n",
              "         1426.5477  ,  1484.9714  ,  2365.2817  ,  3886.8691  ,\n",
              "         2693.9536  ,  2157.8503  ,  2255.522   ,  3278.8643  ,\n",
              "         5225.611   ,  5939.3047  ,  5851.0522  ,  6775.775   ,\n",
              "         6472.0933  ,  6005.3345  ,  6235.053   ,  2919.842   ,\n",
              "         1406.3395  ,  2844.8506  ,  1522.6719  ,  2643.348   ,\n",
              "         3413.9758  ,  3287.012   ,  4427.2124  ,  3669.4224  ,\n",
              "         3535.5264  ,  3698.763   ,  6993.2964  ,  8210.293   ,\n",
              "         9672.36    , 10552.923   ,  5085.669   ,  3312.3982  ,\n",
              "         2446.4126  ,  2280.8552  ,  2535.131   ,  3564.1501  ,\n",
              "         3019.0852  ,  3903.2966  ,  2790.3298  ,  4265.2134  ,\n",
              "         4658.8276  ,  6202.617   ,  6384.614   ,  6577.1025  ,\n",
              "         4012.376   ,  2198.2073  ,  2274.5217  ,  2116.8445  ,\n",
              "         2983.6296  ,  3322.277   ,  2445.905   ,  2679.518   ,\n",
              "         4500.006   ,  5000.662   ,  6376.481   ,  5700.353   ,\n",
              "         5633.8755  ,  3283.9243  ,  2257.3596  ,  2831.5044  ,\n",
              "         4440.746   ,  3675.1125  ,  1927.0111  ,  2347.7341  ,\n",
              "         1758.6552  ,   844.9029  ,  1074.2942  ,  1800.1521  ,\n",
              "         2307.9658  ,  1779.1193  ,  1454.5448  ,  1676.3972  ,\n",
              "         2157.5508  ,  3377.591   ,  3077.2778  ,  3146.1606  ,\n",
              "         2264.9556  ,  2262.1462  ,  3719.872   ,  4996.607   ,\n",
              "         6898.315   ,  9389.716   ,  9188.      ,  8582.661   ,\n",
              "         7427.9683  ,  6068.341   ,  5317.1064  ,  4110.9663  ,\n",
              "         2169.3743  ,  3170.249   ,  3763.1772  ,  5584.0186  ,\n",
              "         4081.7112  ,  1776.0555  ,  2140.5044  ,  2147.8618  ,\n",
              "         1741.3105  ,  2451.8237  ,  1602.5214  ,  1618.5623  ,\n",
              "         1874.9468  ,  1867.2417  ,  3721.418   ,  5046.0713  ,\n",
              "         7409.284   ,  8913.989   , 10517.021   ], dtype=float32),\n",
              " 'mape': array([ 6.5940895,  4.0746884,  4.1399217,  6.541304 ,  6.097913 ,\n",
              "         6.4514503,  5.843931 ,  6.8276553,  6.502346 ,  8.491166 ,\n",
              "        11.775912 , 12.268921 , 14.121452 , 14.631406 ,  9.454336 ,\n",
              "         3.742699 ,  2.878104 ,  2.1602912,  2.6768522,  2.63273  ,\n",
              "         2.9886792,  3.5218048,  4.8827615,  4.9381876,  2.2084398,\n",
              "         1.3425714,  1.6099617,  1.8064326,  3.0089664,  3.7102141,\n",
              "         5.2901707,  6.0491877,  6.4138203,  5.348552 ,  4.7104855,\n",
              "         4.932358 ,  6.3833222,  3.3113875,  3.8770192,  2.167904 ,\n",
              "         6.5447254,  1.1857271,  1.646472 ,  2.1266422,  2.4381225,\n",
              "         3.0417778,  1.3490654,  1.367605 ,  1.0963421,  2.7160761,\n",
              "         2.5049725,  3.633239 ,  4.53064  ,  2.9041471,  3.326563 ,\n",
              "         3.570288 ,  7.554964 ,  5.5264225,  5.2631326,  6.3274302,\n",
              "         3.5501957,  2.3971972,  3.381396 ,  4.0641365,  3.9903138,\n",
              "         5.2690306,  3.9156523,  4.575065 ,  1.848932 ,  2.464573 ,\n",
              "         4.1530757,  6.099431 ,  6.5857944,  4.5920677,  4.236325 ,\n",
              "         4.211239 ,  3.9663215,  3.429858 ,  5.272345 ,  8.123593 ,\n",
              "         7.8635774,  5.997543 ,  2.0437515,  2.3497438,  3.266076 ,\n",
              "         3.1562898,  2.2058144,  2.8581533,  3.7141163,  5.673625 ,\n",
              "         4.0177636,  2.691629 ,  2.371602 ,  1.5152824,  2.091936 ,\n",
              "         2.9047203,  3.4950528,  5.7856245,  7.0446625,  7.991399 ,\n",
              "         6.266186 ,  4.164372 ,  1.6590241,  3.7562256,  4.484307 ,\n",
              "         5.455019 ,  6.3747177,  8.89963  , 10.980745 , 10.732322 ,\n",
              "        10.258159 ,  4.1932306,  3.0920105,  2.765019 ,  2.2258434,\n",
              "         2.601744 ,  4.160012 ,  6.2176647,  7.723975 , 17.686808 ,\n",
              "        25.526234 , 34.737103 , 37.872368 , 39.585415 , 43.43182  ,\n",
              "        48.0954   , 26.341671 , 13.367624 ,  8.650949 ,  7.437028 ,\n",
              "         7.722448 ,  7.3527956,  7.1321735,  3.8400319,  3.821585 ,\n",
              "         2.6689758,  6.4352274,  5.557573 ,  3.2993429,  5.3351192,\n",
              "         5.4320674,  5.602822 ,  9.763835 , 12.782034 , 11.15696  ,\n",
              "         8.347126 ,  8.253391 ,  2.4147224,  2.955687 ,  3.421994 ,\n",
              "         3.2656054,  3.4967866,  5.424342 ,  9.806602 , 12.088791 ,\n",
              "         4.105387 ,  3.3870828,  2.6958654,  1.7530057,  3.2794673,\n",
              "         4.4329395,  3.092006 ,  4.4042673,  3.926167 ,  2.81697  ,\n",
              "         5.24757  ,  8.167025 ,  7.0737295,  6.31698  ,  6.390835 ,\n",
              "         6.9623127,  9.032555 , 10.024192 , 11.162102 ,  4.864025 ,\n",
              "         3.0176666,  3.143333 ,  3.3851883,  3.7655082,  4.497867 ,\n",
              "         5.5179257,  5.942788 ,  9.054428 , 11.787958 , 11.286842 ,\n",
              "         3.7335355,  5.648922 ,  8.398867 ,  3.7296076,  1.3249253,\n",
              "         2.8989227,  3.372352 ,  4.5167227,  5.634633 ,  6.409587 ,\n",
              "         5.384508 ,  3.6916382,  3.6550205,  3.7951448,  2.5615182,\n",
              "         5.271536 ,  8.43034  ,  6.7735   ,  2.8806713,  2.7436512,\n",
              "         2.6361692,  2.0359893,  5.7965627,  2.6738677,  1.8071326,\n",
              "         1.4003526,  2.3780992,  3.2798138,  4.862656 ,  4.709081 ,\n",
              "         4.7412896,  5.6048603,  3.072207 ,  3.1017041,  1.7522441,\n",
              "         2.3659728,  3.0315208,  1.930818 ,  3.2701552,  1.7852207,\n",
              "         1.5695778,  2.0234807,  3.7466962,  4.754376 ,  6.3304358,\n",
              "         5.7150474,  2.003047 ,  3.1944346,  1.0676728,  1.9404815,\n",
              "         1.7794619,  2.5620294,  2.2942464,  2.0234334,  0.8035333,\n",
              "         0.9768779,  1.5064529,  1.952876 ,  2.2980099,  4.2149596,\n",
              "         3.560672 ,  2.1089983,  1.7574619,  2.5351555,  2.3390367,\n",
              "         2.4862664,  2.5801728,  1.763054 ,  1.5060288,  1.5389336,\n",
              "         2.956734 ,  5.3047557,  5.347718 ,  5.7818694,  6.9482846,\n",
              "         8.603776 , 11.037932 , 10.896814 ,  3.0524025,  1.8330779,\n",
              "         2.980041 ,  2.54292  ,  2.7550726,  3.5819523,  1.1665871,\n",
              "         1.1594965,  1.4715542,  1.8713787,  4.1561284,  3.2344925,\n",
              "         2.453318 ,  2.6690414,  3.4482782,  1.7396206,  1.3905576,\n",
              "         1.862574 ,  1.5089071,  2.5057635,  2.930582 ,  4.6156416,\n",
              "         4.2306023,  3.8619258,  3.3087175,  3.3493638,  2.6082878,\n",
              "         3.0304058,  3.1122806,  1.7536277,  1.2022003,  2.472837 ,\n",
              "         3.9034758,  6.1913843,  9.58894  , 12.033232 , 15.249833 ,\n",
              "        14.858294 ,  9.013014 ,  5.4371066,  1.3149006,  1.3884292,\n",
              "         1.6074393,  2.4908211,  2.3581457,  2.6695962,  2.2850978,\n",
              "         2.6662226,  4.469463 ,  2.0447702,  3.2811503,  4.929935 ,\n",
              "         5.459986 ,  5.241565 ,  4.034921 ,  4.5787683,  1.9454877,\n",
              "         0.7221155,  1.7722208,  1.4566467,  2.1101148,  3.3407588,\n",
              "         3.3688073,  3.1117456,  3.5799134,  4.1234336,  2.2144208,\n",
              "         1.6820239,  2.1226509,  2.2989376,  2.4894872,  3.7752438,\n",
              "         5.561402 ,  3.9956837,  2.6170275,  1.5714122,  2.1555674,\n",
              "         3.2647948,  2.7114272,  3.3623445,  4.1159925,  5.516113 ,\n",
              "         7.208056 ,  7.9750404,  7.463733 ,  7.8257866,  2.328234 ,\n",
              "         1.5955689,  1.5838729,  2.1704824,  1.7654138,  2.0041177,\n",
              "         1.3152778,  1.3857746,  2.8002503,  3.7371154,  4.4528713,\n",
              "         4.5025015,  6.774962 ,  7.9453244,  6.1400423,  2.54696  ,\n",
              "         3.230717 ,  1.7441411,  2.5907466,  3.1614351,  3.9399433,\n",
              "         5.254948 ,  4.6186867,  4.356487 ,  6.4598484,  8.755327 ,\n",
              "         8.06181  ,  6.4397054,  3.5605621,  2.3038363,  3.9721687,\n",
              "         5.743499 ,  7.1624002,  5.778318 ,  5.8479667,  5.9885826,\n",
              "         3.688409 ,  7.0127444,  6.7044215,  6.0748777,  1.8662533,\n",
              "         2.555005 ,  2.8108168,  4.937843 ,  4.165968 ,  3.2239769,\n",
              "         3.70053  ,  3.3487725,  3.0526366,  3.257614 ,  6.654636 ,\n",
              "        10.435063 , 11.983005 , 12.967189 , 12.801192 , 14.282149 ,\n",
              "         9.175355 ,  2.5691135,  2.6148357,  4.6289835,  4.24436  ,\n",
              "         5.2160444,  5.98509  ,  7.7782354, 10.766031 , 10.21416  ,\n",
              "         6.8956056,  7.4551425,  8.149518 , 10.852253 ,  9.631892 ,\n",
              "        11.041639 , 13.202122 , 11.205636 , 10.947714 , 11.618415 ,\n",
              "         8.025833 ,  7.3623323,  7.1151266, 12.252622 , 15.330585 ,\n",
              "        13.345077 ,  3.6556   ,  3.9595585,  2.287947 ,  7.023383 ,\n",
              "         9.211267 , 10.530817 ,  9.955397 , 10.927457 , 12.721128 ,\n",
              "        10.374145 ,  4.4277496,  3.762887 ,  3.8016014,  3.3682969,\n",
              "         4.067393 ,  5.8010926, 10.123645 ,  6.815754 ,  5.4763546,\n",
              "         3.720029 ,  7.4867554, 10.728494 , 10.847482 , 10.517378 ,\n",
              "        12.920515 , 12.2818   , 12.011615 , 12.894686 ,  5.878791 ,\n",
              "         2.4892926,  4.410038 ,  2.6426525,  4.363898 ,  4.794733 ,\n",
              "         4.7796206,  6.9563465,  6.0960054,  5.4224057,  6.2833166,\n",
              "        12.074607 , 15.409756 , 19.536522 , 21.789303 , 10.103917 ,\n",
              "         5.641169 ,  3.952345 ,  3.6401908,  4.820593 ,  6.5975256,\n",
              "         5.197216 ,  6.317786 ,  3.6572945,  6.514715 ,  7.7644534,\n",
              "         9.397751 ,  9.934699 , 10.782706 ,  6.5415845,  2.9959078,\n",
              "         3.329147 ,  3.2192934,  4.7753606,  5.6970053,  3.5913851,\n",
              "         3.6217787,  6.657537 ,  7.5559473, 10.397266 ,  9.702408 ,\n",
              "         9.82265  ,  5.3651743,  3.5588484,  3.5438619,  7.2355494,\n",
              "         5.871736 ,  3.1769369,  3.6974587,  2.5741076,  1.0950557,\n",
              "         1.7561585,  2.648324 ,  3.5353818,  2.7140636,  2.093288 ,\n",
              "         2.587153 ,  2.8542757,  4.3885775,  4.302842 ,  4.5453525,\n",
              "         3.4081976,  3.0731308,  5.4054074,  7.0484734, 10.392776 ,\n",
              "        15.599929 , 15.787032 , 15.299945 , 13.185942 , 10.352325 ,\n",
              "         9.217213 ,  6.80067  ,  3.0395865,  4.8839192,  5.6800056,\n",
              "         9.691503 ,  6.968782 ,  2.8661273,  3.0022626,  3.3925009,\n",
              "         2.046188 ,  3.1062105,  2.3034463,  2.4267619,  2.8779378,\n",
              "         2.7735078,  4.7349687,  8.180477 , 12.2664175, 16.026428 ,\n",
              "        20.083775 ], dtype=float32),\n",
              " 'mase': 2.191682}"
            ]
          },
          "metadata": {},
          "execution_count": 58
        }
      ]
    },
    {
      "cell_type": "markdown",
      "source": [
        "### Make our evaluation function work for larger horizon"
      ],
      "metadata": {
        "id": "CwvC3Slwgqh9"
      }
    },
    {
      "cell_type": "code",
      "source": [
        "def evaluate_preds(y_true, y_pred):\n",
        "\n",
        "  y_true = tf.cast(y_true, dtype=tf.float32)\n",
        "  y_pred = tf.cast(y_pred, dtype=tf.float32)\n",
        "\n",
        "  # Calculate various metrics\n",
        "  mae = tf.keras.metrics.mean_absolute_error(y_true, y_pred)\n",
        "  mse = tf.keras.metrics.mean_squared_error(y_true, y_pred)\n",
        "  rmse = tf.sqrt(mse)\n",
        "  mape = tf.keras.metrics.mean_absolute_percentage_error(y_true, y_pred)\n",
        "  mase = mean_absolute_scaled_error(y_true, y_pred)\n",
        "\n",
        "  # Account for different sized metrics (for longer horizons, reduce to single number)\n",
        "  if mae.ndim > 0:\n",
        "    mae = tf.reduce_mean(mae)\n",
        "    mse = tf.reduce_mean(mse)\n",
        "    rmse = tf.reduce_mean(rmse)\n",
        "    mape = tf.reduce_mean(mape)\n",
        "    mase = tf.reduce_mean(mase)\n",
        "  \n",
        "  return {\"mae\": mae.numpy(),\n",
        "          \"mse\": mse.numpy(),\n",
        "          \"rmse\": rmse.numpy(),\n",
        "          \"mape\": mape.numpy(),\n",
        "          \"mase\": mase.numpy()}"
      ],
      "metadata": {
        "id": "j4DMzHTQgo34"
      },
      "execution_count": 59,
      "outputs": []
    },
    {
      "cell_type": "code",
      "source": [
        "# Get model_3 reults\n",
        "\n",
        "model_3_results = evaluate_preds(y_true=tf.squeeze(test_labels),\n",
        "                                 y_pred=model_3_preds)\n",
        "model_3_results"
      ],
      "metadata": {
        "colab": {
          "base_uri": "https://localhost:8080/"
        },
        "id": "Arofte_zqBA0",
        "outputId": "a525c289-a035-40d6-cdb5-a2d015540fbe"
      },
      "execution_count": 60,
      "outputs": [
        {
          "output_type": "execute_result",
          "data": {
            "text/plain": [
              "{'mae': 1231.6667,\n",
              " 'mse': 5297759.5,\n",
              " 'rmse': 1418.4484,\n",
              " 'mape': 5.64372,\n",
              " 'mase': 2.191682}"
            ]
          },
          "metadata": {},
          "execution_count": 60
        }
      ]
    },
    {
      "cell_type": "code",
      "source": [
        "offset = 300\n",
        "plt.figure(figsize=(10, 7))\n",
        "plot_time_series(timesteps=X_test[-len(test_windows):], values=test_labels[:, 0], start=offset, label=\"Test_data\")\n",
        "plot_time_series(timesteps=X_test[-len(test_windows):], values=model_3_preds, start=offset, label=\"model_3_preds\")"
      ],
      "metadata": {
        "colab": {
          "base_uri": "https://localhost:8080/",
          "height": 442
        },
        "id": "GLQqy275i5ws",
        "outputId": "9950bf5c-67e3-4cc3-fb70-a30ecf50543f"
      },
      "execution_count": 61,
      "outputs": [
        {
          "output_type": "display_data",
          "data": {
            "text/plain": [
              "<Figure size 720x504 with 1 Axes>"
            ],
            "image/png": "[encoded data removed]"
          },
          "metadata": {
            "needs_background": "light"
          }
        }
      ]
    },
    {
      "cell_type": "code",
      "source": [
        "offset = 300\n",
        "plt.figure(figsize=(10, 7))\n",
        "\n",
        "plot_time_series(timesteps=X_test[-len(test_windows):], values=test_labels[:, 0], start=offset, label=\"Test_data\")\n",
        "plot_time_series(timesteps=X_test[-len(test_windows):], values=tf.reduce_mean(model_3_preds, axis=1), format=\"-\", start=offset, label=\"model_3_preds\")"
      ],
      "metadata": {
        "colab": {
          "base_uri": "https://localhost:8080/",
          "height": 442
        },
        "id": "Af7CA625kKdT",
        "outputId": "42784564-ab40-4f51-c5e0-d42de182593e"
      },
      "execution_count": 62,
      "outputs": [
        {
          "output_type": "display_data",
          "data": {
            "text/plain": [
              "<Figure size 720x504 with 1 Axes>"
            ],
            "image/png": "[encoded data removed]"
          },
          "metadata": {
            "needs_background": "light"
          }
        }
      ]
    },
    {
      "cell_type": "markdown",
      "source": [
        "### Which of our model is performing best so far?"
      ],
      "metadata": {
        "id": "jgqQHhlUlY2t"
      }
    },
    {
      "cell_type": "code",
      "source": [
        "pd.DataFrame({\"naive\":naive_results[\"mae\"],\n",
        "              \"horizon_1_window_7\":model_1_results[\"mae\"],\n",
        "              \"horizon_1_window_30\":model_2_results[\"mae\"],\n",
        "              \"horizon_7_window_30\":model_3_results[\"mae\"]}, index=[\"mae\"]).plot(figsize=(10, 7), kind=\"bar\");"
      ],
      "metadata": {
        "colab": {
          "base_uri": "https://localhost:8080/",
          "height": 440
        },
        "id": "Lt5kCSf3lQuq",
        "outputId": "7a2f2b1c-61df-4efb-fecb-a17e9884f4ce"
      },
      "execution_count": 63,
      "outputs": [
        {
          "output_type": "display_data",
          "data": {
            "text/plain": [
              "<Figure size 720x504 with 1 Axes>"
            ],
            "image/png": "[encoded data removed]"
          },
          "metadata": {
            "needs_background": "light"
          }
        }
      ]
    },
    {
      "cell_type": "markdown",
      "source": [
        "### Model 4: Conv1D"
      ],
      "metadata": {
        "id": "bqiioIHprHPT"
      }
    },
    {
      "cell_type": "code",
      "source": [
        "HORIZON = 1\n",
        "WINDOW_SIZE = 7"
      ],
      "metadata": {
        "id": "Ym3K51QArFt9"
      },
      "execution_count": 64,
      "outputs": []
    },
    {
      "cell_type": "code",
      "source": [
        "# Create windowed dataset\n",
        "\n",
        "full_windows, full_labels = make_windows(prices, window_size=WINDOW_SIZE, horizon=HORIZON)\n",
        "len(full_windows), len(full_labels)"
      ],
      "metadata": {
        "colab": {
          "base_uri": "https://localhost:8080/"
        },
        "id": "0t3St3dBn4nj",
        "outputId": "3c4a490f-6ca9-4b60-fb5c-5ed4f9ef0953"
      },
      "execution_count": 65,
      "outputs": [
        {
          "output_type": "execute_result",
          "data": {
            "text/plain": [
              "(2780, 2780)"
            ]
          },
          "metadata": {},
          "execution_count": 65
        }
      ]
    },
    {
      "cell_type": "code",
      "source": [
        "# Create test/train splits\n",
        "\n",
        "train_windows, test_windows, train_labels, test_labels = make_train_test_split(full_windows, full_labels)\n",
        "len(train_windows), len(test_windows), len(train_labels), len(test_labels)"
      ],
      "metadata": {
        "colab": {
          "base_uri": "https://localhost:8080/"
        },
        "id": "aV5yNJHprqYK",
        "outputId": "cf948f01-2361-43fa-e251-12fb9071a929"
      },
      "execution_count": 66,
      "outputs": [
        {
          "output_type": "execute_result",
          "data": {
            "text/plain": [
              "(2224, 556, 2224, 556)"
            ]
          },
          "metadata": {},
          "execution_count": 66
        }
      ]
    },
    {
      "cell_type": "code",
      "source": [
        "# Check data sample shapes\n",
        "train_windows[0].shape"
      ],
      "metadata": {
        "colab": {
          "base_uri": "https://localhost:8080/"
        },
        "id": "S_8P7sF4sFDc",
        "outputId": "5c733879-ed1e-43a3-8dba-85fdf8cc1dd8"
      },
      "execution_count": 67,
      "outputs": [
        {
          "output_type": "execute_result",
          "data": {
            "text/plain": [
              "(7,)"
            ]
          },
          "metadata": {},
          "execution_count": 67
        }
      ]
    },
    {
      "cell_type": "code",
      "source": [
        "# Before we pass our data to conv1D, we have to reshape it to make sure it works\n",
        "\n",
        "x = tf.constant(train_windows[0])\n",
        "expand_dims_layer = layers.Lambda(lambda x: tf.expand_dims(x, axis=1))\n",
        "print(f\"Original shape: {x.shape}\")\n",
        "print(f\"Expanded shape: {expand_dims_layer(x).shape}\")\n",
        "print(f\"Original values with Expanded shape:\\n{expand_dims_layer(x)}\")"
      ],
      "metadata": {
        "colab": {
          "base_uri": "https://localhost:8080/"
        },
        "id": "PHIJtSOfsNj4",
        "outputId": "2a6ef84f-a735-4090-afae-6047d0072f42"
      },
      "execution_count": 68,
      "outputs": [
        {
          "output_type": "stream",
          "name": "stdout",
          "text": [
            "Original shape: (7,)\n",
            "Expanded shape: (7, 1)\n",
            "Original values with Expanded shape:\n",
            "[[123.65499]\n",
            " [125.455  ]\n",
            " [108.58483]\n",
            " [118.67466]\n",
            " [121.33866]\n",
            " [120.65533]\n",
            " [121.795  ]]\n"
          ]
        }
      ]
    },
    {
      "cell_type": "code",
      "source": [
        "tf.random.set_seed(42)\n",
        "\n",
        "# Create model\n",
        "model_4 = tf.keras.Sequential([\n",
        "    layers.Lambda(lambda x: tf.expand_dims(x, axis=1)),\n",
        "    layers.Conv1D(filters=128, kernel_size=5, padding=\"causal\", activation=\"relu\"),\n",
        "    layers.Dense(HORIZON)\n",
        "], name=\"model_4_Conv1D\")\n",
        "\n",
        "model_4.compile(loss=\"mae\",\n",
        "                optimizer=tf.keras.optimizers.Adam())\n",
        "\n",
        "model_4.fit(train_windows,\n",
        "            train_labels,\n",
        "            epochs=100,\n",
        "            batch_size=128,\n",
        "            verbose=0,\n",
        "            validation_data=(test_windows, test_labels),\n",
        "            callbacks=[create_model_checkpoint(model_name=model_4.name)])"
      ],
      "metadata": {
        "colab": {
          "base_uri": "https://localhost:8080/"
        },
        "id": "twTXCGyStPyz",
        "outputId": "382034fa-1f06-43f9-98bd-084f5bb1532b"
      },
      "execution_count": 69,
      "outputs": [
        {
          "output_type": "stream",
          "name": "stderr",
          "text": [
            "WARNING:absl:Found untraced functions such as _jit_compiled_convolution_op, _update_step_xla while saving (showing 2 of 2). These functions will not be directly callable after loading.\n",
            "WARNING:absl:Found untraced functions such as _jit_compiled_convolution_op, _update_step_xla while saving (showing 2 of 2). These functions will not be directly callable after loading.\n",
            "WARNING:absl:Found untraced functions such as _jit_compiled_convolution_op, _update_step_xla while saving (showing 2 of 2). These functions will not be directly callable after loading.\n",
            "WARNING:absl:Found untraced functions such as _jit_compiled_convolution_op, _update_step_xla while saving (showing 2 of 2). These functions will not be directly callable after loading.\n",
            "WARNING:absl:Found untraced functions such as _jit_compiled_convolution_op, _update_step_xla while saving (showing 2 of 2). These functions will not be directly callable after loading.\n",
            "WARNING:absl:Found untraced functions such as _jit_compiled_convolution_op, _update_step_xla while saving (showing 2 of 2). These functions will not be directly callable after loading.\n",
            "WARNING:absl:Found untraced functions such as _jit_compiled_convolution_op, _update_step_xla while saving (showing 2 of 2). These functions will not be directly callable after loading.\n",
            "WARNING:absl:Found untraced functions such as _jit_compiled_convolution_op, _update_step_xla while saving (showing 2 of 2). These functions will not be directly callable after loading.\n",
            "WARNING:absl:Found untraced functions such as _jit_compiled_convolution_op, _update_step_xla while saving (showing 2 of 2). These functions will not be directly callable after loading.\n",
            "WARNING:absl:Found untraced functions such as _jit_compiled_convolution_op, _update_step_xla while saving (showing 2 of 2). These functions will not be directly callable after loading.\n",
            "WARNING:absl:Found untraced functions such as _jit_compiled_convolution_op, _update_step_xla while saving (showing 2 of 2). These functions will not be directly callable after loading.\n",
            "WARNING:absl:Found untraced functions such as _jit_compiled_convolution_op, _update_step_xla while saving (showing 2 of 2). These functions will not be directly callable after loading.\n",
            "WARNING:absl:Found untraced functions such as _jit_compiled_convolution_op, _update_step_xla while saving (showing 2 of 2). These functions will not be directly callable after loading.\n",
            "WARNING:absl:Found untraced functions such as _jit_compiled_convolution_op, _update_step_xla while saving (showing 2 of 2). These functions will not be directly callable after loading.\n",
            "WARNING:absl:Found untraced functions such as _jit_compiled_convolution_op, _update_step_xla while saving (showing 2 of 2). These functions will not be directly callable after loading.\n",
            "WARNING:absl:Found untraced functions such as _jit_compiled_convolution_op, _update_step_xla while saving (showing 2 of 2). These functions will not be directly callable after loading.\n",
            "WARNING:absl:Found untraced functions such as _jit_compiled_convolution_op, _update_step_xla while saving (showing 2 of 2). These functions will not be directly callable after loading.\n",
            "WARNING:absl:Found untraced functions such as _jit_compiled_convolution_op, _update_step_xla while saving (showing 2 of 2). These functions will not be directly callable after loading.\n",
            "WARNING:absl:Found untraced functions such as _jit_compiled_convolution_op, _update_step_xla while saving (showing 2 of 2). These functions will not be directly callable after loading.\n",
            "WARNING:absl:Found untraced functions such as _jit_compiled_convolution_op, _update_step_xla while saving (showing 2 of 2). These functions will not be directly callable after loading.\n",
            "WARNING:absl:Found untraced functions such as _jit_compiled_convolution_op, _update_step_xla while saving (showing 2 of 2). These functions will not be directly callable after loading.\n",
            "WARNING:absl:Found untraced functions such as _jit_compiled_convolution_op, _update_step_xla while saving (showing 2 of 2). These functions will not be directly callable after loading.\n",
            "WARNING:absl:Found untraced functions such as _jit_compiled_convolution_op, _update_step_xla while saving (showing 2 of 2). These functions will not be directly callable after loading.\n",
            "WARNING:absl:Found untraced functions such as _jit_compiled_convolution_op, _update_step_xla while saving (showing 2 of 2). These functions will not be directly callable after loading.\n",
            "WARNING:absl:Found untraced functions such as _jit_compiled_convolution_op, _update_step_xla while saving (showing 2 of 2). These functions will not be directly callable after loading.\n",
            "WARNING:absl:Found untraced functions such as _jit_compiled_convolution_op, _update_step_xla while saving (showing 2 of 2). These functions will not be directly callable after loading.\n",
            "WARNING:absl:Found untraced functions such as _jit_compiled_convolution_op, _update_step_xla while saving (showing 2 of 2). These functions will not be directly callable after loading.\n",
            "WARNING:absl:Found untraced functions such as _jit_compiled_convolution_op, _update_step_xla while saving (showing 2 of 2). These functions will not be directly callable after loading.\n",
            "WARNING:absl:Found untraced functions such as _jit_compiled_convolution_op, _update_step_xla while saving (showing 2 of 2). These functions will not be directly callable after loading.\n",
            "WARNING:absl:Found untraced functions such as _jit_compiled_convolution_op, _update_step_xla while saving (showing 2 of 2). These functions will not be directly callable after loading.\n",
            "WARNING:absl:Found untraced functions such as _jit_compiled_convolution_op, _update_step_xla while saving (showing 2 of 2). These functions will not be directly callable after loading.\n",
            "WARNING:absl:Found untraced functions such as _jit_compiled_convolution_op, _update_step_xla while saving (showing 2 of 2). These functions will not be directly callable after loading.\n",
            "WARNING:absl:Found untraced functions such as _jit_compiled_convolution_op, _update_step_xla while saving (showing 2 of 2). These functions will not be directly callable after loading.\n",
            "WARNING:absl:Found untraced functions such as _jit_compiled_convolution_op, _update_step_xla while saving (showing 2 of 2). These functions will not be directly callable after loading.\n",
            "WARNING:absl:Found untraced functions such as _jit_compiled_convolution_op, _update_step_xla while saving (showing 2 of 2). These functions will not be directly callable after loading.\n",
            "WARNING:absl:Found untraced functions such as _jit_compiled_convolution_op, _update_step_xla while saving (showing 2 of 2). These functions will not be directly callable after loading.\n",
            "WARNING:absl:Found untraced functions such as _jit_compiled_convolution_op, _update_step_xla while saving (showing 2 of 2). These functions will not be directly callable after loading.\n",
            "WARNING:absl:Found untraced functions such as _jit_compiled_convolution_op, _update_step_xla while saving (showing 2 of 2). These functions will not be directly callable after loading.\n",
            "WARNING:absl:Found untraced functions such as _jit_compiled_convolution_op, _update_step_xla while saving (showing 2 of 2). These functions will not be directly callable after loading.\n",
            "WARNING:absl:Found untraced functions such as _jit_compiled_convolution_op, _update_step_xla while saving (showing 2 of 2). These functions will not be directly callable after loading.\n",
            "WARNING:absl:Found untraced functions such as _jit_compiled_convolution_op, _update_step_xla while saving (showing 2 of 2). These functions will not be directly callable after loading.\n",
            "WARNING:absl:Found untraced functions such as _jit_compiled_convolution_op, _update_step_xla while saving (showing 2 of 2). These functions will not be directly callable after loading.\n",
            "WARNING:absl:Found untraced functions such as _jit_compiled_convolution_op, _update_step_xla while saving (showing 2 of 2). These functions will not be directly callable after loading.\n",
            "WARNING:absl:Found untraced functions such as _jit_compiled_convolution_op, _update_step_xla while saving (showing 2 of 2). These functions will not be directly callable after loading.\n",
            "WARNING:absl:Found untraced functions such as _jit_compiled_convolution_op, _update_step_xla while saving (showing 2 of 2). These functions will not be directly callable after loading.\n",
            "WARNING:absl:Found untraced functions such as _jit_compiled_convolution_op, _update_step_xla while saving (showing 2 of 2). These functions will not be directly callable after loading.\n",
            "WARNING:absl:Found untraced functions such as _jit_compiled_convolution_op, _update_step_xla while saving (showing 2 of 2). These functions will not be directly callable after loading.\n",
            "WARNING:absl:Found untraced functions such as _jit_compiled_convolution_op, _update_step_xla while saving (showing 2 of 2). These functions will not be directly callable after loading.\n",
            "WARNING:absl:Found untraced functions such as _jit_compiled_convolution_op, _update_step_xla while saving (showing 2 of 2). These functions will not be directly callable after loading.\n"
          ]
        },
        {
          "output_type": "execute_result",
          "data": {
            "text/plain": [
              "<keras.callbacks.History at 0x7fa058e4a0d0>"
            ]
          },
          "metadata": {},
          "execution_count": 69
        }
      ]
    },
    {
      "cell_type": "code",
      "source": [
        "model_4.summary()"
      ],
      "metadata": {
        "colab": {
          "base_uri": "https://localhost:8080/"
        },
        "id": "Gum5uvq2vAMq",
        "outputId": "f01c0b9e-2fbd-46a2-eb1f-33e2cc603d9d"
      },
      "execution_count": 70,
      "outputs": [
        {
          "output_type": "stream",
          "name": "stdout",
          "text": [
            "Model: \"model_4_Conv1D\"\n",
            "_________________________________________________________________\n",
            " Layer (type)                Output Shape              Param #   \n",
            "=================================================================\n",
            " lambda_1 (Lambda)           (None, 1, 7)              0         \n",
            "                                                                 \n",
            " conv1d (Conv1D)             (None, 1, 128)            4608      \n",
            "                                                                 \n",
            " dense_6 (Dense)             (None, 1, 1)              129       \n",
            "                                                                 \n",
            "=================================================================\n",
            "Total params: 4,737\n",
            "Trainable params: 4,737\n",
            "Non-trainable params: 0\n",
            "_________________________________________________________________\n"
          ]
        }
      ]
    },
    {
      "cell_type": "code",
      "source": [
        "model_4 = tf.keras.models.load_model(\"model_experiments/model_4_Conv1D\")\n",
        "model_4.evaluate(test_windows, test_labels)"
      ],
      "metadata": {
        "colab": {
          "base_uri": "https://localhost:8080/"
        },
        "id": "BCjk18CQvOaf",
        "outputId": "17ad833c-1cfa-47a9-ba61-7be77f60240c"
      },
      "execution_count": 71,
      "outputs": [
        {
          "output_type": "stream",
          "name": "stdout",
          "text": [
            "18/18 [==============================] - 0s 8ms/step - loss: 572.9401\n"
          ]
        },
        {
          "output_type": "execute_result",
          "data": {
            "text/plain": [
              "572.9401245117188"
            ]
          },
          "metadata": {},
          "execution_count": 71
        }
      ]
    },
    {
      "cell_type": "code",
      "source": [
        "# Make predictions\n",
        "model_4_preds = make_preds(model_4, test_windows)\n",
        "model_4_preds[:5]"
      ],
      "metadata": {
        "colab": {
          "base_uri": "https://localhost:8080/"
        },
        "id": "-RmLkclPvlBv",
        "outputId": "534389a8-bebb-4f00-c221-896765f871da"
      },
      "execution_count": 72,
      "outputs": [
        {
          "output_type": "stream",
          "name": "stdout",
          "text": [
            "18/18 [==============================] - 0s 5ms/step\n"
          ]
        },
        {
          "output_type": "execute_result",
          "data": {
            "text/plain": [
              "<tf.Tensor: shape=(5,), dtype=float32, numpy=array([8916.174, 8808.029, 9003.181, 8807.77 , 8753.844], dtype=float32)>"
            ]
          },
          "metadata": {},
          "execution_count": 72
        }
      ]
    },
    {
      "cell_type": "code",
      "source": [
        "# Evaluate predictions\n",
        "\n",
        "model_4_results = evaluate_preds(y_true=tf.squeeze(test_labels),\n",
        "                                 y_pred=model_4_preds)\n",
        "model_4_results"
      ],
      "metadata": {
        "colab": {
          "base_uri": "https://localhost:8080/"
        },
        "id": "nOsYGyyCwCuM",
        "outputId": "b9862701-76de-4b8e-c9be-4922a7ecd559"
      },
      "execution_count": 73,
      "outputs": [
        {
          "output_type": "execute_result",
          "data": {
            "text/plain": [
              "{'mae': 572.9402,\n",
              " 'mse': 1198186.1,\n",
              " 'rmse': 1094.6168,\n",
              " 'mape': 2.5702574,\n",
              " 'mase': 1.0064973}"
            ]
          },
          "metadata": {},
          "execution_count": 73
        }
      ]
    },
    {
      "cell_type": "markdown",
      "source": [
        "### Model 5: RNN (LSTM)"
      ],
      "metadata": {
        "id": "xXuT7doY60To"
      }
    },
    {
      "cell_type": "code",
      "source": [
        "tf.random.set_seed(42)\n",
        "\n",
        "# Let's an LSTM model with the functional API\n",
        "inputs = layers.Input(shape=(WINDOW_SIZE))\n",
        "x = layers.Lambda(lambda x: tf.expand_dims(x, axis=1))(inputs)\n",
        "# print(x.shape)\n",
        "# x= layers.LSTM(128, activation=\"relu\", return_sequences=True)(x)\n",
        "x = layers.LSTM(128, activation=\"relu\")(x)\n",
        "# print(x.shape)\n",
        "# Add another optional dense layer\n",
        "# x = layers.Dense(32, activation=\"relu\")(x)\n",
        "output = layers.Dense(HORIZON)(x)\n",
        "model_5 = tf.keras.Model(inputs=inputs, outputs=output, name=\"model_5_lstm\")\n",
        "\n",
        "# Compile the model\n",
        "model_5.compile(loss=\"mae\",\n",
        "                optimizer=tf.keras.optimizers.Adam())\n",
        "\n",
        "# Fit the model\n",
        "model_5.fit(train_windows,\n",
        "            train_labels,\n",
        "            epochs=100,\n",
        "            batch_size=128,\n",
        "            validation_data=(test_windows, test_labels),\n",
        "            callbacks=[create_model_checkpoint(model_name=model_5.name)])"
      ],
      "metadata": {
        "id": "sTvPilMzwWGT",
        "colab": {
          "base_uri": "https://localhost:8080/"
        },
        "outputId": "d118ac0b-37a1-46e6-af16-e9e6ab4aa0c4"
      },
      "execution_count": 74,
      "outputs": [
        {
          "output_type": "stream",
          "name": "stderr",
          "text": [
            "WARNING:tensorflow:Layer lstm will not use cuDNN kernels since it doesn't meet the criteria. It will use a generic GPU kernel as fallback when running on GPU.\n"
          ]
        },
        {
          "output_type": "stream",
          "name": "stdout",
          "text": [
            "Epoch 1/100\n",
            "18/18 [==============================] - 6s 223ms/step - loss: 2217.2114 - val_loss: 8477.2344\n",
            "Epoch 2/100\n",
            "18/18 [==============================] - 4s 216ms/step - loss: 594.8386 - val_loss: 1802.8306\n",
            "Epoch 3/100\n",
            "18/18 [==============================] - 5s 290ms/step - loss: 229.8432 - val_loss: 1255.8169\n",
            "Epoch 4/100\n",
            "18/18 [==============================] - 4s 254ms/step - loss: 174.5306 - val_loss: 982.7755\n",
            "Epoch 5/100\n",
            "18/18 [==============================] - 4s 215ms/step - loss: 169.5519 - val_loss: 945.7750\n",
            "Epoch 6/100\n",
            "18/18 [==============================] - 6s 348ms/step - loss: 167.6879 - val_loss: 927.0482\n",
            "Epoch 7/100\n",
            "18/18 [==============================] - 5s 303ms/step - loss: 168.1023 - val_loss: 922.7068\n",
            "Epoch 8/100\n",
            "18/18 [==============================] - 6s 330ms/step - loss: 164.6493 - val_loss: 918.6577\n",
            "Epoch 9/100\n",
            "18/18 [==============================] - 4s 223ms/step - loss: 163.8666 - val_loss: 912.0812\n",
            "Epoch 10/100\n",
            "18/18 [==============================] - 3s 181ms/step - loss: 162.3603 - val_loss: 901.1548\n",
            "Epoch 11/100\n",
            "18/18 [==============================] - 6s 357ms/step - loss: 161.0887 - val_loss: 891.6332\n",
            "Epoch 12/100\n",
            "18/18 [==============================] - 0s 15ms/step - loss: 159.6568 - val_loss: 907.9138\n",
            "Epoch 13/100\n",
            "18/18 [==============================] - 0s 16ms/step - loss: 157.4596 - val_loss: 918.0226\n",
            "Epoch 14/100\n",
            "18/18 [==============================] - 0s 13ms/step - loss: 156.8013 - val_loss: 933.5919\n",
            "Epoch 15/100\n",
            "18/18 [==============================] - 3s 188ms/step - loss: 157.3111 - val_loss: 864.7373\n",
            "Epoch 16/100\n",
            "18/18 [==============================] - 2s 124ms/step - loss: 152.1919 - val_loss: 851.3250\n",
            "Epoch 17/100\n",
            "18/18 [==============================] - 0s 8ms/step - loss: 150.6851 - val_loss: 908.3345\n",
            "Epoch 18/100\n",
            "18/18 [==============================] - 0s 8ms/step - loss: 149.6151 - val_loss: 872.7087\n",
            "Epoch 19/100\n",
            "18/18 [==============================] - 0s 8ms/step - loss: 147.3513 - val_loss: 888.4935\n",
            "Epoch 20/100\n",
            "18/18 [==============================] - 3s 165ms/step - loss: 146.8355 - val_loss: 802.5724\n",
            "Epoch 21/100\n",
            "18/18 [==============================] - 3s 181ms/step - loss: 144.4514 - val_loss: 801.5272\n",
            "Epoch 22/100\n",
            "18/18 [==============================] - 0s 13ms/step - loss: 141.6613 - val_loss: 806.9884\n",
            "Epoch 23/100\n",
            "18/18 [==============================] - 0s 13ms/step - loss: 140.7150 - val_loss: 825.1711\n",
            "Epoch 24/100\n",
            "18/18 [==============================] - 2s 139ms/step - loss: 138.8415 - val_loss: 780.6862\n",
            "Epoch 25/100\n",
            "18/18 [==============================] - 2s 125ms/step - loss: 136.3214 - val_loss: 767.6739\n",
            "Epoch 26/100\n",
            "18/18 [==============================] - 2s 129ms/step - loss: 134.6870 - val_loss: 748.7795\n",
            "Epoch 27/100\n",
            "18/18 [==============================] - 0s 14ms/step - loss: 132.8931 - val_loss: 750.8000\n",
            "Epoch 28/100\n",
            "18/18 [==============================] - 0s 15ms/step - loss: 132.7415 - val_loss: 750.3174\n",
            "Epoch 29/100\n",
            "18/18 [==============================] - 3s 180ms/step - loss: 133.5381 - val_loss: 744.2787\n",
            "Epoch 30/100\n",
            "18/18 [==============================] - 0s 7ms/step - loss: 133.0914 - val_loss: 786.8698\n",
            "Epoch 31/100\n",
            "18/18 [==============================] - 2s 126ms/step - loss: 132.6966 - val_loss: 708.7928\n",
            "Epoch 32/100\n",
            "18/18 [==============================] - 0s 7ms/step - loss: 127.4561 - val_loss: 720.4315\n",
            "Epoch 33/100\n",
            "18/18 [==============================] - 0s 7ms/step - loss: 125.4715 - val_loss: 718.5489\n",
            "Epoch 34/100\n",
            "18/18 [==============================] - 2s 138ms/step - loss: 126.5052 - val_loss: 681.4855\n",
            "Epoch 35/100\n",
            "18/18 [==============================] - 3s 167ms/step - loss: 123.5591 - val_loss: 671.0621\n",
            "Epoch 36/100\n",
            "18/18 [==============================] - 0s 8ms/step - loss: 125.4588 - val_loss: 677.5633\n",
            "Epoch 37/100\n",
            "18/18 [==============================] - 3s 189ms/step - loss: 121.6138 - val_loss: 660.4551\n",
            "Epoch 38/100\n",
            "18/18 [==============================] - 3s 148ms/step - loss: 120.4347 - val_loss: 657.1758\n",
            "Epoch 39/100\n",
            "18/18 [==============================] - 0s 14ms/step - loss: 119.2749 - val_loss: 678.8303\n",
            "Epoch 40/100\n",
            "18/18 [==============================] - 0s 7ms/step - loss: 120.3230 - val_loss: 673.6594\n",
            "Epoch 41/100\n",
            "18/18 [==============================] - 3s 170ms/step - loss: 119.8018 - val_loss: 648.0718\n",
            "Epoch 42/100\n",
            "18/18 [==============================] - 3s 186ms/step - loss: 117.8431 - val_loss: 639.5602\n",
            "Epoch 43/100\n",
            "18/18 [==============================] - 4s 234ms/step - loss: 116.4144 - val_loss: 629.5179\n",
            "Epoch 44/100\n",
            "18/18 [==============================] - 3s 161ms/step - loss: 117.3168 - val_loss: 626.5227\n",
            "Epoch 45/100\n",
            "18/18 [==============================] - 2s 123ms/step - loss: 115.8652 - val_loss: 622.1869\n",
            "Epoch 46/100\n",
            "18/18 [==============================] - 2s 136ms/step - loss: 115.2672 - val_loss: 617.4931\n",
            "Epoch 47/100\n",
            "18/18 [==============================] - 0s 7ms/step - loss: 115.7805 - val_loss: 621.8969\n",
            "Epoch 48/100\n",
            "18/18 [==============================] - 0s 12ms/step - loss: 114.5320 - val_loss: 648.6415\n",
            "Epoch 49/100\n",
            "18/18 [==============================] - 0s 10ms/step - loss: 114.9141 - val_loss: 625.8958\n",
            "Epoch 50/100\n",
            "18/18 [==============================] - 0s 9ms/step - loss: 118.6771 - val_loss: 631.6301\n",
            "Epoch 51/100\n",
            "18/18 [==============================] - 0s 12ms/step - loss: 113.7550 - val_loss: 631.0988\n",
            "Epoch 52/100\n",
            "18/18 [==============================] - 4s 233ms/step - loss: 114.3377 - val_loss: 604.1881\n",
            "Epoch 53/100\n",
            "18/18 [==============================] - 0s 14ms/step - loss: 114.2882 - val_loss: 611.1465\n",
            "Epoch 54/100\n",
            "18/18 [==============================] - 0s 15ms/step - loss: 114.9504 - val_loss: 615.3441\n",
            "Epoch 55/100\n",
            "18/18 [==============================] - 0s 13ms/step - loss: 113.1535 - val_loss: 606.3608\n",
            "Epoch 56/100\n",
            "18/18 [==============================] - 0s 9ms/step - loss: 114.0500 - val_loss: 670.3961\n",
            "Epoch 57/100\n",
            "18/18 [==============================] - 0s 13ms/step - loss: 124.1639 - val_loss: 612.2786\n",
            "Epoch 58/100\n",
            "18/18 [==============================] - 0s 8ms/step - loss: 113.5704 - val_loss: 604.3711\n",
            "Epoch 59/100\n",
            "18/18 [==============================] - 0s 12ms/step - loss: 111.6593 - val_loss: 609.9927\n",
            "Epoch 60/100\n",
            "18/18 [==============================] - 3s 201ms/step - loss: 112.3353 - val_loss: 601.5305\n",
            "Epoch 61/100\n",
            "18/18 [==============================] - 0s 8ms/step - loss: 111.6935 - val_loss: 608.5303\n",
            "Epoch 62/100\n",
            "18/18 [==============================] - 0s 9ms/step - loss: 114.7450 - val_loss: 627.7797\n",
            "Epoch 63/100\n",
            "18/18 [==============================] - 0s 15ms/step - loss: 115.5293 - val_loss: 601.6878\n",
            "Epoch 64/100\n",
            "18/18 [==============================] - 0s 7ms/step - loss: 111.3333 - val_loss: 631.9764\n",
            "Epoch 65/100\n",
            "18/18 [==============================] - 0s 12ms/step - loss: 114.7171 - val_loss: 614.1825\n",
            "Epoch 66/100\n",
            "18/18 [==============================] - 3s 176ms/step - loss: 111.6397 - val_loss: 599.2017\n",
            "Epoch 67/100\n",
            "18/18 [==============================] - 5s 272ms/step - loss: 110.8856 - val_loss: 592.9419\n",
            "Epoch 68/100\n",
            "18/18 [==============================] - 0s 14ms/step - loss: 112.9683 - val_loss: 609.7568\n",
            "Epoch 69/100\n",
            "18/18 [==============================] - 0s 13ms/step - loss: 117.3164 - val_loss: 615.0650\n",
            "Epoch 70/100\n",
            "18/18 [==============================] - 0s 12ms/step - loss: 115.9651 - val_loss: 622.7321\n",
            "Epoch 71/100\n",
            "18/18 [==============================] - 0s 13ms/step - loss: 111.2429 - val_loss: 599.1664\n",
            "Epoch 72/100\n",
            "18/18 [==============================] - 2s 139ms/step - loss: 111.2181 - val_loss: 586.7081\n",
            "Epoch 73/100\n",
            "18/18 [==============================] - 0s 8ms/step - loss: 110.6541 - val_loss: 588.7858\n",
            "Epoch 74/100\n",
            "18/18 [==============================] - 0s 7ms/step - loss: 110.9142 - val_loss: 591.3988\n",
            "Epoch 75/100\n",
            "18/18 [==============================] - 0s 9ms/step - loss: 110.3313 - val_loss: 624.2595\n",
            "Epoch 76/100\n",
            "18/18 [==============================] - 4s 207ms/step - loss: 111.3702 - val_loss: 585.0214\n",
            "Epoch 77/100\n",
            "18/18 [==============================] - 0s 16ms/step - loss: 111.3786 - val_loss: 621.9025\n",
            "Epoch 78/100\n",
            "18/18 [==============================] - 0s 15ms/step - loss: 112.4604 - val_loss: 642.5848\n",
            "Epoch 79/100\n",
            "18/18 [==============================] - 4s 232ms/step - loss: 112.5564 - val_loss: 582.4728\n",
            "Epoch 80/100\n",
            "18/18 [==============================] - 0s 8ms/step - loss: 127.1211 - val_loss: 592.8061\n",
            "Epoch 81/100\n",
            "18/18 [==============================] - 0s 9ms/step - loss: 117.5959 - val_loss: 584.7666\n",
            "Epoch 82/100\n",
            "18/18 [==============================] - 0s 7ms/step - loss: 113.0098 - val_loss: 584.3193\n",
            "Epoch 83/100\n",
            "18/18 [==============================] - 0s 7ms/step - loss: 109.8982 - val_loss: 631.7235\n",
            "Epoch 84/100\n",
            "18/18 [==============================] - 0s 8ms/step - loss: 113.0172 - val_loss: 607.3067\n",
            "Epoch 85/100\n",
            "18/18 [==============================] - 0s 8ms/step - loss: 111.5526 - val_loss: 616.6202\n",
            "Epoch 86/100\n",
            "18/18 [==============================] - 0s 8ms/step - loss: 113.6609 - val_loss: 593.9655\n",
            "Epoch 87/100\n",
            "18/18 [==============================] - 0s 8ms/step - loss: 111.7939 - val_loss: 590.6064\n",
            "Epoch 88/100\n",
            "18/18 [==============================] - 3s 169ms/step - loss: 109.5378 - val_loss: 582.1305\n",
            "Epoch 89/100\n",
            "18/18 [==============================] - 0s 19ms/step - loss: 110.1392 - val_loss: 617.5948\n",
            "Epoch 90/100\n",
            "18/18 [==============================] - 0s 16ms/step - loss: 113.7992 - val_loss: 694.5898\n",
            "Epoch 91/100\n",
            "18/18 [==============================] - 0s 14ms/step - loss: 115.2247 - val_loss: 618.5646\n",
            "Epoch 92/100\n",
            "18/18 [==============================] - 4s 231ms/step - loss: 110.2009 - val_loss: 579.6736\n",
            "Epoch 93/100\n",
            "18/18 [==============================] - 0s 25ms/step - loss: 111.7229 - val_loss: 583.0452\n",
            "Epoch 94/100\n",
            "18/18 [==============================] - 0s 23ms/step - loss: 108.9345 - val_loss: 598.0901\n",
            "Epoch 95/100\n",
            "18/18 [==============================] - 1s 34ms/step - loss: 108.7193 - val_loss: 599.0247\n",
            "Epoch 96/100\n",
            "18/18 [==============================] - 1s 35ms/step - loss: 110.9591 - val_loss: 588.1052\n",
            "Epoch 97/100\n",
            "18/18 [==============================] - 1s 30ms/step - loss: 109.7311 - val_loss: 617.1829\n",
            "Epoch 98/100\n",
            "18/18 [==============================] - 0s 19ms/step - loss: 109.4096 - val_loss: 579.8759\n",
            "Epoch 99/100\n",
            "18/18 [==============================] - 7s 406ms/step - loss: 108.5378 - val_loss: 575.1808\n",
            "Epoch 100/100\n",
            "18/18 [==============================] - 0s 20ms/step - loss: 110.5147 - val_loss: 575.2648\n"
          ]
        },
        {
          "output_type": "execute_result",
          "data": {
            "text/plain": [
              "<keras.callbacks.History at 0x7f9f61538130>"
            ]
          },
          "metadata": {},
          "execution_count": 74
        }
      ]
    },
    {
      "cell_type": "code",
      "source": [
        "# Load in the best version of model 5 and evaluate\n",
        "\n",
        "model_5 = tf.keras.models.load_model(\"model_experiments/model_5_lstm/\")\n",
        "model_5.evaluate(test_windows, test_labels)"
      ],
      "metadata": {
        "colab": {
          "base_uri": "https://localhost:8080/"
        },
        "id": "ZETznOQ89L-B",
        "outputId": "59ad220c-e7b0-4f7e-d898-f3c9e361e9f7"
      },
      "execution_count": 75,
      "outputs": [
        {
          "output_type": "stream",
          "name": "stderr",
          "text": [
            "WARNING:tensorflow:Layer lstm will not use cuDNN kernels since it doesn't meet the criteria. It will use a generic GPU kernel as fallback when running on GPU.\n"
          ]
        },
        {
          "output_type": "stream",
          "name": "stdout",
          "text": [
            "18/18 [==============================] - 1s 9ms/step - loss: 575.1808\n"
          ]
        },
        {
          "output_type": "execute_result",
          "data": {
            "text/plain": [
              "575.1807861328125"
            ]
          },
          "metadata": {},
          "execution_count": 75
        }
      ]
    },
    {
      "cell_type": "code",
      "source": [
        "# Make prediction with our LSTM model\n",
        "\n",
        "model_5_preds = make_preds(model_5, test_windows)\n",
        "model_5_preds[:10]"
      ],
      "metadata": {
        "colab": {
          "base_uri": "https://localhost:8080/"
        },
        "id": "X9iHspKc9gJw",
        "outputId": "3f398649-8e9f-4c67-beb2-6eb8c7f10835"
      },
      "execution_count": 76,
      "outputs": [
        {
          "output_type": "stream",
          "name": "stdout",
          "text": [
            "18/18 [==============================] - 1s 6ms/step\n"
          ]
        },
        {
          "output_type": "execute_result",
          "data": {
            "text/plain": [
              "<tf.Tensor: shape=(10,), dtype=float32, numpy=\n",
              "array([8912.443, 8789.872, 8974.42 , 8800.157, 8778.385, 8743.095,\n",
              "       8680.061, 8553.662, 8473.089, 8513.093], dtype=float32)>"
            ]
          },
          "metadata": {},
          "execution_count": 76
        }
      ]
    },
    {
      "cell_type": "code",
      "source": [
        "# Evaluate model 5 preds\n",
        "\n",
        "model_5_results = evaluate_preds(y_true=tf.squeeze(test_labels),\n",
        "                                 y_pred=model_5_preds)\n",
        "model_5_results"
      ],
      "metadata": {
        "colab": {
          "base_uri": "https://localhost:8080/"
        },
        "id": "9caGwx8NAr7H",
        "outputId": "93e9db45-0264-4879-e6ce-a8950a8a3a39"
      },
      "execution_count": 77,
      "outputs": [
        {
          "output_type": "execute_result",
          "data": {
            "text/plain": [
              "{'mae': 575.18085,\n",
              " 'mse': 1194534.9,\n",
              " 'rmse': 1092.9478,\n",
              " 'mape': 2.5883899,\n",
              " 'mase': 1.0104334}"
            ]
          },
          "metadata": {},
          "execution_count": 77
        }
      ]
    },
    {
      "cell_type": "markdown",
      "source": [
        "### Make a multivariate time series"
      ],
      "metadata": {
        "id": "B41JHtT5BGka"
      }
    },
    {
      "cell_type": "code",
      "source": [
        "# Lets make a multivariate time series\n",
        "\n",
        "bitcoin_prices.head()"
      ],
      "metadata": {
        "colab": {
          "base_uri": "https://localhost:8080/",
          "height": 237
        },
        "id": "LszHr6K1BFBf",
        "outputId": "a3f62b2d-fac1-479c-cae5-74ef31c6f3e7"
      },
      "execution_count": 78,
      "outputs": [
        {
          "output_type": "execute_result",
          "data": {
            "text/plain": [
              "                Price\n",
              "Date                 \n",
              "2013-10-01  123.65499\n",
              "2013-10-02  125.45500\n",
              "2013-10-03  108.58483\n",
              "2013-10-04  118.67466\n",
              "2013-10-05  121.33866"
            ],
            "text/html": [
              "\n",
              "  <div id=\"df-2e123efe-11f9-4130-86a9-456272847ef5\">\n",
              "    <div class=\"colab-df-container\">\n",
              "      <div>\n",
              "<style scoped>\n",
              "    .dataframe tbody tr th:only-of-type {\n",
              "        vertical-align: middle;\n",
              "    }\n",
              "\n",
              "    .dataframe tbody tr th {\n",
              "        vertical-align: top;\n",
              "    }\n",
              "\n",
              "    .dataframe thead th {\n",
              "        text-align: right;\n",
              "    }\n",
              "</style>\n",
              "<table border=\"1\" class=\"dataframe\">\n",
              "  <thead>\n",
              "    <tr style=\"text-align: right;\">\n",
              "      <th></th>\n",
              "      <th>Price</th>\n",
              "    </tr>\n",
              "    <tr>\n",
              "      <th>Date</th>\n",
              "      <th></th>\n",
              "    </tr>\n",
              "  </thead>\n",
              "  <tbody>\n",
              "    <tr>\n",
              "      <th>2013-10-01</th>\n",
              "      <td>123.65499</td>\n",
              "    </tr>\n",
              "    <tr>\n",
              "      <th>2013-10-02</th>\n",
              "      <td>125.45500</td>\n",
              "    </tr>\n",
              "    <tr>\n",
              "      <th>2013-10-03</th>\n",
              "      <td>108.58483</td>\n",
              "    </tr>\n",
              "    <tr>\n",
              "      <th>2013-10-04</th>\n",
              "      <td>118.67466</td>\n",
              "    </tr>\n",
              "    <tr>\n",
              "      <th>2013-10-05</th>\n",
              "      <td>121.33866</td>\n",
              "    </tr>\n",
              "  </tbody>\n",
              "</table>\n",
              "</div>\n",
              "      <button class=\"colab-df-convert\" onclick=\"convertToInteractive('df-2e123efe-11f9-4130-86a9-456272847ef5')\"\n",
              "              title=\"Convert this dataframe to an interactive table.\"\n",
              "              style=\"display:none;\">\n",
              "        \n",
              "  <svg xmlns=\"http://www.w3.org/2000/svg\" height=\"24px\"viewBox=\"0 0 24 24\"\n",
              "       width=\"24px\">\n",
              "    <path d=\"M0 0h24v24H0V0z\" fill=\"none\"/>\n",
              "    <path d=\"M18.56 5.44l.94 2.06.94-2.06 2.06-.94-2.06-.94-.94-2.06-.94 2.06-2.06.94zm-11 1L8.5 8.5l.94-2.06 2.06-.94-2.06-.94L8.5 2.5l-.94 2.06-2.06.94zm10 10l.94 2.06.94-2.06 2.06-.94-2.06-.94-.94-2.06-.94 2.06-2.06.94z\"/><path d=\"M17.41 7.96l-1.37-1.37c-.4-.4-.92-.59-1.43-.59-.52 0-1.04.2-1.43.59L10.3 9.45l-7.72 7.72c-.78.78-.78 2.05 0 2.83L4 21.41c.39.39.9.59 1.41.59.51 0 1.02-.2 1.41-.59l7.78-7.78 2.81-2.81c.8-.78.8-2.07 0-2.86zM5.41 20L4 18.59l7.72-7.72 1.47 1.35L5.41 20z\"/>\n",
              "  </svg>\n",
              "      </button>\n",
              "      \n",
              "  <style>\n",
              "    .colab-df-container {\n",
              "      display:flex;\n",
              "      flex-wrap:wrap;\n",
              "      gap: 12px;\n",
              "    }\n",
              "\n",
              "    .colab-df-convert {\n",
              "      background-color: #E8F0FE;\n",
              "      border: none;\n",
              "      border-radius: 50%;\n",
              "      cursor: pointer;\n",
              "      display: none;\n",
              "      fill: #1967D2;\n",
              "      height: 32px;\n",
              "      padding: 0 0 0 0;\n",
              "      width: 32px;\n",
              "    }\n",
              "\n",
              "    .colab-df-convert:hover {\n",
              "      background-color: #E2EBFA;\n",
              "      box-shadow: 0px 1px 2px rgba(60, 64, 67, 0.3), 0px 1px 3px 1px rgba(60, 64, 67, 0.15);\n",
              "      fill: #174EA6;\n",
              "    }\n",
              "\n",
              "    [theme=dark] .colab-df-convert {\n",
              "      background-color: #3B4455;\n",
              "      fill: #D2E3FC;\n",
              "    }\n",
              "\n",
              "    [theme=dark] .colab-df-convert:hover {\n",
              "      background-color: #434B5C;\n",
              "      box-shadow: 0px 1px 3px 1px rgba(0, 0, 0, 0.15);\n",
              "      filter: drop-shadow(0px 1px 2px rgba(0, 0, 0, 0.3));\n",
              "      fill: #FFFFFF;\n",
              "    }\n",
              "  </style>\n",
              "\n",
              "      <script>\n",
              "        const buttonEl =\n",
              "          document.querySelector('#df-2e123efe-11f9-4130-86a9-456272847ef5 button.colab-df-convert');\n",
              "        buttonEl.style.display =\n",
              "          google.colab.kernel.accessAllowed ? 'block' : 'none';\n",
              "\n",
              "        async function convertToInteractive(key) {\n",
              "          const element = document.querySelector('#df-2e123efe-11f9-4130-86a9-456272847ef5');\n",
              "          const dataTable =\n",
              "            await google.colab.kernel.invokeFunction('convertToInteractive',\n",
              "                                                     [key], {});\n",
              "          if (!dataTable) return;\n",
              "\n",
              "          const docLinkHtml = 'Like what you see? Visit the ' +\n",
              "            '<a target=\"_blank\" href=https://colab.research.google.com/notebooks/data_table.ipynb>data table notebook</a>'\n",
              "            + ' to learn more about interactive tables.';\n",
              "          element.innerHTML = '';\n",
              "          dataTable['output_type'] = 'display_data';\n",
              "          await google.colab.output.renderOutput(dataTable, element);\n",
              "          const docLink = document.createElement('div');\n",
              "          docLink.innerHTML = docLinkHtml;\n",
              "          element.appendChild(docLink);\n",
              "        }\n",
              "      </script>\n",
              "    </div>\n",
              "  </div>\n",
              "  "
            ]
          },
          "metadata": {},
          "execution_count": 78
        }
      ]
    },
    {
      "cell_type": "code",
      "source": [
        "# Block reward values\n",
        "\n",
        "block_reward_1 = 50\n",
        "block_reward_2 = 25\n",
        "block_reward_3 = 12.5\n",
        "block_reward_4 = 6.25\n",
        "\n",
        "# Block reward dates\n",
        "\n",
        "block_reward_2_datetime = np.datetime64(\"2012-11-28\")\n",
        "block_reward_3_datetime = np.datetime64(\"2016-07-09\")\n",
        "block_reward_4_datetime = np.datetime64(\"2020-05-11\")"
      ],
      "metadata": {
        "id": "D_jECaybBTPa"
      },
      "execution_count": 79,
      "outputs": []
    },
    {
      "cell_type": "code",
      "source": [
        "# Get datetime indexes for when to add in different block dates\n",
        "\n",
        "block_reward_2_days = (block_reward_3_datetime - bitcoin_prices.index[0]).days\n",
        "block_reward_3_days = (block_reward_4_datetime - bitcoin_prices.index[0]).days\n",
        "block_reward_2_days, block_reward_3_days"
      ],
      "metadata": {
        "colab": {
          "base_uri": "https://localhost:8080/"
        },
        "id": "yEi7wH7XCbfc",
        "outputId": "263b1993-2a99-4059-95d0-62dfed80f256"
      },
      "execution_count": 80,
      "outputs": [
        {
          "output_type": "execute_result",
          "data": {
            "text/plain": [
              "(1012, 2414)"
            ]
          },
          "metadata": {},
          "execution_count": 80
        }
      ]
    },
    {
      "cell_type": "code",
      "source": [
        "# Add block reward column\n",
        "\n",
        "bitcoin_prices_block = bitcoin_prices.copy()\n",
        "bitcoin_prices_block[\"block_reward\"] = None\n",
        "\n",
        "# Set values of block reward column\n",
        "\n",
        "bitcoin_prices_block.iloc[:block_reward_2_days, -1] = block_reward_2\n",
        "bitcoin_prices_block.iloc[block_reward_2_days: block_reward_3_days, -1] = block_reward_3\n",
        "bitcoin_prices_block.iloc[block_reward_3_days:, -1] = block_reward_4\n",
        "bitcoin_prices_block.head()"
      ],
      "metadata": {
        "colab": {
          "base_uri": "https://localhost:8080/",
          "height": 237
        },
        "id": "d05KHoCMC-m3",
        "outputId": "0d5e3764-509a-4e50-ae12-106e02296a86"
      },
      "execution_count": 81,
      "outputs": [
        {
          "output_type": "execute_result",
          "data": {
            "text/plain": [
              "                Price block_reward\n",
              "Date                              \n",
              "2013-10-01  123.65499           25\n",
              "2013-10-02  125.45500           25\n",
              "2013-10-03  108.58483           25\n",
              "2013-10-04  118.67466           25\n",
              "2013-10-05  121.33866           25"
            ],
            "text/html": [
              "\n",
              "  <div id=\"df-045e294a-7c84-4023-9ebc-6350260741bf\">\n",
              "    <div class=\"colab-df-container\">\n",
              "      <div>\n",
              "<style scoped>\n",
              "    .dataframe tbody tr th:only-of-type {\n",
              "        vertical-align: middle;\n",
              "    }\n",
              "\n",
              "    .dataframe tbody tr th {\n",
              "        vertical-align: top;\n",
              "    }\n",
              "\n",
              "    .dataframe thead th {\n",
              "        text-align: right;\n",
              "    }\n",
              "</style>\n",
              "<table border=\"1\" class=\"dataframe\">\n",
              "  <thead>\n",
              "    <tr style=\"text-align: right;\">\n",
              "      <th></th>\n",
              "      <th>Price</th>\n",
              "      <th>block_reward</th>\n",
              "    </tr>\n",
              "    <tr>\n",
              "      <th>Date</th>\n",
              "      <th></th>\n",
              "      <th></th>\n",
              "    </tr>\n",
              "  </thead>\n",
              "  <tbody>\n",
              "    <tr>\n",
              "      <th>2013-10-01</th>\n",
              "      <td>123.65499</td>\n",
              "      <td>25</td>\n",
              "    </tr>\n",
              "    <tr>\n",
              "      <th>2013-10-02</th>\n",
              "      <td>125.45500</td>\n",
              "      <td>25</td>\n",
              "    </tr>\n",
              "    <tr>\n",
              "      <th>2013-10-03</th>\n",
              "      <td>108.58483</td>\n",
              "      <td>25</td>\n",
              "    </tr>\n",
              "    <tr>\n",
              "      <th>2013-10-04</th>\n",
              "      <td>118.67466</td>\n",
              "      <td>25</td>\n",
              "    </tr>\n",
              "    <tr>\n",
              "      <th>2013-10-05</th>\n",
              "      <td>121.33866</td>\n",
              "      <td>25</td>\n",
              "    </tr>\n",
              "  </tbody>\n",
              "</table>\n",
              "</div>\n",
              "      <button class=\"colab-df-convert\" onclick=\"convertToInteractive('df-045e294a-7c84-4023-9ebc-6350260741bf')\"\n",
              "              title=\"Convert this dataframe to an interactive table.\"\n",
              "              style=\"display:none;\">\n",
              "        \n",
              "  <svg xmlns=\"http://www.w3.org/2000/svg\" height=\"24px\"viewBox=\"0 0 24 24\"\n",
              "       width=\"24px\">\n",
              "    <path d=\"M0 0h24v24H0V0z\" fill=\"none\"/>\n",
              "    <path d=\"M18.56 5.44l.94 2.06.94-2.06 2.06-.94-2.06-.94-.94-2.06-.94 2.06-2.06.94zm-11 1L8.5 8.5l.94-2.06 2.06-.94-2.06-.94L8.5 2.5l-.94 2.06-2.06.94zm10 10l.94 2.06.94-2.06 2.06-.94-2.06-.94-.94-2.06-.94 2.06-2.06.94z\"/><path d=\"M17.41 7.96l-1.37-1.37c-.4-.4-.92-.59-1.43-.59-.52 0-1.04.2-1.43.59L10.3 9.45l-7.72 7.72c-.78.78-.78 2.05 0 2.83L4 21.41c.39.39.9.59 1.41.59.51 0 1.02-.2 1.41-.59l7.78-7.78 2.81-2.81c.8-.78.8-2.07 0-2.86zM5.41 20L4 18.59l7.72-7.72 1.47 1.35L5.41 20z\"/>\n",
              "  </svg>\n",
              "      </button>\n",
              "      \n",
              "  <style>\n",
              "    .colab-df-container {\n",
              "      display:flex;\n",
              "      flex-wrap:wrap;\n",
              "      gap: 12px;\n",
              "    }\n",
              "\n",
              "    .colab-df-convert {\n",
              "      background-color: #E8F0FE;\n",
              "      border: none;\n",
              "      border-radius: 50%;\n",
              "      cursor: pointer;\n",
              "      display: none;\n",
              "      fill: #1967D2;\n",
              "      height: 32px;\n",
              "      padding: 0 0 0 0;\n",
              "      width: 32px;\n",
              "    }\n",
              "\n",
              "    .colab-df-convert:hover {\n",
              "      background-color: #E2EBFA;\n",
              "      box-shadow: 0px 1px 2px rgba(60, 64, 67, 0.3), 0px 1px 3px 1px rgba(60, 64, 67, 0.15);\n",
              "      fill: #174EA6;\n",
              "    }\n",
              "\n",
              "    [theme=dark] .colab-df-convert {\n",
              "      background-color: #3B4455;\n",
              "      fill: #D2E3FC;\n",
              "    }\n",
              "\n",
              "    [theme=dark] .colab-df-convert:hover {\n",
              "      background-color: #434B5C;\n",
              "      box-shadow: 0px 1px 3px 1px rgba(0, 0, 0, 0.15);\n",
              "      filter: drop-shadow(0px 1px 2px rgba(0, 0, 0, 0.3));\n",
              "      fill: #FFFFFF;\n",
              "    }\n",
              "  </style>\n",
              "\n",
              "      <script>\n",
              "        const buttonEl =\n",
              "          document.querySelector('#df-045e294a-7c84-4023-9ebc-6350260741bf button.colab-df-convert');\n",
              "        buttonEl.style.display =\n",
              "          google.colab.kernel.accessAllowed ? 'block' : 'none';\n",
              "\n",
              "        async function convertToInteractive(key) {\n",
              "          const element = document.querySelector('#df-045e294a-7c84-4023-9ebc-6350260741bf');\n",
              "          const dataTable =\n",
              "            await google.colab.kernel.invokeFunction('convertToInteractive',\n",
              "                                                     [key], {});\n",
              "          if (!dataTable) return;\n",
              "\n",
              "          const docLinkHtml = 'Like what you see? Visit the ' +\n",
              "            '<a target=\"_blank\" href=https://colab.research.google.com/notebooks/data_table.ipynb>data table notebook</a>'\n",
              "            + ' to learn more about interactive tables.';\n",
              "          element.innerHTML = '';\n",
              "          dataTable['output_type'] = 'display_data';\n",
              "          await google.colab.output.renderOutput(dataTable, element);\n",
              "          const docLink = document.createElement('div');\n",
              "          docLink.innerHTML = docLinkHtml;\n",
              "          element.appendChild(docLink);\n",
              "        }\n",
              "      </script>\n",
              "    </div>\n",
              "  </div>\n",
              "  "
            ]
          },
          "metadata": {},
          "execution_count": 81
        }
      ]
    },
    {
      "cell_type": "code",
      "source": [
        "# Plot the block reward/price over time\n",
        "\n",
        "from sklearn.preprocessing import minmax_scale\n",
        "scaled_price_block_df = pd.DataFrame(minmax_scale(bitcoin_prices_block[[\"Price\", \"block_reward\"]]),\n",
        "                                     columns=bitcoin_prices_block.columns,\n",
        "                                     index=bitcoin_prices_block.index)\n",
        "scaled_price_block_df.plot(figsize=(10, 7))"
      ],
      "metadata": {
        "colab": {
          "base_uri": "https://localhost:8080/",
          "height": 459
        },
        "id": "VSDMSg-6ECSR",
        "outputId": "13422fd2-f3da-411b-a2e7-3a20badcd30b"
      },
      "execution_count": 82,
      "outputs": [
        {
          "output_type": "execute_result",
          "data": {
            "text/plain": [
              "<AxesSubplot:xlabel='Date'>"
            ]
          },
          "metadata": {},
          "execution_count": 82
        },
        {
          "output_type": "display_data",
          "data": {
            "text/plain": [
              "<Figure size 720x504 with 1 Axes>"
            ],
            "image/png": "[encoded data removed]"
          },
          "metadata": {
            "needs_background": "light"
          }
        }
      ]
    },
    {
      "cell_type": "markdown",
      "source": [
        "### Making a windowed dataset with pandas"
      ],
      "metadata": {
        "id": "3PxHi9Jv1D65"
      }
    },
    {
      "cell_type": "code",
      "source": [
        "# Setup dataset hyperparameters\n",
        "\n",
        "HORIZON = 1\n",
        "WINDOW_SIZE = 7"
      ],
      "metadata": {
        "id": "EJVpVQwBE6qm"
      },
      "execution_count": 82,
      "outputs": []
    },
    {
      "cell_type": "code",
      "source": [
        "# Make a copy of the bitcoin historical data with block reward feature\n",
        "\n",
        "bitcoin_prices_windowed = bitcoin_prices_block.copy()\n",
        "\n",
        "# Add windowed columns\n",
        "\n",
        "for i in range(WINDOW_SIZE):\n",
        "  bitcoin_prices_windowed[f\"Price+{i+1}\"] = bitcoin_prices_windowed[\"Price\"].shift(periods=i+1)\n",
        "bitcoin_prices_windowed.head(10)"
      ],
      "metadata": {
        "colab": {
          "base_uri": "https://localhost:8080/",
          "height": 394
        },
        "id": "Od1xQxjm1Uks",
        "outputId": "b36f4f3c-2e6a-426e-9601-2d5a1ae387fc"
      },
      "execution_count": 83,
      "outputs": [
        {
          "output_type": "execute_result",
          "data": {
            "text/plain": [
              "                Price block_reward    Price+1    Price+2    Price+3  \\\n",
              "Date                                                                  \n",
              "2013-10-01  123.65499           25        NaN        NaN        NaN   \n",
              "2013-10-02  125.45500           25  123.65499        NaN        NaN   \n",
              "2013-10-03  108.58483           25  125.45500  123.65499        NaN   \n",
              "2013-10-04  118.67466           25  108.58483  125.45500  123.65499   \n",
              "2013-10-05  121.33866           25  118.67466  108.58483  125.45500   \n",
              "2013-10-06  120.65533           25  121.33866  118.67466  108.58483   \n",
              "2013-10-07  121.79500           25  120.65533  121.33866  118.67466   \n",
              "2013-10-08  123.03300           25  121.79500  120.65533  121.33866   \n",
              "2013-10-09  124.04900           25  123.03300  121.79500  120.65533   \n",
              "2013-10-10  125.96116           25  124.04900  123.03300  121.79500   \n",
              "\n",
              "              Price+4    Price+5    Price+6    Price+7  \n",
              "Date                                                    \n",
              "2013-10-01        NaN        NaN        NaN        NaN  \n",
              "2013-10-02        NaN        NaN        NaN        NaN  \n",
              "2013-10-03        NaN        NaN        NaN        NaN  \n",
              "2013-10-04        NaN        NaN        NaN        NaN  \n",
              "2013-10-05  123.65499        NaN        NaN        NaN  \n",
              "2013-10-06  125.45500  123.65499        NaN        NaN  \n",
              "2013-10-07  108.58483  125.45500  123.65499        NaN  \n",
              "2013-10-08  118.67466  108.58483  125.45500  123.65499  \n",
              "2013-10-09  121.33866  118.67466  108.58483  125.45500  \n",
              "2013-10-10  120.65533  121.33866  118.67466  108.58483  "
            ],
            "text/html": [
              "\n",
              "  <div id=\"df-17af5708-bfda-4295-9339-59495a666033\">\n",
              "    <div class=\"colab-df-container\">\n",
              "      <div>\n",
              "<style scoped>\n",
              "    .dataframe tbody tr th:only-of-type {\n",
              "        vertical-align: middle;\n",
              "    }\n",
              "\n",
              "    .dataframe tbody tr th {\n",
              "        vertical-align: top;\n",
              "    }\n",
              "\n",
              "    .dataframe thead th {\n",
              "        text-align: right;\n",
              "    }\n",
              "</style>\n",
              "<table border=\"1\" class=\"dataframe\">\n",
              "  <thead>\n",
              "    <tr style=\"text-align: right;\">\n",
              "      <th></th>\n",
              "      <th>Price</th>\n",
              "      <th>block_reward</th>\n",
              "      <th>Price+1</th>\n",
              "      <th>Price+2</th>\n",
              "      <th>Price+3</th>\n",
              "      <th>Price+4</th>\n",
              "      <th>Price+5</th>\n",
              "      <th>Price+6</th>\n",
              "      <th>Price+7</th>\n",
              "    </tr>\n",
              "    <tr>\n",
              "      <th>Date</th>\n",
              "      <th></th>\n",
              "      <th></th>\n",
              "      <th></th>\n",
              "      <th></th>\n",
              "      <th></th>\n",
              "      <th></th>\n",
              "      <th></th>\n",
              "      <th></th>\n",
              "      <th></th>\n",
              "    </tr>\n",
              "  </thead>\n",
              "  <tbody>\n",
              "    <tr>\n",
              "      <th>2013-10-01</th>\n",
              "      <td>123.65499</td>\n",
              "      <td>25</td>\n",
              "      <td>NaN</td>\n",
              "      <td>NaN</td>\n",
              "      <td>NaN</td>\n",
              "      <td>NaN</td>\n",
              "      <td>NaN</td>\n",
              "      <td>NaN</td>\n",
              "      <td>NaN</td>\n",
              "    </tr>\n",
              "    <tr>\n",
              "      <th>2013-10-02</th>\n",
              "      <td>125.45500</td>\n",
              "      <td>25</td>\n",
              "      <td>123.65499</td>\n",
              "      <td>NaN</td>\n",
              "      <td>NaN</td>\n",
              "      <td>NaN</td>\n",
              "      <td>NaN</td>\n",
              "      <td>NaN</td>\n",
              "      <td>NaN</td>\n",
              "    </tr>\n",
              "    <tr>\n",
              "      <th>2013-10-03</th>\n",
              "      <td>108.58483</td>\n",
              "      <td>25</td>\n",
              "      <td>125.45500</td>\n",
              "      <td>123.65499</td>\n",
              "      <td>NaN</td>\n",
              "      <td>NaN</td>\n",
              "      <td>NaN</td>\n",
              "      <td>NaN</td>\n",
              "      <td>NaN</td>\n",
              "    </tr>\n",
              "    <tr>\n",
              "      <th>2013-10-04</th>\n",
              "      <td>118.67466</td>\n",
              "      <td>25</td>\n",
              "      <td>108.58483</td>\n",
              "      <td>125.45500</td>\n",
              "      <td>123.65499</td>\n",
              "      <td>NaN</td>\n",
              "      <td>NaN</td>\n",
              "      <td>NaN</td>\n",
              "      <td>NaN</td>\n",
              "    </tr>\n",
              "    <tr>\n",
              "      <th>2013-10-05</th>\n",
              "      <td>121.33866</td>\n",
              "      <td>25</td>\n",
              "      <td>118.67466</td>\n",
              "      <td>108.58483</td>\n",
              "      <td>125.45500</td>\n",
              "      <td>123.65499</td>\n",
              "      <td>NaN</td>\n",
              "      <td>NaN</td>\n",
              "      <td>NaN</td>\n",
              "    </tr>\n",
              "    <tr>\n",
              "      <th>2013-10-06</th>\n",
              "      <td>120.65533</td>\n",
              "      <td>25</td>\n",
              "      <td>121.33866</td>\n",
              "      <td>118.67466</td>\n",
              "      <td>108.58483</td>\n",
              "      <td>125.45500</td>\n",
              "      <td>123.65499</td>\n",
              "      <td>NaN</td>\n",
              "      <td>NaN</td>\n",
              "    </tr>\n",
              "    <tr>\n",
              "      <th>2013-10-07</th>\n",
              "      <td>121.79500</td>\n",
              "      <td>25</td>\n",
              "      <td>120.65533</td>\n",
              "      <td>121.33866</td>\n",
              "      <td>118.67466</td>\n",
              "      <td>108.58483</td>\n",
              "      <td>125.45500</td>\n",
              "      <td>123.65499</td>\n",
              "      <td>NaN</td>\n",
              "    </tr>\n",
              "    <tr>\n",
              "      <th>2013-10-08</th>\n",
              "      <td>123.03300</td>\n",
              "      <td>25</td>\n",
              "      <td>121.79500</td>\n",
              "      <td>120.65533</td>\n",
              "      <td>121.33866</td>\n",
              "      <td>118.67466</td>\n",
              "      <td>108.58483</td>\n",
              "      <td>125.45500</td>\n",
              "      <td>123.65499</td>\n",
              "    </tr>\n",
              "    <tr>\n",
              "      <th>2013-10-09</th>\n",
              "      <td>124.04900</td>\n",
              "      <td>25</td>\n",
              "      <td>123.03300</td>\n",
              "      <td>121.79500</td>\n",
              "      <td>120.65533</td>\n",
              "      <td>121.33866</td>\n",
              "      <td>118.67466</td>\n",
              "      <td>108.58483</td>\n",
              "      <td>125.45500</td>\n",
              "    </tr>\n",
              "    <tr>\n",
              "      <th>2013-10-10</th>\n",
              "      <td>125.96116</td>\n",
              "      <td>25</td>\n",
              "      <td>124.04900</td>\n",
              "      <td>123.03300</td>\n",
              "      <td>121.79500</td>\n",
              "      <td>120.65533</td>\n",
              "      <td>121.33866</td>\n",
              "      <td>118.67466</td>\n",
              "      <td>108.58483</td>\n",
              "    </tr>\n",
              "  </tbody>\n",
              "</table>\n",
              "</div>\n",
              "      <button class=\"colab-df-convert\" onclick=\"convertToInteractive('df-17af5708-bfda-4295-9339-59495a666033')\"\n",
              "              title=\"Convert this dataframe to an interactive table.\"\n",
              "              style=\"display:none;\">\n",
              "        \n",
              "  <svg xmlns=\"http://www.w3.org/2000/svg\" height=\"24px\"viewBox=\"0 0 24 24\"\n",
              "       width=\"24px\">\n",
              "    <path d=\"M0 0h24v24H0V0z\" fill=\"none\"/>\n",
              "    <path d=\"M18.56 5.44l.94 2.06.94-2.06 2.06-.94-2.06-.94-.94-2.06-.94 2.06-2.06.94zm-11 1L8.5 8.5l.94-2.06 2.06-.94-2.06-.94L8.5 2.5l-.94 2.06-2.06.94zm10 10l.94 2.06.94-2.06 2.06-.94-2.06-.94-.94-2.06-.94 2.06-2.06.94z\"/><path d=\"M17.41 7.96l-1.37-1.37c-.4-.4-.92-.59-1.43-.59-.52 0-1.04.2-1.43.59L10.3 9.45l-7.72 7.72c-.78.78-.78 2.05 0 2.83L4 21.41c.39.39.9.59 1.41.59.51 0 1.02-.2 1.41-.59l7.78-7.78 2.81-2.81c.8-.78.8-2.07 0-2.86zM5.41 20L4 18.59l7.72-7.72 1.47 1.35L5.41 20z\"/>\n",
              "  </svg>\n",
              "      </button>\n",
              "      \n",
              "  <style>\n",
              "    .colab-df-container {\n",
              "      display:flex;\n",
              "      flex-wrap:wrap;\n",
              "      gap: 12px;\n",
              "    }\n",
              "\n",
              "    .colab-df-convert {\n",
              "      background-color: #E8F0FE;\n",
              "      border: none;\n",
              "      border-radius: 50%;\n",
              "      cursor: pointer;\n",
              "      display: none;\n",
              "      fill: #1967D2;\n",
              "      height: 32px;\n",
              "      padding: 0 0 0 0;\n",
              "      width: 32px;\n",
              "    }\n",
              "\n",
              "    .colab-df-convert:hover {\n",
              "      background-color: #E2EBFA;\n",
              "      box-shadow: 0px 1px 2px rgba(60, 64, 67, 0.3), 0px 1px 3px 1px rgba(60, 64, 67, 0.15);\n",
              "      fill: #174EA6;\n",
              "    }\n",
              "\n",
              "    [theme=dark] .colab-df-convert {\n",
              "      background-color: #3B4455;\n",
              "      fill: #D2E3FC;\n",
              "    }\n",
              "\n",
              "    [theme=dark] .colab-df-convert:hover {\n",
              "      background-color: #434B5C;\n",
              "      box-shadow: 0px 1px 3px 1px rgba(0, 0, 0, 0.15);\n",
              "      filter: drop-shadow(0px 1px 2px rgba(0, 0, 0, 0.3));\n",
              "      fill: #FFFFFF;\n",
              "    }\n",
              "  </style>\n",
              "\n",
              "      <script>\n",
              "        const buttonEl =\n",
              "          document.querySelector('#df-17af5708-bfda-4295-9339-59495a666033 button.colab-df-convert');\n",
              "        buttonEl.style.display =\n",
              "          google.colab.kernel.accessAllowed ? 'block' : 'none';\n",
              "\n",
              "        async function convertToInteractive(key) {\n",
              "          const element = document.querySelector('#df-17af5708-bfda-4295-9339-59495a666033');\n",
              "          const dataTable =\n",
              "            await google.colab.kernel.invokeFunction('convertToInteractive',\n",
              "                                                     [key], {});\n",
              "          if (!dataTable) return;\n",
              "\n",
              "          const docLinkHtml = 'Like what you see? Visit the ' +\n",
              "            '<a target=\"_blank\" href=https://colab.research.google.com/notebooks/data_table.ipynb>data table notebook</a>'\n",
              "            + ' to learn more about interactive tables.';\n",
              "          element.innerHTML = '';\n",
              "          dataTable['output_type'] = 'display_data';\n",
              "          await google.colab.output.renderOutput(dataTable, element);\n",
              "          const docLink = document.createElement('div');\n",
              "          docLink.innerHTML = docLinkHtml;\n",
              "          element.appendChild(docLink);\n",
              "        }\n",
              "      </script>\n",
              "    </div>\n",
              "  </div>\n",
              "  "
            ]
          },
          "metadata": {},
          "execution_count": 83
        }
      ]
    },
    {
      "cell_type": "code",
      "source": [
        "# Lets create X & y, remove the Nans and convert to float32 to prevent TensorFlow errors\n",
        "\n",
        "X = bitcoin_prices_windowed.dropna().drop(\"Price\", axis=1).astype(np.float32)\n",
        "y = bitcoin_prices_windowed.dropna()[\"Price\"].astype(np.float32)\n",
        "X.head()"
      ],
      "metadata": {
        "colab": {
          "base_uri": "https://localhost:8080/",
          "height": 237
        },
        "id": "XpycJtAN2NCR",
        "outputId": "6bcabd80-433f-46f1-f7b6-3692d06557e9"
      },
      "execution_count": 84,
      "outputs": [
        {
          "output_type": "execute_result",
          "data": {
            "text/plain": [
              "            block_reward     Price+1     Price+2     Price+3     Price+4  \\\n",
              "Date                                                                       \n",
              "2013-10-08          25.0  121.794998  120.655327  121.338661  118.674660   \n",
              "2013-10-09          25.0  123.032997  121.794998  120.655327  121.338661   \n",
              "2013-10-10          25.0  124.049004  123.032997  121.794998  120.655327   \n",
              "2013-10-11          25.0  125.961159  124.049004  123.032997  121.794998   \n",
              "2013-10-12          25.0  125.279663  125.961159  124.049004  123.032997   \n",
              "\n",
              "               Price+5     Price+6     Price+7  \n",
              "Date                                            \n",
              "2013-10-08  108.584831  125.455002  123.654991  \n",
              "2013-10-09  118.674660  108.584831  125.455002  \n",
              "2013-10-10  121.338661  118.674660  108.584831  \n",
              "2013-10-11  120.655327  121.338661  118.674660  \n",
              "2013-10-12  121.794998  120.655327  121.338661  "
            ],
            "text/html": [
              "\n",
              "  <div id=\"df-e1e71808-98bd-4507-9fcc-0f8b1aafefcb\">\n",
              "    <div class=\"colab-df-container\">\n",
              "      <div>\n",
              "<style scoped>\n",
              "    .dataframe tbody tr th:only-of-type {\n",
              "        vertical-align: middle;\n",
              "    }\n",
              "\n",
              "    .dataframe tbody tr th {\n",
              "        vertical-align: top;\n",
              "    }\n",
              "\n",
              "    .dataframe thead th {\n",
              "        text-align: right;\n",
              "    }\n",
              "</style>\n",
              "<table border=\"1\" class=\"dataframe\">\n",
              "  <thead>\n",
              "    <tr style=\"text-align: right;\">\n",
              "      <th></th>\n",
              "      <th>block_reward</th>\n",
              "      <th>Price+1</th>\n",
              "      <th>Price+2</th>\n",
              "      <th>Price+3</th>\n",
              "      <th>Price+4</th>\n",
              "      <th>Price+5</th>\n",
              "      <th>Price+6</th>\n",
              "      <th>Price+7</th>\n",
              "    </tr>\n",
              "    <tr>\n",
              "      <th>Date</th>\n",
              "      <th></th>\n",
              "      <th></th>\n",
              "      <th></th>\n",
              "      <th></th>\n",
              "      <th></th>\n",
              "      <th></th>\n",
              "      <th></th>\n",
              "      <th></th>\n",
              "    </tr>\n",
              "  </thead>\n",
              "  <tbody>\n",
              "    <tr>\n",
              "      <th>2013-10-08</th>\n",
              "      <td>25.0</td>\n",
              "      <td>121.794998</td>\n",
              "      <td>120.655327</td>\n",
              "      <td>121.338661</td>\n",
              "      <td>118.674660</td>\n",
              "      <td>108.584831</td>\n",
              "      <td>125.455002</td>\n",
              "      <td>123.654991</td>\n",
              "    </tr>\n",
              "    <tr>\n",
              "      <th>2013-10-09</th>\n",
              "      <td>25.0</td>\n",
              "      <td>123.032997</td>\n",
              "      <td>121.794998</td>\n",
              "      <td>120.655327</td>\n",
              "      <td>121.338661</td>\n",
              "      <td>118.674660</td>\n",
              "      <td>108.584831</td>\n",
              "      <td>125.455002</td>\n",
              "    </tr>\n",
              "    <tr>\n",
              "      <th>2013-10-10</th>\n",
              "      <td>25.0</td>\n",
              "      <td>124.049004</td>\n",
              "      <td>123.032997</td>\n",
              "      <td>121.794998</td>\n",
              "      <td>120.655327</td>\n",
              "      <td>121.338661</td>\n",
              "      <td>118.674660</td>\n",
              "      <td>108.584831</td>\n",
              "    </tr>\n",
              "    <tr>\n",
              "      <th>2013-10-11</th>\n",
              "      <td>25.0</td>\n",
              "      <td>125.961159</td>\n",
              "      <td>124.049004</td>\n",
              "      <td>123.032997</td>\n",
              "      <td>121.794998</td>\n",
              "      <td>120.655327</td>\n",
              "      <td>121.338661</td>\n",
              "      <td>118.674660</td>\n",
              "    </tr>\n",
              "    <tr>\n",
              "      <th>2013-10-12</th>\n",
              "      <td>25.0</td>\n",
              "      <td>125.279663</td>\n",
              "      <td>125.961159</td>\n",
              "      <td>124.049004</td>\n",
              "      <td>123.032997</td>\n",
              "      <td>121.794998</td>\n",
              "      <td>120.655327</td>\n",
              "      <td>121.338661</td>\n",
              "    </tr>\n",
              "  </tbody>\n",
              "</table>\n",
              "</div>\n",
              "      <button class=\"colab-df-convert\" onclick=\"convertToInteractive('df-e1e71808-98bd-4507-9fcc-0f8b1aafefcb')\"\n",
              "              title=\"Convert this dataframe to an interactive table.\"\n",
              "              style=\"display:none;\">\n",
              "        \n",
              "  <svg xmlns=\"http://www.w3.org/2000/svg\" height=\"24px\"viewBox=\"0 0 24 24\"\n",
              "       width=\"24px\">\n",
              "    <path d=\"M0 0h24v24H0V0z\" fill=\"none\"/>\n",
              "    <path d=\"M18.56 5.44l.94 2.06.94-2.06 2.06-.94-2.06-.94-.94-2.06-.94 2.06-2.06.94zm-11 1L8.5 8.5l.94-2.06 2.06-.94-2.06-.94L8.5 2.5l-.94 2.06-2.06.94zm10 10l.94 2.06.94-2.06 2.06-.94-2.06-.94-.94-2.06-.94 2.06-2.06.94z\"/><path d=\"M17.41 7.96l-1.37-1.37c-.4-.4-.92-.59-1.43-.59-.52 0-1.04.2-1.43.59L10.3 9.45l-7.72 7.72c-.78.78-.78 2.05 0 2.83L4 21.41c.39.39.9.59 1.41.59.51 0 1.02-.2 1.41-.59l7.78-7.78 2.81-2.81c.8-.78.8-2.07 0-2.86zM5.41 20L4 18.59l7.72-7.72 1.47 1.35L5.41 20z\"/>\n",
              "  </svg>\n",
              "      </button>\n",
              "      \n",
              "  <style>\n",
              "    .colab-df-container {\n",
              "      display:flex;\n",
              "      flex-wrap:wrap;\n",
              "      gap: 12px;\n",
              "    }\n",
              "\n",
              "    .colab-df-convert {\n",
              "      background-color: #E8F0FE;\n",
              "      border: none;\n",
              "      border-radius: 50%;\n",
              "      cursor: pointer;\n",
              "      display: none;\n",
              "      fill: #1967D2;\n",
              "      height: 32px;\n",
              "      padding: 0 0 0 0;\n",
              "      width: 32px;\n",
              "    }\n",
              "\n",
              "    .colab-df-convert:hover {\n",
              "      background-color: #E2EBFA;\n",
              "      box-shadow: 0px 1px 2px rgba(60, 64, 67, 0.3), 0px 1px 3px 1px rgba(60, 64, 67, 0.15);\n",
              "      fill: #174EA6;\n",
              "    }\n",
              "\n",
              "    [theme=dark] .colab-df-convert {\n",
              "      background-color: #3B4455;\n",
              "      fill: #D2E3FC;\n",
              "    }\n",
              "\n",
              "    [theme=dark] .colab-df-convert:hover {\n",
              "      background-color: #434B5C;\n",
              "      box-shadow: 0px 1px 3px 1px rgba(0, 0, 0, 0.15);\n",
              "      filter: drop-shadow(0px 1px 2px rgba(0, 0, 0, 0.3));\n",
              "      fill: #FFFFFF;\n",
              "    }\n",
              "  </style>\n",
              "\n",
              "      <script>\n",
              "        const buttonEl =\n",
              "          document.querySelector('#df-e1e71808-98bd-4507-9fcc-0f8b1aafefcb button.colab-df-convert');\n",
              "        buttonEl.style.display =\n",
              "          google.colab.kernel.accessAllowed ? 'block' : 'none';\n",
              "\n",
              "        async function convertToInteractive(key) {\n",
              "          const element = document.querySelector('#df-e1e71808-98bd-4507-9fcc-0f8b1aafefcb');\n",
              "          const dataTable =\n",
              "            await google.colab.kernel.invokeFunction('convertToInteractive',\n",
              "                                                     [key], {});\n",
              "          if (!dataTable) return;\n",
              "\n",
              "          const docLinkHtml = 'Like what you see? Visit the ' +\n",
              "            '<a target=\"_blank\" href=https://colab.research.google.com/notebooks/data_table.ipynb>data table notebook</a>'\n",
              "            + ' to learn more about interactive tables.';\n",
              "          element.innerHTML = '';\n",
              "          dataTable['output_type'] = 'display_data';\n",
              "          await google.colab.output.renderOutput(dataTable, element);\n",
              "          const docLink = document.createElement('div');\n",
              "          docLink.innerHTML = docLinkHtml;\n",
              "          element.appendChild(docLink);\n",
              "        }\n",
              "      </script>\n",
              "    </div>\n",
              "  </div>\n",
              "  "
            ]
          },
          "metadata": {},
          "execution_count": 84
        }
      ]
    },
    {
      "cell_type": "code",
      "source": [
        "# View labels\n",
        "\n",
        "y.head()"
      ],
      "metadata": {
        "colab": {
          "base_uri": "https://localhost:8080/"
        },
        "id": "DA3ghcvH2-F6",
        "outputId": "1e6140cb-4106-4675-cf6c-1c08c26d1222"
      },
      "execution_count": 85,
      "outputs": [
        {
          "output_type": "execute_result",
          "data": {
            "text/plain": [
              "Date\n",
              "2013-10-08    123.032997\n",
              "2013-10-09    124.049004\n",
              "2013-10-10    125.961159\n",
              "2013-10-11    125.279663\n",
              "2013-10-12    125.927498\n",
              "Name: Price, dtype: float32"
            ]
          },
          "metadata": {},
          "execution_count": 85
        }
      ]
    },
    {
      "cell_type": "code",
      "source": [
        "# Make train and tests\n",
        "\n",
        "split_size = int(len(X)*0.8)\n",
        "X_train, y_train = X[:split_size], y[:split_size]\n",
        "X_test, y_test = X[split_size:], y[split_size:]\n",
        "len(X_train), len(y_train), len(X_test), len(y_test)"
      ],
      "metadata": {
        "colab": {
          "base_uri": "https://localhost:8080/"
        },
        "id": "8bOS7n-K3Dvd",
        "outputId": "1194b0aa-8f9c-4ec7-9a21-df07820299a8"
      },
      "execution_count": 86,
      "outputs": [
        {
          "output_type": "execute_result",
          "data": {
            "text/plain": [
              "(2224, 2224, 556, 556)"
            ]
          },
          "metadata": {},
          "execution_count": 86
        }
      ]
    },
    {
      "cell_type": "markdown",
      "source": [
        "### Model 6: Dense (multivariate time series)"
      ],
      "metadata": {
        "id": "KiLUh82Z36hi"
      }
    },
    {
      "cell_type": "code",
      "source": [
        "# Make multivariate time series model\n",
        "\n",
        "tf.random.set_seed(42)\n",
        "model_6 = tf.keras.Sequential([\n",
        "    layers.Dense(128, activation=\"relu\"),\n",
        "    # Layers.Dense(128, activation=\"relu\"), # Adding an extra layer here should lead to beating the native model\n",
        "    layers.Dense(HORIZON)\n",
        "], name=\"model_6_dense_multivariate\")\n",
        "\n",
        "# Compile\n",
        "model_6.compile(loss=\"mae\",\n",
        "                optimizer=tf.keras.optimizers.Adam())\n",
        "\n",
        "# Fit\n",
        "model_6.fit(X_train, y_train,\n",
        "            epochs=100,\n",
        "            batch_size=128,\n",
        "            verbose=0,\n",
        "            validation_data=(X_test, y_test),\n",
        "            callbacks=[create_model_checkpoint(model_name=model_6.name)])"
      ],
      "metadata": {
        "colab": {
          "base_uri": "https://localhost:8080/"
        },
        "id": "n3ULlaX53xqJ",
        "outputId": "2ec00b04-851b-48ea-fdf7-176353cc4ca1"
      },
      "execution_count": 87,
      "outputs": [
        {
          "output_type": "stream",
          "name": "stderr",
          "text": [
            "WARNING:absl:Found untraced functions such as _update_step_xla while saving (showing 1 of 1). These functions will not be directly callable after loading.\n",
            "WARNING:absl:Found untraced functions such as _update_step_xla while saving (showing 1 of 1). These functions will not be directly callable after loading.\n",
            "WARNING:absl:Found untraced functions such as _update_step_xla while saving (showing 1 of 1). These functions will not be directly callable after loading.\n",
            "WARNING:absl:Found untraced functions such as _update_step_xla while saving (showing 1 of 1). These functions will not be directly callable after loading.\n",
            "WARNING:absl:Found untraced functions such as _update_step_xla while saving (showing 1 of 1). These functions will not be directly callable after loading.\n",
            "WARNING:absl:Found untraced functions such as _update_step_xla while saving (showing 1 of 1). These functions will not be directly callable after loading.\n",
            "WARNING:absl:Found untraced functions such as _update_step_xla while saving (showing 1 of 1). These functions will not be directly callable after loading.\n",
            "WARNING:absl:Found untraced functions such as _update_step_xla while saving (showing 1 of 1). These functions will not be directly callable after loading.\n",
            "WARNING:absl:Found untraced functions such as _update_step_xla while saving (showing 1 of 1). These functions will not be directly callable after loading.\n",
            "WARNING:absl:Found untraced functions such as _update_step_xla while saving (showing 1 of 1). These functions will not be directly callable after loading.\n",
            "WARNING:absl:Found untraced functions such as _update_step_xla while saving (showing 1 of 1). These functions will not be directly callable after loading.\n",
            "WARNING:absl:Found untraced functions such as _update_step_xla while saving (showing 1 of 1). These functions will not be directly callable after loading.\n",
            "WARNING:absl:Found untraced functions such as _update_step_xla while saving (showing 1 of 1). These functions will not be directly callable after loading.\n",
            "WARNING:absl:Found untraced functions such as _update_step_xla while saving (showing 1 of 1). These functions will not be directly callable after loading.\n",
            "WARNING:absl:Found untraced functions such as _update_step_xla while saving (showing 1 of 1). These functions will not be directly callable after loading.\n",
            "WARNING:absl:Found untraced functions such as _update_step_xla while saving (showing 1 of 1). These functions will not be directly callable after loading.\n",
            "WARNING:absl:Found untraced functions such as _update_step_xla while saving (showing 1 of 1). These functions will not be directly callable after loading.\n",
            "WARNING:absl:Found untraced functions such as _update_step_xla while saving (showing 1 of 1). These functions will not be directly callable after loading.\n",
            "WARNING:absl:Found untraced functions such as _update_step_xla while saving (showing 1 of 1). These functions will not be directly callable after loading.\n",
            "WARNING:absl:Found untraced functions such as _update_step_xla while saving (showing 1 of 1). These functions will not be directly callable after loading.\n",
            "WARNING:absl:Found untraced functions such as _update_step_xla while saving (showing 1 of 1). These functions will not be directly callable after loading.\n",
            "WARNING:absl:Found untraced functions such as _update_step_xla while saving (showing 1 of 1). These functions will not be directly callable after loading.\n",
            "WARNING:absl:Found untraced functions such as _update_step_xla while saving (showing 1 of 1). These functions will not be directly callable after loading.\n",
            "WARNING:absl:Found untraced functions such as _update_step_xla while saving (showing 1 of 1). These functions will not be directly callable after loading.\n",
            "WARNING:absl:Found untraced functions such as _update_step_xla while saving (showing 1 of 1). These functions will not be directly callable after loading.\n",
            "WARNING:absl:Found untraced functions such as _update_step_xla while saving (showing 1 of 1). These functions will not be directly callable after loading.\n",
            "WARNING:absl:Found untraced functions such as _update_step_xla while saving (showing 1 of 1). These functions will not be directly callable after loading.\n",
            "WARNING:absl:Found untraced functions such as _update_step_xla while saving (showing 1 of 1). These functions will not be directly callable after loading.\n",
            "WARNING:absl:Found untraced functions such as _update_step_xla while saving (showing 1 of 1). These functions will not be directly callable after loading.\n",
            "WARNING:absl:Found untraced functions such as _update_step_xla while saving (showing 1 of 1). These functions will not be directly callable after loading.\n",
            "WARNING:absl:Found untraced functions such as _update_step_xla while saving (showing 1 of 1). These functions will not be directly callable after loading.\n"
          ]
        },
        {
          "output_type": "execute_result",
          "data": {
            "text/plain": [
              "<keras.callbacks.History at 0x7f9f300587f0>"
            ]
          },
          "metadata": {},
          "execution_count": 87
        }
      ]
    },
    {
      "cell_type": "code",
      "source": [
        "# Make sure best model is loaded and evaluate\n",
        "\n",
        "model_6 = tf.keras.models.load_model(\"model_experiments/model_6_dense_multivariate\")\n",
        "model_6.evaluate(X_test, y_test)"
      ],
      "metadata": {
        "colab": {
          "base_uri": "https://localhost:8080/"
        },
        "id": "O5UiqwM8508W",
        "outputId": "97a44fe1-62ea-4446-b8d6-afdcc98f232c"
      },
      "execution_count": 88,
      "outputs": [
        {
          "output_type": "stream",
          "name": "stdout",
          "text": [
            "18/18 [==============================] - 0s 4ms/step - loss: 564.8898\n"
          ]
        },
        {
          "output_type": "execute_result",
          "data": {
            "text/plain": [
              "564.8898315429688"
            ]
          },
          "metadata": {},
          "execution_count": 88
        }
      ]
    },
    {
      "cell_type": "code",
      "source": [
        "# Make predictions on multivariate data\n",
        "model_6_preds = tf.squeeze(model_6.predict(X_test))\n",
        "model_6_preds[:10]"
      ],
      "metadata": {
        "colab": {
          "base_uri": "https://localhost:8080/"
        },
        "id": "3KtB1XeW6Xjo",
        "outputId": "b7196f05-6f83-437a-8dcc-5f233a975da0"
      },
      "execution_count": 89,
      "outputs": [
        {
          "output_type": "stream",
          "name": "stdout",
          "text": [
            "18/18 [==============================] - 0s 3ms/step\n"
          ]
        },
        {
          "output_type": "execute_result",
          "data": {
            "text/plain": [
              "<tf.Tensor: shape=(10,), dtype=float32, numpy=\n",
              "array([8857.469, 8782.566, 8992.172, 8767.88 , 8785.323, 8722.324,\n",
              "       8659.417, 8533.103, 8455.426, 8508.308], dtype=float32)>"
            ]
          },
          "metadata": {},
          "execution_count": 89
        }
      ]
    },
    {
      "cell_type": "code",
      "source": [
        "# Evaluate preds\n",
        "\n",
        "model_6_results = evaluate_preds(y_true=y_test,\n",
        "                                 y_pred=model_6_preds)\n",
        "model_6_results"
      ],
      "metadata": {
        "colab": {
          "base_uri": "https://localhost:8080/"
        },
        "id": "OkaNsOsM6oxS",
        "outputId": "ee9b8ccf-e048-413f-9f80-9e1b7ede3331"
      },
      "execution_count": 90,
      "outputs": [
        {
          "output_type": "execute_result",
          "data": {
            "text/plain": [
              "{'mae': 564.8898,\n",
              " 'mse': 1160270.5,\n",
              " 'rmse': 1077.1586,\n",
              " 'mape': 2.5452483,\n",
              " 'mase': 0.99235487}"
            ]
          },
          "metadata": {},
          "execution_count": 90
        }
      ]
    },
    {
      "cell_type": "code",
      "source": [
        "model_1_results"
      ],
      "metadata": {
        "colab": {
          "base_uri": "https://localhost:8080/"
        },
        "id": "DBAQP8KD7EMS",
        "outputId": "6990cae4-79bd-4c95-84ee-612cb55b1cd0"
      },
      "execution_count": 91,
      "outputs": [
        {
          "output_type": "execute_result",
          "data": {
            "text/plain": [
              "{'mae': 577.7945,\n",
              " 'mse': 1187824.8,\n",
              " 'rmse': 1089.8737,\n",
              " 'mape': 2.5777857,\n",
              " 'mase': 1.0150249}"
            ]
          },
          "metadata": {},
          "execution_count": 91
        }
      ]
    },
    {
      "cell_type": "markdown",
      "source": [
        "### Model 7: N-BEATS algorithm"
      ],
      "metadata": {
        "id": "mZ4aO42N-IjJ"
      }
    },
    {
      "cell_type": "code",
      "source": [
        "# Create NBeatsBlock custom layer\n",
        "\n",
        "class NBeatsBlock(tf.keras.layers.Layer):\n",
        "  def __init__(self, # the constructor takes all the hyperparameters for the layer\n",
        "               input_size: int,\n",
        "               theta_size: int,\n",
        "               horizon: int,\n",
        "               n_neurons: int,\n",
        "               n_layers: int,\n",
        "               **kwargs): # the **kwargs takes crae of all the parameters for the parent class\n",
        "    super().__init__(**kwargs)\n",
        "    self.input_size = input_size\n",
        "    self.theta_size = theta_size\n",
        "    self.horizon = horizon\n",
        "    self.n_neurons = n_neurons\n",
        "    self.n_layers = n_layers\n",
        "\n",
        "    # Block contains stack of 4 fully connected layers each has ReLU activation\n",
        "    self.hidden = [tf.keras.layers.Dense(n_neurons, activation=\"relu\") for _ in range(n_layers)]\n",
        "    # Output of block is theta layerwith linear activation\n",
        "    self.theta_layer = tf.keras.layers.Dense(theta_size, activation=\"linear\", name=\"theta\")\n",
        "\n",
        "  def call(self, inputs):\n",
        "    x = inputs\n",
        "    for layer in self.hidden:\n",
        "      x = layer(x)\n",
        "    theta = self.theta_layer(x)\n",
        "    # Output the backcast and forecast from theta\n",
        "    backcast, forecast = theta[:, :self.input_size], theta[:, -self.horizon]\n",
        "\n",
        "    return backcast, forecast"
      ],
      "metadata": {
        "id": "f5FO7y3N7Hw6"
      },
      "execution_count": 94,
      "outputs": []
    },
    {
      "cell_type": "code",
      "source": [
        "# Setup dummy NBeatsBlock layer to represent inouts and outputs\n",
        "\n",
        "dummy_nbeats_block_layer = NBeatsBlock(input_size=WINDOW_SIZE,\n",
        "                                       theta_size=WINDOW_SIZE+HORIZON,\n",
        "                                       horizon=HORIZON,\n",
        "                                       n_neurons=128,\n",
        "                                       n_layers=4)"
      ],
      "metadata": {
        "id": "SEAc1kLz_lY6"
      },
      "execution_count": 95,
      "outputs": []
    },
    {
      "cell_type": "code",
      "source": [
        "# Create dummy inputs (have to be same size as input size)\n",
        "dummy_inputs = tf.expand_dims(tf.range(WINDOW_SIZE)+1, axis=0)\n",
        "dummy_inputs"
      ],
      "metadata": {
        "colab": {
          "base_uri": "https://localhost:8080/"
        },
        "id": "oKFK3QUZDs19",
        "outputId": "b9b80fa6-feef-433f-992f-b8ae8157a472"
      },
      "execution_count": 97,
      "outputs": [
        {
          "output_type": "execute_result",
          "data": {
            "text/plain": [
              "<tf.Tensor: shape=(1, 7), dtype=int32, numpy=array([[1, 2, 3, 4, 5, 6, 7]], dtype=int32)>"
            ]
          },
          "metadata": {},
          "execution_count": 97
        }
      ]
    },
    {
      "cell_type": "code",
      "source": [
        "# Pass dummy inputs to dummy NBeatsBlock layer\n",
        "backcast, forecast = dummy_nbeats_block_layer(dummy_inputs)\n",
        "print(f\"Backcast: {tf.squeeze(backcast.numpy())}\")\n",
        "print(f\"Forecast: {tf.squeeze(forecast.numpy())}\")"
      ],
      "metadata": {
        "colab": {
          "base_uri": "https://localhost:8080/"
        },
        "id": "NK6PlnVuEGjr",
        "outputId": "e4e95774-20b4-4987-eaa3-249d82d6a667"
      },
      "execution_count": 99,
      "outputs": [
        {
          "output_type": "stream",
          "name": "stdout",
          "text": [
            "Backcast: [-0.05759348  0.3533038   0.30096102 -0.33361572  0.16517143  1.1511495\n",
            " -0.9043986 ]\n",
            "Forecast: 0.42734265327453613\n"
          ]
        }
      ]
    },
    {
      "cell_type": "code",
      "source": [],
      "metadata": {
        "id": "bZINJoqREkzM"
      },
      "execution_count": null,
      "outputs": []
    }
  ]
}