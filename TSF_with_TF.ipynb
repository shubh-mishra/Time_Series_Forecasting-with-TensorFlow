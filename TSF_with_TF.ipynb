{
  "nbformat": 4,
  "nbformat_minor": 0,
  "metadata": {
    "colab": {
      "provenance": []
    },
    "kernelspec": {
      "name": "python3",
      "display_name": "Python 3"
    },
    "language_info": {
      "name": "python"
    },
    "accelerator": "GPU",
    "gpuClass": "standard"
  },
  "cells": [
    {
      "cell_type": "markdown",
      "source": [
        "# Time Series Forecasting with TensorFlow"
      ],
      "metadata": {
        "id": "0w8JoogvZb3m"
      }
    },
    {
      "cell_type": "markdown",
      "source": [
        "### Contents of this notebook\n",
        "  * Get the time series data\n",
        "    * Load the time series data using Pandas/Python,s CSV module\n",
        "  * Format data for a time series problem\n",
        "    * Creating training and test sets (the wrong way)\n",
        "    * Creating training and test sets (the right way)\n",
        "    * Visualizing time series data\n",
        "    * Turning time series data into a supervised learning problem (windowing)\n",
        "    * Preparing univariate and multivariate\n",
        "  * Evaluating a time series forecasting model\n",
        "  * Setting up a series of deep learning modelling experiments\n",
        "    * Dense (fully-connected) networks\n",
        "    * Sequence models (LSTM and 1D CNN)\n",
        "    * Ensembling (combining multiple models together)\n",
        "    * Multivariate models\n",
        "    * Replicating the N-BEATS algorithm using TensorFlow layer subclassing\n",
        "  * Creating a model checkpoint to save the best performing model during training\n",
        "  * Making predictions (forecasts) with a time series model\n",
        "  * Creating prediction intervals for the time series model forecasts\n",
        "  * Discussing two different types of uncertainity in machine learning (data uncertainity and model uncertainity)\n",
        "  * Demonstrating why forecasting in an open system is BS (the turkey problem)"
      ],
      "metadata": {
        "id": "6Q2zvb4mZuEe"
      }
    },
    {
      "cell_type": "markdown",
      "source": [
        "### Check for GPU"
      ],
      "metadata": {
        "id": "xF6e0yL_cLWE"
      }
    },
    {
      "cell_type": "code",
      "execution_count": 1,
      "metadata": {
        "colab": {
          "base_uri": "https://localhost:8080/"
        },
        "id": "5G9S5O1-ZSw7",
        "outputId": "515e8080-3ec3-4869-a69e-9548240368db"
      },
      "outputs": [
        {
          "output_type": "stream",
          "name": "stdout",
          "text": [
            "GPU 0: Tesla T4 (UUID: GPU-d8e47627-a654-cc13-5f18-9dde3467d9bc)\n"
          ]
        }
      ],
      "source": [
        "# Check for GPU\n",
        "!nvidia-smi -L"
      ]
    },
    {
      "cell_type": "code",
      "source": [],
      "metadata": {
        "id": "qIx9yY30cT-M"
      },
      "execution_count": null,
      "outputs": []
    }
  ]
}