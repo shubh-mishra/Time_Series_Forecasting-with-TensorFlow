{
  "nbformat": 4,
  "nbformat_minor": 0,
  "metadata": {
    "colab": {
      "provenance": []
    },
    "kernelspec": {
      "name": "python3",
      "display_name": "Python 3"
    },
    "language_info": {
      "name": "python"
    },
    "accelerator": "GPU",
    "gpuClass": "standard"
  },
  "cells": [
    {
      "cell_type": "markdown",
      "source": [
        "# Time Series Forecasting with TensorFlow"
      ],
      "metadata": {
        "id": "0w8JoogvZb3m"
      }
    },
    {
      "cell_type": "markdown",
      "source": [
        "### Contents of this notebook\n",
        "  * Get the time series data\n",
        "    * Load the time series data using Pandas/Python,s CSV module\n",
        "  * Format data for a time series problem\n",
        "    * Creating training and test sets (the wrong way)\n",
        "    * Creating training and test sets (the right way)\n",
        "    * Visualizing time series data\n",
        "    * Turning time series data into a supervised learning problem (windowing)\n",
        "    * Preparing univariate and multivariate\n",
        "  * Evaluating a time series forecasting model\n",
        "  * Setting up a series of deep learning modelling experiments\n",
        "    * Dense (fully-connected) networks\n",
        "    * Sequence models (LSTM and 1D CNN)\n",
        "    * Ensembling (combining multiple models together)\n",
        "    * Multivariate models\n",
        "    * Replicating the N-BEATS algorithm using TensorFlow layer subclassing\n",
        "  * Creating a model checkpoint to save the best performing model during training\n",
        "  * Making predictions (forecasts) with a time series model\n",
        "  * Creating prediction intervals for the time series model forecasts\n",
        "  * Discussing two different types of uncertainity in machine learning (data uncertainity and model uncertainity)\n",
        "  * Demonstrating why forecasting in an open system is BS (the turkey problem)"
      ],
      "metadata": {
        "id": "6Q2zvb4mZuEe"
      }
    },
    {
      "cell_type": "markdown",
      "source": [
        "### Check for GPU"
      ],
      "metadata": {
        "id": "xF6e0yL_cLWE"
      }
    },
    {
      "cell_type": "code",
      "execution_count": 1,
      "metadata": {
        "colab": {
          "base_uri": "https://localhost:8080/"
        },
        "id": "5G9S5O1-ZSw7",
        "outputId": "c546ba6b-b0d2-407e-d3f0-4d342ea05fc4"
      },
      "outputs": [
        {
          "output_type": "stream",
          "name": "stdout",
          "text": [
            "GPU 0: Tesla T4 (UUID: GPU-d9ea2554-d9c2-b958-dfa3-144f9247e399)\n"
          ]
        }
      ],
      "source": [
        "# Check for GPU\n",
        "!nvidia-smi -L"
      ]
    },
    {
      "cell_type": "markdown",
      "source": [
        "## Get data"
      ],
      "metadata": {
        "id": "qkmWlSy1CSfP"
      }
    },
    {
      "cell_type": "code",
      "source": [
        "# Download Bitcoin historical data from GitHub\n",
        "!wget https://raw.githubusercontent.com/mrdbourke/tensorflow-deep-learning/main/extras/BTC_USD_2013-10-01_2021-05-18-CoinDesk.csv"
      ],
      "metadata": {
        "colab": {
          "base_uri": "https://localhost:8080/"
        },
        "id": "qIx9yY30cT-M",
        "outputId": "62a8f99b-5db6-4fe8-a44b-65fac58a161b"
      },
      "execution_count": 2,
      "outputs": [
        {
          "output_type": "stream",
          "name": "stdout",
          "text": [
            "--2023-02-27 17:53:28--  https://raw.githubusercontent.com/mrdbourke/tensorflow-deep-learning/main/extras/BTC_USD_2013-10-01_2021-05-18-CoinDesk.csv\n",
            "Resolving raw.githubusercontent.com (raw.githubusercontent.com)... 185.199.108.133, 185.199.109.133, 185.199.110.133, ...\n",
            "Connecting to raw.githubusercontent.com (raw.githubusercontent.com)|185.199.108.133|:443... connected.\n",
            "HTTP request sent, awaiting response... 200 OK\n",
            "Length: 178509 (174K) [text/plain]\n",
            "Saving to: ‘BTC_USD_2013-10-01_2021-05-18-CoinDesk.csv’\n",
            "\n",
            "BTC_USD_2013-10-01_ 100%[===================>] 174.33K  --.-KB/s    in 0.003s  \n",
            "\n",
            "2023-02-27 17:53:28 (61.6 MB/s) - ‘BTC_USD_2013-10-01_2021-05-18-CoinDesk.csv’ saved [178509/178509]\n",
            "\n"
          ]
        }
      ]
    },
    {
      "cell_type": "markdown",
      "source": [
        "### Importing time series data with pandas"
      ],
      "metadata": {
        "id": "HSYf_IzbDJqz"
      }
    },
    {
      "cell_type": "code",
      "source": [
        "# Import with pandas\n",
        "import pandas as pd\n",
        "import numpy as np\n",
        "df = pd.read_csv('/content/BTC_USD_2013-10-01_2021-05-18-CoinDesk.csv',\n",
        "                 parse_dates=['Date'],\n",
        "                 index_col=['Date'])"
      ],
      "metadata": {
        "id": "CccBhLmlDFVC"
      },
      "execution_count": 3,
      "outputs": []
    },
    {
      "cell_type": "code",
      "source": [
        "df.head()"
      ],
      "metadata": {
        "colab": {
          "base_uri": "https://localhost:8080/",
          "height": 237
        },
        "id": "qYRO_BYFDm6d",
        "outputId": "28a2530c-9004-4906-e862-a84874a01c4f"
      },
      "execution_count": 4,
      "outputs": [
        {
          "output_type": "execute_result",
          "data": {
            "text/plain": [
              "           Currency  Closing Price (USD)  24h Open (USD)  24h High (USD)  \\\n",
              "Date                                                                       \n",
              "2013-10-01      BTC            123.65499       124.30466       124.75166   \n",
              "2013-10-02      BTC            125.45500       123.65499       125.75850   \n",
              "2013-10-03      BTC            108.58483       125.45500       125.66566   \n",
              "2013-10-04      BTC            118.67466       108.58483       118.67500   \n",
              "2013-10-05      BTC            121.33866       118.67466       121.93633   \n",
              "\n",
              "            24h Low (USD)  \n",
              "Date                       \n",
              "2013-10-01      122.56349  \n",
              "2013-10-02      123.63383  \n",
              "2013-10-03       83.32833  \n",
              "2013-10-04      107.05816  \n",
              "2013-10-05      118.00566  "
            ],
            "text/html": [
              "\n",
              "  <div id=\"df-56326c71-6ab1-41e9-8214-e19a5e607480\">\n",
              "    <div class=\"colab-df-container\">\n",
              "      <div>\n",
              "<style scoped>\n",
              "    .dataframe tbody tr th:only-of-type {\n",
              "        vertical-align: middle;\n",
              "    }\n",
              "\n",
              "    .dataframe tbody tr th {\n",
              "        vertical-align: top;\n",
              "    }\n",
              "\n",
              "    .dataframe thead th {\n",
              "        text-align: right;\n",
              "    }\n",
              "</style>\n",
              "<table border=\"1\" class=\"dataframe\">\n",
              "  <thead>\n",
              "    <tr style=\"text-align: right;\">\n",
              "      <th></th>\n",
              "      <th>Currency</th>\n",
              "      <th>Closing Price (USD)</th>\n",
              "      <th>24h Open (USD)</th>\n",
              "      <th>24h High (USD)</th>\n",
              "      <th>24h Low (USD)</th>\n",
              "    </tr>\n",
              "    <tr>\n",
              "      <th>Date</th>\n",
              "      <th></th>\n",
              "      <th></th>\n",
              "      <th></th>\n",
              "      <th></th>\n",
              "      <th></th>\n",
              "    </tr>\n",
              "  </thead>\n",
              "  <tbody>\n",
              "    <tr>\n",
              "      <th>2013-10-01</th>\n",
              "      <td>BTC</td>\n",
              "      <td>123.65499</td>\n",
              "      <td>124.30466</td>\n",
              "      <td>124.75166</td>\n",
              "      <td>122.56349</td>\n",
              "    </tr>\n",
              "    <tr>\n",
              "      <th>2013-10-02</th>\n",
              "      <td>BTC</td>\n",
              "      <td>125.45500</td>\n",
              "      <td>123.65499</td>\n",
              "      <td>125.75850</td>\n",
              "      <td>123.63383</td>\n",
              "    </tr>\n",
              "    <tr>\n",
              "      <th>2013-10-03</th>\n",
              "      <td>BTC</td>\n",
              "      <td>108.58483</td>\n",
              "      <td>125.45500</td>\n",
              "      <td>125.66566</td>\n",
              "      <td>83.32833</td>\n",
              "    </tr>\n",
              "    <tr>\n",
              "      <th>2013-10-04</th>\n",
              "      <td>BTC</td>\n",
              "      <td>118.67466</td>\n",
              "      <td>108.58483</td>\n",
              "      <td>118.67500</td>\n",
              "      <td>107.05816</td>\n",
              "    </tr>\n",
              "    <tr>\n",
              "      <th>2013-10-05</th>\n",
              "      <td>BTC</td>\n",
              "      <td>121.33866</td>\n",
              "      <td>118.67466</td>\n",
              "      <td>121.93633</td>\n",
              "      <td>118.00566</td>\n",
              "    </tr>\n",
              "  </tbody>\n",
              "</table>\n",
              "</div>\n",
              "      <button class=\"colab-df-convert\" onclick=\"convertToInteractive('df-56326c71-6ab1-41e9-8214-e19a5e607480')\"\n",
              "              title=\"Convert this dataframe to an interactive table.\"\n",
              "              style=\"display:none;\">\n",
              "        \n",
              "  <svg xmlns=\"http://www.w3.org/2000/svg\" height=\"24px\"viewBox=\"0 0 24 24\"\n",
              "       width=\"24px\">\n",
              "    <path d=\"M0 0h24v24H0V0z\" fill=\"none\"/>\n",
              "    <path d=\"M18.56 5.44l.94 2.06.94-2.06 2.06-.94-2.06-.94-.94-2.06-.94 2.06-2.06.94zm-11 1L8.5 8.5l.94-2.06 2.06-.94-2.06-.94L8.5 2.5l-.94 2.06-2.06.94zm10 10l.94 2.06.94-2.06 2.06-.94-2.06-.94-.94-2.06-.94 2.06-2.06.94z\"/><path d=\"M17.41 7.96l-1.37-1.37c-.4-.4-.92-.59-1.43-.59-.52 0-1.04.2-1.43.59L10.3 9.45l-7.72 7.72c-.78.78-.78 2.05 0 2.83L4 21.41c.39.39.9.59 1.41.59.51 0 1.02-.2 1.41-.59l7.78-7.78 2.81-2.81c.8-.78.8-2.07 0-2.86zM5.41 20L4 18.59l7.72-7.72 1.47 1.35L5.41 20z\"/>\n",
              "  </svg>\n",
              "      </button>\n",
              "      \n",
              "  <style>\n",
              "    .colab-df-container {\n",
              "      display:flex;\n",
              "      flex-wrap:wrap;\n",
              "      gap: 12px;\n",
              "    }\n",
              "\n",
              "    .colab-df-convert {\n",
              "      background-color: #E8F0FE;\n",
              "      border: none;\n",
              "      border-radius: 50%;\n",
              "      cursor: pointer;\n",
              "      display: none;\n",
              "      fill: #1967D2;\n",
              "      height: 32px;\n",
              "      padding: 0 0 0 0;\n",
              "      width: 32px;\n",
              "    }\n",
              "\n",
              "    .colab-df-convert:hover {\n",
              "      background-color: #E2EBFA;\n",
              "      box-shadow: 0px 1px 2px rgba(60, 64, 67, 0.3), 0px 1px 3px 1px rgba(60, 64, 67, 0.15);\n",
              "      fill: #174EA6;\n",
              "    }\n",
              "\n",
              "    [theme=dark] .colab-df-convert {\n",
              "      background-color: #3B4455;\n",
              "      fill: #D2E3FC;\n",
              "    }\n",
              "\n",
              "    [theme=dark] .colab-df-convert:hover {\n",
              "      background-color: #434B5C;\n",
              "      box-shadow: 0px 1px 3px 1px rgba(0, 0, 0, 0.15);\n",
              "      filter: drop-shadow(0px 1px 2px rgba(0, 0, 0, 0.3));\n",
              "      fill: #FFFFFF;\n",
              "    }\n",
              "  </style>\n",
              "\n",
              "      <script>\n",
              "        const buttonEl =\n",
              "          document.querySelector('#df-56326c71-6ab1-41e9-8214-e19a5e607480 button.colab-df-convert');\n",
              "        buttonEl.style.display =\n",
              "          google.colab.kernel.accessAllowed ? 'block' : 'none';\n",
              "\n",
              "        async function convertToInteractive(key) {\n",
              "          const element = document.querySelector('#df-56326c71-6ab1-41e9-8214-e19a5e607480');\n",
              "          const dataTable =\n",
              "            await google.colab.kernel.invokeFunction('convertToInteractive',\n",
              "                                                     [key], {});\n",
              "          if (!dataTable) return;\n",
              "\n",
              "          const docLinkHtml = 'Like what you see? Visit the ' +\n",
              "            '<a target=\"_blank\" href=https://colab.research.google.com/notebooks/data_table.ipynb>data table notebook</a>'\n",
              "            + ' to learn more about interactive tables.';\n",
              "          element.innerHTML = '';\n",
              "          dataTable['output_type'] = 'display_data';\n",
              "          await google.colab.output.renderOutput(dataTable, element);\n",
              "          const docLink = document.createElement('div');\n",
              "          docLink.innerHTML = docLinkHtml;\n",
              "          element.appendChild(docLink);\n",
              "        }\n",
              "      </script>\n",
              "    </div>\n",
              "  </div>\n",
              "  "
            ]
          },
          "metadata": {},
          "execution_count": 4
        }
      ]
    },
    {
      "cell_type": "code",
      "source": [
        "df.info()"
      ],
      "metadata": {
        "colab": {
          "base_uri": "https://localhost:8080/"
        },
        "id": "oDeBOuRTDtyb",
        "outputId": "1bd26781-ba66-4da5-d9e2-b642fbc10180"
      },
      "execution_count": 5,
      "outputs": [
        {
          "output_type": "stream",
          "name": "stdout",
          "text": [
            "<class 'pandas.core.frame.DataFrame'>\n",
            "DatetimeIndex: 2787 entries, 2013-10-01 to 2021-05-18\n",
            "Data columns (total 5 columns):\n",
            " #   Column               Non-Null Count  Dtype  \n",
            "---  ------               --------------  -----  \n",
            " 0   Currency             2787 non-null   object \n",
            " 1   Closing Price (USD)  2787 non-null   float64\n",
            " 2   24h Open (USD)       2787 non-null   float64\n",
            " 3   24h High (USD)       2787 non-null   float64\n",
            " 4   24h Low (USD)        2787 non-null   float64\n",
            "dtypes: float64(4), object(1)\n",
            "memory usage: 130.6+ KB\n"
          ]
        }
      ]
    },
    {
      "cell_type": "code",
      "source": [
        "df.shape"
      ],
      "metadata": {
        "colab": {
          "base_uri": "https://localhost:8080/"
        },
        "id": "_UpS-_04D0xW",
        "outputId": "e80a6c7f-24ac-47f1-a6c6-42eca2ca2372"
      },
      "execution_count": 6,
      "outputs": [
        {
          "output_type": "execute_result",
          "data": {
            "text/plain": [
              "(2787, 5)"
            ]
          },
          "metadata": {},
          "execution_count": 6
        }
      ]
    },
    {
      "cell_type": "code",
      "source": [
        "# Only want closing price for each day\n",
        "bitcoin_prices = pd.DataFrame(df['Closing Price (USD)']).rename(columns={'Closing Price (USD)': 'Price'})\n",
        "bitcoin_prices.head()"
      ],
      "metadata": {
        "colab": {
          "base_uri": "https://localhost:8080/",
          "height": 237
        },
        "id": "VF3K-owOEUPm",
        "outputId": "e0cd975d-d8f4-4e30-c698-e0b3bb5f82c8"
      },
      "execution_count": 7,
      "outputs": [
        {
          "output_type": "execute_result",
          "data": {
            "text/plain": [
              "                Price\n",
              "Date                 \n",
              "2013-10-01  123.65499\n",
              "2013-10-02  125.45500\n",
              "2013-10-03  108.58483\n",
              "2013-10-04  118.67466\n",
              "2013-10-05  121.33866"
            ],
            "text/html": [
              "\n",
              "  <div id=\"df-1aecaa74-94a8-4710-b96e-0637ba4bb98d\">\n",
              "    <div class=\"colab-df-container\">\n",
              "      <div>\n",
              "<style scoped>\n",
              "    .dataframe tbody tr th:only-of-type {\n",
              "        vertical-align: middle;\n",
              "    }\n",
              "\n",
              "    .dataframe tbody tr th {\n",
              "        vertical-align: top;\n",
              "    }\n",
              "\n",
              "    .dataframe thead th {\n",
              "        text-align: right;\n",
              "    }\n",
              "</style>\n",
              "<table border=\"1\" class=\"dataframe\">\n",
              "  <thead>\n",
              "    <tr style=\"text-align: right;\">\n",
              "      <th></th>\n",
              "      <th>Price</th>\n",
              "    </tr>\n",
              "    <tr>\n",
              "      <th>Date</th>\n",
              "      <th></th>\n",
              "    </tr>\n",
              "  </thead>\n",
              "  <tbody>\n",
              "    <tr>\n",
              "      <th>2013-10-01</th>\n",
              "      <td>123.65499</td>\n",
              "    </tr>\n",
              "    <tr>\n",
              "      <th>2013-10-02</th>\n",
              "      <td>125.45500</td>\n",
              "    </tr>\n",
              "    <tr>\n",
              "      <th>2013-10-03</th>\n",
              "      <td>108.58483</td>\n",
              "    </tr>\n",
              "    <tr>\n",
              "      <th>2013-10-04</th>\n",
              "      <td>118.67466</td>\n",
              "    </tr>\n",
              "    <tr>\n",
              "      <th>2013-10-05</th>\n",
              "      <td>121.33866</td>\n",
              "    </tr>\n",
              "  </tbody>\n",
              "</table>\n",
              "</div>\n",
              "      <button class=\"colab-df-convert\" onclick=\"convertToInteractive('df-1aecaa74-94a8-4710-b96e-0637ba4bb98d')\"\n",
              "              title=\"Convert this dataframe to an interactive table.\"\n",
              "              style=\"display:none;\">\n",
              "        \n",
              "  <svg xmlns=\"http://www.w3.org/2000/svg\" height=\"24px\"viewBox=\"0 0 24 24\"\n",
              "       width=\"24px\">\n",
              "    <path d=\"M0 0h24v24H0V0z\" fill=\"none\"/>\n",
              "    <path d=\"M18.56 5.44l.94 2.06.94-2.06 2.06-.94-2.06-.94-.94-2.06-.94 2.06-2.06.94zm-11 1L8.5 8.5l.94-2.06 2.06-.94-2.06-.94L8.5 2.5l-.94 2.06-2.06.94zm10 10l.94 2.06.94-2.06 2.06-.94-2.06-.94-.94-2.06-.94 2.06-2.06.94z\"/><path d=\"M17.41 7.96l-1.37-1.37c-.4-.4-.92-.59-1.43-.59-.52 0-1.04.2-1.43.59L10.3 9.45l-7.72 7.72c-.78.78-.78 2.05 0 2.83L4 21.41c.39.39.9.59 1.41.59.51 0 1.02-.2 1.41-.59l7.78-7.78 2.81-2.81c.8-.78.8-2.07 0-2.86zM5.41 20L4 18.59l7.72-7.72 1.47 1.35L5.41 20z\"/>\n",
              "  </svg>\n",
              "      </button>\n",
              "      \n",
              "  <style>\n",
              "    .colab-df-container {\n",
              "      display:flex;\n",
              "      flex-wrap:wrap;\n",
              "      gap: 12px;\n",
              "    }\n",
              "\n",
              "    .colab-df-convert {\n",
              "      background-color: #E8F0FE;\n",
              "      border: none;\n",
              "      border-radius: 50%;\n",
              "      cursor: pointer;\n",
              "      display: none;\n",
              "      fill: #1967D2;\n",
              "      height: 32px;\n",
              "      padding: 0 0 0 0;\n",
              "      width: 32px;\n",
              "    }\n",
              "\n",
              "    .colab-df-convert:hover {\n",
              "      background-color: #E2EBFA;\n",
              "      box-shadow: 0px 1px 2px rgba(60, 64, 67, 0.3), 0px 1px 3px 1px rgba(60, 64, 67, 0.15);\n",
              "      fill: #174EA6;\n",
              "    }\n",
              "\n",
              "    [theme=dark] .colab-df-convert {\n",
              "      background-color: #3B4455;\n",
              "      fill: #D2E3FC;\n",
              "    }\n",
              "\n",
              "    [theme=dark] .colab-df-convert:hover {\n",
              "      background-color: #434B5C;\n",
              "      box-shadow: 0px 1px 3px 1px rgba(0, 0, 0, 0.15);\n",
              "      filter: drop-shadow(0px 1px 2px rgba(0, 0, 0, 0.3));\n",
              "      fill: #FFFFFF;\n",
              "    }\n",
              "  </style>\n",
              "\n",
              "      <script>\n",
              "        const buttonEl =\n",
              "          document.querySelector('#df-1aecaa74-94a8-4710-b96e-0637ba4bb98d button.colab-df-convert');\n",
              "        buttonEl.style.display =\n",
              "          google.colab.kernel.accessAllowed ? 'block' : 'none';\n",
              "\n",
              "        async function convertToInteractive(key) {\n",
              "          const element = document.querySelector('#df-1aecaa74-94a8-4710-b96e-0637ba4bb98d');\n",
              "          const dataTable =\n",
              "            await google.colab.kernel.invokeFunction('convertToInteractive',\n",
              "                                                     [key], {});\n",
              "          if (!dataTable) return;\n",
              "\n",
              "          const docLinkHtml = 'Like what you see? Visit the ' +\n",
              "            '<a target=\"_blank\" href=https://colab.research.google.com/notebooks/data_table.ipynb>data table notebook</a>'\n",
              "            + ' to learn more about interactive tables.';\n",
              "          element.innerHTML = '';\n",
              "          dataTable['output_type'] = 'display_data';\n",
              "          await google.colab.output.renderOutput(dataTable, element);\n",
              "          const docLink = document.createElement('div');\n",
              "          docLink.innerHTML = docLinkHtml;\n",
              "          element.appendChild(docLink);\n",
              "        }\n",
              "      </script>\n",
              "    </div>\n",
              "  </div>\n",
              "  "
            ]
          },
          "metadata": {},
          "execution_count": 7
        }
      ]
    },
    {
      "cell_type": "code",
      "source": [
        "# Visulaizing data\n",
        "import matplotlib.pyplot as plt\n",
        "bitcoin_prices.plot(figsize=(10, 7))\n",
        "plt.ylabel('BTC Price')\n",
        "plt.title('Price of Bitcoin from 1 Oct 2013 to 18 May 2021', fontsize=16)\n",
        "plt.legend(fontsize=14)"
      ],
      "metadata": {
        "colab": {
          "base_uri": "https://localhost:8080/",
          "height": 477
        },
        "id": "TbkLAN_0FVYy",
        "outputId": "16624edd-b704-4327-d143-0781d4a44cea"
      },
      "execution_count": 8,
      "outputs": [
        {
          "output_type": "execute_result",
          "data": {
            "text/plain": [
              "<matplotlib.legend.Legend at 0x7f7c8d5a05b0>"
            ]
          },
          "metadata": {},
          "execution_count": 8
        },
        {
          "output_type": "display_data",
          "data": {
            "text/plain": [
              "<Figure size 720x504 with 1 Axes>"
            ],
            "image/png": "[encoded data removed]"
          },
          "metadata": {
            "needs_background": "light"
          }
        }
      ]
    },
    {
      "cell_type": "markdown",
      "source": [
        "### Importing time series data with Python's CSV module"
      ],
      "metadata": {
        "id": "sJTzfAWTGPFT"
      }
    },
    {
      "cell_type": "code",
      "source": [
        "# Importing and formatting historical Bitcoin data with Python\n",
        "\n",
        "import csv\n",
        "from datetime import datetime\n",
        "\n",
        "timesteps = []\n",
        "btc_price = []\n",
        "with open('/content/BTC_USD_2013-10-01_2021-05-18-CoinDesk.csv') as f:\n",
        "  csv_reader = csv.reader(f, delimiter=',')\n",
        "  next(csv_reader)\n",
        "  for line in csv_reader:\n",
        "    timesteps.append(datetime.strptime(line[1], \"%Y-%m-%d\"))\n",
        "    btc_price.append(float(line[2]))\n",
        "\n",
        "# View first 10 of each\n",
        "\n",
        "timesteps[:10], btc_price[:10]"
      ],
      "metadata": {
        "colab": {
          "base_uri": "https://localhost:8080/"
        },
        "id": "iGnvksqrGLF8",
        "outputId": "ee9324d0-437f-4296-8af6-2011fb803b6d"
      },
      "execution_count": 9,
      "outputs": [
        {
          "output_type": "execute_result",
          "data": {
            "text/plain": [
              "([datetime.datetime(2013, 10, 1, 0, 0),\n",
              "  datetime.datetime(2013, 10, 2, 0, 0),\n",
              "  datetime.datetime(2013, 10, 3, 0, 0),\n",
              "  datetime.datetime(2013, 10, 4, 0, 0),\n",
              "  datetime.datetime(2013, 10, 5, 0, 0),\n",
              "  datetime.datetime(2013, 10, 6, 0, 0),\n",
              "  datetime.datetime(2013, 10, 7, 0, 0),\n",
              "  datetime.datetime(2013, 10, 8, 0, 0),\n",
              "  datetime.datetime(2013, 10, 9, 0, 0),\n",
              "  datetime.datetime(2013, 10, 10, 0, 0)],\n",
              " [123.65499,\n",
              "  125.455,\n",
              "  108.58483,\n",
              "  118.67466,\n",
              "  121.33866,\n",
              "  120.65533,\n",
              "  121.795,\n",
              "  123.033,\n",
              "  124.049,\n",
              "  125.96116])"
            ]
          },
          "metadata": {},
          "execution_count": 9
        }
      ]
    },
    {
      "cell_type": "code",
      "source": [
        "# Plot from CSV\n",
        "import matplotlib.pyplot as plt\n",
        "plt.figure(figsize=(10, 7))\n",
        "plt.plot(timesteps, btc_price)\n",
        "plt.ylabel('BTC Price')\n",
        "plt.title('Price of Bitcoin from 1 Oct 2013 to 18 May 2021', fontsize=16)\n",
        "plt.xlabel('Date')"
      ],
      "metadata": {
        "colab": {
          "base_uri": "https://localhost:8080/",
          "height": 477
        },
        "id": "qBOzExKVH5MY",
        "outputId": "d2a7fb21-373c-40f1-9850-143ebefd05ca"
      },
      "execution_count": 10,
      "outputs": [
        {
          "output_type": "execute_result",
          "data": {
            "text/plain": [
              "Text(0.5, 0, 'Date')"
            ]
          },
          "metadata": {},
          "execution_count": 10
        },
        {
          "output_type": "display_data",
          "data": {
            "text/plain": [
              "<Figure size 720x504 with 1 Axes>"
            ],
            "image/png": "[encoded data removed]"
          },
          "metadata": {
            "needs_background": "light"
          }
        }
      ]
    },
    {
      "cell_type": "markdown",
      "source": [
        "## Formatting data for time series problem"
      ],
      "metadata": {
        "id": "kDch2yFnKIUM"
      }
    },
    {
      "cell_type": "markdown",
      "source": [
        "### Creating train and test sets for time series data (the wrong way)"
      ],
      "metadata": {
        "id": "8mZmNjyCKNU8"
      }
    },
    {
      "cell_type": "code",
      "source": [
        "# Get Bitcoin date array\n",
        "\n",
        "timesteps = bitcoin_prices.index.to_numpy()\n",
        "prices = bitcoin_prices['Price'].to_numpy()\n",
        "\n",
        "timesteps[:10], prices[:10]"
      ],
      "metadata": {
        "colab": {
          "base_uri": "https://localhost:8080/"
        },
        "id": "DnfJTaXLIu9x",
        "outputId": "6f6648dc-730a-416f-b730-344b0637c97b"
      },
      "execution_count": 11,
      "outputs": [
        {
          "output_type": "execute_result",
          "data": {
            "text/plain": [
              "(array(['2013-10-01T00:00:00.000000000', '2013-10-02T00:00:00.000000000',\n",
              "        '2013-10-03T00:00:00.000000000', '2013-10-04T00:00:00.000000000',\n",
              "        '2013-10-05T00:00:00.000000000', '2013-10-06T00:00:00.000000000',\n",
              "        '2013-10-07T00:00:00.000000000', '2013-10-08T00:00:00.000000000',\n",
              "        '2013-10-09T00:00:00.000000000', '2013-10-10T00:00:00.000000000'],\n",
              "       dtype='datetime64[ns]'),\n",
              " array([123.65499, 125.455  , 108.58483, 118.67466, 121.33866, 120.65533,\n",
              "        121.795  , 123.033  , 124.049  , 125.96116]))"
            ]
          },
          "metadata": {},
          "execution_count": 11
        }
      ]
    },
    {
      "cell_type": "code",
      "source": [
        "# Wrong way to make train test split\n",
        "\n",
        "from sklearn.model_selection import train_test_split\n",
        "X_train, X_test, y_train, y_test = train_test_split(timesteps,\n",
        "                                                    prices,\n",
        "                                                    test_size=0.2,\n",
        "                                                    random_state=42)\n",
        "X_train.shape, X_test.shape, y_train.shape, y_test.shape"
      ],
      "metadata": {
        "colab": {
          "base_uri": "https://localhost:8080/"
        },
        "id": "vqlUhjJULTK3",
        "outputId": "88c2bb27-153e-4f97-ee2a-bfcaa2b61dd5"
      },
      "execution_count": 12,
      "outputs": [
        {
          "output_type": "execute_result",
          "data": {
            "text/plain": [
              "((2229,), (558,), (2229,), (558,))"
            ]
          },
          "metadata": {},
          "execution_count": 12
        }
      ]
    },
    {
      "cell_type": "code",
      "source": [
        "# Plotting wrong train and test splits\n",
        "\n",
        "plt.figure(figsize=(10, 7))\n",
        "plt.scatter(X_train, y_train, s=5, label='Train data')\n",
        "plt.scatter(X_test, y_test, s=5, label='Test data')\n",
        "plt.xlabel('Date')\n",
        "plt.ylabel('BTC Price')\n",
        "plt.legend(fontsize=14)\n",
        "plt.show()"
      ],
      "metadata": {
        "colab": {
          "base_uri": "https://localhost:8080/",
          "height": 442
        },
        "id": "AT8nCaLAMAev",
        "outputId": "60600eaa-20c6-4eaf-b265-e59522a21d0f"
      },
      "execution_count": 13,
      "outputs": [
        {
          "output_type": "display_data",
          "data": {
            "text/plain": [
              "<Figure size 720x504 with 1 Axes>"
            ],
            "image/png": "[encoded data removed]"
          },
          "metadata": {
            "needs_background": "light"
          }
        }
      ]
    },
    {
      "cell_type": "markdown",
      "source": [
        "### Creating train and test sets for time series data (the right way)"
      ],
      "metadata": {
        "id": "zlqfQuVxOLez"
      }
    },
    {
      "cell_type": "code",
      "source": [
        "split_size = int(0.8 * len(prices))\n",
        "\n",
        "X_train, y_train = timesteps[0:split_size], prices[:split_size]\n",
        "\n",
        "X_test, y_test = timesteps[split_size:], prices[split_size:]\n",
        "\n",
        "len(X_train), len(X_test), len(y_train), len(y_test)"
      ],
      "metadata": {
        "colab": {
          "base_uri": "https://localhost:8080/"
        },
        "id": "gV8dMGg5M5zk",
        "outputId": "e0de7af3-7546-4f6a-867f-66ef88e54f0b"
      },
      "execution_count": 14,
      "outputs": [
        {
          "output_type": "execute_result",
          "data": {
            "text/plain": [
              "(2229, 558, 2229, 558)"
            ]
          },
          "metadata": {},
          "execution_count": 14
        }
      ]
    },
    {
      "cell_type": "code",
      "source": [
        "# Plot correctly made splits\n",
        "\n",
        "plt.figure(figsize=(10, 7))\n",
        "plt.scatter(X_train, y_train, s=5, label='Train data')\n",
        "plt.scatter(X_test, y_test, s=5, label='Test data')\n",
        "plt.xlabel('Date')\n",
        "plt.ylabel('BTC Price')\n",
        "plt.legend(fontsize=14)\n",
        "plt.show()"
      ],
      "metadata": {
        "colab": {
          "base_uri": "https://localhost:8080/",
          "height": 442
        },
        "id": "xiFfNRa8PF6S",
        "outputId": "248709e9-7fdf-4363-80a0-cbf2690cea17"
      },
      "execution_count": 15,
      "outputs": [
        {
          "output_type": "display_data",
          "data": {
            "text/plain": [
              "<Figure size 720x504 with 1 Axes>"
            ],
            "image/png": "[encoded data removed]"
          },
          "metadata": {
            "needs_background": "light"
          }
        }
      ]
    },
    {
      "cell_type": "markdown",
      "source": [
        "### Creating a plotting function"
      ],
      "metadata": {
        "id": "QZIaqB4fP5f-"
      }
    },
    {
      "cell_type": "code",
      "source": [
        "def plot_time_series(timesteps, values, format='.', start=0, end=None, label=None):\n",
        "  plt.plot(timesteps[start:end], values[start:end], format, label=label)\n",
        "  plt.xlabel('Time')\n",
        "  plt.ylabel('BTC Price')\n",
        "  if label:\n",
        "    plt.legend(fontsize=14)\n",
        "  plt.grid(True) "
      ],
      "metadata": {
        "id": "bOQp_MxvP0R7"
      },
      "execution_count": 16,
      "outputs": []
    },
    {
      "cell_type": "code",
      "source": [
        "# Try out our plotting function\n",
        "\n",
        "plt.figure(figsize=(10, 7))\n",
        "plot_time_series(timesteps=X_train, values=y_train, label='Train data')\n",
        "plot_time_series(timesteps=X_test, values=y_test, label='Test data')"
      ],
      "metadata": {
        "colab": {
          "base_uri": "https://localhost:8080/",
          "height": 442
        },
        "id": "NxSMbI3GRaVW",
        "outputId": "394e3692-6332-41dd-98c6-35f4b5cef664"
      },
      "execution_count": 17,
      "outputs": [
        {
          "output_type": "display_data",
          "data": {
            "text/plain": [
              "<Figure size 720x504 with 1 Axes>"
            ],
            "image/png": "[encoded data removed]"
          },
          "metadata": {
            "needs_background": "light"
          }
        }
      ]
    },
    {
      "cell_type": "markdown",
      "source": [
        "## Modelling Experiments"
      ],
      "metadata": {
        "id": "BfgMr9kUb5mH"
      }
    },
    {
      "cell_type": "markdown",
      "source": [
        "### Model 0: Naive Forecast (baseline)"
      ],
      "metadata": {
        "id": "rpB-eC7ob87b"
      }
    },
    {
      "cell_type": "code",
      "source": [
        "# Create a naive forecast\n",
        "\n",
        "naive_forecast = y_test[:-1]\n",
        "naive_forecast[:10], naive_forecast[-10:]"
      ],
      "metadata": {
        "id": "pmwXESXCR4W5",
        "colab": {
          "base_uri": "https://localhost:8080/"
        },
        "outputId": "3fafeab9-a2ac-4fe1-f78b-1161fb1dcdbb"
      },
      "execution_count": 18,
      "outputs": [
        {
          "output_type": "execute_result",
          "data": {
            "text/plain": [
              "(array([9226.48582088, 8794.35864452, 8798.04205463, 9081.18687849,\n",
              "        8711.53433917, 8760.89271814, 8749.52059102, 8656.97092235,\n",
              "        8500.64355816, 8469.2608989 ]),\n",
              " array([57107.12067189, 58788.20967893, 58102.19142623, 55715.54665129,\n",
              "        56573.5554719 , 52147.82118698, 49764.1320816 , 50032.69313676,\n",
              "        47885.62525472, 45604.61575361]))"
            ]
          },
          "metadata": {},
          "execution_count": 18
        }
      ]
    },
    {
      "cell_type": "code",
      "source": [
        "# Plot naive forecast\n",
        "\n",
        "plt.figure(figsize=(10, 7))\n",
        "plot_time_series(timesteps=X_train, values=y_train, label='Train data')\n",
        "plot_time_series(timesteps=X_test, values=y_test, label='Test data')\n",
        "plot_time_series(timesteps=X_test[1:], values=naive_forecast, label='Naive Forecast')"
      ],
      "metadata": {
        "colab": {
          "base_uri": "https://localhost:8080/",
          "height": 442
        },
        "id": "o0SYgJp0c7iJ",
        "outputId": "1b170f31-f0dc-4bfd-a439-758c85649e86"
      },
      "execution_count": 19,
      "outputs": [
        {
          "output_type": "display_data",
          "data": {
            "text/plain": [
              "<Figure size 720x504 with 1 Axes>"
            ],
            "image/png": "[encoded data removed]"
          },
          "metadata": {
            "needs_background": "light"
          }
        }
      ]
    },
    {
      "cell_type": "code",
      "source": [
        "# Zooming in the plot\n",
        "\n",
        "plt.figure(figsize=(10, 7))\n",
        "offset = 300\n",
        "plot_time_series(timesteps=X_test, values=y_test, start=offset, label='Test data')\n",
        "plot_time_series(timesteps=X_test[1:], values=naive_forecast, start=offset, format='-', label='Naive forecast')\n"
      ],
      "metadata": {
        "colab": {
          "base_uri": "https://localhost:8080/",
          "height": 442
        },
        "id": "0oTrV_iKeDJG",
        "outputId": "7c9803a9-0da2-4803-a995-7add2f669ec6"
      },
      "execution_count": 20,
      "outputs": [
        {
          "output_type": "display_data",
          "data": {
            "text/plain": [
              "<Figure size 720x504 with 1 Axes>"
            ],
            "image/png": "[encoded data removed]"
          },
          "metadata": {
            "needs_background": "light"
          }
        }
      ]
    },
    {
      "cell_type": "markdown",
      "source": [
        "### Evaluating a time series model"
      ],
      "metadata": {
        "id": "sanRTmVuf1Nn"
      }
    },
    {
      "cell_type": "code",
      "source": [
        "import tensorflow as tf"
      ],
      "metadata": {
        "id": "OvW8fMQ4faf-"
      },
      "execution_count": 21,
      "outputs": []
    },
    {
      "cell_type": "code",
      "source": [
        "# Create a function to calculate MASE (mean absolute scaled error)\n",
        "\n",
        "def mean_absolute_scaled_error(y_true, y_pred):\n",
        "  \n",
        "  mae = tf.reduce_mean(tf.abs(y_true - y_pred))\n",
        "  mae_naive_no_season = tf.reduce_mean(tf.abs(y_true[1:]-y_true[:-1]))\n",
        "  \n",
        "  return mae/mae_naive_no_season"
      ],
      "metadata": {
        "id": "QM1clImrhVrn"
      },
      "execution_count": 22,
      "outputs": []
    },
    {
      "cell_type": "code",
      "source": [
        "# Create a function to calculate results (predictions)\n",
        "\n",
        "def evaluate_preds(y_true, y_pred):\n",
        "\n",
        "  y_true = tf.cast(y_true, dtype=tf.float32)\n",
        "  y_pred = tf.cast(y_pred, dtype=tf.float32)\n",
        "\n",
        "  mae = tf.keras.metrics.mean_absolute_error(y_true, y_pred)\n",
        "  mape = tf.keras.metrics.mean_absolute_percentage_error(y_true, y_pred)\n",
        "  mse = tf.keras.metrics.mean_squared_error(y_true, y_pred)\n",
        "  rmse = tf.sqrt(mse)\n",
        "  mase = mean_absolute_scaled_error(y_true, y_pred)\n",
        "\n",
        "  return {\"mae\": mae.numpy(),\n",
        "          \"mse\": mse.numpy(),\n",
        "          \"rmse\": rmse.numpy(),\n",
        "          \"mape\": mape.numpy(),\n",
        "          \"mase\": mase.numpy()}"
      ],
      "metadata": {
        "id": "XBtQtFGOiLrB"
      },
      "execution_count": 23,
      "outputs": []
    },
    {
      "cell_type": "code",
      "source": [
        "naive_results = evaluate_preds(y_true=y_test[1:], y_pred=naive_forecast)\n",
        "naive_results"
      ],
      "metadata": {
        "colab": {
          "base_uri": "https://localhost:8080/"
        },
        "id": "x7es2RpTkshz",
        "outputId": "264d97f6-4134-48b9-9a81-e9c6beed9536"
      },
      "execution_count": 24,
      "outputs": [
        {
          "output_type": "execute_result",
          "data": {
            "text/plain": [
              "{'mae': 567.9802,\n",
              " 'mse': 1147547.0,\n",
              " 'rmse': 1071.2362,\n",
              " 'mape': 2.516525,\n",
              " 'mase': 0.99957}"
            ]
          },
          "metadata": {},
          "execution_count": 24
        }
      ]
    },
    {
      "cell_type": "markdown",
      "source": [
        "### Other models/libraries for time series forecasting\n",
        "  * Moving average\n",
        "  * ARIMA (AutoRegression Integrated Moving Average)\n",
        "  * Sktime (Scikit-learn for time series)\n",
        "  * TensorFlow Decision Forecasts (random forest, gradient boosting trees)\n",
        "  * Facebook Kats (purpose built forecasting and time series analysis library by facebook)\n",
        "  * LinkedIn Greykite (flexible, intuitive and fast forecasts)\n"
      ],
      "metadata": {
        "id": "TV-DO7-MluR4"
      }
    },
    {
      "cell_type": "markdown",
      "source": [
        "### Windowing dataset"
      ],
      "metadata": {
        "id": "I22RSH9sn3ln"
      }
    },
    {
      "cell_type": "code",
      "source": [
        "HORIZON = 1           # Predict 1 step at a time\n",
        "WINDOW_SIZE = 7       # Use a week worth of timestamps to predict the horizon"
      ],
      "metadata": {
        "id": "a70thobTlPuh"
      },
      "execution_count": 25,
      "outputs": []
    },
    {
      "cell_type": "code",
      "source": [
        "# Create a function to label windowed data\n",
        "\n",
        "def get_labelled_windows(x, horizon=1):\n",
        "\n",
        "  return x[:,:-horizon], x[:,-horizon:]"
      ],
      "metadata": {
        "id": "VPKDC6yciCQY"
      },
      "execution_count": 26,
      "outputs": []
    },
    {
      "cell_type": "code",
      "source": [
        "# Test out the window labelling function\n",
        "\n",
        "test_window, test_label = get_labelled_windows(tf.expand_dims(tf.range(8)+1, axis=0), horizon=HORIZON)\n",
        "print(f\"Window: {test_window} -> Label: {test_label}\")"
      ],
      "metadata": {
        "colab": {
          "base_uri": "https://localhost:8080/"
        },
        "id": "IUX9-nrCigQh",
        "outputId": "cd0de6c3-808b-4e65-ddf1-428179d10039"
      },
      "execution_count": 27,
      "outputs": [
        {
          "output_type": "stream",
          "name": "stdout",
          "text": [
            "Window: [[1 2 3 4 5 6 7]] -> Label: [[8]]\n"
          ]
        }
      ]
    },
    {
      "cell_type": "code",
      "source": [
        "# Create a function to view NumPy arrays as windows\n",
        "\n",
        "def make_windows(x, window_size=7, horizon=1):\n",
        "\n",
        "  # 1. Create a window of specific window size (add the horizon on the end for later labelling)\n",
        "  window_step = np.expand_dims(np.arange(window_size+horizon), axis=0)\n",
        "\n",
        "  # 2. Create a 2D array of multiple window steps (minus 1 to account for zero indexing)\n",
        "  window_indexes = window_step + np.expand_dims(np.arange(len(x) - (window_size+horizon-1)), axis=0).T\n",
        "\n",
        "  # 3. Index on the target array (time series) with 2D array of multiple window steps\n",
        "  windowed_array = x[window_indexes]\n",
        "\n",
        "  # 4. Get the labelled windows\n",
        "  windows, labels = get_labelled_windows(windowed_array, horizon=horizon)\n",
        "\n",
        "  return windows, labels"
      ],
      "metadata": {
        "id": "gpxsb2UFjMnm"
      },
      "execution_count": 28,
      "outputs": []
    },
    {
      "cell_type": "code",
      "source": [
        "full_windows, full_labels = make_windows(prices, window_size=WINDOW_SIZE, horizon=HORIZON)\n",
        "len(full_windows), len(full_labels)"
      ],
      "metadata": {
        "colab": {
          "base_uri": "https://localhost:8080/"
        },
        "id": "_5vi0FoVmn6E",
        "outputId": "c355e03a-4f44-4e1d-98cc-a8d14ce727ae"
      },
      "execution_count": 29,
      "outputs": [
        {
          "output_type": "execute_result",
          "data": {
            "text/plain": [
              "(2780, 2780)"
            ]
          },
          "metadata": {},
          "execution_count": 29
        }
      ]
    },
    {
      "cell_type": "code",
      "source": [
        "# View the first three windows/labels\n",
        "\n",
        "for i in range(3):\n",
        "  print(f\"Window: {full_windows[i]} -> Label: {full_labels[i]}\")"
      ],
      "metadata": {
        "colab": {
          "base_uri": "https://localhost:8080/"
        },
        "id": "3cp-Yq6Kodhs",
        "outputId": "ca6fcde1-d5ae-49ee-91cd-d37eb38ebfaa"
      },
      "execution_count": 30,
      "outputs": [
        {
          "output_type": "stream",
          "name": "stdout",
          "text": [
            "Window: [123.65499 125.455   108.58483 118.67466 121.33866 120.65533 121.795  ] -> Label: [123.033]\n",
            "Window: [125.455   108.58483 118.67466 121.33866 120.65533 121.795   123.033  ] -> Label: [124.049]\n",
            "Window: [108.58483 118.67466 121.33866 120.65533 121.795   123.033   124.049  ] -> Label: [125.96116]\n"
          ]
        }
      ]
    },
    {
      "cell_type": "markdown",
      "source": [
        "### Turning windows into training and test sets"
      ],
      "metadata": {
        "id": "L1GLRpXNplZa"
      }
    },
    {
      "cell_type": "code",
      "source": [
        "# Make the train test split\n",
        "\n",
        "def make_train_test_split(windows, labels, test_split=0.2):\n",
        "\n",
        "  split_size = int(len(windows) * (1-test_split))\n",
        "  train_windows = windows[:split_size]\n",
        "  train_labels = labels[:split_size]\n",
        "  test_windows = windows[split_size:]\n",
        "  test_labels = labels[split_size:]\n",
        "\n",
        "  return train_windows, test_windows, train_labels, test_labels"
      ],
      "metadata": {
        "id": "Z_Lz-h6HpRke"
      },
      "execution_count": 31,
      "outputs": []
    },
    {
      "cell_type": "code",
      "source": [
        "train_windows, test_windows, train_labels, test_labels = make_train_test_split(full_windows, full_labels)\n",
        "len(train_windows), len(test_windows), len(train_labels), len(test_labels)"
      ],
      "metadata": {
        "colab": {
          "base_uri": "https://localhost:8080/"
        },
        "id": "TJwMFnKArrGT",
        "outputId": "ae42d3ea-165e-4711-b323-c633a82168f0"
      },
      "execution_count": 32,
      "outputs": [
        {
          "output_type": "execute_result",
          "data": {
            "text/plain": [
              "(2224, 556, 2224, 556)"
            ]
          },
          "metadata": {},
          "execution_count": 32
        }
      ]
    },
    {
      "cell_type": "code",
      "source": [
        "train_windows[:5], train_labels[:5]"
      ],
      "metadata": {
        "colab": {
          "base_uri": "https://localhost:8080/"
        },
        "id": "mdae9nPmr-TP",
        "outputId": "a9765414-6fd4-4cc9-944d-5134cae453db"
      },
      "execution_count": 33,
      "outputs": [
        {
          "output_type": "execute_result",
          "data": {
            "text/plain": [
              "(array([[123.65499, 125.455  , 108.58483, 118.67466, 121.33866, 120.65533,\n",
              "         121.795  ],\n",
              "        [125.455  , 108.58483, 118.67466, 121.33866, 120.65533, 121.795  ,\n",
              "         123.033  ],\n",
              "        [108.58483, 118.67466, 121.33866, 120.65533, 121.795  , 123.033  ,\n",
              "         124.049  ],\n",
              "        [118.67466, 121.33866, 120.65533, 121.795  , 123.033  , 124.049  ,\n",
              "         125.96116],\n",
              "        [121.33866, 120.65533, 121.795  , 123.033  , 124.049  , 125.96116,\n",
              "         125.27966]]), array([[123.033  ],\n",
              "        [124.049  ],\n",
              "        [125.96116],\n",
              "        [125.27966],\n",
              "        [125.9275 ]]))"
            ]
          },
          "metadata": {},
          "execution_count": 33
        }
      ]
    },
    {
      "cell_type": "markdown",
      "source": [
        "### Make modelling checkpoint"
      ],
      "metadata": {
        "id": "TgtlgPZPsjEu"
      }
    },
    {
      "cell_type": "code",
      "source": [
        "import os\n",
        "\n",
        "# Create a function ti implement model checkpoint callback with a specific filename\n",
        "\n",
        "def create_model_checkpoint(model_name, save_path=\"model_experiments\"):\n",
        "  \n",
        "  return tf.keras.callbacks.ModelCheckpoint(filepath=os.path.join(save_path, model_name),\n",
        "                                            verbose=0,\n",
        "                                            save_best_only=True)"
      ],
      "metadata": {
        "id": "qFXvvNMYslwM"
      },
      "execution_count": 34,
      "outputs": []
    },
    {
      "cell_type": "markdown",
      "source": [
        "### Model 1: Dense model (window = 7, horizon = 1)"
      ],
      "metadata": {
        "id": "Z9baqLMTd2nL"
      }
    },
    {
      "cell_type": "code",
      "source": [
        "import tensorflow as tf\n",
        "from tensorflow.keras import layers\n",
        "\n",
        "# Set seed\n",
        "tf.random.set_seed(42)\n",
        "\n",
        "# Construct model\n",
        "model_1 = tf.keras.Sequential([\n",
        "    layers.Dense(128, activation=\"relu\"),\n",
        "    layers.Dense(HORIZON, activation=\"linear\")\n",
        "], name=\"model_1_dense\")\n",
        "\n",
        "# Compile model\n",
        "model_1.compile(loss=\"mae\",\n",
        "                optimizer=tf.keras.optimizers.Adam(),\n",
        "                metrics=[\"mae\"])\n",
        "\n",
        "# Fit model\n",
        "model_1.fit(x=train_windows,\n",
        "            y=train_labels,\n",
        "            epochs=100,\n",
        "            verbose=1,\n",
        "            batch_size=128,\n",
        "            validation_data=(test_windows, test_labels),\n",
        "            callbacks=[create_model_checkpoint(model_name=model_1.name)])"
      ],
      "metadata": {
        "colab": {
          "base_uri": "https://localhost:8080/"
        },
        "id": "N3JjZ0mzu6_9",
        "outputId": "b29c8fc0-bab9-4f83-ba3a-9563bb000137"
      },
      "execution_count": 35,
      "outputs": [
        {
          "output_type": "stream",
          "name": "stdout",
          "text": [
            "Epoch 1/100\n",
            "18/18 [==============================] - ETA: 0s - loss: 2815.2039 - mae: 2815.2039"
          ]
        },
        {
          "output_type": "stream",
          "name": "stderr",
          "text": [
            "WARNING:absl:Found untraced functions such as _update_step_xla while saving (showing 1 of 1). These functions will not be directly callable after loading.\n"
          ]
        },
        {
          "output_type": "stream",
          "name": "stdout",
          "text": [
            "\b\b\b\b\b\b\b\b\b\b\b\b\b\b\b\b\b\b\b\b\b\b\b\b\b\b\b\b\b\b\b\b\b\b\b\b\b\b\b\b\b\b\b\b\b\b\b\b\b\b\b\b\b\b\b\b\b\b\b\b\b\b\b\b\b\b\b\b\b\b\b\b\b\b\b\b\b\b\b\b\b\b\b\r18/18 [==============================] - 8s 97ms/step - loss: 2815.2039 - mae: 2815.2039 - val_loss: 5023.9062 - val_mae: 5023.9062\n",
            "Epoch 2/100\n",
            "11/18 [=================>............] - ETA: 0s - loss: 451.8616 - mae: 451.8616"
          ]
        },
        {
          "output_type": "stream",
          "name": "stderr",
          "text": [
            "WARNING:absl:Found untraced functions such as _update_step_xla while saving (showing 1 of 1). These functions will not be directly callable after loading.\n"
          ]
        },
        {
          "output_type": "stream",
          "name": "stdout",
          "text": [
            "\b\b\b\b\b\b\b\b\b\b\b\b\b\b\b\b\b\b\b\b\b\b\b\b\b\b\b\b\b\b\b\b\b\b\b\b\b\b\b\b\b\b\b\b\b\b\b\b\b\b\b\b\b\b\b\b\b\b\b\b\b\b\b\b\b\b\b\b\b\b\b\b\b\b\b\b\b\b\b\b\b\r18/18 [==============================] - 1s 60ms/step - loss: 412.0780 - mae: 412.0780 - val_loss: 1242.4548 - val_mae: 1242.4548\n",
            "Epoch 3/100\n",
            "15/18 [========================>.....] - ETA: 0s - loss: 227.5244 - mae: 227.5244"
          ]
        },
        {
          "output_type": "stream",
          "name": "stderr",
          "text": [
            "WARNING:absl:Found untraced functions such as _update_step_xla while saving (showing 1 of 1). These functions will not be directly callable after loading.\n"
          ]
        },
        {
          "output_type": "stream",
          "name": "stdout",
          "text": [
            "\b\b\b\b\b\b\b\b\b\b\b\b\b\b\b\b\b\b\b\b\b\b\b\b\b\b\b\b\b\b\b\b\b\b\b\b\b\b\b\b\b\b\b\b\b\b\b\b\b\b\b\b\b\b\b\b\b\b\b\b\b\b\b\b\b\b\b\b\b\b\b\b\b\b\b\b\b\b\b\b\b\r18/18 [==============================] - 1s 88ms/step - loss: 222.3726 - mae: 222.3726 - val_loss: 989.8345 - val_mae: 989.8345\n",
            "Epoch 4/100\n",
            "18/18 [==============================] - ETA: 0s - loss: 177.7150 - mae: 177.7150"
          ]
        },
        {
          "output_type": "stream",
          "name": "stderr",
          "text": [
            "WARNING:absl:Found untraced functions such as _update_step_xla while saving (showing 1 of 1). These functions will not be directly callable after loading.\n"
          ]
        },
        {
          "output_type": "stream",
          "name": "stdout",
          "text": [
            "\b\b\b\b\b\b\b\b\b\b\b\b\b\b\b\b\b\b\b\b\b\b\b\b\b\b\b\b\b\b\b\b\b\b\b\b\b\b\b\b\b\b\b\b\b\b\b\b\b\b\b\b\b\b\b\b\b\b\b\b\b\b\b\b\b\b\b\b\b\b\b\b\b\b\b\b\b\b\b\b\b\r18/18 [==============================] - 1s 73ms/step - loss: 177.7150 - mae: 177.7150 - val_loss: 953.3420 - val_mae: 953.3420\n",
            "Epoch 5/100\n",
            "18/18 [==============================] - 0s 14ms/step - loss: 172.6308 - mae: 172.6308 - val_loss: 986.1180 - val_mae: 986.1180\n",
            "Epoch 6/100\n",
            "15/18 [========================>.....] - ETA: 0s - loss: 167.6015 - mae: 167.6015"
          ]
        },
        {
          "output_type": "stream",
          "name": "stderr",
          "text": [
            "WARNING:absl:Found untraced functions such as _update_step_xla while saving (showing 1 of 1). These functions will not be directly callable after loading.\n"
          ]
        },
        {
          "output_type": "stream",
          "name": "stdout",
          "text": [
            "\b\b\b\b\b\b\b\b\b\b\b\b\b\b\b\b\b\b\b\b\b\b\b\b\b\b\b\b\b\b\b\b\b\b\b\b\b\b\b\b\b\b\b\b\b\b\b\b\b\b\b\b\b\b\b\b\b\b\b\b\b\b\b\b\b\b\b\b\b\b\b\b\b\b\b\b\b\b\b\b\b\r18/18 [==============================] - 1s 49ms/step - loss: 167.1591 - mae: 167.1591 - val_loss: 913.3704 - val_mae: 913.3704\n",
            "Epoch 7/100\n",
            "14/18 [======================>.......] - ETA: 0s - loss: 168.6122 - mae: 168.6122"
          ]
        },
        {
          "output_type": "stream",
          "name": "stderr",
          "text": [
            "WARNING:absl:Found untraced functions such as _update_step_xla while saving (showing 1 of 1). These functions will not be directly callable after loading.\n"
          ]
        },
        {
          "output_type": "stream",
          "name": "stdout",
          "text": [
            "\b\b\b\b\b\b\b\b\b\b\b\b\b\b\b\b\b\b\b\b\b\b\b\b\b\b\b\b\b\b\b\b\b\b\b\b\b\b\b\b\b\b\b\b\b\b\b\b\b\b\b\b\b\b\b\b\b\b\b\b\b\b\b\b\b\b\b\b\b\b\b\b\b\b\b\b\b\b\b\b\b\r18/18 [==============================] - 1s 55ms/step - loss: 162.0413 - mae: 162.0413 - val_loss: 908.6212 - val_mae: 908.6212\n",
            "Epoch 8/100\n",
            "14/18 [======================>.......] - ETA: 0s - loss: 156.2281 - mae: 156.2281"
          ]
        },
        {
          "output_type": "stream",
          "name": "stderr",
          "text": [
            "WARNING:absl:Found untraced functions such as _update_step_xla while saving (showing 1 of 1). These functions will not be directly callable after loading.\n"
          ]
        },
        {
          "output_type": "stream",
          "name": "stdout",
          "text": [
            "\b\b\b\b\b\b\b\b\b\b\b\b\b\b\b\b\b\b\b\b\b\b\b\b\b\b\b\b\b\b\b\b\b\b\b\b\b\b\b\b\b\b\b\b\b\b\b\b\b\b\b\b\b\b\b\b\b\b\b\b\b\b\b\b\b\b\b\b\b\b\b\b\b\b\b\b\b\b\b\b\b\r18/18 [==============================] - 1s 59ms/step - loss: 158.1908 - mae: 158.1908 - val_loss: 868.6873 - val_mae: 868.6873\n",
            "Epoch 9/100\n",
            "18/18 [==============================] - 0s 7ms/step - loss: 156.4045 - mae: 156.4045 - val_loss: 898.8521 - val_mae: 898.8521\n",
            "Epoch 10/100\n",
            "14/18 [======================>.......] - ETA: 0s - loss: 148.7298 - mae: 148.7298"
          ]
        },
        {
          "output_type": "stream",
          "name": "stderr",
          "text": [
            "WARNING:absl:Found untraced functions such as _update_step_xla while saving (showing 1 of 1). These functions will not be directly callable after loading.\n"
          ]
        },
        {
          "output_type": "stream",
          "name": "stdout",
          "text": [
            "\b\b\b\b\b\b\b\b\b\b\b\b\b\b\b\b\b\b\b\b\b\b\b\b\b\b\b\b\b\b\b\b\b\b\b\b\b\b\b\b\b\b\b\b\b\b\b\b\b\b\b\b\b\b\b\b\b\b\b\b\b\b\b\b\b\b\b\b\b\b\b\b\b\b\b\b\b\b\b\b\b\r18/18 [==============================] - 1s 49ms/step - loss: 152.1206 - mae: 152.1206 - val_loss: 826.8824 - val_mae: 826.8824\n",
            "Epoch 11/100\n",
            "14/18 [======================>.......] - ETA: 0s - loss: 151.4177 - mae: 151.4177"
          ]
        },
        {
          "output_type": "stream",
          "name": "stderr",
          "text": [
            "WARNING:absl:Found untraced functions such as _update_step_xla while saving (showing 1 of 1). These functions will not be directly callable after loading.\n"
          ]
        },
        {
          "output_type": "stream",
          "name": "stdout",
          "text": [
            "\b\b\b\b\b\b\b\b\b\b\b\b\b\b\b\b\b\b\b\b\b\b\b\b\b\b\b\b\b\b\b\b\b\b\b\b\b\b\b\b\b\b\b\b\b\b\b\b\b\b\b\b\b\b\b\b\b\b\b\b\b\b\b\b\b\b\b\b\b\b\b\b\b\b\b\b\b\b\b\b\b\r18/18 [==============================] - 1s 49ms/step - loss: 149.1620 - mae: 149.1620 - val_loss: 818.5511 - val_mae: 818.5511\n",
            "Epoch 12/100\n",
            "18/18 [==============================] - 0s 15ms/step - loss: 145.7330 - mae: 145.7330 - val_loss: 856.8476 - val_mae: 856.8476\n",
            "Epoch 13/100\n",
            "18/18 [==============================] - 0s 17ms/step - loss: 145.7786 - mae: 145.7786 - val_loss: 831.8348 - val_mae: 831.8348\n",
            "Epoch 14/100\n",
            "18/18 [==============================] - 0s 8ms/step - loss: 143.2645 - mae: 143.2645 - val_loss: 824.0334 - val_mae: 824.0334\n",
            "Epoch 15/100\n",
            "13/18 [====================>.........] - ETA: 0s - loss: 138.2464 - mae: 138.2464"
          ]
        },
        {
          "output_type": "stream",
          "name": "stderr",
          "text": [
            "WARNING:absl:Found untraced functions such as _update_step_xla while saving (showing 1 of 1). These functions will not be directly callable after loading.\n"
          ]
        },
        {
          "output_type": "stream",
          "name": "stdout",
          "text": [
            "\b\b\b\b\b\b\b\b\b\b\b\b\b\b\b\b\b\b\b\b\b\b\b\b\b\b\b\b\b\b\b\b\b\b\b\b\b\b\b\b\b\b\b\b\b\b\b\b\b\b\b\b\b\b\b\b\b\b\b\b\b\b\b\b\b\b\b\b\b\b\b\b\b\b\b\b\b\b\b\b\b\r18/18 [==============================] - 1s 53ms/step - loss: 141.4447 - mae: 141.4447 - val_loss: 771.6739 - val_mae: 771.6739\n",
            "Epoch 16/100\n",
            "18/18 [==============================] - 0s 14ms/step - loss: 137.6863 - mae: 137.6863 - val_loss: 776.9847 - val_mae: 776.9847\n",
            "Epoch 17/100\n",
            "11/18 [=================>............] - ETA: 0s - loss: 141.6174 - mae: 141.6174"
          ]
        },
        {
          "output_type": "stream",
          "name": "stderr",
          "text": [
            "WARNING:absl:Found untraced functions such as _update_step_xla while saving (showing 1 of 1). These functions will not be directly callable after loading.\n"
          ]
        },
        {
          "output_type": "stream",
          "name": "stdout",
          "text": [
            "\b\b\b\b\b\b\b\b\b\b\b\b\b\b\b\b\b\b\b\b\b\b\b\b\b\b\b\b\b\b\b\b\b\b\b\b\b\b\b\b\b\b\b\b\b\b\b\b\b\b\b\b\b\b\b\b\b\b\b\b\b\b\b\b\b\b\b\b\b\b\b\b\b\b\b\b\b\b\b\b\b\r18/18 [==============================] - 1s 83ms/step - loss: 137.0860 - mae: 137.0860 - val_loss: 766.9623 - val_mae: 766.9623\n",
            "Epoch 18/100\n",
            "11/18 [=================>............] - ETA: 0s - loss: 141.4730 - mae: 141.4730"
          ]
        },
        {
          "output_type": "stream",
          "name": "stderr",
          "text": [
            "WARNING:absl:Found untraced functions such as _update_step_xla while saving (showing 1 of 1). These functions will not be directly callable after loading.\n"
          ]
        },
        {
          "output_type": "stream",
          "name": "stdout",
          "text": [
            "\b\b\b\b\b\b\b\b\b\b\b\b\b\b\b\b\b\b\b\b\b\b\b\b\b\b\b\b\b\b\b\b\b\b\b\b\b\b\b\b\b\b\b\b\b\b\b\b\b\b\b\b\b\b\b\b\b\b\b\b\b\b\b\b\b\b\b\b\b\b\b\b\b\b\b\b\b\b\b\b\b\r18/18 [==============================] - 1s 72ms/step - loss: 135.3879 - mae: 135.3879 - val_loss: 743.2287 - val_mae: 743.2288\n",
            "Epoch 19/100\n",
            "18/18 [==============================] - 0s 12ms/step - loss: 132.9140 - mae: 132.9140 - val_loss: 756.2451 - val_mae: 756.2451\n",
            "Epoch 20/100\n",
            "18/18 [==============================] - ETA: 0s - loss: 131.5996 - mae: 131.5996"
          ]
        },
        {
          "output_type": "stream",
          "name": "stderr",
          "text": [
            "WARNING:absl:Found untraced functions such as _update_step_xla while saving (showing 1 of 1). These functions will not be directly callable after loading.\n"
          ]
        },
        {
          "output_type": "stream",
          "name": "stdout",
          "text": [
            "\b\b\b\b\b\b\b\b\b\b\b\b\b\b\b\b\b\b\b\b\b\b\b\b\b\b\b\b\b\b\b\b\b\b\b\b\b\b\b\b\b\b\b\b\b\b\b\b\b\b\b\b\b\b\b\b\b\b\b\b\b\b\b\b\b\b\b\b\b\b\b\b\b\b\b\b\b\b\b\b\b\r18/18 [==============================] - 2s 95ms/step - loss: 131.5996 - mae: 131.5996 - val_loss: 723.3439 - val_mae: 723.3439\n",
            "Epoch 21/100\n",
            "11/18 [=================>............] - ETA: 0s - loss: 139.9231 - mae: 139.9231"
          ]
        },
        {
          "output_type": "stream",
          "name": "stderr",
          "text": [
            "WARNING:absl:Found untraced functions such as _update_step_xla while saving (showing 1 of 1). These functions will not be directly callable after loading.\n"
          ]
        },
        {
          "output_type": "stream",
          "name": "stdout",
          "text": [
            "\b\b\b\b\b\b\b\b\b\b\b\b\b\b\b\b\b\b\b\b\b\b\b\b\b\b\b\b\b\b\b\b\b\b\b\b\b\b\b\b\b\b\b\b\b\b\b\b\b\b\b\b\b\b\b\b\b\b\b\b\b\b\b\b\b\b\b\b\b\b\b\b\b\b\b\b\b\b\b\b\b\r18/18 [==============================] - 1s 69ms/step - loss: 133.7613 - mae: 133.7613 - val_loss: 712.2277 - val_mae: 712.2277\n",
            "Epoch 22/100\n",
            "10/18 [===============>..............] - ETA: 0s - loss: 147.0316 - mae: 147.0316"
          ]
        },
        {
          "output_type": "stream",
          "name": "stderr",
          "text": [
            "WARNING:absl:Found untraced functions such as _update_step_xla while saving (showing 1 of 1). These functions will not be directly callable after loading.\n"
          ]
        },
        {
          "output_type": "stream",
          "name": "stdout",
          "text": [
            "\b\b\b\b\b\b\b\b\b\b\b\b\b\b\b\b\b\b\b\b\b\b\b\b\b\b\b\b\b\b\b\b\b\b\b\b\b\b\b\b\b\b\b\b\b\b\b\b\b\b\b\b\b\b\b\b\b\b\b\b\b\b\b\b\b\b\b\b\b\b\b\b\b\b\b\b\b\b\b\b\b\r18/18 [==============================] - 1s 51ms/step - loss: 129.9877 - mae: 129.9877 - val_loss: 707.2269 - val_mae: 707.2269\n",
            "Epoch 23/100\n",
            "13/18 [====================>.........] - ETA: 0s - loss: 125.5167 - mae: 125.5167"
          ]
        },
        {
          "output_type": "stream",
          "name": "stderr",
          "text": [
            "WARNING:absl:Found untraced functions such as _update_step_xla while saving (showing 1 of 1). These functions will not be directly callable after loading.\n"
          ]
        },
        {
          "output_type": "stream",
          "name": "stdout",
          "text": [
            "\b\b\b\b\b\b\b\b\b\b\b\b\b\b\b\b\b\b\b\b\b\b\b\b\b\b\b\b\b\b\b\b\b\b\b\b\b\b\b\b\b\b\b\b\b\b\b\b\b\b\b\b\b\b\b\b\b\b\b\b\b\b\b\b\b\b\b\b\b\b\b\b\b\b\b\b\b\b\b\b\b\r18/18 [==============================] - 1s 56ms/step - loss: 128.3354 - mae: 128.3354 - val_loss: 699.8143 - val_mae: 699.8143\n",
            "Epoch 24/100\n",
            " 1/18 [>.............................] - ETA: 0s - loss: 140.1850 - mae: 140.1850"
          ]
        },
        {
          "output_type": "stream",
          "name": "stderr",
          "text": [
            "WARNING:absl:Found untraced functions such as _update_step_xla while saving (showing 1 of 1). These functions will not be directly callable after loading.\n"
          ]
        },
        {
          "output_type": "stream",
          "name": "stdout",
          "text": [
            "\b\b\b\b\b\b\b\b\b\b\b\b\b\b\b\b\b\b\b\b\b\b\b\b\b\b\b\b\b\b\b\b\b\b\b\b\b\b\b\b\b\b\b\b\b\b\b\b\b\b\b\b\b\b\b\b\b\b\b\b\b\b\b\b\b\b\b\b\b\b\b\b\b\b\b\b\b\b\b\b\b\r18/18 [==============================] - 1s 48ms/step - loss: 127.1128 - mae: 127.1128 - val_loss: 692.4988 - val_mae: 692.4988\n",
            "Epoch 25/100\n",
            "13/18 [====================>.........] - ETA: 0s - loss: 130.1964 - mae: 130.1964"
          ]
        },
        {
          "output_type": "stream",
          "name": "stderr",
          "text": [
            "WARNING:absl:Found untraced functions such as _update_step_xla while saving (showing 1 of 1). These functions will not be directly callable after loading.\n"
          ]
        },
        {
          "output_type": "stream",
          "name": "stdout",
          "text": [
            "\b\b\b\b\b\b\b\b\b\b\b\b\b\b\b\b\b\b\b\b\b\b\b\b\b\b\b\b\b\b\b\b\b\b\b\b\b\b\b\b\b\b\b\b\b\b\b\b\b\b\b\b\b\b\b\b\b\b\b\b\b\b\b\b\b\b\b\b\b\b\b\b\b\b\b\b\b\b\b\b\b\r18/18 [==============================] - 1s 42ms/step - loss: 126.1517 - mae: 126.1517 - val_loss: 683.5342 - val_mae: 683.5342\n",
            "Epoch 26/100\n",
            "10/18 [===============>..............] - ETA: 0s - loss: 131.2235 - mae: 131.2235"
          ]
        },
        {
          "output_type": "stream",
          "name": "stderr",
          "text": [
            "WARNING:absl:Found untraced functions such as _update_step_xla while saving (showing 1 of 1). These functions will not be directly callable after loading.\n"
          ]
        },
        {
          "output_type": "stream",
          "name": "stdout",
          "text": [
            "\b\b\b\b\b\b\b\b\b\b\b\b\b\b\b\b\b\b\b\b\b\b\b\b\b\b\b\b\b\b\b\b\b\b\b\b\b\b\b\b\b\b\b\b\b\b\b\b\b\b\b\b\b\b\b\b\b\b\b\b\b\b\b\b\b\b\b\b\b\b\b\b\b\b\b\b\b\b\b\b\b\r18/18 [==============================] - 1s 52ms/step - loss: 127.5738 - mae: 127.5738 - val_loss: 675.4610 - val_mae: 675.4610\n",
            "Epoch 27/100\n",
            "13/18 [====================>.........] - ETA: 0s - loss: 130.7423 - mae: 130.7423"
          ]
        },
        {
          "output_type": "stream",
          "name": "stderr",
          "text": [
            "WARNING:absl:Found untraced functions such as _update_step_xla while saving (showing 1 of 1). These functions will not be directly callable after loading.\n"
          ]
        },
        {
          "output_type": "stream",
          "name": "stdout",
          "text": [
            "\b\b\b\b\b\b\b\b\b\b\b\b\b\b\b\b\b\b\b\b\b\b\b\b\b\b\b\b\b\b\b\b\b\b\b\b\b\b\b\b\b\b\b\b\b\b\b\b\b\b\b\b\b\b\b\b\b\b\b\b\b\b\b\b\b\b\b\b\b\b\b\b\b\b\b\b\b\b\b\b\b\r18/18 [==============================] - 2s 99ms/step - loss: 127.5380 - mae: 127.5380 - val_loss: 671.1588 - val_mae: 671.1588\n",
            "Epoch 28/100\n",
            "16/18 [=========================>....] - ETA: 0s - loss: 122.3230 - mae: 122.3230"
          ]
        },
        {
          "output_type": "stream",
          "name": "stderr",
          "text": [
            "WARNING:absl:Found untraced functions such as _update_step_xla while saving (showing 1 of 1). These functions will not be directly callable after loading.\n"
          ]
        },
        {
          "output_type": "stream",
          "name": "stdout",
          "text": [
            "\b\b\b\b\b\b\b\b\b\b\b\b\b\b\b\b\b\b\b\b\b\b\b\b\b\b\b\b\b\b\b\b\b\b\b\b\b\b\b\b\b\b\b\b\b\b\b\b\b\b\b\b\b\b\b\b\b\b\b\b\b\b\b\b\b\b\b\b\b\b\b\b\b\b\b\b\b\b\b\b\b\r18/18 [==============================] - 2s 124ms/step - loss: 122.9969 - mae: 122.9969 - val_loss: 667.0850 - val_mae: 667.0850\n",
            "Epoch 29/100\n",
            "18/18 [==============================] - 0s 8ms/step - loss: 121.6022 - mae: 121.6022 - val_loss: 669.2619 - val_mae: 669.2619\n",
            "Epoch 30/100\n",
            "18/18 [==============================] - 0s 11ms/step - loss: 130.2344 - mae: 130.2344 - val_loss: 728.9180 - val_mae: 728.9180\n",
            "Epoch 31/100\n",
            "18/18 [==============================] - 0s 7ms/step - loss: 143.1132 - mae: 143.1132 - val_loss: 990.2930 - val_mae: 990.2930\n",
            "Epoch 32/100\n",
            "16/18 [=========================>....] - ETA: 0s - loss: 141.2855 - mae: 141.2855"
          ]
        },
        {
          "output_type": "stream",
          "name": "stderr",
          "text": [
            "WARNING:absl:Found untraced functions such as _update_step_xla while saving (showing 1 of 1). These functions will not be directly callable after loading.\n"
          ]
        },
        {
          "output_type": "stream",
          "name": "stdout",
          "text": [
            "\b\b\b\b\b\b\b\b\b\b\b\b\b\b\b\b\b\b\b\b\b\b\b\b\b\b\b\b\b\b\b\b\b\b\b\b\b\b\b\b\b\b\b\b\b\b\b\b\b\b\b\b\b\b\b\b\b\b\b\b\b\b\b\b\b\b\b\b\b\b\b\b\b\b\b\b\b\b\b\b\b\r18/18 [==============================] - 1s 50ms/step - loss: 141.9871 - mae: 141.9871 - val_loss: 658.4121 - val_mae: 658.4121\n",
            "Epoch 33/100\n",
            "18/18 [==============================] - 0s 11ms/step - loss: 124.2080 - mae: 124.2080 - val_loss: 675.6932 - val_mae: 675.6932\n",
            "Epoch 34/100\n",
            "10/18 [===============>..............] - ETA: 0s - loss: 126.1730 - mae: 126.1730"
          ]
        },
        {
          "output_type": "stream",
          "name": "stderr",
          "text": [
            "WARNING:absl:Found untraced functions such as _update_step_xla while saving (showing 1 of 1). These functions will not be directly callable after loading.\n"
          ]
        },
        {
          "output_type": "stream",
          "name": "stdout",
          "text": [
            "\b\b\b\b\b\b\b\b\b\b\b\b\b\b\b\b\b\b\b\b\b\b\b\b\b\b\b\b\b\b\b\b\b\b\b\b\b\b\b\b\b\b\b\b\b\b\b\b\b\b\b\b\b\b\b\b\b\b\b\b\b\b\b\b\b\b\b\b\b\b\b\b\b\b\b\b\b\b\b\b\b\r18/18 [==============================] - 2s 97ms/step - loss: 122.9536 - mae: 122.9536 - val_loss: 649.0237 - val_mae: 649.0237\n",
            "Epoch 35/100\n",
            "18/18 [==============================] - 0s 14ms/step - loss: 121.5699 - mae: 121.5699 - val_loss: 657.4247 - val_mae: 657.4247\n",
            "Epoch 36/100\n",
            "18/18 [==============================] - 0s 13ms/step - loss: 128.4448 - mae: 128.4448 - val_loss: 750.2635 - val_mae: 750.2635\n",
            "Epoch 37/100\n",
            "10/18 [===============>..............] - ETA: 0s - loss: 116.0188 - mae: 116.0188"
          ]
        },
        {
          "output_type": "stream",
          "name": "stderr",
          "text": [
            "WARNING:absl:Found untraced functions such as _update_step_xla while saving (showing 1 of 1). These functions will not be directly callable after loading.\n"
          ]
        },
        {
          "output_type": "stream",
          "name": "stdout",
          "text": [
            "\b\b\b\b\b\b\b\b\b\b\b\b\b\b\b\b\b\b\b\b\b\b\b\b\b\b\b\b\b\b\b\b\b\b\b\b\b\b\b\b\b\b\b\b\b\b\b\b\b\b\b\b\b\b\b\b\b\b\b\b\b\b\b\b\b\b\b\b\b\b\b\b\b\b\b\b\b\b\b\b\b\r18/18 [==============================] - 1s 50ms/step - loss: 122.4800 - mae: 122.4800 - val_loss: 639.4223 - val_mae: 639.4223\n",
            "Epoch 38/100\n",
            " 1/18 [>.............................] - ETA: 0s - loss: 107.6847 - mae: 107.6847"
          ]
        },
        {
          "output_type": "stream",
          "name": "stderr",
          "text": [
            "WARNING:absl:Found untraced functions such as _update_step_xla while saving (showing 1 of 1). These functions will not be directly callable after loading.\n"
          ]
        },
        {
          "output_type": "stream",
          "name": "stdout",
          "text": [
            "\b\b\b\b\b\b\b\b\b\b\b\b\b\b\b\b\b\b\b\b\b\b\b\b\b\b\b\b\b\b\b\b\b\b\b\b\b\b\b\b\b\b\b\b\b\b\b\b\b\b\b\b\b\b\b\b\b\b\b\b\b\b\b\b\b\b\b\b\b\b\b\b\b\b\b\b\b\b\b\b\b\r18/18 [==============================] - 1s 61ms/step - loss: 118.5309 - mae: 118.5309 - val_loss: 631.7832 - val_mae: 631.7832\n",
            "Epoch 39/100\n",
            "18/18 [==============================] - 0s 4ms/step - loss: 117.2918 - mae: 117.2918 - val_loss: 644.0508 - val_mae: 644.0508\n",
            "Epoch 40/100\n",
            "18/18 [==============================] - 0s 9ms/step - loss: 117.2873 - mae: 117.2873 - val_loss: 636.6291 - val_mae: 636.6291\n",
            "Epoch 41/100\n",
            "18/18 [==============================] - 0s 10ms/step - loss: 118.4627 - mae: 118.4627 - val_loss: 658.1978 - val_mae: 658.1978\n",
            "Epoch 42/100\n",
            " 1/18 [>.............................] - ETA: 0s - loss: 114.5660 - mae: 114.5660"
          ]
        },
        {
          "output_type": "stream",
          "name": "stderr",
          "text": [
            "WARNING:absl:Found untraced functions such as _update_step_xla while saving (showing 1 of 1). These functions will not be directly callable after loading.\n"
          ]
        },
        {
          "output_type": "stream",
          "name": "stdout",
          "text": [
            "\b\b\b\b\b\b\b\b\b\b\b\b\b\b\b\b\b\b\b\b\b\b\b\b\b\b\b\b\b\b\b\b\b\b\b\b\b\b\b\b\b\b\b\b\b\b\b\b\b\b\b\b\b\b\b\b\b\b\b\b\b\b\b\b\b\b\b\b\b\b\b\b\b\b\b\b\b\b\b\b\b\r18/18 [==============================] - 1s 40ms/step - loss: 122.4966 - mae: 122.4966 - val_loss: 627.2758 - val_mae: 627.2758\n",
            "Epoch 43/100\n",
            "18/18 [==============================] - 0s 4ms/step - loss: 114.7376 - mae: 114.7376 - val_loss: 661.2139 - val_mae: 661.2139\n",
            "Epoch 44/100\n",
            " 1/18 [>.............................] - ETA: 0s - loss: 75.9482 - mae: 75.9482"
          ]
        },
        {
          "output_type": "stream",
          "name": "stderr",
          "text": [
            "WARNING:absl:Found untraced functions such as _update_step_xla while saving (showing 1 of 1). These functions will not be directly callable after loading.\n"
          ]
        },
        {
          "output_type": "stream",
          "name": "stdout",
          "text": [
            "\b\b\b\b\b\b\b\b\b\b\b\b\b\b\b\b\b\b\b\b\b\b\b\b\b\b\b\b\b\b\b\b\b\b\b\b\b\b\b\b\b\b\b\b\b\b\b\b\b\b\b\b\b\b\b\b\b\b\b\b\b\b\b\b\b\b\b\b\b\b\b\b\b\b\b\b\b\b\b\r18/18 [==============================] - 1s 42ms/step - loss: 117.6938 - mae: 117.6938 - val_loss: 619.3602 - val_mae: 619.3602\n",
            "Epoch 45/100\n",
            "15/18 [========================>.....] - ETA: 0s - loss: 114.6775 - mae: 114.6775"
          ]
        },
        {
          "output_type": "stream",
          "name": "stderr",
          "text": [
            "WARNING:absl:Found untraced functions such as _update_step_xla while saving (showing 1 of 1). These functions will not be directly callable after loading.\n"
          ]
        },
        {
          "output_type": "stream",
          "name": "stdout",
          "text": [
            "\b\b\b\b\b\b\b\b\b\b\b\b\b\b\b\b\b\b\b\b\b\b\b\b\b\b\b\b\b\b\b\b\b\b\b\b\b\b\b\b\b\b\b\b\b\b\b\b\b\b\b\b\b\b\b\b\b\b\b\b\b\b\b\b\b\b\b\b\b\b\b\b\b\b\b\b\b\b\b\b\b\r18/18 [==============================] - 1s 37ms/step - loss: 116.3274 - mae: 116.3274 - val_loss: 614.9143 - val_mae: 614.9143\n",
            "Epoch 46/100\n",
            "13/18 [====================>.........] - ETA: 0s - loss: 119.0457 - mae: 119.0457"
          ]
        },
        {
          "output_type": "stream",
          "name": "stderr",
          "text": [
            "WARNING:absl:Found untraced functions such as _update_step_xla while saving (showing 1 of 1). These functions will not be directly callable after loading.\n"
          ]
        },
        {
          "output_type": "stream",
          "name": "stdout",
          "text": [
            "\b\b\b\b\b\b\b\b\b\b\b\b\b\b\b\b\b\b\b\b\b\b\b\b\b\b\b\b\b\b\b\b\b\b\b\b\b\b\b\b\b\b\b\b\b\b\b\b\b\b\b\b\b\b\b\b\b\b\b\b\b\b\b\b\b\b\b\b\b\b\b\b\b\b\b\b\b\b\b\b\b\r18/18 [==============================] - 1s 37ms/step - loss: 115.9806 - mae: 115.9806 - val_loss: 613.6616 - val_mae: 613.6616\n",
            "Epoch 47/100\n",
            "18/18 [==============================] - 0s 7ms/step - loss: 117.3641 - mae: 117.3641 - val_loss: 681.7007 - val_mae: 681.7007\n",
            "Epoch 48/100\n",
            "18/18 [==============================] - 0s 8ms/step - loss: 114.2016 - mae: 114.2016 - val_loss: 627.0732 - val_mae: 627.0732\n",
            "Epoch 49/100\n",
            "18/18 [==============================] - 0s 4ms/step - loss: 114.2764 - mae: 114.2764 - val_loss: 653.5896 - val_mae: 653.5896\n",
            "Epoch 50/100\n",
            "18/18 [==============================] - 0s 4ms/step - loss: 118.6535 - mae: 118.6535 - val_loss: 614.1885 - val_mae: 614.1885\n",
            "Epoch 51/100\n",
            "18/18 [==============================] - 0s 5ms/step - loss: 114.1348 - mae: 114.1348 - val_loss: 620.8785 - val_mae: 620.8785\n",
            "Epoch 52/100\n",
            "14/18 [======================>.......] - ETA: 0s - loss: 120.7172 - mae: 120.7172"
          ]
        },
        {
          "output_type": "stream",
          "name": "stderr",
          "text": [
            "WARNING:absl:Found untraced functions such as _update_step_xla while saving (showing 1 of 1). These functions will not be directly callable after loading.\n"
          ]
        },
        {
          "output_type": "stream",
          "name": "stdout",
          "text": [
            "\b\b\b\b\b\b\b\b\b\b\b\b\b\b\b\b\b\b\b\b\b\b\b\b\b\b\b\b\b\b\b\b\b\b\b\b\b\b\b\b\b\b\b\b\b\b\b\b\b\b\b\b\b\b\b\b\b\b\b\b\b\b\b\b\b\b\b\b\b\b\b\b\b\b\b\b\b\b\b\b\b\r18/18 [==============================] - 1s 49ms/step - loss: 115.8306 - mae: 115.8306 - val_loss: 611.7498 - val_mae: 611.7498\n",
            "Epoch 53/100\n",
            "18/18 [==============================] - 0s 5ms/step - loss: 116.3666 - mae: 116.3666 - val_loss: 632.4432 - val_mae: 632.4432\n",
            "Epoch 54/100\n",
            "17/18 [===========================>..] - ETA: 0s - loss: 114.5212 - mae: 114.5212"
          ]
        },
        {
          "output_type": "stream",
          "name": "stderr",
          "text": [
            "WARNING:absl:Found untraced functions such as _update_step_xla while saving (showing 1 of 1). These functions will not be directly callable after loading.\n"
          ]
        },
        {
          "output_type": "stream",
          "name": "stdout",
          "text": [
            "\b\b\b\b\b\b\b\b\b\b\b\b\b\b\b\b\b\b\b\b\b\b\b\b\b\b\b\b\b\b\b\b\b\b\b\b\b\b\b\b\b\b\b\b\b\b\b\b\b\b\b\b\b\b\b\b\b\b\b\b\b\b\b\b\b\b\b\b\b\b\b\b\b\b\b\b\b\b\b\b\b\r18/18 [==============================] - 1s 35ms/step - loss: 114.8185 - mae: 114.8185 - val_loss: 607.5453 - val_mae: 607.5453\n",
            "Epoch 55/100\n",
            "10/18 [===============>..............] - ETA: 0s - loss: 122.9631 - mae: 122.9631"
          ]
        },
        {
          "output_type": "stream",
          "name": "stderr",
          "text": [
            "WARNING:absl:Found untraced functions such as _update_step_xla while saving (showing 1 of 1). These functions will not be directly callable after loading.\n"
          ]
        },
        {
          "output_type": "stream",
          "name": "stdout",
          "text": [
            "\b\b\b\b\b\b\b\b\b\b\b\b\b\b\b\b\b\b\b\b\b\b\b\b\b\b\b\b\b\b\b\b\b\b\b\b\b\b\b\b\b\b\b\b\b\b\b\b\b\b\b\b\b\b\b\b\b\b\b\b\b\b\b\b\b\b\b\b\b\b\b\b\b\b\b\b\b\b\b\b\b\r18/18 [==============================] - 1s 45ms/step - loss: 115.9280 - mae: 115.9280 - val_loss: 599.5176 - val_mae: 599.5176\n",
            "Epoch 56/100\n",
            "18/18 [==============================] - 0s 9ms/step - loss: 112.3906 - mae: 112.3906 - val_loss: 829.4456 - val_mae: 829.4456\n",
            "Epoch 57/100\n",
            "18/18 [==============================] - 0s 7ms/step - loss: 134.1783 - mae: 134.1783 - val_loss: 770.4379 - val_mae: 770.4379\n",
            "Epoch 58/100\n",
            "18/18 [==============================] - 0s 8ms/step - loss: 127.9778 - mae: 127.9778 - val_loss: 700.2397 - val_mae: 700.2397\n",
            "Epoch 59/100\n",
            "13/18 [====================>.........] - ETA: 0s - loss: 109.6180 - mae: 109.6180"
          ]
        },
        {
          "output_type": "stream",
          "name": "stderr",
          "text": [
            "WARNING:absl:Found untraced functions such as _update_step_xla while saving (showing 1 of 1). These functions will not be directly callable after loading.\n"
          ]
        },
        {
          "output_type": "stream",
          "name": "stdout",
          "text": [
            "\b\b\b\b\b\b\b\b\b\b\b\b\b\b\b\b\b\b\b\b\b\b\b\b\b\b\b\b\b\b\b\b\b\b\b\b\b\b\b\b\b\b\b\b\b\b\b\b\b\b\b\b\b\b\b\b\b\b\b\b\b\b\b\b\b\b\b\b\b\b\b\b\b\b\b\b\b\b\b\b\b\r18/18 [==============================] - 1s 52ms/step - loss: 111.7503 - mae: 111.7503 - val_loss: 595.9036 - val_mae: 595.9036\n",
            "Epoch 60/100\n",
            "18/18 [==============================] - 0s 7ms/step - loss: 111.3242 - mae: 111.3242 - val_loss: 603.5384 - val_mae: 603.5384\n",
            "Epoch 61/100\n",
            "18/18 [==============================] - 0s 9ms/step - loss: 109.9000 - mae: 109.9000 - val_loss: 600.0037 - val_mae: 600.0037\n",
            "Epoch 62/100\n",
            "16/18 [=========================>....] - ETA: 0s - loss: 112.3107 - mae: 112.3107"
          ]
        },
        {
          "output_type": "stream",
          "name": "stderr",
          "text": [
            "WARNING:absl:Found untraced functions such as _update_step_xla while saving (showing 1 of 1). These functions will not be directly callable after loading.\n"
          ]
        },
        {
          "output_type": "stream",
          "name": "stdout",
          "text": [
            "\b\b\b\b\b\b\b\b\b\b\b\b\b\b\b\b\b\b\b\b\b\b\b\b\b\b\b\b\b\b\b\b\b\b\b\b\b\b\b\b\b\b\b\b\b\b\b\b\b\b\b\b\b\b\b\b\b\b\b\b\b\b\b\b\b\b\b\b\b\b\b\b\b\b\b\b\b\b\b\b\b\r18/18 [==============================] - 1s 87ms/step - loss: 110.1556 - mae: 110.1556 - val_loss: 590.0572 - val_mae: 590.0572\n",
            "Epoch 63/100\n",
            "18/18 [==============================] - 0s 17ms/step - loss: 110.0991 - mae: 110.0991 - val_loss: 622.6064 - val_mae: 622.6064\n",
            "Epoch 64/100\n",
            "18/18 [==============================] - 0s 15ms/step - loss: 113.0103 - mae: 113.0103 - val_loss: 626.5792 - val_mae: 626.5792\n",
            "Epoch 65/100\n",
            "18/18 [==============================] - 0s 9ms/step - loss: 111.8464 - mae: 111.8464 - val_loss: 603.8076 - val_mae: 603.8076\n",
            "Epoch 66/100\n",
            "18/18 [==============================] - 0s 7ms/step - loss: 110.6507 - mae: 110.6507 - val_loss: 594.8260 - val_mae: 594.8260\n",
            "Epoch 67/100\n",
            "18/18 [==============================] - 0s 12ms/step - loss: 110.6408 - mae: 110.6408 - val_loss: 679.9488 - val_mae: 679.9488\n",
            "Epoch 68/100\n",
            "18/18 [==============================] - 0s 19ms/step - loss: 111.3479 - mae: 111.3479 - val_loss: 602.1907 - val_mae: 602.1907\n",
            "Epoch 69/100\n",
            "18/18 [==============================] - 0s 14ms/step - loss: 117.1876 - mae: 117.1876 - val_loss: 679.9119 - val_mae: 679.9119\n",
            "Epoch 70/100\n",
            "18/18 [==============================] - 0s 4ms/step - loss: 128.8519 - mae: 128.8519 - val_loss: 597.0183 - val_mae: 597.0183\n",
            "Epoch 71/100\n",
            "18/18 [==============================] - 0s 4ms/step - loss: 116.4268 - mae: 116.4268 - val_loss: 624.3890 - val_mae: 624.3890\n",
            "Epoch 72/100\n",
            " 1/18 [>.............................] - ETA: 0s - loss: 102.4894 - mae: 102.4894"
          ]
        },
        {
          "output_type": "stream",
          "name": "stderr",
          "text": [
            "WARNING:absl:Found untraced functions such as _update_step_xla while saving (showing 1 of 1). These functions will not be directly callable after loading.\n"
          ]
        },
        {
          "output_type": "stream",
          "name": "stdout",
          "text": [
            "\b\b\b\b\b\b\b\b\b\b\b\b\b\b\b\b\b\b\b\b\b\b\b\b\b\b\b\b\b\b\b\b\b\b\b\b\b\b\b\b\b\b\b\b\b\b\b\b\b\b\b\b\b\b\b\b\b\b\b\b\b\b\b\b\b\b\b\b\b\b\b\b\b\b\b\b\b\b\b\b\b\r18/18 [==============================] - 1s 35ms/step - loss: 109.3342 - mae: 109.3342 - val_loss: 581.2332 - val_mae: 581.2332\n",
            "Epoch 73/100\n",
            "18/18 [==============================] - ETA: 0s - loss: 109.9516 - mae: 109.9516"
          ]
        },
        {
          "output_type": "stream",
          "name": "stderr",
          "text": [
            "WARNING:absl:Found untraced functions such as _update_step_xla while saving (showing 1 of 1). These functions will not be directly callable after loading.\n"
          ]
        },
        {
          "output_type": "stream",
          "name": "stdout",
          "text": [
            "\b\b\b\b\b\b\b\b\b\b\b\b\b\b\b\b\b\b\b\b\b\b\b\b\b\b\b\b\b\b\b\b\b\b\b\b\b\b\b\b\b\b\b\b\b\b\b\b\b\b\b\b\b\b\b\b\b\b\b\b\b\b\b\b\b\b\b\b\b\b\b\b\b\b\b\b\b\b\b\b\b\r18/18 [==============================] - 1s 50ms/step - loss: 109.9516 - mae: 109.9516 - val_loss: 580.6342 - val_mae: 580.6342\n",
            "Epoch 74/100\n",
            "18/18 [==============================] - 0s 10ms/step - loss: 112.7444 - mae: 112.7444 - val_loss: 581.7611 - val_mae: 581.7611\n",
            "Epoch 75/100\n",
            "18/18 [==============================] - 0s 4ms/step - loss: 109.2438 - mae: 109.2438 - val_loss: 594.2337 - val_mae: 594.2337\n",
            "Epoch 76/100\n",
            " 1/18 [>.............................] - ETA: 0s - loss: 80.4474 - mae: 80.4474"
          ]
        },
        {
          "output_type": "stream",
          "name": "stderr",
          "text": [
            "WARNING:absl:Found untraced functions such as _update_step_xla while saving (showing 1 of 1). These functions will not be directly callable after loading.\n"
          ]
        },
        {
          "output_type": "stream",
          "name": "stdout",
          "text": [
            "\b\b\b\b\b\b\b\b\b\b\b\b\b\b\b\b\b\b\b\b\b\b\b\b\b\b\b\b\b\b\b\b\b\b\b\b\b\b\b\b\b\b\b\b\b\b\b\b\b\b\b\b\b\b\b\b\b\b\b\b\b\b\b\b\b\b\b\b\b\b\b\b\b\b\b\b\b\b\b\r18/18 [==============================] - 1s 36ms/step - loss: 110.3548 - mae: 110.3548 - val_loss: 579.9983 - val_mae: 579.9983\n",
            "Epoch 77/100\n",
            "18/18 [==============================] - 0s 5ms/step - loss: 109.1913 - mae: 109.1913 - val_loss: 581.2756 - val_mae: 581.2756\n",
            "Epoch 78/100\n",
            "18/18 [==============================] - 0s 7ms/step - loss: 110.8494 - mae: 110.8494 - val_loss: 595.2781 - val_mae: 595.2781\n",
            "Epoch 79/100\n",
            "12/18 [===================>..........] - ETA: 0s - loss: 107.8620 - mae: 107.8620"
          ]
        },
        {
          "output_type": "stream",
          "name": "stderr",
          "text": [
            "WARNING:absl:Found untraced functions such as _update_step_xla while saving (showing 1 of 1). These functions will not be directly callable after loading.\n"
          ]
        },
        {
          "output_type": "stream",
          "name": "stdout",
          "text": [
            "\b\b\b\b\b\b\b\b\b\b\b\b\b\b\b\b\b\b\b\b\b\b\b\b\b\b\b\b\b\b\b\b\b\b\b\b\b\b\b\b\b\b\b\b\b\b\b\b\b\b\b\b\b\b\b\b\b\b\b\b\b\b\b\b\b\b\b\b\b\b\b\b\b\b\b\b\b\b\b\b\b\r18/18 [==============================] - 1s 41ms/step - loss: 110.2224 - mae: 110.2224 - val_loss: 577.1467 - val_mae: 577.1467\n",
            "Epoch 80/100\n",
            "18/18 [==============================] - 0s 7ms/step - loss: 108.7171 - mae: 108.7171 - val_loss: 582.7347 - val_mae: 582.7347\n",
            "Epoch 81/100\n",
            "18/18 [==============================] - 0s 8ms/step - loss: 107.0342 - mae: 107.0342 - val_loss: 582.9009 - val_mae: 582.9009\n",
            "Epoch 82/100\n",
            "13/18 [====================>.........] - ETA: 0s - loss: 120.5508 - mae: 120.5508"
          ]
        },
        {
          "output_type": "stream",
          "name": "stderr",
          "text": [
            "WARNING:absl:Found untraced functions such as _update_step_xla while saving (showing 1 of 1). These functions will not be directly callable after loading.\n"
          ]
        },
        {
          "output_type": "stream",
          "name": "stdout",
          "text": [
            "\b\b\b\b\b\b\b\b\b\b\b\b\b\b\b\b\b\b\b\b\b\b\b\b\b\b\b\b\b\b\b\b\b\b\b\b\b\b\b\b\b\b\b\b\b\b\b\b\b\b\b\b\b\b\b\b\b\b\b\b\b\b\b\b\b\b\b\b\b\b\b\b\b\b\b\b\b\b\b\b\b\r18/18 [==============================] - 1s 38ms/step - loss: 116.9127 - mae: 116.9127 - val_loss: 575.5626 - val_mae: 575.5626\n",
            "Epoch 83/100\n",
            "18/18 [==============================] - 0s 8ms/step - loss: 112.5295 - mae: 112.5295 - val_loss: 700.5540 - val_mae: 700.5540\n",
            "Epoch 84/100\n",
            "18/18 [==============================] - 0s 8ms/step - loss: 116.5117 - mae: 116.5117 - val_loss: 628.4986 - val_mae: 628.4986\n",
            "Epoch 85/100\n",
            "18/18 [==============================] - 0s 10ms/step - loss: 109.3830 - mae: 109.3830 - val_loss: 592.9918 - val_mae: 592.9918\n",
            "Epoch 86/100\n",
            "18/18 [==============================] - 0s 9ms/step - loss: 108.6145 - mae: 108.6145 - val_loss: 587.8835 - val_mae: 587.8835\n",
            "Epoch 87/100\n",
            "18/18 [==============================] - 0s 8ms/step - loss: 106.7637 - mae: 106.7637 - val_loss: 617.9603 - val_mae: 617.9603\n",
            "Epoch 88/100\n",
            "18/18 [==============================] - 0s 8ms/step - loss: 109.3650 - mae: 109.3650 - val_loss: 600.1158 - val_mae: 600.1158\n",
            "Epoch 89/100\n",
            "18/18 [==============================] - 0s 8ms/step - loss: 107.8743 - mae: 107.8743 - val_loss: 591.3959 - val_mae: 591.3959\n",
            "Epoch 90/100\n",
            "18/18 [==============================] - 0s 9ms/step - loss: 109.0721 - mae: 109.0721 - val_loss: 596.3044 - val_mae: 596.3044\n",
            "Epoch 91/100\n",
            "18/18 [==============================] - 0s 8ms/step - loss: 110.6016 - mae: 110.6016 - val_loss: 582.1285 - val_mae: 582.1285\n",
            "Epoch 92/100\n",
            "18/18 [==============================] - 0s 5ms/step - loss: 110.2161 - mae: 110.2161 - val_loss: 597.2432 - val_mae: 597.2432\n",
            "Epoch 93/100\n",
            "18/18 [==============================] - 0s 5ms/step - loss: 120.6878 - mae: 120.6878 - val_loss: 673.8659 - val_mae: 673.8659\n",
            "Epoch 94/100\n",
            "18/18 [==============================] - 0s 6ms/step - loss: 112.3701 - mae: 112.3701 - val_loss: 596.9827 - val_mae: 596.9827\n",
            "Epoch 95/100\n",
            "18/18 [==============================] - 0s 7ms/step - loss: 106.3686 - mae: 106.3686 - val_loss: 580.3958 - val_mae: 580.3958\n",
            "Epoch 96/100\n",
            "18/18 [==============================] - 0s 7ms/step - loss: 107.9369 - mae: 107.9369 - val_loss: 603.9372 - val_mae: 603.9372\n",
            "Epoch 97/100\n",
            "18/18 [==============================] - 0s 6ms/step - loss: 108.5970 - mae: 108.5970 - val_loss: 583.9326 - val_mae: 583.9326\n",
            "Epoch 98/100\n",
            "18/18 [==============================] - 0s 5ms/step - loss: 106.1502 - mae: 106.1502 - val_loss: 584.7458 - val_mae: 584.7458\n",
            "Epoch 99/100\n",
            "18/18 [==============================] - 0s 6ms/step - loss: 107.7538 - mae: 107.7538 - val_loss: 585.1097 - val_mae: 585.1097\n",
            "Epoch 100/100\n",
            "18/18 [==============================] - 0s 8ms/step - loss: 114.7493 - mae: 114.7493 - val_loss: 698.6424 - val_mae: 698.6424\n"
          ]
        },
        {
          "output_type": "execute_result",
          "data": {
            "text/plain": [
              "<keras.callbacks.History at 0x7f7c2005a790>"
            ]
          },
          "metadata": {},
          "execution_count": 35
        }
      ]
    },
    {
      "cell_type": "code",
      "source": [
        "# Evaluate model on test data\n",
        "\n",
        "model_1.evaluate(test_windows, test_labels)"
      ],
      "metadata": {
        "colab": {
          "base_uri": "https://localhost:8080/"
        },
        "id": "QgtfWRNjhFVP",
        "outputId": "7b633276-4f30-4909-db59-272f30147b04"
      },
      "execution_count": 36,
      "outputs": [
        {
          "output_type": "stream",
          "name": "stdout",
          "text": [
            "18/18 [==============================] - 0s 6ms/step - loss: 698.6423 - mae: 698.6423\n"
          ]
        },
        {
          "output_type": "execute_result",
          "data": {
            "text/plain": [
              "[698.6422729492188, 698.6422729492188]"
            ]
          },
          "metadata": {},
          "execution_count": 36
        }
      ]
    },
    {
      "cell_type": "code",
      "source": [
        "# Load in saved best performing model_1 and evaluate on test data\n",
        "\n",
        "model_1 = tf.keras.models.load_model(\"model_experiments/model_1_dense\")\n",
        "model_1.evaluate(test_windows, test_labels)"
      ],
      "metadata": {
        "colab": {
          "base_uri": "https://localhost:8080/"
        },
        "id": "SNnOhyzJhTSx",
        "outputId": "a37a969b-1597-49c1-9800-59dcc4f610c0"
      },
      "execution_count": 37,
      "outputs": [
        {
          "output_type": "stream",
          "name": "stdout",
          "text": [
            "18/18 [==============================] - 0s 4ms/step - loss: 575.5626 - mae: 575.5626\n"
          ]
        },
        {
          "output_type": "execute_result",
          "data": {
            "text/plain": [
              "[575.5625610351562, 575.5625610351562]"
            ]
          },
          "metadata": {},
          "execution_count": 37
        }
      ]
    },
    {
      "cell_type": "markdown",
      "source": [
        "### Making forecast with model (on the test dataset)"
      ],
      "metadata": {
        "id": "maL1V0jkh5xC"
      }
    },
    {
      "cell_type": "code",
      "source": [
        "def make_preds(model, input_data):\n",
        "\n",
        "  forecast = model.predict(input_data)\n",
        "\n",
        "  return tf.squeeze(forecast)"
      ],
      "metadata": {
        "id": "mGdYxNUzhwFd"
      },
      "execution_count": 38,
      "outputs": []
    },
    {
      "cell_type": "code",
      "source": [
        "# Make prediction using model_1 on the test dataset and view the results\n",
        "\n",
        "model_1_preds = make_preds(model_1, test_windows)\n",
        "len(model_1_preds), model_1_preds[:10]"
      ],
      "metadata": {
        "colab": {
          "base_uri": "https://localhost:8080/"
        },
        "id": "hG1Iab_fiVE9",
        "outputId": "6042ce4a-efd5-44bd-b143-cded14c7b069"
      },
      "execution_count": 39,
      "outputs": [
        {
          "output_type": "stream",
          "name": "stdout",
          "text": [
            "18/18 [==============================] - 0s 2ms/step\n"
          ]
        },
        {
          "output_type": "execute_result",
          "data": {
            "text/plain": [
              "(556, <tf.Tensor: shape=(10,), dtype=float32, numpy=\n",
              " array([8869.403, 8760.415, 8976.99 , 8783.485, 8723.836, 8727.06 ,\n",
              "        8646.463, 8531.941, 8434.978, 8497.811], dtype=float32)>)"
            ]
          },
          "metadata": {},
          "execution_count": 39
        }
      ]
    },
    {
      "cell_type": "code",
      "source": [
        "# Evaluate preds\n",
        "\n",
        "model_1_results = evaluate_preds(y_true=tf.squeeze(test_labels),\n",
        "                                 y_pred=model_1_preds)\n",
        "model_1_results"
      ],
      "metadata": {
        "colab": {
          "base_uri": "https://localhost:8080/"
        },
        "id": "ehIoQukziwD-",
        "outputId": "483413df-fba8-47b9-f45e-9e7e3e3408e9"
      },
      "execution_count": 40,
      "outputs": [
        {
          "output_type": "execute_result",
          "data": {
            "text/plain": [
              "{'mae': 575.56256,\n",
              " 'mse': 1199544.0,\n",
              " 'rmse': 1095.2369,\n",
              " 'mape': 2.5770702,\n",
              " 'mase': 1.011104}"
            ]
          },
          "metadata": {},
          "execution_count": 40
        }
      ]
    },
    {
      "cell_type": "code",
      "source": [
        "naive_results"
      ],
      "metadata": {
        "colab": {
          "base_uri": "https://localhost:8080/"
        },
        "id": "rsuqzwowjKD_",
        "outputId": "1e716e94-2011-4aaa-8ce8-ed6cfa82bb4d"
      },
      "execution_count": 41,
      "outputs": [
        {
          "output_type": "execute_result",
          "data": {
            "text/plain": [
              "{'mae': 567.9802,\n",
              " 'mse': 1147547.0,\n",
              " 'rmse': 1071.2362,\n",
              " 'mape': 2.516525,\n",
              " 'mase': 0.99957}"
            ]
          },
          "metadata": {},
          "execution_count": 41
        }
      ]
    },
    {
      "cell_type": "code",
      "source": [
        "# Visualizing the result\n",
        "\n",
        "offset = 300\n",
        "plt.figure(figsize=(10, 7))\n",
        "plot_time_series(timesteps=X_test[-len(test_windows):], values=test_labels[:,0], start=offset, label=\"Test_data\")\n",
        "plot_time_series(timesteps=X_test[-len(test_windows):], values=model_1_preds, start=offset, format=\"-\", label=\"model_1_preds\")"
      ],
      "metadata": {
        "colab": {
          "base_uri": "https://localhost:8080/",
          "height": 442
        },
        "id": "TEmNaVyWjQXt",
        "outputId": "51fce7a7-2228-4381-aca4-551bea3f10e2"
      },
      "execution_count": 42,
      "outputs": [
        {
          "output_type": "display_data",
          "data": {
            "text/plain": [
              "<Figure size 720x504 with 1 Axes>"
            ],
            "image/png": "[encoded data removed]"
          },
          "metadata": {
            "needs_background": "light"
          }
        }
      ]
    },
    {
      "cell_type": "markdown",
      "source": [
        "### Model 2: Dense (window = 30, horizon = 1)"
      ],
      "metadata": {
        "id": "f4ZmxJlgd_up"
      }
    },
    {
      "cell_type": "code",
      "source": [
        "HORIZON = 1\n",
        "WINDOW_SIZE = 30"
      ],
      "metadata": {
        "id": "0fAUw1uXkPsw"
      },
      "execution_count": 43,
      "outputs": []
    },
    {
      "cell_type": "code",
      "source": [
        "# Make windowed data with appropriate horizon nad window size\n",
        "\n",
        "full_windows, full_labels = make_windows(prices, window_size=WINDOW_SIZE, horizon=HORIZON)\n",
        "len(full_windows), len(full_labels)"
      ],
      "metadata": {
        "colab": {
          "base_uri": "https://localhost:8080/"
        },
        "id": "gdIKLDcIeOyw",
        "outputId": "a4edc11f-909a-4432-9f22-847806aeea12"
      },
      "execution_count": 44,
      "outputs": [
        {
          "output_type": "execute_result",
          "data": {
            "text/plain": [
              "(2757, 2757)"
            ]
          },
          "metadata": {},
          "execution_count": 44
        }
      ]
    },
    {
      "cell_type": "code",
      "source": [
        "# Make train and test windows\n",
        "\n",
        "train_windows, test_windows, train_labels, test_labels = make_train_test_split(windows=full_windows,\n",
        "                                                                               labels=full_labels)\n",
        "len(train_windows), len(test_windows), len(train_labels), len(test_labels)"
      ],
      "metadata": {
        "colab": {
          "base_uri": "https://localhost:8080/"
        },
        "id": "yjUaFD4KeshH",
        "outputId": "a9f33ecf-9e79-49bb-c361-55ff55bd9f3f"
      },
      "execution_count": 45,
      "outputs": [
        {
          "output_type": "execute_result",
          "data": {
            "text/plain": [
              "(2205, 552, 2205, 552)"
            ]
          },
          "metadata": {},
          "execution_count": 45
        }
      ]
    },
    {
      "cell_type": "code",
      "source": [
        "tf.random.set_seed(42)\n",
        "\n",
        "# Create model\n",
        "model_2 = tf.keras.Sequential([\n",
        "    layers.Dense(128, activation=\"relu\"),\n",
        "    layers.Dense(HORIZON)\n",
        "], name=\"model_2_dense\")\n",
        "\n",
        "# Compile model\n",
        "model_2.compile(loss=\"mae\",\n",
        "                optimizer=tf.keras.optimizers.Adam())\n",
        "\n",
        "# Fit the model\n",
        "model_2.fit(train_windows,\n",
        "            train_labels,\n",
        "            epochs=100,\n",
        "            batch_size=128,\n",
        "            verbose=0,\n",
        "            validation_data=(test_windows, test_labels),\n",
        "            callbacks=[create_model_checkpoint(model_name=model_2.name)])"
      ],
      "metadata": {
        "colab": {
          "base_uri": "https://localhost:8080/"
        },
        "id": "c_AyIFtDfyfn",
        "outputId": "0c852ff0-4ba7-465d-c568-0abdcf85d7f5"
      },
      "execution_count": 46,
      "outputs": [
        {
          "output_type": "stream",
          "name": "stderr",
          "text": [
            "WARNING:absl:Found untraced functions such as _update_step_xla while saving (showing 1 of 1). These functions will not be directly callable after loading.\n",
            "WARNING:absl:Found untraced functions such as _update_step_xla while saving (showing 1 of 1). These functions will not be directly callable after loading.\n",
            "WARNING:absl:Found untraced functions such as _update_step_xla while saving (showing 1 of 1). These functions will not be directly callable after loading.\n",
            "WARNING:absl:Found untraced functions such as _update_step_xla while saving (showing 1 of 1). These functions will not be directly callable after loading.\n",
            "WARNING:absl:Found untraced functions such as _update_step_xla while saving (showing 1 of 1). These functions will not be directly callable after loading.\n",
            "WARNING:absl:Found untraced functions such as _update_step_xla while saving (showing 1 of 1). These functions will not be directly callable after loading.\n",
            "WARNING:absl:Found untraced functions such as _update_step_xla while saving (showing 1 of 1). These functions will not be directly callable after loading.\n",
            "WARNING:absl:Found untraced functions such as _update_step_xla while saving (showing 1 of 1). These functions will not be directly callable after loading.\n",
            "WARNING:absl:Found untraced functions such as _update_step_xla while saving (showing 1 of 1). These functions will not be directly callable after loading.\n",
            "WARNING:absl:Found untraced functions such as _update_step_xla while saving (showing 1 of 1). These functions will not be directly callable after loading.\n",
            "WARNING:absl:Found untraced functions such as _update_step_xla while saving (showing 1 of 1). These functions will not be directly callable after loading.\n",
            "WARNING:absl:Found untraced functions such as _update_step_xla while saving (showing 1 of 1). These functions will not be directly callable after loading.\n",
            "WARNING:absl:Found untraced functions such as _update_step_xla while saving (showing 1 of 1). These functions will not be directly callable after loading.\n",
            "WARNING:absl:Found untraced functions such as _update_step_xla while saving (showing 1 of 1). These functions will not be directly callable after loading.\n",
            "WARNING:absl:Found untraced functions such as _update_step_xla while saving (showing 1 of 1). These functions will not be directly callable after loading.\n",
            "WARNING:absl:Found untraced functions such as _update_step_xla while saving (showing 1 of 1). These functions will not be directly callable after loading.\n",
            "WARNING:absl:Found untraced functions such as _update_step_xla while saving (showing 1 of 1). These functions will not be directly callable after loading.\n",
            "WARNING:absl:Found untraced functions such as _update_step_xla while saving (showing 1 of 1). These functions will not be directly callable after loading.\n",
            "WARNING:absl:Found untraced functions such as _update_step_xla while saving (showing 1 of 1). These functions will not be directly callable after loading.\n",
            "WARNING:absl:Found untraced functions such as _update_step_xla while saving (showing 1 of 1). These functions will not be directly callable after loading.\n",
            "WARNING:absl:Found untraced functions such as _update_step_xla while saving (showing 1 of 1). These functions will not be directly callable after loading.\n",
            "WARNING:absl:Found untraced functions such as _update_step_xla while saving (showing 1 of 1). These functions will not be directly callable after loading.\n",
            "WARNING:absl:Found untraced functions such as _update_step_xla while saving (showing 1 of 1). These functions will not be directly callable after loading.\n",
            "WARNING:absl:Found untraced functions such as _update_step_xla while saving (showing 1 of 1). These functions will not be directly callable after loading.\n",
            "WARNING:absl:Found untraced functions such as _update_step_xla while saving (showing 1 of 1). These functions will not be directly callable after loading.\n",
            "WARNING:absl:Found untraced functions such as _update_step_xla while saving (showing 1 of 1). These functions will not be directly callable after loading.\n",
            "WARNING:absl:Found untraced functions such as _update_step_xla while saving (showing 1 of 1). These functions will not be directly callable after loading.\n",
            "WARNING:absl:Found untraced functions such as _update_step_xla while saving (showing 1 of 1). These functions will not be directly callable after loading.\n",
            "WARNING:absl:Found untraced functions such as _update_step_xla while saving (showing 1 of 1). These functions will not be directly callable after loading.\n",
            "WARNING:absl:Found untraced functions such as _update_step_xla while saving (showing 1 of 1). These functions will not be directly callable after loading.\n",
            "WARNING:absl:Found untraced functions such as _update_step_xla while saving (showing 1 of 1). These functions will not be directly callable after loading.\n",
            "WARNING:absl:Found untraced functions such as _update_step_xla while saving (showing 1 of 1). These functions will not be directly callable after loading.\n"
          ]
        },
        {
          "output_type": "execute_result",
          "data": {
            "text/plain": [
              "<keras.callbacks.History at 0x7f7be46cbd60>"
            ]
          },
          "metadata": {},
          "execution_count": 46
        }
      ]
    },
    {
      "cell_type": "code",
      "source": [
        "# Evaluate model_2 preds\n",
        "\n",
        "model_2.evaluate(test_windows, test_labels)"
      ],
      "metadata": {
        "colab": {
          "base_uri": "https://localhost:8080/"
        },
        "id": "9LXDjE10kaZ5",
        "outputId": "5b3f7cbf-e524-476e-ef30-394773cf5f96"
      },
      "execution_count": 47,
      "outputs": [
        {
          "output_type": "stream",
          "name": "stdout",
          "text": [
            "18/18 [==============================] - 0s 4ms/step - loss: 626.7998\n"
          ]
        },
        {
          "output_type": "execute_result",
          "data": {
            "text/plain": [
              "626.7998046875"
            ]
          },
          "metadata": {},
          "execution_count": 47
        }
      ]
    },
    {
      "cell_type": "code",
      "source": [
        "# Load in best performing model\n",
        "\n",
        "model_2 = tf.keras.models.load_model(\"model_experiments/model_2_dense\")\n",
        "model_2.evaluate(test_windows, test_labels)"
      ],
      "metadata": {
        "colab": {
          "base_uri": "https://localhost:8080/"
        },
        "id": "uaFe9xojknOD",
        "outputId": "d96ff690-cd6d-43b9-a354-bfa79c263738"
      },
      "execution_count": 48,
      "outputs": [
        {
          "output_type": "stream",
          "name": "stdout",
          "text": [
            "18/18 [==============================] - 0s 3ms/step - loss: 622.6226\n"
          ]
        },
        {
          "output_type": "execute_result",
          "data": {
            "text/plain": [
              "622.62255859375"
            ]
          },
          "metadata": {},
          "execution_count": 48
        }
      ]
    },
    {
      "cell_type": "code",
      "source": [
        "# Get forecast predictions\n",
        "\n",
        "model_2_preds = make_preds(model_2,\n",
        "                           input_data=test_windows)\n",
        "model_2_preds[-10:]"
      ],
      "metadata": {
        "colab": {
          "base_uri": "https://localhost:8080/"
        },
        "id": "dnQr8F4tlBDD",
        "outputId": "27c5e988-5d2c-4311-bc33-6594eac8c480"
      },
      "execution_count": 49,
      "outputs": [
        {
          "output_type": "stream",
          "name": "stdout",
          "text": [
            "18/18 [==============================] - 0s 3ms/step\n"
          ]
        },
        {
          "output_type": "execute_result",
          "data": {
            "text/plain": [
              "<tf.Tensor: shape=(10,), dtype=float32, numpy=\n",
              "array([56153.926, 58268.79 , 58499.457, 56253.938, 56514.63 , 52775.266,\n",
              "       51369.246, 49057.258, 47817.7  , 46591.883], dtype=float32)>"
            ]
          },
          "metadata": {},
          "execution_count": 49
        }
      ]
    },
    {
      "cell_type": "code",
      "source": [
        "# Evaluate results for model_2 prediction\n",
        "\n",
        "model_2_results = evaluate_preds(y_true=tf.squeeze(test_labels),\n",
        "                                 y_pred=model_2_preds)"
      ],
      "metadata": {
        "id": "xxZM5Vk8lr9C"
      },
      "execution_count": 50,
      "outputs": []
    },
    {
      "cell_type": "code",
      "source": [
        "model_2_results"
      ],
      "metadata": {
        "colab": {
          "base_uri": "https://localhost:8080/"
        },
        "id": "lKDHNuoqmH9g",
        "outputId": "53987dd0-41e6-45e7-d640-809a5bec2eff"
      },
      "execution_count": 51,
      "outputs": [
        {
          "output_type": "execute_result",
          "data": {
            "text/plain": [
              "{'mae': 622.6226,\n",
              " 'mse': 1280986.5,\n",
              " 'rmse': 1131.8068,\n",
              " 'mape': 2.839699,\n",
              " 'mase': 1.0883504}"
            ]
          },
          "metadata": {},
          "execution_count": 51
        }
      ]
    },
    {
      "cell_type": "markdown",
      "source": [
        "### Model 3: Dense (window = 30, horizon = 7)"
      ],
      "metadata": {
        "id": "ctMseeTZdYIi"
      }
    },
    {
      "cell_type": "code",
      "source": [
        "HORIZON = 7\n",
        "WINDOW_SIZE = 30\n",
        "\n",
        "full_windows, full_labels = make_windows(prices, window_size=WINDOW_SIZE, horizon=HORIZON)\n",
        "len(full_windows), len(full_labels)"
      ],
      "metadata": {
        "id": "56t6LzYnmJ2x",
        "colab": {
          "base_uri": "https://localhost:8080/"
        },
        "outputId": "f31b95f2-79e5-48ed-fc39-b50a635a1ed9"
      },
      "execution_count": 52,
      "outputs": [
        {
          "output_type": "execute_result",
          "data": {
            "text/plain": [
              "(2751, 2751)"
            ]
          },
          "metadata": {},
          "execution_count": 52
        }
      ]
    },
    {
      "cell_type": "code",
      "source": [
        "train_windows, test_windows, train_labels, test_labels = make_train_test_split(windows=full_windows, labels=full_labels)\n",
        "len(train_windows), len(test_windows), len(train_labels), len(test_labels)"
      ],
      "metadata": {
        "colab": {
          "base_uri": "https://localhost:8080/"
        },
        "id": "NTiPbNBZd7fP",
        "outputId": "442331b5-ba39-4849-ee5a-2431645077ab"
      },
      "execution_count": 53,
      "outputs": [
        {
          "output_type": "execute_result",
          "data": {
            "text/plain": [
              "(2200, 551, 2200, 551)"
            ]
          },
          "metadata": {},
          "execution_count": 53
        }
      ]
    },
    {
      "cell_type": "code",
      "source": [
        "tf.random.set_seed(42)\n",
        "\n",
        "model_3 = tf.keras.Sequential([\n",
        "    layers.Dense(128, activation=\"relu\"),\n",
        "    layers.Dense(HORIZON)\n",
        "], name = \"model_3_dense\")\n",
        "\n",
        "model_3.compile(loss=\"mae\",\n",
        "                optimizer=tf.keras.optimizers.Adam())\n",
        "\n",
        "model_3.fit(train_windows,\n",
        "            train_labels,\n",
        "            batch_size=128,\n",
        "            epochs=100,\n",
        "            verbose=0,\n",
        "            validation_data=(test_windows, test_labels),\n",
        "            callbacks=[create_model_checkpoint(model_name=model_3.name)])"
      ],
      "metadata": {
        "colab": {
          "base_uri": "https://localhost:8080/"
        },
        "id": "rnEDQrZFeWsc",
        "outputId": "6921dd49-bbd4-407b-8d90-b2fcf3e4793c"
      },
      "execution_count": 54,
      "outputs": [
        {
          "output_type": "stream",
          "name": "stderr",
          "text": [
            "WARNING:absl:Found untraced functions such as _update_step_xla while saving (showing 1 of 1). These functions will not be directly callable after loading.\n",
            "WARNING:absl:Found untraced functions such as _update_step_xla while saving (showing 1 of 1). These functions will not be directly callable after loading.\n",
            "WARNING:absl:Found untraced functions such as _update_step_xla while saving (showing 1 of 1). These functions will not be directly callable after loading.\n",
            "WARNING:absl:Found untraced functions such as _update_step_xla while saving (showing 1 of 1). These functions will not be directly callable after loading.\n",
            "WARNING:absl:Found untraced functions such as _update_step_xla while saving (showing 1 of 1). These functions will not be directly callable after loading.\n",
            "WARNING:absl:Found untraced functions such as _update_step_xla while saving (showing 1 of 1). These functions will not be directly callable after loading.\n",
            "WARNING:absl:Found untraced functions such as _update_step_xla while saving (showing 1 of 1). These functions will not be directly callable after loading.\n",
            "WARNING:absl:Found untraced functions such as _update_step_xla while saving (showing 1 of 1). These functions will not be directly callable after loading.\n",
            "WARNING:absl:Found untraced functions such as _update_step_xla while saving (showing 1 of 1). These functions will not be directly callable after loading.\n",
            "WARNING:absl:Found untraced functions such as _update_step_xla while saving (showing 1 of 1). These functions will not be directly callable after loading.\n",
            "WARNING:absl:Found untraced functions such as _update_step_xla while saving (showing 1 of 1). These functions will not be directly callable after loading.\n",
            "WARNING:absl:Found untraced functions such as _update_step_xla while saving (showing 1 of 1). These functions will not be directly callable after loading.\n",
            "WARNING:absl:Found untraced functions such as _update_step_xla while saving (showing 1 of 1). These functions will not be directly callable after loading.\n",
            "WARNING:absl:Found untraced functions such as _update_step_xla while saving (showing 1 of 1). These functions will not be directly callable after loading.\n",
            "WARNING:absl:Found untraced functions such as _update_step_xla while saving (showing 1 of 1). These functions will not be directly callable after loading.\n",
            "WARNING:absl:Found untraced functions such as _update_step_xla while saving (showing 1 of 1). These functions will not be directly callable after loading.\n",
            "WARNING:absl:Found untraced functions such as _update_step_xla while saving (showing 1 of 1). These functions will not be directly callable after loading.\n",
            "WARNING:absl:Found untraced functions such as _update_step_xla while saving (showing 1 of 1). These functions will not be directly callable after loading.\n",
            "WARNING:absl:Found untraced functions such as _update_step_xla while saving (showing 1 of 1). These functions will not be directly callable after loading.\n",
            "WARNING:absl:Found untraced functions such as _update_step_xla while saving (showing 1 of 1). These functions will not be directly callable after loading.\n",
            "WARNING:absl:Found untraced functions such as _update_step_xla while saving (showing 1 of 1). These functions will not be directly callable after loading.\n",
            "WARNING:absl:Found untraced functions such as _update_step_xla while saving (showing 1 of 1). These functions will not be directly callable after loading.\n",
            "WARNING:absl:Found untraced functions such as _update_step_xla while saving (showing 1 of 1). These functions will not be directly callable after loading.\n",
            "WARNING:absl:Found untraced functions such as _update_step_xla while saving (showing 1 of 1). These functions will not be directly callable after loading.\n"
          ]
        },
        {
          "output_type": "execute_result",
          "data": {
            "text/plain": [
              "<keras.callbacks.History at 0x7f7ba57cdf10>"
            ]
          },
          "metadata": {},
          "execution_count": 54
        }
      ]
    },
    {
      "cell_type": "code",
      "source": [
        "model_3.evaluate(test_windows, test_labels)"
      ],
      "metadata": {
        "colab": {
          "base_uri": "https://localhost:8080/"
        },
        "id": "NJgBoCyJfYZL",
        "outputId": "7a19506e-cc7e-4d49-d1c7-8cd50fcb77ce"
      },
      "execution_count": 55,
      "outputs": [
        {
          "output_type": "stream",
          "name": "stdout",
          "text": [
            "18/18 [==============================] - 0s 4ms/step - loss: 1431.2993\n"
          ]
        },
        {
          "output_type": "execute_result",
          "data": {
            "text/plain": [
              "1431.29931640625"
            ]
          },
          "metadata": {},
          "execution_count": 55
        }
      ]
    },
    {
      "cell_type": "code",
      "source": [
        "model_3 = tf.keras.models.load_model(\"model_experiments/model_3_dense/\")\n",
        "model_3.evaluate(test_windows, test_labels)"
      ],
      "metadata": {
        "colab": {
          "base_uri": "https://localhost:8080/"
        },
        "id": "rrC8_p1VfjG8",
        "outputId": "f3f7309d-5b0a-4432-9bff-cf86b4dfb7ac"
      },
      "execution_count": 56,
      "outputs": [
        {
          "output_type": "stream",
          "name": "stdout",
          "text": [
            "18/18 [==============================] - 0s 3ms/step - loss: 1227.8115\n"
          ]
        },
        {
          "output_type": "execute_result",
          "data": {
            "text/plain": [
              "1227.8115234375"
            ]
          },
          "metadata": {},
          "execution_count": 56
        }
      ]
    },
    {
      "cell_type": "code",
      "source": [
        "model_3_preds = make_preds(model_3,\n",
        "                           input_data=test_windows)\n",
        "model_3_preds[-5:]"
      ],
      "metadata": {
        "colab": {
          "base_uri": "https://localhost:8080/"
        },
        "id": "6HzRO1yCf2xs",
        "outputId": "01d91357-8218-459e-e4aa-9b0193698633"
      },
      "execution_count": 57,
      "outputs": [
        {
          "output_type": "stream",
          "name": "stdout",
          "text": [
            "18/18 [==============================] - 0s 2ms/step\n"
          ]
        },
        {
          "output_type": "execute_result",
          "data": {
            "text/plain": [
              "<tf.Tensor: shape=(5, 7), dtype=float32, numpy=\n",
              "array([[57931.336, 57180.85 , 55788.137, 57520.38 , 56491.453, 57146.03 ,\n",
              "        56997.055],\n",
              "       [57816.812, 57661.27 , 56811.68 , 57709.973, 57291.324, 57107.383,\n",
              "        57668.82 ],\n",
              "       [58885.92 , 59003.605, 58033.047, 59114.46 , 58059.246, 57997.426,\n",
              "        57623.55 ],\n",
              "       [59320.754, 59953.76 , 57901.203, 59673.465, 58795.76 , 59706.45 ,\n",
              "        58943.055],\n",
              "       [58390.656, 57588.574, 55616.06 , 58102.223, 57285.605, 58853.31 ,\n",
              "        58520.9  ]], dtype=float32)>"
            ]
          },
          "metadata": {},
          "execution_count": 57
        }
      ]
    },
    {
      "cell_type": "code",
      "source": [
        "model_3_results = evaluate_preds(y_true=tf.squeeze(test_labels),\n",
        "                                 y_pred=model_3_preds)\n",
        "model_3_results"
      ],
      "metadata": {
        "colab": {
          "base_uri": "https://localhost:8080/"
        },
        "id": "1jm6ig1AgH29",
        "outputId": "02d6921a-03f7-452d-bdbf-f50e2b2f4d51"
      },
      "execution_count": 58,
      "outputs": [
        {
          "output_type": "execute_result",
          "data": {
            "text/plain": [
              "{'mae': array([  689.81726 ,   432.6557  ,   323.20074 ,   527.5971  ,\n",
              "          527.6846  ,   493.82486 ,   429.93945 ,   543.285   ,\n",
              "          525.4868  ,   720.7243  ,   884.5263  ,   800.7203  ,\n",
              "          823.06006 ,   825.03253 ,   644.1453  ,   354.8496  ,\n",
              "          215.57512 ,   203.08127 ,   211.73361 ,   196.5842  ,\n",
              "          238.62166 ,   186.03195 ,   399.7468  ,   367.3635  ,\n",
              "          212.62535 ,   140.45222 ,   138.07164 ,   108.96708 ,\n",
              "          118.750694,   128.9774  ,   292.8265  ,   392.10318 ,\n",
              "          360.94196 ,   329.9064  ,   296.77338 ,   282.11246 ,\n",
              "          341.16705 ,   233.22824 ,   256.5645  ,   244.61433 ,\n",
              "          391.62332 ,   107.218956,   121.82966 ,    85.79799 ,\n",
              "          103.24505 ,   142.11496 ,    85.091934,   127.793594,\n",
              "          104.53362 ,   116.99477 ,   111.885254,   186.68123 ,\n",
              "          191.8074  ,   208.11398 ,   262.9687  ,   395.75845 ,\n",
              "          497.637   ,   480.6919  ,   492.50433 ,   466.52463 ,\n",
              "          395.24203 ,   197.70592 ,   296.53375 ,   294.76715 ,\n",
              "          374.17642 ,   476.75565 ,   427.05524 ,   466.2913  ,\n",
              "          140.44699 ,   250.02539 ,   342.90012 ,   446.05063 ,\n",
              "          628.6603  ,   506.30273 ,   386.1014  ,   394.9421  ,\n",
              "          378.62582 ,   379.2373  ,   520.27844 ,   705.06964 ,\n",
              "          709.4081  ,   560.1084  ,   230.44084 ,   136.84041 ,\n",
              "          232.56264 ,   219.2207  ,   260.66782 ,   355.52734 ,\n",
              "          381.43652 ,   530.5636  ,   395.76898 ,   326.73312 ,\n",
              "          252.06068 ,   211.19629 ,   274.4343  ,   272.82993 ,\n",
              "          353.72726 ,   593.13544 ,   681.87024 ,   789.72906 ,\n",
              "          591.41266 ,   343.113   ,   182.94531 ,   458.97195 ,\n",
              "          360.3355  ,   442.64258 ,   483.5381  ,   656.45636 ,\n",
              "          994.4424  ,  1072.9879  ,   904.20074 ,   423.63113 ,\n",
              "          262.9891  ,   254.75475 ,   211.43527 ,   306.88553 ,\n",
              "          385.99127 ,   539.9116  ,   618.7807  ,  1170.1537  ,\n",
              "         1729.6378  ,  2247.4956  ,  2080.3577  ,  2064.678   ,\n",
              "         2292.439   ,  2650.7163  ,  1275.2179  ,   597.71094 ,\n",
              "          438.87054 ,   322.23737 ,   357.0364  ,   366.54276 ,\n",
              "          468.39062 ,   229.26137 ,   210.58127 ,   274.46582 ,\n",
              "          308.46353 ,   264.26373 ,   287.9029  ,   326.64175 ,\n",
              "          310.61057 ,   303.60248 ,   406.76694 ,   631.1164  ,\n",
              "          667.7036  ,   410.04605 ,   451.6543  ,   209.90527 ,\n",
              "          263.15738 ,   193.68896 ,   184.85387 ,   306.39487 ,\n",
              "          334.2735  ,   676.1627  ,   529.9889  ,   262.68945 ,\n",
              "          214.20766 ,   273.12125 ,   273.77533 ,   181.58936 ,\n",
              "          244.88791 ,   210.7618  ,   206.64265 ,   297.97055 ,\n",
              "          302.04373 ,   369.92545 ,   466.5855  ,   604.92    ,\n",
              "          541.9891  ,   572.59796 ,   778.5633  ,   894.784   ,\n",
              "          932.0688  ,   982.715   ,   378.49973 ,   277.31598 ,\n",
              "          369.0706  ,   401.0505  ,   372.25894 ,   443.30258 ,\n",
              "          433.11203 ,   495.3838  ,   689.78406 ,  1034.4187  ,\n",
              "          992.7577  ,   321.59207 ,   474.44504 ,   684.9618  ,\n",
              "          329.2818  ,   239.4541  ,   217.20215 ,   254.32576 ,\n",
              "          313.60883 ,   498.6932  ,   673.7589  ,   616.67285 ,\n",
              "          343.2557  ,   268.39536 ,   341.88742 ,   328.56793 ,\n",
              "          606.9806  ,   716.5116  ,   565.1172  ,   303.30984 ,\n",
              "          233.9276  ,   235.74818 ,   176.85017 ,   471.5262  ,\n",
              "          162.86328 ,   166.04256 ,   208.6967  ,   273.08273 ,\n",
              "          211.01213 ,   267.5081  ,   368.19797 ,   451.87778 ,\n",
              "          595.2344  ,   256.42465 ,   146.02357 ,   258.17578 ,\n",
              "          250.68498 ,   172.46498 ,   246.11482 ,   258.5823  ,\n",
              "          166.20354 ,   190.68666 ,   200.95787 ,   249.18471 ,\n",
              "          396.3055  ,   558.4728  ,   424.76938 ,   240.39453 ,\n",
              "          267.1984  ,    85.887695,    90.84821 ,   107.754326,\n",
              "          138.46262 ,   175.14217 ,   138.1215  ,   133.21024 ,\n",
              "           77.97084 ,   108.111465,    95.084404,   124.50488 ,\n",
              "          329.20633 ,   190.30301 ,   186.41895 ,   119.46917 ,\n",
              "          183.41951 ,   183.28963 ,   198.98074 ,   158.61955 ,\n",
              "          180.9576  ,   190.83524 ,   258.9777  ,   322.74066 ,\n",
              "          528.0964  ,   599.43585 ,   734.16785 ,   868.18317 ,\n",
              "         1065.3971  ,  1281.3387  ,  1230.6078  ,   417.30887 ,\n",
              "          148.53572 ,   297.10617 ,   235.11928 ,   221.4993  ,\n",
              "          410.0978  ,   191.63016 ,   180.88156 ,   135.19113 ,\n",
              "          218.25545 ,   396.3531  ,   341.5413  ,   345.63156 ,\n",
              "          308.3227  ,   349.92007 ,   197.8683  ,   182.41658 ,\n",
              "          158.64328 ,   211.50418 ,   195.67996 ,   208.27428 ,\n",
              "          470.04367 ,   645.0537  ,   401.22656 ,   276.40347 ,\n",
              "          349.18988 ,   248.63268 ,   338.988   ,   322.9968  ,\n",
              "          166.1776  ,   220.36258 ,   291.5759  ,   398.40067 ,\n",
              "          619.65765 ,   916.3546  ,  1071.9376  ,  1589.3685  ,\n",
              "         1501.8185  ,   949.988   ,   602.1517  ,   126.215126,\n",
              "           97.37123 ,   194.93108 ,   196.05594 ,   282.08664 ,\n",
              "          269.12137 ,   262.83942 ,   336.04395 ,   279.93414 ,\n",
              "          150.05887 ,   167.2034  ,   441.69937 ,   432.61566 ,\n",
              "          379.66266 ,   485.0738  ,   423.4279  ,   145.94461 ,\n",
              "          156.88742 ,   266.96848 ,    84.454384,   141.9647  ,\n",
              "          235.30246 ,   278.29703 ,   383.30148 ,   430.9029  ,\n",
              "          344.52875 ,   187.0265  ,   199.30385 ,   241.36844 ,\n",
              "          290.55746 ,   464.17953 ,   512.9965  ,   558.5917  ,\n",
              "          516.2796  ,   328.9767  ,   169.45396 ,   128.91602 ,\n",
              "          351.49722 ,   274.29074 ,   430.13742 ,   606.8061  ,\n",
              "          746.0385  ,   952.874   ,  1092.6317  ,  1047.3259  ,\n",
              "         1063.2383  ,   306.61774 ,   249.62639 ,   199.6995  ,\n",
              "          285.85464 ,   241.79172 ,   208.37611 ,   303.5823  ,\n",
              "          183.72014 ,   405.36426 ,   614.15375 ,   633.04364 ,\n",
              "          814.32965 ,   925.483   ,  1087.4987  ,  1014.48895 ,\n",
              "          496.62793 ,   488.18903 ,   360.70132 ,   377.6512  ,\n",
              "          521.33844 ,   701.32996 ,   820.39996 ,   719.5092  ,\n",
              "          987.40344 ,  1252.7931  ,  1685.5566  ,  1451.7952  ,\n",
              "          872.77765 ,   350.84906 ,   423.38754 ,   664.30164 ,\n",
              "         1138.0502  ,  1183.7509  ,  1093.5673  ,  1185.0779  ,\n",
              "         1046.3577  ,   711.7949  ,  1338.2615  ,  1260.5     ,\n",
              "         1104.5658  ,   270.22516 ,   292.96762 ,   519.84094 ,\n",
              "          973.9188  ,   838.61884 ,   580.34735 ,   689.71985 ,\n",
              "          638.8192  ,   458.31305 ,   803.74384 ,  1555.3136  ,\n",
              "         2357.349   ,  2636.3726  ,  2952.924   ,  3131.5767  ,\n",
              "         3251.181   ,  2192.4746  ,   733.0985  ,   329.40933 ,\n",
              "          960.28906 ,  1170.233   ,  1291.1549  ,  1654.9475  ,\n",
              "         2314.132   ,  3026.5417  ,  2858.857   ,  2181.3552  ,\n",
              "         2436.1306  ,  2525.0598  ,  3259.5544  ,  2989.8196  ,\n",
              "         3889.8257  ,  4757.6772  ,  4506.245   ,  4050.6047  ,\n",
              "         4429.6587  ,  3247.905   ,  2668.8386  ,  2450.3884  ,\n",
              "         4324.6196  ,  5640.3877  ,  4819.81    ,  1638.3555  ,\n",
              "          940.8086  ,   762.30524 ,  3097.6245  ,  3275.0447  ,\n",
              "         2875.966   ,  2814.6233  ,  3149.7112  ,  4024.5605  ,\n",
              "         3751.2727  ,   980.137   ,  1427.8075  ,  1534.6434  ,\n",
              "         1415.3368  ,  2012.6278  ,  2427.0032  ,  3713.53    ,\n",
              "         2686.024   ,  1841.4001  ,  2002.7975  ,  3240.0278  ,\n",
              "         4554.5923  ,  5329.0093  ,  4469.5205  ,  5003.6377  ,\n",
              "         6097.328   ,  5832.012   ,  6774.251   ,  3966.5486  ,\n",
              "         1560.8192  ,  1252.3326  ,  1666.9733  ,  2372.069   ,\n",
              "         2458.4124  ,  3244.5664  ,  3090.4202  ,  3203.424   ,\n",
              "         2612.1636  ,  3677.8767  ,  5522.409   ,  7367.9644  ,\n",
              "        10336.413   ,  9193.692   ,  5249.173   ,  3093.466   ,\n",
              "         2089.3376  ,  1987.5614  ,  3123.164   ,  4365.8994  ,\n",
              "         2523.399   ,  3189.4153  ,  2365.048   ,  4203.566   ,\n",
              "         4260.208   ,  5730.405   ,  6137.9062  ,  5998.855   ,\n",
              "         3672.102   ,  2608.9487  ,  1667.278   ,  1020.86383 ,\n",
              "         2390.856   ,  4160.716   ,  2108.9878  ,  1207.6741  ,\n",
              "         2917.773   ,  4034.2986  ,  5704.5415  ,  4980.7783  ,\n",
              "         5571.542   ,  2258.5325  ,  1596.1875  ,  2876.707   ,\n",
              "         3954.4587  ,  3608.2747  ,  2407.889   ,  2477.8901  ,\n",
              "         1105.0039  ,   764.221   ,  1002.5508  ,  1052.755   ,\n",
              "         1515.6897  ,  1094.7394  ,  1109.0228  ,  1448.7087  ,\n",
              "         1881.7806  ,  2684.7166  ,  2834.727   ,  3072.7405  ,\n",
              "         1762.2908  ,  2099.8293  ,  2589.6367  ,  3500.5903  ,\n",
              "         6012.749   ,  8080.9756  ,  8546.829   ,  8903.759   ,\n",
              "         6716.8657  ,  4793.2583  ,  4420.0015  ,  3146.1033  ,\n",
              "         1777.2355  ,  2824.7913  ,  4003.198   ,  5085.572   ,\n",
              "         2887.8293  ,  1582.6339  ,  1759.9364  ,  1745.0553  ,\n",
              "         1043.467   ,  1816.947   ,  1434.577   ,  1668.9961  ,\n",
              "         2101.3538  ,  1498.827   ,  2694.8137  ,  3395.3933  ,\n",
              "         5499.3853  ,  8081.4946  ,  8457.772   ], dtype=float32),\n",
              " 'mse': array([5.12698312e+05, 2.42216156e+05, 1.38317094e+05, 3.09162688e+05,\n",
              "        3.54665844e+05, 2.92126406e+05, 2.00840750e+05, 3.71096938e+05,\n",
              "        4.26911031e+05, 7.34816875e+05, 9.75537938e+05, 8.25943312e+05,\n",
              "        7.58338000e+05, 7.18251375e+05, 4.40218062e+05, 1.52435406e+05,\n",
              "        6.17641836e+04, 5.50388477e+04, 5.17866797e+04, 6.93387188e+04,\n",
              "        6.01956172e+04, 5.09249062e+04, 1.74975750e+05, 1.50383016e+05,\n",
              "        6.11350430e+04, 3.56675039e+04, 2.99650527e+04, 2.37744961e+04,\n",
              "        1.80979473e+04, 2.50036309e+04, 1.03574953e+05, 1.63558969e+05,\n",
              "        1.54000703e+05, 1.55878969e+05, 1.40675500e+05, 1.35975297e+05,\n",
              "        1.69114250e+05, 8.44059531e+04, 1.24411008e+05, 8.51470078e+04,\n",
              "        1.62935266e+05, 1.54902705e+04, 1.89879746e+04, 1.02712363e+04,\n",
              "        1.44267441e+04, 2.93917070e+04, 1.14790615e+04, 1.89906699e+04,\n",
              "        1.86032363e+04, 2.06899023e+04, 2.65612656e+04, 4.57866172e+04,\n",
              "        5.48739375e+04, 5.57482852e+04, 1.12965539e+05, 2.34818203e+05,\n",
              "        3.46111438e+05, 3.18402812e+05, 3.04903344e+05, 2.55917719e+05,\n",
              "        1.70978281e+05, 7.11667656e+04, 1.40817922e+05, 1.64218703e+05,\n",
              "        2.04785031e+05, 3.00410562e+05, 2.03028125e+05, 2.31378172e+05,\n",
              "        2.88170625e+04, 7.95637031e+04, 1.62314891e+05, 2.29178516e+05,\n",
              "        4.20887344e+05, 3.00256156e+05, 1.95224422e+05, 1.89874172e+05,\n",
              "        1.73412359e+05, 2.18719891e+05, 3.63312281e+05, 6.13413562e+05,\n",
              "        5.64209812e+05, 3.53591750e+05, 7.86954453e+04, 2.85680312e+04,\n",
              "        7.32422266e+04, 6.79391484e+04, 8.47249297e+04, 1.69261141e+05,\n",
              "        1.71536672e+05, 3.41780062e+05, 2.26673281e+05, 1.53483016e+05,\n",
              "        8.94575859e+04, 4.77139492e+04, 1.09638305e+05, 9.43470391e+04,\n",
              "        2.16910078e+05, 4.29242062e+05, 5.50144500e+05, 6.45010625e+05,\n",
              "        3.79947969e+05, 1.47154750e+05, 3.82394453e+04, 2.39045359e+05,\n",
              "        2.74250969e+05, 3.38235406e+05, 3.77221188e+05, 6.50563438e+05,\n",
              "        1.11305500e+06, 1.21340475e+06, 8.25873188e+05, 1.95000469e+05,\n",
              "        8.38260391e+04, 7.53835859e+04, 5.60259102e+04, 1.11219312e+05,\n",
              "        2.35162328e+05, 4.15470969e+05, 5.47754062e+05, 2.39047300e+06,\n",
              "        4.27492650e+06, 6.51684100e+06, 5.71943150e+06, 5.56484500e+06,\n",
              "        6.01761350e+06, 7.08850000e+06, 1.74585200e+06, 4.49739438e+05,\n",
              "        2.41999000e+05, 1.55904094e+05, 2.08025469e+05, 2.23065203e+05,\n",
              "        2.54340609e+05, 8.71619297e+04, 5.50416523e+04, 1.34840547e+05,\n",
              "        1.23412695e+05, 1.18909164e+05, 1.19458914e+05, 1.83876891e+05,\n",
              "        1.67752516e+05, 1.77366219e+05, 1.92636375e+05, 4.74819000e+05,\n",
              "        6.26786438e+05, 2.37230734e+05, 2.54739078e+05, 6.58413359e+04,\n",
              "        1.00362977e+05, 4.20464688e+04, 6.14140977e+04, 1.36121000e+05,\n",
              "        1.54357828e+05, 4.97755781e+05, 3.25538562e+05, 9.30569297e+04,\n",
              "        6.97162812e+04, 7.75703750e+04, 9.04323594e+04, 4.41564297e+04,\n",
              "        8.27825859e+04, 6.51852500e+04, 6.48282148e+04, 1.02542859e+05,\n",
              "        1.06383586e+05, 1.71132094e+05, 2.59285516e+05, 5.65970250e+05,\n",
              "        6.27394812e+05, 6.47864938e+05, 9.34592375e+05, 1.08343475e+06,\n",
              "        9.57861062e+05, 9.72554438e+05, 2.10997094e+05, 1.85337234e+05,\n",
              "        1.94411203e+05, 2.09558969e+05, 1.56724406e+05, 2.25487016e+05,\n",
              "        2.26781516e+05, 3.31524156e+05, 7.45413812e+05, 1.24967625e+06,\n",
              "        1.08462038e+06, 1.34600281e+05, 2.83045000e+05, 5.25464062e+05,\n",
              "        1.21032766e+05, 7.68538047e+04, 1.06290977e+05, 8.06474375e+04,\n",
              "        1.52008609e+05, 2.82024844e+05, 4.78846281e+05, 4.07005281e+05,\n",
              "        1.47989500e+05, 9.18416172e+04, 1.36369016e+05, 1.33632781e+05,\n",
              "        5.33339625e+05, 6.43953000e+05, 4.30350938e+05, 1.47239953e+05,\n",
              "        1.35374781e+05, 7.97289219e+04, 6.56305859e+04, 2.78595656e+05,\n",
              "        4.66749258e+04, 3.59898750e+04, 5.70073242e+04, 1.26789102e+05,\n",
              "        5.68827812e+04, 1.01573414e+05, 1.61481984e+05, 2.44504078e+05,\n",
              "        3.66851281e+05, 7.88196953e+04, 2.98379863e+04, 7.67369609e+04,\n",
              "        7.71401953e+04, 3.75290312e+04, 6.90994609e+04, 8.49455781e+04,\n",
              "        3.64188398e+04, 4.66720195e+04, 5.42345508e+04, 7.66313672e+04,\n",
              "        1.92275641e+05, 3.21651719e+05, 1.86419219e+05, 6.90254766e+04,\n",
              "        9.65226328e+04, 1.25437959e+04, 1.01711260e+04, 1.88112559e+04,\n",
              "        2.64355762e+04, 4.46260000e+04, 2.47772676e+04, 2.93856504e+04,\n",
              "        1.30697900e+04, 2.54132461e+04, 1.28181816e+04, 2.06616875e+04,\n",
              "        1.13208859e+05, 4.55317734e+04, 3.83903047e+04, 1.74222090e+04,\n",
              "        4.08289414e+04, 3.95426875e+04, 4.79583203e+04, 3.27335332e+04,\n",
              "        4.19268125e+04, 4.72000117e+04, 7.39819453e+04, 1.31123828e+05,\n",
              "        5.94248500e+05, 7.61561438e+05, 1.01724294e+06, 1.10580312e+06,\n",
              "        1.48805138e+06, 1.93981962e+06, 1.58835138e+06, 2.18946750e+05,\n",
              "        4.49881992e+04, 1.04869109e+05, 7.26802266e+04, 9.88952031e+04,\n",
              "        2.47953234e+05, 6.26023516e+04, 5.01289297e+04, 2.35161348e+04,\n",
              "        7.41575156e+04, 1.86427891e+05, 1.63724500e+05, 1.62551484e+05,\n",
              "        1.34652781e+05, 1.66552016e+05, 8.35575547e+04, 7.88409297e+04,\n",
              "        3.49754453e+04, 7.30514453e+04, 4.53104492e+04, 4.87199648e+04,\n",
              "        2.56907844e+05, 4.45242812e+05, 1.94605016e+05, 9.11146094e+04,\n",
              "        1.48287797e+05, 7.82983594e+04, 1.60096172e+05, 1.49465766e+05,\n",
              "        4.27703555e+04, 6.16589922e+04, 1.62981766e+05, 2.94546438e+05,\n",
              "        6.53397312e+05, 1.34332162e+06, 1.52403488e+06, 2.72423025e+06,\n",
              "        2.30412300e+06, 9.26687312e+05, 3.99996938e+05, 3.02161777e+04,\n",
              "        1.62266260e+04, 5.93838867e+04, 6.17450078e+04, 1.19781852e+05,\n",
              "        1.20943266e+05, 7.94386875e+04, 1.28082438e+05, 9.42686719e+04,\n",
              "        3.13476309e+04, 5.60171602e+04, 2.49134859e+05, 2.37701141e+05,\n",
              "        1.72579531e+05, 2.78075719e+05, 2.15076828e+05, 5.87178438e+04,\n",
              "        4.11006367e+04, 8.20512656e+04, 1.31724736e+04, 2.55215312e+04,\n",
              "        7.43873047e+04, 9.36069609e+04, 1.61266891e+05, 1.95391875e+05,\n",
              "        1.26740859e+05, 4.15800195e+04, 5.76532227e+04, 1.26976867e+05,\n",
              "        1.37105328e+05, 2.73562188e+05, 3.36534469e+05, 3.97656000e+05,\n",
              "        3.11856469e+05, 1.53531125e+05, 3.25398223e+04, 2.15838848e+04,\n",
              "        1.55750781e+05, 9.22623594e+04, 3.45999688e+05, 7.20914438e+05,\n",
              "        9.16597062e+05, 1.25214800e+06, 1.51362112e+06, 1.28462862e+06,\n",
              "        1.18836912e+06, 1.56633547e+05, 9.50604609e+04, 5.30361016e+04,\n",
              "        1.07832711e+05, 7.89175391e+04, 5.85760352e+04, 1.09971430e+05,\n",
              "        5.15764180e+04, 5.05531312e+05, 8.33683188e+05, 6.81305312e+05,\n",
              "        9.45121938e+05, 1.17040712e+06, 1.42650238e+06, 1.10021788e+06,\n",
              "        3.43392062e+05, 3.55254062e+05, 2.00463734e+05, 1.83094078e+05,\n",
              "        3.70633344e+05, 8.02267438e+05, 1.25845325e+06, 8.43025875e+05,\n",
              "        1.24804888e+06, 2.07107175e+06, 3.29266650e+06, 2.32838175e+06,\n",
              "        9.57948375e+05, 1.58968750e+05, 3.07490938e+05, 9.02678062e+05,\n",
              "        1.90705762e+06, 2.05640262e+06, 1.84566175e+06, 2.16534225e+06,\n",
              "        1.78068625e+06, 6.41690812e+05, 2.06623312e+06, 1.79855000e+06,\n",
              "        1.29336200e+06, 1.52348391e+05, 1.38348812e+05, 3.69594438e+05,\n",
              "        1.10202938e+06, 9.11719312e+05, 4.50165281e+05, 5.83501000e+05,\n",
              "        5.94241000e+05, 2.84244062e+05, 1.28744938e+06, 4.49738050e+06,\n",
              "        8.51588500e+06, 1.05628140e+07, 1.19052030e+07, 1.19245550e+07,\n",
              "        1.10491430e+07, 4.98493250e+06, 7.69443875e+05, 2.21429656e+05,\n",
              "        1.25074688e+06, 1.71721712e+06, 2.45957800e+06, 3.82854425e+06,\n",
              "        7.31529350e+06, 1.15718510e+07, 9.90565900e+06, 8.04727900e+06,\n",
              "        1.01054660e+07, 9.38672900e+06, 1.40509930e+07, 1.45648940e+07,\n",
              "        2.44361900e+07, 3.38860400e+07, 3.06128280e+07, 2.09505740e+07,\n",
              "        2.51220980e+07, 1.52506750e+07, 8.43869600e+06, 1.07239680e+07,\n",
              "        2.45341300e+07, 3.49937800e+07, 2.44346680e+07, 3.75357975e+06,\n",
              "        1.55627288e+06, 8.63340812e+05, 1.27944410e+07, 1.59987830e+07,\n",
              "        1.30765990e+07, 1.24929120e+07, 1.22554580e+07, 1.83629700e+07,\n",
              "        1.47918650e+07, 1.64339825e+06, 3.17400775e+06, 3.31647425e+06,\n",
              "        3.09220875e+06, 5.19541950e+06, 6.75752150e+06, 1.57615250e+07,\n",
              "        1.00171920e+07, 4.99765650e+06, 6.09069100e+06, 1.40586750e+07,\n",
              "        3.06695860e+07, 4.56263800e+07, 3.46855560e+07, 3.68934280e+07,\n",
              "        4.87203520e+07, 3.98221560e+07, 4.80560680e+07, 1.80555760e+07,\n",
              "        2.67281275e+06, 3.90887325e+06, 4.17772800e+06, 9.56842600e+06,\n",
              "        1.08472420e+07, 1.67818060e+07, 1.38940630e+07, 1.30653170e+07,\n",
              "        8.29100100e+06, 1.72203660e+07, 4.45245880e+07, 6.65076840e+07,\n",
              "        1.16570600e+08, 8.79836000e+07, 3.03621120e+07, 1.20138340e+07,\n",
              "        5.83461150e+06, 5.21424100e+06, 1.13305200e+07, 2.03684120e+07,\n",
              "        8.35656700e+06, 1.36081820e+07, 9.97360100e+06, 3.00837400e+07,\n",
              "        2.78187820e+07, 4.60319120e+07, 4.89319120e+07, 4.06588880e+07,\n",
              "        1.64769170e+07, 1.02498330e+07, 3.31794875e+06, 1.45602712e+06,\n",
              "        6.98709700e+06, 1.88082980e+07, 6.27221200e+06, 4.01504475e+06,\n",
              "        1.22132780e+07, 2.35795800e+07, 3.75715760e+07, 2.94455180e+07,\n",
              "        3.28583880e+07, 7.06371550e+06, 4.26188700e+06, 1.08275220e+07,\n",
              "        1.86616420e+07, 1.64001070e+07, 6.73628400e+06, 6.76640800e+06,\n",
              "        1.41741825e+06, 9.71104062e+05, 1.73742388e+06, 2.00764025e+06,\n",
              "        2.96885650e+06, 1.56453712e+06, 1.79867538e+06, 2.72501450e+06,\n",
              "        5.91059600e+06, 1.17578330e+07, 1.11473670e+07, 1.20524020e+07,\n",
              "        5.37230300e+06, 5.59018050e+06, 1.03821290e+07, 2.06989480e+07,\n",
              "        4.64075320e+07, 7.48620880e+07, 8.15089920e+07, 8.60627360e+07,\n",
              "        5.25555080e+07, 2.84774360e+07, 2.41261460e+07, 1.46539310e+07,\n",
              "        4.71387600e+06, 1.02101810e+07, 1.83315720e+07, 2.88764640e+07,\n",
              "        9.96105400e+06, 3.19984625e+06, 3.81702975e+06, 3.33298400e+06,\n",
              "        2.95165600e+06, 4.35078350e+06, 3.85723750e+06, 4.84602400e+06,\n",
              "        5.88277850e+06, 4.40114700e+06, 1.27398880e+07, 2.03314840e+07,\n",
              "        4.13089800e+07, 7.85938320e+07, 9.03697120e+07], dtype=float32),\n",
              " 'rmse': array([  716.02954 ,   492.1546  ,   371.91006 ,   556.024   ,\n",
              "          595.53827 ,   540.4872  ,   448.1526  ,   609.17725 ,\n",
              "          653.3843  ,   857.2146  ,   987.69324 ,   908.8142  ,\n",
              "          870.82605 ,   847.49713 ,   663.4893  ,   390.42978 ,\n",
              "          248.52402 ,   234.60359 ,   227.56686 ,   263.32245 ,\n",
              "          245.34795 ,   225.66547 ,   418.30103 ,   387.79248 ,\n",
              "          247.255   ,   188.85843 ,   173.10416 ,   154.1898  ,\n",
              "          134.52861 ,   158.12537 ,   321.83063 ,   404.42426 ,\n",
              "          392.42923 ,   394.8151  ,   375.06732 ,   368.7483  ,\n",
              "          411.23502 ,   290.527   ,   352.71945 ,   291.7996  ,\n",
              "          403.6524  ,   124.459915,   137.79686 ,   101.34711 ,\n",
              "          120.11138 ,   171.4401  ,   107.14038 ,   137.80664 ,\n",
              "          136.39368 ,   143.83984 ,   162.97627 ,   213.97807 ,\n",
              "          234.25186 ,   236.11075 ,   336.10345 ,   484.58044 ,\n",
              "          588.3124  ,   564.2719  ,   552.18054 ,   505.88312 ,\n",
              "          413.49518 ,   266.771   ,   375.25714 ,   405.23907 ,\n",
              "          452.5318  ,   548.0972  ,   450.58643 ,   481.01785 ,\n",
              "          169.75589 ,   282.07037 ,   402.8832  ,   478.72592 ,\n",
              "          648.7583  ,   547.95636 ,   441.84207 ,   435.74554 ,\n",
              "          416.4281  ,   467.675   ,   602.7539  ,   783.2072  ,\n",
              "          751.13904 ,   594.6358  ,   280.52707 ,   169.0208  ,\n",
              "          270.633   ,   260.6514  ,   291.07547 ,   411.41357 ,\n",
              "          414.16986 ,   584.61957 ,   476.10217 ,   391.76907 ,\n",
              "          299.0946  ,   218.43523 ,   331.11676 ,   307.15964 ,\n",
              "          465.73605 ,   655.16565 ,   741.7172  ,   803.12555 ,\n",
              "          616.3992  ,   383.60754 ,   195.54909 ,   488.92264 ,\n",
              "          523.68976 ,   581.5801  ,   614.18335 ,   806.57513 ,\n",
              "         1055.0143  ,  1101.5465  ,   908.77563 ,   441.58856 ,\n",
              "          289.52725 ,   274.5607  ,   236.69792 ,   333.49557 ,\n",
              "          484.9354  ,   644.5704  ,   740.1041  ,  1546.1155  ,\n",
              "         2067.5894  ,  2552.8103  ,  2391.5332  ,  2358.9924  ,\n",
              "         2453.0825  ,  2662.4236  ,  1321.3069  ,   670.62616 ,\n",
              "          491.93393 ,   394.84692 ,   456.09808 ,   472.2978  ,\n",
              "          504.32193 ,   295.232   ,   234.60957 ,   367.20642 ,\n",
              "          351.30142 ,   344.83206 ,   345.6283  ,   428.8087  ,\n",
              "          409.57602 ,   421.14868 ,   438.9036  ,   689.0711  ,\n",
              "          791.6984  ,   487.0634  ,   504.71683 ,   256.59564 ,\n",
              "          316.80115 ,   205.05235 ,   247.81868 ,   368.9458  ,\n",
              "          392.88397 ,   705.51807 ,   570.5599  ,   305.05234 ,\n",
              "          264.0384  ,   278.5146  ,   300.71973 ,   210.13431 ,\n",
              "          287.71964 ,   255.31403 ,   254.61385 ,   320.22314 ,\n",
              "          326.16498 ,   413.68115 ,   509.20087 ,   752.30994 ,\n",
              "          792.0826  ,   804.9006  ,   966.74316 ,  1040.8817  ,\n",
              "          978.7038  ,   986.18176 ,   459.34418 ,   430.50812 ,\n",
              "          440.92087 ,   457.7761  ,   395.88434 ,   474.85474 ,\n",
              "          476.21582 ,   575.7814  ,   863.3735  ,  1117.8892  ,\n",
              "         1041.451   ,   366.87912 ,   532.0197  ,   724.889   ,\n",
              "          347.89764 ,   277.2252  ,   326.02298 ,   283.98492 ,\n",
              "          389.8828  ,   531.0601  ,   691.9872  ,   637.96967 ,\n",
              "          384.69403 ,   303.05383 ,   369.28177 ,   365.55817 ,\n",
              "          730.301   ,   802.4668  ,   656.01135 ,   383.7186  ,\n",
              "          367.9331  ,   282.3631  ,   256.18466 ,   527.8216  ,\n",
              "          216.04381 ,   189.70998 ,   238.76207 ,   356.0746  ,\n",
              "          238.50111 ,   318.70584 ,   401.8482  ,   494.47354 ,\n",
              "          605.6825  ,   280.74844 ,   172.73676 ,   277.01437 ,\n",
              "          277.74124 ,   193.7241  ,   262.86777 ,   291.45425 ,\n",
              "          190.8372  ,   216.03708 ,   232.88313 ,   276.8237  ,\n",
              "          438.49246 ,   567.14343 ,   431.7629  ,   262.727   ,\n",
              "          310.6809  ,   111.99909 ,   100.852   ,   137.15413 ,\n",
              "          162.59021 ,   211.24867 ,   157.40796 ,   171.42242 ,\n",
              "          114.32318 ,   159.41533 ,   113.21741 ,   143.74174 ,\n",
              "          336.46524 ,   213.38176 ,   195.93443 ,   131.99321 ,\n",
              "          202.06172 ,   198.85342 ,   218.99388 ,   180.9241  ,\n",
              "          204.76038 ,   217.25563 ,   271.99622 ,   362.11023 ,\n",
              "          770.8751  ,   872.67487 ,  1008.5846  ,  1051.5718  ,\n",
              "         1219.857   ,  1392.774   ,  1260.2981  ,   467.91748 ,\n",
              "          212.10422 ,   323.835   ,   269.5927  ,   314.47607 ,\n",
              "          497.94904 ,   250.20462 ,   223.89491 ,   153.34972 ,\n",
              "          272.31876 ,   431.77295 ,   404.62885 ,   403.17673 ,\n",
              "          366.95065 ,   408.10785 ,   289.06323 ,   280.78625 ,\n",
              "          187.01723 ,   270.2803  ,   212.8625  ,   220.726   ,\n",
              "          506.86078 ,   667.26514 ,   441.14056 ,   301.85196 ,\n",
              "          385.08154 ,   279.81842 ,   400.12018 ,   386.60803 ,\n",
              "          206.80995 ,   248.31229 ,   403.71    ,   542.7213  ,\n",
              "          808.32996 ,  1159.0175  ,  1234.5181  ,  1650.5242  ,\n",
              "         1517.9337  ,   962.646   ,   632.4531  ,   173.828   ,\n",
              "          127.38377 ,   243.6881  ,   248.48543 ,   346.09515 ,\n",
              "          347.76898 ,   281.8487  ,   357.88605 ,   307.03204 ,\n",
              "          177.05263 ,   236.67944 ,   499.1341  ,   487.54602 ,\n",
              "          415.4269  ,   527.32886 ,   463.76376 ,   242.31766 ,\n",
              "          202.73291 ,   286.44592 ,   114.77139 ,   159.7546  ,\n",
              "          272.74036 ,   305.95255 ,   401.5805  ,   442.03152 ,\n",
              "          356.00684 ,   203.91179 ,   240.11086 ,   356.33813 ,\n",
              "          370.27737 ,   523.03174 ,   580.1159  ,   630.59973 ,\n",
              "          558.4411  ,   391.83047 ,   180.38797 ,   146.91455 ,\n",
              "          394.65274 ,   303.7472  ,   588.21735 ,   849.0668  ,\n",
              "          957.39075 ,  1118.9941  ,  1230.2931  ,  1133.4146  ,\n",
              "         1090.1234  ,   395.76956 ,   308.31876 ,   230.29568 ,\n",
              "          328.3789  ,   280.92264 ,   242.02486 ,   331.61942 ,\n",
              "          227.10442 ,   711.00726 ,   913.06256 ,   825.4122  ,\n",
              "          972.1738  ,  1081.8535  ,  1194.3627  ,  1048.9127  ,\n",
              "          585.99664 ,   596.0319  ,   447.73175 ,   427.89493 ,\n",
              "          608.79663 ,   895.69385 ,  1121.808   ,   918.16437 ,\n",
              "         1117.161   ,  1439.1218  ,  1814.5706  ,  1525.9036  ,\n",
              "          978.74835 ,   398.70886 ,   554.5186  ,   950.0937  ,\n",
              "         1380.9625  ,  1434.0162  ,  1358.5513  ,  1471.5101  ,\n",
              "         1334.4236  ,   801.056   ,  1437.4398  ,  1341.1003  ,\n",
              "         1137.2607  ,   390.3183  ,   371.9527  ,   607.94275 ,\n",
              "         1049.7759  ,   954.8399  ,   670.9436  ,   763.8724  ,\n",
              "          770.8703  ,   533.14545 ,  1134.6582  ,  2120.703   ,\n",
              "         2918.199   ,  3250.0483  ,  3450.3916  ,  3453.1948  ,\n",
              "         3324.0251  ,  2232.6963  ,   877.1795  ,   470.5631  ,\n",
              "         1118.3679  ,  1310.4263  ,  1568.3042  ,  1956.6666  ,\n",
              "         2704.68    ,  3401.7422  ,  3147.3257  ,  2836.7727  ,\n",
              "         3178.9094  ,  3063.7769  ,  3748.4653  ,  3816.398   ,\n",
              "         4943.2974  ,  5821.172   ,  5532.8857  ,  4577.1797  ,\n",
              "         5012.195   ,  3905.2112  ,  2904.9434  ,  3274.747   ,\n",
              "         4953.194   ,  5915.554   ,  4943.1436  ,  1937.4158  ,\n",
              "         1247.5067  ,   929.1613  ,  3576.9316  ,  3999.848   ,\n",
              "         3616.158   ,  3534.5312  ,  3500.7795  ,  4285.2036  ,\n",
              "         3846.0193  ,  1281.9509  ,  1781.5745  ,  1821.1189  ,\n",
              "         1758.4677  ,  2279.3462  ,  2599.5232  ,  3970.0786  ,\n",
              "         3164.9949  ,  2235.544   ,  2467.9324  ,  3749.49    ,\n",
              "         5538.0127  ,  6754.73    ,  5889.4443  ,  6073.996   ,\n",
              "         6979.9966  ,  6310.48    ,  6932.2485  ,  4249.1855  ,\n",
              "         1634.8739  ,  1977.087   ,  2043.9491  ,  3093.287   ,\n",
              "         3293.5151  ,  4096.56    ,  3727.474   ,  3614.5977  ,\n",
              "         2879.41    ,  4149.7427  ,  6672.675   ,  8155.224   ,\n",
              "        10796.786   ,  9379.957   ,  5510.1826  ,  3466.098   ,\n",
              "         2415.494   ,  2283.4712  ,  3366.0837  ,  4513.1377  ,\n",
              "         2890.7727  ,  3688.927   ,  3158.1008  ,  5484.8647  ,\n",
              "         5274.351   ,  6784.682   ,  6995.135   ,  6376.432   ,\n",
              "         4059.177   ,  3201.536   ,  1821.5237  ,  1206.6594  ,\n",
              "         2643.3118  ,  4336.8535  ,  2504.4385  ,  2003.7577  ,\n",
              "         3494.75    ,  4855.881   ,  6129.566   ,  5426.3726  ,\n",
              "         5732.2236  ,  2657.7651  ,  2064.4338  ,  3290.52    ,\n",
              "         4319.912   ,  4049.7046  ,  2595.4353  ,  2601.232   ,\n",
              "         1190.5537  ,   985.4461  ,  1318.1138  ,  1416.9122  ,\n",
              "         1723.037   ,  1250.8146  ,  1341.1471  ,  1650.7617  ,\n",
              "         2431.1716  ,  3428.9697  ,  3338.767   ,  3471.657   ,\n",
              "         2317.8228  ,  2364.3562  ,  3222.131   ,  4549.6094  ,\n",
              "         6812.307   ,  8652.288   ,  9028.233   ,  9277.      ,\n",
              "         7249.5176  ,  5336.4253  ,  4911.8374  ,  3828.0452  ,\n",
              "         2171.1462  ,  3195.3374  ,  4281.5386  ,  5373.6826  ,\n",
              "         3156.1138  ,  1788.8114  ,  1953.722   ,  1825.6462  ,\n",
              "         1718.0383  ,  2085.853   ,  1963.9851  ,  2201.3687  ,\n",
              "         2425.444   ,  2097.891   ,  3569.2979  ,  4509.0444  ,\n",
              "         6427.206   ,  8865.316   ,  9506.298   ], dtype=float32),\n",
              " 'mape': array([ 7.87611   ,  4.9923086 ,  3.7582946 ,  6.141228  ,  6.229167  ,\n",
              "         5.8918333 ,  5.174226  ,  6.734071  ,  6.8075395 ,  9.520919  ,\n",
              "        11.913282  , 10.972621  , 11.327152  , 11.366625  ,  8.906115  ,\n",
              "         4.899077  ,  2.956989  ,  2.7051067 ,  2.8321142 ,  2.5956554 ,\n",
              "         3.2277617 ,  2.5277576 ,  5.432701  ,  4.9935365 ,  2.8960912 ,\n",
              "         1.9207988 ,  1.882759  ,  1.4533842 ,  1.6210022 ,  1.7802241 ,\n",
              "         4.0610876 ,  5.4534264 ,  5.0916095 ,  4.7834635 ,  4.3096056 ,\n",
              "         4.109409  ,  4.9495783 ,  3.37951   ,  3.7360728 ,  3.4821098 ,\n",
              "         5.3984694 ,  1.4889096 ,  1.6931442 ,  1.189734  ,  1.4318558 ,\n",
              "         1.9698461 ,  1.173749  ,  1.763911  ,  1.4481328 ,  1.630455  ,\n",
              "         1.5782537 ,  2.6071982 ,  2.6884718 ,  2.8691177 ,  3.4969096 ,\n",
              "         5.119935  ,  6.346985  ,  6.0461826 ,  6.158159  ,  5.794316  ,\n",
              "         4.8934627 ,  2.3775046 ,  3.5257072 ,  3.392765  ,  4.288478  ,\n",
              "         5.4121065 ,  4.879876  ,  5.2970085 ,  1.5896356 ,  2.878295  ,\n",
              "         3.9913368 ,  5.2088284 ,  7.3862114 ,  5.970919  ,  4.5559416 ,\n",
              "         4.6288033 ,  4.360186  ,  4.166617  ,  5.6338854 ,  7.566138  ,\n",
              "         7.5845456 ,  5.9705734 ,  2.4500256 ,  1.4477007 ,  2.49193   ,\n",
              "         2.3390765 ,  2.7371182 ,  3.662991  ,  3.8952358 ,  5.3159432 ,\n",
              "         3.9006765 ,  3.203137  ,  2.4543843 ,  2.0775995 ,  2.7488005 ,\n",
              "         2.7340531 ,  3.5856187 ,  6.0099044 ,  6.9632807 ,  8.082166  ,\n",
              "         6.086884  ,  3.541499  ,  1.8641084 ,  4.774197  ,  3.9284039 ,\n",
              "         4.887929  ,  5.414652  ,  7.457961  , 11.299055  , 12.227735  ,\n",
              "        10.346578  ,  4.859691  ,  3.0137517 ,  2.885959  ,  2.3708096 ,\n",
              "         3.4797502 ,  4.6256313 ,  6.5368824 ,  7.6562567 , 16.88012   ,\n",
              "        26.442247  , 36.58581   , 36.012413  , 37.9378    , 42.380028  ,\n",
              "        49.270718  , 23.756971  , 11.106164  ,  7.7433786 ,  5.85457   ,\n",
              "         5.7576475 ,  5.7591567 ,  7.3018312 ,  3.6303275 ,  3.3096027 ,\n",
              "         4.412332  ,  4.6457148 ,  4.1809688 ,  4.582236  ,  5.2402334 ,\n",
              "         4.958785  ,  4.9075437 ,  6.1613016 ,  9.354215  ,  9.622419  ,\n",
              "         5.85786   ,  6.3634114 ,  2.9363108 ,  3.6685545 ,  2.7362092 ,\n",
              "         2.6078517 ,  4.4108653 ,  4.8324757 ,  9.814246  ,  7.714176  ,\n",
              "         3.8206835 ,  3.0439925 ,  3.884673  ,  3.871419  ,  2.572735  ,\n",
              "         3.4200382 ,  2.9410648 ,  2.859913  ,  4.1736455 ,  4.1850786 ,\n",
              "         4.9027843 ,  6.107753  ,  7.507932  ,  6.3865795 ,  6.5889077 ,\n",
              "         8.889461  , 10.131667  , 10.569072  , 11.068123  ,  4.1722918 ,\n",
              "         2.9142196 ,  3.878665  ,  4.208298  ,  3.9420393 ,  4.7474113 ,\n",
              "         4.6572795 ,  5.478572  ,  7.7601323 , 11.487978  , 11.004021  ,\n",
              "         3.5340781 ,  4.956771  ,  7.1166677 ,  3.4177072 ,  2.546002  ,\n",
              "         2.344651  ,  2.719359  ,  3.4112859 ,  5.441785  ,  7.422467  ,\n",
              "         6.8278484 ,  3.804599  ,  2.955512  ,  3.6879685 ,  3.5302434 ,\n",
              "         6.250723  ,  7.3784194 ,  5.7788916 ,  3.07768   ,  2.351875  ,\n",
              "         2.4026585 ,  1.7783154 ,  4.88665   ,  1.6776364 ,  1.7063975 ,\n",
              "         2.1780658 ,  2.8787107 ,  2.2156346 ,  2.8375893 ,  3.9004915 ,\n",
              "         4.803321  ,  6.324054  ,  2.7192721 ,  1.5549781 ,  2.7528052 ,\n",
              "         2.6777477 ,  1.8372443 ,  2.6212068 ,  2.7587755 ,  1.7771896 ,\n",
              "         2.0396428 ,  2.1465435 ,  2.696369  ,  4.3188896 ,  6.098761  ,\n",
              "         4.6401057 ,  2.6381316 ,  2.9386919 ,  0.9407901 ,  0.99468726,\n",
              "         1.1822736 ,  1.515441  ,  1.9141005 ,  1.5052818 ,  1.4416915 ,\n",
              "         0.8443713 ,  1.1553781 ,  1.0236887 ,  1.3438184 ,  3.561138  ,\n",
              "         2.0662835 ,  2.024397  ,  1.2965745 ,  1.995437  ,  1.9941399 ,\n",
              "         2.1686287 ,  1.7210907 ,  1.9296294 ,  2.0190454 ,  2.7281802 ,\n",
              "         3.3445406 ,  5.0789332 ,  5.595074  ,  6.6881156 ,  7.896799  ,\n",
              "         9.571505  , 11.337068  , 10.886277  ,  3.670084  ,  1.294937  ,\n",
              "         2.6280756 ,  2.0485191 ,  1.9686537 ,  3.620175  ,  1.6808527 ,\n",
              "         1.55729   ,  1.1544957 ,  1.8904831 ,  3.4196892 ,  2.9523122 ,\n",
              "         2.9818544 ,  2.6550627 ,  2.9994702 ,  1.6390052 ,  1.4998093 ,\n",
              "         1.3187023 ,  1.759612  ,  1.6340313 ,  1.7623035 ,  4.0107584 ,\n",
              "         5.5433726 ,  3.4698482 ,  2.4067054 ,  3.0439723 ,  2.168677  ,\n",
              "         2.967878  ,  2.8287916 ,  1.4342037 ,  1.912375  ,  2.5786855 ,\n",
              "         3.6458054 ,  5.8351603 ,  8.807438  , 10.322823  , 15.36226   ,\n",
              "        14.608322  ,  9.283023  ,  5.9069448 ,  1.2359806 ,  0.95258623,\n",
              "         1.8866882 ,  1.8496102 ,  2.6259446 ,  2.4775195 ,  2.4440408 ,\n",
              "         3.1057546 ,  2.5597436 ,  1.3770244 ,  1.5705017 ,  4.1721854 ,\n",
              "         4.096194  ,  3.596572  ,  4.598254  ,  4.015941  ,  1.4013206 ,\n",
              "         1.487623  ,  2.480464  ,  0.7858919 ,  1.3228279 ,  2.2103825 ,\n",
              "         2.6128416 ,  3.599474  ,  4.052443  ,  3.2452154 ,  1.7589182 ,\n",
              "         1.8611472 ,  2.171671  ,  2.607324  ,  4.134125  ,  4.516352  ,\n",
              "         4.889319  ,  4.506015  ,  2.8601959 ,  1.478719  ,  1.1266136 ,\n",
              "         3.080492  ,  2.3881154 ,  3.5256484 ,  4.811408  ,  5.835118  ,\n",
              "         7.3938184 ,  8.413334  ,  8.02497   ,  8.060206  ,  2.2955608 ,\n",
              "         1.898888  ,  1.5146575 ,  2.130224  ,  1.7881397 ,  1.5221695 ,\n",
              "         2.2379038 ,  1.3295277 ,  2.7341712 ,  4.064828  ,  4.23209   ,\n",
              "         5.378007  ,  6.0456114 ,  7.0814133 ,  6.5659747 ,  3.1758268 ,\n",
              "         3.1744738 ,  2.2478347 ,  2.3754878 ,  3.2108252 ,  4.1720977 ,\n",
              "         4.7439814 ,  4.1307864 ,  5.6157937 ,  6.939762  ,  9.242205  ,\n",
              "         7.907784  ,  4.6898575 ,  1.8798504 ,  2.339149  ,  3.8004167 ,\n",
              "         6.462163  ,  6.7413516 ,  6.2181797 ,  6.750296  ,  5.9692383 ,\n",
              "         3.8321018 ,  7.0307517 ,  6.5877786 ,  5.7634974 ,  1.4118488 ,\n",
              "         1.546559  ,  2.7655492 ,  5.2017713 ,  4.527116  ,  3.1345804 ,\n",
              "         3.7226107 ,  3.4569714 ,  2.4611847 ,  4.034697  ,  7.368072  ,\n",
              "        10.880835  , 11.706274  , 12.877809  , 13.551272  , 14.030485  ,\n",
              "         9.38756   ,  3.1098855 ,  1.3748231 ,  3.9464924 ,  4.745816  ,\n",
              "         5.02518   ,  6.318724  ,  8.55629   , 10.942798  , 10.146345  ,\n",
              "         7.2882915 ,  7.8174667 ,  8.049911  , 10.122537  ,  8.784025  ,\n",
              "        10.817933  , 12.704574  , 11.627781  , 10.467366  , 11.365694  ,\n",
              "         8.2540655 ,  6.9459257 ,  6.8846507 , 12.047903  , 15.688065  ,\n",
              "        13.449238  ,  4.574598  ,  2.5212028 ,  2.079888  ,  9.10161   ,\n",
              "         9.828359  ,  8.828904  ,  8.769881  ,  9.761829  , 12.5286    ,\n",
              "        11.825178  ,  3.079475  ,  4.3794165 ,  4.6493673 ,  4.22256   ,\n",
              "         6.00972   ,  7.1389904 , 10.596312  ,  7.458838  ,  5.018472  ,\n",
              "         5.3624015 ,  8.470685  , 11.259625  , 12.461015  , 10.058536  ,\n",
              "        11.028561  , 13.201478  , 12.5550165 , 14.376079  ,  8.305748  ,\n",
              "         3.2654371 ,  2.485085  ,  3.3339436 ,  4.571429  ,  4.571841  ,\n",
              "         5.977434  ,  5.6075964 ,  5.8696885 ,  4.980957  ,  7.2225533 ,\n",
              "        11.442373  , 15.3652    , 21.890375  , 19.527666  , 11.194858  ,\n",
              "         6.6097555 ,  4.4725184 ,  4.096901  ,  6.3854346 ,  8.823725  ,\n",
              "         5.037028  ,  6.196004  ,  4.4202423 ,  7.586584  ,  7.586417  ,\n",
              "         9.956426  , 10.493537  , 10.293365  ,  6.266781  ,  4.4064555 ,\n",
              "         2.8525026 ,  1.7362448 ,  4.154707  ,  7.227083  ,  3.7237525 ,\n",
              "         2.187793  ,  5.306641  ,  7.481126  , 10.5471525 ,  9.246358  ,\n",
              "        10.324291  ,  4.203502  ,  2.9441242 ,  5.0487394 ,  6.838428  ,\n",
              "         6.1825447 ,  4.127566  ,  4.2372737 ,  1.8871608 ,  1.3103343 ,\n",
              "         1.7386602 ,  1.8314654 ,  2.6316557 ,  1.8941379 ,  1.9073037 ,\n",
              "         2.4988277 ,  3.1441326 ,  4.3538647 ,  4.565909  ,  4.9348297 ,\n",
              "         2.8055282 ,  3.4535658 ,  4.3798523 ,  6.0994935 , 10.593334  ,\n",
              "        14.548646  , 15.798511  , 16.790054  , 13.055544  ,  9.390969  ,\n",
              "         8.664538  ,  6.2150526 ,  3.4663234 ,  5.2409053 ,  7.3036594 ,\n",
              "         9.096675  ,  5.1084332 ,  2.8231342 ,  3.172186  ,  3.0664537 ,\n",
              "         1.9006637 ,  3.2402766 ,  2.5773    ,  2.9968977 ,  3.6462982 ,\n",
              "         2.682964  ,  5.094823  ,  6.6098666 , 10.873335  , 16.405611  ,\n",
              "        17.979107  ], dtype=float32),\n",
              " 'mase': 2.1848216}"
            ]
          },
          "metadata": {},
          "execution_count": 58
        }
      ]
    },
    {
      "cell_type": "markdown",
      "source": [
        "### Make our evaluation function work for larger horizon"
      ],
      "metadata": {
        "id": "CwvC3Slwgqh9"
      }
    },
    {
      "cell_type": "code",
      "source": [
        "def evaluate_preds(y_true, y_pred):\n",
        "\n",
        "  y_true = tf.cast(y_true, dtype=tf.float32)\n",
        "  y_pred = tf.cast(y_pred, dtype=tf.float32)\n",
        "\n",
        "  # Calculate various metrics\n",
        "  mae = tf.keras.metrics.mean_absolute_error(y_true, y_pred)\n",
        "  mse = tf.keras.metrics.mean_squared_error(y_true, y_pred)\n",
        "  rmse = tf.sqrt(mse)\n",
        "  mape = tf.keras.metrics.mean_absolute_percentage_error(y_true, y_pred)\n",
        "  mase = mean_absolute_scaled_error(y_true, y_pred)\n",
        "\n",
        "  # Account for different sized metrics (for longer horizons, reduce to single number)\n",
        "  if mae.ndim > 0:\n",
        "    mae = tf.reduce_mean(mae)\n",
        "    mse = tf.reduce_mean(mse)\n",
        "    rmse = tf.reduce_mean(rmse)\n",
        "    mape = tf.reduce_mean(mape)\n",
        "    mase = tf.reduce_mean(mase)\n",
        "  \n",
        "  return {\"mae\": mae.numpy(),\n",
        "          \"mse\": mse.numpy(),\n",
        "          \"rmse\": rmse.numpy(),\n",
        "          \"mape\": mape.numpy(),\n",
        "          \"mase\": mase.numpy()}"
      ],
      "metadata": {
        "id": "j4DMzHTQgo34"
      },
      "execution_count": 59,
      "outputs": []
    },
    {
      "cell_type": "code",
      "source": [
        "# Get model_3 reults\n",
        "\n",
        "model_3_results = evaluate_preds(y_true=tf.squeeze(test_labels),\n",
        "                                 y_pred=model_3_preds)\n",
        "model_3_results"
      ],
      "metadata": {
        "colab": {
          "base_uri": "https://localhost:8080/"
        },
        "id": "Arofte_zqBA0",
        "outputId": "a9497378-9bac-42b6-a562-db304ac62fa0"
      },
      "execution_count": 60,
      "outputs": [
        {
          "output_type": "execute_result",
          "data": {
            "text/plain": [
              "{'mae': 1227.8115,\n",
              " 'mse': 5312841.0,\n",
              " 'rmse': 1412.5762,\n",
              " 'mape': 5.529809,\n",
              " 'mase': 2.1848216}"
            ]
          },
          "metadata": {},
          "execution_count": 60
        }
      ]
    },
    {
      "cell_type": "code",
      "source": [
        "offset = 300\n",
        "plt.figure(figsize=(10, 7))\n",
        "plot_time_series(timesteps=X_test[-len(test_windows):], values=test_labels[:, 0], start=offset, label=\"Test_data\")\n",
        "plot_time_series(timesteps=X_test[-len(test_windows):], values=model_3_preds, start=offset, label=\"model_3_preds\")"
      ],
      "metadata": {
        "colab": {
          "base_uri": "https://localhost:8080/",
          "height": 442
        },
        "id": "GLQqy275i5ws",
        "outputId": "46ebda01-90a7-4f50-bcf2-47c8f6ddfa1a"
      },
      "execution_count": 61,
      "outputs": [
        {
          "output_type": "display_data",
          "data": {
            "text/plain": [
              "<Figure size 720x504 with 1 Axes>"
            ],
            "image/png": "[encoded data removed]"
          },
          "metadata": {
            "needs_background": "light"
          }
        }
      ]
    },
    {
      "cell_type": "code",
      "source": [
        "offset = 300\n",
        "plt.figure(figsize=(10, 7))\n",
        "\n",
        "plot_time_series(timesteps=X_test[-len(test_windows):], values=test_labels[:, 0], start=offset, label=\"Test_data\")\n",
        "plot_time_series(timesteps=X_test[-len(test_windows):], values=tf.reduce_mean(model_3_preds, axis=1), format=\"-\", start=offset, label=\"model_3_preds\")"
      ],
      "metadata": {
        "colab": {
          "base_uri": "https://localhost:8080/",
          "height": 442
        },
        "id": "Af7CA625kKdT",
        "outputId": "4b22034e-f3a5-4043-b106-2478bc8393f5"
      },
      "execution_count": 62,
      "outputs": [
        {
          "output_type": "display_data",
          "data": {
            "text/plain": [
              "<Figure size 720x504 with 1 Axes>"
            ],
            "image/png": "[encoded data removed]"
          },
          "metadata": {
            "needs_background": "light"
          }
        }
      ]
    },
    {
      "cell_type": "markdown",
      "source": [
        "### Which of our model is performing best so far?"
      ],
      "metadata": {
        "id": "jgqQHhlUlY2t"
      }
    },
    {
      "cell_type": "code",
      "source": [
        "pd.DataFrame({\"naive\":naive_results[\"mae\"],\n",
        "              \"horizon_1_window_7\":model_1_results[\"mae\"],\n",
        "              \"horizon_1_window_30\":model_2_results[\"mae\"],\n",
        "              \"horizon_7_window_30\":model_3_results[\"mae\"]}, index=[\"mae\"]).plot(figsize=(10, 7), kind=\"bar\");"
      ],
      "metadata": {
        "colab": {
          "base_uri": "https://localhost:8080/",
          "height": 440
        },
        "id": "Lt5kCSf3lQuq",
        "outputId": "eb86fb47-19cc-4677-e7a2-b8137d6935ab"
      },
      "execution_count": 63,
      "outputs": [
        {
          "output_type": "display_data",
          "data": {
            "text/plain": [
              "<Figure size 720x504 with 1 Axes>"
            ],
            "image/png": "[encoded data removed]"
          },
          "metadata": {
            "needs_background": "light"
          }
        }
      ]
    },
    {
      "cell_type": "markdown",
      "source": [
        "### Model 4: Conv1D"
      ],
      "metadata": {
        "id": "bqiioIHprHPT"
      }
    },
    {
      "cell_type": "code",
      "source": [
        "HORIZON = 1\n",
        "WINDOW_SIZE = 7"
      ],
      "metadata": {
        "id": "Ym3K51QArFt9"
      },
      "execution_count": 64,
      "outputs": []
    },
    {
      "cell_type": "code",
      "source": [
        "# Create windowed dataset\n",
        "\n",
        "full_windows, full_labels = make_windows(prices, window_size=WINDOW_SIZE, horizon=HORIZON)\n",
        "len(full_windows), len(full_labels)"
      ],
      "metadata": {
        "colab": {
          "base_uri": "https://localhost:8080/"
        },
        "id": "0t3St3dBn4nj",
        "outputId": "7465cb2a-4fee-4ce5-9142-41721d2cf86b"
      },
      "execution_count": 65,
      "outputs": [
        {
          "output_type": "execute_result",
          "data": {
            "text/plain": [
              "(2780, 2780)"
            ]
          },
          "metadata": {},
          "execution_count": 65
        }
      ]
    },
    {
      "cell_type": "code",
      "source": [
        "# Create test/train splits\n",
        "\n",
        "train_windows, test_windows, train_labels, test_labels = make_train_test_split(full_windows, full_labels)\n",
        "len(train_windows), len(test_windows), len(train_labels), len(test_labels)"
      ],
      "metadata": {
        "colab": {
          "base_uri": "https://localhost:8080/"
        },
        "id": "aV5yNJHprqYK",
        "outputId": "0e4cee9e-d2c0-48bc-f7f9-dbc275dc3de2"
      },
      "execution_count": 66,
      "outputs": [
        {
          "output_type": "execute_result",
          "data": {
            "text/plain": [
              "(2224, 556, 2224, 556)"
            ]
          },
          "metadata": {},
          "execution_count": 66
        }
      ]
    },
    {
      "cell_type": "code",
      "source": [
        "# Check data sample shapes\n",
        "train_windows[0].shape"
      ],
      "metadata": {
        "colab": {
          "base_uri": "https://localhost:8080/"
        },
        "id": "S_8P7sF4sFDc",
        "outputId": "f6ebeeba-f44c-4e02-a755-570e92fa8e23"
      },
      "execution_count": 67,
      "outputs": [
        {
          "output_type": "execute_result",
          "data": {
            "text/plain": [
              "(7,)"
            ]
          },
          "metadata": {},
          "execution_count": 67
        }
      ]
    },
    {
      "cell_type": "code",
      "source": [
        "# Before we pass our data to conv1D, we have to reshape it to make sure it works\n",
        "\n",
        "x = tf.constant(train_windows[0])\n",
        "expand_dims_layer = layers.Lambda(lambda x: tf.expand_dims(x, axis=1))\n",
        "print(f\"Original shape: {x.shape}\")\n",
        "print(f\"Expanded shape: {expand_dims_layer(x).shape}\")\n",
        "print(f\"Original values with Expanded shape:\\n{expand_dims_layer(x)}\")"
      ],
      "metadata": {
        "colab": {
          "base_uri": "https://localhost:8080/"
        },
        "id": "PHIJtSOfsNj4",
        "outputId": "569db1fc-e134-4708-89fd-cb06f99791a4"
      },
      "execution_count": 68,
      "outputs": [
        {
          "output_type": "stream",
          "name": "stdout",
          "text": [
            "Original shape: (7,)\n",
            "Expanded shape: (7, 1)\n",
            "Original values with Expanded shape:\n",
            "[[123.65499]\n",
            " [125.455  ]\n",
            " [108.58483]\n",
            " [118.67466]\n",
            " [121.33866]\n",
            " [120.65533]\n",
            " [121.795  ]]\n"
          ]
        }
      ]
    },
    {
      "cell_type": "code",
      "source": [
        "tf.random.set_seed(42)\n",
        "\n",
        "# Create model\n",
        "model_4 = tf.keras.Sequential([\n",
        "    layers.Lambda(lambda x: tf.expand_dims(x, axis=1)),\n",
        "    layers.Conv1D(filters=128, kernel_size=5, padding=\"causal\", activation=\"relu\"),\n",
        "    layers.Dense(HORIZON)\n",
        "], name=\"model_4_Conv1D\")\n",
        "\n",
        "model_4.compile(loss=\"mae\",\n",
        "                optimizer=tf.keras.optimizers.Adam())\n",
        "\n",
        "model_4.fit(train_windows,\n",
        "            train_labels,\n",
        "            epochs=100,\n",
        "            batch_size=128,\n",
        "            verbose=0,\n",
        "            validation_data=(test_windows, test_labels),\n",
        "            callbacks=[create_model_checkpoint(model_name=model_4.name)])"
      ],
      "metadata": {
        "colab": {
          "base_uri": "https://localhost:8080/"
        },
        "id": "twTXCGyStPyz",
        "outputId": "23d4baae-c25a-449f-aca0-7cc51e79a22b"
      },
      "execution_count": 69,
      "outputs": [
        {
          "output_type": "stream",
          "name": "stderr",
          "text": [
            "WARNING:absl:Found untraced functions such as _jit_compiled_convolution_op, _update_step_xla while saving (showing 2 of 2). These functions will not be directly callable after loading.\n",
            "WARNING:absl:Found untraced functions such as _jit_compiled_convolution_op, _update_step_xla while saving (showing 2 of 2). These functions will not be directly callable after loading.\n",
            "WARNING:absl:Found untraced functions such as _jit_compiled_convolution_op, _update_step_xla while saving (showing 2 of 2). These functions will not be directly callable after loading.\n",
            "WARNING:absl:Found untraced functions such as _jit_compiled_convolution_op, _update_step_xla while saving (showing 2 of 2). These functions will not be directly callable after loading.\n",
            "WARNING:absl:Found untraced functions such as _jit_compiled_convolution_op, _update_step_xla while saving (showing 2 of 2). These functions will not be directly callable after loading.\n",
            "WARNING:absl:Found untraced functions such as _jit_compiled_convolution_op, _update_step_xla while saving (showing 2 of 2). These functions will not be directly callable after loading.\n",
            "WARNING:absl:Found untraced functions such as _jit_compiled_convolution_op, _update_step_xla while saving (showing 2 of 2). These functions will not be directly callable after loading.\n",
            "WARNING:absl:Found untraced functions such as _jit_compiled_convolution_op, _update_step_xla while saving (showing 2 of 2). These functions will not be directly callable after loading.\n",
            "WARNING:absl:Found untraced functions such as _jit_compiled_convolution_op, _update_step_xla while saving (showing 2 of 2). These functions will not be directly callable after loading.\n",
            "WARNING:absl:Found untraced functions such as _jit_compiled_convolution_op, _update_step_xla while saving (showing 2 of 2). These functions will not be directly callable after loading.\n",
            "WARNING:absl:Found untraced functions such as _jit_compiled_convolution_op, _update_step_xla while saving (showing 2 of 2). These functions will not be directly callable after loading.\n",
            "WARNING:absl:Found untraced functions such as _jit_compiled_convolution_op, _update_step_xla while saving (showing 2 of 2). These functions will not be directly callable after loading.\n",
            "WARNING:absl:Found untraced functions such as _jit_compiled_convolution_op, _update_step_xla while saving (showing 2 of 2). These functions will not be directly callable after loading.\n",
            "WARNING:absl:Found untraced functions such as _jit_compiled_convolution_op, _update_step_xla while saving (showing 2 of 2). These functions will not be directly callable after loading.\n",
            "WARNING:absl:Found untraced functions such as _jit_compiled_convolution_op, _update_step_xla while saving (showing 2 of 2). These functions will not be directly callable after loading.\n",
            "WARNING:absl:Found untraced functions such as _jit_compiled_convolution_op, _update_step_xla while saving (showing 2 of 2). These functions will not be directly callable after loading.\n",
            "WARNING:absl:Found untraced functions such as _jit_compiled_convolution_op, _update_step_xla while saving (showing 2 of 2). These functions will not be directly callable after loading.\n",
            "WARNING:absl:Found untraced functions such as _jit_compiled_convolution_op, _update_step_xla while saving (showing 2 of 2). These functions will not be directly callable after loading.\n",
            "WARNING:absl:Found untraced functions such as _jit_compiled_convolution_op, _update_step_xla while saving (showing 2 of 2). These functions will not be directly callable after loading.\n",
            "WARNING:absl:Found untraced functions such as _jit_compiled_convolution_op, _update_step_xla while saving (showing 2 of 2). These functions will not be directly callable after loading.\n",
            "WARNING:absl:Found untraced functions such as _jit_compiled_convolution_op, _update_step_xla while saving (showing 2 of 2). These functions will not be directly callable after loading.\n",
            "WARNING:absl:Found untraced functions such as _jit_compiled_convolution_op, _update_step_xla while saving (showing 2 of 2). These functions will not be directly callable after loading.\n",
            "WARNING:absl:Found untraced functions such as _jit_compiled_convolution_op, _update_step_xla while saving (showing 2 of 2). These functions will not be directly callable after loading.\n",
            "WARNING:absl:Found untraced functions such as _jit_compiled_convolution_op, _update_step_xla while saving (showing 2 of 2). These functions will not be directly callable after loading.\n",
            "WARNING:absl:Found untraced functions such as _jit_compiled_convolution_op, _update_step_xla while saving (showing 2 of 2). These functions will not be directly callable after loading.\n",
            "WARNING:absl:Found untraced functions such as _jit_compiled_convolution_op, _update_step_xla while saving (showing 2 of 2). These functions will not be directly callable after loading.\n",
            "WARNING:absl:Found untraced functions such as _jit_compiled_convolution_op, _update_step_xla while saving (showing 2 of 2). These functions will not be directly callable after loading.\n",
            "WARNING:absl:Found untraced functions such as _jit_compiled_convolution_op, _update_step_xla while saving (showing 2 of 2). These functions will not be directly callable after loading.\n",
            "WARNING:absl:Found untraced functions such as _jit_compiled_convolution_op, _update_step_xla while saving (showing 2 of 2). These functions will not be directly callable after loading.\n",
            "WARNING:absl:Found untraced functions such as _jit_compiled_convolution_op, _update_step_xla while saving (showing 2 of 2). These functions will not be directly callable after loading.\n",
            "WARNING:absl:Found untraced functions such as _jit_compiled_convolution_op, _update_step_xla while saving (showing 2 of 2). These functions will not be directly callable after loading.\n",
            "WARNING:absl:Found untraced functions such as _jit_compiled_convolution_op, _update_step_xla while saving (showing 2 of 2). These functions will not be directly callable after loading.\n",
            "WARNING:absl:Found untraced functions such as _jit_compiled_convolution_op, _update_step_xla while saving (showing 2 of 2). These functions will not be directly callable after loading.\n",
            "WARNING:absl:Found untraced functions such as _jit_compiled_convolution_op, _update_step_xla while saving (showing 2 of 2). These functions will not be directly callable after loading.\n",
            "WARNING:absl:Found untraced functions such as _jit_compiled_convolution_op, _update_step_xla while saving (showing 2 of 2). These functions will not be directly callable after loading.\n",
            "WARNING:absl:Found untraced functions such as _jit_compiled_convolution_op, _update_step_xla while saving (showing 2 of 2). These functions will not be directly callable after loading.\n",
            "WARNING:absl:Found untraced functions such as _jit_compiled_convolution_op, _update_step_xla while saving (showing 2 of 2). These functions will not be directly callable after loading.\n",
            "WARNING:absl:Found untraced functions such as _jit_compiled_convolution_op, _update_step_xla while saving (showing 2 of 2). These functions will not be directly callable after loading.\n",
            "WARNING:absl:Found untraced functions such as _jit_compiled_convolution_op, _update_step_xla while saving (showing 2 of 2). These functions will not be directly callable after loading.\n",
            "WARNING:absl:Found untraced functions such as _jit_compiled_convolution_op, _update_step_xla while saving (showing 2 of 2). These functions will not be directly callable after loading.\n"
          ]
        },
        {
          "output_type": "execute_result",
          "data": {
            "text/plain": [
              "<keras.callbacks.History at 0x7f7ba54d24c0>"
            ]
          },
          "metadata": {},
          "execution_count": 69
        }
      ]
    },
    {
      "cell_type": "code",
      "source": [
        "model_4.summary()"
      ],
      "metadata": {
        "colab": {
          "base_uri": "https://localhost:8080/"
        },
        "id": "Gum5uvq2vAMq",
        "outputId": "b089a113-e0b5-4657-dfb2-451e86e58138"
      },
      "execution_count": 70,
      "outputs": [
        {
          "output_type": "stream",
          "name": "stdout",
          "text": [
            "Model: \"model_4_Conv1D\"\n",
            "_________________________________________________________________\n",
            " Layer (type)                Output Shape              Param #   \n",
            "=================================================================\n",
            " lambda_1 (Lambda)           (None, 1, 7)              0         \n",
            "                                                                 \n",
            " conv1d (Conv1D)             (None, 1, 128)            4608      \n",
            "                                                                 \n",
            " dense_6 (Dense)             (None, 1, 1)              129       \n",
            "                                                                 \n",
            "=================================================================\n",
            "Total params: 4,737\n",
            "Trainable params: 4,737\n",
            "Non-trainable params: 0\n",
            "_________________________________________________________________\n"
          ]
        }
      ]
    },
    {
      "cell_type": "code",
      "source": [
        "model_4 = tf.keras.models.load_model(\"model_experiments/model_4_Conv1D\")\n",
        "model_4.evaluate(test_windows, test_labels)"
      ],
      "metadata": {
        "colab": {
          "base_uri": "https://localhost:8080/"
        },
        "id": "BCjk18CQvOaf",
        "outputId": "2a143207-3804-4e40-e9fe-4621994d00dd"
      },
      "execution_count": 71,
      "outputs": [
        {
          "output_type": "stream",
          "name": "stdout",
          "text": [
            "18/18 [==============================] - 1s 7ms/step - loss: 566.8100\n"
          ]
        },
        {
          "output_type": "execute_result",
          "data": {
            "text/plain": [
              "566.8099975585938"
            ]
          },
          "metadata": {},
          "execution_count": 71
        }
      ]
    },
    {
      "cell_type": "code",
      "source": [
        "# Make predictions\n",
        "model_4_preds = make_preds(model_4, test_windows)\n",
        "model_4_preds[:5]"
      ],
      "metadata": {
        "colab": {
          "base_uri": "https://localhost:8080/"
        },
        "id": "-RmLkclPvlBv",
        "outputId": "31af8f7d-8463-4f98-e6df-3ee18d334cba"
      },
      "execution_count": 72,
      "outputs": [
        {
          "output_type": "stream",
          "name": "stdout",
          "text": [
            "18/18 [==============================] - 0s 4ms/step\n"
          ]
        },
        {
          "output_type": "execute_result",
          "data": {
            "text/plain": [
              "<tf.Tensor: shape=(5,), dtype=float32, numpy=array([8880.082, 8792.738, 9036.174, 8794.266, 8741.444], dtype=float32)>"
            ]
          },
          "metadata": {},
          "execution_count": 72
        }
      ]
    },
    {
      "cell_type": "code",
      "source": [
        "# Evaluate predictions\n",
        "\n",
        "model_4_results = evaluate_preds(y_true=tf.squeeze(test_labels),\n",
        "                                 y_pred=model_4_preds)\n",
        "model_4_results"
      ],
      "metadata": {
        "colab": {
          "base_uri": "https://localhost:8080/"
        },
        "id": "nOsYGyyCwCuM",
        "outputId": "5a2b8b23-575f-42dc-c29f-887848a02258"
      },
      "execution_count": 73,
      "outputs": [
        {
          "output_type": "execute_result",
          "data": {
            "text/plain": [
              "{'mae': 566.81,\n",
              " 'mse': 1169908.2,\n",
              " 'rmse': 1081.6229,\n",
              " 'mape': 2.5353878,\n",
              " 'mase': 0.9957282}"
            ]
          },
          "metadata": {},
          "execution_count": 73
        }
      ]
    },
    {
      "cell_type": "markdown",
      "source": [
        "### Model 5: RNN (LSTM)"
      ],
      "metadata": {
        "id": "xXuT7doY60To"
      }
    },
    {
      "cell_type": "code",
      "source": [
        "tf.random.set_seed(42)\n",
        "\n",
        "# Let's an LSTM model with the functional API\n",
        "inputs = layers.Input(shape=(WINDOW_SIZE))\n",
        "x = layers.Lambda(lambda x: tf.expand_dims(x, axis=1))(inputs)\n",
        "# print(x.shape)\n",
        "# x= layers.LSTM(128, activation=\"relu\", return_sequences=True)(x)\n",
        "x = layers.LSTM(128, activation=\"relu\")(x)\n",
        "# print(x.shape)\n",
        "# Add another optional dense layer\n",
        "# x = layers.Dense(32, activation=\"relu\")(x)\n",
        "output = layers.Dense(HORIZON)(x)\n",
        "model_5 = tf.keras.Model(inputs=inputs, outputs=output, name=\"model_5_lstm\")\n",
        "\n",
        "# Compile the model\n",
        "model_5.compile(loss=\"mae\",\n",
        "                optimizer=tf.keras.optimizers.Adam())\n",
        "\n",
        "# Fit the model\n",
        "model_5.fit(train_windows,\n",
        "            train_labels,\n",
        "            epochs=100,\n",
        "            batch_size=128,\n",
        "            validation_data=(test_windows, test_labels),\n",
        "            callbacks=[create_model_checkpoint(model_name=model_5.name)])"
      ],
      "metadata": {
        "id": "sTvPilMzwWGT",
        "colab": {
          "base_uri": "https://localhost:8080/"
        },
        "outputId": "7d96c310-a154-4c54-8926-287adb487ba0"
      },
      "execution_count": 74,
      "outputs": [
        {
          "output_type": "stream",
          "name": "stderr",
          "text": [
            "WARNING:tensorflow:Layer lstm will not use cuDNN kernels since it doesn't meet the criteria. It will use a generic GPU kernel as fallback when running on GPU.\n"
          ]
        },
        {
          "output_type": "stream",
          "name": "stdout",
          "text": [
            "Epoch 1/100\n",
            "18/18 [==============================] - 7s 245ms/step - loss: 2506.9724 - val_loss: 11237.5693\n",
            "Epoch 2/100\n",
            "18/18 [==============================] - 4s 226ms/step - loss: 1028.6655 - val_loss: 1438.8740\n",
            "Epoch 3/100\n",
            "18/18 [==============================] - 2s 114ms/step - loss: 257.6387 - val_loss: 1027.5989\n",
            "Epoch 4/100\n",
            "18/18 [==============================] - 2s 95ms/step - loss: 196.5758 - val_loss: 1013.2790\n",
            "Epoch 5/100\n",
            "18/18 [==============================] - 0s 7ms/step - loss: 183.7695 - val_loss: 1015.4737\n",
            "Epoch 6/100\n",
            "18/18 [==============================] - 2s 95ms/step - loss: 176.8616 - val_loss: 986.2106\n",
            "Epoch 7/100\n",
            "18/18 [==============================] - 0s 7ms/step - loss: 172.4959 - val_loss: 1008.3422\n",
            "Epoch 8/100\n",
            "18/18 [==============================] - 2s 95ms/step - loss: 167.6578 - val_loss: 940.9050\n",
            "Epoch 9/100\n",
            "18/18 [==============================] - 2s 124ms/step - loss: 156.6377 - val_loss: 854.8196\n",
            "Epoch 10/100\n",
            "18/18 [==============================] - 0s 7ms/step - loss: 159.1341 - val_loss: 878.2980\n",
            "Epoch 11/100\n",
            "18/18 [==============================] - 0s 7ms/step - loss: 175.4691 - val_loss: 960.2130\n",
            "Epoch 12/100\n",
            "18/18 [==============================] - 0s 7ms/step - loss: 174.5483 - val_loss: 953.3555\n",
            "Epoch 13/100\n",
            "18/18 [==============================] - 0s 7ms/step - loss: 168.9102 - val_loss: 957.4866\n",
            "Epoch 14/100\n",
            "18/18 [==============================] - 0s 7ms/step - loss: 167.0057 - val_loss: 967.5362\n",
            "Epoch 15/100\n",
            "18/18 [==============================] - 0s 13ms/step - loss: 166.6708 - val_loss: 940.8117\n",
            "Epoch 16/100\n",
            "18/18 [==============================] - 0s 11ms/step - loss: 163.8648 - val_loss: 908.8994\n",
            "Epoch 17/100\n",
            "18/18 [==============================] - 0s 14ms/step - loss: 161.8746 - val_loss: 969.2358\n",
            "Epoch 18/100\n",
            "18/18 [==============================] - 0s 12ms/step - loss: 161.5231 - val_loss: 920.6067\n",
            "Epoch 19/100\n",
            "18/18 [==============================] - 0s 12ms/step - loss: 158.1718 - val_loss: 919.8669\n",
            "Epoch 20/100\n",
            "18/18 [==============================] - 0s 12ms/step - loss: 158.0007 - val_loss: 871.6347\n",
            "Epoch 21/100\n",
            "18/18 [==============================] - 0s 11ms/step - loss: 154.8421 - val_loss: 868.0389\n",
            "Epoch 22/100\n",
            "18/18 [==============================] - 0s 13ms/step - loss: 153.0770 - val_loss: 868.6461\n",
            "Epoch 23/100\n",
            "18/18 [==============================] - 0s 15ms/step - loss: 151.3681 - val_loss: 894.1758\n",
            "Epoch 24/100\n",
            "18/18 [==============================] - 4s 222ms/step - loss: 150.0950 - val_loss: 833.2661\n",
            "Epoch 25/100\n",
            "18/18 [==============================] - 3s 196ms/step - loss: 147.4606 - val_loss: 822.0279\n",
            "Epoch 26/100\n",
            "18/18 [==============================] - 3s 150ms/step - loss: 146.8908 - val_loss: 809.1699\n",
            "Epoch 27/100\n",
            "18/18 [==============================] - 0s 8ms/step - loss: 144.3815 - val_loss: 811.4111\n",
            "Epoch 28/100\n",
            "18/18 [==============================] - 3s 191ms/step - loss: 143.8177 - val_loss: 790.3387\n",
            "Epoch 29/100\n",
            "18/18 [==============================] - 3s 169ms/step - loss: 143.5330 - val_loss: 788.0099\n",
            "Epoch 30/100\n",
            "18/18 [==============================] - 0s 12ms/step - loss: 143.4242 - val_loss: 820.1774\n",
            "Epoch 31/100\n",
            "18/18 [==============================] - 2s 131ms/step - loss: 140.0643 - val_loss: 759.7014\n",
            "Epoch 32/100\n",
            "18/18 [==============================] - 0s 12ms/step - loss: 136.5985 - val_loss: 777.8083\n",
            "Epoch 33/100\n",
            "18/18 [==============================] - 2s 127ms/step - loss: 135.9293 - val_loss: 746.9348\n",
            "Epoch 34/100\n",
            "18/18 [==============================] - 0s 8ms/step - loss: 134.4713 - val_loss: 757.8529\n",
            "Epoch 35/100\n",
            "18/18 [==============================] - 2s 94ms/step - loss: 133.7272 - val_loss: 731.1232\n",
            "Epoch 36/100\n",
            "18/18 [==============================] - 4s 206ms/step - loss: 133.7254 - val_loss: 728.4461\n",
            "Epoch 37/100\n",
            "18/18 [==============================] - 2s 138ms/step - loss: 131.1633 - val_loss: 723.8304\n",
            "Epoch 38/100\n",
            "18/18 [==============================] - 2s 131ms/step - loss: 130.2774 - val_loss: 711.8650\n",
            "Epoch 39/100\n",
            "18/18 [==============================] - 0s 10ms/step - loss: 130.0260 - val_loss: 720.7636\n",
            "Epoch 40/100\n",
            "18/18 [==============================] - 2s 143ms/step - loss: 128.9391 - val_loss: 708.3717\n",
            "Epoch 41/100\n",
            "18/18 [==============================] - 0s 11ms/step - loss: 128.0132 - val_loss: 712.5236\n",
            "Epoch 42/100\n",
            "18/18 [==============================] - 0s 11ms/step - loss: 128.0792 - val_loss: 716.1318\n",
            "Epoch 43/100\n",
            "18/18 [==============================] - 4s 230ms/step - loss: 125.9573 - val_loss: 686.5716\n",
            "Epoch 44/100\n",
            "18/18 [==============================] - 2s 146ms/step - loss: 124.7331 - val_loss: 682.5582\n",
            "Epoch 45/100\n",
            "18/18 [==============================] - 3s 154ms/step - loss: 124.8260 - val_loss: 674.9732\n",
            "Epoch 46/100\n",
            "18/18 [==============================] - 2s 122ms/step - loss: 125.8369 - val_loss: 674.2183\n",
            "Epoch 47/100\n",
            "18/18 [==============================] - 0s 13ms/step - loss: 124.1987 - val_loss: 701.0812\n",
            "Epoch 48/100\n",
            "18/18 [==============================] - 0s 10ms/step - loss: 123.8927 - val_loss: 690.3754\n",
            "Epoch 49/100\n",
            "18/18 [==============================] - 0s 7ms/step - loss: 124.0248 - val_loss: 676.3725\n",
            "Epoch 50/100\n",
            "18/18 [==============================] - 0s 14ms/step - loss: 128.2172 - val_loss: 691.4657\n",
            "Epoch 51/100\n",
            "18/18 [==============================] - 0s 13ms/step - loss: 123.4367 - val_loss: 693.7213\n",
            "Epoch 52/100\n",
            "18/18 [==============================] - 4s 219ms/step - loss: 122.5276 - val_loss: 661.5526\n",
            "Epoch 53/100\n",
            "18/18 [==============================] - 2s 137ms/step - loss: 121.6397 - val_loss: 655.9025\n",
            "Epoch 54/100\n",
            "18/18 [==============================] - 0s 8ms/step - loss: 124.1314 - val_loss: 658.2736\n",
            "Epoch 55/100\n",
            "18/18 [==============================] - 2s 94ms/step - loss: 119.9876 - val_loss: 643.8640\n",
            "Epoch 56/100\n",
            "18/18 [==============================] - 0s 7ms/step - loss: 122.1914 - val_loss: 672.4039\n",
            "Epoch 57/100\n",
            "18/18 [==============================] - 0s 6ms/step - loss: 128.7027 - val_loss: 661.5228\n",
            "Epoch 58/100\n",
            "18/18 [==============================] - 0s 8ms/step - loss: 119.7851 - val_loss: 658.0530\n",
            "Epoch 59/100\n",
            "18/18 [==============================] - 2s 93ms/step - loss: 119.3094 - val_loss: 636.2957\n",
            "Epoch 60/100\n",
            "18/18 [==============================] - 0s 7ms/step - loss: 118.0232 - val_loss: 642.4902\n",
            "Epoch 61/100\n",
            "18/18 [==============================] - 0s 7ms/step - loss: 118.6313 - val_loss: 650.1772\n",
            "Epoch 62/100\n",
            "18/18 [==============================] - 0s 7ms/step - loss: 119.1964 - val_loss: 657.4478\n",
            "Epoch 63/100\n",
            "18/18 [==============================] - 0s 6ms/step - loss: 123.9869 - val_loss: 642.9521\n",
            "Epoch 64/100\n",
            "18/18 [==============================] - 3s 151ms/step - loss: 118.1660 - val_loss: 629.5004\n",
            "Epoch 65/100\n",
            "18/18 [==============================] - 3s 171ms/step - loss: 117.8041 - val_loss: 624.7852\n",
            "Epoch 66/100\n",
            "18/18 [==============================] - 0s 10ms/step - loss: 116.7256 - val_loss: 639.4721\n",
            "Epoch 67/100\n",
            "18/18 [==============================] - 3s 151ms/step - loss: 119.6245 - val_loss: 623.7099\n",
            "Epoch 68/100\n",
            "18/18 [==============================] - 0s 16ms/step - loss: 117.4014 - val_loss: 631.6040\n",
            "Epoch 69/100\n",
            "18/18 [==============================] - 0s 13ms/step - loss: 125.5601 - val_loss: 646.9265\n",
            "Epoch 70/100\n",
            "18/18 [==============================] - 2s 143ms/step - loss: 116.4450 - val_loss: 623.2774\n",
            "Epoch 71/100\n",
            "18/18 [==============================] - 0s 13ms/step - loss: 116.2061 - val_loss: 638.1979\n",
            "Epoch 72/100\n",
            "18/18 [==============================] - 3s 170ms/step - loss: 116.4740 - val_loss: 615.6848\n",
            "Epoch 73/100\n",
            "18/18 [==============================] - 0s 7ms/step - loss: 115.2317 - val_loss: 625.2762\n",
            "Epoch 74/100\n",
            "18/18 [==============================] - 0s 7ms/step - loss: 115.5239 - val_loss: 617.5933\n",
            "Epoch 75/100\n",
            "18/18 [==============================] - 0s 11ms/step - loss: 115.6229 - val_loss: 637.6332\n",
            "Epoch 76/100\n",
            "18/18 [==============================] - 4s 210ms/step - loss: 116.0373 - val_loss: 611.5306\n",
            "Epoch 77/100\n",
            "18/18 [==============================] - 0s 8ms/step - loss: 118.0403 - val_loss: 709.4786\n",
            "Epoch 78/100\n",
            "18/18 [==============================] - 0s 8ms/step - loss: 120.2687 - val_loss: 637.6578\n",
            "Epoch 79/100\n",
            "18/18 [==============================] - 2s 118ms/step - loss: 115.1194 - val_loss: 610.5212\n",
            "Epoch 80/100\n",
            "18/18 [==============================] - 0s 12ms/step - loss: 113.5834 - val_loss: 617.0743\n",
            "Epoch 81/100\n",
            "18/18 [==============================] - 0s 11ms/step - loss: 113.8394 - val_loss: 628.3368\n",
            "Epoch 82/100\n",
            "18/18 [==============================] - 0s 13ms/step - loss: 116.3997 - val_loss: 614.0691\n",
            "Epoch 83/100\n",
            "18/18 [==============================] - 0s 7ms/step - loss: 113.1292 - val_loss: 622.6403\n",
            "Epoch 84/100\n",
            "18/18 [==============================] - 2s 98ms/step - loss: 114.6266 - val_loss: 609.3216\n",
            "Epoch 85/100\n",
            "18/18 [==============================] - 0s 8ms/step - loss: 112.4754 - val_loss: 615.3191\n",
            "Epoch 86/100\n",
            "18/18 [==============================] - 0s 7ms/step - loss: 113.0941 - val_loss: 640.6529\n",
            "Epoch 87/100\n",
            "18/18 [==============================] - 2s 118ms/step - loss: 115.6053 - val_loss: 606.4291\n",
            "Epoch 88/100\n",
            "18/18 [==============================] - 2s 98ms/step - loss: 112.1829 - val_loss: 603.5475\n",
            "Epoch 89/100\n",
            "18/18 [==============================] - 0s 8ms/step - loss: 112.7450 - val_loss: 630.3763\n",
            "Epoch 90/100\n",
            "18/18 [==============================] - 0s 8ms/step - loss: 116.3394 - val_loss: 689.6652\n",
            "Epoch 91/100\n",
            "18/18 [==============================] - 3s 173ms/step - loss: 116.3525 - val_loss: 602.9989\n",
            "Epoch 92/100\n",
            "18/18 [==============================] - 2s 145ms/step - loss: 112.8788 - val_loss: 602.7516\n",
            "Epoch 93/100\n",
            "18/18 [==============================] - 0s 7ms/step - loss: 113.2633 - val_loss: 627.6671\n",
            "Epoch 94/100\n",
            "18/18 [==============================] - 0s 10ms/step - loss: 112.5968 - val_loss: 608.8878\n",
            "Epoch 95/100\n",
            "18/18 [==============================] - 3s 175ms/step - loss: 111.5234 - val_loss: 599.3228\n",
            "Epoch 96/100\n",
            "18/18 [==============================] - 0s 11ms/step - loss: 112.4969 - val_loss: 603.3369\n",
            "Epoch 97/100\n",
            "18/18 [==============================] - 0s 14ms/step - loss: 111.4823 - val_loss: 608.3138\n",
            "Epoch 98/100\n",
            "18/18 [==============================] - 0s 11ms/step - loss: 110.6130 - val_loss: 603.3289\n",
            "Epoch 99/100\n",
            "18/18 [==============================] - 2s 137ms/step - loss: 110.9262 - val_loss: 591.5797\n",
            "Epoch 100/100\n",
            "18/18 [==============================] - 0s 7ms/step - loss: 115.0066 - val_loss: 599.6019\n"
          ]
        },
        {
          "output_type": "execute_result",
          "data": {
            "text/plain": [
              "<keras.callbacks.History at 0x7f7b9d6a3160>"
            ]
          },
          "metadata": {},
          "execution_count": 74
        }
      ]
    },
    {
      "cell_type": "code",
      "source": [
        "# Load in the best version of model 5 and evaluate\n",
        "\n",
        "model_5 = tf.keras.models.load_model(\"model_experiments/model_5_lstm/\")\n",
        "model_5.evaluate(test_windows, test_labels)"
      ],
      "metadata": {
        "colab": {
          "base_uri": "https://localhost:8080/"
        },
        "id": "ZETznOQ89L-B",
        "outputId": "0f2306bd-1e89-4ac0-bfb7-6fb2128c4566"
      },
      "execution_count": 75,
      "outputs": [
        {
          "output_type": "stream",
          "name": "stderr",
          "text": [
            "WARNING:tensorflow:Layer lstm will not use cuDNN kernels since it doesn't meet the criteria. It will use a generic GPU kernel as fallback when running on GPU.\n"
          ]
        },
        {
          "output_type": "stream",
          "name": "stdout",
          "text": [
            "18/18 [==============================] - 0s 4ms/step - loss: 591.5799\n"
          ]
        },
        {
          "output_type": "execute_result",
          "data": {
            "text/plain": [
              "591.5798950195312"
            ]
          },
          "metadata": {},
          "execution_count": 75
        }
      ]
    },
    {
      "cell_type": "code",
      "source": [
        "# Make prediction with our LSTM model\n",
        "\n",
        "model_5_preds = make_preds(model_5, test_windows)\n",
        "model_5_preds[:10]"
      ],
      "metadata": {
        "colab": {
          "base_uri": "https://localhost:8080/"
        },
        "id": "X9iHspKc9gJw",
        "outputId": "ca3859f4-d140-4c11-8937-e8522a45bc8d"
      },
      "execution_count": 78,
      "outputs": [
        {
          "output_type": "stream",
          "name": "stdout",
          "text": [
            "18/18 [==============================] - 0s 2ms/step\n"
          ]
        },
        {
          "output_type": "execute_result",
          "data": {
            "text/plain": [
              "<tf.Tensor: shape=(10,), dtype=float32, numpy=\n",
              "array([8932.261, 8791.596, 8946.14 , 8774.206, 8746.522, 8747.686,\n",
              "       8663.445, 8553.678, 8459.399, 8498.888], dtype=float32)>"
            ]
          },
          "metadata": {},
          "execution_count": 78
        }
      ]
    },
    {
      "cell_type": "code",
      "source": [
        "# Evaluate model 5 preds\n",
        "\n",
        "model_5_results = evaluate_preds(y_true=tf.squeeze(test_labels),\n",
        "                                 y_pred=model_5_preds)\n",
        "model_5_results"
      ],
      "metadata": {
        "colab": {
          "base_uri": "https://localhost:8080/"
        },
        "id": "9caGwx8NAr7H",
        "outputId": "cc713dae-79e6-475c-ac8f-c9175c0078e1"
      },
      "execution_count": 80,
      "outputs": [
        {
          "output_type": "execute_result",
          "data": {
            "text/plain": [
              "{'mae': 591.57996,\n",
              " 'mse': 1253226.0,\n",
              " 'rmse': 1119.4757,\n",
              " 'mape': 2.672617,\n",
              " 'mase': 1.0392421}"
            ]
          },
          "metadata": {},
          "execution_count": 80
        }
      ]
    },
    {
      "cell_type": "markdown",
      "source": [
        "### Make a multivariate time series"
      ],
      "metadata": {
        "id": "B41JHtT5BGka"
      }
    },
    {
      "cell_type": "code",
      "source": [
        "# Lets make a multivariate time series\n",
        "\n",
        "bitcoin_prices.head()"
      ],
      "metadata": {
        "colab": {
          "base_uri": "https://localhost:8080/",
          "height": 237
        },
        "id": "LszHr6K1BFBf",
        "outputId": "a945a04f-27d4-4932-bbcf-b7e645109167"
      },
      "execution_count": 81,
      "outputs": [
        {
          "output_type": "execute_result",
          "data": {
            "text/plain": [
              "                Price\n",
              "Date                 \n",
              "2013-10-01  123.65499\n",
              "2013-10-02  125.45500\n",
              "2013-10-03  108.58483\n",
              "2013-10-04  118.67466\n",
              "2013-10-05  121.33866"
            ],
            "text/html": [
              "\n",
              "  <div id=\"df-72129dbb-9274-4870-a3a1-451147d08265\">\n",
              "    <div class=\"colab-df-container\">\n",
              "      <div>\n",
              "<style scoped>\n",
              "    .dataframe tbody tr th:only-of-type {\n",
              "        vertical-align: middle;\n",
              "    }\n",
              "\n",
              "    .dataframe tbody tr th {\n",
              "        vertical-align: top;\n",
              "    }\n",
              "\n",
              "    .dataframe thead th {\n",
              "        text-align: right;\n",
              "    }\n",
              "</style>\n",
              "<table border=\"1\" class=\"dataframe\">\n",
              "  <thead>\n",
              "    <tr style=\"text-align: right;\">\n",
              "      <th></th>\n",
              "      <th>Price</th>\n",
              "    </tr>\n",
              "    <tr>\n",
              "      <th>Date</th>\n",
              "      <th></th>\n",
              "    </tr>\n",
              "  </thead>\n",
              "  <tbody>\n",
              "    <tr>\n",
              "      <th>2013-10-01</th>\n",
              "      <td>123.65499</td>\n",
              "    </tr>\n",
              "    <tr>\n",
              "      <th>2013-10-02</th>\n",
              "      <td>125.45500</td>\n",
              "    </tr>\n",
              "    <tr>\n",
              "      <th>2013-10-03</th>\n",
              "      <td>108.58483</td>\n",
              "    </tr>\n",
              "    <tr>\n",
              "      <th>2013-10-04</th>\n",
              "      <td>118.67466</td>\n",
              "    </tr>\n",
              "    <tr>\n",
              "      <th>2013-10-05</th>\n",
              "      <td>121.33866</td>\n",
              "    </tr>\n",
              "  </tbody>\n",
              "</table>\n",
              "</div>\n",
              "      <button class=\"colab-df-convert\" onclick=\"convertToInteractive('df-72129dbb-9274-4870-a3a1-451147d08265')\"\n",
              "              title=\"Convert this dataframe to an interactive table.\"\n",
              "              style=\"display:none;\">\n",
              "        \n",
              "  <svg xmlns=\"http://www.w3.org/2000/svg\" height=\"24px\"viewBox=\"0 0 24 24\"\n",
              "       width=\"24px\">\n",
              "    <path d=\"M0 0h24v24H0V0z\" fill=\"none\"/>\n",
              "    <path d=\"M18.56 5.44l.94 2.06.94-2.06 2.06-.94-2.06-.94-.94-2.06-.94 2.06-2.06.94zm-11 1L8.5 8.5l.94-2.06 2.06-.94-2.06-.94L8.5 2.5l-.94 2.06-2.06.94zm10 10l.94 2.06.94-2.06 2.06-.94-2.06-.94-.94-2.06-.94 2.06-2.06.94z\"/><path d=\"M17.41 7.96l-1.37-1.37c-.4-.4-.92-.59-1.43-.59-.52 0-1.04.2-1.43.59L10.3 9.45l-7.72 7.72c-.78.78-.78 2.05 0 2.83L4 21.41c.39.39.9.59 1.41.59.51 0 1.02-.2 1.41-.59l7.78-7.78 2.81-2.81c.8-.78.8-2.07 0-2.86zM5.41 20L4 18.59l7.72-7.72 1.47 1.35L5.41 20z\"/>\n",
              "  </svg>\n",
              "      </button>\n",
              "      \n",
              "  <style>\n",
              "    .colab-df-container {\n",
              "      display:flex;\n",
              "      flex-wrap:wrap;\n",
              "      gap: 12px;\n",
              "    }\n",
              "\n",
              "    .colab-df-convert {\n",
              "      background-color: #E8F0FE;\n",
              "      border: none;\n",
              "      border-radius: 50%;\n",
              "      cursor: pointer;\n",
              "      display: none;\n",
              "      fill: #1967D2;\n",
              "      height: 32px;\n",
              "      padding: 0 0 0 0;\n",
              "      width: 32px;\n",
              "    }\n",
              "\n",
              "    .colab-df-convert:hover {\n",
              "      background-color: #E2EBFA;\n",
              "      box-shadow: 0px 1px 2px rgba(60, 64, 67, 0.3), 0px 1px 3px 1px rgba(60, 64, 67, 0.15);\n",
              "      fill: #174EA6;\n",
              "    }\n",
              "\n",
              "    [theme=dark] .colab-df-convert {\n",
              "      background-color: #3B4455;\n",
              "      fill: #D2E3FC;\n",
              "    }\n",
              "\n",
              "    [theme=dark] .colab-df-convert:hover {\n",
              "      background-color: #434B5C;\n",
              "      box-shadow: 0px 1px 3px 1px rgba(0, 0, 0, 0.15);\n",
              "      filter: drop-shadow(0px 1px 2px rgba(0, 0, 0, 0.3));\n",
              "      fill: #FFFFFF;\n",
              "    }\n",
              "  </style>\n",
              "\n",
              "      <script>\n",
              "        const buttonEl =\n",
              "          document.querySelector('#df-72129dbb-9274-4870-a3a1-451147d08265 button.colab-df-convert');\n",
              "        buttonEl.style.display =\n",
              "          google.colab.kernel.accessAllowed ? 'block' : 'none';\n",
              "\n",
              "        async function convertToInteractive(key) {\n",
              "          const element = document.querySelector('#df-72129dbb-9274-4870-a3a1-451147d08265');\n",
              "          const dataTable =\n",
              "            await google.colab.kernel.invokeFunction('convertToInteractive',\n",
              "                                                     [key], {});\n",
              "          if (!dataTable) return;\n",
              "\n",
              "          const docLinkHtml = 'Like what you see? Visit the ' +\n",
              "            '<a target=\"_blank\" href=https://colab.research.google.com/notebooks/data_table.ipynb>data table notebook</a>'\n",
              "            + ' to learn more about interactive tables.';\n",
              "          element.innerHTML = '';\n",
              "          dataTable['output_type'] = 'display_data';\n",
              "          await google.colab.output.renderOutput(dataTable, element);\n",
              "          const docLink = document.createElement('div');\n",
              "          docLink.innerHTML = docLinkHtml;\n",
              "          element.appendChild(docLink);\n",
              "        }\n",
              "      </script>\n",
              "    </div>\n",
              "  </div>\n",
              "  "
            ]
          },
          "metadata": {},
          "execution_count": 81
        }
      ]
    },
    {
      "cell_type": "code",
      "source": [
        "# Block reward values\n",
        "\n",
        "block_reward_1 = 50\n",
        "block_reward_2 = 25\n",
        "block_reward_3 = 12.5\n",
        "block_reward_4 = 6.25\n",
        "\n",
        "# Block reward dates\n",
        "\n",
        "block_reward_2_datetime = np.datetime64(\"2012-11-28\")\n",
        "block_reward_3_datetime = np.datetime64(\"2016-07-09\")\n",
        "block_reward_4_datetime = np.datetime64(\"2020-05-11\")"
      ],
      "metadata": {
        "id": "D_jECaybBTPa"
      },
      "execution_count": 82,
      "outputs": []
    },
    {
      "cell_type": "code",
      "source": [
        "# Get datetime indexes for when to add in different block dates\n",
        "\n",
        "block_reward_2_days = (block_reward_3_datetime - bitcoin_prices.index[0]).days\n",
        "block_reward_3_days = (block_reward_4_datetime - bitcoin_prices.index[0]).days\n",
        "block_reward_2_days, block_reward_3_days"
      ],
      "metadata": {
        "colab": {
          "base_uri": "https://localhost:8080/"
        },
        "id": "yEi7wH7XCbfc",
        "outputId": "2033739b-9094-4163-9e56-32fccdfe8d3b"
      },
      "execution_count": 83,
      "outputs": [
        {
          "output_type": "execute_result",
          "data": {
            "text/plain": [
              "(1012, 2414)"
            ]
          },
          "metadata": {},
          "execution_count": 83
        }
      ]
    },
    {
      "cell_type": "code",
      "source": [
        "# Add block reward column\n",
        "\n",
        "bitcoin_prices_block = bitcoin_prices.copy()\n",
        "bitcoin_prices_block[\"block_reward\"] = None\n",
        "\n",
        "# Set values of block reward column\n",
        "\n",
        "bitcoin_prices_block.iloc[:block_reward_2_days, -1] = block_reward_2\n",
        "bitcoin_prices_block.iloc[block_reward_2_days: block_reward_3_days, -1] = block_reward_3\n",
        "bitcoin_prices_block.iloc[block_reward_3_days:, -1] = block_reward_4\n",
        "bitcoin_prices_block.head()"
      ],
      "metadata": {
        "colab": {
          "base_uri": "https://localhost:8080/",
          "height": 237
        },
        "id": "d05KHoCMC-m3",
        "outputId": "a8062a39-89e3-40d8-f765-f2dfa1206f91"
      },
      "execution_count": 86,
      "outputs": [
        {
          "output_type": "execute_result",
          "data": {
            "text/plain": [
              "                Price block_reward\n",
              "Date                              \n",
              "2013-10-01  123.65499           25\n",
              "2013-10-02  125.45500           25\n",
              "2013-10-03  108.58483           25\n",
              "2013-10-04  118.67466           25\n",
              "2013-10-05  121.33866           25"
            ],
            "text/html": [
              "\n",
              "  <div id=\"df-75c8f041-a531-479c-b76a-7de3a77b12eb\">\n",
              "    <div class=\"colab-df-container\">\n",
              "      <div>\n",
              "<style scoped>\n",
              "    .dataframe tbody tr th:only-of-type {\n",
              "        vertical-align: middle;\n",
              "    }\n",
              "\n",
              "    .dataframe tbody tr th {\n",
              "        vertical-align: top;\n",
              "    }\n",
              "\n",
              "    .dataframe thead th {\n",
              "        text-align: right;\n",
              "    }\n",
              "</style>\n",
              "<table border=\"1\" class=\"dataframe\">\n",
              "  <thead>\n",
              "    <tr style=\"text-align: right;\">\n",
              "      <th></th>\n",
              "      <th>Price</th>\n",
              "      <th>block_reward</th>\n",
              "    </tr>\n",
              "    <tr>\n",
              "      <th>Date</th>\n",
              "      <th></th>\n",
              "      <th></th>\n",
              "    </tr>\n",
              "  </thead>\n",
              "  <tbody>\n",
              "    <tr>\n",
              "      <th>2013-10-01</th>\n",
              "      <td>123.65499</td>\n",
              "      <td>25</td>\n",
              "    </tr>\n",
              "    <tr>\n",
              "      <th>2013-10-02</th>\n",
              "      <td>125.45500</td>\n",
              "      <td>25</td>\n",
              "    </tr>\n",
              "    <tr>\n",
              "      <th>2013-10-03</th>\n",
              "      <td>108.58483</td>\n",
              "      <td>25</td>\n",
              "    </tr>\n",
              "    <tr>\n",
              "      <th>2013-10-04</th>\n",
              "      <td>118.67466</td>\n",
              "      <td>25</td>\n",
              "    </tr>\n",
              "    <tr>\n",
              "      <th>2013-10-05</th>\n",
              "      <td>121.33866</td>\n",
              "      <td>25</td>\n",
              "    </tr>\n",
              "  </tbody>\n",
              "</table>\n",
              "</div>\n",
              "      <button class=\"colab-df-convert\" onclick=\"convertToInteractive('df-75c8f041-a531-479c-b76a-7de3a77b12eb')\"\n",
              "              title=\"Convert this dataframe to an interactive table.\"\n",
              "              style=\"display:none;\">\n",
              "        \n",
              "  <svg xmlns=\"http://www.w3.org/2000/svg\" height=\"24px\"viewBox=\"0 0 24 24\"\n",
              "       width=\"24px\">\n",
              "    <path d=\"M0 0h24v24H0V0z\" fill=\"none\"/>\n",
              "    <path d=\"M18.56 5.44l.94 2.06.94-2.06 2.06-.94-2.06-.94-.94-2.06-.94 2.06-2.06.94zm-11 1L8.5 8.5l.94-2.06 2.06-.94-2.06-.94L8.5 2.5l-.94 2.06-2.06.94zm10 10l.94 2.06.94-2.06 2.06-.94-2.06-.94-.94-2.06-.94 2.06-2.06.94z\"/><path d=\"M17.41 7.96l-1.37-1.37c-.4-.4-.92-.59-1.43-.59-.52 0-1.04.2-1.43.59L10.3 9.45l-7.72 7.72c-.78.78-.78 2.05 0 2.83L4 21.41c.39.39.9.59 1.41.59.51 0 1.02-.2 1.41-.59l7.78-7.78 2.81-2.81c.8-.78.8-2.07 0-2.86zM5.41 20L4 18.59l7.72-7.72 1.47 1.35L5.41 20z\"/>\n",
              "  </svg>\n",
              "      </button>\n",
              "      \n",
              "  <style>\n",
              "    .colab-df-container {\n",
              "      display:flex;\n",
              "      flex-wrap:wrap;\n",
              "      gap: 12px;\n",
              "    }\n",
              "\n",
              "    .colab-df-convert {\n",
              "      background-color: #E8F0FE;\n",
              "      border: none;\n",
              "      border-radius: 50%;\n",
              "      cursor: pointer;\n",
              "      display: none;\n",
              "      fill: #1967D2;\n",
              "      height: 32px;\n",
              "      padding: 0 0 0 0;\n",
              "      width: 32px;\n",
              "    }\n",
              "\n",
              "    .colab-df-convert:hover {\n",
              "      background-color: #E2EBFA;\n",
              "      box-shadow: 0px 1px 2px rgba(60, 64, 67, 0.3), 0px 1px 3px 1px rgba(60, 64, 67, 0.15);\n",
              "      fill: #174EA6;\n",
              "    }\n",
              "\n",
              "    [theme=dark] .colab-df-convert {\n",
              "      background-color: #3B4455;\n",
              "      fill: #D2E3FC;\n",
              "    }\n",
              "\n",
              "    [theme=dark] .colab-df-convert:hover {\n",
              "      background-color: #434B5C;\n",
              "      box-shadow: 0px 1px 3px 1px rgba(0, 0, 0, 0.15);\n",
              "      filter: drop-shadow(0px 1px 2px rgba(0, 0, 0, 0.3));\n",
              "      fill: #FFFFFF;\n",
              "    }\n",
              "  </style>\n",
              "\n",
              "      <script>\n",
              "        const buttonEl =\n",
              "          document.querySelector('#df-75c8f041-a531-479c-b76a-7de3a77b12eb button.colab-df-convert');\n",
              "        buttonEl.style.display =\n",
              "          google.colab.kernel.accessAllowed ? 'block' : 'none';\n",
              "\n",
              "        async function convertToInteractive(key) {\n",
              "          const element = document.querySelector('#df-75c8f041-a531-479c-b76a-7de3a77b12eb');\n",
              "          const dataTable =\n",
              "            await google.colab.kernel.invokeFunction('convertToInteractive',\n",
              "                                                     [key], {});\n",
              "          if (!dataTable) return;\n",
              "\n",
              "          const docLinkHtml = 'Like what you see? Visit the ' +\n",
              "            '<a target=\"_blank\" href=https://colab.research.google.com/notebooks/data_table.ipynb>data table notebook</a>'\n",
              "            + ' to learn more about interactive tables.';\n",
              "          element.innerHTML = '';\n",
              "          dataTable['output_type'] = 'display_data';\n",
              "          await google.colab.output.renderOutput(dataTable, element);\n",
              "          const docLink = document.createElement('div');\n",
              "          docLink.innerHTML = docLinkHtml;\n",
              "          element.appendChild(docLink);\n",
              "        }\n",
              "      </script>\n",
              "    </div>\n",
              "  </div>\n",
              "  "
            ]
          },
          "metadata": {},
          "execution_count": 86
        }
      ]
    },
    {
      "cell_type": "code",
      "source": [
        "# Plot the block reward/price over time\n",
        "\n",
        "from sklearn.preprocessing import minmax_scale\n",
        "scaled_price_block_df = pd.DataFrame(minmax_scale(bitcoin_prices_block[[\"Price\", \"block_reward\"]]),\n",
        "                                     columns=bitcoin_prices_block.columns,\n",
        "                                     index=bitcoin_prices_block.index)\n",
        "scaled_price_block_df.plot(figsize=(10, 7))"
      ],
      "metadata": {
        "colab": {
          "base_uri": "https://localhost:8080/",
          "height": 459
        },
        "id": "VSDMSg-6ECSR",
        "outputId": "090e9bc6-9090-4e55-bc53-8bf28fa1ef1e"
      },
      "execution_count": 87,
      "outputs": [
        {
          "output_type": "execute_result",
          "data": {
            "text/plain": [
              "<AxesSubplot:xlabel='Date'>"
            ]
          },
          "metadata": {},
          "execution_count": 87
        },
        {
          "output_type": "display_data",
          "data": {
            "text/plain": [
              "<Figure size 720x504 with 1 Axes>"
            ],
            "image/png": "[encoded data removed]"
          },
          "metadata": {
            "needs_background": "light"
          }
        }
      ]
    },
    {
      "cell_type": "code",
      "source": [],
      "metadata": {
        "id": "EJVpVQwBE6qm"
      },
      "execution_count": null,
      "outputs": []
    }
  ]
}