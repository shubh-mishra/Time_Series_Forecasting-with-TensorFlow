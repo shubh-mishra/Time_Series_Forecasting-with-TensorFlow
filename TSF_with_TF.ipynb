{
  "nbformat": 4,
  "nbformat_minor": 0,
  "metadata": {
    "colab": {
      "provenance": []
    },
    "kernelspec": {
      "name": "python3",
      "display_name": "Python 3"
    },
    "language_info": {
      "name": "python"
    },
    "accelerator": "GPU",
    "gpuClass": "standard"
  },
  "cells": [
    {
      "cell_type": "markdown",
      "source": [
        "# Time Series Forecasting with TensorFlow"
      ],
      "metadata": {
        "id": "0w8JoogvZb3m"
      }
    },
    {
      "cell_type": "markdown",
      "source": [
        "### Contents of this notebook\n",
        "  * Get the time series data\n",
        "    * Load the time series data using Pandas/Python,s CSV module\n",
        "  * Format data for a time series problem\n",
        "    * Creating training and test sets (the wrong way)\n",
        "    * Creating training and test sets (the right way)\n",
        "    * Visualizing time series data\n",
        "    * Turning time series data into a supervised learning problem (windowing)\n",
        "    * Preparing univariate and multivariate\n",
        "  * Evaluating a time series forecasting model\n",
        "  * Setting up a series of deep learning modelling experiments\n",
        "    * Dense (fully-connected) networks\n",
        "    * Sequence models (LSTM and 1D CNN)\n",
        "    * Ensembling (combining multiple models together)\n",
        "    * Multivariate models\n",
        "    * Replicating the N-BEATS algorithm using TensorFlow layer subclassing\n",
        "  * Creating a model checkpoint to save the best performing model during training\n",
        "  * Making predictions (forecasts) with a time series model\n",
        "  * Creating prediction intervals for the time series model forecasts\n",
        "  * Discussing two different types of uncertainity in machine learning (data uncertainity and model uncertainity)\n",
        "  * Demonstrating why forecasting in an open system is BS (the turkey problem)"
      ],
      "metadata": {
        "id": "6Q2zvb4mZuEe"
      }
    },
    {
      "cell_type": "markdown",
      "source": [
        "### Check for GPU"
      ],
      "metadata": {
        "id": "xF6e0yL_cLWE"
      }
    },
    {
      "cell_type": "code",
      "execution_count": 1,
      "metadata": {
        "colab": {
          "base_uri": "https://localhost:8080/"
        },
        "id": "5G9S5O1-ZSw7",
        "outputId": "3df2813d-0287-40ed-8ace-1b87f82e5bce"
      },
      "outputs": [
        {
          "output_type": "stream",
          "name": "stdout",
          "text": [
            "GPU 0: Tesla T4 (UUID: GPU-29d81a66-7a9e-7e55-c914-d794db2f3a9a)\n"
          ]
        }
      ],
      "source": [
        "# Check for GPU\n",
        "!nvidia-smi -L"
      ]
    },
    {
      "cell_type": "markdown",
      "source": [
        "## Get data"
      ],
      "metadata": {
        "id": "qkmWlSy1CSfP"
      }
    },
    {
      "cell_type": "code",
      "source": [
        "# Download Bitcoin historical data from GitHub\n",
        "!wget https://raw.githubusercontent.com/mrdbourke/tensorflow-deep-learning/main/extras/BTC_USD_2013-10-01_2021-05-18-CoinDesk.csv"
      ],
      "metadata": {
        "colab": {
          "base_uri": "https://localhost:8080/"
        },
        "id": "qIx9yY30cT-M",
        "outputId": "80775a26-ceb7-4e48-8802-4fe10c2fb1f9"
      },
      "execution_count": 2,
      "outputs": [
        {
          "output_type": "stream",
          "name": "stdout",
          "text": [
            "--2023-02-26 18:10:19--  https://raw.githubusercontent.com/mrdbourke/tensorflow-deep-learning/main/extras/BTC_USD_2013-10-01_2021-05-18-CoinDesk.csv\n",
            "Resolving raw.githubusercontent.com (raw.githubusercontent.com)... 185.199.110.133, 185.199.108.133, 185.199.111.133, ...\n",
            "Connecting to raw.githubusercontent.com (raw.githubusercontent.com)|185.199.110.133|:443... connected.\n",
            "HTTP request sent, awaiting response... 200 OK\n",
            "Length: 178509 (174K) [text/plain]\n",
            "Saving to: ‘BTC_USD_2013-10-01_2021-05-18-CoinDesk.csv’\n",
            "\n",
            "BTC_USD_2013-10-01_ 100%[===================>] 174.33K  --.-KB/s    in 0.02s   \n",
            "\n",
            "2023-02-26 18:10:19 (7.66 MB/s) - ‘BTC_USD_2013-10-01_2021-05-18-CoinDesk.csv’ saved [178509/178509]\n",
            "\n"
          ]
        }
      ]
    },
    {
      "cell_type": "markdown",
      "source": [
        "### Importing time series data with pandas"
      ],
      "metadata": {
        "id": "HSYf_IzbDJqz"
      }
    },
    {
      "cell_type": "code",
      "source": [
        "# Import with pandas\n",
        "import pandas as pd\n",
        "import numpy as np\n",
        "df = pd.read_csv('/content/BTC_USD_2013-10-01_2021-05-18-CoinDesk.csv',\n",
        "                 parse_dates=['Date'],\n",
        "                 index_col=['Date'])"
      ],
      "metadata": {
        "id": "CccBhLmlDFVC"
      },
      "execution_count": 3,
      "outputs": []
    },
    {
      "cell_type": "code",
      "source": [
        "df.head()"
      ],
      "metadata": {
        "colab": {
          "base_uri": "https://localhost:8080/",
          "height": 237
        },
        "id": "qYRO_BYFDm6d",
        "outputId": "46fc7a8a-938e-4b09-e745-703ed71c9f64"
      },
      "execution_count": 4,
      "outputs": [
        {
          "output_type": "execute_result",
          "data": {
            "text/plain": [
              "           Currency  Closing Price (USD)  24h Open (USD)  24h High (USD)  \\\n",
              "Date                                                                       \n",
              "2013-10-01      BTC            123.65499       124.30466       124.75166   \n",
              "2013-10-02      BTC            125.45500       123.65499       125.75850   \n",
              "2013-10-03      BTC            108.58483       125.45500       125.66566   \n",
              "2013-10-04      BTC            118.67466       108.58483       118.67500   \n",
              "2013-10-05      BTC            121.33866       118.67466       121.93633   \n",
              "\n",
              "            24h Low (USD)  \n",
              "Date                       \n",
              "2013-10-01      122.56349  \n",
              "2013-10-02      123.63383  \n",
              "2013-10-03       83.32833  \n",
              "2013-10-04      107.05816  \n",
              "2013-10-05      118.00566  "
            ],
            "text/html": [
              "\n",
              "  <div id=\"df-c1d7cc60-b75e-4f58-a1ce-d288e78cbe4b\">\n",
              "    <div class=\"colab-df-container\">\n",
              "      <div>\n",
              "<style scoped>\n",
              "    .dataframe tbody tr th:only-of-type {\n",
              "        vertical-align: middle;\n",
              "    }\n",
              "\n",
              "    .dataframe tbody tr th {\n",
              "        vertical-align: top;\n",
              "    }\n",
              "\n",
              "    .dataframe thead th {\n",
              "        text-align: right;\n",
              "    }\n",
              "</style>\n",
              "<table border=\"1\" class=\"dataframe\">\n",
              "  <thead>\n",
              "    <tr style=\"text-align: right;\">\n",
              "      <th></th>\n",
              "      <th>Currency</th>\n",
              "      <th>Closing Price (USD)</th>\n",
              "      <th>24h Open (USD)</th>\n",
              "      <th>24h High (USD)</th>\n",
              "      <th>24h Low (USD)</th>\n",
              "    </tr>\n",
              "    <tr>\n",
              "      <th>Date</th>\n",
              "      <th></th>\n",
              "      <th></th>\n",
              "      <th></th>\n",
              "      <th></th>\n",
              "      <th></th>\n",
              "    </tr>\n",
              "  </thead>\n",
              "  <tbody>\n",
              "    <tr>\n",
              "      <th>2013-10-01</th>\n",
              "      <td>BTC</td>\n",
              "      <td>123.65499</td>\n",
              "      <td>124.30466</td>\n",
              "      <td>124.75166</td>\n",
              "      <td>122.56349</td>\n",
              "    </tr>\n",
              "    <tr>\n",
              "      <th>2013-10-02</th>\n",
              "      <td>BTC</td>\n",
              "      <td>125.45500</td>\n",
              "      <td>123.65499</td>\n",
              "      <td>125.75850</td>\n",
              "      <td>123.63383</td>\n",
              "    </tr>\n",
              "    <tr>\n",
              "      <th>2013-10-03</th>\n",
              "      <td>BTC</td>\n",
              "      <td>108.58483</td>\n",
              "      <td>125.45500</td>\n",
              "      <td>125.66566</td>\n",
              "      <td>83.32833</td>\n",
              "    </tr>\n",
              "    <tr>\n",
              "      <th>2013-10-04</th>\n",
              "      <td>BTC</td>\n",
              "      <td>118.67466</td>\n",
              "      <td>108.58483</td>\n",
              "      <td>118.67500</td>\n",
              "      <td>107.05816</td>\n",
              "    </tr>\n",
              "    <tr>\n",
              "      <th>2013-10-05</th>\n",
              "      <td>BTC</td>\n",
              "      <td>121.33866</td>\n",
              "      <td>118.67466</td>\n",
              "      <td>121.93633</td>\n",
              "      <td>118.00566</td>\n",
              "    </tr>\n",
              "  </tbody>\n",
              "</table>\n",
              "</div>\n",
              "      <button class=\"colab-df-convert\" onclick=\"convertToInteractive('df-c1d7cc60-b75e-4f58-a1ce-d288e78cbe4b')\"\n",
              "              title=\"Convert this dataframe to an interactive table.\"\n",
              "              style=\"display:none;\">\n",
              "        \n",
              "  <svg xmlns=\"http://www.w3.org/2000/svg\" height=\"24px\"viewBox=\"0 0 24 24\"\n",
              "       width=\"24px\">\n",
              "    <path d=\"M0 0h24v24H0V0z\" fill=\"none\"/>\n",
              "    <path d=\"M18.56 5.44l.94 2.06.94-2.06 2.06-.94-2.06-.94-.94-2.06-.94 2.06-2.06.94zm-11 1L8.5 8.5l.94-2.06 2.06-.94-2.06-.94L8.5 2.5l-.94 2.06-2.06.94zm10 10l.94 2.06.94-2.06 2.06-.94-2.06-.94-.94-2.06-.94 2.06-2.06.94z\"/><path d=\"M17.41 7.96l-1.37-1.37c-.4-.4-.92-.59-1.43-.59-.52 0-1.04.2-1.43.59L10.3 9.45l-7.72 7.72c-.78.78-.78 2.05 0 2.83L4 21.41c.39.39.9.59 1.41.59.51 0 1.02-.2 1.41-.59l7.78-7.78 2.81-2.81c.8-.78.8-2.07 0-2.86zM5.41 20L4 18.59l7.72-7.72 1.47 1.35L5.41 20z\"/>\n",
              "  </svg>\n",
              "      </button>\n",
              "      \n",
              "  <style>\n",
              "    .colab-df-container {\n",
              "      display:flex;\n",
              "      flex-wrap:wrap;\n",
              "      gap: 12px;\n",
              "    }\n",
              "\n",
              "    .colab-df-convert {\n",
              "      background-color: #E8F0FE;\n",
              "      border: none;\n",
              "      border-radius: 50%;\n",
              "      cursor: pointer;\n",
              "      display: none;\n",
              "      fill: #1967D2;\n",
              "      height: 32px;\n",
              "      padding: 0 0 0 0;\n",
              "      width: 32px;\n",
              "    }\n",
              "\n",
              "    .colab-df-convert:hover {\n",
              "      background-color: #E2EBFA;\n",
              "      box-shadow: 0px 1px 2px rgba(60, 64, 67, 0.3), 0px 1px 3px 1px rgba(60, 64, 67, 0.15);\n",
              "      fill: #174EA6;\n",
              "    }\n",
              "\n",
              "    [theme=dark] .colab-df-convert {\n",
              "      background-color: #3B4455;\n",
              "      fill: #D2E3FC;\n",
              "    }\n",
              "\n",
              "    [theme=dark] .colab-df-convert:hover {\n",
              "      background-color: #434B5C;\n",
              "      box-shadow: 0px 1px 3px 1px rgba(0, 0, 0, 0.15);\n",
              "      filter: drop-shadow(0px 1px 2px rgba(0, 0, 0, 0.3));\n",
              "      fill: #FFFFFF;\n",
              "    }\n",
              "  </style>\n",
              "\n",
              "      <script>\n",
              "        const buttonEl =\n",
              "          document.querySelector('#df-c1d7cc60-b75e-4f58-a1ce-d288e78cbe4b button.colab-df-convert');\n",
              "        buttonEl.style.display =\n",
              "          google.colab.kernel.accessAllowed ? 'block' : 'none';\n",
              "\n",
              "        async function convertToInteractive(key) {\n",
              "          const element = document.querySelector('#df-c1d7cc60-b75e-4f58-a1ce-d288e78cbe4b');\n",
              "          const dataTable =\n",
              "            await google.colab.kernel.invokeFunction('convertToInteractive',\n",
              "                                                     [key], {});\n",
              "          if (!dataTable) return;\n",
              "\n",
              "          const docLinkHtml = 'Like what you see? Visit the ' +\n",
              "            '<a target=\"_blank\" href=https://colab.research.google.com/notebooks/data_table.ipynb>data table notebook</a>'\n",
              "            + ' to learn more about interactive tables.';\n",
              "          element.innerHTML = '';\n",
              "          dataTable['output_type'] = 'display_data';\n",
              "          await google.colab.output.renderOutput(dataTable, element);\n",
              "          const docLink = document.createElement('div');\n",
              "          docLink.innerHTML = docLinkHtml;\n",
              "          element.appendChild(docLink);\n",
              "        }\n",
              "      </script>\n",
              "    </div>\n",
              "  </div>\n",
              "  "
            ]
          },
          "metadata": {},
          "execution_count": 4
        }
      ]
    },
    {
      "cell_type": "code",
      "source": [
        "df.info()"
      ],
      "metadata": {
        "colab": {
          "base_uri": "https://localhost:8080/"
        },
        "id": "oDeBOuRTDtyb",
        "outputId": "09f947de-1b04-44a9-dd27-ab46e5b76815"
      },
      "execution_count": 5,
      "outputs": [
        {
          "output_type": "stream",
          "name": "stdout",
          "text": [
            "<class 'pandas.core.frame.DataFrame'>\n",
            "DatetimeIndex: 2787 entries, 2013-10-01 to 2021-05-18\n",
            "Data columns (total 5 columns):\n",
            " #   Column               Non-Null Count  Dtype  \n",
            "---  ------               --------------  -----  \n",
            " 0   Currency             2787 non-null   object \n",
            " 1   Closing Price (USD)  2787 non-null   float64\n",
            " 2   24h Open (USD)       2787 non-null   float64\n",
            " 3   24h High (USD)       2787 non-null   float64\n",
            " 4   24h Low (USD)        2787 non-null   float64\n",
            "dtypes: float64(4), object(1)\n",
            "memory usage: 130.6+ KB\n"
          ]
        }
      ]
    },
    {
      "cell_type": "code",
      "source": [
        "df.shape"
      ],
      "metadata": {
        "colab": {
          "base_uri": "https://localhost:8080/"
        },
        "id": "_UpS-_04D0xW",
        "outputId": "1bc54044-3b85-4f85-95e3-6a41cf5ca6ce"
      },
      "execution_count": 6,
      "outputs": [
        {
          "output_type": "execute_result",
          "data": {
            "text/plain": [
              "(2787, 5)"
            ]
          },
          "metadata": {},
          "execution_count": 6
        }
      ]
    },
    {
      "cell_type": "code",
      "source": [
        "# Only want closing price for each day\n",
        "bitcoin_prices = pd.DataFrame(df['Closing Price (USD)']).rename(columns={'Closing Price (USD)': 'Price'})\n",
        "bitcoin_prices.head()"
      ],
      "metadata": {
        "colab": {
          "base_uri": "https://localhost:8080/",
          "height": 237
        },
        "id": "VF3K-owOEUPm",
        "outputId": "fd0b7aad-7b9d-4b1a-fe7f-ca3d83d7e0ce"
      },
      "execution_count": 7,
      "outputs": [
        {
          "output_type": "execute_result",
          "data": {
            "text/plain": [
              "                Price\n",
              "Date                 \n",
              "2013-10-01  123.65499\n",
              "2013-10-02  125.45500\n",
              "2013-10-03  108.58483\n",
              "2013-10-04  118.67466\n",
              "2013-10-05  121.33866"
            ],
            "text/html": [
              "\n",
              "  <div id=\"df-cb26694c-17f3-4c12-b6b5-c114e06cf4e0\">\n",
              "    <div class=\"colab-df-container\">\n",
              "      <div>\n",
              "<style scoped>\n",
              "    .dataframe tbody tr th:only-of-type {\n",
              "        vertical-align: middle;\n",
              "    }\n",
              "\n",
              "    .dataframe tbody tr th {\n",
              "        vertical-align: top;\n",
              "    }\n",
              "\n",
              "    .dataframe thead th {\n",
              "        text-align: right;\n",
              "    }\n",
              "</style>\n",
              "<table border=\"1\" class=\"dataframe\">\n",
              "  <thead>\n",
              "    <tr style=\"text-align: right;\">\n",
              "      <th></th>\n",
              "      <th>Price</th>\n",
              "    </tr>\n",
              "    <tr>\n",
              "      <th>Date</th>\n",
              "      <th></th>\n",
              "    </tr>\n",
              "  </thead>\n",
              "  <tbody>\n",
              "    <tr>\n",
              "      <th>2013-10-01</th>\n",
              "      <td>123.65499</td>\n",
              "    </tr>\n",
              "    <tr>\n",
              "      <th>2013-10-02</th>\n",
              "      <td>125.45500</td>\n",
              "    </tr>\n",
              "    <tr>\n",
              "      <th>2013-10-03</th>\n",
              "      <td>108.58483</td>\n",
              "    </tr>\n",
              "    <tr>\n",
              "      <th>2013-10-04</th>\n",
              "      <td>118.67466</td>\n",
              "    </tr>\n",
              "    <tr>\n",
              "      <th>2013-10-05</th>\n",
              "      <td>121.33866</td>\n",
              "    </tr>\n",
              "  </tbody>\n",
              "</table>\n",
              "</div>\n",
              "      <button class=\"colab-df-convert\" onclick=\"convertToInteractive('df-cb26694c-17f3-4c12-b6b5-c114e06cf4e0')\"\n",
              "              title=\"Convert this dataframe to an interactive table.\"\n",
              "              style=\"display:none;\">\n",
              "        \n",
              "  <svg xmlns=\"http://www.w3.org/2000/svg\" height=\"24px\"viewBox=\"0 0 24 24\"\n",
              "       width=\"24px\">\n",
              "    <path d=\"M0 0h24v24H0V0z\" fill=\"none\"/>\n",
              "    <path d=\"M18.56 5.44l.94 2.06.94-2.06 2.06-.94-2.06-.94-.94-2.06-.94 2.06-2.06.94zm-11 1L8.5 8.5l.94-2.06 2.06-.94-2.06-.94L8.5 2.5l-.94 2.06-2.06.94zm10 10l.94 2.06.94-2.06 2.06-.94-2.06-.94-.94-2.06-.94 2.06-2.06.94z\"/><path d=\"M17.41 7.96l-1.37-1.37c-.4-.4-.92-.59-1.43-.59-.52 0-1.04.2-1.43.59L10.3 9.45l-7.72 7.72c-.78.78-.78 2.05 0 2.83L4 21.41c.39.39.9.59 1.41.59.51 0 1.02-.2 1.41-.59l7.78-7.78 2.81-2.81c.8-.78.8-2.07 0-2.86zM5.41 20L4 18.59l7.72-7.72 1.47 1.35L5.41 20z\"/>\n",
              "  </svg>\n",
              "      </button>\n",
              "      \n",
              "  <style>\n",
              "    .colab-df-container {\n",
              "      display:flex;\n",
              "      flex-wrap:wrap;\n",
              "      gap: 12px;\n",
              "    }\n",
              "\n",
              "    .colab-df-convert {\n",
              "      background-color: #E8F0FE;\n",
              "      border: none;\n",
              "      border-radius: 50%;\n",
              "      cursor: pointer;\n",
              "      display: none;\n",
              "      fill: #1967D2;\n",
              "      height: 32px;\n",
              "      padding: 0 0 0 0;\n",
              "      width: 32px;\n",
              "    }\n",
              "\n",
              "    .colab-df-convert:hover {\n",
              "      background-color: #E2EBFA;\n",
              "      box-shadow: 0px 1px 2px rgba(60, 64, 67, 0.3), 0px 1px 3px 1px rgba(60, 64, 67, 0.15);\n",
              "      fill: #174EA6;\n",
              "    }\n",
              "\n",
              "    [theme=dark] .colab-df-convert {\n",
              "      background-color: #3B4455;\n",
              "      fill: #D2E3FC;\n",
              "    }\n",
              "\n",
              "    [theme=dark] .colab-df-convert:hover {\n",
              "      background-color: #434B5C;\n",
              "      box-shadow: 0px 1px 3px 1px rgba(0, 0, 0, 0.15);\n",
              "      filter: drop-shadow(0px 1px 2px rgba(0, 0, 0, 0.3));\n",
              "      fill: #FFFFFF;\n",
              "    }\n",
              "  </style>\n",
              "\n",
              "      <script>\n",
              "        const buttonEl =\n",
              "          document.querySelector('#df-cb26694c-17f3-4c12-b6b5-c114e06cf4e0 button.colab-df-convert');\n",
              "        buttonEl.style.display =\n",
              "          google.colab.kernel.accessAllowed ? 'block' : 'none';\n",
              "\n",
              "        async function convertToInteractive(key) {\n",
              "          const element = document.querySelector('#df-cb26694c-17f3-4c12-b6b5-c114e06cf4e0');\n",
              "          const dataTable =\n",
              "            await google.colab.kernel.invokeFunction('convertToInteractive',\n",
              "                                                     [key], {});\n",
              "          if (!dataTable) return;\n",
              "\n",
              "          const docLinkHtml = 'Like what you see? Visit the ' +\n",
              "            '<a target=\"_blank\" href=https://colab.research.google.com/notebooks/data_table.ipynb>data table notebook</a>'\n",
              "            + ' to learn more about interactive tables.';\n",
              "          element.innerHTML = '';\n",
              "          dataTable['output_type'] = 'display_data';\n",
              "          await google.colab.output.renderOutput(dataTable, element);\n",
              "          const docLink = document.createElement('div');\n",
              "          docLink.innerHTML = docLinkHtml;\n",
              "          element.appendChild(docLink);\n",
              "        }\n",
              "      </script>\n",
              "    </div>\n",
              "  </div>\n",
              "  "
            ]
          },
          "metadata": {},
          "execution_count": 7
        }
      ]
    },
    {
      "cell_type": "code",
      "source": [
        "# Visulaizing data\n",
        "import matplotlib.pyplot as plt\n",
        "bitcoin_prices.plot(figsize=(10, 7))\n",
        "plt.ylabel('BTC Price')\n",
        "plt.title('Price of Bitcoin from 1 Oct 2013 to 18 May 2021', fontsize=16)\n",
        "plt.legend(fontsize=14)"
      ],
      "metadata": {
        "colab": {
          "base_uri": "https://localhost:8080/",
          "height": 477
        },
        "id": "TbkLAN_0FVYy",
        "outputId": "a298b9b0-1ffe-4e88-92ef-4707a83ff468"
      },
      "execution_count": 8,
      "outputs": [
        {
          "output_type": "execute_result",
          "data": {
            "text/plain": [
              "<matplotlib.legend.Legend at 0x7f5a3d3e5310>"
            ]
          },
          "metadata": {},
          "execution_count": 8
        },
        {
          "output_type": "display_data",
          "data": {
            "text/plain": [
              "<Figure size 720x504 with 1 Axes>"
            ],
            "image/png": "[encoded data removed]"
          },
          "metadata": {
            "needs_background": "light"
          }
        }
      ]
    },
    {
      "cell_type": "markdown",
      "source": [
        "### Importing time series data with Python's CSV module"
      ],
      "metadata": {
        "id": "sJTzfAWTGPFT"
      }
    },
    {
      "cell_type": "code",
      "source": [
        "# Importing and formatting historical Bitcoin data with Python\n",
        "\n",
        "import csv\n",
        "from datetime import datetime\n",
        "\n",
        "timesteps = []\n",
        "btc_price = []\n",
        "with open('/content/BTC_USD_2013-10-01_2021-05-18-CoinDesk.csv') as f:\n",
        "  csv_reader = csv.reader(f, delimiter=',')\n",
        "  next(csv_reader)\n",
        "  for line in csv_reader:\n",
        "    timesteps.append(datetime.strptime(line[1], \"%Y-%m-%d\"))\n",
        "    btc_price.append(float(line[2]))\n",
        "\n",
        "# View first 10 of each\n",
        "\n",
        "timesteps[:10], btc_price[:10]"
      ],
      "metadata": {
        "colab": {
          "base_uri": "https://localhost:8080/"
        },
        "id": "iGnvksqrGLF8",
        "outputId": "9a0ff1b1-149b-494a-9c91-6de64275a9fe"
      },
      "execution_count": 9,
      "outputs": [
        {
          "output_type": "execute_result",
          "data": {
            "text/plain": [
              "([datetime.datetime(2013, 10, 1, 0, 0),\n",
              "  datetime.datetime(2013, 10, 2, 0, 0),\n",
              "  datetime.datetime(2013, 10, 3, 0, 0),\n",
              "  datetime.datetime(2013, 10, 4, 0, 0),\n",
              "  datetime.datetime(2013, 10, 5, 0, 0),\n",
              "  datetime.datetime(2013, 10, 6, 0, 0),\n",
              "  datetime.datetime(2013, 10, 7, 0, 0),\n",
              "  datetime.datetime(2013, 10, 8, 0, 0),\n",
              "  datetime.datetime(2013, 10, 9, 0, 0),\n",
              "  datetime.datetime(2013, 10, 10, 0, 0)],\n",
              " [123.65499,\n",
              "  125.455,\n",
              "  108.58483,\n",
              "  118.67466,\n",
              "  121.33866,\n",
              "  120.65533,\n",
              "  121.795,\n",
              "  123.033,\n",
              "  124.049,\n",
              "  125.96116])"
            ]
          },
          "metadata": {},
          "execution_count": 9
        }
      ]
    },
    {
      "cell_type": "code",
      "source": [
        "# Plot from CSV\n",
        "import matplotlib.pyplot as plt\n",
        "plt.figure(figsize=(10, 7))\n",
        "plt.plot(timesteps, btc_price)\n",
        "plt.ylabel('BTC Price')\n",
        "plt.title('Price of Bitcoin from 1 Oct 2013 to 18 May 2021', fontsize=16)\n",
        "plt.xlabel('Date')"
      ],
      "metadata": {
        "colab": {
          "base_uri": "https://localhost:8080/",
          "height": 477
        },
        "id": "qBOzExKVH5MY",
        "outputId": "91962e08-f747-44d3-cf74-d25ee6c70423"
      },
      "execution_count": 10,
      "outputs": [
        {
          "output_type": "execute_result",
          "data": {
            "text/plain": [
              "Text(0.5, 0, 'Date')"
            ]
          },
          "metadata": {},
          "execution_count": 10
        },
        {
          "output_type": "display_data",
          "data": {
            "text/plain": [
              "<Figure size 720x504 with 1 Axes>"
            ],
            "image/png": "[encoded data removed]"
          },
          "metadata": {
            "needs_background": "light"
          }
        }
      ]
    },
    {
      "cell_type": "markdown",
      "source": [
        "## Formatting data for time series problem"
      ],
      "metadata": {
        "id": "kDch2yFnKIUM"
      }
    },
    {
      "cell_type": "markdown",
      "source": [
        "### Creating train and test sets for time series data (the wrong way)"
      ],
      "metadata": {
        "id": "8mZmNjyCKNU8"
      }
    },
    {
      "cell_type": "code",
      "source": [
        "# Get Bitcoin date array\n",
        "\n",
        "timesteps = bitcoin_prices.index.to_numpy()\n",
        "prices = bitcoin_prices['Price'].to_numpy()\n",
        "\n",
        "timesteps[:10], prices[:10]"
      ],
      "metadata": {
        "colab": {
          "base_uri": "https://localhost:8080/"
        },
        "id": "DnfJTaXLIu9x",
        "outputId": "a422f728-3879-4943-8a45-b3f5bdef0851"
      },
      "execution_count": 11,
      "outputs": [
        {
          "output_type": "execute_result",
          "data": {
            "text/plain": [
              "(array(['2013-10-01T00:00:00.000000000', '2013-10-02T00:00:00.000000000',\n",
              "        '2013-10-03T00:00:00.000000000', '2013-10-04T00:00:00.000000000',\n",
              "        '2013-10-05T00:00:00.000000000', '2013-10-06T00:00:00.000000000',\n",
              "        '2013-10-07T00:00:00.000000000', '2013-10-08T00:00:00.000000000',\n",
              "        '2013-10-09T00:00:00.000000000', '2013-10-10T00:00:00.000000000'],\n",
              "       dtype='datetime64[ns]'),\n",
              " array([123.65499, 125.455  , 108.58483, 118.67466, 121.33866, 120.65533,\n",
              "        121.795  , 123.033  , 124.049  , 125.96116]))"
            ]
          },
          "metadata": {},
          "execution_count": 11
        }
      ]
    },
    {
      "cell_type": "code",
      "source": [
        "# Wrong way to make train test split\n",
        "\n",
        "from sklearn.model_selection import train_test_split\n",
        "X_train, X_test, y_train, y_test = train_test_split(timesteps,\n",
        "                                                    prices,\n",
        "                                                    test_size=0.2,\n",
        "                                                    random_state=42)\n",
        "X_train.shape, X_test.shape, y_train.shape, y_test.shape"
      ],
      "metadata": {
        "colab": {
          "base_uri": "https://localhost:8080/"
        },
        "id": "vqlUhjJULTK3",
        "outputId": "5c65b9a6-d833-4eec-a5dc-ec8a5ac302ae"
      },
      "execution_count": 12,
      "outputs": [
        {
          "output_type": "execute_result",
          "data": {
            "text/plain": [
              "((2229,), (558,), (2229,), (558,))"
            ]
          },
          "metadata": {},
          "execution_count": 12
        }
      ]
    },
    {
      "cell_type": "code",
      "source": [
        "# Plotting wrong train and test splits\n",
        "\n",
        "plt.figure(figsize=(10, 7))\n",
        "plt.scatter(X_train, y_train, s=5, label='Train data')\n",
        "plt.scatter(X_test, y_test, s=5, label='Test data')\n",
        "plt.xlabel('Date')\n",
        "plt.ylabel('BTC Price')\n",
        "plt.legend(fontsize=14)\n",
        "plt.show()"
      ],
      "metadata": {
        "colab": {
          "base_uri": "https://localhost:8080/",
          "height": 442
        },
        "id": "AT8nCaLAMAev",
        "outputId": "497432ef-7104-46ea-e523-e06ccadc298a"
      },
      "execution_count": 13,
      "outputs": [
        {
          "output_type": "display_data",
          "data": {
            "text/plain": [
              "<Figure size 720x504 with 1 Axes>"
            ],
            "image/png": "[encoded data removed]"
          },
          "metadata": {
            "needs_background": "light"
          }
        }
      ]
    },
    {
      "cell_type": "markdown",
      "source": [
        "### Creating train and test sets for time series data (the right way)"
      ],
      "metadata": {
        "id": "zlqfQuVxOLez"
      }
    },
    {
      "cell_type": "code",
      "source": [
        "split_size = int(0.8 * len(prices))\n",
        "\n",
        "X_train, y_train = timesteps[0:split_size], prices[:split_size]\n",
        "\n",
        "X_test, y_test = timesteps[split_size:], prices[split_size:]\n",
        "\n",
        "len(X_train), len(X_test), len(y_train), len(y_test)"
      ],
      "metadata": {
        "colab": {
          "base_uri": "https://localhost:8080/"
        },
        "id": "gV8dMGg5M5zk",
        "outputId": "1a92faf4-b5e0-4172-975c-73ae29b82840"
      },
      "execution_count": 14,
      "outputs": [
        {
          "output_type": "execute_result",
          "data": {
            "text/plain": [
              "(2229, 558, 2229, 558)"
            ]
          },
          "metadata": {},
          "execution_count": 14
        }
      ]
    },
    {
      "cell_type": "code",
      "source": [
        "# Plot correctly made splits\n",
        "\n",
        "plt.figure(figsize=(10, 7))\n",
        "plt.scatter(X_train, y_train, s=5, label='Train data')\n",
        "plt.scatter(X_test, y_test, s=5, label='Test data')\n",
        "plt.xlabel('Date')\n",
        "plt.ylabel('BTC Price')\n",
        "plt.legend(fontsize=14)\n",
        "plt.show()"
      ],
      "metadata": {
        "colab": {
          "base_uri": "https://localhost:8080/",
          "height": 442
        },
        "id": "xiFfNRa8PF6S",
        "outputId": "06b99f29-52c8-4d85-c378-2275236746e4"
      },
      "execution_count": 15,
      "outputs": [
        {
          "output_type": "display_data",
          "data": {
            "text/plain": [
              "<Figure size 720x504 with 1 Axes>"
            ],
            "image/png": "[encoded data removed]"
          },
          "metadata": {
            "needs_background": "light"
          }
        }
      ]
    },
    {
      "cell_type": "markdown",
      "source": [
        "### Creating a plotting function"
      ],
      "metadata": {
        "id": "QZIaqB4fP5f-"
      }
    },
    {
      "cell_type": "code",
      "source": [
        "def plot_time_series(timesteps, values, format='.', start=0, end=None, label=None):\n",
        "  plt.plot(timesteps[start:end], values[start:end], format, label=label)\n",
        "  plt.xlabel('Time')\n",
        "  plt.ylabel('BTC Price')\n",
        "  if label:\n",
        "    plt.legend(fontsize=14)\n",
        "  plt.grid(True) "
      ],
      "metadata": {
        "id": "bOQp_MxvP0R7"
      },
      "execution_count": 16,
      "outputs": []
    },
    {
      "cell_type": "code",
      "source": [
        "# Try out our plotting function\n",
        "\n",
        "plt.figure(figsize=(10, 7))\n",
        "plot_time_series(timesteps=X_train, values=y_train, label='Train data')\n",
        "plot_time_series(timesteps=X_test, values=y_test, label='Test data')"
      ],
      "metadata": {
        "colab": {
          "base_uri": "https://localhost:8080/",
          "height": 442
        },
        "id": "NxSMbI3GRaVW",
        "outputId": "29be1e2e-5d1c-4d10-a969-80adb0c2aea9"
      },
      "execution_count": 17,
      "outputs": [
        {
          "output_type": "display_data",
          "data": {
            "text/plain": [
              "<Figure size 720x504 with 1 Axes>"
            ],
            "image/png": "[encoded data removed]"
          },
          "metadata": {
            "needs_background": "light"
          }
        }
      ]
    },
    {
      "cell_type": "markdown",
      "source": [
        "## Modelling Experiments"
      ],
      "metadata": {
        "id": "BfgMr9kUb5mH"
      }
    },
    {
      "cell_type": "markdown",
      "source": [
        "### Model 0: Naive Forecast (baseline)"
      ],
      "metadata": {
        "id": "rpB-eC7ob87b"
      }
    },
    {
      "cell_type": "code",
      "source": [
        "# Create a naive forecast\n",
        "\n",
        "naive_forecast = y_test[:-1]\n",
        "naive_forecast[:10], naive_forecast[-10:]"
      ],
      "metadata": {
        "id": "pmwXESXCR4W5",
        "colab": {
          "base_uri": "https://localhost:8080/"
        },
        "outputId": "e3774f3f-e6f8-4999-ca5d-7ce69672a21f"
      },
      "execution_count": 18,
      "outputs": [
        {
          "output_type": "execute_result",
          "data": {
            "text/plain": [
              "(array([9226.48582088, 8794.35864452, 8798.04205463, 9081.18687849,\n",
              "        8711.53433917, 8760.89271814, 8749.52059102, 8656.97092235,\n",
              "        8500.64355816, 8469.2608989 ]),\n",
              " array([57107.12067189, 58788.20967893, 58102.19142623, 55715.54665129,\n",
              "        56573.5554719 , 52147.82118698, 49764.1320816 , 50032.69313676,\n",
              "        47885.62525472, 45604.61575361]))"
            ]
          },
          "metadata": {},
          "execution_count": 18
        }
      ]
    },
    {
      "cell_type": "code",
      "source": [
        "# Plot naive forecast\n",
        "\n",
        "plt.figure(figsize=(10, 7))\n",
        "plot_time_series(timesteps=X_train, values=y_train, label='Train data')\n",
        "plot_time_series(timesteps=X_test, values=y_test, label='Test data')\n",
        "plot_time_series(timesteps=X_test[1:], values=naive_forecast, label='Naive Forecast')"
      ],
      "metadata": {
        "colab": {
          "base_uri": "https://localhost:8080/",
          "height": 442
        },
        "id": "o0SYgJp0c7iJ",
        "outputId": "77b86e55-c9d1-4fcb-e82a-f1ae39b4ee84"
      },
      "execution_count": 19,
      "outputs": [
        {
          "output_type": "display_data",
          "data": {
            "text/plain": [
              "<Figure size 720x504 with 1 Axes>"
            ],
            "image/png": "[encoded data removed]"
          },
          "metadata": {
            "needs_background": "light"
          }
        }
      ]
    },
    {
      "cell_type": "code",
      "source": [
        "# Zooming in the plot\n",
        "\n",
        "plt.figure(figsize=(10, 7))\n",
        "offset = 300\n",
        "plot_time_series(timesteps=X_test, values=y_test, start=offset, label='Test data')\n",
        "plot_time_series(timesteps=X_test[1:], values=naive_forecast, start=offset, format='-', label='Naive forecast')\n"
      ],
      "metadata": {
        "colab": {
          "base_uri": "https://localhost:8080/",
          "height": 442
        },
        "id": "0oTrV_iKeDJG",
        "outputId": "0f69e5af-26a4-4ba7-da05-7fcce0532904"
      },
      "execution_count": 20,
      "outputs": [
        {
          "output_type": "display_data",
          "data": {
            "text/plain": [
              "<Figure size 720x504 with 1 Axes>"
            ],
            "image/png": "[encoded data removed]"
          },
          "metadata": {
            "needs_background": "light"
          }
        }
      ]
    },
    {
      "cell_type": "markdown",
      "source": [
        "### Evaluating a time series model"
      ],
      "metadata": {
        "id": "sanRTmVuf1Nn"
      }
    },
    {
      "cell_type": "code",
      "source": [
        "import tensorflow as tf"
      ],
      "metadata": {
        "id": "OvW8fMQ4faf-"
      },
      "execution_count": 21,
      "outputs": []
    },
    {
      "cell_type": "code",
      "source": [
        "# Create a function to calculate MASE (mean absolute scaled error)\n",
        "\n",
        "def mean_absolute_scaled_error(y_true, y_pred):\n",
        "  \n",
        "  mae = tf.reduce_mean(tf.abs(y_true - y_pred))\n",
        "  mae_naive_no_season = tf.reduce_mean(tf.abs(y_true[1:]-y_true[:-1]))\n",
        "  \n",
        "  return mae/mae_naive_no_season"
      ],
      "metadata": {
        "id": "QM1clImrhVrn"
      },
      "execution_count": 22,
      "outputs": []
    },
    {
      "cell_type": "code",
      "source": [
        "# Create a function to calculate results (predictions)\n",
        "\n",
        "def evaluate_preds(y_true, y_pred):\n",
        "\n",
        "  y_true = tf.cast(y_true, dtype=tf.float32)\n",
        "  y_pred = tf.cast(y_pred, dtype=tf.float32)\n",
        "\n",
        "  mae = tf.keras.metrics.mean_absolute_error(y_true, y_pred)\n",
        "  mape = tf.keras.metrics.mean_absolute_percentage_error(y_true, y_pred)\n",
        "  mse = tf.keras.metrics.mean_squared_error(y_true, y_pred)\n",
        "  rmse = tf.sqrt(mse)\n",
        "  mase = mean_absolute_scaled_error(y_true, y_pred)\n",
        "\n",
        "  return {\"mae\": mae.numpy(),\n",
        "          \"mse\": mse.numpy(),\n",
        "          \"rmse\": rmse.numpy(),\n",
        "          \"mape\": mape.numpy(),\n",
        "          \"mase\": mase.numpy()}"
      ],
      "metadata": {
        "id": "XBtQtFGOiLrB"
      },
      "execution_count": 23,
      "outputs": []
    },
    {
      "cell_type": "code",
      "source": [
        "naive_results = evaluate_preds(y_true=y_test[1:], y_pred=naive_forecast)\n",
        "naive_results"
      ],
      "metadata": {
        "colab": {
          "base_uri": "https://localhost:8080/"
        },
        "id": "x7es2RpTkshz",
        "outputId": "b9c60eb4-32f2-45ef-e295-5e683b3b385a"
      },
      "execution_count": 24,
      "outputs": [
        {
          "output_type": "execute_result",
          "data": {
            "text/plain": [
              "{'mae': 567.9802,\n",
              " 'mse': 1147547.0,\n",
              " 'rmse': 1071.2362,\n",
              " 'mape': 2.516525,\n",
              " 'mase': 0.99957}"
            ]
          },
          "metadata": {},
          "execution_count": 24
        }
      ]
    },
    {
      "cell_type": "markdown",
      "source": [
        "### Other models/libraries for time series forecasting\n",
        "  * Moving average\n",
        "  * ARIMA (AutoRegression Integrated Moving Average)\n",
        "  * Sktime (Scikit-learn for time series)\n",
        "  * TensorFlow Decision Forecasts (random forest, gradient boosting trees)\n",
        "  * Facebook Kats (purpose built forecasting and time series analysis library by facebook)\n",
        "  * LinkedIn Greykite (flexible, intuitive and fast forecasts)\n"
      ],
      "metadata": {
        "id": "TV-DO7-MluR4"
      }
    },
    {
      "cell_type": "markdown",
      "source": [
        "### Windowing dataset"
      ],
      "metadata": {
        "id": "I22RSH9sn3ln"
      }
    },
    {
      "cell_type": "code",
      "source": [
        "HORIZON = 1           # Predict 1 step at a time\n",
        "WINDOW_SIZE = 7       # Use a week worth of timestamps to predict the horizon"
      ],
      "metadata": {
        "id": "a70thobTlPuh"
      },
      "execution_count": 25,
      "outputs": []
    },
    {
      "cell_type": "code",
      "source": [
        "# Create a function to label windowed data\n",
        "\n",
        "def get_labelled_windows(x, horizon=1):\n",
        "\n",
        "  return x[:,:-horizon], x[:,-horizon:]"
      ],
      "metadata": {
        "id": "VPKDC6yciCQY"
      },
      "execution_count": 26,
      "outputs": []
    },
    {
      "cell_type": "code",
      "source": [
        "# Test out the window labelling function\n",
        "\n",
        "test_window, test_label = get_labelled_windows(tf.expand_dims(tf.range(8)+1, axis=0), horizon=HORIZON)\n",
        "print(f\"Window: {test_window} -> Label: {test_label}\")"
      ],
      "metadata": {
        "colab": {
          "base_uri": "https://localhost:8080/"
        },
        "id": "IUX9-nrCigQh",
        "outputId": "49dd381e-eaeb-4968-afbe-179767d55490"
      },
      "execution_count": 27,
      "outputs": [
        {
          "output_type": "stream",
          "name": "stdout",
          "text": [
            "Window: [[1 2 3 4 5 6 7]] -> Label: [[8]]\n"
          ]
        }
      ]
    },
    {
      "cell_type": "code",
      "source": [
        "# Create a function to view NumPy arrays as windows\n",
        "\n",
        "def make_windows(x, window_size=7, horizon=1):\n",
        "\n",
        "  # 1. Create a window of specific window size (add the horizon on the end for later labelling)\n",
        "  window_step = np.expand_dims(np.arange(window_size+horizon), axis=0)\n",
        "\n",
        "  # 2. Create a 2D array of multiple window steps (minus 1 to account for zero indexing)\n",
        "  window_indexes = window_step + np.expand_dims(np.arange(len(x) - (window_size+horizon-1)), axis=0).T\n",
        "\n",
        "  # 3. Index on the target array (time series) with 2D array of multiple window steps\n",
        "  windowed_array = x[window_indexes]\n",
        "\n",
        "  # 4. Get the labelled windows\n",
        "  windows, labels = get_labelled_windows(windowed_array, horizon=horizon)\n",
        "\n",
        "  return windows, labels"
      ],
      "metadata": {
        "id": "gpxsb2UFjMnm"
      },
      "execution_count": 28,
      "outputs": []
    },
    {
      "cell_type": "code",
      "source": [
        "full_windows, full_labels = make_windows(prices, window_size=WINDOW_SIZE, horizon=HORIZON)\n",
        "len(full_windows), len(full_labels)"
      ],
      "metadata": {
        "colab": {
          "base_uri": "https://localhost:8080/"
        },
        "id": "_5vi0FoVmn6E",
        "outputId": "0993a24d-fd3d-4177-c3b8-f9846503625c"
      },
      "execution_count": 29,
      "outputs": [
        {
          "output_type": "execute_result",
          "data": {
            "text/plain": [
              "(2780, 2780)"
            ]
          },
          "metadata": {},
          "execution_count": 29
        }
      ]
    },
    {
      "cell_type": "code",
      "source": [
        "# View the first three windows/labels\n",
        "\n",
        "for i in range(3):\n",
        "  print(f\"Window: {full_windows[i]} -> Label: {full_labels[i]}\")"
      ],
      "metadata": {
        "colab": {
          "base_uri": "https://localhost:8080/"
        },
        "id": "3cp-Yq6Kodhs",
        "outputId": "0063d576-2e66-425a-e979-6da835d8eb10"
      },
      "execution_count": 30,
      "outputs": [
        {
          "output_type": "stream",
          "name": "stdout",
          "text": [
            "Window: [123.65499 125.455   108.58483 118.67466 121.33866 120.65533 121.795  ] -> Label: [123.033]\n",
            "Window: [125.455   108.58483 118.67466 121.33866 120.65533 121.795   123.033  ] -> Label: [124.049]\n",
            "Window: [108.58483 118.67466 121.33866 120.65533 121.795   123.033   124.049  ] -> Label: [125.96116]\n"
          ]
        }
      ]
    },
    {
      "cell_type": "markdown",
      "source": [
        "### Turning windows into training and test sets"
      ],
      "metadata": {
        "id": "L1GLRpXNplZa"
      }
    },
    {
      "cell_type": "code",
      "source": [
        "# Make the train test split\n",
        "\n",
        "def make_train_test_split(windows, labels, test_split=0.2):\n",
        "\n",
        "  split_size = int(len(windows) * (1-test_split))\n",
        "  train_windows = windows[:split_size]\n",
        "  train_labels = labels[:split_size]\n",
        "  test_windows = windows[split_size:]\n",
        "  test_labels = labels[split_size:]\n",
        "\n",
        "  return train_windows, test_windows, train_labels, test_labels"
      ],
      "metadata": {
        "id": "Z_Lz-h6HpRke"
      },
      "execution_count": 31,
      "outputs": []
    },
    {
      "cell_type": "code",
      "source": [
        "train_windows, test_windows, train_labels, test_labels = make_train_test_split(full_windows, full_labels)\n",
        "len(train_windows), len(test_windows), len(train_labels), len(test_labels)"
      ],
      "metadata": {
        "colab": {
          "base_uri": "https://localhost:8080/"
        },
        "id": "TJwMFnKArrGT",
        "outputId": "79e98eae-00f1-4e08-a1eb-2d653188472f"
      },
      "execution_count": 32,
      "outputs": [
        {
          "output_type": "execute_result",
          "data": {
            "text/plain": [
              "(2224, 556, 2224, 556)"
            ]
          },
          "metadata": {},
          "execution_count": 32
        }
      ]
    },
    {
      "cell_type": "code",
      "source": [
        "train_windows[:5], train_labels[:5]"
      ],
      "metadata": {
        "colab": {
          "base_uri": "https://localhost:8080/"
        },
        "id": "mdae9nPmr-TP",
        "outputId": "6dca3935-2440-4f09-f521-0d1593bd3951"
      },
      "execution_count": 33,
      "outputs": [
        {
          "output_type": "execute_result",
          "data": {
            "text/plain": [
              "(array([[123.65499, 125.455  , 108.58483, 118.67466, 121.33866, 120.65533,\n",
              "         121.795  ],\n",
              "        [125.455  , 108.58483, 118.67466, 121.33866, 120.65533, 121.795  ,\n",
              "         123.033  ],\n",
              "        [108.58483, 118.67466, 121.33866, 120.65533, 121.795  , 123.033  ,\n",
              "         124.049  ],\n",
              "        [118.67466, 121.33866, 120.65533, 121.795  , 123.033  , 124.049  ,\n",
              "         125.96116],\n",
              "        [121.33866, 120.65533, 121.795  , 123.033  , 124.049  , 125.96116,\n",
              "         125.27966]]), array([[123.033  ],\n",
              "        [124.049  ],\n",
              "        [125.96116],\n",
              "        [125.27966],\n",
              "        [125.9275 ]]))"
            ]
          },
          "metadata": {},
          "execution_count": 33
        }
      ]
    },
    {
      "cell_type": "markdown",
      "source": [
        "### Make modelling checkpoint"
      ],
      "metadata": {
        "id": "TgtlgPZPsjEu"
      }
    },
    {
      "cell_type": "code",
      "source": [
        "import os\n",
        "\n",
        "# Create a function ti implement model checkpoint callback with a specific filename\n",
        "\n",
        "def create_model_checkpoint(model_name, save_path=\"model_experiments\"):\n",
        "  \n",
        "  return tf.keras.callbacks.ModelCheckpoint(filepath=os.path.join(save_path, model_name),\n",
        "                                            verbose=0,\n",
        "                                            save_best_only=True)"
      ],
      "metadata": {
        "id": "qFXvvNMYslwM"
      },
      "execution_count": 34,
      "outputs": []
    },
    {
      "cell_type": "markdown",
      "source": [
        "### Model 1: Dense model (window = 7, horizon = 1)"
      ],
      "metadata": {
        "id": "Z9baqLMTd2nL"
      }
    },
    {
      "cell_type": "code",
      "source": [
        "import tensorflow as tf\n",
        "from tensorflow.keras import layers\n",
        "\n",
        "# Set seed\n",
        "tf.random.set_seed(42)\n",
        "\n",
        "# Construct model\n",
        "model_1 = tf.keras.Sequential([\n",
        "    layers.Dense(128, activation=\"relu\"),\n",
        "    layers.Dense(HORIZON, activation=\"linear\")\n",
        "], name=\"model_1_dense\")\n",
        "\n",
        "# Compile model\n",
        "model_1.compile(loss=\"mae\",\n",
        "                optimizer=tf.keras.optimizers.Adam(),\n",
        "                metrics=[\"mae\"])\n",
        "\n",
        "# Fit model\n",
        "model_1.fit(x=train_windows,\n",
        "            y=train_labels,\n",
        "            epochs=100,\n",
        "            verbose=1,\n",
        "            batch_size=128,\n",
        "            validation_data=(test_windows, test_labels),\n",
        "            callbacks=[create_model_checkpoint(model_name=model_1.name)])"
      ],
      "metadata": {
        "colab": {
          "base_uri": "https://localhost:8080/"
        },
        "id": "N3JjZ0mzu6_9",
        "outputId": "b5265de5-28a9-4926-db66-a2aac63c9bfa"
      },
      "execution_count": 35,
      "outputs": [
        {
          "output_type": "stream",
          "name": "stdout",
          "text": [
            "Epoch 1/100\n",
            "13/18 [====================>.........] - ETA: 0s - loss: 700.9844 - mae: 700.9844    "
          ]
        },
        {
          "output_type": "stream",
          "name": "stderr",
          "text": [
            "WARNING:absl:Found untraced functions such as _update_step_xla while saving (showing 1 of 1). These functions will not be directly callable after loading.\n"
          ]
        },
        {
          "output_type": "stream",
          "name": "stdout",
          "text": [
            "\b\b\b\b\b\b\b\b\b\b\b\b\b\b\b\b\b\b\b\b\b\b\b\b\b\b\b\b\b\b\b\b\b\b\b\b\b\b\b\b\b\b\b\b\b\b\b\b\b\b\b\b\b\b\b\b\b\b\b\b\b\b\b\b\b\b\b\b\b\b\b\b\b\b\b\b\b\b\b\b\b\r18/18 [==============================] - 8s 89ms/step - loss: 616.1766 - mae: 616.1766 - val_loss: 1124.7377 - val_mae: 1124.7377\n",
            "Epoch 2/100\n",
            "12/18 [===================>..........] - ETA: 0s - loss: 239.3627 - mae: 239.3627"
          ]
        },
        {
          "output_type": "stream",
          "name": "stderr",
          "text": [
            "WARNING:absl:Found untraced functions such as _update_step_xla while saving (showing 1 of 1). These functions will not be directly callable after loading.\n"
          ]
        },
        {
          "output_type": "stream",
          "name": "stdout",
          "text": [
            "\b\b\b\b\b\b\b\b\b\b\b\b\b\b\b\b\b\b\b\b\b\b\b\b\b\b\b\b\b\b\b\b\b\b\b\b\b\b\b\b\b\b\b\b\b\b\b\b\b\b\b\b\b\b\b\b\b\b\b\b\b\b\b\b\b\b\b\b\b\b\b\b\b\b\b\b\b\b\b\b\b\r18/18 [==============================] - 1s 34ms/step - loss: 234.9995 - mae: 234.9995 - val_loss: 1096.9310 - val_mae: 1096.9310\n",
            "Epoch 3/100\n",
            "18/18 [==============================] - 0s 5ms/step - loss: 191.0404 - mae: 191.0404 - val_loss: 1194.2158 - val_mae: 1194.2158\n",
            "Epoch 4/100\n",
            " 1/18 [>.............................] - ETA: 0s - loss: 241.8531 - mae: 241.8531"
          ]
        },
        {
          "output_type": "stream",
          "name": "stderr",
          "text": [
            "WARNING:absl:Found untraced functions such as _update_step_xla while saving (showing 1 of 1). These functions will not be directly callable after loading.\n"
          ]
        },
        {
          "output_type": "stream",
          "name": "stdout",
          "text": [
            "\b\b\b\b\b\b\b\b\b\b\b\b\b\b\b\b\b\b\b\b\b\b\b\b\b\b\b\b\b\b\b\b\b\b\b\b\b\b\b\b\b\b\b\b\b\b\b\b\b\b\b\b\b\b\b\b\b\b\b\b\b\b\b\b\b\b\b\b\b\b\b\b\b\b\b\b\b\b\b\b\b\r18/18 [==============================] - 0s 28ms/step - loss: 180.6357 - mae: 180.6357 - val_loss: 973.2617 - val_mae: 973.2617\n",
            "Epoch 5/100\n",
            "18/18 [==============================] - ETA: 0s - loss: 169.4942 - mae: 169.4942"
          ]
        },
        {
          "output_type": "stream",
          "name": "stderr",
          "text": [
            "WARNING:absl:Found untraced functions such as _update_step_xla while saving (showing 1 of 1). These functions will not be directly callable after loading.\n"
          ]
        },
        {
          "output_type": "stream",
          "name": "stdout",
          "text": [
            "\b\b\b\b\b\b\b\b\b\b\b\b\b\b\b\b\b\b\b\b\b\b\b\b\b\b\b\b\b\b\b\b\b\b\b\b\b\b\b\b\b\b\b\b\b\b\b\b\b\b\b\b\b\b\b\b\b\b\b\b\b\b\b\b\b\b\b\b\b\b\b\b\b\b\b\b\b\b\b\b\b\r18/18 [==============================] - 0s 29ms/step - loss: 169.4942 - mae: 169.4942 - val_loss: 922.2393 - val_mae: 922.2393\n",
            "Epoch 6/100\n",
            "18/18 [==============================] - 0s 5ms/step - loss: 163.4746 - mae: 163.4746 - val_loss: 983.7720 - val_mae: 983.7720\n",
            "Epoch 7/100\n",
            " 1/18 [>.............................] - ETA: 0s - loss: 216.1888 - mae: 216.1888"
          ]
        },
        {
          "output_type": "stream",
          "name": "stderr",
          "text": [
            "WARNING:absl:Found untraced functions such as _update_step_xla while saving (showing 1 of 1). These functions will not be directly callable after loading.\n"
          ]
        },
        {
          "output_type": "stream",
          "name": "stdout",
          "text": [
            "\b\b\b\b\b\b\b\b\b\b\b\b\b\b\b\b\b\b\b\b\b\b\b\b\b\b\b\b\b\b\b\b\b\b\b\b\b\b\b\b\b\b\b\b\b\b\b\b\b\b\b\b\b\b\b\b\b\b\b\b\b\b\b\b\b\b\b\b\b\b\b\b\b\b\b\b\b\b\b\b\b\r18/18 [==============================] - 0s 27ms/step - loss: 156.0038 - mae: 156.0038 - val_loss: 838.3767 - val_mae: 838.3767\n",
            "Epoch 8/100\n",
            " 1/18 [>.............................] - ETA: 0s - loss: 115.9523 - mae: 115.9523"
          ]
        },
        {
          "output_type": "stream",
          "name": "stderr",
          "text": [
            "WARNING:absl:Found untraced functions such as _update_step_xla while saving (showing 1 of 1). These functions will not be directly callable after loading.\n"
          ]
        },
        {
          "output_type": "stream",
          "name": "stdout",
          "text": [
            "\b\b\b\b\b\b\b\b\b\b\b\b\b\b\b\b\b\b\b\b\b\b\b\b\b\b\b\b\b\b\b\b\b\b\b\b\b\b\b\b\b\b\b\b\b\b\b\b\b\b\b\b\b\b\b\b\b\b\b\b\b\b\b\b\b\b\b\b\b\b\b\b\b\b\b\b\b\b\b\b\b\r18/18 [==============================] - 1s 32ms/step - loss: 149.9482 - mae: 149.9482 - val_loss: 837.4706 - val_mae: 837.4706\n",
            "Epoch 9/100\n",
            "15/18 [========================>.....] - ETA: 0s - loss: 155.5847 - mae: 155.5847"
          ]
        },
        {
          "output_type": "stream",
          "name": "stderr",
          "text": [
            "WARNING:absl:Found untraced functions such as _update_step_xla while saving (showing 1 of 1). These functions will not be directly callable after loading.\n"
          ]
        },
        {
          "output_type": "stream",
          "name": "stdout",
          "text": [
            "\b\b\b\b\b\b\b\b\b\b\b\b\b\b\b\b\b\b\b\b\b\b\b\b\b\b\b\b\b\b\b\b\b\b\b\b\b\b\b\b\b\b\b\b\b\b\b\b\b\b\b\b\b\b\b\b\b\b\b\b\b\b\b\b\b\b\b\b\b\b\b\b\b\b\b\b\b\b\b\b\b\r18/18 [==============================] - 1s 41ms/step - loss: 154.6142 - mae: 154.6142 - val_loss: 792.3362 - val_mae: 792.3362\n",
            "Epoch 10/100\n",
            "16/18 [=========================>....] - ETA: 0s - loss: 145.4584 - mae: 145.4584"
          ]
        },
        {
          "output_type": "stream",
          "name": "stderr",
          "text": [
            "WARNING:absl:Found untraced functions such as _update_step_xla while saving (showing 1 of 1). These functions will not be directly callable after loading.\n"
          ]
        },
        {
          "output_type": "stream",
          "name": "stdout",
          "text": [
            "\b\b\b\b\b\b\b\b\b\b\b\b\b\b\b\b\b\b\b\b\b\b\b\b\b\b\b\b\b\b\b\b\b\b\b\b\b\b\b\b\b\b\b\b\b\b\b\b\b\b\b\b\b\b\b\b\b\b\b\b\b\b\b\b\b\b\b\b\b\b\b\b\b\b\b\b\b\b\b\b\b\r18/18 [==============================] - 1s 51ms/step - loss: 147.2586 - mae: 147.2586 - val_loss: 775.2368 - val_mae: 775.2368\n",
            "Epoch 11/100\n",
            "15/18 [========================>.....] - ETA: 0s - loss: 141.9245 - mae: 141.9245"
          ]
        },
        {
          "output_type": "stream",
          "name": "stderr",
          "text": [
            "WARNING:absl:Found untraced functions such as _update_step_xla while saving (showing 1 of 1). These functions will not be directly callable after loading.\n"
          ]
        },
        {
          "output_type": "stream",
          "name": "stdout",
          "text": [
            "\b\b\b\b\b\b\b\b\b\b\b\b\b\b\b\b\b\b\b\b\b\b\b\b\b\b\b\b\b\b\b\b\b\b\b\b\b\b\b\b\b\b\b\b\b\b\b\b\b\b\b\b\b\b\b\b\b\b\b\b\b\b\b\b\b\b\b\b\b\b\b\b\b\b\b\b\b\b\b\b\b\r18/18 [==============================] - 1s 48ms/step - loss: 139.9225 - mae: 139.9225 - val_loss: 772.3043 - val_mae: 772.3043\n",
            "Epoch 12/100\n",
            "18/18 [==============================] - 0s 5ms/step - loss: 135.3897 - mae: 135.3897 - val_loss: 837.2587 - val_mae: 837.2587\n",
            "Epoch 13/100\n",
            "13/18 [====================>.........] - ETA: 0s - loss: 137.2448 - mae: 137.2448"
          ]
        },
        {
          "output_type": "stream",
          "name": "stderr",
          "text": [
            "WARNING:absl:Found untraced functions such as _update_step_xla while saving (showing 1 of 1). These functions will not be directly callable after loading.\n"
          ]
        },
        {
          "output_type": "stream",
          "name": "stdout",
          "text": [
            "\b\b\b\b\b\b\b\b\b\b\b\b\b\b\b\b\b\b\b\b\b\b\b\b\b\b\b\b\b\b\b\b\b\b\b\b\b\b\b\b\b\b\b\b\b\b\b\b\b\b\b\b\b\b\b\b\b\b\b\b\b\b\b\b\b\b\b\b\b\b\b\b\b\b\b\b\b\b\b\b\b\r18/18 [==============================] - 1s 36ms/step - loss: 140.5669 - mae: 140.5669 - val_loss: 753.6125 - val_mae: 753.6125\n",
            "Epoch 14/100\n",
            " 1/18 [>.............................] - ETA: 0s - loss: 126.9490 - mae: 126.9490"
          ]
        },
        {
          "output_type": "stream",
          "name": "stderr",
          "text": [
            "WARNING:absl:Found untraced functions such as _update_step_xla while saving (showing 1 of 1). These functions will not be directly callable after loading.\n"
          ]
        },
        {
          "output_type": "stream",
          "name": "stdout",
          "text": [
            "\b\b\b\b\b\b\b\b\b\b\b\b\b\b\b\b\b\b\b\b\b\b\b\b\b\b\b\b\b\b\b\b\b\b\b\b\b\b\b\b\b\b\b\b\b\b\b\b\b\b\b\b\b\b\b\b\b\b\b\b\b\b\b\b\b\b\b\b\b\b\b\b\b\b\b\b\b\b\b\b\b\r18/18 [==============================] - 1s 61ms/step - loss: 135.5698 - mae: 135.5698 - val_loss: 725.5245 - val_mae: 725.5245\n",
            "Epoch 15/100\n",
            "12/18 [===================>..........] - ETA: 0s - loss: 134.0769 - mae: 134.0769"
          ]
        },
        {
          "output_type": "stream",
          "name": "stderr",
          "text": [
            "WARNING:absl:Found untraced functions such as _update_step_xla while saving (showing 1 of 1). These functions will not be directly callable after loading.\n"
          ]
        },
        {
          "output_type": "stream",
          "name": "stdout",
          "text": [
            "\b\b\b\b\b\b\b\b\b\b\b\b\b\b\b\b\b\b\b\b\b\b\b\b\b\b\b\b\b\b\b\b\b\b\b\b\b\b\b\b\b\b\b\b\b\b\b\b\b\b\b\b\b\b\b\b\b\b\b\b\b\b\b\b\b\b\b\b\b\b\b\b\b\b\b\b\b\b\b\b\b\r18/18 [==============================] - 1s 55ms/step - loss: 139.0439 - mae: 139.0439 - val_loss: 717.0986 - val_mae: 717.0986\n",
            "Epoch 16/100\n",
            "13/18 [====================>.........] - ETA: 0s - loss: 129.8776 - mae: 129.8776"
          ]
        },
        {
          "output_type": "stream",
          "name": "stderr",
          "text": [
            "WARNING:absl:Found untraced functions such as _update_step_xla while saving (showing 1 of 1). These functions will not be directly callable after loading.\n"
          ]
        },
        {
          "output_type": "stream",
          "name": "stdout",
          "text": [
            "\b\b\b\b\b\b\b\b\b\b\b\b\b\b\b\b\b\b\b\b\b\b\b\b\b\b\b\b\b\b\b\b\b\b\b\b\b\b\b\b\b\b\b\b\b\b\b\b\b\b\b\b\b\b\b\b\b\b\b\b\b\b\b\b\b\b\b\b\b\b\b\b\b\b\b\b\b\b\b\b\b\r18/18 [==============================] - 1s 37ms/step - loss: 127.7145 - mae: 127.7145 - val_loss: 702.1080 - val_mae: 702.1080\n",
            "Epoch 17/100\n",
            " 1/18 [>.............................] - ETA: 0s - loss: 110.1777 - mae: 110.1777"
          ]
        },
        {
          "output_type": "stream",
          "name": "stderr",
          "text": [
            "WARNING:absl:Found untraced functions such as _update_step_xla while saving (showing 1 of 1). These functions will not be directly callable after loading.\n"
          ]
        },
        {
          "output_type": "stream",
          "name": "stdout",
          "text": [
            "\b\b\b\b\b\b\b\b\b\b\b\b\b\b\b\b\b\b\b\b\b\b\b\b\b\b\b\b\b\b\b\b\b\b\b\b\b\b\b\b\b\b\b\b\b\b\b\b\b\b\b\b\b\b\b\b\b\b\b\b\b\b\b\b\b\b\b\b\b\b\b\b\b\b\b\b\b\b\b\b\b\r18/18 [==============================] - 0s 26ms/step - loss: 127.8133 - mae: 127.8133 - val_loss: 694.0281 - val_mae: 694.0281\n",
            "Epoch 18/100\n",
            "13/18 [====================>.........] - ETA: 0s - loss: 130.0429 - mae: 130.0429"
          ]
        },
        {
          "output_type": "stream",
          "name": "stderr",
          "text": [
            "WARNING:absl:Found untraced functions such as _update_step_xla while saving (showing 1 of 1). These functions will not be directly callable after loading.\n"
          ]
        },
        {
          "output_type": "stream",
          "name": "stdout",
          "text": [
            "\b\b\b\b\b\b\b\b\b\b\b\b\b\b\b\b\b\b\b\b\b\b\b\b\b\b\b\b\b\b\b\b\b\b\b\b\b\b\b\b\b\b\b\b\b\b\b\b\b\b\b\b\b\b\b\b\b\b\b\b\b\b\b\b\b\b\b\b\b\b\b\b\b\b\b\b\b\b\b\b\b\r18/18 [==============================] - 0s 29ms/step - loss: 124.1264 - mae: 124.1264 - val_loss: 682.2881 - val_mae: 682.2881\n",
            "Epoch 19/100\n",
            "18/18 [==============================] - 0s 5ms/step - loss: 123.7312 - mae: 123.7312 - val_loss: 719.7310 - val_mae: 719.7310\n",
            "Epoch 20/100\n",
            " 1/18 [>.............................] - ETA: 0s - loss: 139.5569 - mae: 139.5569"
          ]
        },
        {
          "output_type": "stream",
          "name": "stderr",
          "text": [
            "WARNING:absl:Found untraced functions such as _update_step_xla while saving (showing 1 of 1). These functions will not be directly callable after loading.\n"
          ]
        },
        {
          "output_type": "stream",
          "name": "stdout",
          "text": [
            "\b\b\b\b\b\b\b\b\b\b\b\b\b\b\b\b\b\b\b\b\b\b\b\b\b\b\b\b\b\b\b\b\b\b\b\b\b\b\b\b\b\b\b\b\b\b\b\b\b\b\b\b\b\b\b\b\b\b\b\b\b\b\b\b\b\b\b\b\b\b\b\b\b\b\b\b\b\b\b\b\b\r18/18 [==============================] - 0s 28ms/step - loss: 122.9220 - mae: 122.9220 - val_loss: 668.4951 - val_mae: 668.4951\n",
            "Epoch 21/100\n",
            "18/18 [==============================] - ETA: 0s - loss: 125.1969 - mae: 125.1969"
          ]
        },
        {
          "output_type": "stream",
          "name": "stderr",
          "text": [
            "WARNING:absl:Found untraced functions such as _update_step_xla while saving (showing 1 of 1). These functions will not be directly callable after loading.\n"
          ]
        },
        {
          "output_type": "stream",
          "name": "stdout",
          "text": [
            "\b\b\b\b\b\b\b\b\b\b\b\b\b\b\b\b\b\b\b\b\b\b\b\b\b\b\b\b\b\b\b\b\b\b\b\b\b\b\b\b\b\b\b\b\b\b\b\b\b\b\b\b\b\b\b\b\b\b\b\b\b\b\b\b\b\b\b\b\b\b\b\b\b\b\b\b\b\b\b\b\b\r18/18 [==============================] - 1s 29ms/step - loss: 125.1969 - mae: 125.1969 - val_loss: 660.3359 - val_mae: 660.3359\n",
            "Epoch 22/100\n",
            "18/18 [==============================] - 0s 5ms/step - loss: 121.3020 - mae: 121.3020 - val_loss: 661.0563 - val_mae: 661.0563\n",
            "Epoch 23/100\n",
            " 1/18 [>.............................] - ETA: 0s - loss: 119.6696 - mae: 119.6696"
          ]
        },
        {
          "output_type": "stream",
          "name": "stderr",
          "text": [
            "WARNING:absl:Found untraced functions such as _update_step_xla while saving (showing 1 of 1). These functions will not be directly callable after loading.\n"
          ]
        },
        {
          "output_type": "stream",
          "name": "stdout",
          "text": [
            "\b\b\b\b\b\b\b\b\b\b\b\b\b\b\b\b\b\b\b\b\b\b\b\b\b\b\b\b\b\b\b\b\b\b\b\b\b\b\b\b\b\b\b\b\b\b\b\b\b\b\b\b\b\b\b\b\b\b\b\b\b\b\b\b\b\b\b\b\b\b\b\b\b\b\b\b\b\b\b\b\b\r18/18 [==============================] - 0s 28ms/step - loss: 123.1647 - mae: 123.1647 - val_loss: 652.4316 - val_mae: 652.4316\n",
            "Epoch 24/100\n",
            "18/18 [==============================] - 0s 5ms/step - loss: 123.9549 - mae: 123.9549 - val_loss: 663.1455 - val_mae: 663.1455\n",
            "Epoch 25/100\n",
            " 1/18 [>.............................] - ETA: 0s - loss: 123.4125 - mae: 123.4125"
          ]
        },
        {
          "output_type": "stream",
          "name": "stderr",
          "text": [
            "WARNING:absl:Found untraced functions such as _update_step_xla while saving (showing 1 of 1). These functions will not be directly callable after loading.\n"
          ]
        },
        {
          "output_type": "stream",
          "name": "stdout",
          "text": [
            "\b\b\b\b\b\b\b\b\b\b\b\b\b\b\b\b\b\b\b\b\b\b\b\b\b\b\b\b\b\b\b\b\b\b\b\b\b\b\b\b\b\b\b\b\b\b\b\b\b\b\b\b\b\b\b\b\b\b\b\b\b\b\b\b\b\b\b\b\b\b\b\b\b\b\b\b\b\b\b\b\b\r18/18 [==============================] - 0s 28ms/step - loss: 120.3723 - mae: 120.3723 - val_loss: 639.1349 - val_mae: 639.1349\n",
            "Epoch 26/100\n",
            " 1/18 [>.............................] - ETA: 0s - loss: 121.6664 - mae: 121.6664"
          ]
        },
        {
          "output_type": "stream",
          "name": "stderr",
          "text": [
            "WARNING:absl:Found untraced functions such as _update_step_xla while saving (showing 1 of 1). These functions will not be directly callable after loading.\n"
          ]
        },
        {
          "output_type": "stream",
          "name": "stdout",
          "text": [
            "\b\b\b\b\b\b\b\b\b\b\b\b\b\b\b\b\b\b\b\b\b\b\b\b\b\b\b\b\b\b\b\b\b\b\b\b\b\b\b\b\b\b\b\b\b\b\b\b\b\b\b\b\b\b\b\b\b\b\b\b\b\b\b\b\b\b\b\b\b\b\b\b\b\b\b\b\b\b\b\b\b\r18/18 [==============================] - 1s 29ms/step - loss: 118.9335 - mae: 118.9335 - val_loss: 632.7179 - val_mae: 632.7179\n",
            "Epoch 27/100\n",
            "18/18 [==============================] - 0s 5ms/step - loss: 120.6414 - mae: 120.6414 - val_loss: 636.4705 - val_mae: 636.4705\n",
            "Epoch 28/100\n",
            " 1/18 [>.............................] - ETA: 0s - loss: 109.2336 - mae: 109.2336"
          ]
        },
        {
          "output_type": "stream",
          "name": "stderr",
          "text": [
            "WARNING:absl:Found untraced functions such as _update_step_xla while saving (showing 1 of 1). These functions will not be directly callable after loading.\n"
          ]
        },
        {
          "output_type": "stream",
          "name": "stdout",
          "text": [
            "\b\b\b\b\b\b\b\b\b\b\b\b\b\b\b\b\b\b\b\b\b\b\b\b\b\b\b\b\b\b\b\b\b\b\b\b\b\b\b\b\b\b\b\b\b\b\b\b\b\b\b\b\b\b\b\b\b\b\b\b\b\b\b\b\b\b\b\b\b\b\b\b\b\b\b\b\b\b\b\b\b\r18/18 [==============================] - 0s 27ms/step - loss: 116.5693 - mae: 116.5693 - val_loss: 624.2400 - val_mae: 624.2400\n",
            "Epoch 29/100\n",
            "18/18 [==============================] - 0s 5ms/step - loss: 117.9462 - mae: 117.9462 - val_loss: 628.0798 - val_mae: 628.0798\n",
            "Epoch 30/100\n",
            "18/18 [==============================] - ETA: 0s - loss: 119.3177 - mae: 119.3177"
          ]
        },
        {
          "output_type": "stream",
          "name": "stderr",
          "text": [
            "WARNING:absl:Found untraced functions such as _update_step_xla while saving (showing 1 of 1). These functions will not be directly callable after loading.\n"
          ]
        },
        {
          "output_type": "stream",
          "name": "stdout",
          "text": [
            "\b\b\b\b\b\b\b\b\b\b\b\b\b\b\b\b\b\b\b\b\b\b\b\b\b\b\b\b\b\b\b\b\b\b\b\b\b\b\b\b\b\b\b\b\b\b\b\b\b\b\b\b\b\b\b\b\b\b\b\b\b\b\b\b\b\b\b\b\b\b\b\b\b\b\b\b\b\b\b\b\b\r18/18 [==============================] - 0s 29ms/step - loss: 119.3177 - mae: 119.3177 - val_loss: 618.4318 - val_mae: 618.4318\n",
            "Epoch 31/100\n",
            " 1/18 [>.............................] - ETA: 0s - loss: 119.5261 - mae: 119.5261"
          ]
        },
        {
          "output_type": "stream",
          "name": "stderr",
          "text": [
            "WARNING:absl:Found untraced functions such as _update_step_xla while saving (showing 1 of 1). These functions will not be directly callable after loading.\n"
          ]
        },
        {
          "output_type": "stream",
          "name": "stdout",
          "text": [
            "\b\b\b\b\b\b\b\b\b\b\b\b\b\b\b\b\b\b\b\b\b\b\b\b\b\b\b\b\b\b\b\b\b\b\b\b\b\b\b\b\b\b\b\b\b\b\b\b\b\b\b\b\b\b\b\b\b\b\b\b\b\b\b\b\b\b\b\b\b\b\b\b\b\b\b\b\b\b\b\b\b\r18/18 [==============================] - 0s 28ms/step - loss: 114.6340 - mae: 114.6340 - val_loss: 616.7125 - val_mae: 616.7125\n",
            "Epoch 32/100\n",
            "18/18 [==============================] - 0s 5ms/step - loss: 115.2338 - mae: 115.2338 - val_loss: 663.9641 - val_mae: 663.9641\n",
            "Epoch 33/100\n",
            " 1/18 [>.............................] - ETA: 0s - loss: 151.9676 - mae: 151.9676"
          ]
        },
        {
          "output_type": "stream",
          "name": "stderr",
          "text": [
            "WARNING:absl:Found untraced functions such as _update_step_xla while saving (showing 1 of 1). These functions will not be directly callable after loading.\n"
          ]
        },
        {
          "output_type": "stream",
          "name": "stdout",
          "text": [
            "\b\b\b\b\b\b\b\b\b\b\b\b\b\b\b\b\b\b\b\b\b\b\b\b\b\b\b\b\b\b\b\b\b\b\b\b\b\b\b\b\b\b\b\b\b\b\b\b\b\b\b\b\b\b\b\b\b\b\b\b\b\b\b\b\b\b\b\b\b\b\b\b\b\b\b\b\b\b\b\b\b\r18/18 [==============================] - 0s 29ms/step - loss: 115.9361 - mae: 115.9361 - val_loss: 609.2816 - val_mae: 609.2816\n",
            "Epoch 34/100\n",
            "18/18 [==============================] - 0s 5ms/step - loss: 114.9954 - mae: 114.9954 - val_loss: 629.1204 - val_mae: 629.1204\n",
            "Epoch 35/100\n",
            "18/18 [==============================] - 0s 5ms/step - loss: 113.2864 - mae: 113.2864 - val_loss: 618.1449 - val_mae: 618.1449\n",
            "Epoch 36/100\n",
            " 1/18 [>.............................] - ETA: 0s - loss: 157.8354 - mae: 157.8354"
          ]
        },
        {
          "output_type": "stream",
          "name": "stderr",
          "text": [
            "WARNING:absl:Found untraced functions such as _update_step_xla while saving (showing 1 of 1). These functions will not be directly callable after loading.\n"
          ]
        },
        {
          "output_type": "stream",
          "name": "stdout",
          "text": [
            "\b\b\b\b\b\b\b\b\b\b\b\b\b\b\b\b\b\b\b\b\b\b\b\b\b\b\b\b\b\b\b\b\b\b\b\b\b\b\b\b\b\b\b\b\b\b\b\b\b\b\b\b\b\b\b\b\b\b\b\b\b\b\b\b\b\b\b\b\b\b\b\b\b\b\b\b\b\b\b\b\b\r18/18 [==============================] - 1s 37ms/step - loss: 115.4402 - mae: 115.4402 - val_loss: 605.0335 - val_mae: 605.0335\n",
            "Epoch 37/100\n",
            "18/18 [==============================] - 0s 6ms/step - loss: 111.5116 - mae: 111.5116 - val_loss: 607.4088 - val_mae: 607.4088\n",
            "Epoch 38/100\n",
            "16/18 [=========================>....] - ETA: 0s - loss: 112.3952 - mae: 112.3952"
          ]
        },
        {
          "output_type": "stream",
          "name": "stderr",
          "text": [
            "WARNING:absl:Found untraced functions such as _update_step_xla while saving (showing 1 of 1). These functions will not be directly callable after loading.\n"
          ]
        },
        {
          "output_type": "stream",
          "name": "stdout",
          "text": [
            "\b\b\b\b\b\b\b\b\b\b\b\b\b\b\b\b\b\b\b\b\b\b\b\b\b\b\b\b\b\b\b\b\b\b\b\b\b\b\b\b\b\b\b\b\b\b\b\b\b\b\b\b\b\b\b\b\b\b\b\b\b\b\b\b\b\b\b\b\b\b\b\b\b\b\b\b\b\b\b\b\b\r18/18 [==============================] - 1s 57ms/step - loss: 112.3157 - mae: 112.3157 - val_loss: 597.7556 - val_mae: 597.7556\n",
            "Epoch 39/100\n",
            "18/18 [==============================] - 0s 7ms/step - loss: 112.5582 - mae: 112.5582 - val_loss: 599.3593 - val_mae: 599.3593\n",
            "Epoch 40/100\n",
            "18/18 [==============================] - 0s 7ms/step - loss: 110.9332 - mae: 110.9332 - val_loss: 615.4061 - val_mae: 615.4061\n",
            "Epoch 41/100\n",
            "15/18 [========================>.....] - ETA: 0s - loss: 114.9241 - mae: 114.9241"
          ]
        },
        {
          "output_type": "stream",
          "name": "stderr",
          "text": [
            "WARNING:absl:Found untraced functions such as _update_step_xla while saving (showing 1 of 1). These functions will not be directly callable after loading.\n"
          ]
        },
        {
          "output_type": "stream",
          "name": "stdout",
          "text": [
            "\b\b\b\b\b\b\b\b\b\b\b\b\b\b\b\b\b\b\b\b\b\b\b\b\b\b\b\b\b\b\b\b\b\b\b\b\b\b\b\b\b\b\b\b\b\b\b\b\b\b\b\b\b\b\b\b\b\b\b\b\b\b\b\b\b\b\b\b\b\b\b\b\b\b\b\b\b\b\b\b\b\r18/18 [==============================] - 1s 37ms/step - loss: 111.4743 - mae: 111.4743 - val_loss: 592.5594 - val_mae: 592.5594\n",
            "Epoch 42/100\n",
            "18/18 [==============================] - 0s 4ms/step - loss: 113.9535 - mae: 113.9535 - val_loss: 643.8267 - val_mae: 643.8267\n",
            "Epoch 43/100\n",
            "18/18 [==============================] - 0s 5ms/step - loss: 115.3456 - mae: 115.3456 - val_loss: 672.7731 - val_mae: 672.7731\n",
            "Epoch 44/100\n",
            "18/18 [==============================] - 0s 5ms/step - loss: 115.4234 - mae: 115.4234 - val_loss: 593.2399 - val_mae: 593.2399\n",
            "Epoch 45/100\n",
            " 1/18 [>.............................] - ETA: 0s - loss: 84.4974 - mae: 84.4974"
          ]
        },
        {
          "output_type": "stream",
          "name": "stderr",
          "text": [
            "WARNING:absl:Found untraced functions such as _update_step_xla while saving (showing 1 of 1). These functions will not be directly callable after loading.\n"
          ]
        },
        {
          "output_type": "stream",
          "name": "stdout",
          "text": [
            "\b\b\b\b\b\b\b\b\b\b\b\b\b\b\b\b\b\b\b\b\b\b\b\b\b\b\b\b\b\b\b\b\b\b\b\b\b\b\b\b\b\b\b\b\b\b\b\b\b\b\b\b\b\b\b\b\b\b\b\b\b\b\b\b\b\b\b\b\b\b\b\b\b\b\b\b\b\b\b\r18/18 [==============================] - 0s 28ms/step - loss: 109.0574 - mae: 109.0574 - val_loss: 591.1611 - val_mae: 591.1611\n",
            "Epoch 46/100\n",
            "18/18 [==============================] - 0s 5ms/step - loss: 111.1022 - mae: 111.1022 - val_loss: 597.9930 - val_mae: 597.9930\n",
            "Epoch 47/100\n",
            "18/18 [==============================] - 0s 6ms/step - loss: 111.3428 - mae: 111.3428 - val_loss: 632.3877 - val_mae: 632.3877\n",
            "Epoch 48/100\n",
            "18/18 [==============================] - 0s 5ms/step - loss: 109.1025 - mae: 109.1025 - val_loss: 601.8381 - val_mae: 601.8381\n",
            "Epoch 49/100\n",
            "18/18 [==============================] - 0s 5ms/step - loss: 113.9847 - mae: 113.9847 - val_loss: 594.3013 - val_mae: 594.3013\n",
            "Epoch 50/100\n",
            "18/18 [==============================] - 0s 5ms/step - loss: 112.7940 - mae: 112.7940 - val_loss: 647.5001 - val_mae: 647.5001\n",
            "Epoch 51/100\n",
            "18/18 [==============================] - 0s 5ms/step - loss: 113.1280 - mae: 113.1280 - val_loss: 644.0941 - val_mae: 644.0941\n",
            "Epoch 52/100\n",
            " 1/18 [>.............................] - ETA: 0s - loss: 115.6605 - mae: 115.6605"
          ]
        },
        {
          "output_type": "stream",
          "name": "stderr",
          "text": [
            "WARNING:absl:Found untraced functions such as _update_step_xla while saving (showing 1 of 1). These functions will not be directly callable after loading.\n"
          ]
        },
        {
          "output_type": "stream",
          "name": "stdout",
          "text": [
            "\b\b\b\b\b\b\b\b\b\b\b\b\b\b\b\b\b\b\b\b\b\b\b\b\b\b\b\b\b\b\b\b\b\b\b\b\b\b\b\b\b\b\b\b\b\b\b\b\b\b\b\b\b\b\b\b\b\b\b\b\b\b\b\b\b\b\b\b\b\b\b\b\b\b\b\b\b\b\b\b\b\r18/18 [==============================] - 0s 27ms/step - loss: 115.8994 - mae: 115.8994 - val_loss: 588.3472 - val_mae: 588.3472\n",
            "Epoch 53/100\n",
            "18/18 [==============================] - 0s 5ms/step - loss: 110.2077 - mae: 110.2077 - val_loss: 669.1886 - val_mae: 669.1886\n",
            "Epoch 54/100\n",
            " 1/18 [>.............................] - ETA: 0s - loss: 108.2614 - mae: 108.2614"
          ]
        },
        {
          "output_type": "stream",
          "name": "stderr",
          "text": [
            "WARNING:absl:Found untraced functions such as _update_step_xla while saving (showing 1 of 1). These functions will not be directly callable after loading.\n"
          ]
        },
        {
          "output_type": "stream",
          "name": "stdout",
          "text": [
            "\b\b\b\b\b\b\b\b\b\b\b\b\b\b\b\b\b\b\b\b\b\b\b\b\b\b\b\b\b\b\b\b\b\b\b\b\b\b\b\b\b\b\b\b\b\b\b\b\b\b\b\b\b\b\b\b\b\b\b\b\b\b\b\b\b\b\b\b\b\b\b\b\b\b\b\b\b\b\b\b\b\r18/18 [==============================] - 0s 29ms/step - loss: 111.8901 - mae: 111.8901 - val_loss: 585.0010 - val_mae: 585.0010\n",
            "Epoch 55/100\n",
            "18/18 [==============================] - 0s 5ms/step - loss: 108.8422 - mae: 108.8422 - val_loss: 598.5853 - val_mae: 598.5853\n",
            "Epoch 56/100\n",
            "18/18 [==============================] - 0s 5ms/step - loss: 108.0461 - mae: 108.0461 - val_loss: 800.9860 - val_mae: 800.9860\n",
            "Epoch 57/100\n",
            "18/18 [==============================] - 0s 5ms/step - loss: 115.0157 - mae: 115.0157 - val_loss: 596.4530 - val_mae: 596.4530\n",
            "Epoch 58/100\n",
            "18/18 [==============================] - 0s 4ms/step - loss: 107.8562 - mae: 107.8562 - val_loss: 591.2543 - val_mae: 591.2543\n",
            "Epoch 59/100\n",
            " 1/18 [>.............................] - ETA: 0s - loss: 73.9858 - mae: 73.9858"
          ]
        },
        {
          "output_type": "stream",
          "name": "stderr",
          "text": [
            "WARNING:absl:Found untraced functions such as _update_step_xla while saving (showing 1 of 1). These functions will not be directly callable after loading.\n"
          ]
        },
        {
          "output_type": "stream",
          "name": "stdout",
          "text": [
            "\b\b\b\b\b\b\b\b\b\b\b\b\b\b\b\b\b\b\b\b\b\b\b\b\b\b\b\b\b\b\b\b\b\b\b\b\b\b\b\b\b\b\b\b\b\b\b\b\b\b\b\b\b\b\b\b\b\b\b\b\b\b\b\b\b\b\b\b\b\b\b\b\b\b\b\b\b\b\b\r18/18 [==============================] - 0s 26ms/step - loss: 106.7239 - mae: 106.7239 - val_loss: 578.4306 - val_mae: 578.4306\n",
            "Epoch 60/100\n",
            "18/18 [==============================] - 0s 6ms/step - loss: 108.3315 - mae: 108.3315 - val_loss: 579.7964 - val_mae: 579.7964\n",
            "Epoch 61/100\n",
            " 1/18 [>.............................] - ETA: 0s - loss: 125.1953 - mae: 125.1953"
          ]
        },
        {
          "output_type": "stream",
          "name": "stderr",
          "text": [
            "WARNING:absl:Found untraced functions such as _update_step_xla while saving (showing 1 of 1). These functions will not be directly callable after loading.\n"
          ]
        },
        {
          "output_type": "stream",
          "name": "stdout",
          "text": [
            "\b\b\b\b\b\b\b\b\b\b\b\b\b\b\b\b\b\b\b\b\b\b\b\b\b\b\b\b\b\b\b\b\b\b\b\b\b\b\b\b\b\b\b\b\b\b\b\b\b\b\b\b\b\b\b\b\b\b\b\b\b\b\b\b\b\b\b\b\b\b\b\b\b\b\b\b\b\b\b\b\b\r18/18 [==============================] - 0s 29ms/step - loss: 110.0530 - mae: 110.0530 - val_loss: 577.2930 - val_mae: 577.2930\n",
            "Epoch 62/100\n",
            "18/18 [==============================] - 0s 6ms/step - loss: 106.1364 - mae: 106.1364 - val_loss: 620.5482 - val_mae: 620.5482\n",
            "Epoch 63/100\n",
            " 1/18 [>.............................] - ETA: 0s - loss: 102.4475 - mae: 102.4475"
          ]
        },
        {
          "output_type": "stream",
          "name": "stderr",
          "text": [
            "WARNING:absl:Found untraced functions such as _update_step_xla while saving (showing 1 of 1). These functions will not be directly callable after loading.\n"
          ]
        },
        {
          "output_type": "stream",
          "name": "stdout",
          "text": [
            "\b\b\b\b\b\b\b\b\b\b\b\b\b\b\b\b\b\b\b\b\b\b\b\b\b\b\b\b\b\b\b\b\b\b\b\b\b\b\b\b\b\b\b\b\b\b\b\b\b\b\b\b\b\b\b\b\b\b\b\b\b\b\b\b\b\b\b\b\b\b\b\b\b\b\b\b\b\b\b\b\b\r18/18 [==============================] - 0s 28ms/step - loss: 107.1897 - mae: 107.1897 - val_loss: 576.4236 - val_mae: 576.4236\n",
            "Epoch 64/100\n",
            "18/18 [==============================] - 0s 5ms/step - loss: 106.3215 - mae: 106.3215 - val_loss: 604.1431 - val_mae: 604.1431\n",
            "Epoch 65/100\n",
            " 1/18 [>.............................] - ETA: 0s - loss: 130.7076 - mae: 130.7076"
          ]
        },
        {
          "output_type": "stream",
          "name": "stderr",
          "text": [
            "WARNING:absl:Found untraced functions such as _update_step_xla while saving (showing 1 of 1). These functions will not be directly callable after loading.\n"
          ]
        },
        {
          "output_type": "stream",
          "name": "stdout",
          "text": [
            "\b\b\b\b\b\b\b\b\b\b\b\b\b\b\b\b\b\b\b\b\b\b\b\b\b\b\b\b\b\b\b\b\b\b\b\b\b\b\b\b\b\b\b\b\b\b\b\b\b\b\b\b\b\b\b\b\b\b\b\b\b\b\b\b\b\b\b\b\b\b\b\b\b\b\b\b\b\b\b\b\b\r18/18 [==============================] - 0s 28ms/step - loss: 108.5215 - mae: 108.5215 - val_loss: 575.0364 - val_mae: 575.0364\n",
            "Epoch 66/100\n",
            "18/18 [==============================] - 0s 5ms/step - loss: 106.3277 - mae: 106.3277 - val_loss: 577.1828 - val_mae: 577.1828\n",
            "Epoch 67/100\n",
            "18/18 [==============================] - 0s 5ms/step - loss: 107.0146 - mae: 107.0146 - val_loss: 694.1299 - val_mae: 694.1299\n",
            "Epoch 68/100\n",
            "18/18 [==============================] - 0s 5ms/step - loss: 106.9464 - mae: 106.9464 - val_loss: 579.9231 - val_mae: 579.9231\n",
            "Epoch 69/100\n",
            "18/18 [==============================] - 0s 4ms/step - loss: 108.0016 - mae: 108.0016 - val_loss: 653.8068 - val_mae: 653.8068\n",
            "Epoch 70/100\n",
            "18/18 [==============================] - 0s 5ms/step - loss: 121.4594 - mae: 121.4594 - val_loss: 637.0889 - val_mae: 637.0889\n",
            "Epoch 71/100\n",
            " 1/18 [>.............................] - ETA: 0s - loss: 87.6572 - mae: 87.6572"
          ]
        },
        {
          "output_type": "stream",
          "name": "stderr",
          "text": [
            "WARNING:absl:Found untraced functions such as _update_step_xla while saving (showing 1 of 1). These functions will not be directly callable after loading.\n"
          ]
        },
        {
          "output_type": "stream",
          "name": "stdout",
          "text": [
            "\b\b\b\b\b\b\b\b\b\b\b\b\b\b\b\b\b\b\b\b\b\b\b\b\b\b\b\b\b\b\b\b\b\b\b\b\b\b\b\b\b\b\b\b\b\b\b\b\b\b\b\b\b\b\b\b\b\b\b\b\b\b\b\b\b\b\b\b\b\b\b\b\b\b\b\b\b\b\b\r18/18 [==============================] - 0s 28ms/step - loss: 108.2303 - mae: 108.2303 - val_loss: 574.4915 - val_mae: 574.4915\n",
            "Epoch 72/100\n",
            "18/18 [==============================] - 0s 5ms/step - loss: 114.6148 - mae: 114.6148 - val_loss: 621.5422 - val_mae: 621.5422\n",
            "Epoch 73/100\n",
            "18/18 [==============================] - 0s 4ms/step - loss: 110.0112 - mae: 110.0112 - val_loss: 574.8829 - val_mae: 574.8829\n",
            "Epoch 74/100\n",
            "18/18 [==============================] - 0s 5ms/step - loss: 108.3440 - mae: 108.3440 - val_loss: 577.3178 - val_mae: 577.3178\n",
            "Epoch 75/100\n",
            "18/18 [==============================] - 0s 5ms/step - loss: 110.5387 - mae: 110.5387 - val_loss: 577.6358 - val_mae: 577.6358\n",
            "Epoch 76/100\n",
            " 1/18 [>.............................] - ETA: 0s - loss: 74.1703 - mae: 74.1703"
          ]
        },
        {
          "output_type": "stream",
          "name": "stderr",
          "text": [
            "WARNING:absl:Found untraced functions such as _update_step_xla while saving (showing 1 of 1). These functions will not be directly callable after loading.\n"
          ]
        },
        {
          "output_type": "stream",
          "name": "stdout",
          "text": [
            "\b\b\b\b\b\b\b\b\b\b\b\b\b\b\b\b\b\b\b\b\b\b\b\b\b\b\b\b\b\b\b\b\b\b\b\b\b\b\b\b\b\b\b\b\b\b\b\b\b\b\b\b\b\b\b\b\b\b\b\b\b\b\b\b\b\b\b\b\b\b\b\b\b\b\b\b\b\b\b\r18/18 [==============================] - 0s 28ms/step - loss: 110.0442 - mae: 110.0442 - val_loss: 571.2551 - val_mae: 571.2551\n",
            "Epoch 77/100\n",
            "18/18 [==============================] - 0s 6ms/step - loss: 106.6579 - mae: 106.6579 - val_loss: 574.7733 - val_mae: 574.7733\n",
            "Epoch 78/100\n",
            "18/18 [==============================] - 0s 5ms/step - loss: 110.9289 - mae: 110.9289 - val_loss: 612.0341 - val_mae: 612.0341\n",
            "Epoch 79/100\n",
            "18/18 [==============================] - 0s 4ms/step - loss: 109.0721 - mae: 109.0721 - val_loss: 588.9825 - val_mae: 588.9825\n",
            "Epoch 80/100\n",
            "18/18 [==============================] - 0s 5ms/step - loss: 108.8510 - mae: 108.8510 - val_loss: 600.4487 - val_mae: 600.4487\n",
            "Epoch 81/100\n",
            " 1/18 [>.............................] - ETA: 0s - loss: 98.3923 - mae: 98.3923"
          ]
        },
        {
          "output_type": "stream",
          "name": "stderr",
          "text": [
            "WARNING:absl:Found untraced functions such as _update_step_xla while saving (showing 1 of 1). These functions will not be directly callable after loading.\n"
          ]
        },
        {
          "output_type": "stream",
          "name": "stdout",
          "text": [
            "\b\b\b\b\b\b\b\b\b\b\b\b\b\b\b\b\b\b\b\b\b\b\b\b\b\b\b\b\b\b\b\b\b\b\b\b\b\b\b\b\b\b\b\b\b\b\b\b\b\b\b\b\b\b\b\b\b\b\b\b\b\b\b\b\b\b\b\b\b\b\b\b\b\b\b\b\b\b\b\r18/18 [==============================] - 0s 28ms/step - loss: 107.6081 - mae: 107.6081 - val_loss: 570.7635 - val_mae: 570.7635\n",
            "Epoch 82/100\n",
            "18/18 [==============================] - 0s 6ms/step - loss: 116.4090 - mae: 116.4090 - val_loss: 594.3345 - val_mae: 594.3345\n",
            "Epoch 83/100\n",
            "18/18 [==============================] - 0s 6ms/step - loss: 117.2835 - mae: 117.2835 - val_loss: 736.8062 - val_mae: 736.8062\n",
            "Epoch 84/100\n",
            "18/18 [==============================] - 0s 5ms/step - loss: 117.5987 - mae: 117.5987 - val_loss: 622.3698 - val_mae: 622.3698\n",
            "Epoch 85/100\n",
            "18/18 [==============================] - 0s 5ms/step - loss: 109.2417 - mae: 109.2417 - val_loss: 585.6041 - val_mae: 585.6041\n",
            "Epoch 86/100\n",
            "18/18 [==============================] - 0s 5ms/step - loss: 107.9921 - mae: 107.9921 - val_loss: 578.2448 - val_mae: 578.2448\n",
            "Epoch 87/100\n",
            "18/18 [==============================] - 0s 5ms/step - loss: 105.5072 - mae: 105.5072 - val_loss: 622.8661 - val_mae: 622.8661\n",
            "Epoch 88/100\n",
            " 1/18 [>.............................] - ETA: 0s - loss: 138.3014 - mae: 138.3014"
          ]
        },
        {
          "output_type": "stream",
          "name": "stderr",
          "text": [
            "WARNING:absl:Found untraced functions such as _update_step_xla while saving (showing 1 of 1). These functions will not be directly callable after loading.\n"
          ]
        },
        {
          "output_type": "stream",
          "name": "stdout",
          "text": [
            "\b\b\b\b\b\b\b\b\b\b\b\b\b\b\b\b\b\b\b\b\b\b\b\b\b\b\b\b\b\b\b\b\b\b\b\b\b\b\b\b\b\b\b\b\b\b\b\b\b\b\b\b\b\b\b\b\b\b\b\b\b\b\b\b\b\b\b\b\b\b\b\b\b\b\b\b\b\b\b\b\b\r18/18 [==============================] - 0s 27ms/step - loss: 109.9830 - mae: 109.9830 - val_loss: 570.4489 - val_mae: 570.4489\n",
            "Epoch 89/100\n",
            "18/18 [==============================] - 0s 6ms/step - loss: 107.0751 - mae: 107.0751 - val_loss: 617.8612 - val_mae: 617.8612\n",
            "Epoch 90/100\n",
            "18/18 [==============================] - 0s 6ms/step - loss: 116.2207 - mae: 116.2207 - val_loss: 725.1893 - val_mae: 725.1893\n",
            "Epoch 91/100\n",
            "18/18 [==============================] - 0s 5ms/step - loss: 120.6478 - mae: 120.6478 - val_loss: 645.3784 - val_mae: 645.3784\n",
            "Epoch 92/100\n",
            "18/18 [==============================] - 0s 4ms/step - loss: 107.6590 - mae: 107.6590 - val_loss: 597.8889 - val_mae: 597.8889\n",
            "Epoch 93/100\n",
            "18/18 [==============================] - 0s 5ms/step - loss: 112.3442 - mae: 112.3442 - val_loss: 574.1438 - val_mae: 574.1438\n",
            "Epoch 94/100\n",
            "18/18 [==============================] - 0s 4ms/step - loss: 115.7688 - mae: 115.7688 - val_loss: 597.0297 - val_mae: 597.0297\n",
            "Epoch 95/100\n",
            "18/18 [==============================] - 0s 4ms/step - loss: 105.3060 - mae: 105.3060 - val_loss: 579.0790 - val_mae: 579.0790\n",
            "Epoch 96/100\n",
            "18/18 [==============================] - 0s 5ms/step - loss: 105.9146 - mae: 105.9146 - val_loss: 575.6541 - val_mae: 575.6541\n",
            "Epoch 97/100\n",
            "18/18 [==============================] - 0s 6ms/step - loss: 105.3237 - mae: 105.3237 - val_loss: 572.3279 - val_mae: 572.3279\n",
            "Epoch 98/100\n",
            "15/18 [========================>.....] - ETA: 0s - loss: 107.8515 - mae: 107.8515"
          ]
        },
        {
          "output_type": "stream",
          "name": "stderr",
          "text": [
            "WARNING:absl:Found untraced functions such as _update_step_xla while saving (showing 1 of 1). These functions will not be directly callable after loading.\n"
          ]
        },
        {
          "output_type": "stream",
          "name": "stdout",
          "text": [
            "\b\b\b\b\b\b\b\b\b\b\b\b\b\b\b\b\b\b\b\b\b\b\b\b\b\b\b\b\b\b\b\b\b\b\b\b\b\b\b\b\b\b\b\b\b\b\b\b\b\b\b\b\b\b\b\b\b\b\b\b\b\b\b\b\b\b\b\b\b\b\b\b\b\b\b\b\b\b\b\b\b\r18/18 [==============================] - 1s 40ms/step - loss: 106.0463 - mae: 106.0463 - val_loss: 570.2914 - val_mae: 570.2914\n",
            "Epoch 99/100\n",
            "18/18 [==============================] - 0s 7ms/step - loss: 107.6925 - mae: 107.6925 - val_loss: 570.9569 - val_mae: 570.9569\n",
            "Epoch 100/100\n",
            "18/18 [==============================] - 0s 7ms/step - loss: 111.6356 - mae: 111.6356 - val_loss: 599.1682 - val_mae: 599.1682\n"
          ]
        },
        {
          "output_type": "execute_result",
          "data": {
            "text/plain": [
              "<keras.callbacks.History at 0x7f59c1b98a30>"
            ]
          },
          "metadata": {},
          "execution_count": 35
        }
      ]
    },
    {
      "cell_type": "code",
      "source": [
        "# Evaluate model on test data\n",
        "\n",
        "model_1.evaluate(test_windows, test_labels)"
      ],
      "metadata": {
        "colab": {
          "base_uri": "https://localhost:8080/"
        },
        "id": "QgtfWRNjhFVP",
        "outputId": "6f55c217-1011-472c-d28e-0efee353bd6c"
      },
      "execution_count": 36,
      "outputs": [
        {
          "output_type": "stream",
          "name": "stdout",
          "text": [
            "18/18 [==============================] - 0s 3ms/step - loss: 599.1682 - mae: 599.1682\n"
          ]
        },
        {
          "output_type": "execute_result",
          "data": {
            "text/plain": [
              "[599.168212890625, 599.168212890625]"
            ]
          },
          "metadata": {},
          "execution_count": 36
        }
      ]
    },
    {
      "cell_type": "code",
      "source": [
        "# Load in saved best performing model_1 and evaluate on test data\n",
        "\n",
        "model_1 = tf.keras.models.load_model(\"model_experiments/model_1_dense\")\n",
        "model_1.evaluate(test_windows, test_labels)"
      ],
      "metadata": {
        "colab": {
          "base_uri": "https://localhost:8080/"
        },
        "id": "SNnOhyzJhTSx",
        "outputId": "6721dce7-e94e-473a-fb79-4e1d73a37957"
      },
      "execution_count": 37,
      "outputs": [
        {
          "output_type": "stream",
          "name": "stdout",
          "text": [
            "18/18 [==============================] - 0s 5ms/step - loss: 570.2916 - mae: 570.2916\n"
          ]
        },
        {
          "output_type": "execute_result",
          "data": {
            "text/plain": [
              "[570.2916259765625, 570.2916259765625]"
            ]
          },
          "metadata": {},
          "execution_count": 37
        }
      ]
    },
    {
      "cell_type": "markdown",
      "source": [
        "### Making forecast with model (on the test dataset)"
      ],
      "metadata": {
        "id": "maL1V0jkh5xC"
      }
    },
    {
      "cell_type": "code",
      "source": [
        "def make_preds(model, input_data):\n",
        "\n",
        "  forecast = model.predict(input_data)\n",
        "\n",
        "  return tf.squeeze(forecast)"
      ],
      "metadata": {
        "id": "mGdYxNUzhwFd"
      },
      "execution_count": 38,
      "outputs": []
    },
    {
      "cell_type": "code",
      "source": [
        "# Make prediction using model_1 on the test dataset and view the results\n",
        "\n",
        "model_1_preds = make_preds(model_1, test_windows)\n",
        "len(model_1_preds), model_1_preds[:10]"
      ],
      "metadata": {
        "colab": {
          "base_uri": "https://localhost:8080/"
        },
        "id": "hG1Iab_fiVE9",
        "outputId": "1edb58c6-d893-4742-ed7c-690de85fc172"
      },
      "execution_count": 39,
      "outputs": [
        {
          "output_type": "stream",
          "name": "stdout",
          "text": [
            "18/18 [==============================] - 0s 3ms/step\n"
          ]
        },
        {
          "output_type": "execute_result",
          "data": {
            "text/plain": [
              "(556, <tf.Tensor: shape=(10,), dtype=float32, numpy=\n",
              " array([8830.453, 8751.606, 8999.416, 8763.135, 8722.358, 8688.126,\n",
              "        8682.146, 8494.383, 8430.915, 8507.167], dtype=float32)>)"
            ]
          },
          "metadata": {},
          "execution_count": 39
        }
      ]
    },
    {
      "cell_type": "code",
      "source": [
        "# Evaluate preds\n",
        "\n",
        "model_1_results = evaluate_preds(y_true=tf.squeeze(test_labels),\n",
        "                                 y_pred=model_1_preds)\n",
        "model_1_results"
      ],
      "metadata": {
        "colab": {
          "base_uri": "https://localhost:8080/"
        },
        "id": "ehIoQukziwD-",
        "outputId": "fee5509d-0478-4ffb-ebd7-eb0bd28da13a"
      },
      "execution_count": 40,
      "outputs": [
        {
          "output_type": "execute_result",
          "data": {
            "text/plain": [
              "{'mae': 570.2916,\n",
              " 'mse': 1170257.0,\n",
              " 'rmse': 1081.7842,\n",
              " 'mape': 2.557221,\n",
              " 'mase': 1.0018444}"
            ]
          },
          "metadata": {},
          "execution_count": 40
        }
      ]
    },
    {
      "cell_type": "code",
      "source": [
        "naive_results"
      ],
      "metadata": {
        "colab": {
          "base_uri": "https://localhost:8080/"
        },
        "id": "rsuqzwowjKD_",
        "outputId": "4a969c38-c571-41de-cc36-0b811290f704"
      },
      "execution_count": 41,
      "outputs": [
        {
          "output_type": "execute_result",
          "data": {
            "text/plain": [
              "{'mae': 567.9802,\n",
              " 'mse': 1147547.0,\n",
              " 'rmse': 1071.2362,\n",
              " 'mape': 2.516525,\n",
              " 'mase': 0.99957}"
            ]
          },
          "metadata": {},
          "execution_count": 41
        }
      ]
    },
    {
      "cell_type": "code",
      "source": [
        "# Visualizing the result\n",
        "\n",
        "offset = 300\n",
        "plt.figure(figsize=(10, 7))\n",
        "plot_time_series(timesteps=X_test[-len(test_windows):], values=test_labels[:,0], start=offset, label=\"Test_data\")\n",
        "plot_time_series(timesteps=X_test[-len(test_windows):], values=model_1_preds, start=offset, format=\"-\", label=\"model_1_preds\")"
      ],
      "metadata": {
        "colab": {
          "base_uri": "https://localhost:8080/",
          "height": 442
        },
        "id": "TEmNaVyWjQXt",
        "outputId": "a55eea61-f6cd-46cd-85fa-3ead1f567df0"
      },
      "execution_count": 42,
      "outputs": [
        {
          "output_type": "display_data",
          "data": {
            "text/plain": [
              "<Figure size 720x504 with 1 Axes>"
            ],
            "image/png": "[encoded data removed]"
          },
          "metadata": {
            "needs_background": "light"
          }
        }
      ]
    },
    {
      "cell_type": "markdown",
      "source": [
        "### Model 2: Dense (window = 30, horizon = 1)"
      ],
      "metadata": {
        "id": "f4ZmxJlgd_up"
      }
    },
    {
      "cell_type": "code",
      "source": [
        "HORIZON = 1\n",
        "WINDOW_SIZE = 30"
      ],
      "metadata": {
        "id": "0fAUw1uXkPsw"
      },
      "execution_count": 43,
      "outputs": []
    },
    {
      "cell_type": "code",
      "source": [
        "# Make windowed data with appropriate horizon nad window size\n",
        "\n",
        "full_windows, full_labels = make_windows(prices, window_size=WINDOW_SIZE, horizon=HORIZON)\n",
        "len(full_windows), len(full_labels)"
      ],
      "metadata": {
        "colab": {
          "base_uri": "https://localhost:8080/"
        },
        "id": "gdIKLDcIeOyw",
        "outputId": "0fbea7a9-e373-4bfe-d461-c2e9c9896232"
      },
      "execution_count": 44,
      "outputs": [
        {
          "output_type": "execute_result",
          "data": {
            "text/plain": [
              "(2757, 2757)"
            ]
          },
          "metadata": {},
          "execution_count": 44
        }
      ]
    },
    {
      "cell_type": "code",
      "source": [
        "# Make train and test windows\n",
        "\n",
        "train_windows, test_windows, train_labels, test_labels = make_train_test_split(windows=full_windows,\n",
        "                                                                               labels=full_labels)\n",
        "len(train_windows), len(test_windows), len(train_labels), len(test_labels)"
      ],
      "metadata": {
        "colab": {
          "base_uri": "https://localhost:8080/"
        },
        "id": "yjUaFD4KeshH",
        "outputId": "b7b49eaf-76e2-4927-f510-6e60fa413286"
      },
      "execution_count": 45,
      "outputs": [
        {
          "output_type": "execute_result",
          "data": {
            "text/plain": [
              "(2205, 552, 2205, 552)"
            ]
          },
          "metadata": {},
          "execution_count": 45
        }
      ]
    },
    {
      "cell_type": "code",
      "source": [
        "tf.random.set_seed(42)\n",
        "\n",
        "# Create model\n",
        "model_2 = tf.keras.Sequential([\n",
        "    layers.Dense(128, activation=\"relu\"),\n",
        "    layers.Dense(HORIZON)\n",
        "], name=\"model_2_dense\")\n",
        "\n",
        "# Compile model\n",
        "model_2.compile(loss=\"mae\",\n",
        "                optimizer=tf.keras.optimizers.Adam())\n",
        "\n",
        "# Fit the model\n",
        "model_2.fit(train_windows,\n",
        "            train_labels,\n",
        "            epochs=100,\n",
        "            batch_size=128,\n",
        "            verbose=0,\n",
        "            validation_data=(test_windows, test_labels),\n",
        "            callbacks=[create_model_checkpoint(model_name=model_2.name)])"
      ],
      "metadata": {
        "colab": {
          "base_uri": "https://localhost:8080/"
        },
        "id": "c_AyIFtDfyfn",
        "outputId": "3be4e0e2-0a58-42b7-bb9f-83d73d76db75"
      },
      "execution_count": 46,
      "outputs": [
        {
          "output_type": "stream",
          "name": "stderr",
          "text": [
            "WARNING:absl:Found untraced functions such as _update_step_xla while saving (showing 1 of 1). These functions will not be directly callable after loading.\n",
            "WARNING:absl:Found untraced functions such as _update_step_xla while saving (showing 1 of 1). These functions will not be directly callable after loading.\n",
            "WARNING:absl:Found untraced functions such as _update_step_xla while saving (showing 1 of 1). These functions will not be directly callable after loading.\n",
            "WARNING:absl:Found untraced functions such as _update_step_xla while saving (showing 1 of 1). These functions will not be directly callable after loading.\n",
            "WARNING:absl:Found untraced functions such as _update_step_xla while saving (showing 1 of 1). These functions will not be directly callable after loading.\n",
            "WARNING:absl:Found untraced functions such as _update_step_xla while saving (showing 1 of 1). These functions will not be directly callable after loading.\n",
            "WARNING:absl:Found untraced functions such as _update_step_xla while saving (showing 1 of 1). These functions will not be directly callable after loading.\n",
            "WARNING:absl:Found untraced functions such as _update_step_xla while saving (showing 1 of 1). These functions will not be directly callable after loading.\n",
            "WARNING:absl:Found untraced functions such as _update_step_xla while saving (showing 1 of 1). These functions will not be directly callable after loading.\n",
            "WARNING:absl:Found untraced functions such as _update_step_xla while saving (showing 1 of 1). These functions will not be directly callable after loading.\n",
            "WARNING:absl:Found untraced functions such as _update_step_xla while saving (showing 1 of 1). These functions will not be directly callable after loading.\n",
            "WARNING:absl:Found untraced functions such as _update_step_xla while saving (showing 1 of 1). These functions will not be directly callable after loading.\n",
            "WARNING:absl:Found untraced functions such as _update_step_xla while saving (showing 1 of 1). These functions will not be directly callable after loading.\n",
            "WARNING:absl:Found untraced functions such as _update_step_xla while saving (showing 1 of 1). These functions will not be directly callable after loading.\n",
            "WARNING:absl:Found untraced functions such as _update_step_xla while saving (showing 1 of 1). These functions will not be directly callable after loading.\n",
            "WARNING:absl:Found untraced functions such as _update_step_xla while saving (showing 1 of 1). These functions will not be directly callable after loading.\n",
            "WARNING:absl:Found untraced functions such as _update_step_xla while saving (showing 1 of 1). These functions will not be directly callable after loading.\n",
            "WARNING:absl:Found untraced functions such as _update_step_xla while saving (showing 1 of 1). These functions will not be directly callable after loading.\n",
            "WARNING:absl:Found untraced functions such as _update_step_xla while saving (showing 1 of 1). These functions will not be directly callable after loading.\n",
            "WARNING:absl:Found untraced functions such as _update_step_xla while saving (showing 1 of 1). These functions will not be directly callable after loading.\n",
            "WARNING:absl:Found untraced functions such as _update_step_xla while saving (showing 1 of 1). These functions will not be directly callable after loading.\n",
            "WARNING:absl:Found untraced functions such as _update_step_xla while saving (showing 1 of 1). These functions will not be directly callable after loading.\n",
            "WARNING:absl:Found untraced functions such as _update_step_xla while saving (showing 1 of 1). These functions will not be directly callable after loading.\n",
            "WARNING:absl:Found untraced functions such as _update_step_xla while saving (showing 1 of 1). These functions will not be directly callable after loading.\n",
            "WARNING:absl:Found untraced functions such as _update_step_xla while saving (showing 1 of 1). These functions will not be directly callable after loading.\n",
            "WARNING:absl:Found untraced functions such as _update_step_xla while saving (showing 1 of 1). These functions will not be directly callable after loading.\n",
            "WARNING:absl:Found untraced functions such as _update_step_xla while saving (showing 1 of 1). These functions will not be directly callable after loading.\n",
            "WARNING:absl:Found untraced functions such as _update_step_xla while saving (showing 1 of 1). These functions will not be directly callable after loading.\n",
            "WARNING:absl:Found untraced functions such as _update_step_xla while saving (showing 1 of 1). These functions will not be directly callable after loading.\n",
            "WARNING:absl:Found untraced functions such as _update_step_xla while saving (showing 1 of 1). These functions will not be directly callable after loading.\n",
            "WARNING:absl:Found untraced functions such as _update_step_xla while saving (showing 1 of 1). These functions will not be directly callable after loading.\n"
          ]
        },
        {
          "output_type": "execute_result",
          "data": {
            "text/plain": [
              "<keras.callbacks.History at 0x7f594c0d1c10>"
            ]
          },
          "metadata": {},
          "execution_count": 46
        }
      ]
    },
    {
      "cell_type": "code",
      "source": [
        "# Evaluate model_2 preds\n",
        "\n",
        "model_2.evaluate(test_windows, test_labels)"
      ],
      "metadata": {
        "colab": {
          "base_uri": "https://localhost:8080/"
        },
        "id": "9LXDjE10kaZ5",
        "outputId": "9e43375c-f45b-4cf6-f1e9-0024e23b1d7d"
      },
      "execution_count": 47,
      "outputs": [
        {
          "output_type": "stream",
          "name": "stdout",
          "text": [
            "18/18 [==============================] - 0s 4ms/step - loss: 632.9131\n"
          ]
        },
        {
          "output_type": "execute_result",
          "data": {
            "text/plain": [
              "632.9131469726562"
            ]
          },
          "metadata": {},
          "execution_count": 47
        }
      ]
    },
    {
      "cell_type": "code",
      "source": [
        "# Load in best performing model\n",
        "\n",
        "model_2 = tf.keras.models.load_model(\"model_experiments/model_2_dense\")\n",
        "model_2.evaluate(test_windows, test_labels)"
      ],
      "metadata": {
        "colab": {
          "base_uri": "https://localhost:8080/"
        },
        "id": "uaFe9xojknOD",
        "outputId": "d87c7644-75e3-49aa-8174-80a13a3abc97"
      },
      "execution_count": 48,
      "outputs": [
        {
          "output_type": "stream",
          "name": "stdout",
          "text": [
            "18/18 [==============================] - 0s 2ms/step - loss: 632.9131\n"
          ]
        },
        {
          "output_type": "execute_result",
          "data": {
            "text/plain": [
              "632.9131469726562"
            ]
          },
          "metadata": {},
          "execution_count": 48
        }
      ]
    },
    {
      "cell_type": "code",
      "source": [
        "# Get forecast predictions\n",
        "\n",
        "model_2_preds = make_preds(model_2,\n",
        "                           input_data=test_windows)\n",
        "model_2_preds[-10:]"
      ],
      "metadata": {
        "colab": {
          "base_uri": "https://localhost:8080/"
        },
        "id": "dnQr8F4tlBDD",
        "outputId": "10334d60-6210-4b47-bc66-5a9357701a12"
      },
      "execution_count": 49,
      "outputs": [
        {
          "output_type": "stream",
          "name": "stdout",
          "text": [
            "18/18 [==============================] - 0s 2ms/step\n"
          ]
        },
        {
          "output_type": "execute_result",
          "data": {
            "text/plain": [
              "<tf.Tensor: shape=(10,), dtype=float32, numpy=\n",
              "array([57859.71 , 58544.805, 59040.6  , 57867.973, 57023.598, 53645.57 ,\n",
              "       51300.1  , 49968.105, 49605.44 , 45666.445], dtype=float32)>"
            ]
          },
          "metadata": {},
          "execution_count": 49
        }
      ]
    },
    {
      "cell_type": "code",
      "source": [
        "# Evaluate results for model_2 prediction\n",
        "\n",
        "model_2_results = evaluate_preds(y_true=tf.squeeze(test_labels),\n",
        "                                 y_pred=model_2_preds)"
      ],
      "metadata": {
        "id": "xxZM5Vk8lr9C"
      },
      "execution_count": 50,
      "outputs": []
    },
    {
      "cell_type": "code",
      "source": [
        "model_2_results"
      ],
      "metadata": {
        "colab": {
          "base_uri": "https://localhost:8080/"
        },
        "id": "lKDHNuoqmH9g",
        "outputId": "83740fd9-e6ff-4e66-d356-ae091fe66760"
      },
      "execution_count": 51,
      "outputs": [
        {
          "output_type": "execute_result",
          "data": {
            "text/plain": [
              "{'mae': 632.91315,\n",
              " 'mse': 1383091.1,\n",
              " 'rmse': 1176.049,\n",
              " 'mape': 2.9349866,\n",
              " 'mase': 1.1063384}"
            ]
          },
          "metadata": {},
          "execution_count": 51
        }
      ]
    },
    {
      "cell_type": "markdown",
      "source": [
        "### Model 3: Dense (window = 30, horizon = 7)"
      ],
      "metadata": {
        "id": "ctMseeTZdYIi"
      }
    },
    {
      "cell_type": "code",
      "source": [
        "HORIZON = 7\n",
        "WINDOW_SIZE = 30\n",
        "\n",
        "full_windows, full_labels = make_windows(prices, window_size=WINDOW_SIZE, horizon=HORIZON)\n",
        "len(full_windows), len(full_labels)"
      ],
      "metadata": {
        "id": "56t6LzYnmJ2x",
        "colab": {
          "base_uri": "https://localhost:8080/"
        },
        "outputId": "e3628f61-952d-447e-b688-68de36e2f5aa"
      },
      "execution_count": 52,
      "outputs": [
        {
          "output_type": "execute_result",
          "data": {
            "text/plain": [
              "(2751, 2751)"
            ]
          },
          "metadata": {},
          "execution_count": 52
        }
      ]
    },
    {
      "cell_type": "code",
      "source": [
        "train_windows, test_windows, train_labels, test_labels = make_train_test_split(windows=full_windows, labels=full_labels)\n",
        "len(train_windows), len(test_windows), len(train_labels), len(test_labels)"
      ],
      "metadata": {
        "colab": {
          "base_uri": "https://localhost:8080/"
        },
        "id": "NTiPbNBZd7fP",
        "outputId": "57f13e2e-32e7-4f29-b27d-6ec70e35bfcf"
      },
      "execution_count": 53,
      "outputs": [
        {
          "output_type": "execute_result",
          "data": {
            "text/plain": [
              "(2200, 551, 2200, 551)"
            ]
          },
          "metadata": {},
          "execution_count": 53
        }
      ]
    },
    {
      "cell_type": "code",
      "source": [
        "tf.random.set_seed(42)\n",
        "\n",
        "model_3 = tf.keras.Sequential([\n",
        "    layers.Dense(128, activation=\"relu\"),\n",
        "    layers.Dense(HORIZON)\n",
        "], name = \"model_3_dense\")\n",
        "\n",
        "model_3.compile(loss=\"mae\",\n",
        "                optimizer=tf.keras.optimizers.Adam())\n",
        "\n",
        "model_3.fit(train_windows,\n",
        "            train_labels,\n",
        "            batch_size=128,\n",
        "            epochs=100,\n",
        "            verbose=0,\n",
        "            validation_data=(test_windows, test_labels),\n",
        "            callbacks=[create_model_checkpoint(model_name=model_3.name)])"
      ],
      "metadata": {
        "colab": {
          "base_uri": "https://localhost:8080/"
        },
        "id": "rnEDQrZFeWsc",
        "outputId": "49a8dee3-e6d7-4514-8892-1131e1cc4c82"
      },
      "execution_count": 54,
      "outputs": [
        {
          "output_type": "stream",
          "name": "stderr",
          "text": [
            "WARNING:absl:Found untraced functions such as _update_step_xla while saving (showing 1 of 1). These functions will not be directly callable after loading.\n",
            "WARNING:absl:Found untraced functions such as _update_step_xla while saving (showing 1 of 1). These functions will not be directly callable after loading.\n",
            "WARNING:absl:Found untraced functions such as _update_step_xla while saving (showing 1 of 1). These functions will not be directly callable after loading.\n",
            "WARNING:absl:Found untraced functions such as _update_step_xla while saving (showing 1 of 1). These functions will not be directly callable after loading.\n",
            "WARNING:absl:Found untraced functions such as _update_step_xla while saving (showing 1 of 1). These functions will not be directly callable after loading.\n",
            "WARNING:absl:Found untraced functions such as _update_step_xla while saving (showing 1 of 1). These functions will not be directly callable after loading.\n",
            "WARNING:absl:Found untraced functions such as _update_step_xla while saving (showing 1 of 1). These functions will not be directly callable after loading.\n",
            "WARNING:absl:Found untraced functions such as _update_step_xla while saving (showing 1 of 1). These functions will not be directly callable after loading.\n",
            "WARNING:absl:Found untraced functions such as _update_step_xla while saving (showing 1 of 1). These functions will not be directly callable after loading.\n",
            "WARNING:absl:Found untraced functions such as _update_step_xla while saving (showing 1 of 1). These functions will not be directly callable after loading.\n",
            "WARNING:absl:Found untraced functions such as _update_step_xla while saving (showing 1 of 1). These functions will not be directly callable after loading.\n",
            "WARNING:absl:Found untraced functions such as _update_step_xla while saving (showing 1 of 1). These functions will not be directly callable after loading.\n",
            "WARNING:absl:Found untraced functions such as _update_step_xla while saving (showing 1 of 1). These functions will not be directly callable after loading.\n",
            "WARNING:absl:Found untraced functions such as _update_step_xla while saving (showing 1 of 1). These functions will not be directly callable after loading.\n",
            "WARNING:absl:Found untraced functions such as _update_step_xla while saving (showing 1 of 1). These functions will not be directly callable after loading.\n",
            "WARNING:absl:Found untraced functions such as _update_step_xla while saving (showing 1 of 1). These functions will not be directly callable after loading.\n",
            "WARNING:absl:Found untraced functions such as _update_step_xla while saving (showing 1 of 1). These functions will not be directly callable after loading.\n",
            "WARNING:absl:Found untraced functions such as _update_step_xla while saving (showing 1 of 1). These functions will not be directly callable after loading.\n",
            "WARNING:absl:Found untraced functions such as _update_step_xla while saving (showing 1 of 1). These functions will not be directly callable after loading.\n",
            "WARNING:absl:Found untraced functions such as _update_step_xla while saving (showing 1 of 1). These functions will not be directly callable after loading.\n",
            "WARNING:absl:Found untraced functions such as _update_step_xla while saving (showing 1 of 1). These functions will not be directly callable after loading.\n",
            "WARNING:absl:Found untraced functions such as _update_step_xla while saving (showing 1 of 1). These functions will not be directly callable after loading.\n",
            "WARNING:absl:Found untraced functions such as _update_step_xla while saving (showing 1 of 1). These functions will not be directly callable after loading.\n"
          ]
        },
        {
          "output_type": "execute_result",
          "data": {
            "text/plain": [
              "<keras.callbacks.History at 0x7f594c118df0>"
            ]
          },
          "metadata": {},
          "execution_count": 54
        }
      ]
    },
    {
      "cell_type": "code",
      "source": [
        "model_3.evaluate(test_windows, test_labels)"
      ],
      "metadata": {
        "colab": {
          "base_uri": "https://localhost:8080/"
        },
        "id": "NJgBoCyJfYZL",
        "outputId": "1c8d8231-1510-4a96-9ac2-41b9ba167630"
      },
      "execution_count": 55,
      "outputs": [
        {
          "output_type": "stream",
          "name": "stdout",
          "text": [
            "18/18 [==============================] - 0s 3ms/step - loss: 1483.9594\n"
          ]
        },
        {
          "output_type": "execute_result",
          "data": {
            "text/plain": [
              "1483.9593505859375"
            ]
          },
          "metadata": {},
          "execution_count": 55
        }
      ]
    },
    {
      "cell_type": "code",
      "source": [
        "model_3 = tf.keras.models.load_model(\"model_experiments/model_3_dense/\")\n",
        "model_3.evaluate(test_windows, test_labels)"
      ],
      "metadata": {
        "colab": {
          "base_uri": "https://localhost:8080/"
        },
        "id": "rrC8_p1VfjG8",
        "outputId": "ff520673-f9fb-43dc-8e5b-8a3819e73deb"
      },
      "execution_count": 56,
      "outputs": [
        {
          "output_type": "stream",
          "name": "stdout",
          "text": [
            "18/18 [==============================] - 0s 4ms/step - loss: 1232.6414\n"
          ]
        },
        {
          "output_type": "execute_result",
          "data": {
            "text/plain": [
              "1232.641357421875"
            ]
          },
          "metadata": {},
          "execution_count": 56
        }
      ]
    },
    {
      "cell_type": "code",
      "source": [
        "model_3_preds = make_preds(model_3,\n",
        "                           input_data=test_windows)\n",
        "model_3_preds[-5:]"
      ],
      "metadata": {
        "colab": {
          "base_uri": "https://localhost:8080/"
        },
        "id": "6HzRO1yCf2xs",
        "outputId": "8391bbe9-444c-44ad-94a7-8528d57052aa"
      },
      "execution_count": 57,
      "outputs": [
        {
          "output_type": "stream",
          "name": "stdout",
          "text": [
            "18/18 [==============================] - 0s 4ms/step\n"
          ]
        },
        {
          "output_type": "execute_result",
          "data": {
            "text/plain": [
              "<tf.Tensor: shape=(5, 7), dtype=float32, numpy=\n",
              "array([[55445.535, 56642.96 , 55886.996, 56832.96 , 55989.598, 56109.434,\n",
              "        56591.99 ],\n",
              "       [55476.55 , 56619.36 , 57010.266, 56894.383, 57249.816, 56609.754,\n",
              "        57379.34 ],\n",
              "       [58291.93 , 57466.336, 57015.547, 58285.797, 58489.44 , 59446.504,\n",
              "        58647.66 ],\n",
              "       [57118.09 , 57404.496, 58541.42 , 58340.92 , 58907.82 , 58298.574,\n",
              "        60003.99 ],\n",
              "       [55673.957, 56792.89 , 56959.164, 57265.875, 58091.895, 58219.316,\n",
              "        58479.76 ]], dtype=float32)>"
            ]
          },
          "metadata": {},
          "execution_count": 57
        }
      ]
    },
    {
      "cell_type": "code",
      "source": [
        "model_3_results = evaluate_preds(y_true=tf.squeeze(test_labels),\n",
        "                                 y_pred=model_3_preds)\n",
        "model_3_results"
      ],
      "metadata": {
        "colab": {
          "base_uri": "https://localhost:8080/"
        },
        "id": "1jm6ig1AgH29",
        "outputId": "0ad82139-ad55-4c8b-883e-29d227d993d9"
      },
      "execution_count": 58,
      "outputs": [
        {
          "output_type": "execute_result",
          "data": {
            "text/plain": [
              "{'mae': array([ 557.0778  ,  404.20773 ,  347.37262 ,  470.07632 ,  446.7264  ,\n",
              "         578.34357 ,  596.9679  ,  539.2658  ,  501.44705 ,  583.8542  ,\n",
              "         750.2293  ,  794.97363 ,  811.3043  ,  915.8649  ,  606.54333 ,\n",
              "         164.72314 ,  210.964   ,  274.46597 ,  308.1633  ,  411.24234 ,\n",
              "         161.88002 ,  205.60721 ,  218.46785 ,  270.8151  ,  153.3185  ,\n",
              "          99.38135 ,  123.43736 ,  190.45613 ,  192.81277 ,  183.51912 ,\n",
              "         287.49295 ,  300.11322 ,  305.9592  ,  268.82016 ,  290.01465 ,\n",
              "         271.38303 ,  334.6135  ,  229.57785 ,  164.5784  ,  232.98486 ,\n",
              "         476.13846 ,  195.32658 ,  103.78097 ,  127.64174 ,   96.306015,\n",
              "         119.77874 ,   90.44134 ,   73.24323 ,   82.447266,  185.91441 ,\n",
              "         154.48235 ,  166.78746 ,  153.53914 ,  126.60114 ,  253.76932 ,\n",
              "         354.71283 ,  555.0528  ,  568.92084 ,  577.89465 ,  504.75543 ,\n",
              "         415.25656 ,  196.5978  ,  215.85359 ,  398.48492 ,  407.50098 ,\n",
              "         393.3304  ,  454.50174 ,  536.8502  ,  186.91365 ,  225.87611 ,\n",
              "         293.26715 ,  377.0823  ,  559.0509  ,  435.35938 ,  321.17007 ,\n",
              "         374.31863 ,  275.98578 ,  336.33148 ,  464.06836 ,  699.42706 ,\n",
              "         784.9873  ,  680.0762  ,  320.4707  ,  230.99875 ,  206.13002 ,\n",
              "         149.63908 ,  118.05692 ,  216.5851  ,  335.8566  ,  626.45575 ,\n",
              "         524.4541  ,  455.256   ,  395.86703 ,  231.90514 ,  242.46736 ,\n",
              "         336.54535 ,  365.26047 ,  549.9018  ,  716.9821  ,  818.6105  ,\n",
              "         574.3383  ,  391.76297 ,  191.36272 ,  266.7147  ,  277.0678  ,\n",
              "         418.76004 ,  536.78406 ,  725.1737  ,  982.1045  ,  929.5915  ,\n",
              "         783.12933 ,  367.1045  ,  200.39244 ,  164.51033 ,  202.41531 ,\n",
              "         404.32584 ,  387.93646 ,  479.87534 ,  612.1276  , 1038.154   ,\n",
              "        1604.0712  , 2206.8071  , 2012.7537  , 2055.5698  , 2219.2585  ,\n",
              "        2508.3352  , 1241.5172  ,  511.9479  ,  471.9687  ,  372.80142 ,\n",
              "         724.83093 ,  816.5873  ,  725.1828  ,  345.52213 ,  297.21185 ,\n",
              "         279.8127  ,  520.2812  ,  365.44162 ,  289.16916 ,  432.285   ,\n",
              "         260.4234  ,  191.3148  ,  375.5249  ,  492.44623 ,  813.62744 ,\n",
              "         473.2014  ,  458.71045 ,  149.43172 ,  254.78293 ,  314.07053 ,\n",
              "         278.55664 ,  427.3044  ,  416.48047 ,  528.63666 ,  516.8295  ,\n",
              "         225.19629 ,  145.57861 ,  167.05998 ,  150.06633 ,  246.91406 ,\n",
              "         366.05524 ,  237.86642 ,  197.04367 ,  172.86928 ,  228.73752 ,\n",
              "         318.4937  ,  580.28015 ,  681.6629  ,  568.6879  ,  612.1124  ,\n",
              "         850.58136 ,  866.12726 ,  989.1163  , 1121.7074  ,  542.41394 ,\n",
              "         283.37457 ,  272.21317 ,  329.95117 ,  337.91    ,  513.54254 ,\n",
              "         528.298   ,  491.1324  ,  670.3892  ,  871.4633  ,  835.5392  ,\n",
              "         209.79004 ,  393.3464  ,  634.06573 ,  362.40695 ,  145.14369 ,\n",
              "         244.85184 ,  293.39438 ,  476.21832 ,  545.51605 ,  629.6649  ,\n",
              "         557.559   ,  286.36942 ,  215.0985  ,  206.42885 ,  233.6017  ,\n",
              "         585.58234 ,  819.45593 ,  839.4212  ,  521.8073  ,  318.94156 ,\n",
              "         192.99707 ,  213.04799 ,  549.26746 ,  204.19545 ,  173.50209 ,\n",
              "         133.4283  ,  179.60924 ,  183.33203 ,  321.93137 ,  314.4004  ,\n",
              "         409.28696 ,  478.91617 ,  202.18709 ,  184.9841  ,  241.27902 ,\n",
              "         213.74623 ,  202.41072 ,  128.51172 ,  168.43736 ,  125.04325 ,\n",
              "         171.57254 ,  227.0823  ,  304.7906  ,  355.4043  ,  502.19867 ,\n",
              "         315.48618 ,  223.81152 ,  147.95451 ,  107.07003 ,  138.94588 ,\n",
              "         181.20215 ,  138.92578 ,   96.30636 ,   85.33775 ,  107.551895,\n",
              "         148.3517  ,  185.59055 ,  110.79618 ,  128.40695 ,  200.38644 ,\n",
              "         183.52873 ,  157.9255  ,  110.55329 ,  141.41895 ,  107.39774 ,\n",
              "         131.40039 ,   84.37765 ,  108.30901 ,  146.15862 ,  247.37137 ,\n",
              "         341.32407 ,  673.1186  ,  735.1405  ,  772.4795  ,  897.40344 ,\n",
              "        1109.9736  , 1350.0656  , 1298.8658  ,  518.1904  ,  217.3718  ,\n",
              "         232.41518 ,  201.69197 ,  216.00516 ,  435.369   ,   98.44001 ,\n",
              "         199.29869 ,  214.6451  ,  168.98074 ,  322.898   ,  204.86244 ,\n",
              "         304.66406 ,  260.42496 ,  406.92953 ,  144.80273 ,  270.85156 ,\n",
              "         206.02303 ,  286.744   ,  264.4809  ,  319.4396  ,  346.50363 ,\n",
              "         482.91156 ,  361.41226 ,  327.09988 ,  357.54172 ,  327.01465 ,\n",
              "         314.74414 ,  236.8623  ,   98.394394,  210.80762 ,  349.82477 ,\n",
              "         502.01074 ,  672.1091  ,  927.5703  , 1109.988   , 1513.5798  ,\n",
              "        1383.6907  ,  834.2161  ,  502.57828 ,  125.48717 ,  246.94336 ,\n",
              "         188.90945 ,  397.6945  ,  438.81152 ,  412.54688 ,  357.52148 ,\n",
              "         448.05566 ,  459.57465 ,  338.95535 ,  298.12305 ,  406.64355 ,\n",
              "         435.06082 ,  379.0378  ,  427.80762 ,  271.4456  ,  126.43346 ,\n",
              "         118.16239 ,  335.726   ,  164.50404 ,  187.63184 ,  252.4149  ,\n",
              "         238.48299 ,  306.33078 ,  274.08914 ,  266.6914  ,  137.59682 ,\n",
              "         129.77943 ,  190.55678 ,  285.85086 ,  435.4103  ,  589.1377  ,\n",
              "         744.8428  ,  621.3624  ,  476.76883 ,  236.42299 ,  197.54883 ,\n",
              "         290.44852 ,  210.5131  ,  297.6059  ,  526.0904  ,  718.311   ,\n",
              "        1066.2401  , 1215.9633  , 1171.6428  , 1227.3359  ,  407.3062  ,\n",
              "         244.77888 ,  167.54842 ,  242.89732 ,  179.60506 ,  205.22168 ,\n",
              "         190.5992  ,  127.740234,  400.19644 ,  627.08105 ,  613.1505  ,\n",
              "         838.89496 , 1082.6458  , 1155.7303  , 1047.6843  ,  387.76715 ,\n",
              "         317.12793 ,  406.2888  ,  254.35715 ,  400.72363 ,  766.213   ,\n",
              "         950.6663  ,  785.1988  , 1002.40515 , 1208.1414  , 1755.4918  ,\n",
              "        1600.8268  , 1029.9414  ,  593.7804  ,  478.8195  ,  626.6136  ,\n",
              "         970.07086 , 1114.2483  , 1054.7843  , 1100.781   ,  890.04407 ,\n",
              "         704.02344 , 1415.722   , 1293.1013  , 1115.1897  ,  325.63922 ,\n",
              "         278.8973  ,  540.0173  ,  809.76086 ,  830.762   ,  856.75836 ,\n",
              "         738.40485 ,  573.62195 ,  335.38364 ,  749.4746  , 1523.6007  ,\n",
              "        2604.2046  , 2842.5273  , 3089.361   , 3458.7095  , 3599.923   ,\n",
              "        2321.5015  ,  635.63055 ,  467.1772  ,  759.41016 ,  978.0837  ,\n",
              "        1151.743   , 1621.0449  , 2373.8464  , 3041.135   , 3080.688   ,\n",
              "        2531.3296  , 2684.992   , 2910.0757  , 3441.4668  , 3134.7683  ,\n",
              "        3895.4197  , 5049.1333  , 4688.793   , 4225.413   , 4588.7554  ,\n",
              "        3555.5317  , 2815.1997  , 2487.4849  , 3295.4119  , 4803.6567  ,\n",
              "        4533.32    , 1607.4303  ,  888.40234 ,  967.5703  , 2610.5083  ,\n",
              "        2620.3347  , 2341.8403  , 3327.2249  , 3552.8374  , 3930.3652  ,\n",
              "        3887.959   , 1248.6437  ,  953.1749  , 1213.5212  ,  911.8881  ,\n",
              "        1443.3932  , 1996.1721  , 3098.7964  , 2803.6594  , 2328.2678  ,\n",
              "        2261.7288  , 2963.5754  , 3952.0564  , 5140.8643  , 4762.6377  ,\n",
              "        6104.2188  , 6668.144   , 6024.152   , 7212.6694  , 4918.6763  ,\n",
              "        1292.0898  , 1507.6669  , 1149.7472  , 2252.7456  , 1875.7556  ,\n",
              "        3083.556   , 3086.106   , 3099.5793  , 2969.659   , 3393.7573  ,\n",
              "        4703.697   , 6669.884   , 9880.197   , 9507.567   , 4887.1875  ,\n",
              "        2910.7144  , 1661.4799  , 1285.1434  , 2335.4583  , 4269.7104  ,\n",
              "        2329.4414  , 3160.2595  , 2577.5652  , 3607.8784  , 4605.421   ,\n",
              "        6023.9736  , 5727.7866  , 6433.7373  , 4437.125   , 2979.2014  ,\n",
              "        1556.3069  , 1876.827   , 1447.3448  , 2894.433   , 2294.177   ,\n",
              "        1750.6033  , 3844.2136  , 4393.927   , 5157.0156  , 5006.927   ,\n",
              "        5296.304   , 1791.9972  , 1447.3483  , 2562.096   , 3883.5938  ,\n",
              "        3792.74    , 2292.8716  , 2576.5613  , 2373.6262  , 1016.0614  ,\n",
              "        1194.3014  , 1136.5419  , 1200.9347  , 1078.1038  ,  951.56976 ,\n",
              "         877.12726 , 1195.1552  , 3285.5603  , 3916.605   , 4003.8503  ,\n",
              "        2670.6316  , 2567.98    , 3325.8918  , 4095.0134  , 6241.3423  ,\n",
              "        7533.4634  , 8550.359   , 8295.065   , 6248.742   , 4807.2334  ,\n",
              "        4076.1675  , 2296.4653  , 1837.0385  , 2919.2249  , 4047.7227  ,\n",
              "        5903.835   , 4733.3906  , 1779.5831  , 1912.4978  , 2225.707   ,\n",
              "        1394.1853  , 1804.88    ,  944.7511  , 1253.3175  , 2029.1289  ,\n",
              "        2205.6692  , 2644.6958  , 3672.0435  , 5345.95    , 7270.189   ,\n",
              "        8304.163   ], dtype=float32),\n",
              " 'mse': array([3.28554938e+05, 1.88365422e+05, 1.64098297e+05, 3.28968344e+05,\n",
              "        2.96229281e+05, 4.38573938e+05, 4.13756844e+05, 4.04897281e+05,\n",
              "        4.11681531e+05, 5.09497844e+05, 7.51919438e+05, 8.76602125e+05,\n",
              "        7.97001688e+05, 9.18580875e+05, 4.00230781e+05, 4.38332070e+04,\n",
              "        6.31788086e+04, 9.82405859e+04, 1.25353312e+05, 2.05706000e+05,\n",
              "        5.05303320e+04, 5.53006055e+04, 6.73242031e+04, 8.51692656e+04,\n",
              "        2.95166406e+04, 1.29071982e+04, 2.24196289e+04, 4.08850195e+04,\n",
              "        4.62254375e+04, 3.68414492e+04, 9.57999375e+04, 1.03602539e+05,\n",
              "        1.30399805e+05, 1.59258594e+05, 1.98420750e+05, 1.42848750e+05,\n",
              "        1.73996281e+05, 8.62310625e+04, 5.62080039e+04, 7.14381016e+04,\n",
              "        2.50297984e+05, 5.43993711e+04, 1.50275918e+04, 2.14441094e+04,\n",
              "        1.23560801e+04, 2.12373301e+04, 1.20002764e+04, 1.07029609e+04,\n",
              "        9.55445117e+03, 4.55070547e+04, 3.16699414e+04, 3.79879453e+04,\n",
              "        4.08138438e+04, 2.45473301e+04, 1.11576070e+05, 1.86333594e+05,\n",
              "        3.73933812e+05, 3.96563281e+05, 3.79719656e+05, 2.63615188e+05,\n",
              "        1.76658859e+05, 8.48514844e+04, 1.13933633e+05, 2.08128250e+05,\n",
              "        2.75003812e+05, 1.96021969e+05, 2.48486406e+05, 3.13021000e+05,\n",
              "        4.94185312e+04, 6.13811953e+04, 1.04644070e+05, 1.84767641e+05,\n",
              "        3.62713500e+05, 2.63926594e+05, 1.43089406e+05, 1.74719172e+05,\n",
              "        9.29020000e+04, 1.78165984e+05, 3.39132000e+05, 5.57590500e+05,\n",
              "        6.52036438e+05, 4.73225719e+05, 1.37588531e+05, 6.45819922e+04,\n",
              "        7.07660156e+04, 4.45686211e+04, 3.01256816e+04, 6.35906680e+04,\n",
              "        1.41301047e+05, 4.29935656e+05, 3.20885219e+05, 2.48798609e+05,\n",
              "        1.76637234e+05, 7.46086016e+04, 7.17003047e+04, 1.38873312e+05,\n",
              "        2.30807375e+05, 4.13707562e+05, 6.56822438e+05, 7.42451438e+05,\n",
              "        3.86334344e+05, 1.67774000e+05, 6.12659883e+04, 8.17592500e+04,\n",
              "        1.95556984e+05, 3.07561156e+05, 4.32812781e+05, 7.15314438e+05,\n",
              "        1.19908562e+06, 9.83373625e+05, 6.36989688e+05, 1.69098125e+05,\n",
              "        4.80934922e+04, 3.97608047e+04, 6.19342188e+04, 1.77693234e+05,\n",
              "        2.06115078e+05, 3.50008531e+05, 4.18768250e+05, 1.96238225e+06,\n",
              "        4.09557600e+06, 6.70107750e+06, 5.70831850e+06, 5.93581050e+06,\n",
              "        5.87263300e+06, 6.41907300e+06, 1.72060862e+06, 3.82871688e+05,\n",
              "        2.67181938e+05, 1.89731328e+05, 6.36955500e+05, 8.23962938e+05,\n",
              "        6.06398688e+05, 1.50348625e+05, 1.14187203e+05, 1.01890688e+05,\n",
              "        3.52211000e+05, 1.81715406e+05, 1.75694875e+05, 2.72284656e+05,\n",
              "        1.49704453e+05, 8.75009531e+04, 1.74845359e+05, 2.73631531e+05,\n",
              "        7.25354562e+05, 2.33993656e+05, 2.35231000e+05, 2.98644551e+04,\n",
              "        8.15219141e+04, 2.15536516e+05, 9.44181250e+04, 2.48910078e+05,\n",
              "        2.35214359e+05, 3.25708469e+05, 3.29553562e+05, 8.92479453e+04,\n",
              "        3.81865117e+04, 3.85898789e+04, 3.44099570e+04, 1.03724484e+05,\n",
              "        1.72228969e+05, 8.87728281e+04, 4.69460078e+04, 4.19238438e+04,\n",
              "        6.09071953e+04, 1.19935805e+05, 3.64620000e+05, 6.27281312e+05,\n",
              "        5.79191812e+05, 6.21345188e+05, 1.01035044e+06, 9.52435312e+05,\n",
              "        1.12437175e+06, 1.26179512e+06, 3.38332094e+05, 1.77822281e+05,\n",
              "        1.54299359e+05, 1.58688172e+05, 1.70062656e+05, 3.08618781e+05,\n",
              "        3.06560406e+05, 3.47091781e+05, 6.85048375e+05, 9.36637375e+05,\n",
              "        8.25698500e+05, 8.47418594e+04, 1.87317375e+05, 4.33118969e+05,\n",
              "        1.54497297e+05, 2.74144941e+04, 1.02260430e+05, 9.46081953e+04,\n",
              "        3.38229906e+05, 4.18416062e+05, 4.95194500e+05, 3.64798656e+05,\n",
              "        1.51009750e+05, 7.07882734e+04, 5.44389609e+04, 7.83910859e+04,\n",
              "        4.65720188e+05, 8.37222562e+05, 7.81877438e+05, 3.32979188e+05,\n",
              "        2.17050859e+05, 7.66829375e+04, 8.22926797e+04, 3.26400219e+05,\n",
              "        5.16619492e+04, 4.12346445e+04, 4.21204062e+04, 6.13668125e+04,\n",
              "        5.20951445e+04, 1.34737906e+05, 1.13869164e+05, 1.75399219e+05,\n",
              "        2.37348781e+05, 5.79539648e+04, 5.90870703e+04, 8.78073203e+04,\n",
              "        5.96620117e+04, 6.54657773e+04, 2.36994727e+04, 3.07776406e+04,\n",
              "        2.01179336e+04, 3.35075586e+04, 8.62966406e+04, 1.24727320e+05,\n",
              "        1.66277531e+05, 2.93646219e+05, 1.09719945e+05, 6.90668047e+04,\n",
              "        3.37826641e+04, 1.83198184e+04, 2.56269277e+04, 4.15743672e+04,\n",
              "        2.46477188e+04, 1.31261172e+04, 1.08504971e+04, 2.01726367e+04,\n",
              "        3.46496602e+04, 5.05712188e+04, 1.95718301e+04, 2.54183125e+04,\n",
              "        5.49182422e+04, 5.05455508e+04, 3.46155703e+04, 1.82812637e+04,\n",
              "        2.35620781e+04, 1.45978145e+04, 2.35062617e+04, 1.22333965e+04,\n",
              "        1.51100107e+04, 2.75025977e+04, 7.03786406e+04, 1.38082953e+05,\n",
              "        7.27013312e+05, 8.73933312e+05, 9.97952312e+05, 1.16721138e+06,\n",
              "        1.52872138e+06, 2.03328088e+06, 1.71199000e+06, 3.23683812e+05,\n",
              "        8.47291953e+04, 7.65811250e+04, 6.09887578e+04, 6.92180781e+04,\n",
              "        2.30008750e+05, 1.50599736e+04, 4.41801211e+04, 6.17296328e+04,\n",
              "        5.28524062e+04, 1.45640828e+05, 8.03895391e+04, 1.39348047e+05,\n",
              "        8.15323750e+04, 1.79374859e+05, 3.64403984e+04, 9.36555859e+04,\n",
              "        5.76910547e+04, 1.13281195e+05, 9.29983594e+04, 1.35882359e+05,\n",
              "        1.86756984e+05, 2.94823500e+05, 1.63050172e+05, 1.70289531e+05,\n",
              "        1.81678906e+05, 1.30168680e+05, 1.06483875e+05, 7.37895781e+04,\n",
              "        1.45036123e+04, 6.67489453e+04, 1.60856891e+05, 3.44020688e+05,\n",
              "        6.42202125e+05, 1.28472775e+06, 1.61278462e+06, 2.63193950e+06,\n",
              "        2.03723500e+06, 7.62806188e+05, 2.59150203e+05, 2.20374961e+04,\n",
              "        7.56601406e+04, 6.66393906e+04, 1.86281250e+05, 2.32879984e+05,\n",
              "        2.27200625e+05, 1.48712078e+05, 2.40212375e+05, 2.33040469e+05,\n",
              "        1.34397703e+05, 1.42116609e+05, 2.76122062e+05, 2.86762906e+05,\n",
              "        1.95125219e+05, 2.28311891e+05, 9.61488125e+04, 1.98168125e+04,\n",
              "        2.27640195e+04, 1.34500188e+05, 3.32437773e+04, 4.99131953e+04,\n",
              "        8.53097344e+04, 7.04073594e+04, 1.22962953e+05, 9.32626094e+04,\n",
              "        9.47391641e+04, 3.36686914e+04, 1.92015059e+04, 7.14972031e+04,\n",
              "        1.26285703e+05, 2.98530656e+05, 4.02463562e+05, 5.90564500e+05,\n",
              "        4.01774344e+05, 2.56559750e+05, 7.41596641e+04, 5.26717266e+04,\n",
              "        1.12501523e+05, 6.39812578e+04, 2.64680594e+05, 5.89276688e+05,\n",
              "        8.68734625e+05, 1.51893875e+06, 1.70425112e+06, 1.51918575e+06,\n",
              "        1.56984825e+06, 2.07349391e+05, 8.26568359e+04, 3.87330234e+04,\n",
              "        6.85756094e+04, 5.96808945e+04, 6.21723359e+04, 5.16458945e+04,\n",
              "        3.07969551e+04, 4.61904000e+05, 8.89665375e+05, 7.60185062e+05,\n",
              "        1.09861800e+06, 1.46827625e+06, 1.53334138e+06, 1.20339700e+06,\n",
              "        2.72935969e+05, 1.47811547e+05, 2.18417047e+05, 9.65528359e+04,\n",
              "        2.74084219e+05, 9.27073000e+05, 1.36413900e+06, 1.04330344e+06,\n",
              "        1.39100675e+06, 1.95673688e+06, 3.39219200e+06, 2.64158125e+06,\n",
              "        1.21083325e+06, 3.85998281e+05, 3.30544500e+05, 1.23215288e+06,\n",
              "        1.78911638e+06, 1.93191775e+06, 1.84134325e+06, 1.77614200e+06,\n",
              "        1.23464038e+06, 6.65410688e+05, 2.24376000e+06, 1.91494538e+06,\n",
              "        1.37699188e+06, 1.57971547e+05, 1.09696539e+05, 4.67876938e+05,\n",
              "        9.64422812e+05, 1.05040275e+06, 1.07596150e+06, 7.05304875e+05,\n",
              "        4.13496250e+05, 1.88489906e+05, 1.27609888e+06, 4.44046400e+06,\n",
              "        9.28268600e+06, 1.13906550e+07, 1.23787610e+07, 1.36592050e+07,\n",
              "        1.34234990e+07, 5.64740250e+06, 7.21011938e+05, 2.73808406e+05,\n",
              "        9.97096125e+05, 1.31280500e+06, 2.12279775e+06, 3.72425150e+06,\n",
              "        7.75717350e+06, 1.07700300e+07, 1.07051020e+07, 1.00557140e+07,\n",
              "        1.16341600e+07, 1.16262780e+07, 1.53051910e+07, 1.46738870e+07,\n",
              "        2.42535880e+07, 3.47131680e+07, 3.16733460e+07, 2.24739060e+07,\n",
              "        2.53730740e+07, 1.79420840e+07, 9.57747200e+06, 8.44838100e+06,\n",
              "        1.60072180e+07, 2.70556980e+07, 2.21299700e+07, 3.21462225e+06,\n",
              "        1.72942200e+06, 1.16008450e+06, 9.69793000e+06, 1.09773110e+07,\n",
              "        9.63080300e+06, 1.73008140e+07, 1.60625900e+07, 1.74400940e+07,\n",
              "        1.59747790e+07, 2.94766150e+06, 1.75657638e+06, 2.28005575e+06,\n",
              "        1.10955225e+06, 2.96427200e+06, 4.67174500e+06, 1.16719860e+07,\n",
              "        1.00626800e+07, 7.72535850e+06, 7.56682400e+06, 1.09526790e+07,\n",
              "        2.03532160e+07, 3.55609080e+07, 3.13706860e+07, 5.21616960e+07,\n",
              "        5.49093120e+07, 4.05789080e+07, 5.30326960e+07, 2.52537740e+07,\n",
              "        2.08938775e+06, 4.47083250e+06, 1.87366175e+06, 7.27882550e+06,\n",
              "        5.95037700e+06, 1.44789680e+07, 1.45924210e+07, 1.28682910e+07,\n",
              "        1.05261010e+07, 1.44777460e+07, 3.11603680e+07, 5.88098480e+07,\n",
              "        1.06745064e+08, 9.57293920e+07, 2.84437000e+07, 1.21472610e+07,\n",
              "        3.46099600e+06, 2.34882725e+06, 7.34782850e+06, 1.92708520e+07,\n",
              "        6.86641600e+06, 1.42611530e+07, 1.49631580e+07, 2.11305600e+07,\n",
              "        2.54494100e+07, 4.41870520e+07, 3.69626560e+07, 4.52135040e+07,\n",
              "        2.42241180e+07, 1.20388570e+07, 3.86326450e+06, 4.99366100e+06,\n",
              "        2.28849350e+06, 8.81545400e+06, 1.02396390e+07, 7.65794050e+06,\n",
              "        2.52093220e+07, 2.99055800e+07, 3.49352200e+07, 2.96261120e+07,\n",
              "        3.06324160e+07, 4.61279700e+06, 3.19008200e+06, 8.73217900e+06,\n",
              "        1.54351130e+07, 1.62209220e+07, 5.63524250e+06, 7.48378300e+06,\n",
              "        6.28007650e+06, 1.37592900e+06, 1.78238912e+06, 2.59118125e+06,\n",
              "        1.84171975e+06, 1.66005538e+06, 1.23672988e+06, 1.26524575e+06,\n",
              "        2.48997325e+06, 1.33512300e+07, 1.78290500e+07, 1.79274820e+07,\n",
              "        9.07284800e+06, 8.31353600e+06, 1.49506190e+07, 2.88390600e+07,\n",
              "        5.44325840e+07, 7.16613920e+07, 8.77688960e+07, 7.91306880e+07,\n",
              "        5.01601640e+07, 2.90321780e+07, 2.12104000e+07, 9.18675300e+06,\n",
              "        4.74260950e+06, 1.09397590e+07, 1.90226540e+07, 3.70134960e+07,\n",
              "        2.43958820e+07, 5.33877500e+06, 4.50277950e+06, 6.21406300e+06,\n",
              "        2.66270525e+06, 4.69978700e+06, 1.75883700e+06, 2.37587625e+06,\n",
              "        5.65555450e+06, 6.38749150e+06, 1.08819530e+07, 2.02587500e+07,\n",
              "        4.59348120e+07, 7.30909120e+07, 8.92775760e+07], dtype=float32),\n",
              " 'rmse': array([  573.1971  ,   434.01086 ,   405.09048 ,   573.5576  ,\n",
              "          544.2695  ,   662.24915 ,   643.2393  ,   636.31537 ,\n",
              "          641.62415 ,   713.79114 ,   867.1329  ,   936.2703  ,\n",
              "          892.7495  ,   958.4262  ,   632.63794 ,   209.36382 ,\n",
              "          251.35394 ,   313.43353 ,   354.0527  ,   453.54822 ,\n",
              "          224.78954 ,   235.16081 ,   259.4691  ,   291.83774 ,\n",
              "          171.80408 ,   113.60985 ,   149.73186 ,   202.20044 ,\n",
              "          215.001   ,   191.94127 ,   309.51566 ,   321.87347 ,\n",
              "          361.10913 ,   399.07217 ,   445.44443 ,   377.95337 ,\n",
              "          417.1286  ,   293.65125 ,   237.08228 ,   267.27908 ,\n",
              "          500.29788 ,   233.23672 ,   122.587074,   146.43808 ,\n",
              "          111.157906,   145.73033 ,   109.54577 ,   103.45512 ,\n",
              "           97.74687 ,   213.32382 ,   177.96051 ,   194.90495 ,\n",
              "          202.02437 ,   156.67587 ,   334.03003 ,   431.66376 ,\n",
              "          611.5013  ,   629.7327  ,   616.2139  ,   513.4347  ,\n",
              "          420.30804 ,   291.2928  ,   337.54056 ,   456.21075 ,\n",
              "          524.408   ,   442.74368 ,   498.4841  ,   559.4828  ,\n",
              "          222.3028  ,   247.75229 ,   323.48734 ,   429.84607 ,\n",
              "          602.257   ,   513.73785 ,   378.2716  ,   417.9942  ,\n",
              "          304.79828 ,   422.09714 ,   582.3504  ,   746.7198  ,\n",
              "          807.48773 ,   687.914   ,   370.92926 ,   254.12987 ,\n",
              "          266.01883 ,   211.11281 ,   173.5675  ,   252.1719  ,\n",
              "          375.9003  ,   655.6948  ,   566.4673  ,   498.79715 ,\n",
              "          420.28232 ,   273.14575 ,   267.7691  ,   372.6571  ,\n",
              "          480.42416 ,   643.20105 ,   810.4458  ,   861.6562  ,\n",
              "          621.558   ,   409.60223 ,   247.51967 ,   285.93576 ,\n",
              "          442.21826 ,   554.582   ,   657.8851  ,   845.76263 ,\n",
              "         1095.0277  ,   991.652   ,   798.11633 ,   411.21542 ,\n",
              "          219.30229 ,   199.40111 ,   248.86586 ,   421.53677 ,\n",
              "          453.999   ,   591.6152  ,   647.12305 ,  1400.8506  ,\n",
              "         2023.7529  ,  2588.6438  ,  2389.2087  ,  2436.3518  ,\n",
              "         2423.3516  ,  2533.5889  ,  1311.7197  ,   618.76624 ,\n",
              "          516.8964  ,   435.5816  ,   798.0949  ,   907.72406 ,\n",
              "          778.716   ,   387.74814 ,   337.91595 ,   319.20322 ,\n",
              "          593.4737  ,   426.2809  ,   419.15973 ,   521.809   ,\n",
              "          386.9166  ,   295.8056  ,   418.14514 ,   523.098   ,\n",
              "          851.6775  ,   483.7289  ,   485.0062  ,   172.81335 ,\n",
              "          285.52042 ,   464.2591  ,   307.27533 ,   498.90887 ,\n",
              "          484.98904 ,   570.70874 ,   574.06757 ,   298.74393 ,\n",
              "          195.4137  ,   196.44307 ,   185.4992  ,   322.06287 ,\n",
              "          415.0048  ,   297.9477  ,   216.67027 ,   204.75313 ,\n",
              "          246.79382 ,   346.31747 ,   603.8377  ,   792.0109  ,\n",
              "          761.0465  ,   788.2545  ,  1005.16187 ,   975.9279  ,\n",
              "         1060.364   ,  1123.2965  ,   581.6632  ,   421.6898  ,\n",
              "          392.80957 ,   398.35684 ,   412.38654 ,   555.53467 ,\n",
              "          553.67896 ,   589.14496 ,   827.6765  ,   967.8003  ,\n",
              "          908.6795  ,   291.10455 ,   432.80176 ,   658.11774 ,\n",
              "          393.06143 ,   165.57323 ,   319.78183 ,   307.58444 ,\n",
              "          581.5754  ,   646.8509  ,   703.70056 ,   603.98566 ,\n",
              "          388.59973 ,   266.06064 ,   233.32158 ,   279.98407 ,\n",
              "          682.43695 ,   914.99866 ,   884.23834 ,   577.04346 ,\n",
              "          465.88718 ,   276.91684 ,   286.867   ,   571.31445 ,\n",
              "          227.29265 ,   203.06316 ,   205.23256 ,   247.72325 ,\n",
              "          228.2436  ,   367.06662 ,   337.44504 ,   418.8069  ,\n",
              "          487.18454 ,   240.7363  ,   243.07832 ,   296.323   ,\n",
              "          244.25809 ,   255.86281 ,   153.94632 ,   175.43558 ,\n",
              "          141.83769 ,   183.05069 ,   293.76288 ,   353.16754 ,\n",
              "          407.77142 ,   541.89136 ,   331.24002 ,   262.80563 ,\n",
              "          183.80061 ,   135.35072 ,   160.08412 ,   203.89793 ,\n",
              "          156.99591 ,   114.56927 ,   104.16572 ,   142.03041 ,\n",
              "          186.1442  ,   224.88045 ,   139.89935 ,   159.43121 ,\n",
              "          234.3464  ,   224.82338 ,   186.0526  ,   135.20822 ,\n",
              "          153.49944 ,   120.82141 ,   153.31752 ,   110.60468 ,\n",
              "          122.92278 ,   165.83907 ,   265.28973 ,   371.59515 ,\n",
              "          852.65076 ,   934.844   ,   998.97565 ,  1080.3756  ,\n",
              "         1236.4147  ,  1425.9315  ,  1308.4303  ,   568.9321  ,\n",
              "          291.0828  ,   276.73294 ,   246.95901 ,   263.0933  ,\n",
              "          479.59225 ,   122.719086,   210.19067 ,   248.45448 ,\n",
              "          229.89651 ,   381.62915 ,   283.5305  ,   373.29352 ,\n",
              "          285.53876 ,   423.5267  ,   190.89368 ,   306.03198 ,\n",
              "          240.18962 ,   336.57272 ,   304.95633 ,   368.62225 ,\n",
              "          432.15387 ,   542.9765  ,   403.7947  ,   412.6615  ,\n",
              "          426.2381  ,   360.78897 ,   326.31866 ,   271.64236 ,\n",
              "          120.43094 ,   258.35815 ,   401.06967 ,   586.5328  ,\n",
              "          801.3751  ,  1133.4583  ,  1269.9546  ,  1622.3253  ,\n",
              "         1427.3174  ,   873.38776 ,   509.06796 ,   148.45032 ,\n",
              "          275.06387 ,   258.14606 ,   431.60312 ,   482.57642 ,\n",
              "          476.65567 ,   385.63205 ,   490.11465 ,   482.74265 ,\n",
              "          366.60294 ,   376.98355 ,   525.47314 ,   535.50244 ,\n",
              "          441.7298  ,   477.81995 ,   310.0787  ,   140.7722  ,\n",
              "          150.8775  ,   366.74268 ,   182.32877 ,   223.41261 ,\n",
              "          292.0783  ,   265.34384 ,   350.66074 ,   305.38925 ,\n",
              "          307.79727 ,   183.49031 ,   138.56949 ,   267.38962 ,\n",
              "          355.367   ,   546.3796  ,   634.40015 ,   768.48193 ,\n",
              "          633.8567  ,   506.51727 ,   272.32272 ,   229.50322 ,\n",
              "          335.41248 ,   252.94516 ,   514.4712  ,   767.6436  ,\n",
              "          932.0593  ,  1232.4523  ,  1305.4697  ,  1232.5525  ,\n",
              "         1252.9358  ,   455.35632 ,   287.501   ,   196.80707 ,\n",
              "          261.86945 ,   244.29674 ,   249.34381 ,   227.25732 ,\n",
              "          175.49062 ,   679.6352  ,   943.22076 ,   871.8859  ,\n",
              "         1048.1498  ,  1211.7245  ,  1238.2816  ,  1096.9945  ,\n",
              "          522.43274 ,   384.46268 ,   467.3511  ,   310.72952 ,\n",
              "          523.5305  ,   962.8463  ,  1167.9636  ,  1021.42224 ,\n",
              "         1179.4095  ,  1398.8341  ,  1841.7904  ,  1625.2942  ,\n",
              "         1100.3787  ,   621.2876  ,   574.93    ,  1110.0238  ,\n",
              "         1337.5785  ,  1389.9344  ,  1356.961   ,  1332.7197  ,\n",
              "         1111.1437  ,   815.72705 ,  1497.9186  ,  1383.8156  ,\n",
              "         1173.4529  ,   397.45633 ,   331.20468 ,   684.0153  ,\n",
              "          982.0503  ,  1024.8916  ,  1037.2856  ,   839.8243  ,\n",
              "          643.03674 ,   434.15424 ,  1129.6455  ,  2107.241   ,\n",
              "         3046.75    ,  3375.0046  ,  3518.3462  ,  3695.8362  ,\n",
              "         3663.8093  ,  2376.4263  ,   849.1242  ,   523.267   ,\n",
              "          998.547   ,  1145.777   ,  1456.9824  ,  1929.832   ,\n",
              "         2785.1702  ,  3281.7722  ,  3271.8652  ,  3171.0747  ,\n",
              "         3410.8884  ,  3409.733   ,  3912.1848  ,  3830.651   ,\n",
              "         4924.793   ,  5891.788   ,  5627.9077  ,  4740.665   ,\n",
              "         5037.169   ,  4235.8096  ,  3094.749   ,  2906.6099  ,\n",
              "         4000.902   ,  5201.5093  ,  4704.25    ,  1792.9368  ,\n",
              "         1315.0748  ,  1077.0721  ,  3114.15    ,  3313.2026  ,\n",
              "         3103.3535  ,  4159.425   ,  4007.8162  ,  4176.134   ,\n",
              "         3996.8462  ,  1716.8755  ,  1325.3589  ,  1509.9854  ,\n",
              "         1053.3529  ,  1721.706   ,  2161.4219  ,  3416.4287  ,\n",
              "         3172.1729  ,  2779.453   ,  2750.786   ,  3309.4832  ,\n",
              "         4511.4536  ,  5963.297   ,  5600.954   ,  7222.305   ,\n",
              "         7410.0815  ,  6370.1577  ,  7282.355   ,  5025.313   ,\n",
              "         1445.4714  ,  2114.4343  ,  1368.8176  ,  2697.93    ,\n",
              "         2439.3394  ,  3805.1238  ,  3820.0027  ,  3587.24    ,\n",
              "         3244.3953  ,  3804.9634  ,  5582.1475  ,  7668.758   ,\n",
              "        10331.75    ,  9784.14    ,  5333.263   ,  3485.292   ,\n",
              "         1860.3752  ,  1532.5884  ,  2710.6877  ,  4389.858   ,\n",
              "         2620.3848  ,  3776.3943  ,  3868.224   ,  4596.799   ,\n",
              "         5044.7407  ,  6647.334   ,  6079.692   ,  6724.0986  ,\n",
              "         4921.8003  ,  3469.7056  ,  1965.5188  ,  2234.6501  ,\n",
              "         1512.7767  ,  2969.083   ,  3199.9436  ,  2767.2983  ,\n",
              "         5020.888   ,  5468.599   ,  5910.6025  ,  5442.9873  ,\n",
              "         5534.656   ,  2147.7422  ,  1786.0801  ,  2955.0261  ,\n",
              "         3928.7546  ,  4027.5205  ,  2373.8665  ,  2735.6504  ,\n",
              "         2506.008   ,  1173.      ,  1335.0614  ,  1609.7146  ,\n",
              "         1357.0997  ,  1288.4314  ,  1112.0835  ,  1124.8314  ,\n",
              "         1577.9648  ,  3653.9336  ,  4222.446   ,  4234.0854  ,\n",
              "         3012.1167  ,  2883.3203  ,  3866.603   ,  5370.201   ,\n",
              "         7377.844   ,  8465.305   ,  9368.506   ,  8895.543   ,\n",
              "         7082.3843  ,  5388.1514  ,  4605.475   ,  3030.9656  ,\n",
              "         2177.7532  ,  3307.5305  ,  4361.4966  ,  6083.8716  ,\n",
              "         4939.2188  ,  2310.5789  ,  2121.9753  ,  2492.8022  ,\n",
              "         1631.7798  ,  2167.8992  ,  1326.2115  ,  1541.3877  ,\n",
              "         2378.1409  ,  2527.3486  ,  3298.7805  ,  4500.972   ,\n",
              "         6777.5225  ,  8549.322   ,  9448.681   ], dtype=float32),\n",
              " 'mape': array([ 6.3524833 ,  4.6485233 ,  4.0268736 ,  5.49626   ,  5.29712   ,\n",
              "         6.928443  ,  7.2095194 ,  6.723262  ,  6.520376  ,  7.7270784 ,\n",
              "        10.145415  , 10.935318  , 11.22186   , 12.640987  ,  8.377069  ,\n",
              "         2.2764459 ,  2.8308177 ,  3.6549575 ,  4.098488  ,  5.470366  ,\n",
              "         2.1465433 ,  2.7727106 ,  2.980448  ,  3.6800709 ,  2.068356  ,\n",
              "         1.3436832 ,  1.6725805 ,  2.5667105 ,  2.6204178 ,  2.5136623 ,\n",
              "         3.984318  ,  4.184465  ,  4.329438  ,  3.9534059 ,  4.26867   ,\n",
              "         3.9721727 ,  4.8516364 ,  3.326153  ,  2.3905783 ,  3.257015  ,\n",
              "         6.5586457 ,  2.70437   ,  1.4384086 ,  1.765125  ,  1.3333023 ,\n",
              "         1.655452  ,  1.2449139 ,  1.012947  ,  1.1351905 ,  2.5964758 ,\n",
              "         2.143362  ,  2.3220778 ,  2.1538897 ,  1.7384697 ,  3.339114  ,\n",
              "         4.570836  ,  7.1294727 ,  7.212565  ,  7.256537  ,  6.3019767 ,\n",
              "         5.152733  ,  2.3390484 ,  2.505986  ,  4.65795   ,  4.639246  ,\n",
              "         4.4769673 ,  5.170626  ,  6.097036  ,  2.1150587 ,  2.592319  ,\n",
              "         3.4026875 ,  4.4156733 ,  6.5777392 ,  5.1495132 ,  3.792786  ,\n",
              "         4.397697  ,  3.2005231 ,  3.6624274 ,  4.9759607 ,  7.537328  ,\n",
              "         8.415823  ,  7.267578  ,  3.412103  ,  2.4541123 ,  2.2093823 ,\n",
              "         1.6028941 ,  1.2543557 ,  2.2252655 ,  3.4057267 ,  6.29882   ,\n",
              "         5.2024183 ,  4.4816494 ,  3.8752534 ,  2.2589395 ,  2.408183  ,\n",
              "         3.3629446 ,  3.696539  ,  5.586217  ,  7.337929  ,  8.401684  ,\n",
              "         5.9161425 ,  4.0233026 ,  1.9407401 ,  2.7727215 ,  3.0398505 ,\n",
              "         4.6182847 ,  5.986156  ,  8.175932  , 11.222794  , 10.6324415 ,\n",
              "         8.96476   ,  4.216038  ,  2.287977  ,  1.844782  ,  2.2489905 ,\n",
              "         4.559402  ,  4.593489  ,  5.823716  ,  7.4080243 , 15.064444  ,\n",
              "        24.956308  , 36.372635  , 35.24807   , 38.268265  , 41.335316  ,\n",
              "        46.738705  , 23.20466   ,  9.679031  ,  8.339779  ,  6.2091537 ,\n",
              "        11.805829  , 12.863906  , 11.245259  ,  5.277167  ,  4.5809817 ,\n",
              "         4.3069654 ,  7.8756027 ,  5.714475  ,  4.6836596 ,  6.9122186 ,\n",
              "         4.2196774 ,  3.105697  ,  5.724269  ,  7.330594  , 11.872792  ,\n",
              "         6.877166  ,  6.504007  ,  2.108163  ,  3.5949805 ,  4.5165977 ,\n",
              "         3.9129508 ,  6.1195407 ,  6.0070376 ,  7.6793313 ,  7.52884   ,\n",
              "         3.282604  ,  2.0863855 ,  2.3803082 ,  2.101025  ,  3.4455407 ,\n",
              "         5.116586  ,  3.2767038 ,  2.7538967 ,  2.429066  ,  3.1892319 ,\n",
              "         4.229279  ,  7.6362214 ,  8.526833  ,  6.7812705 ,  7.131404  ,\n",
              "         9.784506  ,  9.853994  , 11.182584  , 12.639834  ,  6.0144725 ,\n",
              "         2.991141  ,  2.807731  ,  3.4538324 ,  3.5738957 ,  5.5278172 ,\n",
              "         5.6796546 ,  5.424815  ,  7.520387  ,  9.709777  ,  9.299599  ,\n",
              "         2.3476074 ,  4.1339235 ,  6.5993986 ,  3.7667863 ,  1.5358769 ,\n",
              "         2.6281192 ,  3.1241713 ,  5.1841655 ,  5.9953985 ,  6.980352  ,\n",
              "         6.188393  ,  3.1968725 ,  2.3881316 ,  2.2496083 ,  2.4753566 ,\n",
              "         6.041578  ,  8.439023  ,  8.637888  ,  5.332039  ,  3.2036862 ,\n",
              "         1.9459721 ,  2.1443307 ,  5.6692505 ,  2.0962257 ,  1.7800461 ,\n",
              "         1.407284  ,  1.8970221 ,  1.9318614 ,  3.3985398 ,  3.313738  ,\n",
              "         4.3262234 ,  5.088406  ,  2.1455972 ,  1.972474  ,  2.5772202 ,\n",
              "         2.282543  ,  2.1653144 ,  1.3698274 ,  1.7898864 ,  1.3244064 ,\n",
              "         1.8282804 ,  2.4028273 ,  3.2646942 ,  3.8773656 ,  5.4958324 ,\n",
              "         3.4488316 ,  2.4540136 ,  1.6228799 ,  1.1681089 ,  1.518557  ,\n",
              "         1.9734446 ,  1.5154809 ,  1.0425563 ,  0.9211749 ,  1.1535066 ,\n",
              "         1.5925292 ,  1.9924899 ,  1.1885684 ,  1.3774415 ,  2.1676    ,\n",
              "         1.9941568 ,  1.7184576 ,  1.2035304 ,  1.5383513 ,  1.1684935 ,\n",
              "         1.4315082 ,  0.9096137 ,  1.1558803 ,  1.5439155 ,  2.5974839 ,\n",
              "         3.538156  ,  6.580897  ,  6.981794  ,  7.1021795 ,  8.166446  ,\n",
              "        10.013298  , 11.999641  , 11.514841  ,  4.5630817 ,  1.8976822 ,\n",
              "         2.0262787 ,  1.7585042 ,  1.8951008 ,  3.8207736 ,  0.8595097 ,\n",
              "         1.705223  ,  1.8456632 ,  1.4638524 ,  2.7885923 ,  1.7772175 ,\n",
              "         2.6276376 ,  2.2358406 ,  3.4605582 ,  1.1997932 ,  2.2579772 ,\n",
              "         1.7141398 ,  2.419533  ,  2.2174368 ,  2.6749315 ,  2.9675546 ,\n",
              "         4.1642547 ,  3.1287665 ,  2.8577302 ,  3.1233544 ,  2.8497825 ,\n",
              "         2.742012  ,  2.0708392 ,  0.84628344,  1.8057084 ,  3.0700376 ,\n",
              "         4.5143905 ,  6.2374454 ,  8.8702345 , 10.665321  , 14.6929    ,\n",
              "        13.493207  ,  8.160169  ,  4.9147844 ,  1.2227676 ,  2.3855312 ,\n",
              "         1.7997543 ,  3.7763524 ,  4.108848  ,  3.8193877 ,  3.3034115 ,\n",
              "         4.1056733 ,  4.211388  ,  3.1015065 ,  2.7873213 ,  3.8701892 ,\n",
              "         4.139613  ,  3.6022391 ,  4.0614986 ,  2.5806057 ,  1.1917816 ,\n",
              "         1.1055753 ,  3.1251833 ,  1.5323625 ,  1.7580217 ,  2.3691547 ,\n",
              "         2.2365732 ,  2.8822284 ,  2.5799086 ,  2.5112498 ,  1.294893  ,\n",
              "         1.2046152 ,  1.7207991 ,  2.5633233 ,  3.8379073 ,  5.203482  ,\n",
              "         6.555993  ,  5.440877  ,  4.1586585 ,  2.0611985 ,  1.7198076 ,\n",
              "         2.5394561 ,  1.8394845 ,  2.3873243 ,  4.1270328 ,  5.6013713 ,\n",
              "         8.289042  ,  9.418977  ,  9.00566   ,  9.31025   ,  3.0694914 ,\n",
              "         1.8440217 ,  1.2499254 ,  1.7999454 ,  1.3211478 ,  1.5008128 ,\n",
              "         1.4068861 ,  0.91843885,  2.7067385 ,  4.1458435 ,  4.0455885 ,\n",
              "         5.5051026 ,  7.1050158 ,  7.5470843 ,  6.783769  ,  2.4601388 ,\n",
              "         2.0497527 ,  2.5415761 ,  1.5972795 ,  2.453139  ,  4.5703506 ,\n",
              "         5.545855  ,  4.474286  ,  5.6491117 ,  6.675617  ,  9.655954  ,\n",
              "         8.754648  ,  5.549138  ,  3.185133  ,  2.62001   ,  3.644838  ,\n",
              "         5.561718  ,  6.357686  ,  6.025042  ,  6.249947  ,  5.0673366 ,\n",
              "         3.7158132 ,  7.4485025 ,  6.7571006 ,  5.8095155 ,  1.695453  ,\n",
              "         1.4655322 ,  2.8694575 ,  4.3444715 ,  4.5007067 ,  4.642116  ,\n",
              "         3.9794705 ,  3.0901084 ,  1.8068999 ,  3.7172382 ,  7.188772  ,\n",
              "        12.143102  , 12.713988  , 13.544316  , 15.06606   , 15.551498  ,\n",
              "         9.944791  ,  2.69009   ,  1.9635956 ,  3.0842576 ,  3.9306958 ,\n",
              "         4.4459987 ,  6.1652327 ,  8.761196  , 11.059264  , 10.980787  ,\n",
              "         8.501553  ,  8.651978  ,  9.318187  , 10.709409  ,  9.282468  ,\n",
              "        10.844646  , 13.6191    , 12.143683  , 10.922445  , 11.836801  ,\n",
              "         9.049706  ,  7.2836027 ,  6.8503313 ,  9.245782  , 13.420899  ,\n",
              "        12.665957  ,  4.469214  ,  2.3677294 ,  2.6387355 ,  7.7059045 ,\n",
              "         7.8819947 ,  7.2384796 , 10.35961   , 11.022562  , 12.226934  ,\n",
              "        12.256406  ,  3.936506  ,  2.9860237 ,  3.720302  ,  2.7677069 ,\n",
              "         4.3140326 ,  5.8512516 ,  8.806177  ,  7.804239  ,  6.3570795 ,\n",
              "         5.9908776 ,  7.7786245 ,  9.868031  , 12.212283  , 10.946823  ,\n",
              "        13.533539  , 14.524259  , 13.019814  , 15.34688   , 10.346727  ,\n",
              "         2.6988564 ,  3.0186923 ,  2.30289   ,  4.388408  ,  3.5009856 ,\n",
              "         5.639703  ,  5.5887136 ,  5.6701736 ,  5.6382756 ,  6.601115  ,\n",
              "         9.686195  , 13.999759  , 20.923635  , 20.217497  , 10.45117   ,\n",
              "         6.2507586 ,  3.5259047 ,  2.6636481 ,  4.7415695 ,  8.634233  ,\n",
              "         4.6447873 ,  6.1216917 ,  4.73701   ,  6.544038  ,  8.364329  ,\n",
              "        10.571606  ,  9.901437  , 11.061103  ,  7.565485  ,  5.0434036 ,\n",
              "         2.6272821 ,  3.1636589 ,  2.4913979 ,  5.022012  ,  4.0712543 ,\n",
              "         3.1751714 ,  7.0414095 ,  8.184285  ,  9.597244  ,  9.287139  ,\n",
              "         9.812079  ,  3.321845  ,  2.6412005 ,  4.483081  ,  6.7759523 ,\n",
              "         6.5213585 ,  3.9419372 ,  4.4032993 ,  4.0473657 ,  1.7314106 ,\n",
              "         2.0637903 ,  1.9845667 ,  2.0781357 ,  1.8633707 ,  1.6395116 ,\n",
              "         1.5159665 ,  1.9712697 ,  5.38585   ,  6.3513494 ,  6.4570403 ,\n",
              "         4.2869473 ,  4.1724715 ,  5.5732317 ,  7.1470804 , 11.052394  ,\n",
              "        13.657419  , 15.895995  , 15.709554  , 12.225657  ,  9.426982  ,\n",
              "         8.002733  ,  4.5670433 ,  3.5495856 ,  5.3791084 ,  7.32555   ,\n",
              "        10.59282   ,  8.403698  ,  3.1233547 ,  3.3918135 ,  3.903454  ,\n",
              "         2.4894369 ,  3.2295828 ,  1.6939604 ,  2.233554  ,  3.519792  ,\n",
              "         3.9395187 ,  4.960914  ,  7.042824  , 10.691951  , 14.934288  ,\n",
              "        17.704533  ], dtype=float32),\n",
              " 'mase': 2.1934166}"
            ]
          },
          "metadata": {},
          "execution_count": 58
        }
      ]
    },
    {
      "cell_type": "markdown",
      "source": [
        "### Make our evaluation function work for larger horizon"
      ],
      "metadata": {
        "id": "CwvC3Slwgqh9"
      }
    },
    {
      "cell_type": "code",
      "source": [
        "def evaluate_preds(y_true, y_pred):\n",
        "\n",
        "  y_true = tf.cast(y_true, dtype=tf.float32)\n",
        "  y_pred = tf.cast(y_pred, dtype=tf.float32)\n",
        "\n",
        "  # Calculate various metrics\n",
        "  mae = tf.keras.metrics.mean_absolute_error(y_true, y_pred)\n",
        "  mse = tf.keras.metrics.mean_squared_error(y_true, y_pred)\n",
        "  rmse = tf.sqrt(mse)\n",
        "  mape = tf.keras.metrics.mean_absolute_percentage_error(y_true, y_pred)\n",
        "  mase = mean_absolute_scaled_error(y_true, y_pred)\n",
        "\n",
        "  # Account for different sized metrics (for longer horizons, reduce to single number)\n",
        "  if mae.ndim > 0:\n",
        "    mae = tf.reduce_mean(mae)\n",
        "    mse = tf.reduce_mean(mse)\n",
        "    rmse = tf.reduce_mean(rmse)\n",
        "    mape = tf.reduce_mean(mape)\n",
        "    mase = tf.reduce_mean(mase)\n",
        "  \n",
        "  return {\"mae\": mae.numpy(),\n",
        "          \"mse\": mse.numpy(),\n",
        "          \"rmse\": rmse.numpy(),\n",
        "          \"mape\": mape.numpy(),\n",
        "          \"mase\": mase.numpy()}"
      ],
      "metadata": {
        "id": "j4DMzHTQgo34"
      },
      "execution_count": 59,
      "outputs": []
    },
    {
      "cell_type": "code",
      "source": [
        "# Get model_3 reults\n",
        "\n",
        "model_3_results = evaluate_preds(y_true=tf.squeeze(test_labels),\n",
        "                                 y_pred=model_3_preds)\n",
        "model_3_results"
      ],
      "metadata": {
        "colab": {
          "base_uri": "https://localhost:8080/"
        },
        "id": "Arofte_zqBA0",
        "outputId": "6727b289-f370-4e3b-f060-b36a15bece62"
      },
      "execution_count": 60,
      "outputs": [
        {
          "output_type": "execute_result",
          "data": {
            "text/plain": [
              "{'mae': 1232.6414,\n",
              " 'mse': 5310878.0,\n",
              " 'rmse': 1413.7439,\n",
              " 'mape': 5.552762,\n",
              " 'mase': 2.1934166}"
            ]
          },
          "metadata": {},
          "execution_count": 60
        }
      ]
    },
    {
      "cell_type": "code",
      "source": [
        "offset = 300\n",
        "plt.figure(figsize=(10, 7))\n",
        "plot_time_series(timesteps=X_test[-len(test_windows):], values=test_labels[:, 0], start=offset, label=\"Test_data\")\n",
        "plot_time_series(timesteps=X_test[-len(test_windows):], values=model_3_preds, start=offset, label=\"model_3_preds\")"
      ],
      "metadata": {
        "colab": {
          "base_uri": "https://localhost:8080/",
          "height": 442
        },
        "id": "GLQqy275i5ws",
        "outputId": "1a3c989c-521b-4bda-9067-dde674300ffa"
      },
      "execution_count": 61,
      "outputs": [
        {
          "output_type": "display_data",
          "data": {
            "text/plain": [
              "<Figure size 720x504 with 1 Axes>"
            ],
            "image/png": "[encoded data removed]"
          },
          "metadata": {
            "needs_background": "light"
          }
        }
      ]
    },
    {
      "cell_type": "code",
      "source": [
        "offset = 300\n",
        "plt.figure(figsize=(10, 7))\n",
        "\n",
        "plot_time_series(timesteps=X_test[-len(test_windows):], values=test_labels[:, 0], start=offset, label=\"Test_data\")\n",
        "plot_time_series(timesteps=X_test[-len(test_windows):], values=tf.reduce_mean(model_3_preds, axis=1), format=\"-\", start=offset, label=\"model_3_preds\")"
      ],
      "metadata": {
        "colab": {
          "base_uri": "https://localhost:8080/",
          "height": 442
        },
        "id": "Af7CA625kKdT",
        "outputId": "b8fa001e-9aaf-4043-cd71-c7a9db651735"
      },
      "execution_count": 62,
      "outputs": [
        {
          "output_type": "display_data",
          "data": {
            "text/plain": [
              "<Figure size 720x504 with 1 Axes>"
            ],
            "image/png": "[encoded data removed]"
          },
          "metadata": {
            "needs_background": "light"
          }
        }
      ]
    },
    {
      "cell_type": "markdown",
      "source": [
        "### Which of our model is performing best so far?"
      ],
      "metadata": {
        "id": "jgqQHhlUlY2t"
      }
    },
    {
      "cell_type": "code",
      "source": [
        "pd.DataFrame({\"naive\":naive_results[\"mae\"],\n",
        "              \"horizon_1_window_7\":model_1_results[\"mae\"],\n",
        "              \"horizon_1_window_30\":model_2_results[\"mae\"],\n",
        "              \"horizon_7_window_30\":model_3_results[\"mae\"]}, index=[\"mae\"]).plot(figsize=(10, 7), kind=\"bar\");"
      ],
      "metadata": {
        "colab": {
          "base_uri": "https://localhost:8080/",
          "height": 440
        },
        "id": "Lt5kCSf3lQuq",
        "outputId": "00ea56ef-4ab7-4c2f-a72b-2021ae0d227b"
      },
      "execution_count": 63,
      "outputs": [
        {
          "output_type": "display_data",
          "data": {
            "text/plain": [
              "<Figure size 720x504 with 1 Axes>"
            ],
            "image/png": "[encoded data removed]"
          },
          "metadata": {
            "needs_background": "light"
          }
        }
      ]
    },
    {
      "cell_type": "markdown",
      "source": [
        "### Model 4: Conv1D"
      ],
      "metadata": {
        "id": "bqiioIHprHPT"
      }
    },
    {
      "cell_type": "code",
      "source": [
        "HORIZON = 1\n",
        "WINDOW_SIZE = 7"
      ],
      "metadata": {
        "id": "Ym3K51QArFt9"
      },
      "execution_count": 64,
      "outputs": []
    },
    {
      "cell_type": "code",
      "source": [
        "# Create windowed dataset\n",
        "\n",
        "full_windows, full_labels = make_windows(prices, window_size=WINDOW_SIZE, horizon=HORIZON)\n",
        "len(full_windows), len(full_labels)"
      ],
      "metadata": {
        "colab": {
          "base_uri": "https://localhost:8080/"
        },
        "id": "0t3St3dBn4nj",
        "outputId": "845a9c03-7923-435a-f2c2-7757717f1bf2"
      },
      "execution_count": 65,
      "outputs": [
        {
          "output_type": "execute_result",
          "data": {
            "text/plain": [
              "(2780, 2780)"
            ]
          },
          "metadata": {},
          "execution_count": 65
        }
      ]
    },
    {
      "cell_type": "code",
      "source": [
        "# Create test/train splits\n",
        "\n",
        "train_windows, test_windows, train_labels, test_labels = make_train_test_split(full_windows, full_labels)\n",
        "len(train_windows), len(test_windows), len(train_labels), len(test_labels)"
      ],
      "metadata": {
        "colab": {
          "base_uri": "https://localhost:8080/"
        },
        "id": "aV5yNJHprqYK",
        "outputId": "f7ab513f-378e-4ccf-99fa-b1e6a3d896f8"
      },
      "execution_count": 66,
      "outputs": [
        {
          "output_type": "execute_result",
          "data": {
            "text/plain": [
              "(2224, 556, 2224, 556)"
            ]
          },
          "metadata": {},
          "execution_count": 66
        }
      ]
    },
    {
      "cell_type": "code",
      "source": [
        "# Check data sample shapes\n",
        "train_windows[0].shape"
      ],
      "metadata": {
        "colab": {
          "base_uri": "https://localhost:8080/"
        },
        "id": "S_8P7sF4sFDc",
        "outputId": "eeea2da5-c3df-46f0-99a4-6e01ee142341"
      },
      "execution_count": 67,
      "outputs": [
        {
          "output_type": "execute_result",
          "data": {
            "text/plain": [
              "(7,)"
            ]
          },
          "metadata": {},
          "execution_count": 67
        }
      ]
    },
    {
      "cell_type": "code",
      "source": [
        "# Before we pass our data to conv1D, we have to reshape it to make sure it works\n",
        "\n",
        "x = tf.constant(train_windows[0])\n",
        "expand_dims_layer = layers.Lambda(lambda x: tf.expand_dims(x, axis=1))\n",
        "print(f\"Original shape: {x.shape}\")\n",
        "print(f\"Expanded shape: {expand_dims_layer(x).shape}\")\n",
        "print(f\"Original values with Expanded shape:\\n{expand_dims_layer(x)}\")"
      ],
      "metadata": {
        "colab": {
          "base_uri": "https://localhost:8080/"
        },
        "id": "PHIJtSOfsNj4",
        "outputId": "0aa25b93-f067-4eb8-fce8-0f70350e14b3"
      },
      "execution_count": 68,
      "outputs": [
        {
          "output_type": "stream",
          "name": "stdout",
          "text": [
            "Original shape: (7,)\n",
            "Expanded shape: (7, 1)\n",
            "Original values with Expanded shape:\n",
            "[[123.65499]\n",
            " [125.455  ]\n",
            " [108.58483]\n",
            " [118.67466]\n",
            " [121.33866]\n",
            " [120.65533]\n",
            " [121.795  ]]\n"
          ]
        }
      ]
    },
    {
      "cell_type": "code",
      "source": [
        "tf.random.set_seed(42)\n",
        "\n",
        "# Create model\n",
        "model_4 = tf.keras.Sequential([\n",
        "    layers.Lambda(lambda x: tf.expand_dims(x, axis=1)),\n",
        "    layers.Conv1D(filters=128, kernel_size=5, padding=\"causal\", activation=\"relu\"),\n",
        "    layers.Dense(HORIZON)\n",
        "], name=\"model_4_Conv1D\")\n",
        "\n",
        "model_4.compile(loss=\"mae\",\n",
        "                optimizer=tf.keras.optimizers.Adam())\n",
        "\n",
        "model_4.fit(train_windows,\n",
        "            train_labels,\n",
        "            epochs=100,\n",
        "            batch_size=128,\n",
        "            verbose=0,\n",
        "            validation_data=(test_windows, test_labels),\n",
        "            callbacks=[create_model_checkpoint(model_name=model_4.name)])"
      ],
      "metadata": {
        "colab": {
          "base_uri": "https://localhost:8080/"
        },
        "id": "twTXCGyStPyz",
        "outputId": "f50be280-9993-4953-dfb6-e4d8c288647a"
      },
      "execution_count": 69,
      "outputs": [
        {
          "output_type": "stream",
          "name": "stderr",
          "text": [
            "WARNING:absl:Found untraced functions such as _jit_compiled_convolution_op, _update_step_xla while saving (showing 2 of 2). These functions will not be directly callable after loading.\n",
            "WARNING:absl:Found untraced functions such as _jit_compiled_convolution_op, _update_step_xla while saving (showing 2 of 2). These functions will not be directly callable after loading.\n",
            "WARNING:absl:Found untraced functions such as _jit_compiled_convolution_op, _update_step_xla while saving (showing 2 of 2). These functions will not be directly callable after loading.\n",
            "WARNING:absl:Found untraced functions such as _jit_compiled_convolution_op, _update_step_xla while saving (showing 2 of 2). These functions will not be directly callable after loading.\n",
            "WARNING:absl:Found untraced functions such as _jit_compiled_convolution_op, _update_step_xla while saving (showing 2 of 2). These functions will not be directly callable after loading.\n",
            "WARNING:absl:Found untraced functions such as _jit_compiled_convolution_op, _update_step_xla while saving (showing 2 of 2). These functions will not be directly callable after loading.\n",
            "WARNING:absl:Found untraced functions such as _jit_compiled_convolution_op, _update_step_xla while saving (showing 2 of 2). These functions will not be directly callable after loading.\n",
            "WARNING:absl:Found untraced functions such as _jit_compiled_convolution_op, _update_step_xla while saving (showing 2 of 2). These functions will not be directly callable after loading.\n",
            "WARNING:absl:Found untraced functions such as _jit_compiled_convolution_op, _update_step_xla while saving (showing 2 of 2). These functions will not be directly callable after loading.\n",
            "WARNING:absl:Found untraced functions such as _jit_compiled_convolution_op, _update_step_xla while saving (showing 2 of 2). These functions will not be directly callable after loading.\n",
            "WARNING:absl:Found untraced functions such as _jit_compiled_convolution_op, _update_step_xla while saving (showing 2 of 2). These functions will not be directly callable after loading.\n",
            "WARNING:absl:Found untraced functions such as _jit_compiled_convolution_op, _update_step_xla while saving (showing 2 of 2). These functions will not be directly callable after loading.\n",
            "WARNING:absl:Found untraced functions such as _jit_compiled_convolution_op, _update_step_xla while saving (showing 2 of 2). These functions will not be directly callable after loading.\n",
            "WARNING:absl:Found untraced functions such as _jit_compiled_convolution_op, _update_step_xla while saving (showing 2 of 2). These functions will not be directly callable after loading.\n",
            "WARNING:absl:Found untraced functions such as _jit_compiled_convolution_op, _update_step_xla while saving (showing 2 of 2). These functions will not be directly callable after loading.\n",
            "WARNING:absl:Found untraced functions such as _jit_compiled_convolution_op, _update_step_xla while saving (showing 2 of 2). These functions will not be directly callable after loading.\n",
            "WARNING:absl:Found untraced functions such as _jit_compiled_convolution_op, _update_step_xla while saving (showing 2 of 2). These functions will not be directly callable after loading.\n",
            "WARNING:absl:Found untraced functions such as _jit_compiled_convolution_op, _update_step_xla while saving (showing 2 of 2). These functions will not be directly callable after loading.\n",
            "WARNING:absl:Found untraced functions such as _jit_compiled_convolution_op, _update_step_xla while saving (showing 2 of 2). These functions will not be directly callable after loading.\n",
            "WARNING:absl:Found untraced functions such as _jit_compiled_convolution_op, _update_step_xla while saving (showing 2 of 2). These functions will not be directly callable after loading.\n",
            "WARNING:absl:Found untraced functions such as _jit_compiled_convolution_op, _update_step_xla while saving (showing 2 of 2). These functions will not be directly callable after loading.\n",
            "WARNING:absl:Found untraced functions such as _jit_compiled_convolution_op, _update_step_xla while saving (showing 2 of 2). These functions will not be directly callable after loading.\n",
            "WARNING:absl:Found untraced functions such as _jit_compiled_convolution_op, _update_step_xla while saving (showing 2 of 2). These functions will not be directly callable after loading.\n",
            "WARNING:absl:Found untraced functions such as _jit_compiled_convolution_op, _update_step_xla while saving (showing 2 of 2). These functions will not be directly callable after loading.\n",
            "WARNING:absl:Found untraced functions such as _jit_compiled_convolution_op, _update_step_xla while saving (showing 2 of 2). These functions will not be directly callable after loading.\n",
            "WARNING:absl:Found untraced functions such as _jit_compiled_convolution_op, _update_step_xla while saving (showing 2 of 2). These functions will not be directly callable after loading.\n",
            "WARNING:absl:Found untraced functions such as _jit_compiled_convolution_op, _update_step_xla while saving (showing 2 of 2). These functions will not be directly callable after loading.\n",
            "WARNING:absl:Found untraced functions such as _jit_compiled_convolution_op, _update_step_xla while saving (showing 2 of 2). These functions will not be directly callable after loading.\n",
            "WARNING:absl:Found untraced functions such as _jit_compiled_convolution_op, _update_step_xla while saving (showing 2 of 2). These functions will not be directly callable after loading.\n",
            "WARNING:absl:Found untraced functions such as _jit_compiled_convolution_op, _update_step_xla while saving (showing 2 of 2). These functions will not be directly callable after loading.\n",
            "WARNING:absl:Found untraced functions such as _jit_compiled_convolution_op, _update_step_xla while saving (showing 2 of 2). These functions will not be directly callable after loading.\n",
            "WARNING:absl:Found untraced functions such as _jit_compiled_convolution_op, _update_step_xla while saving (showing 2 of 2). These functions will not be directly callable after loading.\n",
            "WARNING:absl:Found untraced functions such as _jit_compiled_convolution_op, _update_step_xla while saving (showing 2 of 2). These functions will not be directly callable after loading.\n",
            "WARNING:absl:Found untraced functions such as _jit_compiled_convolution_op, _update_step_xla while saving (showing 2 of 2). These functions will not be directly callable after loading.\n",
            "WARNING:absl:Found untraced functions such as _jit_compiled_convolution_op, _update_step_xla while saving (showing 2 of 2). These functions will not be directly callable after loading.\n",
            "WARNING:absl:Found untraced functions such as _jit_compiled_convolution_op, _update_step_xla while saving (showing 2 of 2). These functions will not be directly callable after loading.\n",
            "WARNING:absl:Found untraced functions such as _jit_compiled_convolution_op, _update_step_xla while saving (showing 2 of 2). These functions will not be directly callable after loading.\n",
            "WARNING:absl:Found untraced functions such as _jit_compiled_convolution_op, _update_step_xla while saving (showing 2 of 2). These functions will not be directly callable after loading.\n",
            "WARNING:absl:Found untraced functions such as _jit_compiled_convolution_op, _update_step_xla while saving (showing 2 of 2). These functions will not be directly callable after loading.\n",
            "WARNING:absl:Found untraced functions such as _jit_compiled_convolution_op, _update_step_xla while saving (showing 2 of 2). These functions will not be directly callable after loading.\n",
            "WARNING:absl:Found untraced functions such as _jit_compiled_convolution_op, _update_step_xla while saving (showing 2 of 2). These functions will not be directly callable after loading.\n",
            "WARNING:absl:Found untraced functions such as _jit_compiled_convolution_op, _update_step_xla while saving (showing 2 of 2). These functions will not be directly callable after loading.\n",
            "WARNING:absl:Found untraced functions such as _jit_compiled_convolution_op, _update_step_xla while saving (showing 2 of 2). These functions will not be directly callable after loading.\n",
            "WARNING:absl:Found untraced functions such as _jit_compiled_convolution_op, _update_step_xla while saving (showing 2 of 2). These functions will not be directly callable after loading.\n",
            "WARNING:absl:Found untraced functions such as _jit_compiled_convolution_op, _update_step_xla while saving (showing 2 of 2). These functions will not be directly callable after loading.\n"
          ]
        },
        {
          "output_type": "execute_result",
          "data": {
            "text/plain": [
              "<keras.callbacks.History at 0x7f59c01cecd0>"
            ]
          },
          "metadata": {},
          "execution_count": 69
        }
      ]
    },
    {
      "cell_type": "code",
      "source": [
        "model_4.summary()"
      ],
      "metadata": {
        "colab": {
          "base_uri": "https://localhost:8080/"
        },
        "id": "Gum5uvq2vAMq",
        "outputId": "6445868f-2fc8-4408-f49c-5830b81e08ce"
      },
      "execution_count": 70,
      "outputs": [
        {
          "output_type": "stream",
          "name": "stdout",
          "text": [
            "Model: \"model_4_Conv1D\"\n",
            "_________________________________________________________________\n",
            " Layer (type)                Output Shape              Param #   \n",
            "=================================================================\n",
            " lambda_1 (Lambda)           (None, 1, 7)              0         \n",
            "                                                                 \n",
            " conv1d (Conv1D)             (None, 1, 128)            4608      \n",
            "                                                                 \n",
            " dense_6 (Dense)             (None, 1, 1)              129       \n",
            "                                                                 \n",
            "=================================================================\n",
            "Total params: 4,737\n",
            "Trainable params: 4,737\n",
            "Non-trainable params: 0\n",
            "_________________________________________________________________\n"
          ]
        }
      ]
    },
    {
      "cell_type": "code",
      "source": [
        "model_4 = tf.keras.models.load_model(\"model_experiments/model_4_Conv1D\")\n",
        "model_4.evaluate(test_windows, test_labels)"
      ],
      "metadata": {
        "colab": {
          "base_uri": "https://localhost:8080/"
        },
        "id": "BCjk18CQvOaf",
        "outputId": "ca27e131-4e06-4393-df22-cb05eda27f9b"
      },
      "execution_count": 71,
      "outputs": [
        {
          "output_type": "stream",
          "name": "stdout",
          "text": [
            "18/18 [==============================] - 0s 6ms/step - loss: 571.7881\n"
          ]
        },
        {
          "output_type": "execute_result",
          "data": {
            "text/plain": [
              "571.7880859375"
            ]
          },
          "metadata": {},
          "execution_count": 71
        }
      ]
    },
    {
      "cell_type": "code",
      "source": [
        "# Make predictions\n",
        "model_4_preds = make_preds(model_4, test_windows)\n",
        "model_4_preds[:5]"
      ],
      "metadata": {
        "colab": {
          "base_uri": "https://localhost:8080/"
        },
        "id": "-RmLkclPvlBv",
        "outputId": "1ee1dd5e-9327-46be-f2b9-17bcf95485b6"
      },
      "execution_count": 72,
      "outputs": [
        {
          "output_type": "stream",
          "name": "stdout",
          "text": [
            "18/18 [==============================] - 0s 3ms/step\n"
          ]
        },
        {
          "output_type": "execute_result",
          "data": {
            "text/plain": [
              "<tf.Tensor: shape=(5,), dtype=float32, numpy=array([8908.594, 8803.561, 9003.196, 8807.232, 8763.711], dtype=float32)>"
            ]
          },
          "metadata": {},
          "execution_count": 72
        }
      ]
    },
    {
      "cell_type": "code",
      "source": [
        "# Evaluate predictions\n",
        "\n",
        "model_4_results = evaluate_preds(y_true=tf.squeeze(test_labels),\n",
        "                                 y_pred=model_4_preds)\n",
        "model_4_results"
      ],
      "metadata": {
        "colab": {
          "base_uri": "https://localhost:8080/"
        },
        "id": "nOsYGyyCwCuM",
        "outputId": "5712f58c-619d-43f7-8711-ccdedc848a2b"
      },
      "execution_count": 73,
      "outputs": [
        {
          "output_type": "execute_result",
          "data": {
            "text/plain": [
              "{'mae': 571.788,\n",
              " 'mse': 1185819.9,\n",
              " 'rmse': 1088.9535,\n",
              " 'mape': 2.573925,\n",
              " 'mase': 1.0044732}"
            ]
          },
          "metadata": {},
          "execution_count": 73
        }
      ]
    },
    {
      "cell_type": "markdown",
      "source": [
        "### Model 5: RNN (LSTM)"
      ],
      "metadata": {
        "id": "xXuT7doY60To"
      }
    },
    {
      "cell_type": "code",
      "source": [
        "tf.random.set_seed(42)\n",
        "\n",
        "# Let's an LSTM model with the functional API\n",
        "inputs = layers.Input(shape=(WINDOW_SIZE))\n",
        "x = layers.Lambda(lambda x: tf.expand_dims(x, axis=1))(inputs)\n",
        "# print(x.shape)\n",
        "# x= layers.LSTM(128, activation=\"relu\", return_sequences=True)(x)\n",
        "x = layers.LSTM(128, activation=\"relu\")(x)\n",
        "# print(x.shape)\n",
        "# Add another optional dense layer\n",
        "# x = layers.Dense(32, activation=\"relu\")(x)\n",
        "output = layers.Dense(HORIZON)(x)\n",
        "model_5 = tf.keras.Model(inputs=inputs, outputs=output, name=\"model_5_lstm\")\n",
        "\n",
        "# Compile the model\n",
        "model_5.compile(loss=\"mae\",\n",
        "                optimizer=tf.keras.optimizers.Adam())\n",
        "\n",
        "# Fit the model\n",
        "model_5.fit(train_windows,\n",
        "            train_labels,\n",
        "            epochs=100,\n",
        "            batch_size=128,\n",
        "            validation_data=(test_windows, test_labels),\n",
        "            callbacks=[create_model_checkpoint(model_name=model_5.name)])"
      ],
      "metadata": {
        "id": "sTvPilMzwWGT",
        "colab": {
          "base_uri": "https://localhost:8080/"
        },
        "outputId": "518e54f8-4e37-4089-894f-2be9d4c4e2e6"
      },
      "execution_count": 74,
      "outputs": [
        {
          "output_type": "stream",
          "name": "stderr",
          "text": [
            "WARNING:tensorflow:Layer lstm will not use cuDNN kernels since it doesn't meet the criteria. It will use a generic GPU kernel as fallback when running on GPU.\n"
          ]
        },
        {
          "output_type": "stream",
          "name": "stdout",
          "text": [
            "Epoch 1/100\n",
            "18/18 [==============================] - 5s 144ms/step - loss: 2615.3599 - val_loss: 12560.2021\n",
            "Epoch 2/100\n",
            "18/18 [==============================] - 2s 117ms/step - loss: 1330.4453 - val_loss: 3226.8491\n",
            "Epoch 3/100\n",
            "18/18 [==============================] - 2s 102ms/step - loss: 301.4684 - val_loss: 1175.2505\n",
            "Epoch 4/100\n",
            "18/18 [==============================] - 2s 99ms/step - loss: 205.7865 - val_loss: 1023.1624\n",
            "Epoch 5/100\n",
            "18/18 [==============================] - 0s 7ms/step - loss: 186.9764 - val_loss: 1075.0503\n",
            "Epoch 6/100\n",
            "18/18 [==============================] - 2s 113ms/step - loss: 181.7324 - val_loss: 1012.5096\n",
            "Epoch 7/100\n",
            "18/18 [==============================] - 0s 8ms/step - loss: 180.6824 - val_loss: 1017.7596\n",
            "Epoch 8/100\n",
            "18/18 [==============================] - 0s 8ms/step - loss: 178.7864 - val_loss: 1020.5007\n",
            "Epoch 9/100\n",
            "18/18 [==============================] - 0s 14ms/step - loss: 177.5429 - val_loss: 1015.8189\n",
            "Epoch 10/100\n",
            "18/18 [==============================] - 3s 204ms/step - loss: 176.5626 - val_loss: 1000.2639\n",
            "Epoch 11/100\n",
            "18/18 [==============================] - 0s 9ms/step - loss: 177.0390 - val_loss: 1010.1943\n",
            "Epoch 12/100\n",
            "18/18 [==============================] - 3s 185ms/step - loss: 174.5811 - val_loss: 992.0800\n",
            "Epoch 13/100\n",
            "18/18 [==============================] - 2s 127ms/step - loss: 163.4058 - val_loss: 915.1251\n",
            "Epoch 14/100\n",
            "18/18 [==============================] - 3s 181ms/step - loss: 159.2898 - val_loss: 809.4803\n",
            "Epoch 15/100\n",
            "18/18 [==============================] - 0s 16ms/step - loss: 156.2142 - val_loss: 1048.8621\n",
            "Epoch 16/100\n",
            "18/18 [==============================] - 0s 9ms/step - loss: 168.5360 - val_loss: 935.5566\n",
            "Epoch 17/100\n",
            "18/18 [==============================] - 0s 12ms/step - loss: 165.7137 - val_loss: 999.9367\n",
            "Epoch 18/100\n",
            "18/18 [==============================] - 0s 12ms/step - loss: 165.6481 - val_loss: 977.4136\n",
            "Epoch 19/100\n",
            "18/18 [==============================] - 0s 22ms/step - loss: 163.3174 - val_loss: 960.1052\n",
            "Epoch 20/100\n",
            "18/18 [==============================] - 1s 35ms/step - loss: 161.9081 - val_loss: 900.8209\n",
            "Epoch 21/100\n",
            "18/18 [==============================] - 1s 38ms/step - loss: 160.0430 - val_loss: 903.3174\n",
            "Epoch 22/100\n",
            "18/18 [==============================] - 1s 34ms/step - loss: 158.4894 - val_loss: 903.5259\n",
            "Epoch 23/100\n",
            "18/18 [==============================] - 1s 38ms/step - loss: 157.9762 - val_loss: 938.0856\n",
            "Epoch 24/100\n",
            "18/18 [==============================] - 0s 12ms/step - loss: 155.8035 - val_loss: 896.0978\n",
            "Epoch 25/100\n",
            "18/18 [==============================] - 0s 8ms/step - loss: 154.4350 - val_loss: 860.3559\n",
            "Epoch 26/100\n",
            "18/18 [==============================] - 0s 14ms/step - loss: 152.3148 - val_loss: 868.3051\n",
            "Epoch 27/100\n",
            "18/18 [==============================] - 0s 13ms/step - loss: 150.5914 - val_loss: 851.3741\n",
            "Epoch 28/100\n",
            "18/18 [==============================] - 0s 14ms/step - loss: 149.2939 - val_loss: 833.9931\n",
            "Epoch 29/100\n",
            "18/18 [==============================] - 0s 12ms/step - loss: 148.1869 - val_loss: 843.2358\n",
            "Epoch 30/100\n",
            "18/18 [==============================] - 0s 8ms/step - loss: 148.2240 - val_loss: 859.7167\n",
            "Epoch 31/100\n",
            "18/18 [==============================] - 0s 8ms/step - loss: 145.7575 - val_loss: 818.8797\n",
            "Epoch 32/100\n",
            "18/18 [==============================] - 0s 16ms/step - loss: 143.1313 - val_loss: 819.5237\n",
            "Epoch 33/100\n",
            "18/18 [==============================] - 0s 17ms/step - loss: 141.7991 - val_loss: 812.2708\n",
            "Epoch 34/100\n",
            "18/18 [==============================] - 2s 140ms/step - loss: 141.3439 - val_loss: 782.2065\n",
            "Epoch 35/100\n",
            "18/18 [==============================] - 0s 15ms/step - loss: 139.0222 - val_loss: 783.6144\n",
            "Epoch 36/100\n",
            "18/18 [==============================] - 4s 247ms/step - loss: 140.5342 - val_loss: 768.2472\n",
            "Epoch 37/100\n",
            "18/18 [==============================] - 0s 25ms/step - loss: 137.1865 - val_loss: 781.3093\n",
            "Epoch 38/100\n",
            "18/18 [==============================] - 4s 263ms/step - loss: 135.7078 - val_loss: 749.7211\n",
            "Epoch 39/100\n",
            "18/18 [==============================] - 4s 252ms/step - loss: 135.5714 - val_loss: 747.8743\n",
            "Epoch 40/100\n",
            "18/18 [==============================] - 0s 17ms/step - loss: 137.8337 - val_loss: 765.9633\n",
            "Epoch 41/100\n",
            "18/18 [==============================] - 3s 163ms/step - loss: 133.5439 - val_loss: 731.1669\n",
            "Epoch 42/100\n",
            "18/18 [==============================] - 0s 11ms/step - loss: 132.6385 - val_loss: 733.3384\n",
            "Epoch 43/100\n",
            "18/18 [==============================] - 4s 223ms/step - loss: 130.4276 - val_loss: 720.4066\n",
            "Epoch 44/100\n",
            "18/18 [==============================] - 2s 138ms/step - loss: 130.6802 - val_loss: 715.5503\n",
            "Epoch 45/100\n",
            "18/18 [==============================] - 3s 153ms/step - loss: 128.3857 - val_loss: 701.0532\n",
            "Epoch 46/100\n",
            "18/18 [==============================] - 0s 8ms/step - loss: 152.6272 - val_loss: 735.7771\n",
            "Epoch 47/100\n",
            "18/18 [==============================] - 0s 7ms/step - loss: 131.4731 - val_loss: 752.6786\n",
            "Epoch 48/100\n",
            "18/18 [==============================] - 0s 8ms/step - loss: 130.5741 - val_loss: 736.5695\n",
            "Epoch 49/100\n",
            "18/18 [==============================] - 0s 8ms/step - loss: 129.7577 - val_loss: 720.4362\n",
            "Epoch 50/100\n",
            "18/18 [==============================] - 0s 10ms/step - loss: 132.5197 - val_loss: 744.4698\n",
            "Epoch 51/100\n",
            "18/18 [==============================] - 0s 8ms/step - loss: 134.0149 - val_loss: 762.2763\n",
            "Epoch 52/100\n",
            "18/18 [==============================] - 3s 149ms/step - loss: 135.8186 - val_loss: 699.0606\n",
            "Epoch 53/100\n",
            "18/18 [==============================] - 4s 208ms/step - loss: 129.6888 - val_loss: 695.2288\n",
            "Epoch 54/100\n",
            "18/18 [==============================] - 0s 26ms/step - loss: 128.1182 - val_loss: 703.1235\n",
            "Epoch 55/100\n",
            "18/18 [==============================] - 0s 21ms/step - loss: 125.3863 - val_loss: 695.5438\n",
            "Epoch 56/100\n",
            "18/18 [==============================] - 3s 194ms/step - loss: 126.2534 - val_loss: 692.4899\n",
            "Epoch 57/100\n",
            "18/18 [==============================] - 3s 148ms/step - loss: 126.0450 - val_loss: 688.5217\n",
            "Epoch 58/100\n",
            "18/18 [==============================] - 4s 254ms/step - loss: 122.5850 - val_loss: 672.5145\n",
            "Epoch 59/100\n",
            "18/18 [==============================] - 4s 225ms/step - loss: 121.8313 - val_loss: 671.2014\n",
            "Epoch 60/100\n",
            "18/18 [==============================] - 0s 20ms/step - loss: 121.7108 - val_loss: 677.0927\n",
            "Epoch 61/100\n",
            "18/18 [==============================] - 0s 11ms/step - loss: 122.5755 - val_loss: 709.8533\n",
            "Epoch 62/100\n",
            "18/18 [==============================] - 0s 8ms/step - loss: 125.7215 - val_loss: 735.8668\n",
            "Epoch 63/100\n",
            "18/18 [==============================] - 0s 16ms/step - loss: 126.0511 - val_loss: 673.4026\n",
            "Epoch 64/100\n",
            "18/18 [==============================] - 3s 153ms/step - loss: 119.7904 - val_loss: 668.0539\n",
            "Epoch 65/100\n",
            "18/18 [==============================] - 2s 102ms/step - loss: 120.6517 - val_loss: 649.6978\n",
            "Epoch 66/100\n",
            "18/18 [==============================] - 0s 8ms/step - loss: 119.4579 - val_loss: 655.6374\n",
            "Epoch 67/100\n",
            "18/18 [==============================] - 2s 96ms/step - loss: 120.7946 - val_loss: 646.9230\n",
            "Epoch 68/100\n",
            "18/18 [==============================] - 2s 133ms/step - loss: 119.3008 - val_loss: 640.6354\n",
            "Epoch 69/100\n",
            "18/18 [==============================] - 0s 14ms/step - loss: 122.9470 - val_loss: 644.9156\n",
            "Epoch 70/100\n",
            "18/18 [==============================] - 2s 132ms/step - loss: 117.8013 - val_loss: 636.0964\n",
            "Epoch 71/100\n",
            "18/18 [==============================] - 0s 7ms/step - loss: 118.6827 - val_loss: 674.7867\n",
            "Epoch 72/100\n",
            "18/18 [==============================] - 0s 9ms/step - loss: 121.5638 - val_loss: 639.7081\n",
            "Epoch 73/100\n",
            "18/18 [==============================] - 0s 8ms/step - loss: 117.6985 - val_loss: 637.5801\n",
            "Epoch 74/100\n",
            "18/18 [==============================] - 0s 8ms/step - loss: 116.9396 - val_loss: 649.3839\n",
            "Epoch 75/100\n",
            "18/18 [==============================] - 0s 8ms/step - loss: 117.0435 - val_loss: 658.1271\n",
            "Epoch 76/100\n",
            "18/18 [==============================] - 0s 8ms/step - loss: 116.8953 - val_loss: 640.7150\n",
            "Epoch 77/100\n",
            "18/18 [==============================] - 0s 8ms/step - loss: 120.4004 - val_loss: 682.0027\n",
            "Epoch 78/100\n",
            "18/18 [==============================] - 2s 102ms/step - loss: 120.0665 - val_loss: 629.9231\n",
            "Epoch 79/100\n",
            "18/18 [==============================] - 2s 100ms/step - loss: 115.2139 - val_loss: 620.3787\n",
            "Epoch 80/100\n",
            "18/18 [==============================] - 0s 8ms/step - loss: 115.5162 - val_loss: 641.3428\n",
            "Epoch 81/100\n",
            "18/18 [==============================] - 0s 7ms/step - loss: 115.5468 - val_loss: 640.7067\n",
            "Epoch 82/100\n",
            "18/18 [==============================] - 0s 8ms/step - loss: 118.3012 - val_loss: 631.2250\n",
            "Epoch 83/100\n",
            "18/18 [==============================] - 0s 8ms/step - loss: 115.5475 - val_loss: 652.2759\n",
            "Epoch 84/100\n",
            "18/18 [==============================] - 0s 8ms/step - loss: 116.7402 - val_loss: 633.9927\n",
            "Epoch 85/100\n",
            "18/18 [==============================] - 0s 8ms/step - loss: 118.1365 - val_loss: 625.2134\n",
            "Epoch 86/100\n",
            "18/18 [==============================] - 2s 99ms/step - loss: 119.0412 - val_loss: 612.6791\n",
            "Epoch 87/100\n",
            "18/18 [==============================] - 3s 152ms/step - loss: 113.9684 - val_loss: 609.7160\n",
            "Epoch 88/100\n",
            "18/18 [==============================] - 0s 14ms/step - loss: 113.5790 - val_loss: 616.7954\n",
            "Epoch 89/100\n",
            "18/18 [==============================] - 0s 17ms/step - loss: 113.2897 - val_loss: 635.5197\n",
            "Epoch 90/100\n",
            "18/18 [==============================] - 0s 9ms/step - loss: 119.3239 - val_loss: 637.2383\n",
            "Epoch 91/100\n",
            "18/18 [==============================] - 0s 8ms/step - loss: 116.7691 - val_loss: 619.1182\n",
            "Epoch 92/100\n",
            "18/18 [==============================] - 2s 98ms/step - loss: 113.9636 - val_loss: 606.1229\n",
            "Epoch 93/100\n",
            "18/18 [==============================] - 0s 7ms/step - loss: 114.5090 - val_loss: 606.9443\n",
            "Epoch 94/100\n",
            "18/18 [==============================] - 2s 100ms/step - loss: 112.5891 - val_loss: 604.0891\n",
            "Epoch 95/100\n",
            "18/18 [==============================] - 0s 8ms/step - loss: 112.8919 - val_loss: 609.0485\n",
            "Epoch 96/100\n",
            "18/18 [==============================] - 0s 8ms/step - loss: 113.3584 - val_loss: 618.7618\n",
            "Epoch 97/100\n",
            "18/18 [==============================] - 0s 9ms/step - loss: 113.8480 - val_loss: 626.9447\n",
            "Epoch 98/100\n",
            "18/18 [==============================] - 2s 99ms/step - loss: 114.8997 - val_loss: 601.2309\n",
            "Epoch 99/100\n",
            "18/18 [==============================] - 0s 8ms/step - loss: 113.7528 - val_loss: 604.0562\n",
            "Epoch 100/100\n",
            "18/18 [==============================] - 0s 9ms/step - loss: 118.4016 - val_loss: 646.4670\n"
          ]
        },
        {
          "output_type": "execute_result",
          "data": {
            "text/plain": [
              "<keras.callbacks.History at 0x7f59445d4d90>"
            ]
          },
          "metadata": {},
          "execution_count": 74
        }
      ]
    },
    {
      "cell_type": "code",
      "source": [
        "# Load in the best version of model 5 and evaluate\n",
        "\n",
        "model_5 = tf.keras.models.load_model(\"model_experiments/model_5_lstm/\")\n",
        "model_5.evaluate(test_windows, test_labels)"
      ],
      "metadata": {
        "colab": {
          "base_uri": "https://localhost:8080/"
        },
        "id": "ZETznOQ89L-B",
        "outputId": "0b9b7ba9-de3e-4df5-f5fb-28c265f796cd"
      },
      "execution_count": 75,
      "outputs": [
        {
          "output_type": "stream",
          "name": "stderr",
          "text": [
            "WARNING:tensorflow:Layer lstm will not use cuDNN kernels since it doesn't meet the criteria. It will use a generic GPU kernel as fallback when running on GPU.\n"
          ]
        },
        {
          "output_type": "stream",
          "name": "stdout",
          "text": [
            "18/18 [==============================] - 0s 3ms/step - loss: 601.2310\n"
          ]
        },
        {
          "output_type": "execute_result",
          "data": {
            "text/plain": [
              "601.23095703125"
            ]
          },
          "metadata": {},
          "execution_count": 75
        }
      ]
    },
    {
      "cell_type": "code",
      "source": [],
      "metadata": {
        "id": "X9iHspKc9gJw"
      },
      "execution_count": null,
      "outputs": []
    }
  ]
}