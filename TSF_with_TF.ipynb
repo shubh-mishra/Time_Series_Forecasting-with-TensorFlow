{
  "nbformat": 4,
  "nbformat_minor": 0,
  "metadata": {
    "colab": {
      "provenance": []
    },
    "kernelspec": {
      "name": "python3",
      "display_name": "Python 3"
    },
    "language_info": {
      "name": "python"
    },
    "accelerator": "GPU",
    "gpuClass": "standard"
  },
  "cells": [
    {
      "cell_type": "markdown",
      "source": [
        "# Time Series Forecasting with TensorFlow"
      ],
      "metadata": {
        "id": "0w8JoogvZb3m"
      }
    },
    {
      "cell_type": "markdown",
      "source": [
        "### Contents of this notebook\n",
        "  * Get the time series data\n",
        "    * Load the time series data using Pandas/Python,s CSV module\n",
        "  * Format data for a time series problem\n",
        "    * Creating training and test sets (the wrong way)\n",
        "    * Creating training and test sets (the right way)\n",
        "    * Visualizing time series data\n",
        "    * Turning time series data into a supervised learning problem (windowing)\n",
        "    * Preparing univariate and multivariate\n",
        "  * Evaluating a time series forecasting model\n",
        "  * Setting up a series of deep learning modelling experiments\n",
        "    * Dense (fully-connected) networks\n",
        "    * Sequence models (LSTM and 1D CNN)\n",
        "    * Ensembling (combining multiple models together)\n",
        "    * Multivariate models\n",
        "    * Replicating the N-BEATS algorithm using TensorFlow layer subclassing\n",
        "  * Creating a model checkpoint to save the best performing model during training\n",
        "  * Making predictions (forecasts) with a time series model\n",
        "  * Creating prediction intervals for the time series model forecasts\n",
        "  * Discussing two different types of uncertainity in machine learning (data uncertainity and model uncertainity)\n",
        "  * Demonstrating why forecasting in an open system is BS (the turkey problem)"
      ],
      "metadata": {
        "id": "6Q2zvb4mZuEe"
      }
    },
    {
      "cell_type": "markdown",
      "source": [
        "### Check for GPU"
      ],
      "metadata": {
        "id": "xF6e0yL_cLWE"
      }
    },
    {
      "cell_type": "code",
      "execution_count": 1,
      "metadata": {
        "colab": {
          "base_uri": "https://localhost:8080/"
        },
        "id": "5G9S5O1-ZSw7",
        "outputId": "fbbea7de-cd71-44f9-aca8-ecbda424cfad"
      },
      "outputs": [
        {
          "output_type": "stream",
          "name": "stdout",
          "text": [
            "GPU 0: Tesla T4 (UUID: GPU-99794051-2ff5-8183-122f-fc27051f0418)\n"
          ]
        }
      ],
      "source": [
        "# Check for GPU\n",
        "!nvidia-smi -L"
      ]
    },
    {
      "cell_type": "markdown",
      "source": [
        "## Get data"
      ],
      "metadata": {
        "id": "qkmWlSy1CSfP"
      }
    },
    {
      "cell_type": "code",
      "source": [
        "# Download Bitcoin historical data from GitHub\n",
        "!wget https://raw.githubusercontent.com/mrdbourke/tensorflow-deep-learning/main/extras/BTC_USD_2013-10-01_2021-05-18-CoinDesk.csv"
      ],
      "metadata": {
        "colab": {
          "base_uri": "https://localhost:8080/"
        },
        "id": "qIx9yY30cT-M",
        "outputId": "ec39e98b-1b27-4ef3-f898-e529922970a6"
      },
      "execution_count": 2,
      "outputs": [
        {
          "output_type": "stream",
          "name": "stdout",
          "text": [
            "--2023-03-04 00:27:32--  https://raw.githubusercontent.com/mrdbourke/tensorflow-deep-learning/main/extras/BTC_USD_2013-10-01_2021-05-18-CoinDesk.csv\n",
            "Resolving raw.githubusercontent.com (raw.githubusercontent.com)... 185.199.109.133, 185.199.108.133, 185.199.111.133, ...\n",
            "Connecting to raw.githubusercontent.com (raw.githubusercontent.com)|185.199.109.133|:443... connected.\n",
            "HTTP request sent, awaiting response... 200 OK\n",
            "Length: 178509 (174K) [text/plain]\n",
            "Saving to: ‘BTC_USD_2013-10-01_2021-05-18-CoinDesk.csv’\n",
            "\n",
            "\r          BTC_USD_2   0%[                    ]       0  --.-KB/s               \rBTC_USD_2013-10-01_ 100%[===================>] 174.33K  --.-KB/s    in 0.008s  \n",
            "\n",
            "2023-03-04 00:27:33 (20.4 MB/s) - ‘BTC_USD_2013-10-01_2021-05-18-CoinDesk.csv’ saved [178509/178509]\n",
            "\n"
          ]
        }
      ]
    },
    {
      "cell_type": "markdown",
      "source": [
        "### Importing time series data with pandas"
      ],
      "metadata": {
        "id": "HSYf_IzbDJqz"
      }
    },
    {
      "cell_type": "code",
      "source": [
        "# Import with pandas\n",
        "import pandas as pd\n",
        "import numpy as np\n",
        "df = pd.read_csv('/content/BTC_USD_2013-10-01_2021-05-18-CoinDesk.csv',\n",
        "                 parse_dates=['Date'],\n",
        "                 index_col=['Date'])"
      ],
      "metadata": {
        "id": "CccBhLmlDFVC"
      },
      "execution_count": 3,
      "outputs": []
    },
    {
      "cell_type": "code",
      "source": [
        "df.head()"
      ],
      "metadata": {
        "colab": {
          "base_uri": "https://localhost:8080/",
          "height": 237
        },
        "id": "qYRO_BYFDm6d",
        "outputId": "736fde07-7272-4192-b62b-be56f47b775b"
      },
      "execution_count": 4,
      "outputs": [
        {
          "output_type": "execute_result",
          "data": {
            "text/plain": [
              "           Currency  Closing Price (USD)  24h Open (USD)  24h High (USD)  \\\n",
              "Date                                                                       \n",
              "2013-10-01      BTC            123.65499       124.30466       124.75166   \n",
              "2013-10-02      BTC            125.45500       123.65499       125.75850   \n",
              "2013-10-03      BTC            108.58483       125.45500       125.66566   \n",
              "2013-10-04      BTC            118.67466       108.58483       118.67500   \n",
              "2013-10-05      BTC            121.33866       118.67466       121.93633   \n",
              "\n",
              "            24h Low (USD)  \n",
              "Date                       \n",
              "2013-10-01      122.56349  \n",
              "2013-10-02      123.63383  \n",
              "2013-10-03       83.32833  \n",
              "2013-10-04      107.05816  \n",
              "2013-10-05      118.00566  "
            ],
            "text/html": [
              "\n",
              "  <div id=\"df-050ea341-bf36-4bf2-aa2e-ce340f667bcf\">\n",
              "    <div class=\"colab-df-container\">\n",
              "      <div>\n",
              "<style scoped>\n",
              "    .dataframe tbody tr th:only-of-type {\n",
              "        vertical-align: middle;\n",
              "    }\n",
              "\n",
              "    .dataframe tbody tr th {\n",
              "        vertical-align: top;\n",
              "    }\n",
              "\n",
              "    .dataframe thead th {\n",
              "        text-align: right;\n",
              "    }\n",
              "</style>\n",
              "<table border=\"1\" class=\"dataframe\">\n",
              "  <thead>\n",
              "    <tr style=\"text-align: right;\">\n",
              "      <th></th>\n",
              "      <th>Currency</th>\n",
              "      <th>Closing Price (USD)</th>\n",
              "      <th>24h Open (USD)</th>\n",
              "      <th>24h High (USD)</th>\n",
              "      <th>24h Low (USD)</th>\n",
              "    </tr>\n",
              "    <tr>\n",
              "      <th>Date</th>\n",
              "      <th></th>\n",
              "      <th></th>\n",
              "      <th></th>\n",
              "      <th></th>\n",
              "      <th></th>\n",
              "    </tr>\n",
              "  </thead>\n",
              "  <tbody>\n",
              "    <tr>\n",
              "      <th>2013-10-01</th>\n",
              "      <td>BTC</td>\n",
              "      <td>123.65499</td>\n",
              "      <td>124.30466</td>\n",
              "      <td>124.75166</td>\n",
              "      <td>122.56349</td>\n",
              "    </tr>\n",
              "    <tr>\n",
              "      <th>2013-10-02</th>\n",
              "      <td>BTC</td>\n",
              "      <td>125.45500</td>\n",
              "      <td>123.65499</td>\n",
              "      <td>125.75850</td>\n",
              "      <td>123.63383</td>\n",
              "    </tr>\n",
              "    <tr>\n",
              "      <th>2013-10-03</th>\n",
              "      <td>BTC</td>\n",
              "      <td>108.58483</td>\n",
              "      <td>125.45500</td>\n",
              "      <td>125.66566</td>\n",
              "      <td>83.32833</td>\n",
              "    </tr>\n",
              "    <tr>\n",
              "      <th>2013-10-04</th>\n",
              "      <td>BTC</td>\n",
              "      <td>118.67466</td>\n",
              "      <td>108.58483</td>\n",
              "      <td>118.67500</td>\n",
              "      <td>107.05816</td>\n",
              "    </tr>\n",
              "    <tr>\n",
              "      <th>2013-10-05</th>\n",
              "      <td>BTC</td>\n",
              "      <td>121.33866</td>\n",
              "      <td>118.67466</td>\n",
              "      <td>121.93633</td>\n",
              "      <td>118.00566</td>\n",
              "    </tr>\n",
              "  </tbody>\n",
              "</table>\n",
              "</div>\n",
              "      <button class=\"colab-df-convert\" onclick=\"convertToInteractive('df-050ea341-bf36-4bf2-aa2e-ce340f667bcf')\"\n",
              "              title=\"Convert this dataframe to an interactive table.\"\n",
              "              style=\"display:none;\">\n",
              "        \n",
              "  <svg xmlns=\"http://www.w3.org/2000/svg\" height=\"24px\"viewBox=\"0 0 24 24\"\n",
              "       width=\"24px\">\n",
              "    <path d=\"M0 0h24v24H0V0z\" fill=\"none\"/>\n",
              "    <path d=\"M18.56 5.44l.94 2.06.94-2.06 2.06-.94-2.06-.94-.94-2.06-.94 2.06-2.06.94zm-11 1L8.5 8.5l.94-2.06 2.06-.94-2.06-.94L8.5 2.5l-.94 2.06-2.06.94zm10 10l.94 2.06.94-2.06 2.06-.94-2.06-.94-.94-2.06-.94 2.06-2.06.94z\"/><path d=\"M17.41 7.96l-1.37-1.37c-.4-.4-.92-.59-1.43-.59-.52 0-1.04.2-1.43.59L10.3 9.45l-7.72 7.72c-.78.78-.78 2.05 0 2.83L4 21.41c.39.39.9.59 1.41.59.51 0 1.02-.2 1.41-.59l7.78-7.78 2.81-2.81c.8-.78.8-2.07 0-2.86zM5.41 20L4 18.59l7.72-7.72 1.47 1.35L5.41 20z\"/>\n",
              "  </svg>\n",
              "      </button>\n",
              "      \n",
              "  <style>\n",
              "    .colab-df-container {\n",
              "      display:flex;\n",
              "      flex-wrap:wrap;\n",
              "      gap: 12px;\n",
              "    }\n",
              "\n",
              "    .colab-df-convert {\n",
              "      background-color: #E8F0FE;\n",
              "      border: none;\n",
              "      border-radius: 50%;\n",
              "      cursor: pointer;\n",
              "      display: none;\n",
              "      fill: #1967D2;\n",
              "      height: 32px;\n",
              "      padding: 0 0 0 0;\n",
              "      width: 32px;\n",
              "    }\n",
              "\n",
              "    .colab-df-convert:hover {\n",
              "      background-color: #E2EBFA;\n",
              "      box-shadow: 0px 1px 2px rgba(60, 64, 67, 0.3), 0px 1px 3px 1px rgba(60, 64, 67, 0.15);\n",
              "      fill: #174EA6;\n",
              "    }\n",
              "\n",
              "    [theme=dark] .colab-df-convert {\n",
              "      background-color: #3B4455;\n",
              "      fill: #D2E3FC;\n",
              "    }\n",
              "\n",
              "    [theme=dark] .colab-df-convert:hover {\n",
              "      background-color: #434B5C;\n",
              "      box-shadow: 0px 1px 3px 1px rgba(0, 0, 0, 0.15);\n",
              "      filter: drop-shadow(0px 1px 2px rgba(0, 0, 0, 0.3));\n",
              "      fill: #FFFFFF;\n",
              "    }\n",
              "  </style>\n",
              "\n",
              "      <script>\n",
              "        const buttonEl =\n",
              "          document.querySelector('#df-050ea341-bf36-4bf2-aa2e-ce340f667bcf button.colab-df-convert');\n",
              "        buttonEl.style.display =\n",
              "          google.colab.kernel.accessAllowed ? 'block' : 'none';\n",
              "\n",
              "        async function convertToInteractive(key) {\n",
              "          const element = document.querySelector('#df-050ea341-bf36-4bf2-aa2e-ce340f667bcf');\n",
              "          const dataTable =\n",
              "            await google.colab.kernel.invokeFunction('convertToInteractive',\n",
              "                                                     [key], {});\n",
              "          if (!dataTable) return;\n",
              "\n",
              "          const docLinkHtml = 'Like what you see? Visit the ' +\n",
              "            '<a target=\"_blank\" href=https://colab.research.google.com/notebooks/data_table.ipynb>data table notebook</a>'\n",
              "            + ' to learn more about interactive tables.';\n",
              "          element.innerHTML = '';\n",
              "          dataTable['output_type'] = 'display_data';\n",
              "          await google.colab.output.renderOutput(dataTable, element);\n",
              "          const docLink = document.createElement('div');\n",
              "          docLink.innerHTML = docLinkHtml;\n",
              "          element.appendChild(docLink);\n",
              "        }\n",
              "      </script>\n",
              "    </div>\n",
              "  </div>\n",
              "  "
            ]
          },
          "metadata": {},
          "execution_count": 4
        }
      ]
    },
    {
      "cell_type": "code",
      "source": [
        "df.info()"
      ],
      "metadata": {
        "colab": {
          "base_uri": "https://localhost:8080/"
        },
        "id": "oDeBOuRTDtyb",
        "outputId": "c3ea343c-a135-41dc-b705-8ce4e0f80cad"
      },
      "execution_count": 5,
      "outputs": [
        {
          "output_type": "stream",
          "name": "stdout",
          "text": [
            "<class 'pandas.core.frame.DataFrame'>\n",
            "DatetimeIndex: 2787 entries, 2013-10-01 to 2021-05-18\n",
            "Data columns (total 5 columns):\n",
            " #   Column               Non-Null Count  Dtype  \n",
            "---  ------               --------------  -----  \n",
            " 0   Currency             2787 non-null   object \n",
            " 1   Closing Price (USD)  2787 non-null   float64\n",
            " 2   24h Open (USD)       2787 non-null   float64\n",
            " 3   24h High (USD)       2787 non-null   float64\n",
            " 4   24h Low (USD)        2787 non-null   float64\n",
            "dtypes: float64(4), object(1)\n",
            "memory usage: 130.6+ KB\n"
          ]
        }
      ]
    },
    {
      "cell_type": "code",
      "source": [
        "df.shape"
      ],
      "metadata": {
        "colab": {
          "base_uri": "https://localhost:8080/"
        },
        "id": "_UpS-_04D0xW",
        "outputId": "6dd08bd7-b5b9-4688-cb60-be422238f033"
      },
      "execution_count": 6,
      "outputs": [
        {
          "output_type": "execute_result",
          "data": {
            "text/plain": [
              "(2787, 5)"
            ]
          },
          "metadata": {},
          "execution_count": 6
        }
      ]
    },
    {
      "cell_type": "code",
      "source": [
        "# Only want closing price for each day\n",
        "bitcoin_prices = pd.DataFrame(df['Closing Price (USD)']).rename(columns={'Closing Price (USD)': 'Price'})\n",
        "bitcoin_prices.head()"
      ],
      "metadata": {
        "colab": {
          "base_uri": "https://localhost:8080/",
          "height": 237
        },
        "id": "VF3K-owOEUPm",
        "outputId": "7f1534f0-d138-4a5d-9226-09ae5f246882"
      },
      "execution_count": 7,
      "outputs": [
        {
          "output_type": "execute_result",
          "data": {
            "text/plain": [
              "                Price\n",
              "Date                 \n",
              "2013-10-01  123.65499\n",
              "2013-10-02  125.45500\n",
              "2013-10-03  108.58483\n",
              "2013-10-04  118.67466\n",
              "2013-10-05  121.33866"
            ],
            "text/html": [
              "\n",
              "  <div id=\"df-49ad035b-c49d-4744-b594-da1fbc0b4f49\">\n",
              "    <div class=\"colab-df-container\">\n",
              "      <div>\n",
              "<style scoped>\n",
              "    .dataframe tbody tr th:only-of-type {\n",
              "        vertical-align: middle;\n",
              "    }\n",
              "\n",
              "    .dataframe tbody tr th {\n",
              "        vertical-align: top;\n",
              "    }\n",
              "\n",
              "    .dataframe thead th {\n",
              "        text-align: right;\n",
              "    }\n",
              "</style>\n",
              "<table border=\"1\" class=\"dataframe\">\n",
              "  <thead>\n",
              "    <tr style=\"text-align: right;\">\n",
              "      <th></th>\n",
              "      <th>Price</th>\n",
              "    </tr>\n",
              "    <tr>\n",
              "      <th>Date</th>\n",
              "      <th></th>\n",
              "    </tr>\n",
              "  </thead>\n",
              "  <tbody>\n",
              "    <tr>\n",
              "      <th>2013-10-01</th>\n",
              "      <td>123.65499</td>\n",
              "    </tr>\n",
              "    <tr>\n",
              "      <th>2013-10-02</th>\n",
              "      <td>125.45500</td>\n",
              "    </tr>\n",
              "    <tr>\n",
              "      <th>2013-10-03</th>\n",
              "      <td>108.58483</td>\n",
              "    </tr>\n",
              "    <tr>\n",
              "      <th>2013-10-04</th>\n",
              "      <td>118.67466</td>\n",
              "    </tr>\n",
              "    <tr>\n",
              "      <th>2013-10-05</th>\n",
              "      <td>121.33866</td>\n",
              "    </tr>\n",
              "  </tbody>\n",
              "</table>\n",
              "</div>\n",
              "      <button class=\"colab-df-convert\" onclick=\"convertToInteractive('df-49ad035b-c49d-4744-b594-da1fbc0b4f49')\"\n",
              "              title=\"Convert this dataframe to an interactive table.\"\n",
              "              style=\"display:none;\">\n",
              "        \n",
              "  <svg xmlns=\"http://www.w3.org/2000/svg\" height=\"24px\"viewBox=\"0 0 24 24\"\n",
              "       width=\"24px\">\n",
              "    <path d=\"M0 0h24v24H0V0z\" fill=\"none\"/>\n",
              "    <path d=\"M18.56 5.44l.94 2.06.94-2.06 2.06-.94-2.06-.94-.94-2.06-.94 2.06-2.06.94zm-11 1L8.5 8.5l.94-2.06 2.06-.94-2.06-.94L8.5 2.5l-.94 2.06-2.06.94zm10 10l.94 2.06.94-2.06 2.06-.94-2.06-.94-.94-2.06-.94 2.06-2.06.94z\"/><path d=\"M17.41 7.96l-1.37-1.37c-.4-.4-.92-.59-1.43-.59-.52 0-1.04.2-1.43.59L10.3 9.45l-7.72 7.72c-.78.78-.78 2.05 0 2.83L4 21.41c.39.39.9.59 1.41.59.51 0 1.02-.2 1.41-.59l7.78-7.78 2.81-2.81c.8-.78.8-2.07 0-2.86zM5.41 20L4 18.59l7.72-7.72 1.47 1.35L5.41 20z\"/>\n",
              "  </svg>\n",
              "      </button>\n",
              "      \n",
              "  <style>\n",
              "    .colab-df-container {\n",
              "      display:flex;\n",
              "      flex-wrap:wrap;\n",
              "      gap: 12px;\n",
              "    }\n",
              "\n",
              "    .colab-df-convert {\n",
              "      background-color: #E8F0FE;\n",
              "      border: none;\n",
              "      border-radius: 50%;\n",
              "      cursor: pointer;\n",
              "      display: none;\n",
              "      fill: #1967D2;\n",
              "      height: 32px;\n",
              "      padding: 0 0 0 0;\n",
              "      width: 32px;\n",
              "    }\n",
              "\n",
              "    .colab-df-convert:hover {\n",
              "      background-color: #E2EBFA;\n",
              "      box-shadow: 0px 1px 2px rgba(60, 64, 67, 0.3), 0px 1px 3px 1px rgba(60, 64, 67, 0.15);\n",
              "      fill: #174EA6;\n",
              "    }\n",
              "\n",
              "    [theme=dark] .colab-df-convert {\n",
              "      background-color: #3B4455;\n",
              "      fill: #D2E3FC;\n",
              "    }\n",
              "\n",
              "    [theme=dark] .colab-df-convert:hover {\n",
              "      background-color: #434B5C;\n",
              "      box-shadow: 0px 1px 3px 1px rgba(0, 0, 0, 0.15);\n",
              "      filter: drop-shadow(0px 1px 2px rgba(0, 0, 0, 0.3));\n",
              "      fill: #FFFFFF;\n",
              "    }\n",
              "  </style>\n",
              "\n",
              "      <script>\n",
              "        const buttonEl =\n",
              "          document.querySelector('#df-49ad035b-c49d-4744-b594-da1fbc0b4f49 button.colab-df-convert');\n",
              "        buttonEl.style.display =\n",
              "          google.colab.kernel.accessAllowed ? 'block' : 'none';\n",
              "\n",
              "        async function convertToInteractive(key) {\n",
              "          const element = document.querySelector('#df-49ad035b-c49d-4744-b594-da1fbc0b4f49');\n",
              "          const dataTable =\n",
              "            await google.colab.kernel.invokeFunction('convertToInteractive',\n",
              "                                                     [key], {});\n",
              "          if (!dataTable) return;\n",
              "\n",
              "          const docLinkHtml = 'Like what you see? Visit the ' +\n",
              "            '<a target=\"_blank\" href=https://colab.research.google.com/notebooks/data_table.ipynb>data table notebook</a>'\n",
              "            + ' to learn more about interactive tables.';\n",
              "          element.innerHTML = '';\n",
              "          dataTable['output_type'] = 'display_data';\n",
              "          await google.colab.output.renderOutput(dataTable, element);\n",
              "          const docLink = document.createElement('div');\n",
              "          docLink.innerHTML = docLinkHtml;\n",
              "          element.appendChild(docLink);\n",
              "        }\n",
              "      </script>\n",
              "    </div>\n",
              "  </div>\n",
              "  "
            ]
          },
          "metadata": {},
          "execution_count": 7
        }
      ]
    },
    {
      "cell_type": "code",
      "source": [
        "# Visulaizing data\n",
        "import matplotlib.pyplot as plt\n",
        "bitcoin_prices.plot(figsize=(10, 7))\n",
        "plt.ylabel('BTC Price')\n",
        "plt.title('Price of Bitcoin from 1 Oct 2013 to 18 May 2021', fontsize=16)\n",
        "plt.legend(fontsize=14)"
      ],
      "metadata": {
        "colab": {
          "base_uri": "https://localhost:8080/",
          "height": 477
        },
        "id": "TbkLAN_0FVYy",
        "outputId": "bd10d401-1eee-478f-df32-420d22895392"
      },
      "execution_count": 8,
      "outputs": [
        {
          "output_type": "execute_result",
          "data": {
            "text/plain": [
              "<matplotlib.legend.Legend at 0x7f7703ccf790>"
            ]
          },
          "metadata": {},
          "execution_count": 8
        },
        {
          "output_type": "display_data",
          "data": {
            "text/plain": [
              "<Figure size 720x504 with 1 Axes>"
            ],
            "image/png": "[encoded data removed]"
          },
          "metadata": {
            "needs_background": "light"
          }
        }
      ]
    },
    {
      "cell_type": "markdown",
      "source": [
        "### Importing time series data with Python's CSV module"
      ],
      "metadata": {
        "id": "sJTzfAWTGPFT"
      }
    },
    {
      "cell_type": "code",
      "source": [
        "# Importing and formatting historical Bitcoin data with Python\n",
        "\n",
        "import csv\n",
        "from datetime import datetime\n",
        "\n",
        "timesteps = []\n",
        "btc_price = []\n",
        "with open('/content/BTC_USD_2013-10-01_2021-05-18-CoinDesk.csv') as f:\n",
        "  csv_reader = csv.reader(f, delimiter=',')\n",
        "  next(csv_reader)\n",
        "  for line in csv_reader:\n",
        "    timesteps.append(datetime.strptime(line[1], \"%Y-%m-%d\"))\n",
        "    btc_price.append(float(line[2]))\n",
        "\n",
        "# View first 10 of each\n",
        "\n",
        "timesteps[:10], btc_price[:10]"
      ],
      "metadata": {
        "colab": {
          "base_uri": "https://localhost:8080/"
        },
        "id": "iGnvksqrGLF8",
        "outputId": "c96804c4-307f-40de-b6e2-3118396e83ae"
      },
      "execution_count": 9,
      "outputs": [
        {
          "output_type": "execute_result",
          "data": {
            "text/plain": [
              "([datetime.datetime(2013, 10, 1, 0, 0),\n",
              "  datetime.datetime(2013, 10, 2, 0, 0),\n",
              "  datetime.datetime(2013, 10, 3, 0, 0),\n",
              "  datetime.datetime(2013, 10, 4, 0, 0),\n",
              "  datetime.datetime(2013, 10, 5, 0, 0),\n",
              "  datetime.datetime(2013, 10, 6, 0, 0),\n",
              "  datetime.datetime(2013, 10, 7, 0, 0),\n",
              "  datetime.datetime(2013, 10, 8, 0, 0),\n",
              "  datetime.datetime(2013, 10, 9, 0, 0),\n",
              "  datetime.datetime(2013, 10, 10, 0, 0)],\n",
              " [123.65499,\n",
              "  125.455,\n",
              "  108.58483,\n",
              "  118.67466,\n",
              "  121.33866,\n",
              "  120.65533,\n",
              "  121.795,\n",
              "  123.033,\n",
              "  124.049,\n",
              "  125.96116])"
            ]
          },
          "metadata": {},
          "execution_count": 9
        }
      ]
    },
    {
      "cell_type": "code",
      "source": [
        "# Plot from CSV\n",
        "import matplotlib.pyplot as plt\n",
        "plt.figure(figsize=(10, 7))\n",
        "plt.plot(timesteps, btc_price)\n",
        "plt.ylabel('BTC Price')\n",
        "plt.title('Price of Bitcoin from 1 Oct 2013 to 18 May 2021', fontsize=16)\n",
        "plt.xlabel('Date')"
      ],
      "metadata": {
        "colab": {
          "base_uri": "https://localhost:8080/",
          "height": 477
        },
        "id": "qBOzExKVH5MY",
        "outputId": "98918271-dfa0-436a-dade-0764853cca7e"
      },
      "execution_count": 10,
      "outputs": [
        {
          "output_type": "execute_result",
          "data": {
            "text/plain": [
              "Text(0.5, 0, 'Date')"
            ]
          },
          "metadata": {},
          "execution_count": 10
        },
        {
          "output_type": "display_data",
          "data": {
            "text/plain": [
              "<Figure size 720x504 with 1 Axes>"
            ],
            "image/png": "[encoded data removed]"
          },
          "metadata": {
            "needs_background": "light"
          }
        }
      ]
    },
    {
      "cell_type": "markdown",
      "source": [
        "## Formatting data for time series problem"
      ],
      "metadata": {
        "id": "kDch2yFnKIUM"
      }
    },
    {
      "cell_type": "markdown",
      "source": [
        "### Creating train and test sets for time series data (the wrong way)"
      ],
      "metadata": {
        "id": "8mZmNjyCKNU8"
      }
    },
    {
      "cell_type": "code",
      "source": [
        "# Get Bitcoin date array\n",
        "\n",
        "timesteps = bitcoin_prices.index.to_numpy()\n",
        "prices = bitcoin_prices['Price'].to_numpy()\n",
        "\n",
        "timesteps[:10], prices[:10]"
      ],
      "metadata": {
        "colab": {
          "base_uri": "https://localhost:8080/"
        },
        "id": "DnfJTaXLIu9x",
        "outputId": "773b2176-906a-4523-9a0f-db24a38c9856"
      },
      "execution_count": 11,
      "outputs": [
        {
          "output_type": "execute_result",
          "data": {
            "text/plain": [
              "(array(['2013-10-01T00:00:00.000000000', '2013-10-02T00:00:00.000000000',\n",
              "        '2013-10-03T00:00:00.000000000', '2013-10-04T00:00:00.000000000',\n",
              "        '2013-10-05T00:00:00.000000000', '2013-10-06T00:00:00.000000000',\n",
              "        '2013-10-07T00:00:00.000000000', '2013-10-08T00:00:00.000000000',\n",
              "        '2013-10-09T00:00:00.000000000', '2013-10-10T00:00:00.000000000'],\n",
              "       dtype='datetime64[ns]'),\n",
              " array([123.65499, 125.455  , 108.58483, 118.67466, 121.33866, 120.65533,\n",
              "        121.795  , 123.033  , 124.049  , 125.96116]))"
            ]
          },
          "metadata": {},
          "execution_count": 11
        }
      ]
    },
    {
      "cell_type": "code",
      "source": [
        "# Wrong way to make train test split\n",
        "\n",
        "from sklearn.model_selection import train_test_split\n",
        "X_train, X_test, y_train, y_test = train_test_split(timesteps,\n",
        "                                                    prices,\n",
        "                                                    test_size=0.2,\n",
        "                                                    random_state=42)\n",
        "X_train.shape, X_test.shape, y_train.shape, y_test.shape"
      ],
      "metadata": {
        "colab": {
          "base_uri": "https://localhost:8080/"
        },
        "id": "vqlUhjJULTK3",
        "outputId": "16ef9fbc-8eab-4b45-99b6-6cab30ac64f2"
      },
      "execution_count": 12,
      "outputs": [
        {
          "output_type": "execute_result",
          "data": {
            "text/plain": [
              "((2229,), (558,), (2229,), (558,))"
            ]
          },
          "metadata": {},
          "execution_count": 12
        }
      ]
    },
    {
      "cell_type": "code",
      "source": [
        "# Plotting wrong train and test splits\n",
        "\n",
        "plt.figure(figsize=(10, 7))\n",
        "plt.scatter(X_train, y_train, s=5, label='Train data')\n",
        "plt.scatter(X_test, y_test, s=5, label='Test data')\n",
        "plt.xlabel('Date')\n",
        "plt.ylabel('BTC Price')\n",
        "plt.legend(fontsize=14)\n",
        "plt.show()"
      ],
      "metadata": {
        "colab": {
          "base_uri": "https://localhost:8080/",
          "height": 442
        },
        "id": "AT8nCaLAMAev",
        "outputId": "26d39756-9d85-4d43-d333-42b9118e86bb"
      },
      "execution_count": 13,
      "outputs": [
        {
          "output_type": "display_data",
          "data": {
            "text/plain": [
              "<Figure size 720x504 with 1 Axes>"
            ],
            "image/png": "[encoded data removed]"
          },
          "metadata": {
            "needs_background": "light"
          }
        }
      ]
    },
    {
      "cell_type": "markdown",
      "source": [
        "### Creating train and test sets for time series data (the right way)"
      ],
      "metadata": {
        "id": "zlqfQuVxOLez"
      }
    },
    {
      "cell_type": "code",
      "source": [
        "split_size = int(0.8 * len(prices))\n",
        "\n",
        "X_train, y_train = timesteps[0:split_size], prices[:split_size]\n",
        "\n",
        "X_test, y_test = timesteps[split_size:], prices[split_size:]\n",
        "\n",
        "len(X_train), len(X_test), len(y_train), len(y_test)"
      ],
      "metadata": {
        "colab": {
          "base_uri": "https://localhost:8080/"
        },
        "id": "gV8dMGg5M5zk",
        "outputId": "eac08fb9-bad8-4f35-a492-477130643d6a"
      },
      "execution_count": 14,
      "outputs": [
        {
          "output_type": "execute_result",
          "data": {
            "text/plain": [
              "(2229, 558, 2229, 558)"
            ]
          },
          "metadata": {},
          "execution_count": 14
        }
      ]
    },
    {
      "cell_type": "code",
      "source": [
        "# Plot correctly made splits\n",
        "\n",
        "plt.figure(figsize=(10, 7))\n",
        "plt.scatter(X_train, y_train, s=5, label='Train data')\n",
        "plt.scatter(X_test, y_test, s=5, label='Test data')\n",
        "plt.xlabel('Date')\n",
        "plt.ylabel('BTC Price')\n",
        "plt.legend(fontsize=14)\n",
        "plt.show()"
      ],
      "metadata": {
        "colab": {
          "base_uri": "https://localhost:8080/",
          "height": 442
        },
        "id": "xiFfNRa8PF6S",
        "outputId": "0d247f5b-3e14-4bb2-e464-089ea6dcfdcd"
      },
      "execution_count": 15,
      "outputs": [
        {
          "output_type": "display_data",
          "data": {
            "text/plain": [
              "<Figure size 720x504 with 1 Axes>"
            ],
            "image/png": "[encoded data removed]"
          },
          "metadata": {
            "needs_background": "light"
          }
        }
      ]
    },
    {
      "cell_type": "markdown",
      "source": [
        "### Creating a plotting function"
      ],
      "metadata": {
        "id": "QZIaqB4fP5f-"
      }
    },
    {
      "cell_type": "code",
      "source": [
        "def plot_time_series(timesteps, values, format='.', start=0, end=None, label=None):\n",
        "  plt.plot(timesteps[start:end], values[start:end], format, label=label)\n",
        "  plt.xlabel('Time')\n",
        "  plt.ylabel('BTC Price')\n",
        "  if label:\n",
        "    plt.legend(fontsize=14)\n",
        "  plt.grid(True) "
      ],
      "metadata": {
        "id": "bOQp_MxvP0R7"
      },
      "execution_count": 16,
      "outputs": []
    },
    {
      "cell_type": "code",
      "source": [
        "# Try out our plotting function\n",
        "\n",
        "plt.figure(figsize=(10, 7))\n",
        "plot_time_series(timesteps=X_train, values=y_train, label='Train data')\n",
        "plot_time_series(timesteps=X_test, values=y_test, label='Test data')"
      ],
      "metadata": {
        "colab": {
          "base_uri": "https://localhost:8080/",
          "height": 442
        },
        "id": "NxSMbI3GRaVW",
        "outputId": "1f271b74-45f2-44ae-e53b-889959915ae7"
      },
      "execution_count": 17,
      "outputs": [
        {
          "output_type": "display_data",
          "data": {
            "text/plain": [
              "<Figure size 720x504 with 1 Axes>"
            ],
            "image/png": "[encoded data removed]"
          },
          "metadata": {
            "needs_background": "light"
          }
        }
      ]
    },
    {
      "cell_type": "markdown",
      "source": [
        "## Modelling Experiments"
      ],
      "metadata": {
        "id": "BfgMr9kUb5mH"
      }
    },
    {
      "cell_type": "markdown",
      "source": [
        "### Model 0: Naive Forecast (baseline)"
      ],
      "metadata": {
        "id": "rpB-eC7ob87b"
      }
    },
    {
      "cell_type": "code",
      "source": [
        "# Create a naive forecast\n",
        "\n",
        "naive_forecast = y_test[:-1]\n",
        "naive_forecast[:10], naive_forecast[-10:]"
      ],
      "metadata": {
        "id": "pmwXESXCR4W5",
        "colab": {
          "base_uri": "https://localhost:8080/"
        },
        "outputId": "39bc8513-9bd4-4097-bd76-d83e8d42c45e"
      },
      "execution_count": 18,
      "outputs": [
        {
          "output_type": "execute_result",
          "data": {
            "text/plain": [
              "(array([9226.48582088, 8794.35864452, 8798.04205463, 9081.18687849,\n",
              "        8711.53433917, 8760.89271814, 8749.52059102, 8656.97092235,\n",
              "        8500.64355816, 8469.2608989 ]),\n",
              " array([57107.12067189, 58788.20967893, 58102.19142623, 55715.54665129,\n",
              "        56573.5554719 , 52147.82118698, 49764.1320816 , 50032.69313676,\n",
              "        47885.62525472, 45604.61575361]))"
            ]
          },
          "metadata": {},
          "execution_count": 18
        }
      ]
    },
    {
      "cell_type": "code",
      "source": [
        "# Plot naive forecast\n",
        "\n",
        "plt.figure(figsize=(10, 7))\n",
        "plot_time_series(timesteps=X_train, values=y_train, label='Train data')\n",
        "plot_time_series(timesteps=X_test, values=y_test, label='Test data')\n",
        "plot_time_series(timesteps=X_test[1:], values=naive_forecast, label='Naive Forecast')"
      ],
      "metadata": {
        "colab": {
          "base_uri": "https://localhost:8080/",
          "height": 442
        },
        "id": "o0SYgJp0c7iJ",
        "outputId": "708ddf23-82da-4c64-93ab-22152daae05d"
      },
      "execution_count": 19,
      "outputs": [
        {
          "output_type": "display_data",
          "data": {
            "text/plain": [
              "<Figure size 720x504 with 1 Axes>"
            ],
            "image/png": "[encoded data removed]"
          },
          "metadata": {
            "needs_background": "light"
          }
        }
      ]
    },
    {
      "cell_type": "code",
      "source": [
        "# Zooming in the plot\n",
        "\n",
        "plt.figure(figsize=(10, 7))\n",
        "offset = 300\n",
        "plot_time_series(timesteps=X_test, values=y_test, start=offset, label='Test data')\n",
        "plot_time_series(timesteps=X_test[1:], values=naive_forecast, start=offset, format='-', label='Naive forecast')\n"
      ],
      "metadata": {
        "colab": {
          "base_uri": "https://localhost:8080/",
          "height": 442
        },
        "id": "0oTrV_iKeDJG",
        "outputId": "90ec31e2-92a5-4a17-fa79-17093fa09b45"
      },
      "execution_count": 20,
      "outputs": [
        {
          "output_type": "display_data",
          "data": {
            "text/plain": [
              "<Figure size 720x504 with 1 Axes>"
            ],
            "image/png": "[encoded data removed]"
          },
          "metadata": {
            "needs_background": "light"
          }
        }
      ]
    },
    {
      "cell_type": "markdown",
      "source": [
        "### Evaluating a time series model"
      ],
      "metadata": {
        "id": "sanRTmVuf1Nn"
      }
    },
    {
      "cell_type": "code",
      "source": [
        "import tensorflow as tf"
      ],
      "metadata": {
        "id": "OvW8fMQ4faf-"
      },
      "execution_count": 21,
      "outputs": []
    },
    {
      "cell_type": "code",
      "source": [
        "# Create a function to calculate MASE (mean absolute scaled error)\n",
        "\n",
        "def mean_absolute_scaled_error(y_true, y_pred):\n",
        "  \n",
        "  mae = tf.reduce_mean(tf.abs(y_true - y_pred))\n",
        "  mae_naive_no_season = tf.reduce_mean(tf.abs(y_true[1:]-y_true[:-1]))\n",
        "  \n",
        "  return mae/mae_naive_no_season"
      ],
      "metadata": {
        "id": "QM1clImrhVrn"
      },
      "execution_count": 22,
      "outputs": []
    },
    {
      "cell_type": "code",
      "source": [
        "# Create a function to calculate results (predictions)\n",
        "\n",
        "def evaluate_preds(y_true, y_pred):\n",
        "\n",
        "  y_true = tf.cast(y_true, dtype=tf.float32)\n",
        "  y_pred = tf.cast(y_pred, dtype=tf.float32)\n",
        "\n",
        "  mae = tf.keras.metrics.mean_absolute_error(y_true, y_pred)\n",
        "  mape = tf.keras.metrics.mean_absolute_percentage_error(y_true, y_pred)\n",
        "  mse = tf.keras.metrics.mean_squared_error(y_true, y_pred)\n",
        "  rmse = tf.sqrt(mse)\n",
        "  mase = mean_absolute_scaled_error(y_true, y_pred)\n",
        "\n",
        "  return {\"mae\": mae.numpy(),\n",
        "          \"mse\": mse.numpy(),\n",
        "          \"rmse\": rmse.numpy(),\n",
        "          \"mape\": mape.numpy(),\n",
        "          \"mase\": mase.numpy()}"
      ],
      "metadata": {
        "id": "XBtQtFGOiLrB"
      },
      "execution_count": 23,
      "outputs": []
    },
    {
      "cell_type": "code",
      "source": [
        "naive_results = evaluate_preds(y_true=y_test[1:], y_pred=naive_forecast)\n",
        "naive_results"
      ],
      "metadata": {
        "colab": {
          "base_uri": "https://localhost:8080/"
        },
        "id": "x7es2RpTkshz",
        "outputId": "09227fef-4933-4de6-d16a-870c5aa8b7f3"
      },
      "execution_count": 24,
      "outputs": [
        {
          "output_type": "execute_result",
          "data": {
            "text/plain": [
              "{'mae': 567.9802,\n",
              " 'mse': 1147547.0,\n",
              " 'rmse': 1071.2362,\n",
              " 'mape': 2.516525,\n",
              " 'mase': 0.99957}"
            ]
          },
          "metadata": {},
          "execution_count": 24
        }
      ]
    },
    {
      "cell_type": "markdown",
      "source": [
        "### Other models/libraries for time series forecasting\n",
        "  * Moving average\n",
        "  * ARIMA (AutoRegression Integrated Moving Average)\n",
        "  * Sktime (Scikit-learn for time series)\n",
        "  * TensorFlow Decision Forecasts (random forest, gradient boosting trees)\n",
        "  * Facebook Kats (purpose built forecasting and time series analysis library by facebook)\n",
        "  * LinkedIn Greykite (flexible, intuitive and fast forecasts)\n"
      ],
      "metadata": {
        "id": "TV-DO7-MluR4"
      }
    },
    {
      "cell_type": "markdown",
      "source": [
        "### Windowing dataset"
      ],
      "metadata": {
        "id": "I22RSH9sn3ln"
      }
    },
    {
      "cell_type": "code",
      "source": [
        "HORIZON = 1           # Predict 1 step at a time\n",
        "WINDOW_SIZE = 7       # Use a week worth of timestamps to predict the horizon"
      ],
      "metadata": {
        "id": "a70thobTlPuh"
      },
      "execution_count": 25,
      "outputs": []
    },
    {
      "cell_type": "code",
      "source": [
        "# Create a function to label windowed data\n",
        "\n",
        "def get_labelled_windows(x, horizon=1):\n",
        "\n",
        "  return x[:,:-horizon], x[:,-horizon:]"
      ],
      "metadata": {
        "id": "VPKDC6yciCQY"
      },
      "execution_count": 26,
      "outputs": []
    },
    {
      "cell_type": "code",
      "source": [
        "# Test out the window labelling function\n",
        "\n",
        "test_window, test_label = get_labelled_windows(tf.expand_dims(tf.range(8)+1, axis=0), horizon=HORIZON)\n",
        "print(f\"Window: {test_window} -> Label: {test_label}\")"
      ],
      "metadata": {
        "colab": {
          "base_uri": "https://localhost:8080/"
        },
        "id": "IUX9-nrCigQh",
        "outputId": "0dc8e079-9e2e-4337-c2cd-5558834d8e28"
      },
      "execution_count": 27,
      "outputs": [
        {
          "output_type": "stream",
          "name": "stdout",
          "text": [
            "Window: [[1 2 3 4 5 6 7]] -> Label: [[8]]\n"
          ]
        }
      ]
    },
    {
      "cell_type": "code",
      "source": [
        "# Create a function to view NumPy arrays as windows\n",
        "\n",
        "def make_windows(x, window_size=7, horizon=1):\n",
        "\n",
        "  # 1. Create a window of specific window size (add the horizon on the end for later labelling)\n",
        "  window_step = np.expand_dims(np.arange(window_size+horizon), axis=0)\n",
        "\n",
        "  # 2. Create a 2D array of multiple window steps (minus 1 to account for zero indexing)\n",
        "  window_indexes = window_step + np.expand_dims(np.arange(len(x) - (window_size+horizon-1)), axis=0).T\n",
        "\n",
        "  # 3. Index on the target array (time series) with 2D array of multiple window steps\n",
        "  windowed_array = x[window_indexes]\n",
        "\n",
        "  # 4. Get the labelled windows\n",
        "  windows, labels = get_labelled_windows(windowed_array, horizon=horizon)\n",
        "\n",
        "  return windows, labels"
      ],
      "metadata": {
        "id": "gpxsb2UFjMnm"
      },
      "execution_count": 28,
      "outputs": []
    },
    {
      "cell_type": "code",
      "source": [
        "full_windows, full_labels = make_windows(prices, window_size=WINDOW_SIZE, horizon=HORIZON)\n",
        "len(full_windows), len(full_labels)"
      ],
      "metadata": {
        "colab": {
          "base_uri": "https://localhost:8080/"
        },
        "id": "_5vi0FoVmn6E",
        "outputId": "a27b48ea-e777-4073-b42b-b32cc7caeaa6"
      },
      "execution_count": 29,
      "outputs": [
        {
          "output_type": "execute_result",
          "data": {
            "text/plain": [
              "(2780, 2780)"
            ]
          },
          "metadata": {},
          "execution_count": 29
        }
      ]
    },
    {
      "cell_type": "code",
      "source": [
        "# View the first three windows/labels\n",
        "\n",
        "for i in range(3):\n",
        "  print(f\"Window: {full_windows[i]} -> Label: {full_labels[i]}\")"
      ],
      "metadata": {
        "colab": {
          "base_uri": "https://localhost:8080/"
        },
        "id": "3cp-Yq6Kodhs",
        "outputId": "96bb216d-9daa-46ed-d3bf-3541799bd0d5"
      },
      "execution_count": 30,
      "outputs": [
        {
          "output_type": "stream",
          "name": "stdout",
          "text": [
            "Window: [123.65499 125.455   108.58483 118.67466 121.33866 120.65533 121.795  ] -> Label: [123.033]\n",
            "Window: [125.455   108.58483 118.67466 121.33866 120.65533 121.795   123.033  ] -> Label: [124.049]\n",
            "Window: [108.58483 118.67466 121.33866 120.65533 121.795   123.033   124.049  ] -> Label: [125.96116]\n"
          ]
        }
      ]
    },
    {
      "cell_type": "markdown",
      "source": [
        "### Turning windows into training and test sets"
      ],
      "metadata": {
        "id": "L1GLRpXNplZa"
      }
    },
    {
      "cell_type": "code",
      "source": [
        "# Make the train test split\n",
        "\n",
        "def make_train_test_split(windows, labels, test_split=0.2):\n",
        "\n",
        "  split_size = int(len(windows) * (1-test_split))\n",
        "  train_windows = windows[:split_size]\n",
        "  train_labels = labels[:split_size]\n",
        "  test_windows = windows[split_size:]\n",
        "  test_labels = labels[split_size:]\n",
        "\n",
        "  return train_windows, test_windows, train_labels, test_labels"
      ],
      "metadata": {
        "id": "Z_Lz-h6HpRke"
      },
      "execution_count": 31,
      "outputs": []
    },
    {
      "cell_type": "code",
      "source": [
        "train_windows, test_windows, train_labels, test_labels = make_train_test_split(full_windows, full_labels)\n",
        "len(train_windows), len(test_windows), len(train_labels), len(test_labels)"
      ],
      "metadata": {
        "colab": {
          "base_uri": "https://localhost:8080/"
        },
        "id": "TJwMFnKArrGT",
        "outputId": "ea1fb290-144c-4531-bc69-389858b30d3e"
      },
      "execution_count": 32,
      "outputs": [
        {
          "output_type": "execute_result",
          "data": {
            "text/plain": [
              "(2224, 556, 2224, 556)"
            ]
          },
          "metadata": {},
          "execution_count": 32
        }
      ]
    },
    {
      "cell_type": "code",
      "source": [
        "train_windows[:5], train_labels[:5]"
      ],
      "metadata": {
        "colab": {
          "base_uri": "https://localhost:8080/"
        },
        "id": "mdae9nPmr-TP",
        "outputId": "497cc80c-ca19-47ff-c3dd-72415017ecaa"
      },
      "execution_count": 33,
      "outputs": [
        {
          "output_type": "execute_result",
          "data": {
            "text/plain": [
              "(array([[123.65499, 125.455  , 108.58483, 118.67466, 121.33866, 120.65533,\n",
              "         121.795  ],\n",
              "        [125.455  , 108.58483, 118.67466, 121.33866, 120.65533, 121.795  ,\n",
              "         123.033  ],\n",
              "        [108.58483, 118.67466, 121.33866, 120.65533, 121.795  , 123.033  ,\n",
              "         124.049  ],\n",
              "        [118.67466, 121.33866, 120.65533, 121.795  , 123.033  , 124.049  ,\n",
              "         125.96116],\n",
              "        [121.33866, 120.65533, 121.795  , 123.033  , 124.049  , 125.96116,\n",
              "         125.27966]]), array([[123.033  ],\n",
              "        [124.049  ],\n",
              "        [125.96116],\n",
              "        [125.27966],\n",
              "        [125.9275 ]]))"
            ]
          },
          "metadata": {},
          "execution_count": 33
        }
      ]
    },
    {
      "cell_type": "markdown",
      "source": [
        "### Make modelling checkpoint"
      ],
      "metadata": {
        "id": "TgtlgPZPsjEu"
      }
    },
    {
      "cell_type": "code",
      "source": [
        "import os\n",
        "\n",
        "# Create a function ti implement model checkpoint callback with a specific filename\n",
        "\n",
        "def create_model_checkpoint(model_name, save_path=\"model_experiments\"):\n",
        "  \n",
        "  return tf.keras.callbacks.ModelCheckpoint(filepath=os.path.join(save_path, model_name),\n",
        "                                            verbose=0,\n",
        "                                            save_best_only=True)"
      ],
      "metadata": {
        "id": "qFXvvNMYslwM"
      },
      "execution_count": 34,
      "outputs": []
    },
    {
      "cell_type": "markdown",
      "source": [
        "### Model 1: Dense model (window = 7, horizon = 1)"
      ],
      "metadata": {
        "id": "Z9baqLMTd2nL"
      }
    },
    {
      "cell_type": "code",
      "source": [
        "import tensorflow as tf\n",
        "from tensorflow.keras import layers\n",
        "\n",
        "# Set seed\n",
        "tf.random.set_seed(42)\n",
        "\n",
        "# Construct model\n",
        "model_1 = tf.keras.Sequential([\n",
        "    layers.Dense(128, activation=\"relu\"),\n",
        "    layers.Dense(HORIZON, activation=\"linear\")\n",
        "], name=\"model_1_dense\")\n",
        "\n",
        "# Compile model\n",
        "model_1.compile(loss=\"mae\",\n",
        "                optimizer=tf.keras.optimizers.Adam(),\n",
        "                metrics=[\"mae\"])\n",
        "\n",
        "# Fit model\n",
        "model_1.fit(x=train_windows,\n",
        "            y=train_labels,\n",
        "            epochs=100,\n",
        "            verbose=1,\n",
        "            batch_size=128,\n",
        "            validation_data=(test_windows, test_labels),\n",
        "            callbacks=[create_model_checkpoint(model_name=model_1.name)])"
      ],
      "metadata": {
        "colab": {
          "base_uri": "https://localhost:8080/"
        },
        "id": "N3JjZ0mzu6_9",
        "outputId": "8885f7ad-2b0d-4cd9-875f-e5df9b37f3d8"
      },
      "execution_count": 35,
      "outputs": [
        {
          "output_type": "stream",
          "name": "stdout",
          "text": [
            "Epoch 1/100\n",
            "11/18 [=================>............] - ETA: 0s - loss: 534.7814 - mae: 534.7814    "
          ]
        },
        {
          "output_type": "stream",
          "name": "stderr",
          "text": [
            "WARNING:absl:Found untraced functions such as _update_step_xla while saving (showing 1 of 1). These functions will not be directly callable after loading.\n"
          ]
        },
        {
          "output_type": "stream",
          "name": "stdout",
          "text": [
            "\b\b\b\b\b\b\b\b\b\b\b\b\b\b\b\b\b\b\b\b\b\b\b\b\b\b\b\b\b\b\b\b\b\b\b\b\b\b\b\b\b\b\b\b\b\b\b\b\b\b\b\b\b\b\b\b\b\b\b\b\b\b\b\b\b\b\b\b\b\b\b\b\b\b\b\b\b\b\b\b\b\r18/18 [==============================] - 10s 116ms/step - loss: 445.4872 - mae: 445.4872 - val_loss: 1501.2556 - val_mae: 1501.2556\n",
            "Epoch 2/100\n",
            "18/18 [==============================] - ETA: 0s - loss: 211.6121 - mae: 211.6121"
          ]
        },
        {
          "output_type": "stream",
          "name": "stderr",
          "text": [
            "WARNING:absl:Found untraced functions such as _update_step_xla while saving (showing 1 of 1). These functions will not be directly callable after loading.\n"
          ]
        },
        {
          "output_type": "stream",
          "name": "stdout",
          "text": [
            "\b\b\b\b\b\b\b\b\b\b\b\b\b\b\b\b\b\b\b\b\b\b\b\b\b\b\b\b\b\b\b\b\b\b\b\b\b\b\b\b\b\b\b\b\b\b\b\b\b\b\b\b\b\b\b\b\b\b\b\b\b\b\b\b\b\b\b\b\b\b\b\b\b\b\b\b\b\b\b\b\b\r18/18 [==============================] - 1s 71ms/step - loss: 211.6121 - mae: 211.6121 - val_loss: 1172.2086 - val_mae: 1172.2086\n",
            "Epoch 3/100\n",
            "16/18 [=========================>....] - ETA: 0s - loss: 185.1749 - mae: 185.1749"
          ]
        },
        {
          "output_type": "stream",
          "name": "stderr",
          "text": [
            "WARNING:absl:Found untraced functions such as _update_step_xla while saving (showing 1 of 1). These functions will not be directly callable after loading.\n"
          ]
        },
        {
          "output_type": "stream",
          "name": "stdout",
          "text": [
            "\b\b\b\b\b\b\b\b\b\b\b\b\b\b\b\b\b\b\b\b\b\b\b\b\b\b\b\b\b\b\b\b\b\b\b\b\b\b\b\b\b\b\b\b\b\b\b\b\b\b\b\b\b\b\b\b\b\b\b\b\b\b\b\b\b\b\b\b\b\b\b\b\b\b\b\b\b\b\b\b\b\r18/18 [==============================] - 2s 100ms/step - loss: 182.4672 - mae: 182.4672 - val_loss: 1009.5023 - val_mae: 1009.5023\n",
            "Epoch 4/100\n",
            "17/18 [===========================>..] - ETA: 0s - loss: 173.3947 - mae: 173.3947"
          ]
        },
        {
          "output_type": "stream",
          "name": "stderr",
          "text": [
            "WARNING:absl:Found untraced functions such as _update_step_xla while saving (showing 1 of 1). These functions will not be directly callable after loading.\n"
          ]
        },
        {
          "output_type": "stream",
          "name": "stdout",
          "text": [
            "\b\b\b\b\b\b\b\b\b\b\b\b\b\b\b\b\b\b\b\b\b\b\b\b\b\b\b\b\b\b\b\b\b\b\b\b\b\b\b\b\b\b\b\b\b\b\b\b\b\b\b\b\b\b\b\b\b\b\b\b\b\b\b\b\b\b\b\b\b\b\b\b\b\b\b\b\b\b\b\b\b\r18/18 [==============================] - 2s 140ms/step - loss: 171.5121 - mae: 171.5121 - val_loss: 960.3114 - val_mae: 960.3114\n",
            "Epoch 5/100\n",
            "17/18 [===========================>..] - ETA: 0s - loss: 165.6069 - mae: 165.6069"
          ]
        },
        {
          "output_type": "stream",
          "name": "stderr",
          "text": [
            "WARNING:absl:Found untraced functions such as _update_step_xla while saving (showing 1 of 1). These functions will not be directly callable after loading.\n"
          ]
        },
        {
          "output_type": "stream",
          "name": "stdout",
          "text": [
            "\b\b\b\b\b\b\b\b\b\b\b\b\b\b\b\b\b\b\b\b\b\b\b\b\b\b\b\b\b\b\b\b\b\b\b\b\b\b\b\b\b\b\b\b\b\b\b\b\b\b\b\b\b\b\b\b\b\b\b\b\b\b\b\b\b\b\b\b\b\b\b\b\b\b\b\b\b\b\b\b\b\r18/18 [==============================] - 1s 81ms/step - loss: 164.1090 - mae: 164.1090 - val_loss: 890.3367 - val_mae: 890.3367\n",
            "Epoch 6/100\n",
            "18/18 [==============================] - 0s 16ms/step - loss: 166.4735 - mae: 166.4735 - val_loss: 910.9880 - val_mae: 910.9880\n",
            "Epoch 7/100\n",
            "17/18 [===========================>..] - ETA: 0s - loss: 156.5041 - mae: 156.5041"
          ]
        },
        {
          "output_type": "stream",
          "name": "stderr",
          "text": [
            "WARNING:absl:Found untraced functions such as _update_step_xla while saving (showing 1 of 1). These functions will not be directly callable after loading.\n"
          ]
        },
        {
          "output_type": "stream",
          "name": "stdout",
          "text": [
            "\b\b\b\b\b\b\b\b\b\b\b\b\b\b\b\b\b\b\b\b\b\b\b\b\b\b\b\b\b\b\b\b\b\b\b\b\b\b\b\b\b\b\b\b\b\b\b\b\b\b\b\b\b\b\b\b\b\b\b\b\b\b\b\b\b\b\b\b\b\b\b\b\b\b\b\b\b\b\b\b\b\r18/18 [==============================] - 1s 63ms/step - loss: 156.0130 - mae: 156.0130 - val_loss: 809.8968 - val_mae: 809.8968\n",
            "Epoch 8/100\n",
            "14/18 [======================>.......] - ETA: 0s - loss: 143.7148 - mae: 143.7148"
          ]
        },
        {
          "output_type": "stream",
          "name": "stderr",
          "text": [
            "WARNING:absl:Found untraced functions such as _update_step_xla while saving (showing 1 of 1). These functions will not be directly callable after loading.\n"
          ]
        },
        {
          "output_type": "stream",
          "name": "stdout",
          "text": [
            "\b\b\b\b\b\b\b\b\b\b\b\b\b\b\b\b\b\b\b\b\b\b\b\b\b\b\b\b\b\b\b\b\b\b\b\b\b\b\b\b\b\b\b\b\b\b\b\b\b\b\b\b\b\b\b\b\b\b\b\b\b\b\b\b\b\b\b\b\b\b\b\b\b\b\b\b\b\b\b\b\b\r18/18 [==============================] - 1s 70ms/step - loss: 144.1684 - mae: 144.1684 - val_loss: 795.5741 - val_mae: 795.5741\n",
            "Epoch 9/100\n",
            "16/18 [=========================>....] - ETA: 0s - loss: 146.3791 - mae: 146.3791"
          ]
        },
        {
          "output_type": "stream",
          "name": "stderr",
          "text": [
            "WARNING:absl:Found untraced functions such as _update_step_xla while saving (showing 1 of 1). These functions will not be directly callable after loading.\n"
          ]
        },
        {
          "output_type": "stream",
          "name": "stdout",
          "text": [
            "\b\b\b\b\b\b\b\b\b\b\b\b\b\b\b\b\b\b\b\b\b\b\b\b\b\b\b\b\b\b\b\b\b\b\b\b\b\b\b\b\b\b\b\b\b\b\b\b\b\b\b\b\b\b\b\b\b\b\b\b\b\b\b\b\b\b\b\b\b\b\b\b\b\b\b\b\b\b\b\b\b\r18/18 [==============================] - 1s 38ms/step - loss: 143.6204 - mae: 143.6204 - val_loss: 756.3806 - val_mae: 756.3806\n",
            "Epoch 10/100\n",
            "18/18 [==============================] - ETA: 0s - loss: 137.3962 - mae: 137.3962"
          ]
        },
        {
          "output_type": "stream",
          "name": "stderr",
          "text": [
            "WARNING:absl:Found untraced functions such as _update_step_xla while saving (showing 1 of 1). These functions will not be directly callable after loading.\n"
          ]
        },
        {
          "output_type": "stream",
          "name": "stdout",
          "text": [
            "\b\b\b\b\b\b\b\b\b\b\b\b\b\b\b\b\b\b\b\b\b\b\b\b\b\b\b\b\b\b\b\b\b\b\b\b\b\b\b\b\b\b\b\b\b\b\b\b\b\b\b\b\b\b\b\b\b\b\b\b\b\b\b\b\b\b\b\b\b\b\b\b\b\b\b\b\b\b\b\b\b\r18/18 [==============================] - 1s 37ms/step - loss: 137.3962 - mae: 137.3962 - val_loss: 731.5561 - val_mae: 731.5561\n",
            "Epoch 11/100\n",
            "17/18 [===========================>..] - ETA: 0s - loss: 131.6959 - mae: 131.6959"
          ]
        },
        {
          "output_type": "stream",
          "name": "stderr",
          "text": [
            "WARNING:absl:Found untraced functions such as _update_step_xla while saving (showing 1 of 1). These functions will not be directly callable after loading.\n"
          ]
        },
        {
          "output_type": "stream",
          "name": "stdout",
          "text": [
            "\b\b\b\b\b\b\b\b\b\b\b\b\b\b\b\b\b\b\b\b\b\b\b\b\b\b\b\b\b\b\b\b\b\b\b\b\b\b\b\b\b\b\b\b\b\b\b\b\b\b\b\b\b\b\b\b\b\b\b\b\b\b\b\b\b\b\b\b\b\b\b\b\b\b\b\b\b\b\b\b\b\r18/18 [==============================] - 1s 36ms/step - loss: 130.9842 - mae: 130.9842 - val_loss: 725.4673 - val_mae: 725.4673\n",
            "Epoch 12/100\n",
            "18/18 [==============================] - 0s 7ms/step - loss: 127.8130 - mae: 127.8130 - val_loss: 792.4505 - val_mae: 792.4505\n",
            "Epoch 13/100\n",
            "18/18 [==============================] - 0s 6ms/step - loss: 134.9944 - mae: 134.9944 - val_loss: 764.4218 - val_mae: 764.4218\n",
            "Epoch 14/100\n",
            " 1/18 [>.............................] - ETA: 0s - loss: 130.5890 - mae: 130.5890"
          ]
        },
        {
          "output_type": "stream",
          "name": "stderr",
          "text": [
            "WARNING:absl:Found untraced functions such as _update_step_xla while saving (showing 1 of 1). These functions will not be directly callable after loading.\n"
          ]
        },
        {
          "output_type": "stream",
          "name": "stdout",
          "text": [
            "\b\b\b\b\b\b\b\b\b\b\b\b\b\b\b\b\b\b\b\b\b\b\b\b\b\b\b\b\b\b\b\b\b\b\b\b\b\b\b\b\b\b\b\b\b\b\b\b\b\b\b\b\b\b\b\b\b\b\b\b\b\b\b\b\b\b\b\b\b\b\b\b\b\b\b\b\b\b\b\b\b\r18/18 [==============================] - 1s 36ms/step - loss: 125.0555 - mae: 125.0555 - val_loss: 664.6445 - val_mae: 664.6445\n",
            "Epoch 15/100\n",
            "18/18 [==============================] - 0s 6ms/step - loss: 123.3511 - mae: 123.3511 - val_loss: 669.1346 - val_mae: 669.1346\n",
            "Epoch 16/100\n",
            "18/18 [==============================] - 0s 5ms/step - loss: 118.4526 - mae: 118.4526 - val_loss: 680.0908 - val_mae: 680.0908\n",
            "Epoch 17/100\n",
            " 1/18 [>.............................] - ETA: 0s - loss: 104.4821 - mae: 104.4821"
          ]
        },
        {
          "output_type": "stream",
          "name": "stderr",
          "text": [
            "WARNING:absl:Found untraced functions such as _update_step_xla while saving (showing 1 of 1). These functions will not be directly callable after loading.\n"
          ]
        },
        {
          "output_type": "stream",
          "name": "stdout",
          "text": [
            "\b\b\b\b\b\b\b\b\b\b\b\b\b\b\b\b\b\b\b\b\b\b\b\b\b\b\b\b\b\b\b\b\b\b\b\b\b\b\b\b\b\b\b\b\b\b\b\b\b\b\b\b\b\b\b\b\b\b\b\b\b\b\b\b\b\b\b\b\b\b\b\b\b\b\b\b\b\b\b\b\b\r18/18 [==============================] - 1s 35ms/step - loss: 116.5723 - mae: 116.5723 - val_loss: 638.3796 - val_mae: 638.3796\n",
            "Epoch 18/100\n",
            "17/18 [===========================>..] - ETA: 0s - loss: 118.1107 - mae: 118.1107"
          ]
        },
        {
          "output_type": "stream",
          "name": "stderr",
          "text": [
            "WARNING:absl:Found untraced functions such as _update_step_xla while saving (showing 1 of 1). These functions will not be directly callable after loading.\n"
          ]
        },
        {
          "output_type": "stream",
          "name": "stdout",
          "text": [
            "\b\b\b\b\b\b\b\b\b\b\b\b\b\b\b\b\b\b\b\b\b\b\b\b\b\b\b\b\b\b\b\b\b\b\b\b\b\b\b\b\b\b\b\b\b\b\b\b\b\b\b\b\b\b\b\b\b\b\b\b\b\b\b\b\b\b\b\b\b\b\b\b\b\b\b\b\b\b\b\b\b\r18/18 [==============================] - 1s 36ms/step - loss: 117.0500 - mae: 117.0500 - val_loss: 628.6786 - val_mae: 628.6786\n",
            "Epoch 19/100\n",
            "18/18 [==============================] - 0s 5ms/step - loss: 116.3830 - mae: 116.3830 - val_loss: 773.0541 - val_mae: 773.0541\n",
            "Epoch 20/100\n",
            "18/18 [==============================] - ETA: 0s - loss: 118.1536 - mae: 118.1536"
          ]
        },
        {
          "output_type": "stream",
          "name": "stderr",
          "text": [
            "WARNING:absl:Found untraced functions such as _update_step_xla while saving (showing 1 of 1). These functions will not be directly callable after loading.\n"
          ]
        },
        {
          "output_type": "stream",
          "name": "stdout",
          "text": [
            "\b\b\b\b\b\b\b\b\b\b\b\b\b\b\b\b\b\b\b\b\b\b\b\b\b\b\b\b\b\b\b\b\b\b\b\b\b\b\b\b\b\b\b\b\b\b\b\b\b\b\b\b\b\b\b\b\b\b\b\b\b\b\b\b\b\b\b\b\b\b\b\b\b\b\b\b\b\b\b\b\b\r18/18 [==============================] - 1s 36ms/step - loss: 118.1536 - mae: 118.1536 - val_loss: 617.5555 - val_mae: 617.5555\n",
            "Epoch 21/100\n",
            "18/18 [==============================] - 0s 5ms/step - loss: 116.7072 - mae: 116.7072 - val_loss: 630.6942 - val_mae: 630.6942\n",
            "Epoch 22/100\n",
            "17/18 [===========================>..] - ETA: 0s - loss: 116.1931 - mae: 116.1931"
          ]
        },
        {
          "output_type": "stream",
          "name": "stderr",
          "text": [
            "WARNING:absl:Found untraced functions such as _update_step_xla while saving (showing 1 of 1). These functions will not be directly callable after loading.\n"
          ]
        },
        {
          "output_type": "stream",
          "name": "stdout",
          "text": [
            "\b\b\b\b\b\b\b\b\b\b\b\b\b\b\b\b\b\b\b\b\b\b\b\b\b\b\b\b\b\b\b\b\b\b\b\b\b\b\b\b\b\b\b\b\b\b\b\b\b\b\b\b\b\b\b\b\b\b\b\b\b\b\b\b\b\b\b\b\b\b\b\b\b\b\b\b\b\b\b\b\b\r18/18 [==============================] - 1s 36ms/step - loss: 116.1170 - mae: 116.1170 - val_loss: 612.6387 - val_mae: 612.6387\n",
            "Epoch 23/100\n",
            "18/18 [==============================] - ETA: 0s - loss: 118.9536 - mae: 118.9536"
          ]
        },
        {
          "output_type": "stream",
          "name": "stderr",
          "text": [
            "WARNING:absl:Found untraced functions such as _update_step_xla while saving (showing 1 of 1). These functions will not be directly callable after loading.\n"
          ]
        },
        {
          "output_type": "stream",
          "name": "stdout",
          "text": [
            "\b\b\b\b\b\b\b\b\b\b\b\b\b\b\b\b\b\b\b\b\b\b\b\b\b\b\b\b\b\b\b\b\b\b\b\b\b\b\b\b\b\b\b\b\b\b\b\b\b\b\b\b\b\b\b\b\b\b\b\b\b\b\b\b\b\b\b\b\b\b\b\b\b\b\b\b\b\b\b\b\b\r18/18 [==============================] - 1s 39ms/step - loss: 118.9536 - mae: 118.9536 - val_loss: 607.4247 - val_mae: 607.4247\n",
            "Epoch 24/100\n",
            "18/18 [==============================] - 0s 8ms/step - loss: 118.5419 - mae: 118.5419 - val_loss: 623.9791 - val_mae: 623.9791\n",
            "Epoch 25/100\n",
            "18/18 [==============================] - 0s 8ms/step - loss: 112.6908 - mae: 112.6908 - val_loss: 615.3011 - val_mae: 615.3011\n",
            "Epoch 26/100\n",
            "10/18 [===============>..............] - ETA: 0s - loss: 113.5716 - mae: 113.5716"
          ]
        },
        {
          "output_type": "stream",
          "name": "stderr",
          "text": [
            "WARNING:absl:Found untraced functions such as _update_step_xla while saving (showing 1 of 1). These functions will not be directly callable after loading.\n"
          ]
        },
        {
          "output_type": "stream",
          "name": "stdout",
          "text": [
            "\b\b\b\b\b\b\b\b\b\b\b\b\b\b\b\b\b\b\b\b\b\b\b\b\b\b\b\b\b\b\b\b\b\b\b\b\b\b\b\b\b\b\b\b\b\b\b\b\b\b\b\b\b\b\b\b\b\b\b\b\b\b\b\b\b\b\b\b\b\b\b\b\b\b\b\b\b\b\b\b\b\r18/18 [==============================] - 1s 63ms/step - loss: 113.4122 - mae: 113.4122 - val_loss: 604.3959 - val_mae: 604.3959\n",
            "Epoch 27/100\n",
            "18/18 [==============================] - 0s 8ms/step - loss: 112.3690 - mae: 112.3690 - val_loss: 639.3118 - val_mae: 639.3118\n",
            "Epoch 28/100\n",
            "13/18 [====================>.........] - ETA: 0s - loss: 114.6613 - mae: 114.6613"
          ]
        },
        {
          "output_type": "stream",
          "name": "stderr",
          "text": [
            "WARNING:absl:Found untraced functions such as _update_step_xla while saving (showing 1 of 1). These functions will not be directly callable after loading.\n"
          ]
        },
        {
          "output_type": "stream",
          "name": "stdout",
          "text": [
            "\b\b\b\b\b\b\b\b\b\b\b\b\b\b\b\b\b\b\b\b\b\b\b\b\b\b\b\b\b\b\b\b\b\b\b\b\b\b\b\b\b\b\b\b\b\b\b\b\b\b\b\b\b\b\b\b\b\b\b\b\b\b\b\b\b\b\b\b\b\b\b\b\b\b\b\b\b\b\b\b\b\r18/18 [==============================] - 1s 50ms/step - loss: 114.9180 - mae: 114.9180 - val_loss: 600.3041 - val_mae: 600.3041\n",
            "Epoch 29/100\n",
            "18/18 [==============================] - 0s 5ms/step - loss: 110.2869 - mae: 110.2869 - val_loss: 615.2357 - val_mae: 615.2357\n",
            "Epoch 30/100\n",
            " 1/18 [>.............................] - ETA: 0s - loss: 126.3437 - mae: 126.3437"
          ]
        },
        {
          "output_type": "stream",
          "name": "stderr",
          "text": [
            "WARNING:absl:Found untraced functions such as _update_step_xla while saving (showing 1 of 1). These functions will not be directly callable after loading.\n"
          ]
        },
        {
          "output_type": "stream",
          "name": "stdout",
          "text": [
            "\b\b\b\b\b\b\b\b\b\b\b\b\b\b\b\b\b\b\b\b\b\b\b\b\b\b\b\b\b\b\b\b\b\b\b\b\b\b\b\b\b\b\b\b\b\b\b\b\b\b\b\b\b\b\b\b\b\b\b\b\b\b\b\b\b\b\b\b\b\b\b\b\b\b\b\b\b\b\b\b\b\r18/18 [==============================] - 1s 36ms/step - loss: 115.0707 - mae: 115.0707 - val_loss: 590.5516 - val_mae: 590.5516\n",
            "Epoch 31/100\n",
            "18/18 [==============================] - 0s 6ms/step - loss: 118.2030 - mae: 118.2030 - val_loss: 697.0140 - val_mae: 697.0140\n",
            "Epoch 32/100\n",
            "18/18 [==============================] - 0s 5ms/step - loss: 113.9371 - mae: 113.9371 - val_loss: 608.3583 - val_mae: 608.3583\n",
            "Epoch 33/100\n",
            "18/18 [==============================] - 0s 5ms/step - loss: 112.6019 - mae: 112.6019 - val_loss: 630.5641 - val_mae: 630.5641\n",
            "Epoch 34/100\n",
            "18/18 [==============================] - 0s 6ms/step - loss: 110.7354 - mae: 110.7354 - val_loss: 592.4791 - val_mae: 592.4791\n",
            "Epoch 35/100\n",
            "17/18 [===========================>..] - ETA: 0s - loss: 110.2163 - mae: 110.2163"
          ]
        },
        {
          "output_type": "stream",
          "name": "stderr",
          "text": [
            "WARNING:absl:Found untraced functions such as _update_step_xla while saving (showing 1 of 1). These functions will not be directly callable after loading.\n"
          ]
        },
        {
          "output_type": "stream",
          "name": "stdout",
          "text": [
            "\b\b\b\b\b\b\b\b\b\b\b\b\b\b\b\b\b\b\b\b\b\b\b\b\b\b\b\b\b\b\b\b\b\b\b\b\b\b\b\b\b\b\b\b\b\b\b\b\b\b\b\b\b\b\b\b\b\b\b\b\b\b\b\b\b\b\b\b\b\b\b\b\b\b\b\b\b\b\b\b\b\r18/18 [==============================] - 1s 35ms/step - loss: 109.9672 - mae: 109.9672 - val_loss: 585.1927 - val_mae: 585.1927\n",
            "Epoch 36/100\n",
            " 1/18 [>.............................] - ETA: 0s - loss: 155.5277 - mae: 155.5277"
          ]
        },
        {
          "output_type": "stream",
          "name": "stderr",
          "text": [
            "WARNING:absl:Found untraced functions such as _update_step_xla while saving (showing 1 of 1). These functions will not be directly callable after loading.\n"
          ]
        },
        {
          "output_type": "stream",
          "name": "stdout",
          "text": [
            "\b\b\b\b\b\b\b\b\b\b\b\b\b\b\b\b\b\b\b\b\b\b\b\b\b\b\b\b\b\b\b\b\b\b\b\b\b\b\b\b\b\b\b\b\b\b\b\b\b\b\b\b\b\b\b\b\b\b\b\b\b\b\b\b\b\b\b\b\b\b\b\b\b\b\b\b\b\b\b\b\b\r18/18 [==============================] - 1s 36ms/step - loss: 116.6583 - mae: 116.6583 - val_loss: 582.6672 - val_mae: 582.6672\n",
            "Epoch 37/100\n",
            "18/18 [==============================] - 0s 6ms/step - loss: 114.7805 - mae: 114.7805 - val_loss: 606.3294 - val_mae: 606.3294\n",
            "Epoch 38/100\n",
            "18/18 [==============================] - 0s 5ms/step - loss: 111.6956 - mae: 111.6956 - val_loss: 583.9776 - val_mae: 583.9776\n",
            "Epoch 39/100\n",
            "16/18 [=========================>....] - ETA: 0s - loss: 110.5032 - mae: 110.5032"
          ]
        },
        {
          "output_type": "stream",
          "name": "stderr",
          "text": [
            "WARNING:absl:Found untraced functions such as _update_step_xla while saving (showing 1 of 1). These functions will not be directly callable after loading.\n"
          ]
        },
        {
          "output_type": "stream",
          "name": "stdout",
          "text": [
            "\b\b\b\b\b\b\b\b\b\b\b\b\b\b\b\b\b\b\b\b\b\b\b\b\b\b\b\b\b\b\b\b\b\b\b\b\b\b\b\b\b\b\b\b\b\b\b\b\b\b\b\b\b\b\b\b\b\b\b\b\b\b\b\b\b\b\b\b\b\b\b\b\b\b\b\b\b\b\b\b\b\r18/18 [==============================] - 1s 37ms/step - loss: 108.7705 - mae: 108.7705 - val_loss: 580.1364 - val_mae: 580.1364\n",
            "Epoch 40/100\n",
            "18/18 [==============================] - 0s 6ms/step - loss: 108.8479 - mae: 108.8479 - val_loss: 596.9850 - val_mae: 596.9850\n",
            "Epoch 41/100\n",
            "18/18 [==============================] - 0s 5ms/step - loss: 109.6047 - mae: 109.6047 - val_loss: 628.0644 - val_mae: 628.0644\n",
            "Epoch 42/100\n",
            "18/18 [==============================] - 0s 6ms/step - loss: 113.2258 - mae: 113.2258 - val_loss: 620.8097 - val_mae: 620.8097\n",
            "Epoch 43/100\n",
            "18/18 [==============================] - 0s 5ms/step - loss: 110.4039 - mae: 110.4039 - val_loss: 663.4955 - val_mae: 663.4955\n",
            "Epoch 44/100\n",
            "18/18 [==============================] - 0s 6ms/step - loss: 112.2384 - mae: 112.2384 - val_loss: 590.8779 - val_mae: 590.8779\n",
            "Epoch 45/100\n",
            "18/18 [==============================] - 0s 7ms/step - loss: 109.0315 - mae: 109.0315 - val_loss: 601.4999 - val_mae: 601.4999\n",
            "Epoch 46/100\n",
            "18/18 [==============================] - 0s 6ms/step - loss: 109.7182 - mae: 109.7182 - val_loss: 641.3774 - val_mae: 641.3774\n",
            "Epoch 47/100\n",
            "18/18 [==============================] - 0s 5ms/step - loss: 113.9272 - mae: 113.9272 - val_loss: 615.6501 - val_mae: 615.6501\n",
            "Epoch 48/100\n",
            "18/18 [==============================] - 0s 5ms/step - loss: 109.0823 - mae: 109.0823 - val_loss: 584.1050 - val_mae: 584.1050\n",
            "Epoch 49/100\n",
            "18/18 [==============================] - 0s 6ms/step - loss: 108.7669 - mae: 108.7669 - val_loss: 627.1256 - val_mae: 627.1256\n",
            "Epoch 50/100\n",
            "18/18 [==============================] - 0s 6ms/step - loss: 113.8004 - mae: 113.8004 - val_loss: 607.7923 - val_mae: 607.7923\n",
            "Epoch 51/100\n",
            "18/18 [==============================] - 0s 6ms/step - loss: 110.1128 - mae: 110.1128 - val_loss: 587.2297 - val_mae: 587.2297\n",
            "Epoch 52/100\n",
            "18/18 [==============================] - ETA: 0s - loss: 110.8683 - mae: 110.8683"
          ]
        },
        {
          "output_type": "stream",
          "name": "stderr",
          "text": [
            "WARNING:absl:Found untraced functions such as _update_step_xla while saving (showing 1 of 1). These functions will not be directly callable after loading.\n"
          ]
        },
        {
          "output_type": "stream",
          "name": "stdout",
          "text": [
            "\b\b\b\b\b\b\b\b\b\b\b\b\b\b\b\b\b\b\b\b\b\b\b\b\b\b\b\b\b\b\b\b\b\b\b\b\b\b\b\b\b\b\b\b\b\b\b\b\b\b\b\b\b\b\b\b\b\b\b\b\b\b\b\b\b\b\b\b\b\b\b\b\b\b\b\b\b\b\b\b\b\r18/18 [==============================] - 1s 51ms/step - loss: 110.8683 - mae: 110.8683 - val_loss: 576.1506 - val_mae: 576.1506\n",
            "Epoch 53/100\n",
            "18/18 [==============================] - 0s 6ms/step - loss: 109.8928 - mae: 109.8928 - val_loss: 596.3461 - val_mae: 596.3461\n",
            "Epoch 54/100\n",
            "18/18 [==============================] - 0s 6ms/step - loss: 108.1258 - mae: 108.1258 - val_loss: 600.0668 - val_mae: 600.0668\n",
            "Epoch 55/100\n",
            "18/18 [==============================] - 0s 7ms/step - loss: 116.1647 - mae: 116.1647 - val_loss: 578.5346 - val_mae: 578.5346\n",
            "Epoch 56/100\n",
            "18/18 [==============================] - 0s 6ms/step - loss: 110.3848 - mae: 110.3848 - val_loss: 794.2667 - val_mae: 794.2667\n",
            "Epoch 57/100\n",
            "18/18 [==============================] - 0s 5ms/step - loss: 129.4376 - mae: 129.4376 - val_loss: 805.4193 - val_mae: 805.4193\n",
            "Epoch 58/100\n",
            "18/18 [==============================] - 0s 5ms/step - loss: 119.1495 - mae: 119.1495 - val_loss: 643.7413 - val_mae: 643.7413\n",
            "Epoch 59/100\n",
            "18/18 [==============================] - 0s 6ms/step - loss: 109.3654 - mae: 109.3654 - val_loss: 585.4525 - val_mae: 585.4525\n",
            "Epoch 60/100\n",
            "17/18 [===========================>..] - ETA: 0s - loss: 106.4905 - mae: 106.4905"
          ]
        },
        {
          "output_type": "stream",
          "name": "stderr",
          "text": [
            "WARNING:absl:Found untraced functions such as _update_step_xla while saving (showing 1 of 1). These functions will not be directly callable after loading.\n"
          ]
        },
        {
          "output_type": "stream",
          "name": "stdout",
          "text": [
            "\b\b\b\b\b\b\b\b\b\b\b\b\b\b\b\b\b\b\b\b\b\b\b\b\b\b\b\b\b\b\b\b\b\b\b\b\b\b\b\b\b\b\b\b\b\b\b\b\b\b\b\b\b\b\b\b\b\b\b\b\b\b\b\b\b\b\b\b\b\b\b\b\b\b\b\b\b\b\b\b\b\r18/18 [==============================] - 1s 36ms/step - loss: 107.5648 - mae: 107.5648 - val_loss: 575.3683 - val_mae: 575.3683\n",
            "Epoch 61/100\n",
            "18/18 [==============================] - 0s 6ms/step - loss: 107.3610 - mae: 107.3610 - val_loss: 576.7890 - val_mae: 576.7890\n",
            "Epoch 62/100\n",
            "18/18 [==============================] - 0s 5ms/step - loss: 107.5706 - mae: 107.5706 - val_loss: 593.3483 - val_mae: 593.3483\n",
            "Epoch 63/100\n",
            "18/18 [==============================] - 0s 5ms/step - loss: 110.0823 - mae: 110.0823 - val_loss: 664.3505 - val_mae: 664.3505\n",
            "Epoch 64/100\n",
            "18/18 [==============================] - 0s 6ms/step - loss: 109.5707 - mae: 109.5707 - val_loss: 579.8500 - val_mae: 579.8500\n",
            "Epoch 65/100\n",
            "17/18 [===========================>..] - ETA: 0s - loss: 108.0184 - mae: 108.0184"
          ]
        },
        {
          "output_type": "stream",
          "name": "stderr",
          "text": [
            "WARNING:absl:Found untraced functions such as _update_step_xla while saving (showing 1 of 1). These functions will not be directly callable after loading.\n"
          ]
        },
        {
          "output_type": "stream",
          "name": "stdout",
          "text": [
            "\b\b\b\b\b\b\b\b\b\b\b\b\b\b\b\b\b\b\b\b\b\b\b\b\b\b\b\b\b\b\b\b\b\b\b\b\b\b\b\b\b\b\b\b\b\b\b\b\b\b\b\b\b\b\b\b\b\b\b\b\b\b\b\b\b\b\b\b\b\b\b\b\b\b\b\b\b\b\b\b\b\r18/18 [==============================] - 1s 37ms/step - loss: 107.1476 - mae: 107.1476 - val_loss: 572.3912 - val_mae: 572.3912\n",
            "Epoch 66/100\n",
            "18/18 [==============================] - 0s 6ms/step - loss: 108.3627 - mae: 108.3627 - val_loss: 577.4187 - val_mae: 577.4187\n",
            "Epoch 67/100\n",
            "18/18 [==============================] - 0s 6ms/step - loss: 110.1002 - mae: 110.1002 - val_loss: 601.7808 - val_mae: 601.7808\n",
            "Epoch 68/100\n",
            "18/18 [==============================] - 0s 5ms/step - loss: 114.9843 - mae: 114.9843 - val_loss: 746.3689 - val_mae: 746.3689\n",
            "Epoch 69/100\n",
            "18/18 [==============================] - 0s 6ms/step - loss: 125.8539 - mae: 125.8539 - val_loss: 608.4379 - val_mae: 608.4379\n",
            "Epoch 70/100\n",
            "18/18 [==============================] - 0s 6ms/step - loss: 128.6609 - mae: 128.6609 - val_loss: 576.1097 - val_mae: 576.1097\n",
            "Epoch 71/100\n",
            "18/18 [==============================] - 0s 6ms/step - loss: 112.8127 - mae: 112.8127 - val_loss: 586.3662 - val_mae: 586.3662\n",
            "Epoch 72/100\n",
            "18/18 [==============================] - 0s 6ms/step - loss: 107.0825 - mae: 107.0825 - val_loss: 572.5532 - val_mae: 572.5532\n",
            "Epoch 73/100\n",
            "17/18 [===========================>..] - ETA: 0s - loss: 107.6623 - mae: 107.6623"
          ]
        },
        {
          "output_type": "stream",
          "name": "stderr",
          "text": [
            "WARNING:absl:Found untraced functions such as _update_step_xla while saving (showing 1 of 1). These functions will not be directly callable after loading.\n"
          ]
        },
        {
          "output_type": "stream",
          "name": "stdout",
          "text": [
            "\b\b\b\b\b\b\b\b\b\b\b\b\b\b\b\b\b\b\b\b\b\b\b\b\b\b\b\b\b\b\b\b\b\b\b\b\b\b\b\b\b\b\b\b\b\b\b\b\b\b\b\b\b\b\b\b\b\b\b\b\b\b\b\b\b\b\b\b\b\b\b\b\b\b\b\b\b\b\b\b\b\r18/18 [==============================] - 1s 35ms/step - loss: 107.0126 - mae: 107.0126 - val_loss: 569.0294 - val_mae: 569.0294\n",
            "Epoch 74/100\n",
            "18/18 [==============================] - 0s 6ms/step - loss: 109.7855 - mae: 109.7855 - val_loss: 571.6378 - val_mae: 571.6378\n",
            "Epoch 75/100\n",
            "18/18 [==============================] - ETA: 0s - loss: 107.5645 - mae: 107.5645"
          ]
        },
        {
          "output_type": "stream",
          "name": "stderr",
          "text": [
            "WARNING:absl:Found untraced functions such as _update_step_xla while saving (showing 1 of 1). These functions will not be directly callable after loading.\n"
          ]
        },
        {
          "output_type": "stream",
          "name": "stdout",
          "text": [
            "\b\b\b\b\b\b\b\b\b\b\b\b\b\b\b\b\b\b\b\b\b\b\b\b\b\b\b\b\b\b\b\b\b\b\b\b\b\b\b\b\b\b\b\b\b\b\b\b\b\b\b\b\b\b\b\b\b\b\b\b\b\b\b\b\b\b\b\b\b\b\b\b\b\b\b\b\b\b\b\b\b\r18/18 [==============================] - 1s 50ms/step - loss: 107.5645 - mae: 107.5645 - val_loss: 568.7120 - val_mae: 568.7120\n",
            "Epoch 76/100\n",
            "18/18 [==============================] - 0s 8ms/step - loss: 107.8805 - mae: 107.8805 - val_loss: 569.4167 - val_mae: 569.4167\n",
            "Epoch 77/100\n",
            "18/18 [==============================] - 0s 8ms/step - loss: 108.4672 - mae: 108.4672 - val_loss: 599.7966 - val_mae: 599.7966\n",
            "Epoch 78/100\n",
            "18/18 [==============================] - 0s 8ms/step - loss: 106.3618 - mae: 106.3618 - val_loss: 575.0457 - val_mae: 575.0457\n",
            "Epoch 79/100\n",
            "18/18 [==============================] - 0s 8ms/step - loss: 106.2165 - mae: 106.2165 - val_loss: 582.6190 - val_mae: 582.6190\n",
            "Epoch 80/100\n",
            "18/18 [==============================] - 0s 9ms/step - loss: 108.8909 - mae: 108.8909 - val_loss: 575.3475 - val_mae: 575.3475\n",
            "Epoch 81/100\n",
            "10/18 [===============>..............] - ETA: 0s - loss: 105.6138 - mae: 105.6138"
          ]
        },
        {
          "output_type": "stream",
          "name": "stderr",
          "text": [
            "WARNING:absl:Found untraced functions such as _update_step_xla while saving (showing 1 of 1). These functions will not be directly callable after loading.\n"
          ]
        },
        {
          "output_type": "stream",
          "name": "stdout",
          "text": [
            "\b\b\b\b\b\b\b\b\b\b\b\b\b\b\b\b\b\b\b\b\b\b\b\b\b\b\b\b\b\b\b\b\b\b\b\b\b\b\b\b\b\b\b\b\b\b\b\b\b\b\b\b\b\b\b\b\b\b\b\b\b\b\b\b\b\b\b\b\b\b\b\b\b\b\b\b\b\b\b\b\b\r18/18 [==============================] - 1s 56ms/step - loss: 105.4620 - mae: 105.4620 - val_loss: 566.9283 - val_mae: 566.9283\n",
            "Epoch 82/100\n",
            "18/18 [==============================] - 0s 8ms/step - loss: 115.2803 - mae: 115.2803 - val_loss: 574.9020 - val_mae: 574.9020\n",
            "Epoch 83/100\n",
            "18/18 [==============================] - 0s 7ms/step - loss: 110.6481 - mae: 110.6481 - val_loss: 683.5012 - val_mae: 683.5012\n",
            "Epoch 84/100\n",
            "18/18 [==============================] - 0s 7ms/step - loss: 113.0159 - mae: 113.0159 - val_loss: 589.3488 - val_mae: 589.3488\n",
            "Epoch 85/100\n",
            "18/18 [==============================] - 0s 5ms/step - loss: 106.4714 - mae: 106.4714 - val_loss: 577.1330 - val_mae: 577.1330\n",
            "Epoch 86/100\n",
            "18/18 [==============================] - 0s 6ms/step - loss: 106.2032 - mae: 106.2032 - val_loss: 577.8674 - val_mae: 577.8674\n",
            "Epoch 87/100\n",
            "18/18 [==============================] - 0s 5ms/step - loss: 105.3967 - mae: 105.3967 - val_loss: 575.0468 - val_mae: 575.0468\n",
            "Epoch 88/100\n",
            "18/18 [==============================] - 0s 7ms/step - loss: 107.3180 - mae: 107.3180 - val_loss: 571.2151 - val_mae: 571.2151\n",
            "Epoch 89/100\n",
            "18/18 [==============================] - 0s 7ms/step - loss: 106.4700 - mae: 106.4700 - val_loss: 568.0941 - val_mae: 568.0941\n",
            "Epoch 90/100\n",
            "18/18 [==============================] - 0s 6ms/step - loss: 104.6475 - mae: 104.6475 - val_loss: 583.9808 - val_mae: 583.9808\n",
            "Epoch 91/100\n",
            "18/18 [==============================] - 0s 5ms/step - loss: 107.4204 - mae: 107.4204 - val_loss: 568.2631 - val_mae: 568.2631\n",
            "Epoch 92/100\n",
            "18/18 [==============================] - 0s 6ms/step - loss: 109.3470 - mae: 109.3470 - val_loss: 580.0707 - val_mae: 580.0707\n",
            "Epoch 93/100\n",
            "18/18 [==============================] - 0s 5ms/step - loss: 116.9419 - mae: 116.9419 - val_loss: 624.1663 - val_mae: 624.1663\n",
            "Epoch 94/100\n",
            "18/18 [==============================] - 0s 5ms/step - loss: 108.8789 - mae: 108.8789 - val_loss: 579.5588 - val_mae: 579.5588\n",
            "Epoch 95/100\n",
            "18/18 [==============================] - 0s 6ms/step - loss: 105.5417 - mae: 105.5417 - val_loss: 574.4016 - val_mae: 574.4016\n",
            "Epoch 96/100\n",
            "18/18 [==============================] - 0s 7ms/step - loss: 105.2700 - mae: 105.2700 - val_loss: 583.5261 - val_mae: 583.5261\n",
            "Epoch 97/100\n",
            "18/18 [==============================] - 0s 7ms/step - loss: 105.5670 - mae: 105.5670 - val_loss: 572.7467 - val_mae: 572.7467\n",
            "Epoch 98/100\n",
            "18/18 [==============================] - 0s 5ms/step - loss: 104.7809 - mae: 104.7809 - val_loss: 596.7728 - val_mae: 596.7728\n",
            "Epoch 99/100\n",
            "18/18 [==============================] - 0s 5ms/step - loss: 107.3023 - mae: 107.3023 - val_loss: 568.0777 - val_mae: 568.0777\n",
            "Epoch 100/100\n",
            "18/18 [==============================] - 0s 6ms/step - loss: 116.9252 - mae: 116.9252 - val_loss: 718.3881 - val_mae: 718.3881\n"
          ]
        },
        {
          "output_type": "execute_result",
          "data": {
            "text/plain": [
              "<keras.callbacks.History at 0x7f761b6ef880>"
            ]
          },
          "metadata": {},
          "execution_count": 35
        }
      ]
    },
    {
      "cell_type": "code",
      "source": [
        "# Evaluate model on test data\n",
        "\n",
        "model_1.evaluate(test_windows, test_labels)"
      ],
      "metadata": {
        "colab": {
          "base_uri": "https://localhost:8080/"
        },
        "id": "QgtfWRNjhFVP",
        "outputId": "7372a0cd-24c0-494c-d11c-28c93247209c"
      },
      "execution_count": 36,
      "outputs": [
        {
          "output_type": "stream",
          "name": "stdout",
          "text": [
            "18/18 [==============================] - 0s 3ms/step - loss: 718.3880 - mae: 718.3880\n"
          ]
        },
        {
          "output_type": "execute_result",
          "data": {
            "text/plain": [
              "[718.3880004882812, 718.3880004882812]"
            ]
          },
          "metadata": {},
          "execution_count": 36
        }
      ]
    },
    {
      "cell_type": "code",
      "source": [
        "# Load in saved best performing model_1 and evaluate on test data\n",
        "\n",
        "model_1 = tf.keras.models.load_model(\"model_experiments/model_1_dense\")\n",
        "model_1.evaluate(test_windows, test_labels)"
      ],
      "metadata": {
        "colab": {
          "base_uri": "https://localhost:8080/"
        },
        "id": "SNnOhyzJhTSx",
        "outputId": "a10ead14-c857-4d0f-fcf1-0afda8ea6466"
      },
      "execution_count": 37,
      "outputs": [
        {
          "output_type": "stream",
          "name": "stdout",
          "text": [
            "18/18 [==============================] - 0s 3ms/step - loss: 566.9283 - mae: 566.9283\n"
          ]
        },
        {
          "output_type": "execute_result",
          "data": {
            "text/plain": [
              "[566.9282836914062, 566.9282836914062]"
            ]
          },
          "metadata": {},
          "execution_count": 37
        }
      ]
    },
    {
      "cell_type": "markdown",
      "source": [
        "### Making forecast with model (on the test dataset)"
      ],
      "metadata": {
        "id": "maL1V0jkh5xC"
      }
    },
    {
      "cell_type": "code",
      "source": [
        "def make_preds(model, input_data):\n",
        "\n",
        "  forecast = model.predict(input_data)\n",
        "\n",
        "  return tf.squeeze(forecast)"
      ],
      "metadata": {
        "id": "mGdYxNUzhwFd"
      },
      "execution_count": 38,
      "outputs": []
    },
    {
      "cell_type": "code",
      "source": [
        "# Make prediction using model_1 on the test dataset and view the results\n",
        "\n",
        "model_1_preds = make_preds(model_1, test_windows)\n",
        "len(model_1_preds), model_1_preds[:10]"
      ],
      "metadata": {
        "colab": {
          "base_uri": "https://localhost:8080/"
        },
        "id": "hG1Iab_fiVE9",
        "outputId": "91b55ab3-df20-4b4a-804c-84417de785f2"
      },
      "execution_count": 39,
      "outputs": [
        {
          "output_type": "stream",
          "name": "stdout",
          "text": [
            "18/18 [==============================] - 0s 2ms/step\n"
          ]
        },
        {
          "output_type": "execute_result",
          "data": {
            "text/plain": [
              "(556, <tf.Tensor: shape=(10,), dtype=float32, numpy=\n",
              " array([8836.921, 8757.482, 9039.414, 8789.701, 8710.982, 8742.09 ,\n",
              "        8663.322, 8534.249, 8437.885, 8528.862], dtype=float32)>)"
            ]
          },
          "metadata": {},
          "execution_count": 39
        }
      ]
    },
    {
      "cell_type": "code",
      "source": [
        "# Evaluate preds\n",
        "\n",
        "model_1_results = evaluate_preds(y_true=tf.squeeze(test_labels),\n",
        "                                 y_pred=model_1_preds)\n",
        "model_1_results"
      ],
      "metadata": {
        "colab": {
          "base_uri": "https://localhost:8080/"
        },
        "id": "ehIoQukziwD-",
        "outputId": "2731b756-562f-4ad4-c9b0-d8c59df5db57"
      },
      "execution_count": 40,
      "outputs": [
        {
          "output_type": "execute_result",
          "data": {
            "text/plain": [
              "{'mae': 566.9283,\n",
              " 'mse': 1161670.9,\n",
              " 'rmse': 1077.8083,\n",
              " 'mape': 2.5530632,\n",
              " 'mase': 0.995936}"
            ]
          },
          "metadata": {},
          "execution_count": 40
        }
      ]
    },
    {
      "cell_type": "code",
      "source": [
        "naive_results"
      ],
      "metadata": {
        "colab": {
          "base_uri": "https://localhost:8080/"
        },
        "id": "rsuqzwowjKD_",
        "outputId": "9462747a-c148-41c5-8413-f3ad51d083fd"
      },
      "execution_count": 41,
      "outputs": [
        {
          "output_type": "execute_result",
          "data": {
            "text/plain": [
              "{'mae': 567.9802,\n",
              " 'mse': 1147547.0,\n",
              " 'rmse': 1071.2362,\n",
              " 'mape': 2.516525,\n",
              " 'mase': 0.99957}"
            ]
          },
          "metadata": {},
          "execution_count": 41
        }
      ]
    },
    {
      "cell_type": "code",
      "source": [
        "# Visualizing the result\n",
        "\n",
        "offset = 300\n",
        "plt.figure(figsize=(10, 7))\n",
        "plot_time_series(timesteps=X_test[-len(test_windows):], values=test_labels[:,0], start=offset, label=\"Test_data\")\n",
        "plot_time_series(timesteps=X_test[-len(test_windows):], values=model_1_preds, start=offset, format=\"-\", label=\"model_1_preds\")"
      ],
      "metadata": {
        "colab": {
          "base_uri": "https://localhost:8080/",
          "height": 442
        },
        "id": "TEmNaVyWjQXt",
        "outputId": "affe6e8a-abca-4973-94c2-4ba906b31460"
      },
      "execution_count": 42,
      "outputs": [
        {
          "output_type": "display_data",
          "data": {
            "text/plain": [
              "<Figure size 720x504 with 1 Axes>"
            ],
            "image/png": "[encoded data removed]"
          },
          "metadata": {
            "needs_background": "light"
          }
        }
      ]
    },
    {
      "cell_type": "markdown",
      "source": [
        "### Model 2: Dense (window = 30, horizon = 1)"
      ],
      "metadata": {
        "id": "f4ZmxJlgd_up"
      }
    },
    {
      "cell_type": "code",
      "source": [
        "HORIZON = 1\n",
        "WINDOW_SIZE = 30"
      ],
      "metadata": {
        "id": "0fAUw1uXkPsw"
      },
      "execution_count": 43,
      "outputs": []
    },
    {
      "cell_type": "code",
      "source": [
        "# Make windowed data with appropriate horizon nad window size\n",
        "\n",
        "full_windows, full_labels = make_windows(prices, window_size=WINDOW_SIZE, horizon=HORIZON)\n",
        "len(full_windows), len(full_labels)"
      ],
      "metadata": {
        "colab": {
          "base_uri": "https://localhost:8080/"
        },
        "id": "gdIKLDcIeOyw",
        "outputId": "508b9de9-b075-42b1-9778-24011ffd5519"
      },
      "execution_count": 44,
      "outputs": [
        {
          "output_type": "execute_result",
          "data": {
            "text/plain": [
              "(2757, 2757)"
            ]
          },
          "metadata": {},
          "execution_count": 44
        }
      ]
    },
    {
      "cell_type": "code",
      "source": [
        "# Make train and test windows\n",
        "\n",
        "train_windows, test_windows, train_labels, test_labels = make_train_test_split(windows=full_windows,\n",
        "                                                                               labels=full_labels)\n",
        "len(train_windows), len(test_windows), len(train_labels), len(test_labels)"
      ],
      "metadata": {
        "colab": {
          "base_uri": "https://localhost:8080/"
        },
        "id": "yjUaFD4KeshH",
        "outputId": "af4a486d-41f4-4fd3-ec57-cfa74969a9e3"
      },
      "execution_count": 45,
      "outputs": [
        {
          "output_type": "execute_result",
          "data": {
            "text/plain": [
              "(2205, 552, 2205, 552)"
            ]
          },
          "metadata": {},
          "execution_count": 45
        }
      ]
    },
    {
      "cell_type": "code",
      "source": [
        "tf.random.set_seed(42)\n",
        "\n",
        "# Create model\n",
        "model_2 = tf.keras.Sequential([\n",
        "    layers.Dense(128, activation=\"relu\"),\n",
        "    layers.Dense(HORIZON)\n",
        "], name=\"model_2_dense\")\n",
        "\n",
        "# Compile model\n",
        "model_2.compile(loss=\"mae\",\n",
        "                optimizer=tf.keras.optimizers.Adam())\n",
        "\n",
        "# Fit the model\n",
        "model_2.fit(train_windows,\n",
        "            train_labels,\n",
        "            epochs=100,\n",
        "            batch_size=128,\n",
        "            verbose=0,\n",
        "            validation_data=(test_windows, test_labels),\n",
        "            callbacks=[create_model_checkpoint(model_name=model_2.name)])"
      ],
      "metadata": {
        "colab": {
          "base_uri": "https://localhost:8080/"
        },
        "id": "c_AyIFtDfyfn",
        "outputId": "7c51b9cb-77ec-49e2-e90c-41290815a129"
      },
      "execution_count": 46,
      "outputs": [
        {
          "output_type": "stream",
          "name": "stderr",
          "text": [
            "WARNING:absl:Found untraced functions such as _update_step_xla while saving (showing 1 of 1). These functions will not be directly callable after loading.\n",
            "WARNING:absl:Found untraced functions such as _update_step_xla while saving (showing 1 of 1). These functions will not be directly callable after loading.\n",
            "WARNING:absl:Found untraced functions such as _update_step_xla while saving (showing 1 of 1). These functions will not be directly callable after loading.\n",
            "WARNING:absl:Found untraced functions such as _update_step_xla while saving (showing 1 of 1). These functions will not be directly callable after loading.\n",
            "WARNING:absl:Found untraced functions such as _update_step_xla while saving (showing 1 of 1). These functions will not be directly callable after loading.\n",
            "WARNING:absl:Found untraced functions such as _update_step_xla while saving (showing 1 of 1). These functions will not be directly callable after loading.\n",
            "WARNING:absl:Found untraced functions such as _update_step_xla while saving (showing 1 of 1). These functions will not be directly callable after loading.\n",
            "WARNING:absl:Found untraced functions such as _update_step_xla while saving (showing 1 of 1). These functions will not be directly callable after loading.\n",
            "WARNING:absl:Found untraced functions such as _update_step_xla while saving (showing 1 of 1). These functions will not be directly callable after loading.\n",
            "WARNING:absl:Found untraced functions such as _update_step_xla while saving (showing 1 of 1). These functions will not be directly callable after loading.\n",
            "WARNING:absl:Found untraced functions such as _update_step_xla while saving (showing 1 of 1). These functions will not be directly callable after loading.\n",
            "WARNING:absl:Found untraced functions such as _update_step_xla while saving (showing 1 of 1). These functions will not be directly callable after loading.\n",
            "WARNING:absl:Found untraced functions such as _update_step_xla while saving (showing 1 of 1). These functions will not be directly callable after loading.\n",
            "WARNING:absl:Found untraced functions such as _update_step_xla while saving (showing 1 of 1). These functions will not be directly callable after loading.\n",
            "WARNING:absl:Found untraced functions such as _update_step_xla while saving (showing 1 of 1). These functions will not be directly callable after loading.\n",
            "WARNING:absl:Found untraced functions such as _update_step_xla while saving (showing 1 of 1). These functions will not be directly callable after loading.\n",
            "WARNING:absl:Found untraced functions such as _update_step_xla while saving (showing 1 of 1). These functions will not be directly callable after loading.\n",
            "WARNING:absl:Found untraced functions such as _update_step_xla while saving (showing 1 of 1). These functions will not be directly callable after loading.\n",
            "WARNING:absl:Found untraced functions such as _update_step_xla while saving (showing 1 of 1). These functions will not be directly callable after loading.\n",
            "WARNING:absl:Found untraced functions such as _update_step_xla while saving (showing 1 of 1). These functions will not be directly callable after loading.\n",
            "WARNING:absl:Found untraced functions such as _update_step_xla while saving (showing 1 of 1). These functions will not be directly callable after loading.\n",
            "WARNING:absl:Found untraced functions such as _update_step_xla while saving (showing 1 of 1). These functions will not be directly callable after loading.\n",
            "WARNING:absl:Found untraced functions such as _update_step_xla while saving (showing 1 of 1). These functions will not be directly callable after loading.\n",
            "WARNING:absl:Found untraced functions such as _update_step_xla while saving (showing 1 of 1). These functions will not be directly callable after loading.\n",
            "WARNING:absl:Found untraced functions such as _update_step_xla while saving (showing 1 of 1). These functions will not be directly callable after loading.\n",
            "WARNING:absl:Found untraced functions such as _update_step_xla while saving (showing 1 of 1). These functions will not be directly callable after loading.\n",
            "WARNING:absl:Found untraced functions such as _update_step_xla while saving (showing 1 of 1). These functions will not be directly callable after loading.\n",
            "WARNING:absl:Found untraced functions such as _update_step_xla while saving (showing 1 of 1). These functions will not be directly callable after loading.\n",
            "WARNING:absl:Found untraced functions such as _update_step_xla while saving (showing 1 of 1). These functions will not be directly callable after loading.\n",
            "WARNING:absl:Found untraced functions such as _update_step_xla while saving (showing 1 of 1). These functions will not be directly callable after loading.\n"
          ]
        },
        {
          "output_type": "execute_result",
          "data": {
            "text/plain": [
              "<keras.callbacks.History at 0x7f761b3f79a0>"
            ]
          },
          "metadata": {},
          "execution_count": 46
        }
      ]
    },
    {
      "cell_type": "code",
      "source": [
        "# Evaluate model_2 preds\n",
        "\n",
        "model_2.evaluate(test_windows, test_labels)"
      ],
      "metadata": {
        "colab": {
          "base_uri": "https://localhost:8080/"
        },
        "id": "9LXDjE10kaZ5",
        "outputId": "3ac1cb02-716d-479f-e68f-d71f0b00d637"
      },
      "execution_count": 47,
      "outputs": [
        {
          "output_type": "stream",
          "name": "stdout",
          "text": [
            "18/18 [==============================] - 0s 2ms/step - loss: 608.1940\n"
          ]
        },
        {
          "output_type": "execute_result",
          "data": {
            "text/plain": [
              "608.1940307617188"
            ]
          },
          "metadata": {},
          "execution_count": 47
        }
      ]
    },
    {
      "cell_type": "code",
      "source": [
        "# Load in best performing model\n",
        "\n",
        "model_2 = tf.keras.models.load_model(\"model_experiments/model_2_dense\")\n",
        "model_2.evaluate(test_windows, test_labels)"
      ],
      "metadata": {
        "colab": {
          "base_uri": "https://localhost:8080/"
        },
        "id": "uaFe9xojknOD",
        "outputId": "36297776-981c-48e1-8c41-e2f2b65035c7"
      },
      "execution_count": 48,
      "outputs": [
        {
          "output_type": "stream",
          "name": "stdout",
          "text": [
            "18/18 [==============================] - 0s 2ms/step - loss: 608.1940\n"
          ]
        },
        {
          "output_type": "execute_result",
          "data": {
            "text/plain": [
              "608.1940307617188"
            ]
          },
          "metadata": {},
          "execution_count": 48
        }
      ]
    },
    {
      "cell_type": "code",
      "source": [
        "# Get forecast predictions\n",
        "\n",
        "model_2_preds = make_preds(model_2,\n",
        "                           input_data=test_windows)\n",
        "model_2_preds[-10:]"
      ],
      "metadata": {
        "colab": {
          "base_uri": "https://localhost:8080/"
        },
        "id": "dnQr8F4tlBDD",
        "outputId": "a2384142-9933-4081-a5f9-ef05cedee4d8"
      },
      "execution_count": 49,
      "outputs": [
        {
          "output_type": "stream",
          "name": "stdout",
          "text": [
            "18/18 [==============================] - 0s 2ms/step\n"
          ]
        },
        {
          "output_type": "execute_result",
          "data": {
            "text/plain": [
              "<tf.Tensor: shape=(10,), dtype=float32, numpy=\n",
              "array([57478.56 , 57877.082, 58834.88 , 57057.07 , 56351.25 , 54104.906,\n",
              "       50614.21 , 50361.465, 49505.31 , 46554.797], dtype=float32)>"
            ]
          },
          "metadata": {},
          "execution_count": 49
        }
      ]
    },
    {
      "cell_type": "code",
      "source": [
        "# Evaluate results for model_2 prediction\n",
        "\n",
        "model_2_results = evaluate_preds(y_true=tf.squeeze(test_labels),\n",
        "                                 y_pred=model_2_preds)"
      ],
      "metadata": {
        "id": "xxZM5Vk8lr9C"
      },
      "execution_count": 50,
      "outputs": []
    },
    {
      "cell_type": "code",
      "source": [
        "model_2_results"
      ],
      "metadata": {
        "colab": {
          "base_uri": "https://localhost:8080/"
        },
        "id": "lKDHNuoqmH9g",
        "outputId": "00f07f5e-40a9-4552-8639-731e3a1e2614"
      },
      "execution_count": 51,
      "outputs": [
        {
          "output_type": "execute_result",
          "data": {
            "text/plain": [
              "{'mae': 608.194,\n",
              " 'mse': 1288427.9,\n",
              " 'rmse': 1135.0894,\n",
              " 'mape': 2.8037255,\n",
              " 'mase': 1.0631291}"
            ]
          },
          "metadata": {},
          "execution_count": 51
        }
      ]
    },
    {
      "cell_type": "markdown",
      "source": [
        "### Model 3: Dense (window = 30, horizon = 7)"
      ],
      "metadata": {
        "id": "ctMseeTZdYIi"
      }
    },
    {
      "cell_type": "code",
      "source": [
        "HORIZON = 7\n",
        "WINDOW_SIZE = 30\n",
        "\n",
        "full_windows, full_labels = make_windows(prices, window_size=WINDOW_SIZE, horizon=HORIZON)\n",
        "len(full_windows), len(full_labels)"
      ],
      "metadata": {
        "id": "56t6LzYnmJ2x",
        "colab": {
          "base_uri": "https://localhost:8080/"
        },
        "outputId": "0a6f13f3-a259-47cc-9dc3-be4ee1f59139"
      },
      "execution_count": 52,
      "outputs": [
        {
          "output_type": "execute_result",
          "data": {
            "text/plain": [
              "(2751, 2751)"
            ]
          },
          "metadata": {},
          "execution_count": 52
        }
      ]
    },
    {
      "cell_type": "code",
      "source": [
        "train_windows, test_windows, train_labels, test_labels = make_train_test_split(windows=full_windows, labels=full_labels)\n",
        "len(train_windows), len(test_windows), len(train_labels), len(test_labels)"
      ],
      "metadata": {
        "colab": {
          "base_uri": "https://localhost:8080/"
        },
        "id": "NTiPbNBZd7fP",
        "outputId": "50f993e9-1270-4566-fe48-8271e8863914"
      },
      "execution_count": 53,
      "outputs": [
        {
          "output_type": "execute_result",
          "data": {
            "text/plain": [
              "(2200, 551, 2200, 551)"
            ]
          },
          "metadata": {},
          "execution_count": 53
        }
      ]
    },
    {
      "cell_type": "code",
      "source": [
        "tf.random.set_seed(42)\n",
        "\n",
        "model_3 = tf.keras.Sequential([\n",
        "    layers.Dense(128, activation=\"relu\"),\n",
        "    layers.Dense(HORIZON)\n",
        "], name = \"model_3_dense\")\n",
        "\n",
        "model_3.compile(loss=\"mae\",\n",
        "                optimizer=tf.keras.optimizers.Adam())\n",
        "\n",
        "model_3.fit(train_windows,\n",
        "            train_labels,\n",
        "            batch_size=128,\n",
        "            epochs=100,\n",
        "            verbose=0,\n",
        "            validation_data=(test_windows, test_labels),\n",
        "            callbacks=[create_model_checkpoint(model_name=model_3.name)])"
      ],
      "metadata": {
        "colab": {
          "base_uri": "https://localhost:8080/"
        },
        "id": "rnEDQrZFeWsc",
        "outputId": "17cf51a7-1cae-4989-de04-8dc045f6f681"
      },
      "execution_count": 54,
      "outputs": [
        {
          "output_type": "stream",
          "name": "stderr",
          "text": [
            "WARNING:absl:Found untraced functions such as _update_step_xla while saving (showing 1 of 1). These functions will not be directly callable after loading.\n",
            "WARNING:absl:Found untraced functions such as _update_step_xla while saving (showing 1 of 1). These functions will not be directly callable after loading.\n",
            "WARNING:absl:Found untraced functions such as _update_step_xla while saving (showing 1 of 1). These functions will not be directly callable after loading.\n",
            "WARNING:absl:Found untraced functions such as _update_step_xla while saving (showing 1 of 1). These functions will not be directly callable after loading.\n",
            "WARNING:absl:Found untraced functions such as _update_step_xla while saving (showing 1 of 1). These functions will not be directly callable after loading.\n",
            "WARNING:absl:Found untraced functions such as _update_step_xla while saving (showing 1 of 1). These functions will not be directly callable after loading.\n",
            "WARNING:absl:Found untraced functions such as _update_step_xla while saving (showing 1 of 1). These functions will not be directly callable after loading.\n",
            "WARNING:absl:Found untraced functions such as _update_step_xla while saving (showing 1 of 1). These functions will not be directly callable after loading.\n",
            "WARNING:absl:Found untraced functions such as _update_step_xla while saving (showing 1 of 1). These functions will not be directly callable after loading.\n",
            "WARNING:absl:Found untraced functions such as _update_step_xla while saving (showing 1 of 1). These functions will not be directly callable after loading.\n",
            "WARNING:absl:Found untraced functions such as _update_step_xla while saving (showing 1 of 1). These functions will not be directly callable after loading.\n",
            "WARNING:absl:Found untraced functions such as _update_step_xla while saving (showing 1 of 1). These functions will not be directly callable after loading.\n",
            "WARNING:absl:Found untraced functions such as _update_step_xla while saving (showing 1 of 1). These functions will not be directly callable after loading.\n",
            "WARNING:absl:Found untraced functions such as _update_step_xla while saving (showing 1 of 1). These functions will not be directly callable after loading.\n",
            "WARNING:absl:Found untraced functions such as _update_step_xla while saving (showing 1 of 1). These functions will not be directly callable after loading.\n",
            "WARNING:absl:Found untraced functions such as _update_step_xla while saving (showing 1 of 1). These functions will not be directly callable after loading.\n",
            "WARNING:absl:Found untraced functions such as _update_step_xla while saving (showing 1 of 1). These functions will not be directly callable after loading.\n",
            "WARNING:absl:Found untraced functions such as _update_step_xla while saving (showing 1 of 1). These functions will not be directly callable after loading.\n",
            "WARNING:absl:Found untraced functions such as _update_step_xla while saving (showing 1 of 1). These functions will not be directly callable after loading.\n",
            "WARNING:absl:Found untraced functions such as _update_step_xla while saving (showing 1 of 1). These functions will not be directly callable after loading.\n",
            "WARNING:absl:Found untraced functions such as _update_step_xla while saving (showing 1 of 1). These functions will not be directly callable after loading.\n",
            "WARNING:absl:Found untraced functions such as _update_step_xla while saving (showing 1 of 1). These functions will not be directly callable after loading.\n",
            "WARNING:absl:Found untraced functions such as _update_step_xla while saving (showing 1 of 1). These functions will not be directly callable after loading.\n",
            "WARNING:absl:Found untraced functions such as _update_step_xla while saving (showing 1 of 1). These functions will not be directly callable after loading.\n",
            "WARNING:absl:Found untraced functions such as _update_step_xla while saving (showing 1 of 1). These functions will not be directly callable after loading.\n"
          ]
        },
        {
          "output_type": "execute_result",
          "data": {
            "text/plain": [
              "<keras.callbacks.History at 0x7f7618237340>"
            ]
          },
          "metadata": {},
          "execution_count": 54
        }
      ]
    },
    {
      "cell_type": "code",
      "source": [
        "model_3.evaluate(test_windows, test_labels)"
      ],
      "metadata": {
        "colab": {
          "base_uri": "https://localhost:8080/"
        },
        "id": "NJgBoCyJfYZL",
        "outputId": "2b6b03c8-1913-4e7d-bb65-ec6dd557d5c3"
      },
      "execution_count": 55,
      "outputs": [
        {
          "output_type": "stream",
          "name": "stdout",
          "text": [
            "18/18 [==============================] - 0s 2ms/step - loss: 1419.7970\n"
          ]
        },
        {
          "output_type": "execute_result",
          "data": {
            "text/plain": [
              "1419.7969970703125"
            ]
          },
          "metadata": {},
          "execution_count": 55
        }
      ]
    },
    {
      "cell_type": "code",
      "source": [
        "model_3 = tf.keras.models.load_model(\"model_experiments/model_3_dense/\")\n",
        "model_3.evaluate(test_windows, test_labels)"
      ],
      "metadata": {
        "colab": {
          "base_uri": "https://localhost:8080/"
        },
        "id": "rrC8_p1VfjG8",
        "outputId": "152f181f-602c-404d-f03f-f150b28bf908"
      },
      "execution_count": 56,
      "outputs": [
        {
          "output_type": "stream",
          "name": "stdout",
          "text": [
            "18/18 [==============================] - 0s 5ms/step - loss: 1230.9417\n"
          ]
        },
        {
          "output_type": "execute_result",
          "data": {
            "text/plain": [
              "1230.941650390625"
            ]
          },
          "metadata": {},
          "execution_count": 56
        }
      ]
    },
    {
      "cell_type": "code",
      "source": [
        "model_3_preds = make_preds(model_3,\n",
        "                           input_data=test_windows)\n",
        "model_3_preds[-5:]"
      ],
      "metadata": {
        "colab": {
          "base_uri": "https://localhost:8080/"
        },
        "id": "6HzRO1yCf2xs",
        "outputId": "41171c8b-4e5d-425d-b469-ecb86c218ecc"
      },
      "execution_count": 57,
      "outputs": [
        {
          "output_type": "stream",
          "name": "stdout",
          "text": [
            "18/18 [==============================] - 0s 4ms/step\n"
          ]
        },
        {
          "output_type": "execute_result",
          "data": {
            "text/plain": [
              "<tf.Tensor: shape=(5, 7), dtype=float32, numpy=\n",
              "array([[56798.418, 57386.406, 58023.113, 55856.39 , 58192.46 , 58396.56 ,\n",
              "        57570.1  ],\n",
              "       [55372.09 , 56932.832, 57924.98 , 56749.336, 57389.258, 58674.914,\n",
              "        58617.285],\n",
              "       [57782.195, 59815.742, 59218.996, 57832.43 , 59025.53 , 59331.12 ,\n",
              "        59029.86 ],\n",
              "       [58161.574, 58621.69 , 59139.867, 58649.797, 58885.152, 60406.176,\n",
              "        59688.465],\n",
              "       [56793.324, 57381.395, 57021.06 , 57918.023, 58822.76 , 59940.883,\n",
              "        60001.867]], dtype=float32)>"
            ]
          },
          "metadata": {},
          "execution_count": 57
        }
      ]
    },
    {
      "cell_type": "code",
      "source": [
        "model_3_results = evaluate_preds(y_true=tf.squeeze(test_labels),\n",
        "                                 y_pred=model_3_preds)\n",
        "model_3_results"
      ],
      "metadata": {
        "colab": {
          "base_uri": "https://localhost:8080/"
        },
        "id": "1jm6ig1AgH29",
        "outputId": "91c0938a-0785-4ae3-e55b-3a0d1853593a"
      },
      "execution_count": 58,
      "outputs": [
        {
          "output_type": "execute_result",
          "data": {
            "text/plain": [
              "{'mae': array([  688.514   ,   368.15332 ,   289.29117 ,   535.4819  ,\n",
              "          563.65344 ,   612.1047  ,   662.8931  ,   523.4155  ,\n",
              "          415.2043  ,   578.50323 ,   846.86896 ,   880.2354  ,\n",
              "          888.4588  ,   934.79816 ,   606.1621  ,   237.32191 ,\n",
              "          156.79611 ,   265.14752 ,   321.19254 ,   234.7885  ,\n",
              "          212.2883  ,   234.50537 ,   407.47574 ,   403.4822  ,\n",
              "          132.18967 ,   183.6868  ,   114.19929 ,   167.38023 ,\n",
              "          145.99162 ,   303.94574 ,   345.4119  ,   381.8603  ,\n",
              "          413.95523 ,   335.4841  ,   311.48395 ,   341.25342 ,\n",
              "          404.4388  ,   252.86307 ,   220.20654 ,   162.55455 ,\n",
              "          489.73563 ,    90.6974  ,    87.997696,   141.49721 ,\n",
              "          188.70654 ,   182.8508  ,   102.483604,   113.94698 ,\n",
              "          140.30775 ,   121.229774,   135.16385 ,   201.18758 ,\n",
              "          234.12688 ,   205.73633 ,   204.7876  ,   288.643   ,\n",
              "          619.87634 ,   432.3978  ,   414.44205 ,   542.61096 ,\n",
              "          277.01025 ,   165.08363 ,   214.43178 ,   339.15115 ,\n",
              "          376.40903 ,   444.44174 ,   480.0074  ,   461.61914 ,\n",
              "          178.9576  ,   245.49721 ,   274.84055 ,   523.03973 ,\n",
              "          570.749   ,   436.48785 ,   366.76645 ,   349.07687 ,\n",
              "          336.01535 ,   338.54953 ,   413.85825 ,   668.7677  ,\n",
              "          756.7501  ,   550.3708  ,   291.26227 ,   191.50838 ,\n",
              "          276.2415  ,   223.26381 ,   197.661   ,   255.19545 ,\n",
              "          336.83804 ,   697.644   ,   489.61118 ,   313.565   ,\n",
              "          309.74777 ,   279.01215 ,   245.72014 ,   365.7398  ,\n",
              "          347.42816 ,   652.8457  ,   694.36945 ,   806.9604  ,\n",
              "          616.6162  ,   335.1172  ,   160.72293 ,   334.36996 ,\n",
              "          383.33328 ,   389.78375 ,   591.629   ,   753.60254 ,\n",
              "         1044.9978  ,  1027.7418  ,   922.8238  ,   302.7754  ,\n",
              "          209.67871 ,   140.54436 ,   231.96414 ,   301.4988  ,\n",
              "          390.50662 ,   505.53802 ,   589.6889  ,  1233.7258  ,\n",
              "         1742.2433  ,  2186.3894  ,  2111.8206  ,  2036.4469  ,\n",
              "         2296.6262  ,  2641.631   ,  1224.4286  ,   539.1358  ,\n",
              "          450.1063  ,   444.7339  ,   513.11554 ,   584.56525 ,\n",
              "          512.22186 ,   279.4721  ,   246.50056 ,   260.55875 ,\n",
              "          338.1707  ,   209.62654 ,   457.5503  ,   362.38553 ,\n",
              "          362.17563 ,   449.4006  ,   315.343   ,   598.47253 ,\n",
              "          538.49786 ,   419.0604  ,   410.38943 ,   303.13226 ,\n",
              "          161.80566 ,   253.5131  ,   317.12674 ,   458.6167  ,\n",
              "          345.1021  ,   501.53125 ,   600.0231  ,   253.08168 ,\n",
              "          193.64098 ,   172.90758 ,   246.55594 ,   277.96094 ,\n",
              "          330.50775 ,   192.5973  ,   235.11147 ,   239.18736 ,\n",
              "          175.12297 ,   391.45746 ,   548.8591  ,   631.94934 ,\n",
              "          498.4082  ,   592.0214  ,   704.46985 ,   870.00525 ,\n",
              "          981.88434 ,   979.458   ,   504.99066 ,   221.06111 ,\n",
              "          291.26828 ,   289.40555 ,   378.34195 ,   455.363   ,\n",
              "          565.66907 ,   607.7189  ,   691.35675 ,  1038.317   ,\n",
              "         1013.61847 ,   328.34488 ,   422.12485 ,   638.10297 ,\n",
              "          360.35965 ,   194.29422 ,   323.2895  ,   348.92203 ,\n",
              "          489.72113 ,   617.8499  ,   641.80066 ,   462.2104  ,\n",
              "          327.09653 ,   267.38742 ,   308.12152 ,   300.8764  ,\n",
              "          496.91812 ,   810.51434 ,   759.32825 ,   401.32047 ,\n",
              "          211.90918 ,   310.70258 ,   298.90082 ,   499.75504 ,\n",
              "          246.589   ,   108.13351 ,   256.95453 ,   205.11732 ,\n",
              "          198.23158 ,   256.0187  ,   425.06235 ,   406.32004 ,\n",
              "          574.2719  ,   239.8457  ,   138.55525 ,   287.14957 ,\n",
              "          243.5392  ,   277.36203 ,   178.09416 ,   238.27205 ,\n",
              "          172.08315 ,   203.58537 ,   204.49162 ,   279.68597 ,\n",
              "          407.44965 ,   657.9274  ,   398.25446 ,   297.47964 ,\n",
              "          245.70744 ,   101.48842 ,   125.19782 ,   160.15709 ,\n",
              "          140.86314 ,   195.98508 ,   185.78264 ,    91.95675 ,\n",
              "           66.82464 ,   171.51926 ,   143.48787 ,   166.25293 ,\n",
              "          345.34067 ,   288.06168 ,   167.63547 ,   151.04158 ,\n",
              "          144.33621 ,   160.47838 ,   182.76855 ,   202.30775 ,\n",
              "          134.54088 ,   153.45703 ,   171.58846 ,   298.8662  ,\n",
              "          557.77136 ,   651.05066 ,   698.2833  ,   807.0756  ,\n",
              "         1006.9661  ,  1276.5676  ,  1266.9264  ,   430.31934 ,\n",
              "          213.3019  ,   231.09793 ,   233.1907  ,   258.36176 ,\n",
              "          478.9562  ,   132.4036  ,   131.9633  ,   174.71596 ,\n",
              "          270.43527 ,   465.93695 ,   399.46457 ,   424.85574 ,\n",
              "          316.118   ,   365.56696 ,   177.33412 ,   160.5618  ,\n",
              "          210.29353 ,   218.2701  ,   275.3196  ,   282.24692 ,\n",
              "          518.48895 ,   559.1274  ,   338.08524 ,   391.63657 ,\n",
              "          267.50922 ,   338.4389  ,   379.49246 ,   393.3782  ,\n",
              "          139.38602 ,   146.29465 ,   348.89633 ,   485.4022  ,\n",
              "          654.6696  ,   961.3329  ,  1246.745   ,  1600.934   ,\n",
              "         1562.5754  ,   885.86426 ,   468.20508 ,   122.33831 ,\n",
              "          215.49623 ,   132.29729 ,   235.86719 ,   233.2613  ,\n",
              "          272.63297 ,   229.24539 ,   314.95453 ,   388.71024 ,\n",
              "          250.06502 ,   305.2737  ,   465.75125 ,   573.9899  ,\n",
              "          479.32114 ,   453.73187 ,   355.9834  ,   125.7786  ,\n",
              "          116.81892 ,   172.4082  ,   155.33357 ,   224.90652 ,\n",
              "          285.0491  ,   303.57742 ,   368.45914 ,   367.47308 ,\n",
              "          273.2398  ,   192.73256 ,   141.13924 ,   202.65012 ,\n",
              "          303.4142  ,   348.90347 ,   509.49985 ,   658.95215 ,\n",
              "          481.68344 ,   399.60016 ,   137.97293 ,   250.7366  ,\n",
              "          372.82895 ,   295.8948  ,   338.93875 ,   525.5972  ,\n",
              "          733.0745  ,  1011.4399  ,  1172.5355  ,  1095.5873  ,\n",
              "         1101.9742  ,   260.3266  ,   286.02008 ,   172.22112 ,\n",
              "          241.73103 ,   172.63965 ,   212.15416 ,   203.51256 ,\n",
              "          173.87193 ,   401.42633 ,   619.9974  ,   567.9212  ,\n",
              "          716.89386 ,  1069.8245  ,  1049.1984  ,  1041.164   ,\n",
              "          357.2546  ,   461.22446 ,   286.8111  ,   320.47516 ,\n",
              "          393.15723 ,   779.3442  ,   952.626   ,   805.20953 ,\n",
              "          891.3532  ,  1222.7045  ,  1545.485   ,  1425.0397  ,\n",
              "          897.1429  ,   446.40402 ,   511.7475  ,   752.35046 ,\n",
              "         1142.7135  ,  1349.8348  ,  1080.9084  ,  1112.738   ,\n",
              "          982.09375 ,   747.16376 ,  1249.6133  ,  1114.735   ,\n",
              "         1002.00836 ,   250.5572  ,   481.6345  ,   630.75616 ,\n",
              "         1042.9648  ,   874.0893  ,   749.8167  ,   669.2458  ,\n",
              "          532.14874 ,   361.79633 ,   748.58484 ,  1376.8488  ,\n",
              "         2383.2224  ,  2796.2153  ,  3042.8032  ,  3114.905   ,\n",
              "         3382.1284  ,  1955.2849  ,   438.01758 ,   439.09766 ,\n",
              "          864.40735 ,   991.9735  ,  1251.7012  ,  1627.8529  ,\n",
              "         2407.6235  ,  3045.8716  ,  2964.4692  ,  2009.7533  ,\n",
              "         2257.4844  ,  2429.269   ,  2959.6882  ,  2974.3325  ,\n",
              "         3590.5132  ,  4854.2085  ,  4149.381   ,  3704.541   ,\n",
              "         4286.227   ,  3360.4175  ,  2760.484   ,  2549.3828  ,\n",
              "         4354.453   ,  5606.9756  ,  5257.6714  ,  1567.9347  ,\n",
              "          994.16406 ,  1476.8097  ,  3295.3147  ,  3543.0793  ,\n",
              "         3446.4988  ,  4083.7878  ,  4225.4985  ,  4863.856   ,\n",
              "         3642.3257  ,   958.7539  ,  1165.9537  ,  1214.6487  ,\n",
              "         1208.2148  ,  1341.972   ,  1893.4958  ,  3762.8667  ,\n",
              "         3451.9202  ,  1690.9688  ,  1891.8951  ,  2486.8801  ,\n",
              "         3971.0916  ,  4586.4546  ,  4629.5923  ,  5167.564   ,\n",
              "         5929.757   ,  5955.448   ,  7048.808   ,  3940.5486  ,\n",
              "          675.1808  ,  1377.8488  ,  1356.1819  ,  1864.6139  ,\n",
              "         2106.9832  ,  2903.0964  ,  2443.0613  ,  3518.8606  ,\n",
              "         2717.263   ,  4134.643   ,  5956.95    ,  8107.687   ,\n",
              "        10595.886   , 10572.727   ,  4557.1987  ,  2998.5447  ,\n",
              "         2322.217   ,  1501.7689  ,  2265.134   ,  3033.0112  ,\n",
              "         2418.351   ,  2145.1306  ,  1855.115   ,  3475.4028  ,\n",
              "         4333.8     ,  5274.5654  ,  5897.105   ,  5172.854   ,\n",
              "         4017.4844  ,  1733.8236  ,  1473.3995  ,  1602.342   ,\n",
              "         2551.1802  ,  2939.191   ,  2115.8247  ,  2239.668   ,\n",
              "         3865.5347  ,  4632.462   ,  5688.3037  ,  6075.3735  ,\n",
              "         5480.0537  ,  2093.9731  ,  1167.976   ,  2060.2004  ,\n",
              "         4107.43    ,  3359.2317  ,  1477.702   ,  2436.6958  ,\n",
              "         1097.1736  ,   882.8839  ,   970.894   ,  1238.6178  ,\n",
              "         1828.1608  ,  1064.8845  ,  1219.0675  ,  1587.9609  ,\n",
              "         1294.4219  ,  3269.6597  ,  3139.221   ,  3020.8315  ,\n",
              "         2643.0825  ,  2175.082   ,  3151.9023  ,  3988.319   ,\n",
              "         6328.5005  ,  8159.8276  ,  8490.165   ,  8010.435   ,\n",
              "         6447.0083  ,  4401.9595  ,  4362.1265  ,  2677.2605  ,\n",
              "         1558.8538  ,  2869.967   ,  3721.6719  ,  5908.811   ,\n",
              "         3877.0156  ,  1465.2155  ,  1924.5458  ,  1821.6808  ,\n",
              "         1337.5217  ,  2053.615   ,  1097.1736  ,  1176.9147  ,\n",
              "         2344.5408  ,  1508.4163  ,  2514.8633  ,  4243.9297  ,\n",
              "         6064.901   ,  7975.5337  ,  8960.914   ], dtype=float32),\n",
              " 'mse': array([5.18934812e+05, 2.17479859e+05, 1.37197953e+05, 3.45627156e+05,\n",
              "        4.06756000e+05, 4.64868500e+05, 5.00479719e+05, 3.52978781e+05,\n",
              "        3.15026031e+05, 5.47269125e+05, 9.79235938e+05, 9.80289125e+05,\n",
              "        9.30872938e+05, 9.25548562e+05, 3.74357094e+05, 7.32388047e+04,\n",
              "        3.15584082e+04, 1.00144750e+05, 1.36484078e+05, 8.40952344e+04,\n",
              "        6.19042305e+04, 7.65733672e+04, 1.89771328e+05, 1.74165250e+05,\n",
              "        2.67390645e+04, 4.08591875e+04, 2.76994980e+04, 3.30114375e+04,\n",
              "        2.91294746e+04, 1.23384820e+05, 1.35398703e+05, 1.68952875e+05,\n",
              "        2.18217531e+05, 2.08628984e+05, 1.74216000e+05, 1.74835016e+05,\n",
              "        2.21116484e+05, 1.17999578e+05, 1.00087625e+05, 4.44697070e+04,\n",
              "        2.59625469e+05, 1.60538613e+04, 9.59429688e+03, 2.78927988e+04,\n",
              "        4.68019102e+04, 4.01360820e+04, 1.43386416e+04, 1.79728027e+04,\n",
              "        3.14352461e+04, 1.64077695e+04, 3.59621211e+04, 6.49098828e+04,\n",
              "        7.40178516e+04, 6.23737617e+04, 8.14967734e+04, 1.49924078e+05,\n",
              "        4.45758000e+05, 2.63272594e+05, 1.96130109e+05, 3.10711938e+05,\n",
              "        9.53980469e+04, 6.40111562e+04, 1.15581109e+05, 1.83669625e+05,\n",
              "        2.22986516e+05, 2.49651125e+05, 2.68881719e+05, 2.31766406e+05,\n",
              "        5.11120352e+04, 7.13075234e+04, 1.08271234e+05, 3.48342156e+05,\n",
              "        3.74292000e+05, 2.53098391e+05, 1.74090125e+05, 1.61878656e+05,\n",
              "        1.44557469e+05, 1.72150469e+05, 2.46759531e+05, 5.20735500e+05,\n",
              "        6.26643875e+05, 3.17708719e+05, 1.18780570e+05, 6.07932852e+04,\n",
              "        1.03388695e+05, 8.83112500e+04, 5.75512617e+04, 9.55234609e+04,\n",
              "        1.31543797e+05, 5.35316125e+05, 3.06521562e+05, 1.10190984e+05,\n",
              "        1.26384617e+05, 8.50021250e+04, 1.11185984e+05, 1.61373750e+05,\n",
              "        1.81650828e+05, 5.68342562e+05, 6.11080188e+05, 7.15081375e+05,\n",
              "        4.34472000e+05, 1.41463484e+05, 5.05287383e+04, 1.62723078e+05,\n",
              "        2.72235844e+05, 2.92518031e+05, 5.99371125e+05, 7.61154500e+05,\n",
              "        1.30787762e+06, 1.17395825e+06, 8.76118812e+05, 1.07083539e+05,\n",
              "        6.12839492e+04, 3.63851992e+04, 6.70280469e+04, 1.30590586e+05,\n",
              "        2.69299719e+05, 4.28578844e+05, 4.39242031e+05, 2.63152275e+06,\n",
              "        4.71247150e+06, 6.48673850e+06, 6.13487200e+06, 5.78950300e+06,\n",
              "        6.17762550e+06, 7.07495650e+06, 1.69828525e+06, 3.16831156e+05,\n",
              "        2.71569500e+05, 2.42034000e+05, 3.56542938e+05, 4.26845000e+05,\n",
              "        3.66913688e+05, 1.20124312e+05, 8.54960000e+04, 9.69048594e+04,\n",
              "        1.43135844e+05, 1.24425445e+05, 3.13156344e+05, 2.08765578e+05,\n",
              "        2.79599031e+05, 3.06742688e+05, 1.23245016e+05, 4.07521281e+05,\n",
              "        3.07695250e+05, 1.90544125e+05, 2.08353859e+05, 1.06179891e+05,\n",
              "        4.93703086e+04, 1.04768516e+05, 1.26666039e+05, 3.33239062e+05,\n",
              "        1.45780906e+05, 2.89051969e+05, 4.09625750e+05, 9.05343125e+04,\n",
              "        5.73586523e+04, 4.46355586e+04, 7.74116094e+04, 1.15268664e+05,\n",
              "        1.37505000e+05, 5.04635703e+04, 6.78453984e+04, 9.16508828e+04,\n",
              "        4.88625234e+04, 2.09760594e+05, 3.27434031e+05, 5.95983062e+05,\n",
              "        5.10791156e+05, 6.55412125e+05, 7.75731938e+05, 9.90620438e+05,\n",
              "        1.11716500e+06, 9.65961125e+05, 2.79776094e+05, 1.28928172e+05,\n",
              "        1.85381109e+05, 1.08281680e+05, 1.97166219e+05, 2.67740906e+05,\n",
              "        3.58540906e+05, 4.57179469e+05, 6.90103438e+05, 1.23593138e+06,\n",
              "        1.12168725e+06, 1.62530719e+05, 2.25138078e+05, 4.41159000e+05,\n",
              "        1.85589969e+05, 6.85847891e+04, 1.98183094e+05, 1.89062375e+05,\n",
              "        3.07356750e+05, 5.00292438e+05, 5.24493625e+05, 2.80767312e+05,\n",
              "        1.45562703e+05, 9.14177344e+04, 1.48384672e+05, 1.07986805e+05,\n",
              "        4.20641719e+05, 7.31668312e+05, 6.59257562e+05, 2.58098078e+05,\n",
              "        9.44310234e+04, 1.28304922e+05, 1.24427695e+05, 2.55720859e+05,\n",
              "        7.36124297e+04, 1.88949863e+04, 9.67931641e+04, 1.11441625e+05,\n",
              "        8.18850859e+04, 8.32077344e+04, 2.45494547e+05, 2.02915578e+05,\n",
              "        3.41010156e+05, 6.95586406e+04, 2.93764023e+04, 1.04769070e+05,\n",
              "        8.27700547e+04, 1.01077258e+05, 4.45979453e+04, 7.53925469e+04,\n",
              "        3.67066602e+04, 5.14945820e+04, 6.12830352e+04, 1.11569062e+05,\n",
              "        1.85709500e+05, 4.63264062e+05, 1.81075281e+05, 1.08397453e+05,\n",
              "        8.32015234e+04, 1.47009395e+04, 2.10819648e+04, 4.43147383e+04,\n",
              "        2.68186523e+04, 4.61141680e+04, 4.61920195e+04, 1.16016689e+04,\n",
              "        1.16480205e+04, 3.93756914e+04, 2.55572949e+04, 3.58588867e+04,\n",
              "        1.33468219e+05, 9.79070391e+04, 3.79372305e+04, 3.16349238e+04,\n",
              "        2.89695820e+04, 3.13970586e+04, 4.69049023e+04, 5.04262852e+04,\n",
              "        2.67412246e+04, 2.55354102e+04, 4.29586602e+04, 1.18157367e+05,\n",
              "        6.06094000e+05, 7.49137125e+05, 9.14084375e+05, 1.06415275e+06,\n",
              "        1.32430325e+06, 1.83111938e+06, 1.64057962e+06, 2.46056094e+05,\n",
              "        7.51459375e+04, 7.80863359e+04, 7.64216016e+04, 9.51247422e+04,\n",
              "        2.56098469e+05, 2.74656094e+04, 2.19680410e+04, 4.52700117e+04,\n",
              "        1.28080641e+05, 3.06793844e+05, 1.96824844e+05, 2.23285500e+05,\n",
              "        1.25598375e+05, 1.62985281e+05, 4.24758438e+04, 7.14845859e+04,\n",
              "        6.82950859e+04, 6.72774531e+04, 1.03809516e+05, 1.08669516e+05,\n",
              "        3.24469438e+05, 3.45901656e+05, 1.96866906e+05, 1.91513922e+05,\n",
              "        1.08692789e+05, 1.47251906e+05, 1.69189719e+05, 1.79075719e+05,\n",
              "        4.51692930e+04, 3.27533066e+04, 1.64409000e+05, 3.69492531e+05,\n",
              "        7.66359438e+05, 1.31905512e+06, 1.92200025e+06, 2.81661225e+06,\n",
              "        2.55658925e+06, 8.45941500e+05, 2.24807250e+05, 2.63088066e+04,\n",
              "        6.68517031e+04, 3.30858555e+04, 8.40766406e+04, 9.30456484e+04,\n",
              "        1.00030891e+05, 7.63262266e+04, 1.37083062e+05, 1.70777219e+05,\n",
              "        7.82688281e+04, 1.39881078e+05, 3.33979344e+05, 4.14766344e+05,\n",
              "        2.72719906e+05, 2.45937281e+05, 1.58981406e+05, 2.56049785e+04,\n",
              "        2.03406699e+04, 4.88134766e+04, 3.39902500e+04, 7.42998828e+04,\n",
              "        1.36245203e+05, 1.23520266e+05, 1.67279656e+05, 1.62233250e+05,\n",
              "        9.25025703e+04, 4.90415508e+04, 2.83865312e+04, 9.29608594e+04,\n",
              "        1.26086820e+05, 2.03194500e+05, 3.37548531e+05, 4.76531562e+05,\n",
              "        2.67123656e+05, 1.80983094e+05, 2.92028652e+04, 8.82642891e+04,\n",
              "        1.70641219e+05, 1.01863445e+05, 3.03106562e+05, 5.90502062e+05,\n",
              "        9.62161125e+05, 1.44140925e+06, 1.61108488e+06, 1.28329375e+06,\n",
              "        1.29326562e+06, 9.99366797e+04, 9.34220156e+04, 4.13776914e+04,\n",
              "        7.26026094e+04, 4.76674727e+04, 9.64463984e+04, 5.16044102e+04,\n",
              "        4.23878984e+04, 5.39059438e+05, 7.77789062e+05, 5.21915094e+05,\n",
              "        8.75738562e+05, 1.42081425e+06, 1.21545262e+06, 1.20380175e+06,\n",
              "        2.05896422e+05, 2.71347219e+05, 1.11248836e+05, 1.41176859e+05,\n",
              "        2.55505422e+05, 9.01760125e+05, 1.32673488e+06, 8.15717125e+05,\n",
              "        1.16811900e+06, 2.00384462e+06, 2.60267175e+06, 2.11784275e+06,\n",
              "        9.29666000e+05, 2.34469922e+05, 4.00254844e+05, 1.21649938e+06,\n",
              "        2.11603100e+06, 2.63638675e+06, 1.60610062e+06, 1.97698725e+06,\n",
              "        1.44773062e+06, 7.59886688e+05, 1.78592900e+06, 1.42081225e+06,\n",
              "        1.12238062e+06, 9.51008594e+04, 3.37706281e+05, 5.55330188e+05,\n",
              "        1.27892062e+06, 1.17055525e+06, 8.24518938e+05, 6.18409062e+05,\n",
              "        4.58548750e+05, 2.34478969e+05, 1.34864300e+06, 4.21227450e+06,\n",
              "        8.43665600e+06, 1.09367220e+07, 1.18430030e+07, 1.13896250e+07,\n",
              "        1.17974150e+07, 3.90192225e+06, 2.38683984e+05, 3.05883344e+05,\n",
              "        9.92736188e+05, 1.30679200e+06, 2.85788225e+06, 3.79018750e+06,\n",
              "        7.53034550e+06, 1.08827760e+07, 9.92900700e+06, 6.68860950e+06,\n",
              "        8.27578750e+06, 8.50031500e+06, 1.15034700e+07, 1.24082010e+07,\n",
              "        2.06850060e+07, 3.16039360e+07, 2.38771800e+07, 1.83727400e+07,\n",
              "        2.32671860e+07, 1.57205710e+07, 9.22827900e+06, 9.65015800e+06,\n",
              "        2.39658340e+07, 3.49760680e+07, 2.89765320e+07, 3.25871050e+06,\n",
              "        2.12426800e+06, 2.92765575e+06, 1.58995570e+07, 1.95206100e+07,\n",
              "        1.86451660e+07, 2.17579140e+07, 2.27053620e+07, 2.68591300e+07,\n",
              "        1.48523660e+07, 1.82598775e+06, 2.15958150e+06, 2.31260450e+06,\n",
              "        2.39411400e+06, 2.99734650e+06, 4.16524675e+06, 1.57632950e+07,\n",
              "        1.34120180e+07, 3.38916575e+06, 5.79242850e+06, 7.97369200e+06,\n",
              "        2.11915180e+07, 3.22163480e+07, 3.49919000e+07, 3.87169080e+07,\n",
              "        4.46470400e+07, 4.23786000e+07, 5.15792640e+07, 1.63683570e+07,\n",
              "        6.68981125e+05, 3.81071325e+06, 2.44953350e+06, 5.85495500e+06,\n",
              "        6.77059300e+06, 1.24876530e+07, 8.26155250e+06, 1.53312010e+07,\n",
              "        1.06201090e+07, 2.22275160e+07, 5.27255600e+07, 8.09905200e+07,\n",
              "        1.25461968e+08, 1.16421944e+08, 2.38570340e+07, 1.22061120e+07,\n",
              "        8.12364250e+06, 3.49393875e+06, 7.35798300e+06, 9.94015100e+06,\n",
              "        7.71192800e+06, 7.14880000e+06, 5.83344100e+06, 2.03083080e+07,\n",
              "        2.76260340e+07, 3.46368760e+07, 4.06638960e+07, 3.00842980e+07,\n",
              "        1.94351400e+07, 4.89375750e+06, 3.65020000e+06, 3.92018375e+06,\n",
              "        7.78384450e+06, 9.39657700e+06, 7.68214750e+06, 9.48696300e+06,\n",
              "        2.19887720e+07, 3.13357440e+07, 4.20165640e+07, 4.38745000e+07,\n",
              "        3.18737100e+07, 6.21705150e+06, 2.39972050e+06, 5.90861450e+06,\n",
              "        1.93039520e+07, 1.25199140e+07, 2.56804350e+06, 6.73440700e+06,\n",
              "        1.79677288e+06, 9.64712000e+05, 1.22208100e+06, 2.66125325e+06,\n",
              "        4.37020950e+06, 1.56876088e+06, 2.19228950e+06, 3.43987425e+06,\n",
              "        3.36442625e+06, 1.45358820e+07, 1.26261760e+07, 1.07176090e+07,\n",
              "        9.25167300e+06, 6.46278300e+06, 1.52699680e+07, 2.52506980e+07,\n",
              "        5.28407480e+07, 8.21948000e+07, 8.43000960e+07, 7.16563040e+07,\n",
              "        5.05787840e+07, 2.52531840e+07, 2.51300680e+07, 1.04710940e+07,\n",
              "        4.12016525e+06, 1.12536480e+07, 1.58534170e+07, 3.61509760e+07,\n",
              "        1.78225620e+07, 3.28461125e+06, 4.47877950e+06, 3.82393800e+06,\n",
              "        2.67235775e+06, 7.43526900e+06, 2.97367550e+06, 2.58486225e+06,\n",
              "        6.70639100e+06, 3.72184225e+06, 1.49553120e+07, 2.83599580e+07,\n",
              "        5.03793400e+07, 8.16438160e+07, 1.07371608e+08], dtype=float32),\n",
              " 'rmse': array([  720.3713  ,   466.34735 ,   370.40244 ,   587.90063 ,\n",
              "          637.77423 ,   681.8126  ,   707.4459  ,   594.1202  ,\n",
              "          561.2718  ,   739.7764  ,   989.5635  ,   990.0955  ,\n",
              "          964.81757 ,   962.0543  ,   611.8473  ,   270.62668 ,\n",
              "          177.64687 ,   316.45654 ,   369.43753 ,   289.9918  ,\n",
              "          248.8056  ,   276.71893 ,   435.6275  ,   417.3311  ,\n",
              "          163.52083 ,   202.13655 ,   166.43166 ,   181.69049 ,\n",
              "          170.67358 ,   351.26175 ,   367.9656  ,   411.0388  ,\n",
              "          467.1376  ,   456.75922 ,   417.39188 ,   418.13275 ,\n",
              "          470.23026 ,   343.51065 ,   316.36627 ,   210.87842 ,\n",
              "          509.53455 ,   126.703835,    97.950485,   167.01137 ,\n",
              "          216.3375  ,   200.3399  ,   119.744064,   134.06268 ,\n",
              "          177.29988 ,   128.0928  ,   189.63681 ,   254.77417 ,\n",
              "          272.06223 ,   249.74739 ,   285.4764  ,   387.2003  ,\n",
              "          667.6511  ,   513.10095 ,   442.86578 ,   557.4154  ,\n",
              "          308.86572 ,   253.00426 ,   339.9722  ,   428.56696 ,\n",
              "          472.21448 ,   499.651   ,   518.5381  ,   481.42123 ,\n",
              "          226.07971 ,   267.0347  ,   329.04593 ,   590.20514 ,\n",
              "          611.79407 ,   503.08884 ,   417.2411  ,   402.34146 ,\n",
              "          380.20715 ,   414.9102  ,   496.74896 ,   721.62006 ,\n",
              "          791.6084  ,   563.65656 ,   344.64557 ,   246.56294 ,\n",
              "          321.54114 ,   297.1721  ,   239.89844 ,   309.0687  ,\n",
              "          362.68967 ,   731.653   ,   553.6439  ,   331.95026 ,\n",
              "          355.50613 ,   291.55124 ,   333.44562 ,   401.71353 ,\n",
              "          426.20514 ,   753.88495 ,   781.7162  ,   845.6248  ,\n",
              "          659.1449  ,   376.1163  ,   224.78598 ,   403.3895  ,\n",
              "          521.7622  ,   540.84937 ,   774.1906  ,   872.4417  ,\n",
              "         1143.6248  ,  1083.4935  ,   936.0122  ,   327.2362  ,\n",
              "          247.55595 ,   190.74904 ,   258.89774 ,   361.3732  ,\n",
              "          518.941   ,   654.6593  ,   662.75336 ,  1622.1969  ,\n",
              "         2170.8228  ,  2546.9077  ,  2476.8674  ,  2406.1384  ,\n",
              "         2485.483   ,  2659.879   ,  1303.1827  ,   562.87756 ,\n",
              "          521.1233  ,   491.9695  ,   597.1121  ,   653.33374 ,\n",
              "          605.734   ,   346.58954 ,   292.39697 ,   311.29544 ,\n",
              "          378.33298 ,   352.7399  ,   559.6037  ,   456.90872 ,\n",
              "          528.77124 ,   553.84357 ,   351.06268 ,   638.3739  ,\n",
              "          554.7028  ,   436.51358 ,   456.45795 ,   325.85257 ,\n",
              "          222.1943  ,   323.67966 ,   355.90173 ,   577.2686  ,\n",
              "          381.81265 ,   537.63556 ,   640.0201  ,   300.8892  ,\n",
              "          239.49666 ,   211.27129 ,   278.22943 ,   339.5124  ,\n",
              "          370.81665 ,   224.64098 ,   260.4715  ,   302.73895 ,\n",
              "          221.04869 ,   457.99628 ,   572.2185  ,   771.9994  ,\n",
              "          714.69653 ,   809.57526 ,   880.7565  ,   995.2992  ,\n",
              "         1056.9602  ,   982.8332  ,   528.9386  ,   359.06567 ,\n",
              "          430.55905 ,   329.06183 ,   444.03403 ,   517.4368  ,\n",
              "          598.78284 ,   676.15045 ,   830.7246  ,  1111.7245  ,\n",
              "         1059.0973  ,   403.15097 ,   474.48718 ,   664.198   ,\n",
              "          430.80154 ,   261.887   ,   445.17758 ,   434.81302 ,\n",
              "          554.39764 ,   707.31354 ,   724.2193  ,   529.8748  ,\n",
              "          381.5268  ,   302.35364 ,   385.2073  ,   328.61346 ,\n",
              "          648.569   ,   855.3761  ,   811.9468  ,   508.03354 ,\n",
              "          307.2963  ,   358.19675 ,   352.7431  ,   505.6885  ,\n",
              "          271.3161  ,   137.45903 ,   311.116   ,   333.82874 ,\n",
              "          286.1557  ,   288.4575  ,   495.47406 ,   450.46152 ,\n",
              "          583.96075 ,   263.73972 ,   171.39545 ,   323.6805  ,\n",
              "          287.69785 ,   317.92648 ,   211.18225 ,   274.57703 ,\n",
              "          191.58983 ,   226.92418 ,   247.55411 ,   334.01956 ,\n",
              "          430.94025 ,   680.635   ,   425.52942 ,   329.23767 ,\n",
              "          288.44675 ,   121.24743 ,   145.19629 ,   210.51067 ,\n",
              "          163.764   ,   214.7421  ,   214.92328 ,   107.711044,\n",
              "          107.925995,   198.43309 ,   159.86649 ,   189.36443 ,\n",
              "          365.333   ,   312.901   ,   194.77481 ,   177.86209 ,\n",
              "          170.20453 ,   177.19215 ,   216.5754  ,   224.55797 ,\n",
              "          163.52744 ,   159.79803 ,   207.26471 ,   343.74026 ,\n",
              "          778.5204  ,   865.5271  ,   956.0776  ,  1031.5778  ,\n",
              "         1150.7838  ,  1353.1886  ,  1280.8511  ,   496.0404  ,\n",
              "          274.1276  ,   279.43933 ,   276.44458 ,   308.42297 ,\n",
              "          506.0617  ,   165.72751 ,   148.2162  ,   212.7675  ,\n",
              "          357.88354 ,   553.8898  ,   443.64944 ,   472.53094 ,\n",
              "          354.39862 ,   403.71436 ,   206.09668 ,   267.36603 ,\n",
              "          261.33328 ,   259.37897 ,   322.19482 ,   329.6506  ,\n",
              "          569.6222  ,   588.13403 ,   443.69687 ,   437.62302 ,\n",
              "          329.68588 ,   383.73416 ,   411.32678 ,   423.1734  ,\n",
              "          212.53069 ,   180.97874 ,   405.4738  ,   607.85895 ,\n",
              "          875.41956 ,  1148.5012  ,  1386.3622  ,  1678.2765  ,\n",
              "         1598.9337  ,   919.7508  ,   474.13843 ,   162.19989 ,\n",
              "          258.55695 ,   181.89517 ,   289.95972 ,   305.03384 ,\n",
              "          316.2766  ,   276.272   ,   370.2473  ,   413.25198 ,\n",
              "          279.76566 ,   374.00677 ,   577.9094  ,   644.02356 ,\n",
              "          522.2259  ,   495.92062 ,   398.72473 ,   160.01555 ,\n",
              "          142.62071 ,   220.93771 ,   184.36444 ,   272.58005 ,\n",
              "          369.11407 ,   351.4545  ,   408.99835 ,   402.7819  ,\n",
              "          304.14233 ,   221.45326 ,   168.48303 ,   304.89484 ,\n",
              "          355.08707 ,   450.771   ,   580.98926 ,   690.3126  ,\n",
              "          516.84    ,   425.42108 ,   170.88846 ,   297.09305 ,\n",
              "          413.0874  ,   319.16052 ,   550.55115 ,   768.4413  ,\n",
              "          980.89813 ,  1200.587   ,  1269.2852  ,  1132.8256  ,\n",
              "         1137.2184  ,   316.12762 ,   305.65015 ,   203.41507 ,\n",
              "          269.44873 ,   218.32881 ,   310.5582  ,   227.16605 ,\n",
              "          205.88321 ,   734.20667 ,   881.9235  ,   722.4369  ,\n",
              "          935.8091  ,  1191.9791  ,  1102.4756  ,  1097.179   ,\n",
              "          453.75812 ,   520.91    ,   333.53986 ,   375.73508 ,\n",
              "          505.47543 ,   949.6105  ,  1151.8397  ,   903.1706  ,\n",
              "         1080.7955  ,  1415.5721  ,  1613.2798  ,  1455.281   ,\n",
              "          964.1919  ,   484.22095 ,   632.657   ,  1102.9503  ,\n",
              "         1454.6583  ,  1623.6954  ,  1267.3202  ,  1406.0537  ,\n",
              "         1203.2168  ,   871.7148  ,  1336.3865  ,  1191.9783  ,\n",
              "         1059.4247  ,   308.38428 ,   581.125   ,   745.2048  ,\n",
              "         1130.8937  ,  1081.922   ,   908.0303  ,   786.3899  ,\n",
              "          677.1623  ,   484.2303  ,  1161.3109  ,  2052.3826  ,\n",
              "         2904.592   ,  3307.0715  ,  3441.3665  ,  3374.8518  ,\n",
              "         3434.7366  ,  1975.3284  ,   488.55295 ,   553.0672  ,\n",
              "          996.36145 ,  1143.15    ,  1690.5272  ,  1946.8403  ,\n",
              "         2744.1475  ,  3298.9053  ,  3151.0327  ,  2586.2346  ,\n",
              "         2876.7668  ,  2915.53    ,  3391.6765  ,  3522.5276  ,\n",
              "         4548.077   ,  5621.738   ,  4886.428   ,  4286.3433  ,\n",
              "         4823.607   ,  3964.9175  ,  3037.808   ,  3106.4705  ,\n",
              "         4895.491   ,  5914.0566  ,  5382.9854  ,  1805.1898  ,\n",
              "         1457.4869  ,  1711.0393  ,  3987.4248  ,  4418.2134  ,\n",
              "         4318.005   ,  4664.5376  ,  4765.014   ,  5182.5796  ,\n",
              "         3853.8767  ,  1351.2911  ,  1469.5515  ,  1520.725   ,\n",
              "         1547.2925  ,  1731.2847  ,  2040.8936  ,  3970.3015  ,\n",
              "         3662.2422  ,  1840.9686  ,  2406.7463  ,  2823.7727  ,\n",
              "         4603.425   ,  5675.945   ,  5915.395   ,  6222.2915  ,\n",
              "         6681.8438  ,  6509.885   ,  7181.8706  ,  4045.7827  ,\n",
              "          817.91266 ,  1952.1047  ,  1565.0985  ,  2419.7014  ,\n",
              "         2602.0364  ,  3533.7874  ,  2874.2915  ,  3915.5078  ,\n",
              "         3258.8508  ,  4714.6064  ,  7261.237   ,  8999.473   ,\n",
              "        11200.98    , 10789.9     ,  4884.366   ,  3493.7246  ,\n",
              "         2850.2004  ,  1869.208   ,  2712.5603  ,  3152.8005  ,\n",
              "         2777.036   ,  2673.7239  ,  2415.2517  ,  4506.474   ,\n",
              "         5256.0474  ,  5885.31    ,  6376.8247  ,  5484.9155  ,\n",
              "         4408.5303  ,  2212.1838  ,  1910.5497  ,  1979.9453  ,\n",
              "         2789.954   ,  3065.3838  ,  2771.6687  ,  3080.0913  ,\n",
              "         4689.2188  ,  5597.834   ,  6482.0186  ,  6623.7827  ,\n",
              "         5645.6807  ,  2493.4016  ,  1549.1031  ,  2430.7642  ,\n",
              "         4393.6265  ,  3538.349   ,  1602.5116  ,  2595.0735  ,\n",
              "         1340.4376  ,   982.1975  ,  1105.4777  ,  1631.3347  ,\n",
              "         2090.5046  ,  1252.5018  ,  1480.6382  ,  1854.6898  ,\n",
              "         1834.2372  ,  3812.5952  ,  3553.333   ,  3273.776   ,\n",
              "         3041.6562  ,  2542.2004  ,  3907.6807  ,  5025.0073  ,\n",
              "         7269.164   ,  9066.135   ,  9181.508   ,  8465.004   ,\n",
              "         7111.876   ,  5025.2544  ,  5012.9897  ,  3235.907   ,\n",
              "         2029.819   ,  3354.6458  ,  3981.635   ,  6012.5684  ,\n",
              "         4221.6777  ,  1812.3496  ,  2116.3127  ,  1955.4891  ,\n",
              "         1634.7347  ,  2726.769   ,  1724.4348  ,  1607.7507  ,\n",
              "         2589.67    ,  1929.2076  ,  3867.2097  ,  5325.4067  ,\n",
              "         7097.8403  ,  9035.696   , 10362.027   ], dtype=float32),\n",
              " 'mape': array([ 7.852235  ,  4.255293  ,  3.3448079 ,  6.243217  ,  6.658744  ,\n",
              "         7.315922  ,  7.9968677 ,  6.507279  ,  5.4334607 ,  7.6888742 ,\n",
              "        11.45143   , 12.043337  , 12.279112  , 12.885545  ,  8.3600855 ,\n",
              "         3.2784295 ,  2.1428363 ,  3.5267596 ,  4.2724605 ,  3.1103315 ,\n",
              "         2.868414  ,  3.1788242 ,  5.536202  ,  5.4683933 ,  1.7958777 ,\n",
              "         2.4891465 ,  1.5579424 ,  2.268543  ,  1.9972231 ,  4.191062  ,\n",
              "         4.786337  ,  5.324381  ,  5.850094  ,  4.9032936 ,  4.5484977 ,\n",
              "         4.9459124 ,  5.845602  ,  3.6859326 ,  3.2219388 ,  2.309498  ,\n",
              "         6.7478256 ,  1.2584118 ,  1.219433  ,  1.9565698 ,  2.6168513 ,\n",
              "         2.521815  ,  1.4168314 ,  1.5776951 ,  1.9403452 ,  1.6786642 ,\n",
              "         1.8971407 ,  2.8182762 ,  3.2696514 ,  2.8414948 ,  2.6898263 ,\n",
              "         3.686716  ,  7.9777145 ,  5.440384  ,  5.207701  ,  6.7674117 ,\n",
              "         3.4235644 ,  1.970564  ,  2.4861598 ,  3.9299726 ,  4.303652  ,\n",
              "         5.0578    ,  5.4528494 ,  5.244416  ,  2.0258398 ,  2.8190148 ,\n",
              "         3.1965184 ,  6.1232285 ,  6.7163153 ,  5.157813  ,  4.319934  ,\n",
              "         4.104147  ,  3.8868256 ,  3.7188914 ,  4.455622  ,  7.2013354 ,\n",
              "         8.102889  ,  5.883553  ,  3.0982215 ,  2.0351474 ,  2.9605818 ,\n",
              "         2.397484  ,  2.075017  ,  2.621657  ,  3.4237423 ,  7.0138693 ,\n",
              "         4.844398  ,  3.096816  ,  3.0240264 ,  2.743524  ,  2.4646568 ,\n",
              "         3.6629324 ,  3.4998126 ,  6.6270566 ,  7.104336  ,  8.277516  ,\n",
              "         6.3537264 ,  3.4530337 ,  1.6213049 ,  3.48696   ,  4.1532855 ,\n",
              "         4.30237   ,  6.648489  ,  8.49458   , 11.922411  , 11.743214  ,\n",
              "        10.5578985 ,  3.475707  ,  2.4026232 ,  1.6029471 ,  2.5913343 ,\n",
              "         3.4165826 ,  4.6818433 ,  6.1873446 ,  7.2183475 , 17.773043  ,\n",
              "        26.99125   , 35.940407  , 36.82893   , 37.875942  , 42.62631   ,\n",
              "        49.1509    , 22.937176  ,  9.85      ,  7.7910876 ,  7.5391374 ,\n",
              "         8.343351  ,  9.317223  ,  7.908707  ,  4.3670473 ,  3.8527768 ,\n",
              "         4.1012893 ,  5.30866   ,  3.3544204 ,  7.302908  ,  5.8040876 ,\n",
              "         5.8786597 ,  7.1719184 ,  4.761699  ,  8.894533  ,  7.8987064 ,\n",
              "         6.068988  ,  5.827868  ,  4.306338  ,  2.3178232 ,  3.6306236 ,\n",
              "         4.4983006 ,  6.609493  ,  4.954777  ,  7.2845683 ,  8.717988  ,\n",
              "         3.6750205 ,  2.747878  ,  2.4789603 ,  3.4741611 ,  3.8878896 ,\n",
              "         4.6305265 ,  2.683847  ,  3.2765324 ,  3.400404  ,  2.4753256 ,\n",
              "         5.156262  ,  7.214699  ,  7.868939  ,  5.89342   ,  6.837764  ,\n",
              "         8.037177  ,  9.875999  , 11.09121   , 11.032375  ,  5.617248  ,\n",
              "         2.3211226 ,  2.999503  ,  3.064505  ,  4.0182543 ,  4.895196  ,\n",
              "         6.1050525 ,  6.655084  ,  7.7391906 , 11.50876   , 11.217952  ,\n",
              "         3.6426008 ,  4.4031687 ,  6.644975  ,  3.7335534 ,  2.0652874 ,\n",
              "         3.4790378 ,  3.7582438 ,  5.306529  ,  6.7851253 ,  7.1194334 ,\n",
              "         5.1379356 ,  3.6246817 ,  2.9486904 ,  3.4043458 ,  3.2399156 ,\n",
              "         5.0760927 ,  8.392479  ,  7.806824  ,  4.067133  ,  2.1351995 ,\n",
              "         3.1973195 ,  3.0338762 ,  5.160957  ,  2.5366216 ,  1.1042243 ,\n",
              "         2.6754174 ,  2.1726792 ,  2.1002595 ,  2.700953  ,  4.5191684 ,\n",
              "         4.315906  ,  6.0897818 ,  2.5417528 ,  1.4764827 ,  3.0626655 ,\n",
              "         2.6025577 ,  2.9614205 ,  1.9009571 ,  2.548759  ,  1.8263797 ,\n",
              "         2.1654813 ,  2.2033749 ,  2.991334  ,  4.435315  ,  7.1862206 ,\n",
              "         4.3547325 ,  3.2651794 ,  2.695683  ,  1.1107811 ,  1.3671414 ,\n",
              "         1.7584242 ,  1.5390328 ,  2.134742  ,  2.027111  ,  0.9923771 ,\n",
              "         0.71382266,  1.8452128 ,  1.5435257 ,  1.785032  ,  3.7368436 ,\n",
              "         3.1241891 ,  1.8235339 ,  1.6445379 ,  1.5722166 ,  1.7471135 ,\n",
              "         1.9923236 ,  2.1907265 ,  1.434871  ,  1.6326046 ,  1.7955631 ,\n",
              "         3.0911517 ,  5.3963757 ,  6.151148  ,  6.3666916 ,  7.2819414 ,\n",
              "         9.047624  , 11.3393545 , 11.224497  ,  3.7783887 ,  1.8625325 ,\n",
              "         2.020087  ,  2.055891  ,  2.268458  ,  4.1965427 ,  1.1494619 ,\n",
              "         1.126988  ,  1.4964297 ,  2.3433754 ,  4.0304604 ,  3.438094  ,\n",
              "         3.650972  ,  2.7131228 ,  3.1197321 ,  1.4742864 ,  1.3249377 ,\n",
              "         1.7543601 ,  1.8266764 ,  2.3300338 ,  2.3701947 ,  4.430105  ,\n",
              "         4.8058543 ,  2.9375927 ,  3.4135532 ,  2.3396163 ,  2.9587946 ,\n",
              "         3.3048503 ,  3.4321568 ,  1.1983961 ,  1.2549311 ,  3.0781877 ,\n",
              "         4.3738866 ,  6.1984706 ,  9.173548  , 11.947018  , 15.492609  ,\n",
              "        15.224852  ,  8.6712    ,  4.578719  ,  1.1905397 ,  2.083572  ,\n",
              "         1.2615507 ,  2.2374635 ,  2.1707897 ,  2.524352  ,  2.1154082 ,\n",
              "         2.8822024 ,  3.5674686 ,  2.3048682 ,  2.8493145 ,  4.420185  ,\n",
              "         5.4323964 ,  4.538814  ,  4.305143  ,  3.379872  ,  1.1941867 ,\n",
              "         1.0870478 ,  1.6043673 ,  1.446051  ,  2.1079834 ,  2.6856494 ,\n",
              "         2.8558435 ,  3.4625704 ,  3.4557738 ,  2.572744  ,  1.8134643 ,\n",
              "         1.3070385 ,  1.830509  ,  2.7347152 ,  3.0737681 ,  4.482405  ,\n",
              "         5.7992816 ,  4.20897   ,  3.4885008 ,  1.2034137 ,  2.189727  ,\n",
              "         3.2616649 ,  2.578981  ,  2.739773  ,  4.1301537 ,  5.6963353 ,\n",
              "         7.84152   ,  9.074432  ,  8.436589  ,  8.350093  ,  1.9603918 ,\n",
              "         2.169772  ,  1.2847172 ,  1.8023968 ,  1.264395  ,  1.5460263 ,\n",
              "         1.4961318 ,  1.2567859 ,  2.6992652 ,  4.1263227 ,  3.7978463 ,\n",
              "         4.6912603 ,  7.028315  ,  6.8701925 ,  6.7367525 ,  2.285972  ,\n",
              "         3.005458  ,  1.8053601 ,  2.0097902 ,  2.4045255 ,  4.660123  ,\n",
              "         5.5692425 ,  4.677018  ,  5.0387273 ,  6.761955  ,  8.507323  ,\n",
              "         7.7849255 ,  4.837165  ,  2.399706  ,  2.8212519 ,  4.3132977 ,\n",
              "         6.513867  ,  7.6723046 ,  6.1184516 ,  6.3479633 ,  5.5766706 ,\n",
              "         3.949091  ,  6.5727115 ,  5.832036  ,  5.2210245 ,  1.3061569 ,\n",
              "         2.5359585 ,  3.3532505 ,  5.5749145 ,  4.7344213 ,  4.063469  ,\n",
              "         3.621367  ,  2.8842587 ,  1.9404358 ,  3.7294648 ,  6.4382596 ,\n",
              "        11.033971  , 12.517227  , 13.36339   , 13.529327  , 14.6140175 ,\n",
              "         8.384649  ,  1.8631945 ,  1.8353826 ,  3.57416   ,  3.9874341 ,\n",
              "         4.8013644 ,  6.191342  ,  8.928241  , 11.076646  , 10.56974   ,\n",
              "         6.7308297 ,  7.2700953 ,  7.7523403 ,  9.204693  ,  8.849148  ,\n",
              "         9.987495  , 13.116913  , 10.806337  ,  9.5367775 , 11.01325   ,\n",
              "         8.569093  ,  7.221652  ,  7.064365  , 12.081016  , 15.599094  ,\n",
              "        14.665164  ,  4.3746448 ,  2.6557903 ,  4.0450077 ,  9.725391  ,\n",
              "        10.657653  , 10.565161  , 12.55503   , 13.119716  , 15.125214  ,\n",
              "        11.49668   ,  3.014062  ,  3.6156542 ,  3.7483175 ,  3.7143517 ,\n",
              "         4.073447  ,  5.5710597 , 10.733686  ,  9.675893  ,  4.6760106 ,\n",
              "         5.018482  ,  6.5170817 ,  9.890442  , 10.761892  , 10.469118  ,\n",
              "        11.416583  , 12.891891  , 12.774708  , 14.960882  ,  8.296371  ,\n",
              "         1.4006327 ,  2.7516944 ,  2.7494674 ,  3.5757046 ,  3.9608922 ,\n",
              "         5.337844  ,  4.4495316 ,  6.4737296 ,  5.2229686 ,  8.160439  ,\n",
              "        12.359577  , 16.928877  , 22.487692  , 22.450027  ,  9.714438  ,\n",
              "         6.4318314 ,  4.9905105 ,  3.088075  ,  4.6082454 ,  6.1327376 ,\n",
              "         4.812127  ,  4.1416807 ,  3.4786277 ,  6.281537  ,  7.7383647 ,\n",
              "         9.242153  , 10.155915  ,  8.879638  ,  6.857614  ,  2.9219973 ,\n",
              "         2.4792342 ,  2.7036877 ,  4.4272056 ,  5.0844703 ,  3.7494335 ,\n",
              "         4.0249414 ,  7.040564  ,  8.608372  , 10.579724  , 11.271646  ,\n",
              "        10.147285  ,  3.8864017 ,  2.156487  ,  3.5885823 ,  7.1198215 ,\n",
              "         5.7828097 ,  2.5296922 ,  4.1630325 ,  1.8669909 ,  1.5102906 ,\n",
              "         1.678249  ,  2.1586244 ,  3.173766  ,  1.8447051 ,  2.109221  ,\n",
              "         2.7362316 ,  2.151311  ,  5.338194  ,  5.0735583 ,  4.8736506 ,\n",
              "         4.2376113 ,  3.5811    ,  5.346284  ,  6.935758  , 11.16978   ,\n",
              "        14.76895   , 15.749441  , 15.1345625 , 12.562551  ,  8.643729  ,\n",
              "         8.5765705 ,  5.2829976 ,  3.0614893 ,  5.30983   ,  6.749108  ,\n",
              "        10.616185  ,  6.8712325 ,  2.6374915 ,  3.4383886 ,  3.229902  ,\n",
              "         2.3936641 ,  3.699869  ,  1.9807358 ,  2.121719  ,  4.074142  ,\n",
              "         2.6982365 ,  4.8348904 ,  8.173553  , 11.993555  , 16.285265  ,\n",
              "        19.159369  ], dtype=float32),\n",
              " 'mase': 2.1903918}"
            ]
          },
          "metadata": {},
          "execution_count": 58
        }
      ]
    },
    {
      "cell_type": "markdown",
      "source": [
        "### Make our evaluation function work for larger horizon"
      ],
      "metadata": {
        "id": "CwvC3Slwgqh9"
      }
    },
    {
      "cell_type": "code",
      "source": [
        "def evaluate_preds(y_true, y_pred):\n",
        "\n",
        "  y_true = tf.cast(y_true, dtype=tf.float32)\n",
        "  y_pred = tf.cast(y_pred, dtype=tf.float32)\n",
        "\n",
        "  # Calculate various metrics\n",
        "  mae = tf.keras.metrics.mean_absolute_error(y_true, y_pred)\n",
        "  mse = tf.keras.metrics.mean_squared_error(y_true, y_pred)\n",
        "  rmse = tf.sqrt(mse)\n",
        "  mape = tf.keras.metrics.mean_absolute_percentage_error(y_true, y_pred)\n",
        "  mase = mean_absolute_scaled_error(y_true, y_pred)\n",
        "\n",
        "  # Account for different sized metrics (for longer horizons, reduce to single number)\n",
        "  if mae.ndim > 0:\n",
        "    mae = tf.reduce_mean(mae)\n",
        "    mse = tf.reduce_mean(mse)\n",
        "    rmse = tf.reduce_mean(rmse)\n",
        "    mape = tf.reduce_mean(mape)\n",
        "    mase = tf.reduce_mean(mase)\n",
        "  \n",
        "  return {\"mae\": mae.numpy(),\n",
        "          \"mse\": mse.numpy(),\n",
        "          \"rmse\": rmse.numpy(),\n",
        "          \"mape\": mape.numpy(),\n",
        "          \"mase\": mase.numpy()}"
      ],
      "metadata": {
        "id": "j4DMzHTQgo34"
      },
      "execution_count": 59,
      "outputs": []
    },
    {
      "cell_type": "code",
      "source": [
        "# Get model_3 reults\n",
        "\n",
        "model_3_results = evaluate_preds(y_true=tf.squeeze(test_labels),\n",
        "                                 y_pred=model_3_preds)\n",
        "model_3_results"
      ],
      "metadata": {
        "colab": {
          "base_uri": "https://localhost:8080/"
        },
        "id": "Arofte_zqBA0",
        "outputId": "3ba2fbbb-9517-4bb1-d97e-794f3f9486d0"
      },
      "execution_count": 60,
      "outputs": [
        {
          "output_type": "execute_result",
          "data": {
            "text/plain": [
              "{'mae': 1230.9417,\n",
              " 'mse': 5407848.5,\n",
              " 'rmse': 1416.9521,\n",
              " 'mape': 5.606264,\n",
              " 'mase': 2.1903918}"
            ]
          },
          "metadata": {},
          "execution_count": 60
        }
      ]
    },
    {
      "cell_type": "code",
      "source": [
        "offset = 300\n",
        "plt.figure(figsize=(10, 7))\n",
        "plot_time_series(timesteps=X_test[-len(test_windows):], values=test_labels[:, 0], start=offset, label=\"Test_data\")\n",
        "plot_time_series(timesteps=X_test[-len(test_windows):], values=model_3_preds, start=offset, label=\"model_3_preds\")"
      ],
      "metadata": {
        "colab": {
          "base_uri": "https://localhost:8080/",
          "height": 442
        },
        "id": "GLQqy275i5ws",
        "outputId": "4e8e3561-eb4c-451e-f81f-2f497f4fa329"
      },
      "execution_count": 61,
      "outputs": [
        {
          "output_type": "display_data",
          "data": {
            "text/plain": [
              "<Figure size 720x504 with 1 Axes>"
            ],
            "image/png": "[encoded data removed]"
          },
          "metadata": {
            "needs_background": "light"
          }
        }
      ]
    },
    {
      "cell_type": "code",
      "source": [
        "offset = 300\n",
        "plt.figure(figsize=(10, 7))\n",
        "\n",
        "plot_time_series(timesteps=X_test[-len(test_windows):], values=test_labels[:, 0], start=offset, label=\"Test_data\")\n",
        "plot_time_series(timesteps=X_test[-len(test_windows):], values=tf.reduce_mean(model_3_preds, axis=1), format=\"-\", start=offset, label=\"model_3_preds\")"
      ],
      "metadata": {
        "colab": {
          "base_uri": "https://localhost:8080/",
          "height": 442
        },
        "id": "Af7CA625kKdT",
        "outputId": "137404aa-6350-437a-805f-0d1d6cff244a"
      },
      "execution_count": 62,
      "outputs": [
        {
          "output_type": "display_data",
          "data": {
            "text/plain": [
              "<Figure size 720x504 with 1 Axes>"
            ],
            "image/png": "[encoded data removed]"
          },
          "metadata": {
            "needs_background": "light"
          }
        }
      ]
    },
    {
      "cell_type": "markdown",
      "source": [
        "### Which of our model is performing best so far?"
      ],
      "metadata": {
        "id": "jgqQHhlUlY2t"
      }
    },
    {
      "cell_type": "code",
      "source": [
        "pd.DataFrame({\"naive\":naive_results[\"mae\"],\n",
        "              \"horizon_1_window_7\":model_1_results[\"mae\"],\n",
        "              \"horizon_1_window_30\":model_2_results[\"mae\"],\n",
        "              \"horizon_7_window_30\":model_3_results[\"mae\"]}, index=[\"mae\"]).plot(figsize=(10, 7), kind=\"bar\");"
      ],
      "metadata": {
        "colab": {
          "base_uri": "https://localhost:8080/",
          "height": 440
        },
        "id": "Lt5kCSf3lQuq",
        "outputId": "cf22a861-397a-4055-ef30-8e4b338279c6"
      },
      "execution_count": 63,
      "outputs": [
        {
          "output_type": "display_data",
          "data": {
            "text/plain": [
              "<Figure size 720x504 with 1 Axes>"
            ],
            "image/png": "[encoded data removed]"
          },
          "metadata": {
            "needs_background": "light"
          }
        }
      ]
    },
    {
      "cell_type": "markdown",
      "source": [
        "### Model 4: Conv1D"
      ],
      "metadata": {
        "id": "bqiioIHprHPT"
      }
    },
    {
      "cell_type": "code",
      "source": [
        "HORIZON = 1\n",
        "WINDOW_SIZE = 7"
      ],
      "metadata": {
        "id": "Ym3K51QArFt9"
      },
      "execution_count": 64,
      "outputs": []
    },
    {
      "cell_type": "code",
      "source": [
        "# Create windowed dataset\n",
        "\n",
        "full_windows, full_labels = make_windows(prices, window_size=WINDOW_SIZE, horizon=HORIZON)\n",
        "len(full_windows), len(full_labels)"
      ],
      "metadata": {
        "colab": {
          "base_uri": "https://localhost:8080/"
        },
        "id": "0t3St3dBn4nj",
        "outputId": "b0c13ae6-a0ea-4921-c1e3-3e8a7a2091e2"
      },
      "execution_count": 65,
      "outputs": [
        {
          "output_type": "execute_result",
          "data": {
            "text/plain": [
              "(2780, 2780)"
            ]
          },
          "metadata": {},
          "execution_count": 65
        }
      ]
    },
    {
      "cell_type": "code",
      "source": [
        "# Create test/train splits\n",
        "\n",
        "train_windows, test_windows, train_labels, test_labels = make_train_test_split(full_windows, full_labels)\n",
        "len(train_windows), len(test_windows), len(train_labels), len(test_labels)"
      ],
      "metadata": {
        "colab": {
          "base_uri": "https://localhost:8080/"
        },
        "id": "aV5yNJHprqYK",
        "outputId": "e0f9deb5-e7b9-4462-ea54-b19d9ab34884"
      },
      "execution_count": 66,
      "outputs": [
        {
          "output_type": "execute_result",
          "data": {
            "text/plain": [
              "(2224, 556, 2224, 556)"
            ]
          },
          "metadata": {},
          "execution_count": 66
        }
      ]
    },
    {
      "cell_type": "code",
      "source": [
        "# Check data sample shapes\n",
        "train_windows[0].shape"
      ],
      "metadata": {
        "colab": {
          "base_uri": "https://localhost:8080/"
        },
        "id": "S_8P7sF4sFDc",
        "outputId": "ff00777f-3ee0-4cdf-c0bb-89f3b828f16d"
      },
      "execution_count": 67,
      "outputs": [
        {
          "output_type": "execute_result",
          "data": {
            "text/plain": [
              "(7,)"
            ]
          },
          "metadata": {},
          "execution_count": 67
        }
      ]
    },
    {
      "cell_type": "code",
      "source": [
        "# Before we pass our data to conv1D, we have to reshape it to make sure it works\n",
        "\n",
        "x = tf.constant(train_windows[0])\n",
        "expand_dims_layer = layers.Lambda(lambda x: tf.expand_dims(x, axis=1))\n",
        "print(f\"Original shape: {x.shape}\")\n",
        "print(f\"Expanded shape: {expand_dims_layer(x).shape}\")\n",
        "print(f\"Original values with Expanded shape:\\n{expand_dims_layer(x)}\")"
      ],
      "metadata": {
        "colab": {
          "base_uri": "https://localhost:8080/"
        },
        "id": "PHIJtSOfsNj4",
        "outputId": "47ce90cb-13fd-4812-b002-2e5885bf7906"
      },
      "execution_count": 68,
      "outputs": [
        {
          "output_type": "stream",
          "name": "stdout",
          "text": [
            "Original shape: (7,)\n",
            "Expanded shape: (7, 1)\n",
            "Original values with Expanded shape:\n",
            "[[123.65499]\n",
            " [125.455  ]\n",
            " [108.58483]\n",
            " [118.67466]\n",
            " [121.33866]\n",
            " [120.65533]\n",
            " [121.795  ]]\n"
          ]
        }
      ]
    },
    {
      "cell_type": "code",
      "source": [
        "tf.random.set_seed(42)\n",
        "\n",
        "# Create model\n",
        "model_4 = tf.keras.Sequential([\n",
        "    layers.Lambda(lambda x: tf.expand_dims(x, axis=1)),\n",
        "    layers.Conv1D(filters=128, kernel_size=5, padding=\"causal\", activation=\"relu\"),\n",
        "    layers.Dense(HORIZON)\n",
        "], name=\"model_4_Conv1D\")\n",
        "\n",
        "model_4.compile(loss=\"mae\",\n",
        "                optimizer=tf.keras.optimizers.Adam())\n",
        "\n",
        "model_4.fit(train_windows,\n",
        "            train_labels,\n",
        "            epochs=100,\n",
        "            batch_size=128,\n",
        "            verbose=0,\n",
        "            validation_data=(test_windows, test_labels),\n",
        "            callbacks=[create_model_checkpoint(model_name=model_4.name)])"
      ],
      "metadata": {
        "colab": {
          "base_uri": "https://localhost:8080/"
        },
        "id": "twTXCGyStPyz",
        "outputId": "f0d651d4-1201-49ce-d06a-a8efab19d1b9"
      },
      "execution_count": 69,
      "outputs": [
        {
          "output_type": "stream",
          "name": "stderr",
          "text": [
            "WARNING:absl:Found untraced functions such as _jit_compiled_convolution_op, _update_step_xla while saving (showing 2 of 2). These functions will not be directly callable after loading.\n",
            "WARNING:absl:Found untraced functions such as _jit_compiled_convolution_op, _update_step_xla while saving (showing 2 of 2). These functions will not be directly callable after loading.\n",
            "WARNING:absl:Found untraced functions such as _jit_compiled_convolution_op, _update_step_xla while saving (showing 2 of 2). These functions will not be directly callable after loading.\n",
            "WARNING:absl:Found untraced functions such as _jit_compiled_convolution_op, _update_step_xla while saving (showing 2 of 2). These functions will not be directly callable after loading.\n",
            "WARNING:absl:Found untraced functions such as _jit_compiled_convolution_op, _update_step_xla while saving (showing 2 of 2). These functions will not be directly callable after loading.\n",
            "WARNING:absl:Found untraced functions such as _jit_compiled_convolution_op, _update_step_xla while saving (showing 2 of 2). These functions will not be directly callable after loading.\n",
            "WARNING:absl:Found untraced functions such as _jit_compiled_convolution_op, _update_step_xla while saving (showing 2 of 2). These functions will not be directly callable after loading.\n",
            "WARNING:absl:Found untraced functions such as _jit_compiled_convolution_op, _update_step_xla while saving (showing 2 of 2). These functions will not be directly callable after loading.\n",
            "WARNING:absl:Found untraced functions such as _jit_compiled_convolution_op, _update_step_xla while saving (showing 2 of 2). These functions will not be directly callable after loading.\n",
            "WARNING:absl:Found untraced functions such as _jit_compiled_convolution_op, _update_step_xla while saving (showing 2 of 2). These functions will not be directly callable after loading.\n",
            "WARNING:absl:Found untraced functions such as _jit_compiled_convolution_op, _update_step_xla while saving (showing 2 of 2). These functions will not be directly callable after loading.\n",
            "WARNING:absl:Found untraced functions such as _jit_compiled_convolution_op, _update_step_xla while saving (showing 2 of 2). These functions will not be directly callable after loading.\n",
            "WARNING:absl:Found untraced functions such as _jit_compiled_convolution_op, _update_step_xla while saving (showing 2 of 2). These functions will not be directly callable after loading.\n",
            "WARNING:absl:Found untraced functions such as _jit_compiled_convolution_op, _update_step_xla while saving (showing 2 of 2). These functions will not be directly callable after loading.\n",
            "WARNING:absl:Found untraced functions such as _jit_compiled_convolution_op, _update_step_xla while saving (showing 2 of 2). These functions will not be directly callable after loading.\n",
            "WARNING:absl:Found untraced functions such as _jit_compiled_convolution_op, _update_step_xla while saving (showing 2 of 2). These functions will not be directly callable after loading.\n",
            "WARNING:absl:Found untraced functions such as _jit_compiled_convolution_op, _update_step_xla while saving (showing 2 of 2). These functions will not be directly callable after loading.\n",
            "WARNING:absl:Found untraced functions such as _jit_compiled_convolution_op, _update_step_xla while saving (showing 2 of 2). These functions will not be directly callable after loading.\n",
            "WARNING:absl:Found untraced functions such as _jit_compiled_convolution_op, _update_step_xla while saving (showing 2 of 2). These functions will not be directly callable after loading.\n",
            "WARNING:absl:Found untraced functions such as _jit_compiled_convolution_op, _update_step_xla while saving (showing 2 of 2). These functions will not be directly callable after loading.\n",
            "WARNING:absl:Found untraced functions such as _jit_compiled_convolution_op, _update_step_xla while saving (showing 2 of 2). These functions will not be directly callable after loading.\n",
            "WARNING:absl:Found untraced functions such as _jit_compiled_convolution_op, _update_step_xla while saving (showing 2 of 2). These functions will not be directly callable after loading.\n",
            "WARNING:absl:Found untraced functions such as _jit_compiled_convolution_op, _update_step_xla while saving (showing 2 of 2). These functions will not be directly callable after loading.\n",
            "WARNING:absl:Found untraced functions such as _jit_compiled_convolution_op, _update_step_xla while saving (showing 2 of 2). These functions will not be directly callable after loading.\n",
            "WARNING:absl:Found untraced functions such as _jit_compiled_convolution_op, _update_step_xla while saving (showing 2 of 2). These functions will not be directly callable after loading.\n",
            "WARNING:absl:Found untraced functions such as _jit_compiled_convolution_op, _update_step_xla while saving (showing 2 of 2). These functions will not be directly callable after loading.\n",
            "WARNING:absl:Found untraced functions such as _jit_compiled_convolution_op, _update_step_xla while saving (showing 2 of 2). These functions will not be directly callable after loading.\n",
            "WARNING:absl:Found untraced functions such as _jit_compiled_convolution_op, _update_step_xla while saving (showing 2 of 2). These functions will not be directly callable after loading.\n",
            "WARNING:absl:Found untraced functions such as _jit_compiled_convolution_op, _update_step_xla while saving (showing 2 of 2). These functions will not be directly callable after loading.\n",
            "WARNING:absl:Found untraced functions such as _jit_compiled_convolution_op, _update_step_xla while saving (showing 2 of 2). These functions will not be directly callable after loading.\n",
            "WARNING:absl:Found untraced functions such as _jit_compiled_convolution_op, _update_step_xla while saving (showing 2 of 2). These functions will not be directly callable after loading.\n",
            "WARNING:absl:Found untraced functions such as _jit_compiled_convolution_op, _update_step_xla while saving (showing 2 of 2). These functions will not be directly callable after loading.\n",
            "WARNING:absl:Found untraced functions such as _jit_compiled_convolution_op, _update_step_xla while saving (showing 2 of 2). These functions will not be directly callable after loading.\n",
            "WARNING:absl:Found untraced functions such as _jit_compiled_convolution_op, _update_step_xla while saving (showing 2 of 2). These functions will not be directly callable after loading.\n",
            "WARNING:absl:Found untraced functions such as _jit_compiled_convolution_op, _update_step_xla while saving (showing 2 of 2). These functions will not be directly callable after loading.\n",
            "WARNING:absl:Found untraced functions such as _jit_compiled_convolution_op, _update_step_xla while saving (showing 2 of 2). These functions will not be directly callable after loading.\n",
            "WARNING:absl:Found untraced functions such as _jit_compiled_convolution_op, _update_step_xla while saving (showing 2 of 2). These functions will not be directly callable after loading.\n",
            "WARNING:absl:Found untraced functions such as _jit_compiled_convolution_op, _update_step_xla while saving (showing 2 of 2). These functions will not be directly callable after loading.\n",
            "WARNING:absl:Found untraced functions such as _jit_compiled_convolution_op, _update_step_xla while saving (showing 2 of 2). These functions will not be directly callable after loading.\n",
            "WARNING:absl:Found untraced functions such as _jit_compiled_convolution_op, _update_step_xla while saving (showing 2 of 2). These functions will not be directly callable after loading.\n",
            "WARNING:absl:Found untraced functions such as _jit_compiled_convolution_op, _update_step_xla while saving (showing 2 of 2). These functions will not be directly callable after loading.\n",
            "WARNING:absl:Found untraced functions such as _jit_compiled_convolution_op, _update_step_xla while saving (showing 2 of 2). These functions will not be directly callable after loading.\n",
            "WARNING:absl:Found untraced functions such as _jit_compiled_convolution_op, _update_step_xla while saving (showing 2 of 2). These functions will not be directly callable after loading.\n",
            "WARNING:absl:Found untraced functions such as _jit_compiled_convolution_op, _update_step_xla while saving (showing 2 of 2). These functions will not be directly callable after loading.\n",
            "WARNING:absl:Found untraced functions such as _jit_compiled_convolution_op, _update_step_xla while saving (showing 2 of 2). These functions will not be directly callable after loading.\n",
            "WARNING:absl:Found untraced functions such as _jit_compiled_convolution_op, _update_step_xla while saving (showing 2 of 2). These functions will not be directly callable after loading.\n",
            "WARNING:absl:Found untraced functions such as _jit_compiled_convolution_op, _update_step_xla while saving (showing 2 of 2). These functions will not be directly callable after loading.\n",
            "WARNING:absl:Found untraced functions such as _jit_compiled_convolution_op, _update_step_xla while saving (showing 2 of 2). These functions will not be directly callable after loading.\n",
            "WARNING:absl:Found untraced functions such as _jit_compiled_convolution_op, _update_step_xla while saving (showing 2 of 2). These functions will not be directly callable after loading.\n",
            "WARNING:absl:Found untraced functions such as _jit_compiled_convolution_op, _update_step_xla while saving (showing 2 of 2). These functions will not be directly callable after loading.\n",
            "WARNING:absl:Found untraced functions such as _jit_compiled_convolution_op, _update_step_xla while saving (showing 2 of 2). These functions will not be directly callable after loading.\n"
          ]
        },
        {
          "output_type": "execute_result",
          "data": {
            "text/plain": [
              "<keras.callbacks.History at 0x7f761b18e700>"
            ]
          },
          "metadata": {},
          "execution_count": 69
        }
      ]
    },
    {
      "cell_type": "code",
      "source": [
        "model_4.summary()"
      ],
      "metadata": {
        "colab": {
          "base_uri": "https://localhost:8080/"
        },
        "id": "Gum5uvq2vAMq",
        "outputId": "466c92c4-fc0a-41e6-8d68-a199ea0230df"
      },
      "execution_count": 70,
      "outputs": [
        {
          "output_type": "stream",
          "name": "stdout",
          "text": [
            "Model: \"model_4_Conv1D\"\n",
            "_________________________________________________________________\n",
            " Layer (type)                Output Shape              Param #   \n",
            "=================================================================\n",
            " lambda_1 (Lambda)           (None, 1, 7)              0         \n",
            "                                                                 \n",
            " conv1d (Conv1D)             (None, 1, 128)            4608      \n",
            "                                                                 \n",
            " dense_6 (Dense)             (None, 1, 1)              129       \n",
            "                                                                 \n",
            "=================================================================\n",
            "Total params: 4,737\n",
            "Trainable params: 4,737\n",
            "Non-trainable params: 0\n",
            "_________________________________________________________________\n"
          ]
        }
      ]
    },
    {
      "cell_type": "code",
      "source": [
        "model_4 = tf.keras.models.load_model(\"model_experiments/model_4_Conv1D\")\n",
        "model_4.evaluate(test_windows, test_labels)"
      ],
      "metadata": {
        "colab": {
          "base_uri": "https://localhost:8080/"
        },
        "id": "BCjk18CQvOaf",
        "outputId": "50bf539b-231a-4bc9-d137-e62d7069d921"
      },
      "execution_count": 71,
      "outputs": [
        {
          "output_type": "stream",
          "name": "stdout",
          "text": [
            "18/18 [==============================] - 0s 4ms/step - loss: 572.8647\n"
          ]
        },
        {
          "output_type": "execute_result",
          "data": {
            "text/plain": [
              "572.8646850585938"
            ]
          },
          "metadata": {},
          "execution_count": 71
        }
      ]
    },
    {
      "cell_type": "code",
      "source": [
        "# Make predictions\n",
        "model_4_preds = make_preds(model_4, test_windows)\n",
        "model_4_preds[:5]"
      ],
      "metadata": {
        "colab": {
          "base_uri": "https://localhost:8080/"
        },
        "id": "-RmLkclPvlBv",
        "outputId": "658b6a40-df2c-45cb-c1d0-c099df640cbd"
      },
      "execution_count": 72,
      "outputs": [
        {
          "output_type": "stream",
          "name": "stdout",
          "text": [
            "18/18 [==============================] - 0s 2ms/step\n"
          ]
        },
        {
          "output_type": "execute_result",
          "data": {
            "text/plain": [
              "<tf.Tensor: shape=(5,), dtype=float32, numpy=array([8890.692, 8783.1  , 8997.221, 8783.527, 8742.618], dtype=float32)>"
            ]
          },
          "metadata": {},
          "execution_count": 72
        }
      ]
    },
    {
      "cell_type": "code",
      "source": [
        "# Evaluate predictions\n",
        "\n",
        "model_4_results = evaluate_preds(y_true=tf.squeeze(test_labels),\n",
        "                                 y_pred=model_4_preds)\n",
        "model_4_results"
      ],
      "metadata": {
        "colab": {
          "base_uri": "https://localhost:8080/"
        },
        "id": "nOsYGyyCwCuM",
        "outputId": "a57963b0-cdf7-4fa2-fe34-365304c17576"
      },
      "execution_count": 73,
      "outputs": [
        {
          "output_type": "execute_result",
          "data": {
            "text/plain": [
              "{'mae': 572.86475,\n",
              " 'mse': 1188725.8,\n",
              " 'rmse': 1090.287,\n",
              " 'mape': 2.55887,\n",
              " 'mase': 1.0063647}"
            ]
          },
          "metadata": {},
          "execution_count": 73
        }
      ]
    },
    {
      "cell_type": "markdown",
      "source": [
        "### Model 5: RNN (LSTM)"
      ],
      "metadata": {
        "id": "xXuT7doY60To"
      }
    },
    {
      "cell_type": "code",
      "source": [
        "tf.random.set_seed(42)\n",
        "\n",
        "# Let's an LSTM model with the functional API\n",
        "inputs = layers.Input(shape=(WINDOW_SIZE))\n",
        "x = layers.Lambda(lambda x: tf.expand_dims(x, axis=1))(inputs)\n",
        "# print(x.shape)\n",
        "# x= layers.LSTM(128, activation=\"relu\", return_sequences=True)(x)\n",
        "x = layers.LSTM(128, activation=\"relu\")(x)\n",
        "# print(x.shape)\n",
        "# Add another optional dense layer\n",
        "# x = layers.Dense(32, activation=\"relu\")(x)\n",
        "output = layers.Dense(HORIZON)(x)\n",
        "model_5 = tf.keras.Model(inputs=inputs, outputs=output, name=\"model_5_lstm\")\n",
        "\n",
        "# Compile the model\n",
        "model_5.compile(loss=\"mae\",\n",
        "                optimizer=tf.keras.optimizers.Adam())\n",
        "\n",
        "# Fit the model\n",
        "model_5.fit(train_windows,\n",
        "            train_labels,\n",
        "            epochs=100,\n",
        "            batch_size=128,\n",
        "            validation_data=(test_windows, test_labels),\n",
        "            callbacks=[create_model_checkpoint(model_name=model_5.name)])"
      ],
      "metadata": {
        "id": "sTvPilMzwWGT",
        "colab": {
          "base_uri": "https://localhost:8080/"
        },
        "outputId": "5400aa3f-5618-4a73-e1f6-ef0540964d95"
      },
      "execution_count": 74,
      "outputs": [
        {
          "output_type": "stream",
          "name": "stderr",
          "text": [
            "WARNING:tensorflow:Layer lstm will not use cuDNN kernels since it doesn't meet the criteria. It will use a generic GPU kernel as fallback when running on GPU.\n"
          ]
        },
        {
          "output_type": "stream",
          "name": "stdout",
          "text": [
            "Epoch 1/100\n",
            "18/18 [==============================] - 5s 169ms/step - loss: 2993.9983 - val_loss: 13814.0459\n",
            "Epoch 2/100\n",
            "18/18 [==============================] - 3s 181ms/step - loss: 1168.0510 - val_loss: 1423.6866\n",
            "Epoch 3/100\n",
            "18/18 [==============================] - 2s 127ms/step - loss: 265.0765 - val_loss: 1195.3529\n",
            "Epoch 4/100\n",
            "18/18 [==============================] - 2s 130ms/step - loss: 213.0583 - val_loss: 1105.2013\n",
            "Epoch 5/100\n",
            "18/18 [==============================] - 3s 156ms/step - loss: 197.1909 - val_loss: 1097.2769\n",
            "Epoch 6/100\n",
            "18/18 [==============================] - 2s 131ms/step - loss: 194.9022 - val_loss: 1074.2072\n",
            "Epoch 7/100\n",
            "18/18 [==============================] - 0s 7ms/step - loss: 190.1173 - val_loss: 1078.3977\n",
            "Epoch 8/100\n",
            "18/18 [==============================] - 3s 175ms/step - loss: 187.0622 - val_loss: 1073.3241\n",
            "Epoch 9/100\n",
            "18/18 [==============================] - 2s 128ms/step - loss: 185.3550 - val_loss: 1061.9874\n",
            "Epoch 10/100\n",
            "18/18 [==============================] - 3s 164ms/step - loss: 184.1373 - val_loss: 1041.9863\n",
            "Epoch 11/100\n",
            "18/18 [==============================] - 3s 160ms/step - loss: 183.8761 - val_loss: 1038.8878\n",
            "Epoch 12/100\n",
            "18/18 [==============================] - 2s 142ms/step - loss: 182.1929 - val_loss: 1025.9871\n",
            "Epoch 13/100\n",
            "18/18 [==============================] - 3s 164ms/step - loss: 179.6045 - val_loss: 1011.2466\n",
            "Epoch 14/100\n",
            "18/18 [==============================] - 0s 8ms/step - loss: 177.7758 - val_loss: 1042.9731\n",
            "Epoch 15/100\n",
            "18/18 [==============================] - 0s 7ms/step - loss: 177.1868 - val_loss: 1014.3988\n",
            "Epoch 16/100\n",
            "18/18 [==============================] - 3s 156ms/step - loss: 174.7687 - val_loss: 975.0848\n",
            "Epoch 17/100\n",
            "18/18 [==============================] - 0s 10ms/step - loss: 173.3530 - val_loss: 1027.5897\n",
            "Epoch 18/100\n",
            "18/18 [==============================] - 0s 10ms/step - loss: 171.8722 - val_loss: 1026.1050\n",
            "Epoch 19/100\n",
            "18/18 [==============================] - 0s 9ms/step - loss: 169.4075 - val_loss: 994.3016\n",
            "Epoch 20/100\n",
            "18/18 [==============================] - 2s 132ms/step - loss: 168.3669 - val_loss: 937.5551\n",
            "Epoch 21/100\n",
            "18/18 [==============================] - 0s 10ms/step - loss: 165.5873 - val_loss: 939.0247\n",
            "Epoch 22/100\n",
            "18/18 [==============================] - 0s 8ms/step - loss: 163.8589 - val_loss: 950.1934\n",
            "Epoch 23/100\n",
            "18/18 [==============================] - 0s 9ms/step - loss: 162.4766 - val_loss: 942.8431\n",
            "Epoch 24/100\n",
            "18/18 [==============================] - 2s 128ms/step - loss: 159.6632 - val_loss: 908.8429\n",
            "Epoch 25/100\n",
            "18/18 [==============================] - 3s 173ms/step - loss: 157.8263 - val_loss: 905.8888\n",
            "Epoch 26/100\n",
            "18/18 [==============================] - 2s 130ms/step - loss: 156.5521 - val_loss: 885.4503\n",
            "Epoch 27/100\n",
            "18/18 [==============================] - 3s 158ms/step - loss: 153.9104 - val_loss: 868.2855\n",
            "Epoch 28/100\n",
            "18/18 [==============================] - 2s 128ms/step - loss: 152.0311 - val_loss: 851.2079\n",
            "Epoch 29/100\n",
            "18/18 [==============================] - 2s 127ms/step - loss: 149.9776 - val_loss: 842.5651\n",
            "Epoch 30/100\n",
            "18/18 [==============================] - 0s 8ms/step - loss: 149.8393 - val_loss: 863.5714\n",
            "Epoch 31/100\n",
            "18/18 [==============================] - 3s 180ms/step - loss: 147.3626 - val_loss: 814.5471\n",
            "Epoch 32/100\n",
            "18/18 [==============================] - 0s 8ms/step - loss: 145.3759 - val_loss: 839.1422\n",
            "Epoch 33/100\n",
            "18/18 [==============================] - 0s 8ms/step - loss: 142.6434 - val_loss: 822.2901\n",
            "Epoch 34/100\n",
            "18/18 [==============================] - 3s 156ms/step - loss: 141.9278 - val_loss: 787.0819\n",
            "Epoch 35/100\n",
            "18/18 [==============================] - 2s 127ms/step - loss: 139.0192 - val_loss: 779.4174\n",
            "Epoch 36/100\n",
            "18/18 [==============================] - 2s 129ms/step - loss: 138.9398 - val_loss: 761.7902\n",
            "Epoch 37/100\n",
            "18/18 [==============================] - 0s 9ms/step - loss: 135.5019 - val_loss: 762.5451\n",
            "Epoch 38/100\n",
            "18/18 [==============================] - 2s 137ms/step - loss: 134.3689 - val_loss: 744.6692\n",
            "Epoch 39/100\n",
            "18/18 [==============================] - 3s 175ms/step - loss: 136.0879 - val_loss: 737.8863\n",
            "Epoch 40/100\n",
            "18/18 [==============================] - 0s 8ms/step - loss: 136.5459 - val_loss: 754.8218\n",
            "Epoch 41/100\n",
            "18/18 [==============================] - 3s 200ms/step - loss: 131.7224 - val_loss: 722.5792\n",
            "Epoch 42/100\n",
            "18/18 [==============================] - 6s 378ms/step - loss: 129.8269 - val_loss: 717.4741\n",
            "Epoch 43/100\n",
            "18/18 [==============================] - 4s 226ms/step - loss: 129.4296 - val_loss: 715.4131\n",
            "Epoch 44/100\n",
            "18/18 [==============================] - 3s 198ms/step - loss: 127.4208 - val_loss: 701.9257\n",
            "Epoch 45/100\n",
            "18/18 [==============================] - 4s 231ms/step - loss: 125.3795 - val_loss: 694.0008\n",
            "Epoch 46/100\n",
            "18/18 [==============================] - 0s 16ms/step - loss: 125.7678 - val_loss: 699.1636\n",
            "Epoch 47/100\n",
            "18/18 [==============================] - 0s 20ms/step - loss: 124.9514 - val_loss: 707.6644\n",
            "Epoch 48/100\n",
            "18/18 [==============================] - 5s 265ms/step - loss: 124.3874 - val_loss: 679.2638\n",
            "Epoch 49/100\n",
            "18/18 [==============================] - 0s 16ms/step - loss: 123.0921 - val_loss: 688.5461\n",
            "Epoch 50/100\n",
            "18/18 [==============================] - 0s 8ms/step - loss: 126.0210 - val_loss: 711.1398\n",
            "Epoch 51/100\n",
            "18/18 [==============================] - 0s 7ms/step - loss: 124.0441 - val_loss: 765.0450\n",
            "Epoch 52/100\n",
            "18/18 [==============================] - 2s 129ms/step - loss: 122.3126 - val_loss: 655.7761\n",
            "Epoch 53/100\n",
            "18/18 [==============================] - 0s 9ms/step - loss: 119.4259 - val_loss: 658.4117\n",
            "Epoch 54/100\n",
            "18/18 [==============================] - 0s 10ms/step - loss: 118.9384 - val_loss: 674.2894\n",
            "Epoch 55/100\n",
            "18/18 [==============================] - 2s 130ms/step - loss: 119.3873 - val_loss: 654.9729\n",
            "Epoch 56/100\n",
            "18/18 [==============================] - 3s 165ms/step - loss: 119.8958 - val_loss: 640.5782\n",
            "Epoch 57/100\n",
            "18/18 [==============================] - 0s 15ms/step - loss: 123.4530 - val_loss: 676.5133\n",
            "Epoch 58/100\n",
            "18/18 [==============================] - 3s 158ms/step - loss: 117.5286 - val_loss: 631.2817\n",
            "Epoch 59/100\n",
            "18/18 [==============================] - 3s 148ms/step - loss: 115.7801 - val_loss: 628.3963\n",
            "Epoch 60/100\n",
            "18/18 [==============================] - 3s 195ms/step - loss: 116.2000 - val_loss: 626.1957\n",
            "Epoch 61/100\n",
            "18/18 [==============================] - 0s 15ms/step - loss: 115.1663 - val_loss: 635.3245\n",
            "Epoch 62/100\n",
            "18/18 [==============================] - 0s 21ms/step - loss: 116.5328 - val_loss: 653.4627\n",
            "Epoch 63/100\n",
            "18/18 [==============================] - 0s 15ms/step - loss: 120.0515 - val_loss: 626.3350\n",
            "Epoch 64/100\n",
            "18/18 [==============================] - 4s 246ms/step - loss: 114.8712 - val_loss: 621.2416\n",
            "Epoch 65/100\n",
            "18/18 [==============================] - 4s 245ms/step - loss: 114.8206 - val_loss: 614.3117\n",
            "Epoch 66/100\n",
            "18/18 [==============================] - 0s 14ms/step - loss: 113.7466 - val_loss: 624.9605\n",
            "Epoch 67/100\n",
            "18/18 [==============================] - 3s 186ms/step - loss: 115.7238 - val_loss: 612.7018\n",
            "Epoch 68/100\n",
            "18/18 [==============================] - 0s 17ms/step - loss: 115.9845 - val_loss: 617.9622\n",
            "Epoch 69/100\n",
            "18/18 [==============================] - 0s 15ms/step - loss: 118.3246 - val_loss: 618.6682\n",
            "Epoch 70/100\n",
            "18/18 [==============================] - 0s 17ms/step - loss: 116.9885 - val_loss: 636.6197\n",
            "Epoch 71/100\n",
            "18/18 [==============================] - 0s 16ms/step - loss: 113.9250 - val_loss: 633.6470\n",
            "Epoch 72/100\n",
            "18/18 [==============================] - 4s 254ms/step - loss: 114.7315 - val_loss: 602.7748\n",
            "Epoch 73/100\n",
            "18/18 [==============================] - 3s 185ms/step - loss: 111.9883 - val_loss: 601.4393\n",
            "Epoch 74/100\n",
            "18/18 [==============================] - 0s 8ms/step - loss: 113.3846 - val_loss: 607.3259\n",
            "Epoch 75/100\n",
            "18/18 [==============================] - 0s 8ms/step - loss: 112.4165 - val_loss: 634.5226\n",
            "Epoch 76/100\n",
            "18/18 [==============================] - 0s 8ms/step - loss: 112.8940 - val_loss: 626.4210\n",
            "Epoch 77/100\n",
            "18/18 [==============================] - 0s 10ms/step - loss: 115.1751 - val_loss: 670.0397\n",
            "Epoch 78/100\n",
            "18/18 [==============================] - 0s 8ms/step - loss: 115.9034 - val_loss: 640.7755\n",
            "Epoch 79/100\n",
            "18/18 [==============================] - 3s 157ms/step - loss: 113.3765 - val_loss: 594.8823\n",
            "Epoch 80/100\n",
            "18/18 [==============================] - 0s 8ms/step - loss: 111.1782 - val_loss: 605.4654\n",
            "Epoch 81/100\n",
            "18/18 [==============================] - 0s 8ms/step - loss: 112.3668 - val_loss: 633.0172\n",
            "Epoch 82/100\n",
            "18/18 [==============================] - 2s 131ms/step - loss: 114.3812 - val_loss: 593.0927\n",
            "Epoch 83/100\n",
            "18/18 [==============================] - 0s 16ms/step - loss: 111.5474 - val_loss: 623.0754\n",
            "Epoch 84/100\n",
            "18/18 [==============================] - 3s 165ms/step - loss: 112.1631 - val_loss: 593.0571\n",
            "Epoch 85/100\n",
            "18/18 [==============================] - 0s 8ms/step - loss: 111.0702 - val_loss: 625.7598\n",
            "Epoch 86/100\n",
            "18/18 [==============================] - 0s 10ms/step - loss: 112.6929 - val_loss: 634.5172\n",
            "Epoch 87/100\n",
            "18/18 [==============================] - 2s 131ms/step - loss: 114.2157 - val_loss: 589.6871\n",
            "Epoch 88/100\n",
            "18/18 [==============================] - 0s 8ms/step - loss: 110.2040 - val_loss: 589.9090\n",
            "Epoch 89/100\n",
            "18/18 [==============================] - 0s 9ms/step - loss: 109.8604 - val_loss: 616.4417\n",
            "Epoch 90/100\n",
            "18/18 [==============================] - 0s 10ms/step - loss: 115.2187 - val_loss: 653.4439\n",
            "Epoch 91/100\n",
            "18/18 [==============================] - 0s 10ms/step - loss: 114.3236 - val_loss: 596.9968\n",
            "Epoch 92/100\n",
            "18/18 [==============================] - 2s 133ms/step - loss: 111.2954 - val_loss: 588.2617\n",
            "Epoch 93/100\n",
            "18/18 [==============================] - 0s 8ms/step - loss: 111.2999 - val_loss: 615.5182\n",
            "Epoch 94/100\n",
            "18/18 [==============================] - 0s 10ms/step - loss: 111.1982 - val_loss: 595.7855\n",
            "Epoch 95/100\n",
            "18/18 [==============================] - 0s 8ms/step - loss: 109.6541 - val_loss: 593.3646\n",
            "Epoch 96/100\n",
            "18/18 [==============================] - 0s 8ms/step - loss: 112.1842 - val_loss: 600.2280\n",
            "Epoch 97/100\n",
            "18/18 [==============================] - 0s 9ms/step - loss: 111.3958 - val_loss: 619.8185\n",
            "Epoch 98/100\n",
            "18/18 [==============================] - 0s 8ms/step - loss: 111.6192 - val_loss: 588.7957\n",
            "Epoch 99/100\n",
            "18/18 [==============================] - 3s 165ms/step - loss: 109.5715 - val_loss: 582.3917\n",
            "Epoch 100/100\n",
            "18/18 [==============================] - 0s 12ms/step - loss: 112.5836 - val_loss: 592.4072\n"
          ]
        },
        {
          "output_type": "execute_result",
          "data": {
            "text/plain": [
              "<keras.callbacks.History at 0x7f75fe281d30>"
            ]
          },
          "metadata": {},
          "execution_count": 74
        }
      ]
    },
    {
      "cell_type": "code",
      "source": [
        "# Load in the best version of model 5 and evaluate\n",
        "\n",
        "model_5 = tf.keras.models.load_model(\"model_experiments/model_5_lstm/\")\n",
        "model_5.evaluate(test_windows, test_labels)"
      ],
      "metadata": {
        "colab": {
          "base_uri": "https://localhost:8080/"
        },
        "id": "ZETznOQ89L-B",
        "outputId": "32865987-df08-4374-c15a-c5e79dcd1ec3"
      },
      "execution_count": 75,
      "outputs": [
        {
          "output_type": "stream",
          "name": "stderr",
          "text": [
            "WARNING:tensorflow:Layer lstm will not use cuDNN kernels since it doesn't meet the criteria. It will use a generic GPU kernel as fallback when running on GPU.\n"
          ]
        },
        {
          "output_type": "stream",
          "name": "stdout",
          "text": [
            "18/18 [==============================] - 0s 4ms/step - loss: 582.3916\n"
          ]
        },
        {
          "output_type": "execute_result",
          "data": {
            "text/plain": [
              "582.3916015625"
            ]
          },
          "metadata": {},
          "execution_count": 75
        }
      ]
    },
    {
      "cell_type": "code",
      "source": [
        "# Make prediction with our LSTM model\n",
        "\n",
        "model_5_preds = make_preds(model_5, test_windows)\n",
        "model_5_preds[:10]"
      ],
      "metadata": {
        "colab": {
          "base_uri": "https://localhost:8080/"
        },
        "id": "X9iHspKc9gJw",
        "outputId": "5c10518b-b6e5-41e7-9972-947518fad5cb"
      },
      "execution_count": 76,
      "outputs": [
        {
          "output_type": "stream",
          "name": "stdout",
          "text": [
            "18/18 [==============================] - 0s 2ms/step\n"
          ]
        },
        {
          "output_type": "execute_result",
          "data": {
            "text/plain": [
              "<tf.Tensor: shape=(10,), dtype=float32, numpy=\n",
              "array([8929.234, 8811.878, 8972.287, 8793.298, 8746.958, 8719.464,\n",
              "       8697.392, 8550.636, 8460.303, 8514.682], dtype=float32)>"
            ]
          },
          "metadata": {},
          "execution_count": 76
        }
      ]
    },
    {
      "cell_type": "code",
      "source": [
        "# Evaluate model 5 preds\n",
        "\n",
        "model_5_results = evaluate_preds(y_true=tf.squeeze(test_labels),\n",
        "                                 y_pred=model_5_preds)\n",
        "model_5_results"
      ],
      "metadata": {
        "colab": {
          "base_uri": "https://localhost:8080/"
        },
        "id": "9caGwx8NAr7H",
        "outputId": "14dfece9-09cf-4e01-9172-4e9173fd2ec1"
      },
      "execution_count": 77,
      "outputs": [
        {
          "output_type": "execute_result",
          "data": {
            "text/plain": [
              "{'mae': 582.39166,\n",
              " 'mse': 1220669.8,\n",
              " 'rmse': 1104.8392,\n",
              " 'mape': 2.6195514,\n",
              " 'mase': 1.0231009}"
            ]
          },
          "metadata": {},
          "execution_count": 77
        }
      ]
    },
    {
      "cell_type": "markdown",
      "source": [
        "### Make a multivariate time series"
      ],
      "metadata": {
        "id": "B41JHtT5BGka"
      }
    },
    {
      "cell_type": "code",
      "source": [
        "# Lets make a multivariate time series\n",
        "\n",
        "bitcoin_prices.head()"
      ],
      "metadata": {
        "colab": {
          "base_uri": "https://localhost:8080/",
          "height": 237
        },
        "id": "LszHr6K1BFBf",
        "outputId": "e657a2d0-f58a-4893-f195-8ba9a4f72eb4"
      },
      "execution_count": 78,
      "outputs": [
        {
          "output_type": "execute_result",
          "data": {
            "text/plain": [
              "                Price\n",
              "Date                 \n",
              "2013-10-01  123.65499\n",
              "2013-10-02  125.45500\n",
              "2013-10-03  108.58483\n",
              "2013-10-04  118.67466\n",
              "2013-10-05  121.33866"
            ],
            "text/html": [
              "\n",
              "  <div id=\"df-ec5de0a9-9ace-49b7-a13e-3b8d85aac520\">\n",
              "    <div class=\"colab-df-container\">\n",
              "      <div>\n",
              "<style scoped>\n",
              "    .dataframe tbody tr th:only-of-type {\n",
              "        vertical-align: middle;\n",
              "    }\n",
              "\n",
              "    .dataframe tbody tr th {\n",
              "        vertical-align: top;\n",
              "    }\n",
              "\n",
              "    .dataframe thead th {\n",
              "        text-align: right;\n",
              "    }\n",
              "</style>\n",
              "<table border=\"1\" class=\"dataframe\">\n",
              "  <thead>\n",
              "    <tr style=\"text-align: right;\">\n",
              "      <th></th>\n",
              "      <th>Price</th>\n",
              "    </tr>\n",
              "    <tr>\n",
              "      <th>Date</th>\n",
              "      <th></th>\n",
              "    </tr>\n",
              "  </thead>\n",
              "  <tbody>\n",
              "    <tr>\n",
              "      <th>2013-10-01</th>\n",
              "      <td>123.65499</td>\n",
              "    </tr>\n",
              "    <tr>\n",
              "      <th>2013-10-02</th>\n",
              "      <td>125.45500</td>\n",
              "    </tr>\n",
              "    <tr>\n",
              "      <th>2013-10-03</th>\n",
              "      <td>108.58483</td>\n",
              "    </tr>\n",
              "    <tr>\n",
              "      <th>2013-10-04</th>\n",
              "      <td>118.67466</td>\n",
              "    </tr>\n",
              "    <tr>\n",
              "      <th>2013-10-05</th>\n",
              "      <td>121.33866</td>\n",
              "    </tr>\n",
              "  </tbody>\n",
              "</table>\n",
              "</div>\n",
              "      <button class=\"colab-df-convert\" onclick=\"convertToInteractive('df-ec5de0a9-9ace-49b7-a13e-3b8d85aac520')\"\n",
              "              title=\"Convert this dataframe to an interactive table.\"\n",
              "              style=\"display:none;\">\n",
              "        \n",
              "  <svg xmlns=\"http://www.w3.org/2000/svg\" height=\"24px\"viewBox=\"0 0 24 24\"\n",
              "       width=\"24px\">\n",
              "    <path d=\"M0 0h24v24H0V0z\" fill=\"none\"/>\n",
              "    <path d=\"M18.56 5.44l.94 2.06.94-2.06 2.06-.94-2.06-.94-.94-2.06-.94 2.06-2.06.94zm-11 1L8.5 8.5l.94-2.06 2.06-.94-2.06-.94L8.5 2.5l-.94 2.06-2.06.94zm10 10l.94 2.06.94-2.06 2.06-.94-2.06-.94-.94-2.06-.94 2.06-2.06.94z\"/><path d=\"M17.41 7.96l-1.37-1.37c-.4-.4-.92-.59-1.43-.59-.52 0-1.04.2-1.43.59L10.3 9.45l-7.72 7.72c-.78.78-.78 2.05 0 2.83L4 21.41c.39.39.9.59 1.41.59.51 0 1.02-.2 1.41-.59l7.78-7.78 2.81-2.81c.8-.78.8-2.07 0-2.86zM5.41 20L4 18.59l7.72-7.72 1.47 1.35L5.41 20z\"/>\n",
              "  </svg>\n",
              "      </button>\n",
              "      \n",
              "  <style>\n",
              "    .colab-df-container {\n",
              "      display:flex;\n",
              "      flex-wrap:wrap;\n",
              "      gap: 12px;\n",
              "    }\n",
              "\n",
              "    .colab-df-convert {\n",
              "      background-color: #E8F0FE;\n",
              "      border: none;\n",
              "      border-radius: 50%;\n",
              "      cursor: pointer;\n",
              "      display: none;\n",
              "      fill: #1967D2;\n",
              "      height: 32px;\n",
              "      padding: 0 0 0 0;\n",
              "      width: 32px;\n",
              "    }\n",
              "\n",
              "    .colab-df-convert:hover {\n",
              "      background-color: #E2EBFA;\n",
              "      box-shadow: 0px 1px 2px rgba(60, 64, 67, 0.3), 0px 1px 3px 1px rgba(60, 64, 67, 0.15);\n",
              "      fill: #174EA6;\n",
              "    }\n",
              "\n",
              "    [theme=dark] .colab-df-convert {\n",
              "      background-color: #3B4455;\n",
              "      fill: #D2E3FC;\n",
              "    }\n",
              "\n",
              "    [theme=dark] .colab-df-convert:hover {\n",
              "      background-color: #434B5C;\n",
              "      box-shadow: 0px 1px 3px 1px rgba(0, 0, 0, 0.15);\n",
              "      filter: drop-shadow(0px 1px 2px rgba(0, 0, 0, 0.3));\n",
              "      fill: #FFFFFF;\n",
              "    }\n",
              "  </style>\n",
              "\n",
              "      <script>\n",
              "        const buttonEl =\n",
              "          document.querySelector('#df-ec5de0a9-9ace-49b7-a13e-3b8d85aac520 button.colab-df-convert');\n",
              "        buttonEl.style.display =\n",
              "          google.colab.kernel.accessAllowed ? 'block' : 'none';\n",
              "\n",
              "        async function convertToInteractive(key) {\n",
              "          const element = document.querySelector('#df-ec5de0a9-9ace-49b7-a13e-3b8d85aac520');\n",
              "          const dataTable =\n",
              "            await google.colab.kernel.invokeFunction('convertToInteractive',\n",
              "                                                     [key], {});\n",
              "          if (!dataTable) return;\n",
              "\n",
              "          const docLinkHtml = 'Like what you see? Visit the ' +\n",
              "            '<a target=\"_blank\" href=https://colab.research.google.com/notebooks/data_table.ipynb>data table notebook</a>'\n",
              "            + ' to learn more about interactive tables.';\n",
              "          element.innerHTML = '';\n",
              "          dataTable['output_type'] = 'display_data';\n",
              "          await google.colab.output.renderOutput(dataTable, element);\n",
              "          const docLink = document.createElement('div');\n",
              "          docLink.innerHTML = docLinkHtml;\n",
              "          element.appendChild(docLink);\n",
              "        }\n",
              "      </script>\n",
              "    </div>\n",
              "  </div>\n",
              "  "
            ]
          },
          "metadata": {},
          "execution_count": 78
        }
      ]
    },
    {
      "cell_type": "code",
      "source": [
        "# Block reward values\n",
        "\n",
        "block_reward_1 = 50\n",
        "block_reward_2 = 25\n",
        "block_reward_3 = 12.5\n",
        "block_reward_4 = 6.25\n",
        "\n",
        "# Block reward dates\n",
        "\n",
        "block_reward_2_datetime = np.datetime64(\"2012-11-28\")\n",
        "block_reward_3_datetime = np.datetime64(\"2016-07-09\")\n",
        "block_reward_4_datetime = np.datetime64(\"2020-05-11\")"
      ],
      "metadata": {
        "id": "D_jECaybBTPa"
      },
      "execution_count": 79,
      "outputs": []
    },
    {
      "cell_type": "code",
      "source": [
        "# Get datetime indexes for when to add in different block dates\n",
        "\n",
        "block_reward_2_days = (block_reward_3_datetime - bitcoin_prices.index[0]).days\n",
        "block_reward_3_days = (block_reward_4_datetime - bitcoin_prices.index[0]).days\n",
        "block_reward_2_days, block_reward_3_days"
      ],
      "metadata": {
        "colab": {
          "base_uri": "https://localhost:8080/"
        },
        "id": "yEi7wH7XCbfc",
        "outputId": "21940a2e-e06b-4da4-c90d-c3a483bd32b7"
      },
      "execution_count": 80,
      "outputs": [
        {
          "output_type": "execute_result",
          "data": {
            "text/plain": [
              "(1012, 2414)"
            ]
          },
          "metadata": {},
          "execution_count": 80
        }
      ]
    },
    {
      "cell_type": "code",
      "source": [
        "# Add block reward column\n",
        "\n",
        "bitcoin_prices_block = bitcoin_prices.copy()\n",
        "bitcoin_prices_block[\"block_reward\"] = None\n",
        "\n",
        "# Set values of block reward column\n",
        "\n",
        "bitcoin_prices_block.iloc[:block_reward_2_days, -1] = block_reward_2\n",
        "bitcoin_prices_block.iloc[block_reward_2_days: block_reward_3_days, -1] = block_reward_3\n",
        "bitcoin_prices_block.iloc[block_reward_3_days:, -1] = block_reward_4\n",
        "bitcoin_prices_block.head()"
      ],
      "metadata": {
        "colab": {
          "base_uri": "https://localhost:8080/",
          "height": 237
        },
        "id": "d05KHoCMC-m3",
        "outputId": "75624209-9467-4918-ad6f-753ad0aa971c"
      },
      "execution_count": 81,
      "outputs": [
        {
          "output_type": "execute_result",
          "data": {
            "text/plain": [
              "                Price block_reward\n",
              "Date                              \n",
              "2013-10-01  123.65499           25\n",
              "2013-10-02  125.45500           25\n",
              "2013-10-03  108.58483           25\n",
              "2013-10-04  118.67466           25\n",
              "2013-10-05  121.33866           25"
            ],
            "text/html": [
              "\n",
              "  <div id=\"df-3aa2cf43-343c-4953-bc85-f33c58573d1b\">\n",
              "    <div class=\"colab-df-container\">\n",
              "      <div>\n",
              "<style scoped>\n",
              "    .dataframe tbody tr th:only-of-type {\n",
              "        vertical-align: middle;\n",
              "    }\n",
              "\n",
              "    .dataframe tbody tr th {\n",
              "        vertical-align: top;\n",
              "    }\n",
              "\n",
              "    .dataframe thead th {\n",
              "        text-align: right;\n",
              "    }\n",
              "</style>\n",
              "<table border=\"1\" class=\"dataframe\">\n",
              "  <thead>\n",
              "    <tr style=\"text-align: right;\">\n",
              "      <th></th>\n",
              "      <th>Price</th>\n",
              "      <th>block_reward</th>\n",
              "    </tr>\n",
              "    <tr>\n",
              "      <th>Date</th>\n",
              "      <th></th>\n",
              "      <th></th>\n",
              "    </tr>\n",
              "  </thead>\n",
              "  <tbody>\n",
              "    <tr>\n",
              "      <th>2013-10-01</th>\n",
              "      <td>123.65499</td>\n",
              "      <td>25</td>\n",
              "    </tr>\n",
              "    <tr>\n",
              "      <th>2013-10-02</th>\n",
              "      <td>125.45500</td>\n",
              "      <td>25</td>\n",
              "    </tr>\n",
              "    <tr>\n",
              "      <th>2013-10-03</th>\n",
              "      <td>108.58483</td>\n",
              "      <td>25</td>\n",
              "    </tr>\n",
              "    <tr>\n",
              "      <th>2013-10-04</th>\n",
              "      <td>118.67466</td>\n",
              "      <td>25</td>\n",
              "    </tr>\n",
              "    <tr>\n",
              "      <th>2013-10-05</th>\n",
              "      <td>121.33866</td>\n",
              "      <td>25</td>\n",
              "    </tr>\n",
              "  </tbody>\n",
              "</table>\n",
              "</div>\n",
              "      <button class=\"colab-df-convert\" onclick=\"convertToInteractive('df-3aa2cf43-343c-4953-bc85-f33c58573d1b')\"\n",
              "              title=\"Convert this dataframe to an interactive table.\"\n",
              "              style=\"display:none;\">\n",
              "        \n",
              "  <svg xmlns=\"http://www.w3.org/2000/svg\" height=\"24px\"viewBox=\"0 0 24 24\"\n",
              "       width=\"24px\">\n",
              "    <path d=\"M0 0h24v24H0V0z\" fill=\"none\"/>\n",
              "    <path d=\"M18.56 5.44l.94 2.06.94-2.06 2.06-.94-2.06-.94-.94-2.06-.94 2.06-2.06.94zm-11 1L8.5 8.5l.94-2.06 2.06-.94-2.06-.94L8.5 2.5l-.94 2.06-2.06.94zm10 10l.94 2.06.94-2.06 2.06-.94-2.06-.94-.94-2.06-.94 2.06-2.06.94z\"/><path d=\"M17.41 7.96l-1.37-1.37c-.4-.4-.92-.59-1.43-.59-.52 0-1.04.2-1.43.59L10.3 9.45l-7.72 7.72c-.78.78-.78 2.05 0 2.83L4 21.41c.39.39.9.59 1.41.59.51 0 1.02-.2 1.41-.59l7.78-7.78 2.81-2.81c.8-.78.8-2.07 0-2.86zM5.41 20L4 18.59l7.72-7.72 1.47 1.35L5.41 20z\"/>\n",
              "  </svg>\n",
              "      </button>\n",
              "      \n",
              "  <style>\n",
              "    .colab-df-container {\n",
              "      display:flex;\n",
              "      flex-wrap:wrap;\n",
              "      gap: 12px;\n",
              "    }\n",
              "\n",
              "    .colab-df-convert {\n",
              "      background-color: #E8F0FE;\n",
              "      border: none;\n",
              "      border-radius: 50%;\n",
              "      cursor: pointer;\n",
              "      display: none;\n",
              "      fill: #1967D2;\n",
              "      height: 32px;\n",
              "      padding: 0 0 0 0;\n",
              "      width: 32px;\n",
              "    }\n",
              "\n",
              "    .colab-df-convert:hover {\n",
              "      background-color: #E2EBFA;\n",
              "      box-shadow: 0px 1px 2px rgba(60, 64, 67, 0.3), 0px 1px 3px 1px rgba(60, 64, 67, 0.15);\n",
              "      fill: #174EA6;\n",
              "    }\n",
              "\n",
              "    [theme=dark] .colab-df-convert {\n",
              "      background-color: #3B4455;\n",
              "      fill: #D2E3FC;\n",
              "    }\n",
              "\n",
              "    [theme=dark] .colab-df-convert:hover {\n",
              "      background-color: #434B5C;\n",
              "      box-shadow: 0px 1px 3px 1px rgba(0, 0, 0, 0.15);\n",
              "      filter: drop-shadow(0px 1px 2px rgba(0, 0, 0, 0.3));\n",
              "      fill: #FFFFFF;\n",
              "    }\n",
              "  </style>\n",
              "\n",
              "      <script>\n",
              "        const buttonEl =\n",
              "          document.querySelector('#df-3aa2cf43-343c-4953-bc85-f33c58573d1b button.colab-df-convert');\n",
              "        buttonEl.style.display =\n",
              "          google.colab.kernel.accessAllowed ? 'block' : 'none';\n",
              "\n",
              "        async function convertToInteractive(key) {\n",
              "          const element = document.querySelector('#df-3aa2cf43-343c-4953-bc85-f33c58573d1b');\n",
              "          const dataTable =\n",
              "            await google.colab.kernel.invokeFunction('convertToInteractive',\n",
              "                                                     [key], {});\n",
              "          if (!dataTable) return;\n",
              "\n",
              "          const docLinkHtml = 'Like what you see? Visit the ' +\n",
              "            '<a target=\"_blank\" href=https://colab.research.google.com/notebooks/data_table.ipynb>data table notebook</a>'\n",
              "            + ' to learn more about interactive tables.';\n",
              "          element.innerHTML = '';\n",
              "          dataTable['output_type'] = 'display_data';\n",
              "          await google.colab.output.renderOutput(dataTable, element);\n",
              "          const docLink = document.createElement('div');\n",
              "          docLink.innerHTML = docLinkHtml;\n",
              "          element.appendChild(docLink);\n",
              "        }\n",
              "      </script>\n",
              "    </div>\n",
              "  </div>\n",
              "  "
            ]
          },
          "metadata": {},
          "execution_count": 81
        }
      ]
    },
    {
      "cell_type": "code",
      "source": [
        "# Plot the block reward/price over time\n",
        "\n",
        "from sklearn.preprocessing import minmax_scale\n",
        "scaled_price_block_df = pd.DataFrame(minmax_scale(bitcoin_prices_block[[\"Price\", \"block_reward\"]]),\n",
        "                                     columns=bitcoin_prices_block.columns,\n",
        "                                     index=bitcoin_prices_block.index)\n",
        "scaled_price_block_df.plot(figsize=(10, 7))"
      ],
      "metadata": {
        "colab": {
          "base_uri": "https://localhost:8080/",
          "height": 459
        },
        "id": "VSDMSg-6ECSR",
        "outputId": "2620f6ec-8fd1-4529-c094-e48df32f6c34"
      },
      "execution_count": 82,
      "outputs": [
        {
          "output_type": "execute_result",
          "data": {
            "text/plain": [
              "<AxesSubplot:xlabel='Date'>"
            ]
          },
          "metadata": {},
          "execution_count": 82
        },
        {
          "output_type": "display_data",
          "data": {
            "text/plain": [
              "<Figure size 720x504 with 1 Axes>"
            ],
            "image/png": "[encoded data removed]"
          },
          "metadata": {
            "needs_background": "light"
          }
        }
      ]
    },
    {
      "cell_type": "markdown",
      "source": [
        "### Making a windowed dataset with pandas"
      ],
      "metadata": {
        "id": "3PxHi9Jv1D65"
      }
    },
    {
      "cell_type": "code",
      "source": [
        "# Setup dataset hyperparameters\n",
        "\n",
        "HORIZON = 1\n",
        "WINDOW_SIZE = 7"
      ],
      "metadata": {
        "id": "EJVpVQwBE6qm"
      },
      "execution_count": 83,
      "outputs": []
    },
    {
      "cell_type": "code",
      "source": [
        "# Make a copy of the bitcoin historical data with block reward feature\n",
        "\n",
        "bitcoin_prices_windowed = bitcoin_prices_block.copy()\n",
        "\n",
        "# Add windowed columns\n",
        "\n",
        "for i in range(WINDOW_SIZE):\n",
        "  bitcoin_prices_windowed[f\"Price+{i+1}\"] = bitcoin_prices_windowed[\"Price\"].shift(periods=i+1)\n",
        "bitcoin_prices_windowed.head(10)"
      ],
      "metadata": {
        "colab": {
          "base_uri": "https://localhost:8080/",
          "height": 394
        },
        "id": "Od1xQxjm1Uks",
        "outputId": "eee33e23-1780-46cc-c198-e5956977d90b"
      },
      "execution_count": 84,
      "outputs": [
        {
          "output_type": "execute_result",
          "data": {
            "text/plain": [
              "                Price block_reward    Price+1    Price+2    Price+3  \\\n",
              "Date                                                                  \n",
              "2013-10-01  123.65499           25        NaN        NaN        NaN   \n",
              "2013-10-02  125.45500           25  123.65499        NaN        NaN   \n",
              "2013-10-03  108.58483           25  125.45500  123.65499        NaN   \n",
              "2013-10-04  118.67466           25  108.58483  125.45500  123.65499   \n",
              "2013-10-05  121.33866           25  118.67466  108.58483  125.45500   \n",
              "2013-10-06  120.65533           25  121.33866  118.67466  108.58483   \n",
              "2013-10-07  121.79500           25  120.65533  121.33866  118.67466   \n",
              "2013-10-08  123.03300           25  121.79500  120.65533  121.33866   \n",
              "2013-10-09  124.04900           25  123.03300  121.79500  120.65533   \n",
              "2013-10-10  125.96116           25  124.04900  123.03300  121.79500   \n",
              "\n",
              "              Price+4    Price+5    Price+6    Price+7  \n",
              "Date                                                    \n",
              "2013-10-01        NaN        NaN        NaN        NaN  \n",
              "2013-10-02        NaN        NaN        NaN        NaN  \n",
              "2013-10-03        NaN        NaN        NaN        NaN  \n",
              "2013-10-04        NaN        NaN        NaN        NaN  \n",
              "2013-10-05  123.65499        NaN        NaN        NaN  \n",
              "2013-10-06  125.45500  123.65499        NaN        NaN  \n",
              "2013-10-07  108.58483  125.45500  123.65499        NaN  \n",
              "2013-10-08  118.67466  108.58483  125.45500  123.65499  \n",
              "2013-10-09  121.33866  118.67466  108.58483  125.45500  \n",
              "2013-10-10  120.65533  121.33866  118.67466  108.58483  "
            ],
            "text/html": [
              "\n",
              "  <div id=\"df-464a9133-0771-47f8-9a76-e7c20c2339cd\">\n",
              "    <div class=\"colab-df-container\">\n",
              "      <div>\n",
              "<style scoped>\n",
              "    .dataframe tbody tr th:only-of-type {\n",
              "        vertical-align: middle;\n",
              "    }\n",
              "\n",
              "    .dataframe tbody tr th {\n",
              "        vertical-align: top;\n",
              "    }\n",
              "\n",
              "    .dataframe thead th {\n",
              "        text-align: right;\n",
              "    }\n",
              "</style>\n",
              "<table border=\"1\" class=\"dataframe\">\n",
              "  <thead>\n",
              "    <tr style=\"text-align: right;\">\n",
              "      <th></th>\n",
              "      <th>Price</th>\n",
              "      <th>block_reward</th>\n",
              "      <th>Price+1</th>\n",
              "      <th>Price+2</th>\n",
              "      <th>Price+3</th>\n",
              "      <th>Price+4</th>\n",
              "      <th>Price+5</th>\n",
              "      <th>Price+6</th>\n",
              "      <th>Price+7</th>\n",
              "    </tr>\n",
              "    <tr>\n",
              "      <th>Date</th>\n",
              "      <th></th>\n",
              "      <th></th>\n",
              "      <th></th>\n",
              "      <th></th>\n",
              "      <th></th>\n",
              "      <th></th>\n",
              "      <th></th>\n",
              "      <th></th>\n",
              "      <th></th>\n",
              "    </tr>\n",
              "  </thead>\n",
              "  <tbody>\n",
              "    <tr>\n",
              "      <th>2013-10-01</th>\n",
              "      <td>123.65499</td>\n",
              "      <td>25</td>\n",
              "      <td>NaN</td>\n",
              "      <td>NaN</td>\n",
              "      <td>NaN</td>\n",
              "      <td>NaN</td>\n",
              "      <td>NaN</td>\n",
              "      <td>NaN</td>\n",
              "      <td>NaN</td>\n",
              "    </tr>\n",
              "    <tr>\n",
              "      <th>2013-10-02</th>\n",
              "      <td>125.45500</td>\n",
              "      <td>25</td>\n",
              "      <td>123.65499</td>\n",
              "      <td>NaN</td>\n",
              "      <td>NaN</td>\n",
              "      <td>NaN</td>\n",
              "      <td>NaN</td>\n",
              "      <td>NaN</td>\n",
              "      <td>NaN</td>\n",
              "    </tr>\n",
              "    <tr>\n",
              "      <th>2013-10-03</th>\n",
              "      <td>108.58483</td>\n",
              "      <td>25</td>\n",
              "      <td>125.45500</td>\n",
              "      <td>123.65499</td>\n",
              "      <td>NaN</td>\n",
              "      <td>NaN</td>\n",
              "      <td>NaN</td>\n",
              "      <td>NaN</td>\n",
              "      <td>NaN</td>\n",
              "    </tr>\n",
              "    <tr>\n",
              "      <th>2013-10-04</th>\n",
              "      <td>118.67466</td>\n",
              "      <td>25</td>\n",
              "      <td>108.58483</td>\n",
              "      <td>125.45500</td>\n",
              "      <td>123.65499</td>\n",
              "      <td>NaN</td>\n",
              "      <td>NaN</td>\n",
              "      <td>NaN</td>\n",
              "      <td>NaN</td>\n",
              "    </tr>\n",
              "    <tr>\n",
              "      <th>2013-10-05</th>\n",
              "      <td>121.33866</td>\n",
              "      <td>25</td>\n",
              "      <td>118.67466</td>\n",
              "      <td>108.58483</td>\n",
              "      <td>125.45500</td>\n",
              "      <td>123.65499</td>\n",
              "      <td>NaN</td>\n",
              "      <td>NaN</td>\n",
              "      <td>NaN</td>\n",
              "    </tr>\n",
              "    <tr>\n",
              "      <th>2013-10-06</th>\n",
              "      <td>120.65533</td>\n",
              "      <td>25</td>\n",
              "      <td>121.33866</td>\n",
              "      <td>118.67466</td>\n",
              "      <td>108.58483</td>\n",
              "      <td>125.45500</td>\n",
              "      <td>123.65499</td>\n",
              "      <td>NaN</td>\n",
              "      <td>NaN</td>\n",
              "    </tr>\n",
              "    <tr>\n",
              "      <th>2013-10-07</th>\n",
              "      <td>121.79500</td>\n",
              "      <td>25</td>\n",
              "      <td>120.65533</td>\n",
              "      <td>121.33866</td>\n",
              "      <td>118.67466</td>\n",
              "      <td>108.58483</td>\n",
              "      <td>125.45500</td>\n",
              "      <td>123.65499</td>\n",
              "      <td>NaN</td>\n",
              "    </tr>\n",
              "    <tr>\n",
              "      <th>2013-10-08</th>\n",
              "      <td>123.03300</td>\n",
              "      <td>25</td>\n",
              "      <td>121.79500</td>\n",
              "      <td>120.65533</td>\n",
              "      <td>121.33866</td>\n",
              "      <td>118.67466</td>\n",
              "      <td>108.58483</td>\n",
              "      <td>125.45500</td>\n",
              "      <td>123.65499</td>\n",
              "    </tr>\n",
              "    <tr>\n",
              "      <th>2013-10-09</th>\n",
              "      <td>124.04900</td>\n",
              "      <td>25</td>\n",
              "      <td>123.03300</td>\n",
              "      <td>121.79500</td>\n",
              "      <td>120.65533</td>\n",
              "      <td>121.33866</td>\n",
              "      <td>118.67466</td>\n",
              "      <td>108.58483</td>\n",
              "      <td>125.45500</td>\n",
              "    </tr>\n",
              "    <tr>\n",
              "      <th>2013-10-10</th>\n",
              "      <td>125.96116</td>\n",
              "      <td>25</td>\n",
              "      <td>124.04900</td>\n",
              "      <td>123.03300</td>\n",
              "      <td>121.79500</td>\n",
              "      <td>120.65533</td>\n",
              "      <td>121.33866</td>\n",
              "      <td>118.67466</td>\n",
              "      <td>108.58483</td>\n",
              "    </tr>\n",
              "  </tbody>\n",
              "</table>\n",
              "</div>\n",
              "      <button class=\"colab-df-convert\" onclick=\"convertToInteractive('df-464a9133-0771-47f8-9a76-e7c20c2339cd')\"\n",
              "              title=\"Convert this dataframe to an interactive table.\"\n",
              "              style=\"display:none;\">\n",
              "        \n",
              "  <svg xmlns=\"http://www.w3.org/2000/svg\" height=\"24px\"viewBox=\"0 0 24 24\"\n",
              "       width=\"24px\">\n",
              "    <path d=\"M0 0h24v24H0V0z\" fill=\"none\"/>\n",
              "    <path d=\"M18.56 5.44l.94 2.06.94-2.06 2.06-.94-2.06-.94-.94-2.06-.94 2.06-2.06.94zm-11 1L8.5 8.5l.94-2.06 2.06-.94-2.06-.94L8.5 2.5l-.94 2.06-2.06.94zm10 10l.94 2.06.94-2.06 2.06-.94-2.06-.94-.94-2.06-.94 2.06-2.06.94z\"/><path d=\"M17.41 7.96l-1.37-1.37c-.4-.4-.92-.59-1.43-.59-.52 0-1.04.2-1.43.59L10.3 9.45l-7.72 7.72c-.78.78-.78 2.05 0 2.83L4 21.41c.39.39.9.59 1.41.59.51 0 1.02-.2 1.41-.59l7.78-7.78 2.81-2.81c.8-.78.8-2.07 0-2.86zM5.41 20L4 18.59l7.72-7.72 1.47 1.35L5.41 20z\"/>\n",
              "  </svg>\n",
              "      </button>\n",
              "      \n",
              "  <style>\n",
              "    .colab-df-container {\n",
              "      display:flex;\n",
              "      flex-wrap:wrap;\n",
              "      gap: 12px;\n",
              "    }\n",
              "\n",
              "    .colab-df-convert {\n",
              "      background-color: #E8F0FE;\n",
              "      border: none;\n",
              "      border-radius: 50%;\n",
              "      cursor: pointer;\n",
              "      display: none;\n",
              "      fill: #1967D2;\n",
              "      height: 32px;\n",
              "      padding: 0 0 0 0;\n",
              "      width: 32px;\n",
              "    }\n",
              "\n",
              "    .colab-df-convert:hover {\n",
              "      background-color: #E2EBFA;\n",
              "      box-shadow: 0px 1px 2px rgba(60, 64, 67, 0.3), 0px 1px 3px 1px rgba(60, 64, 67, 0.15);\n",
              "      fill: #174EA6;\n",
              "    }\n",
              "\n",
              "    [theme=dark] .colab-df-convert {\n",
              "      background-color: #3B4455;\n",
              "      fill: #D2E3FC;\n",
              "    }\n",
              "\n",
              "    [theme=dark] .colab-df-convert:hover {\n",
              "      background-color: #434B5C;\n",
              "      box-shadow: 0px 1px 3px 1px rgba(0, 0, 0, 0.15);\n",
              "      filter: drop-shadow(0px 1px 2px rgba(0, 0, 0, 0.3));\n",
              "      fill: #FFFFFF;\n",
              "    }\n",
              "  </style>\n",
              "\n",
              "      <script>\n",
              "        const buttonEl =\n",
              "          document.querySelector('#df-464a9133-0771-47f8-9a76-e7c20c2339cd button.colab-df-convert');\n",
              "        buttonEl.style.display =\n",
              "          google.colab.kernel.accessAllowed ? 'block' : 'none';\n",
              "\n",
              "        async function convertToInteractive(key) {\n",
              "          const element = document.querySelector('#df-464a9133-0771-47f8-9a76-e7c20c2339cd');\n",
              "          const dataTable =\n",
              "            await google.colab.kernel.invokeFunction('convertToInteractive',\n",
              "                                                     [key], {});\n",
              "          if (!dataTable) return;\n",
              "\n",
              "          const docLinkHtml = 'Like what you see? Visit the ' +\n",
              "            '<a target=\"_blank\" href=https://colab.research.google.com/notebooks/data_table.ipynb>data table notebook</a>'\n",
              "            + ' to learn more about interactive tables.';\n",
              "          element.innerHTML = '';\n",
              "          dataTable['output_type'] = 'display_data';\n",
              "          await google.colab.output.renderOutput(dataTable, element);\n",
              "          const docLink = document.createElement('div');\n",
              "          docLink.innerHTML = docLinkHtml;\n",
              "          element.appendChild(docLink);\n",
              "        }\n",
              "      </script>\n",
              "    </div>\n",
              "  </div>\n",
              "  "
            ]
          },
          "metadata": {},
          "execution_count": 84
        }
      ]
    },
    {
      "cell_type": "code",
      "source": [
        "# Lets create X & y, remove the Nans and convert to float32 to prevent TensorFlow errors\n",
        "\n",
        "X = bitcoin_prices_windowed.dropna().drop(\"Price\", axis=1).astype(np.float32)\n",
        "y = bitcoin_prices_windowed.dropna()[\"Price\"].astype(np.float32)\n",
        "X.head()"
      ],
      "metadata": {
        "colab": {
          "base_uri": "https://localhost:8080/",
          "height": 237
        },
        "id": "XpycJtAN2NCR",
        "outputId": "eedfa0b2-47a5-42c4-d6d0-cd1b80ce9c4c"
      },
      "execution_count": 85,
      "outputs": [
        {
          "output_type": "execute_result",
          "data": {
            "text/plain": [
              "            block_reward     Price+1     Price+2     Price+3     Price+4  \\\n",
              "Date                                                                       \n",
              "2013-10-08          25.0  121.794998  120.655327  121.338661  118.674660   \n",
              "2013-10-09          25.0  123.032997  121.794998  120.655327  121.338661   \n",
              "2013-10-10          25.0  124.049004  123.032997  121.794998  120.655327   \n",
              "2013-10-11          25.0  125.961159  124.049004  123.032997  121.794998   \n",
              "2013-10-12          25.0  125.279663  125.961159  124.049004  123.032997   \n",
              "\n",
              "               Price+5     Price+6     Price+7  \n",
              "Date                                            \n",
              "2013-10-08  108.584831  125.455002  123.654991  \n",
              "2013-10-09  118.674660  108.584831  125.455002  \n",
              "2013-10-10  121.338661  118.674660  108.584831  \n",
              "2013-10-11  120.655327  121.338661  118.674660  \n",
              "2013-10-12  121.794998  120.655327  121.338661  "
            ],
            "text/html": [
              "\n",
              "  <div id=\"df-96c298c0-19b4-4ed0-b24b-b0e6fe8dce97\">\n",
              "    <div class=\"colab-df-container\">\n",
              "      <div>\n",
              "<style scoped>\n",
              "    .dataframe tbody tr th:only-of-type {\n",
              "        vertical-align: middle;\n",
              "    }\n",
              "\n",
              "    .dataframe tbody tr th {\n",
              "        vertical-align: top;\n",
              "    }\n",
              "\n",
              "    .dataframe thead th {\n",
              "        text-align: right;\n",
              "    }\n",
              "</style>\n",
              "<table border=\"1\" class=\"dataframe\">\n",
              "  <thead>\n",
              "    <tr style=\"text-align: right;\">\n",
              "      <th></th>\n",
              "      <th>block_reward</th>\n",
              "      <th>Price+1</th>\n",
              "      <th>Price+2</th>\n",
              "      <th>Price+3</th>\n",
              "      <th>Price+4</th>\n",
              "      <th>Price+5</th>\n",
              "      <th>Price+6</th>\n",
              "      <th>Price+7</th>\n",
              "    </tr>\n",
              "    <tr>\n",
              "      <th>Date</th>\n",
              "      <th></th>\n",
              "      <th></th>\n",
              "      <th></th>\n",
              "      <th></th>\n",
              "      <th></th>\n",
              "      <th></th>\n",
              "      <th></th>\n",
              "      <th></th>\n",
              "    </tr>\n",
              "  </thead>\n",
              "  <tbody>\n",
              "    <tr>\n",
              "      <th>2013-10-08</th>\n",
              "      <td>25.0</td>\n",
              "      <td>121.794998</td>\n",
              "      <td>120.655327</td>\n",
              "      <td>121.338661</td>\n",
              "      <td>118.674660</td>\n",
              "      <td>108.584831</td>\n",
              "      <td>125.455002</td>\n",
              "      <td>123.654991</td>\n",
              "    </tr>\n",
              "    <tr>\n",
              "      <th>2013-10-09</th>\n",
              "      <td>25.0</td>\n",
              "      <td>123.032997</td>\n",
              "      <td>121.794998</td>\n",
              "      <td>120.655327</td>\n",
              "      <td>121.338661</td>\n",
              "      <td>118.674660</td>\n",
              "      <td>108.584831</td>\n",
              "      <td>125.455002</td>\n",
              "    </tr>\n",
              "    <tr>\n",
              "      <th>2013-10-10</th>\n",
              "      <td>25.0</td>\n",
              "      <td>124.049004</td>\n",
              "      <td>123.032997</td>\n",
              "      <td>121.794998</td>\n",
              "      <td>120.655327</td>\n",
              "      <td>121.338661</td>\n",
              "      <td>118.674660</td>\n",
              "      <td>108.584831</td>\n",
              "    </tr>\n",
              "    <tr>\n",
              "      <th>2013-10-11</th>\n",
              "      <td>25.0</td>\n",
              "      <td>125.961159</td>\n",
              "      <td>124.049004</td>\n",
              "      <td>123.032997</td>\n",
              "      <td>121.794998</td>\n",
              "      <td>120.655327</td>\n",
              "      <td>121.338661</td>\n",
              "      <td>118.674660</td>\n",
              "    </tr>\n",
              "    <tr>\n",
              "      <th>2013-10-12</th>\n",
              "      <td>25.0</td>\n",
              "      <td>125.279663</td>\n",
              "      <td>125.961159</td>\n",
              "      <td>124.049004</td>\n",
              "      <td>123.032997</td>\n",
              "      <td>121.794998</td>\n",
              "      <td>120.655327</td>\n",
              "      <td>121.338661</td>\n",
              "    </tr>\n",
              "  </tbody>\n",
              "</table>\n",
              "</div>\n",
              "      <button class=\"colab-df-convert\" onclick=\"convertToInteractive('df-96c298c0-19b4-4ed0-b24b-b0e6fe8dce97')\"\n",
              "              title=\"Convert this dataframe to an interactive table.\"\n",
              "              style=\"display:none;\">\n",
              "        \n",
              "  <svg xmlns=\"http://www.w3.org/2000/svg\" height=\"24px\"viewBox=\"0 0 24 24\"\n",
              "       width=\"24px\">\n",
              "    <path d=\"M0 0h24v24H0V0z\" fill=\"none\"/>\n",
              "    <path d=\"M18.56 5.44l.94 2.06.94-2.06 2.06-.94-2.06-.94-.94-2.06-.94 2.06-2.06.94zm-11 1L8.5 8.5l.94-2.06 2.06-.94-2.06-.94L8.5 2.5l-.94 2.06-2.06.94zm10 10l.94 2.06.94-2.06 2.06-.94-2.06-.94-.94-2.06-.94 2.06-2.06.94z\"/><path d=\"M17.41 7.96l-1.37-1.37c-.4-.4-.92-.59-1.43-.59-.52 0-1.04.2-1.43.59L10.3 9.45l-7.72 7.72c-.78.78-.78 2.05 0 2.83L4 21.41c.39.39.9.59 1.41.59.51 0 1.02-.2 1.41-.59l7.78-7.78 2.81-2.81c.8-.78.8-2.07 0-2.86zM5.41 20L4 18.59l7.72-7.72 1.47 1.35L5.41 20z\"/>\n",
              "  </svg>\n",
              "      </button>\n",
              "      \n",
              "  <style>\n",
              "    .colab-df-container {\n",
              "      display:flex;\n",
              "      flex-wrap:wrap;\n",
              "      gap: 12px;\n",
              "    }\n",
              "\n",
              "    .colab-df-convert {\n",
              "      background-color: #E8F0FE;\n",
              "      border: none;\n",
              "      border-radius: 50%;\n",
              "      cursor: pointer;\n",
              "      display: none;\n",
              "      fill: #1967D2;\n",
              "      height: 32px;\n",
              "      padding: 0 0 0 0;\n",
              "      width: 32px;\n",
              "    }\n",
              "\n",
              "    .colab-df-convert:hover {\n",
              "      background-color: #E2EBFA;\n",
              "      box-shadow: 0px 1px 2px rgba(60, 64, 67, 0.3), 0px 1px 3px 1px rgba(60, 64, 67, 0.15);\n",
              "      fill: #174EA6;\n",
              "    }\n",
              "\n",
              "    [theme=dark] .colab-df-convert {\n",
              "      background-color: #3B4455;\n",
              "      fill: #D2E3FC;\n",
              "    }\n",
              "\n",
              "    [theme=dark] .colab-df-convert:hover {\n",
              "      background-color: #434B5C;\n",
              "      box-shadow: 0px 1px 3px 1px rgba(0, 0, 0, 0.15);\n",
              "      filter: drop-shadow(0px 1px 2px rgba(0, 0, 0, 0.3));\n",
              "      fill: #FFFFFF;\n",
              "    }\n",
              "  </style>\n",
              "\n",
              "      <script>\n",
              "        const buttonEl =\n",
              "          document.querySelector('#df-96c298c0-19b4-4ed0-b24b-b0e6fe8dce97 button.colab-df-convert');\n",
              "        buttonEl.style.display =\n",
              "          google.colab.kernel.accessAllowed ? 'block' : 'none';\n",
              "\n",
              "        async function convertToInteractive(key) {\n",
              "          const element = document.querySelector('#df-96c298c0-19b4-4ed0-b24b-b0e6fe8dce97');\n",
              "          const dataTable =\n",
              "            await google.colab.kernel.invokeFunction('convertToInteractive',\n",
              "                                                     [key], {});\n",
              "          if (!dataTable) return;\n",
              "\n",
              "          const docLinkHtml = 'Like what you see? Visit the ' +\n",
              "            '<a target=\"_blank\" href=https://colab.research.google.com/notebooks/data_table.ipynb>data table notebook</a>'\n",
              "            + ' to learn more about interactive tables.';\n",
              "          element.innerHTML = '';\n",
              "          dataTable['output_type'] = 'display_data';\n",
              "          await google.colab.output.renderOutput(dataTable, element);\n",
              "          const docLink = document.createElement('div');\n",
              "          docLink.innerHTML = docLinkHtml;\n",
              "          element.appendChild(docLink);\n",
              "        }\n",
              "      </script>\n",
              "    </div>\n",
              "  </div>\n",
              "  "
            ]
          },
          "metadata": {},
          "execution_count": 85
        }
      ]
    },
    {
      "cell_type": "code",
      "source": [
        "# View labels\n",
        "\n",
        "y.head()"
      ],
      "metadata": {
        "colab": {
          "base_uri": "https://localhost:8080/"
        },
        "id": "DA3ghcvH2-F6",
        "outputId": "6f2d9b6b-b615-4387-8314-b8f7611af135"
      },
      "execution_count": 86,
      "outputs": [
        {
          "output_type": "execute_result",
          "data": {
            "text/plain": [
              "Date\n",
              "2013-10-08    123.032997\n",
              "2013-10-09    124.049004\n",
              "2013-10-10    125.961159\n",
              "2013-10-11    125.279663\n",
              "2013-10-12    125.927498\n",
              "Name: Price, dtype: float32"
            ]
          },
          "metadata": {},
          "execution_count": 86
        }
      ]
    },
    {
      "cell_type": "code",
      "source": [
        "# Make train and tests\n",
        "\n",
        "split_size = int(len(X)*0.8)\n",
        "X_train, y_train = X[:split_size], y[:split_size]\n",
        "X_test, y_test = X[split_size:], y[split_size:]\n",
        "len(X_train), len(y_train), len(X_test), len(y_test)"
      ],
      "metadata": {
        "colab": {
          "base_uri": "https://localhost:8080/"
        },
        "id": "8bOS7n-K3Dvd",
        "outputId": "6072f195-d903-48fb-a545-1aa6cab16416"
      },
      "execution_count": 87,
      "outputs": [
        {
          "output_type": "execute_result",
          "data": {
            "text/plain": [
              "(2224, 2224, 556, 556)"
            ]
          },
          "metadata": {},
          "execution_count": 87
        }
      ]
    },
    {
      "cell_type": "markdown",
      "source": [
        "### Model 6: Dense (multivariate time series)"
      ],
      "metadata": {
        "id": "KiLUh82Z36hi"
      }
    },
    {
      "cell_type": "code",
      "source": [
        "# Make multivariate time series model\n",
        "\n",
        "tf.random.set_seed(42)\n",
        "model_6 = tf.keras.Sequential([\n",
        "    layers.Dense(128, activation=\"relu\"),\n",
        "    # Layers.Dense(128, activation=\"relu\"), # Adding an extra layer here should lead to beating the native model\n",
        "    layers.Dense(HORIZON)\n",
        "], name=\"model_6_dense_multivariate\")\n",
        "\n",
        "# Compile\n",
        "model_6.compile(loss=\"mae\",\n",
        "                optimizer=tf.keras.optimizers.Adam())\n",
        "\n",
        "# Fit\n",
        "model_6.fit(X_train, y_train,\n",
        "            epochs=100,\n",
        "            batch_size=128,\n",
        "            verbose=0,\n",
        "            validation_data=(X_test, y_test),\n",
        "            callbacks=[create_model_checkpoint(model_name=model_6.name)])"
      ],
      "metadata": {
        "colab": {
          "base_uri": "https://localhost:8080/"
        },
        "id": "n3ULlaX53xqJ",
        "outputId": "60c6f38a-f04e-40d1-a000-377ee618c3bf"
      },
      "execution_count": 88,
      "outputs": [
        {
          "output_type": "stream",
          "name": "stderr",
          "text": [
            "WARNING:absl:Found untraced functions such as _update_step_xla while saving (showing 1 of 1). These functions will not be directly callable after loading.\n",
            "WARNING:absl:Found untraced functions such as _update_step_xla while saving (showing 1 of 1). These functions will not be directly callable after loading.\n",
            "WARNING:absl:Found untraced functions such as _update_step_xla while saving (showing 1 of 1). These functions will not be directly callable after loading.\n",
            "WARNING:absl:Found untraced functions such as _update_step_xla while saving (showing 1 of 1). These functions will not be directly callable after loading.\n",
            "WARNING:absl:Found untraced functions such as _update_step_xla while saving (showing 1 of 1). These functions will not be directly callable after loading.\n",
            "WARNING:absl:Found untraced functions such as _update_step_xla while saving (showing 1 of 1). These functions will not be directly callable after loading.\n",
            "WARNING:absl:Found untraced functions such as _update_step_xla while saving (showing 1 of 1). These functions will not be directly callable after loading.\n",
            "WARNING:absl:Found untraced functions such as _update_step_xla while saving (showing 1 of 1). These functions will not be directly callable after loading.\n",
            "WARNING:absl:Found untraced functions such as _update_step_xla while saving (showing 1 of 1). These functions will not be directly callable after loading.\n",
            "WARNING:absl:Found untraced functions such as _update_step_xla while saving (showing 1 of 1). These functions will not be directly callable after loading.\n",
            "WARNING:absl:Found untraced functions such as _update_step_xla while saving (showing 1 of 1). These functions will not be directly callable after loading.\n",
            "WARNING:absl:Found untraced functions such as _update_step_xla while saving (showing 1 of 1). These functions will not be directly callable after loading.\n",
            "WARNING:absl:Found untraced functions such as _update_step_xla while saving (showing 1 of 1). These functions will not be directly callable after loading.\n",
            "WARNING:absl:Found untraced functions such as _update_step_xla while saving (showing 1 of 1). These functions will not be directly callable after loading.\n",
            "WARNING:absl:Found untraced functions such as _update_step_xla while saving (showing 1 of 1). These functions will not be directly callable after loading.\n",
            "WARNING:absl:Found untraced functions such as _update_step_xla while saving (showing 1 of 1). These functions will not be directly callable after loading.\n",
            "WARNING:absl:Found untraced functions such as _update_step_xla while saving (showing 1 of 1). These functions will not be directly callable after loading.\n",
            "WARNING:absl:Found untraced functions such as _update_step_xla while saving (showing 1 of 1). These functions will not be directly callable after loading.\n",
            "WARNING:absl:Found untraced functions such as _update_step_xla while saving (showing 1 of 1). These functions will not be directly callable after loading.\n",
            "WARNING:absl:Found untraced functions such as _update_step_xla while saving (showing 1 of 1). These functions will not be directly callable after loading.\n",
            "WARNING:absl:Found untraced functions such as _update_step_xla while saving (showing 1 of 1). These functions will not be directly callable after loading.\n",
            "WARNING:absl:Found untraced functions such as _update_step_xla while saving (showing 1 of 1). These functions will not be directly callable after loading.\n",
            "WARNING:absl:Found untraced functions such as _update_step_xla while saving (showing 1 of 1). These functions will not be directly callable after loading.\n",
            "WARNING:absl:Found untraced functions such as _update_step_xla while saving (showing 1 of 1). These functions will not be directly callable after loading.\n",
            "WARNING:absl:Found untraced functions such as _update_step_xla while saving (showing 1 of 1). These functions will not be directly callable after loading.\n",
            "WARNING:absl:Found untraced functions such as _update_step_xla while saving (showing 1 of 1). These functions will not be directly callable after loading.\n",
            "WARNING:absl:Found untraced functions such as _update_step_xla while saving (showing 1 of 1). These functions will not be directly callable after loading.\n",
            "WARNING:absl:Found untraced functions such as _update_step_xla while saving (showing 1 of 1). These functions will not be directly callable after loading.\n",
            "WARNING:absl:Found untraced functions such as _update_step_xla while saving (showing 1 of 1). These functions will not be directly callable after loading.\n",
            "WARNING:absl:Found untraced functions such as _update_step_xla while saving (showing 1 of 1). These functions will not be directly callable after loading.\n",
            "WARNING:absl:Found untraced functions such as _update_step_xla while saving (showing 1 of 1). These functions will not be directly callable after loading.\n",
            "WARNING:absl:Found untraced functions such as _update_step_xla while saving (showing 1 of 1). These functions will not be directly callable after loading.\n",
            "WARNING:absl:Found untraced functions such as _update_step_xla while saving (showing 1 of 1). These functions will not be directly callable after loading.\n",
            "WARNING:absl:Found untraced functions such as _update_step_xla while saving (showing 1 of 1). These functions will not be directly callable after loading.\n",
            "WARNING:absl:Found untraced functions such as _update_step_xla while saving (showing 1 of 1). These functions will not be directly callable after loading.\n",
            "WARNING:absl:Found untraced functions such as _update_step_xla while saving (showing 1 of 1). These functions will not be directly callable after loading.\n",
            "WARNING:absl:Found untraced functions such as _update_step_xla while saving (showing 1 of 1). These functions will not be directly callable after loading.\n"
          ]
        },
        {
          "output_type": "execute_result",
          "data": {
            "text/plain": [
              "<keras.callbacks.History at 0x7f761b6646a0>"
            ]
          },
          "metadata": {},
          "execution_count": 88
        }
      ]
    },
    {
      "cell_type": "code",
      "source": [
        "# Make sure best model is loaded and evaluate\n",
        "\n",
        "model_6 = tf.keras.models.load_model(\"model_experiments/model_6_dense_multivariate\")\n",
        "model_6.evaluate(X_test, y_test)"
      ],
      "metadata": {
        "colab": {
          "base_uri": "https://localhost:8080/"
        },
        "id": "O5UiqwM8508W",
        "outputId": "2f13ded8-e3e4-4955-c939-9a22a3751ee8"
      },
      "execution_count": 89,
      "outputs": [
        {
          "output_type": "stream",
          "name": "stdout",
          "text": [
            "18/18 [==============================] - 0s 3ms/step - loss: 565.2197\n"
          ]
        },
        {
          "output_type": "execute_result",
          "data": {
            "text/plain": [
              "565.2196655273438"
            ]
          },
          "metadata": {},
          "execution_count": 89
        }
      ]
    },
    {
      "cell_type": "code",
      "source": [
        "# Make predictions on multivariate data\n",
        "model_6_preds = tf.squeeze(model_6.predict(X_test))\n",
        "model_6_preds[:10]"
      ],
      "metadata": {
        "colab": {
          "base_uri": "https://localhost:8080/"
        },
        "id": "3KtB1XeW6Xjo",
        "outputId": "bcff4d45-ebf6-4560-e3d8-0ba95fffbb6a"
      },
      "execution_count": 90,
      "outputs": [
        {
          "output_type": "stream",
          "name": "stdout",
          "text": [
            "18/18 [==============================] - 0s 2ms/step\n"
          ]
        },
        {
          "output_type": "execute_result",
          "data": {
            "text/plain": [
              "<tf.Tensor: shape=(10,), dtype=float32, numpy=\n",
              "array([8830.913, 8787.052, 9042.701, 8755.445, 8763.53 , 8751.738,\n",
              "       8649.444, 8537.774, 8459.036, 8528.798], dtype=float32)>"
            ]
          },
          "metadata": {},
          "execution_count": 90
        }
      ]
    },
    {
      "cell_type": "code",
      "source": [
        "# Evaluate preds\n",
        "\n",
        "model_6_results = evaluate_preds(y_true=y_test,\n",
        "                                 y_pred=model_6_preds)\n",
        "model_6_results"
      ],
      "metadata": {
        "colab": {
          "base_uri": "https://localhost:8080/"
        },
        "id": "OkaNsOsM6oxS",
        "outputId": "1185a0c3-226c-4e0f-8cb0-ffc692220a85"
      },
      "execution_count": 91,
      "outputs": [
        {
          "output_type": "execute_result",
          "data": {
            "text/plain": [
              "{'mae': 565.2197,\n",
              " 'mse': 1155614.1,\n",
              " 'rmse': 1074.995,\n",
              " 'mape': 2.5275352,\n",
              " 'mase': 0.9929345}"
            ]
          },
          "metadata": {},
          "execution_count": 91
        }
      ]
    },
    {
      "cell_type": "code",
      "source": [
        "model_1_results"
      ],
      "metadata": {
        "colab": {
          "base_uri": "https://localhost:8080/"
        },
        "id": "DBAQP8KD7EMS",
        "outputId": "a21ab9fc-8302-47ee-ce94-5c64d12113ad"
      },
      "execution_count": 92,
      "outputs": [
        {
          "output_type": "execute_result",
          "data": {
            "text/plain": [
              "{'mae': 566.9283,\n",
              " 'mse': 1161670.9,\n",
              " 'rmse': 1077.8083,\n",
              " 'mape': 2.5530632,\n",
              " 'mase': 0.995936}"
            ]
          },
          "metadata": {},
          "execution_count": 92
        }
      ]
    },
    {
      "cell_type": "markdown",
      "source": [
        "### Model 7: N-BEATS algorithm"
      ],
      "metadata": {
        "id": "mZ4aO42N-IjJ"
      }
    },
    {
      "cell_type": "code",
      "source": [
        "# Create NBeatsBlock custom layer\n",
        "\n",
        "class NBeatsBlock(tf.keras.layers.Layer):\n",
        "  def __init__(self, # the constructor takes all the hyperparameters for the layer\n",
        "               input_size: int,\n",
        "               theta_size: int,\n",
        "               horizon: int,\n",
        "               n_neurons: int,\n",
        "               n_layers: int,\n",
        "               **kwargs): # the **kwargs takes crae of all the parameters for the parent class\n",
        "    super().__init__(**kwargs)\n",
        "    self.input_size = input_size\n",
        "    self.theta_size = theta_size\n",
        "    self.horizon = horizon\n",
        "    self.n_neurons = n_neurons\n",
        "    self.n_layers = n_layers\n",
        "\n",
        "    # Block contains stack of 4 fully connected layers each has ReLU activation\n",
        "    self.hidden = [tf.keras.layers.Dense(n_neurons, activation=\"relu\") for _ in range(n_layers)]\n",
        "    # Output of block is theta layerwith linear activation\n",
        "    self.theta_layer = tf.keras.layers.Dense(theta_size, activation=\"linear\", name=\"theta\")\n",
        "\n",
        "  def call(self, inputs):\n",
        "    x = inputs\n",
        "    for layer in self.hidden:\n",
        "      x = layer(x)\n",
        "    theta = self.theta_layer(x)\n",
        "    # Output the backcast and forecast from theta\n",
        "    backcast, forecast = theta[:, :self.input_size], theta[:, -self.horizon]\n",
        "\n",
        "    return backcast, forecast"
      ],
      "metadata": {
        "id": "f5FO7y3N7Hw6"
      },
      "execution_count": 93,
      "outputs": []
    },
    {
      "cell_type": "code",
      "source": [
        "# Setup dummy NBeatsBlock layer to represent inouts and outputs\n",
        "\n",
        "dummy_nbeats_block_layer = NBeatsBlock(input_size=WINDOW_SIZE,\n",
        "                                       theta_size=WINDOW_SIZE+HORIZON,\n",
        "                                       horizon=HORIZON,\n",
        "                                       n_neurons=128,\n",
        "                                       n_layers=4)"
      ],
      "metadata": {
        "id": "SEAc1kLz_lY6"
      },
      "execution_count": 94,
      "outputs": []
    },
    {
      "cell_type": "code",
      "source": [
        "# Create dummy inputs (have to be same size as input size)\n",
        "dummy_inputs = tf.expand_dims(tf.range(WINDOW_SIZE)+1, axis=0)\n",
        "dummy_inputs"
      ],
      "metadata": {
        "colab": {
          "base_uri": "https://localhost:8080/"
        },
        "id": "oKFK3QUZDs19",
        "outputId": "defb4bcd-99b2-4315-eff0-5fe62362f376"
      },
      "execution_count": 95,
      "outputs": [
        {
          "output_type": "execute_result",
          "data": {
            "text/plain": [
              "<tf.Tensor: shape=(1, 7), dtype=int32, numpy=array([[1, 2, 3, 4, 5, 6, 7]], dtype=int32)>"
            ]
          },
          "metadata": {},
          "execution_count": 95
        }
      ]
    },
    {
      "cell_type": "code",
      "source": [
        "# Pass dummy inputs to dummy NBeatsBlock layer\n",
        "backcast, forecast = dummy_nbeats_block_layer(dummy_inputs)\n",
        "print(f\"Backcast: {tf.squeeze(backcast.numpy())}\")\n",
        "print(f\"Forecast: {tf.squeeze(forecast.numpy())}\")"
      ],
      "metadata": {
        "colab": {
          "base_uri": "https://localhost:8080/"
        },
        "id": "NK6PlnVuEGjr",
        "outputId": "d2eac97b-973f-46d8-f3b8-1a4cd405b2e3"
      },
      "execution_count": 96,
      "outputs": [
        {
          "output_type": "stream",
          "name": "stdout",
          "text": [
            "Backcast: [-0.3060273   0.34917375  0.08881098  0.14983465 -0.3624347   0.5110376\n",
            " -0.30689695]\n",
            "Forecast: 0.4749244451522827\n"
          ]
        }
      ]
    },
    {
      "cell_type": "markdown",
      "source": [
        "### Preparing data for N-BEATS algorithm using tf.data"
      ],
      "metadata": {
        "id": "Pv-dGrODBdi9"
      }
    },
    {
      "cell_type": "code",
      "source": [
        "HORIZON = 1 # how far to predict\n",
        "WINDOW_SIZE = 7 # how far to lookback"
      ],
      "metadata": {
        "id": "bZINJoqREkzM"
      },
      "execution_count": 96,
      "outputs": []
    },
    {
      "cell_type": "code",
      "source": [
        "# Create NBEATS data inputs\n",
        "bitcoin_prices.head()"
      ],
      "metadata": {
        "colab": {
          "base_uri": "https://localhost:8080/",
          "height": 237
        },
        "id": "DtIykgTrCWsR",
        "outputId": "3ae99725-9160-4825-9676-67f136888a5f"
      },
      "execution_count": 97,
      "outputs": [
        {
          "output_type": "execute_result",
          "data": {
            "text/plain": [
              "                Price\n",
              "Date                 \n",
              "2013-10-01  123.65499\n",
              "2013-10-02  125.45500\n",
              "2013-10-03  108.58483\n",
              "2013-10-04  118.67466\n",
              "2013-10-05  121.33866"
            ],
            "text/html": [
              "\n",
              "  <div id=\"df-6268a141-039b-4f65-b0f5-d731a7612671\">\n",
              "    <div class=\"colab-df-container\">\n",
              "      <div>\n",
              "<style scoped>\n",
              "    .dataframe tbody tr th:only-of-type {\n",
              "        vertical-align: middle;\n",
              "    }\n",
              "\n",
              "    .dataframe tbody tr th {\n",
              "        vertical-align: top;\n",
              "    }\n",
              "\n",
              "    .dataframe thead th {\n",
              "        text-align: right;\n",
              "    }\n",
              "</style>\n",
              "<table border=\"1\" class=\"dataframe\">\n",
              "  <thead>\n",
              "    <tr style=\"text-align: right;\">\n",
              "      <th></th>\n",
              "      <th>Price</th>\n",
              "    </tr>\n",
              "    <tr>\n",
              "      <th>Date</th>\n",
              "      <th></th>\n",
              "    </tr>\n",
              "  </thead>\n",
              "  <tbody>\n",
              "    <tr>\n",
              "      <th>2013-10-01</th>\n",
              "      <td>123.65499</td>\n",
              "    </tr>\n",
              "    <tr>\n",
              "      <th>2013-10-02</th>\n",
              "      <td>125.45500</td>\n",
              "    </tr>\n",
              "    <tr>\n",
              "      <th>2013-10-03</th>\n",
              "      <td>108.58483</td>\n",
              "    </tr>\n",
              "    <tr>\n",
              "      <th>2013-10-04</th>\n",
              "      <td>118.67466</td>\n",
              "    </tr>\n",
              "    <tr>\n",
              "      <th>2013-10-05</th>\n",
              "      <td>121.33866</td>\n",
              "    </tr>\n",
              "  </tbody>\n",
              "</table>\n",
              "</div>\n",
              "      <button class=\"colab-df-convert\" onclick=\"convertToInteractive('df-6268a141-039b-4f65-b0f5-d731a7612671')\"\n",
              "              title=\"Convert this dataframe to an interactive table.\"\n",
              "              style=\"display:none;\">\n",
              "        \n",
              "  <svg xmlns=\"http://www.w3.org/2000/svg\" height=\"24px\"viewBox=\"0 0 24 24\"\n",
              "       width=\"24px\">\n",
              "    <path d=\"M0 0h24v24H0V0z\" fill=\"none\"/>\n",
              "    <path d=\"M18.56 5.44l.94 2.06.94-2.06 2.06-.94-2.06-.94-.94-2.06-.94 2.06-2.06.94zm-11 1L8.5 8.5l.94-2.06 2.06-.94-2.06-.94L8.5 2.5l-.94 2.06-2.06.94zm10 10l.94 2.06.94-2.06 2.06-.94-2.06-.94-.94-2.06-.94 2.06-2.06.94z\"/><path d=\"M17.41 7.96l-1.37-1.37c-.4-.4-.92-.59-1.43-.59-.52 0-1.04.2-1.43.59L10.3 9.45l-7.72 7.72c-.78.78-.78 2.05 0 2.83L4 21.41c.39.39.9.59 1.41.59.51 0 1.02-.2 1.41-.59l7.78-7.78 2.81-2.81c.8-.78.8-2.07 0-2.86zM5.41 20L4 18.59l7.72-7.72 1.47 1.35L5.41 20z\"/>\n",
              "  </svg>\n",
              "      </button>\n",
              "      \n",
              "  <style>\n",
              "    .colab-df-container {\n",
              "      display:flex;\n",
              "      flex-wrap:wrap;\n",
              "      gap: 12px;\n",
              "    }\n",
              "\n",
              "    .colab-df-convert {\n",
              "      background-color: #E8F0FE;\n",
              "      border: none;\n",
              "      border-radius: 50%;\n",
              "      cursor: pointer;\n",
              "      display: none;\n",
              "      fill: #1967D2;\n",
              "      height: 32px;\n",
              "      padding: 0 0 0 0;\n",
              "      width: 32px;\n",
              "    }\n",
              "\n",
              "    .colab-df-convert:hover {\n",
              "      background-color: #E2EBFA;\n",
              "      box-shadow: 0px 1px 2px rgba(60, 64, 67, 0.3), 0px 1px 3px 1px rgba(60, 64, 67, 0.15);\n",
              "      fill: #174EA6;\n",
              "    }\n",
              "\n",
              "    [theme=dark] .colab-df-convert {\n",
              "      background-color: #3B4455;\n",
              "      fill: #D2E3FC;\n",
              "    }\n",
              "\n",
              "    [theme=dark] .colab-df-convert:hover {\n",
              "      background-color: #434B5C;\n",
              "      box-shadow: 0px 1px 3px 1px rgba(0, 0, 0, 0.15);\n",
              "      filter: drop-shadow(0px 1px 2px rgba(0, 0, 0, 0.3));\n",
              "      fill: #FFFFFF;\n",
              "    }\n",
              "  </style>\n",
              "\n",
              "      <script>\n",
              "        const buttonEl =\n",
              "          document.querySelector('#df-6268a141-039b-4f65-b0f5-d731a7612671 button.colab-df-convert');\n",
              "        buttonEl.style.display =\n",
              "          google.colab.kernel.accessAllowed ? 'block' : 'none';\n",
              "\n",
              "        async function convertToInteractive(key) {\n",
              "          const element = document.querySelector('#df-6268a141-039b-4f65-b0f5-d731a7612671');\n",
              "          const dataTable =\n",
              "            await google.colab.kernel.invokeFunction('convertToInteractive',\n",
              "                                                     [key], {});\n",
              "          if (!dataTable) return;\n",
              "\n",
              "          const docLinkHtml = 'Like what you see? Visit the ' +\n",
              "            '<a target=\"_blank\" href=https://colab.research.google.com/notebooks/data_table.ipynb>data table notebook</a>'\n",
              "            + ' to learn more about interactive tables.';\n",
              "          element.innerHTML = '';\n",
              "          dataTable['output_type'] = 'display_data';\n",
              "          await google.colab.output.renderOutput(dataTable, element);\n",
              "          const docLink = document.createElement('div');\n",
              "          docLink.innerHTML = docLinkHtml;\n",
              "          element.appendChild(docLink);\n",
              "        }\n",
              "      </script>\n",
              "    </div>\n",
              "  </div>\n",
              "  "
            ]
          },
          "metadata": {},
          "execution_count": 97
        }
      ]
    },
    {
      "cell_type": "code",
      "source": [
        "# Add windowed columns\n",
        "bitcoin_prices_nbeats = bitcoin_prices.copy()\n",
        "for i in range(WINDOW_SIZE):\n",
        "  bitcoin_prices_nbeats[f\"Prices+{i+1}\"] = bitcoin_prices_nbeats[\"Price\"].shift(periods=i+1)\n",
        "bitcoin_prices_nbeats.dropna().head()"
      ],
      "metadata": {
        "colab": {
          "base_uri": "https://localhost:8080/",
          "height": 237
        },
        "id": "9TIUEipgC73L",
        "outputId": "35e306d2-e9e2-49ce-9b50-a94545c02c38"
      },
      "execution_count": 99,
      "outputs": [
        {
          "output_type": "execute_result",
          "data": {
            "text/plain": [
              "                Price   Prices+1   Prices+2   Prices+3   Prices+4   Prices+5  \\\n",
              "Date                                                                           \n",
              "2013-10-08  123.03300  121.79500  120.65533  121.33866  118.67466  108.58483   \n",
              "2013-10-09  124.04900  123.03300  121.79500  120.65533  121.33866  118.67466   \n",
              "2013-10-10  125.96116  124.04900  123.03300  121.79500  120.65533  121.33866   \n",
              "2013-10-11  125.27966  125.96116  124.04900  123.03300  121.79500  120.65533   \n",
              "2013-10-12  125.92750  125.27966  125.96116  124.04900  123.03300  121.79500   \n",
              "\n",
              "             Prices+6   Prices+7  \n",
              "Date                              \n",
              "2013-10-08  125.45500  123.65499  \n",
              "2013-10-09  108.58483  125.45500  \n",
              "2013-10-10  118.67466  108.58483  \n",
              "2013-10-11  121.33866  118.67466  \n",
              "2013-10-12  120.65533  121.33866  "
            ],
            "text/html": [
              "\n",
              "  <div id=\"df-046ce59e-1908-4607-b2d1-5fc375351c29\">\n",
              "    <div class=\"colab-df-container\">\n",
              "      <div>\n",
              "<style scoped>\n",
              "    .dataframe tbody tr th:only-of-type {\n",
              "        vertical-align: middle;\n",
              "    }\n",
              "\n",
              "    .dataframe tbody tr th {\n",
              "        vertical-align: top;\n",
              "    }\n",
              "\n",
              "    .dataframe thead th {\n",
              "        text-align: right;\n",
              "    }\n",
              "</style>\n",
              "<table border=\"1\" class=\"dataframe\">\n",
              "  <thead>\n",
              "    <tr style=\"text-align: right;\">\n",
              "      <th></th>\n",
              "      <th>Price</th>\n",
              "      <th>Prices+1</th>\n",
              "      <th>Prices+2</th>\n",
              "      <th>Prices+3</th>\n",
              "      <th>Prices+4</th>\n",
              "      <th>Prices+5</th>\n",
              "      <th>Prices+6</th>\n",
              "      <th>Prices+7</th>\n",
              "    </tr>\n",
              "    <tr>\n",
              "      <th>Date</th>\n",
              "      <th></th>\n",
              "      <th></th>\n",
              "      <th></th>\n",
              "      <th></th>\n",
              "      <th></th>\n",
              "      <th></th>\n",
              "      <th></th>\n",
              "      <th></th>\n",
              "    </tr>\n",
              "  </thead>\n",
              "  <tbody>\n",
              "    <tr>\n",
              "      <th>2013-10-08</th>\n",
              "      <td>123.03300</td>\n",
              "      <td>121.79500</td>\n",
              "      <td>120.65533</td>\n",
              "      <td>121.33866</td>\n",
              "      <td>118.67466</td>\n",
              "      <td>108.58483</td>\n",
              "      <td>125.45500</td>\n",
              "      <td>123.65499</td>\n",
              "    </tr>\n",
              "    <tr>\n",
              "      <th>2013-10-09</th>\n",
              "      <td>124.04900</td>\n",
              "      <td>123.03300</td>\n",
              "      <td>121.79500</td>\n",
              "      <td>120.65533</td>\n",
              "      <td>121.33866</td>\n",
              "      <td>118.67466</td>\n",
              "      <td>108.58483</td>\n",
              "      <td>125.45500</td>\n",
              "    </tr>\n",
              "    <tr>\n",
              "      <th>2013-10-10</th>\n",
              "      <td>125.96116</td>\n",
              "      <td>124.04900</td>\n",
              "      <td>123.03300</td>\n",
              "      <td>121.79500</td>\n",
              "      <td>120.65533</td>\n",
              "      <td>121.33866</td>\n",
              "      <td>118.67466</td>\n",
              "      <td>108.58483</td>\n",
              "    </tr>\n",
              "    <tr>\n",
              "      <th>2013-10-11</th>\n",
              "      <td>125.27966</td>\n",
              "      <td>125.96116</td>\n",
              "      <td>124.04900</td>\n",
              "      <td>123.03300</td>\n",
              "      <td>121.79500</td>\n",
              "      <td>120.65533</td>\n",
              "      <td>121.33866</td>\n",
              "      <td>118.67466</td>\n",
              "    </tr>\n",
              "    <tr>\n",
              "      <th>2013-10-12</th>\n",
              "      <td>125.92750</td>\n",
              "      <td>125.27966</td>\n",
              "      <td>125.96116</td>\n",
              "      <td>124.04900</td>\n",
              "      <td>123.03300</td>\n",
              "      <td>121.79500</td>\n",
              "      <td>120.65533</td>\n",
              "      <td>121.33866</td>\n",
              "    </tr>\n",
              "  </tbody>\n",
              "</table>\n",
              "</div>\n",
              "      <button class=\"colab-df-convert\" onclick=\"convertToInteractive('df-046ce59e-1908-4607-b2d1-5fc375351c29')\"\n",
              "              title=\"Convert this dataframe to an interactive table.\"\n",
              "              style=\"display:none;\">\n",
              "        \n",
              "  <svg xmlns=\"http://www.w3.org/2000/svg\" height=\"24px\"viewBox=\"0 0 24 24\"\n",
              "       width=\"24px\">\n",
              "    <path d=\"M0 0h24v24H0V0z\" fill=\"none\"/>\n",
              "    <path d=\"M18.56 5.44l.94 2.06.94-2.06 2.06-.94-2.06-.94-.94-2.06-.94 2.06-2.06.94zm-11 1L8.5 8.5l.94-2.06 2.06-.94-2.06-.94L8.5 2.5l-.94 2.06-2.06.94zm10 10l.94 2.06.94-2.06 2.06-.94-2.06-.94-.94-2.06-.94 2.06-2.06.94z\"/><path d=\"M17.41 7.96l-1.37-1.37c-.4-.4-.92-.59-1.43-.59-.52 0-1.04.2-1.43.59L10.3 9.45l-7.72 7.72c-.78.78-.78 2.05 0 2.83L4 21.41c.39.39.9.59 1.41.59.51 0 1.02-.2 1.41-.59l7.78-7.78 2.81-2.81c.8-.78.8-2.07 0-2.86zM5.41 20L4 18.59l7.72-7.72 1.47 1.35L5.41 20z\"/>\n",
              "  </svg>\n",
              "      </button>\n",
              "      \n",
              "  <style>\n",
              "    .colab-df-container {\n",
              "      display:flex;\n",
              "      flex-wrap:wrap;\n",
              "      gap: 12px;\n",
              "    }\n",
              "\n",
              "    .colab-df-convert {\n",
              "      background-color: #E8F0FE;\n",
              "      border: none;\n",
              "      border-radius: 50%;\n",
              "      cursor: pointer;\n",
              "      display: none;\n",
              "      fill: #1967D2;\n",
              "      height: 32px;\n",
              "      padding: 0 0 0 0;\n",
              "      width: 32px;\n",
              "    }\n",
              "\n",
              "    .colab-df-convert:hover {\n",
              "      background-color: #E2EBFA;\n",
              "      box-shadow: 0px 1px 2px rgba(60, 64, 67, 0.3), 0px 1px 3px 1px rgba(60, 64, 67, 0.15);\n",
              "      fill: #174EA6;\n",
              "    }\n",
              "\n",
              "    [theme=dark] .colab-df-convert {\n",
              "      background-color: #3B4455;\n",
              "      fill: #D2E3FC;\n",
              "    }\n",
              "\n",
              "    [theme=dark] .colab-df-convert:hover {\n",
              "      background-color: #434B5C;\n",
              "      box-shadow: 0px 1px 3px 1px rgba(0, 0, 0, 0.15);\n",
              "      filter: drop-shadow(0px 1px 2px rgba(0, 0, 0, 0.3));\n",
              "      fill: #FFFFFF;\n",
              "    }\n",
              "  </style>\n",
              "\n",
              "      <script>\n",
              "        const buttonEl =\n",
              "          document.querySelector('#df-046ce59e-1908-4607-b2d1-5fc375351c29 button.colab-df-convert');\n",
              "        buttonEl.style.display =\n",
              "          google.colab.kernel.accessAllowed ? 'block' : 'none';\n",
              "\n",
              "        async function convertToInteractive(key) {\n",
              "          const element = document.querySelector('#df-046ce59e-1908-4607-b2d1-5fc375351c29');\n",
              "          const dataTable =\n",
              "            await google.colab.kernel.invokeFunction('convertToInteractive',\n",
              "                                                     [key], {});\n",
              "          if (!dataTable) return;\n",
              "\n",
              "          const docLinkHtml = 'Like what you see? Visit the ' +\n",
              "            '<a target=\"_blank\" href=https://colab.research.google.com/notebooks/data_table.ipynb>data table notebook</a>'\n",
              "            + ' to learn more about interactive tables.';\n",
              "          element.innerHTML = '';\n",
              "          dataTable['output_type'] = 'display_data';\n",
              "          await google.colab.output.renderOutput(dataTable, element);\n",
              "          const docLink = document.createElement('div');\n",
              "          docLink.innerHTML = docLinkHtml;\n",
              "          element.appendChild(docLink);\n",
              "        }\n",
              "      </script>\n",
              "    </div>\n",
              "  </div>\n",
              "  "
            ]
          },
          "metadata": {},
          "execution_count": 99
        }
      ]
    },
    {
      "cell_type": "code",
      "source": [
        "# Make features and labels\n",
        "X = bitcoin_prices_nbeats.dropna().drop(\"Price\", axis=1)\n",
        "y = bitcoin_prices_nbeats.dropna()['Price']\n",
        "\n",
        "# Make train and test sets\n",
        "split_size = int(len(X)*0.8)\n",
        "X_train, y_train = X[:split_size], y[:split_size]\n",
        "X_test, y_test = X[split_size:], y[split_size:]\n",
        "len(X_train), len(X_test), len(y_train), len(y_test)"
      ],
      "metadata": {
        "colab": {
          "base_uri": "https://localhost:8080/"
        },
        "id": "W5dh2OCUD5hI",
        "outputId": "00b8833c-7bc8-423c-f5f5-7d95a9294daf"
      },
      "execution_count": 102,
      "outputs": [
        {
          "output_type": "execute_result",
          "data": {
            "text/plain": [
              "(2224, 556, 2224, 556)"
            ]
          },
          "metadata": {},
          "execution_count": 102
        }
      ]
    },
    {
      "cell_type": "code",
      "source": [
        "# 1. Turn train and test sets into tensor datasets\n",
        "train_features_dataset = tf.data.Dataset.from_tensor_slices(X_train)\n",
        "train_labels_dataset = tf.data.Dataset.from_tensor_slices(y_train)\n",
        "\n",
        "test_features_dataset = tf.data.Dataset.from_tensor_slices(X_test)\n",
        "test_labels_dataset = tf.data.Dataset.from_tensor_slices(y_test)\n",
        "\n",
        "# 2. Combine features and labels\n",
        "train_dataset = tf.data.Dataset.zip((train_features_dataset, train_labels_dataset))\n",
        "test_dataset = tf.data.Dataset.zip((test_features_dataset, test_labels_dataset))\n",
        "\n",
        "# 3. Batch and prefetch for optimal performance\n",
        "BATCH_SIZE = 1024\n",
        "train_dataset = train_dataset.batch(BATCH_SIZE).prefetch(tf.data.AUTOTUNE)\n",
        "test_dataset = test_dataset.batch(BATCH_SIZE).prefetch(tf.data.AUTOTUNE)\n",
        "\n",
        "train_dataset, test_dataset"
      ],
      "metadata": {
        "colab": {
          "base_uri": "https://localhost:8080/"
        },
        "id": "9Yx3mU2BFiDS",
        "outputId": "af44d7f4-8087-490f-d5f0-a6c21f8a8e23"
      },
      "execution_count": 103,
      "outputs": [
        {
          "output_type": "execute_result",
          "data": {
            "text/plain": [
              "(<PrefetchDataset element_spec=(TensorSpec(shape=(None, 7), dtype=tf.float64, name=None), TensorSpec(shape=(None,), dtype=tf.float64, name=None))>,\n",
              " <PrefetchDataset element_spec=(TensorSpec(shape=(None, 7), dtype=tf.float64, name=None), TensorSpec(shape=(None,), dtype=tf.float64, name=None))>)"
            ]
          },
          "metadata": {},
          "execution_count": 103
        }
      ]
    },
    {
      "cell_type": "markdown",
      "source": [
        "### Setting up hyperparameters for N-BEATS algorithm"
      ],
      "metadata": {
        "id": "-jWeCbcaIMMj"
      }
    },
    {
      "cell_type": "code",
      "source": [
        "# Values from N-BEATS paper Figure 1 and Table 18/Appendix D\n",
        "\n",
        "N_EPOCHS = 5000\n",
        "N_NEURONS = 512\n",
        "N_LAYERS = 4\n",
        "N_STACKS = 30\n",
        "\n",
        "INPUT_SIZE = WINDOW_SIZE * HORIZON\n",
        "THETA_SIZE = INPUT_SIZE + HORIZON\n",
        "\n",
        "INPUT_SIZE, THETA_SIZE"
      ],
      "metadata": {
        "colab": {
          "base_uri": "https://localhost:8080/"
        },
        "id": "ntMAtpyxHeB-",
        "outputId": "085c192a-152b-4c17-ef6b-bb5ec1b9aabf"
      },
      "execution_count": 104,
      "outputs": [
        {
          "output_type": "execute_result",
          "data": {
            "text/plain": [
              "(7, 8)"
            ]
          },
          "metadata": {},
          "execution_count": 104
        }
      ]
    },
    {
      "cell_type": "code",
      "source": [],
      "metadata": {
        "id": "Djm8Mw4dI37H"
      },
      "execution_count": null,
      "outputs": []
    }
  ]
}