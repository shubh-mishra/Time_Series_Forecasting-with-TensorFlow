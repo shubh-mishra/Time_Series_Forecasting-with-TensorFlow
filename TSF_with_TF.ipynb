{
  "nbformat": 4,
  "nbformat_minor": 0,
  "metadata": {
    "colab": {
      "provenance": []
    },
    "kernelspec": {
      "name": "python3",
      "display_name": "Python 3"
    },
    "language_info": {
      "name": "python"
    },
    "accelerator": "GPU",
    "gpuClass": "standard"
  },
  "cells": [
    {
      "cell_type": "markdown",
      "source": [
        "# Time Series Forecasting with TensorFlow"
      ],
      "metadata": {
        "id": "0w8JoogvZb3m"
      }
    },
    {
      "cell_type": "markdown",
      "source": [
        "### Contents of this notebook\n",
        "  * Get the time series data\n",
        "    * Load the time series data using Pandas/Python,s CSV module\n",
        "  * Format data for a time series problem\n",
        "    * Creating training and test sets (the wrong way)\n",
        "    * Creating training and test sets (the right way)\n",
        "    * Visualizing time series data\n",
        "    * Turning time series data into a supervised learning problem (windowing)\n",
        "    * Preparing univariate and multivariate\n",
        "  * Evaluating a time series forecasting model\n",
        "  * Setting up a series of deep learning modelling experiments\n",
        "    * Dense (fully-connected) networks\n",
        "    * Sequence models (LSTM and 1D CNN)\n",
        "    * Ensembling (combining multiple models together)\n",
        "    * Multivariate models\n",
        "    * Replicating the N-BEATS algorithm using TensorFlow layer subclassing\n",
        "  * Creating a model checkpoint to save the best performing model during training\n",
        "  * Making predictions (forecasts) with a time series model\n",
        "  * Creating prediction intervals for the time series model forecasts\n",
        "  * Discussing two different types of uncertainity in machine learning (data uncertainity and model uncertainity)\n",
        "  * Demonstrating why forecasting in an open system is BS (the turkey problem)"
      ],
      "metadata": {
        "id": "6Q2zvb4mZuEe"
      }
    },
    {
      "cell_type": "markdown",
      "source": [
        "### Check for GPU"
      ],
      "metadata": {
        "id": "xF6e0yL_cLWE"
      }
    },
    {
      "cell_type": "code",
      "execution_count": 2,
      "metadata": {
        "colab": {
          "base_uri": "https://localhost:8080/"
        },
        "id": "5G9S5O1-ZSw7",
        "outputId": "4a369c07-e21d-4967-bc9b-140849ec13b6"
      },
      "outputs": [
        {
          "output_type": "stream",
          "name": "stdout",
          "text": [
            "GPU 0: Tesla T4 (UUID: GPU-14f6e639-45e5-4ae5-a4fa-c13705bbd2d6)\n"
          ]
        }
      ],
      "source": [
        "# Check for GPU\n",
        "!nvidia-smi -L"
      ]
    },
    {
      "cell_type": "markdown",
      "source": [
        "## Get data"
      ],
      "metadata": {
        "id": "qkmWlSy1CSfP"
      }
    },
    {
      "cell_type": "code",
      "source": [
        "# Download Bitcoin historical data from GitHub\n",
        "!wget https://raw.githubusercontent.com/mrdbourke/tensorflow-deep-learning/main/extras/BTC_USD_2013-10-01_2021-05-18-CoinDesk.csv"
      ],
      "metadata": {
        "colab": {
          "base_uri": "https://localhost:8080/"
        },
        "id": "qIx9yY30cT-M",
        "outputId": "f9f9b93f-ded7-404d-d107-5efc3662889c"
      },
      "execution_count": 3,
      "outputs": [
        {
          "output_type": "stream",
          "name": "stdout",
          "text": [
            "--2023-02-18 17:21:51--  https://raw.githubusercontent.com/mrdbourke/tensorflow-deep-learning/main/extras/BTC_USD_2013-10-01_2021-05-18-CoinDesk.csv\n",
            "Resolving raw.githubusercontent.com (raw.githubusercontent.com)... 185.199.111.133, 185.199.109.133, 185.199.110.133, ...\n",
            "Connecting to raw.githubusercontent.com (raw.githubusercontent.com)|185.199.111.133|:443... connected.\n",
            "HTTP request sent, awaiting response... 200 OK\n",
            "Length: 178509 (174K) [text/plain]\n",
            "Saving to: ‘BTC_USD_2013-10-01_2021-05-18-CoinDesk.csv’\n",
            "\n",
            "BTC_USD_2013-10-01_ 100%[===================>] 174.33K  --.-KB/s    in 0.008s  \n",
            "\n",
            "2023-02-18 17:21:51 (20.6 MB/s) - ‘BTC_USD_2013-10-01_2021-05-18-CoinDesk.csv’ saved [178509/178509]\n",
            "\n"
          ]
        }
      ]
    },
    {
      "cell_type": "markdown",
      "source": [
        "### Importing time series data with pandas"
      ],
      "metadata": {
        "id": "HSYf_IzbDJqz"
      }
    },
    {
      "cell_type": "code",
      "source": [
        "# Import with pandas\n",
        "import pandas as pd\n",
        "import numpy as np\n",
        "df = pd.read_csv('/content/BTC_USD_2013-10-01_2021-05-18-CoinDesk.csv',\n",
        "                 parse_dates=['Date'],\n",
        "                 index_col=['Date'])"
      ],
      "metadata": {
        "id": "CccBhLmlDFVC"
      },
      "execution_count": 4,
      "outputs": []
    },
    {
      "cell_type": "code",
      "source": [
        "df.head()"
      ],
      "metadata": {
        "colab": {
          "base_uri": "https://localhost:8080/",
          "height": 237
        },
        "id": "qYRO_BYFDm6d",
        "outputId": "c56bdf71-5cba-41d2-9fd5-7dc8ebde89f1"
      },
      "execution_count": 5,
      "outputs": [
        {
          "output_type": "execute_result",
          "data": {
            "text/plain": [
              "           Currency  Closing Price (USD)  24h Open (USD)  24h High (USD)  \\\n",
              "Date                                                                       \n",
              "2013-10-01      BTC            123.65499       124.30466       124.75166   \n",
              "2013-10-02      BTC            125.45500       123.65499       125.75850   \n",
              "2013-10-03      BTC            108.58483       125.45500       125.66566   \n",
              "2013-10-04      BTC            118.67466       108.58483       118.67500   \n",
              "2013-10-05      BTC            121.33866       118.67466       121.93633   \n",
              "\n",
              "            24h Low (USD)  \n",
              "Date                       \n",
              "2013-10-01      122.56349  \n",
              "2013-10-02      123.63383  \n",
              "2013-10-03       83.32833  \n",
              "2013-10-04      107.05816  \n",
              "2013-10-05      118.00566  "
            ],
            "text/html": [
              "\n",
              "  <div id=\"df-e166b700-1e74-4eb3-adbd-ded7e73eec20\">\n",
              "    <div class=\"colab-df-container\">\n",
              "      <div>\n",
              "<style scoped>\n",
              "    .dataframe tbody tr th:only-of-type {\n",
              "        vertical-align: middle;\n",
              "    }\n",
              "\n",
              "    .dataframe tbody tr th {\n",
              "        vertical-align: top;\n",
              "    }\n",
              "\n",
              "    .dataframe thead th {\n",
              "        text-align: right;\n",
              "    }\n",
              "</style>\n",
              "<table border=\"1\" class=\"dataframe\">\n",
              "  <thead>\n",
              "    <tr style=\"text-align: right;\">\n",
              "      <th></th>\n",
              "      <th>Currency</th>\n",
              "      <th>Closing Price (USD)</th>\n",
              "      <th>24h Open (USD)</th>\n",
              "      <th>24h High (USD)</th>\n",
              "      <th>24h Low (USD)</th>\n",
              "    </tr>\n",
              "    <tr>\n",
              "      <th>Date</th>\n",
              "      <th></th>\n",
              "      <th></th>\n",
              "      <th></th>\n",
              "      <th></th>\n",
              "      <th></th>\n",
              "    </tr>\n",
              "  </thead>\n",
              "  <tbody>\n",
              "    <tr>\n",
              "      <th>2013-10-01</th>\n",
              "      <td>BTC</td>\n",
              "      <td>123.65499</td>\n",
              "      <td>124.30466</td>\n",
              "      <td>124.75166</td>\n",
              "      <td>122.56349</td>\n",
              "    </tr>\n",
              "    <tr>\n",
              "      <th>2013-10-02</th>\n",
              "      <td>BTC</td>\n",
              "      <td>125.45500</td>\n",
              "      <td>123.65499</td>\n",
              "      <td>125.75850</td>\n",
              "      <td>123.63383</td>\n",
              "    </tr>\n",
              "    <tr>\n",
              "      <th>2013-10-03</th>\n",
              "      <td>BTC</td>\n",
              "      <td>108.58483</td>\n",
              "      <td>125.45500</td>\n",
              "      <td>125.66566</td>\n",
              "      <td>83.32833</td>\n",
              "    </tr>\n",
              "    <tr>\n",
              "      <th>2013-10-04</th>\n",
              "      <td>BTC</td>\n",
              "      <td>118.67466</td>\n",
              "      <td>108.58483</td>\n",
              "      <td>118.67500</td>\n",
              "      <td>107.05816</td>\n",
              "    </tr>\n",
              "    <tr>\n",
              "      <th>2013-10-05</th>\n",
              "      <td>BTC</td>\n",
              "      <td>121.33866</td>\n",
              "      <td>118.67466</td>\n",
              "      <td>121.93633</td>\n",
              "      <td>118.00566</td>\n",
              "    </tr>\n",
              "  </tbody>\n",
              "</table>\n",
              "</div>\n",
              "      <button class=\"colab-df-convert\" onclick=\"convertToInteractive('df-e166b700-1e74-4eb3-adbd-ded7e73eec20')\"\n",
              "              title=\"Convert this dataframe to an interactive table.\"\n",
              "              style=\"display:none;\">\n",
              "        \n",
              "  <svg xmlns=\"http://www.w3.org/2000/svg\" height=\"24px\"viewBox=\"0 0 24 24\"\n",
              "       width=\"24px\">\n",
              "    <path d=\"M0 0h24v24H0V0z\" fill=\"none\"/>\n",
              "    <path d=\"M18.56 5.44l.94 2.06.94-2.06 2.06-.94-2.06-.94-.94-2.06-.94 2.06-2.06.94zm-11 1L8.5 8.5l.94-2.06 2.06-.94-2.06-.94L8.5 2.5l-.94 2.06-2.06.94zm10 10l.94 2.06.94-2.06 2.06-.94-2.06-.94-.94-2.06-.94 2.06-2.06.94z\"/><path d=\"M17.41 7.96l-1.37-1.37c-.4-.4-.92-.59-1.43-.59-.52 0-1.04.2-1.43.59L10.3 9.45l-7.72 7.72c-.78.78-.78 2.05 0 2.83L4 21.41c.39.39.9.59 1.41.59.51 0 1.02-.2 1.41-.59l7.78-7.78 2.81-2.81c.8-.78.8-2.07 0-2.86zM5.41 20L4 18.59l7.72-7.72 1.47 1.35L5.41 20z\"/>\n",
              "  </svg>\n",
              "      </button>\n",
              "      \n",
              "  <style>\n",
              "    .colab-df-container {\n",
              "      display:flex;\n",
              "      flex-wrap:wrap;\n",
              "      gap: 12px;\n",
              "    }\n",
              "\n",
              "    .colab-df-convert {\n",
              "      background-color: #E8F0FE;\n",
              "      border: none;\n",
              "      border-radius: 50%;\n",
              "      cursor: pointer;\n",
              "      display: none;\n",
              "      fill: #1967D2;\n",
              "      height: 32px;\n",
              "      padding: 0 0 0 0;\n",
              "      width: 32px;\n",
              "    }\n",
              "\n",
              "    .colab-df-convert:hover {\n",
              "      background-color: #E2EBFA;\n",
              "      box-shadow: 0px 1px 2px rgba(60, 64, 67, 0.3), 0px 1px 3px 1px rgba(60, 64, 67, 0.15);\n",
              "      fill: #174EA6;\n",
              "    }\n",
              "\n",
              "    [theme=dark] .colab-df-convert {\n",
              "      background-color: #3B4455;\n",
              "      fill: #D2E3FC;\n",
              "    }\n",
              "\n",
              "    [theme=dark] .colab-df-convert:hover {\n",
              "      background-color: #434B5C;\n",
              "      box-shadow: 0px 1px 3px 1px rgba(0, 0, 0, 0.15);\n",
              "      filter: drop-shadow(0px 1px 2px rgba(0, 0, 0, 0.3));\n",
              "      fill: #FFFFFF;\n",
              "    }\n",
              "  </style>\n",
              "\n",
              "      <script>\n",
              "        const buttonEl =\n",
              "          document.querySelector('#df-e166b700-1e74-4eb3-adbd-ded7e73eec20 button.colab-df-convert');\n",
              "        buttonEl.style.display =\n",
              "          google.colab.kernel.accessAllowed ? 'block' : 'none';\n",
              "\n",
              "        async function convertToInteractive(key) {\n",
              "          const element = document.querySelector('#df-e166b700-1e74-4eb3-adbd-ded7e73eec20');\n",
              "          const dataTable =\n",
              "            await google.colab.kernel.invokeFunction('convertToInteractive',\n",
              "                                                     [key], {});\n",
              "          if (!dataTable) return;\n",
              "\n",
              "          const docLinkHtml = 'Like what you see? Visit the ' +\n",
              "            '<a target=\"_blank\" href=https://colab.research.google.com/notebooks/data_table.ipynb>data table notebook</a>'\n",
              "            + ' to learn more about interactive tables.';\n",
              "          element.innerHTML = '';\n",
              "          dataTable['output_type'] = 'display_data';\n",
              "          await google.colab.output.renderOutput(dataTable, element);\n",
              "          const docLink = document.createElement('div');\n",
              "          docLink.innerHTML = docLinkHtml;\n",
              "          element.appendChild(docLink);\n",
              "        }\n",
              "      </script>\n",
              "    </div>\n",
              "  </div>\n",
              "  "
            ]
          },
          "metadata": {},
          "execution_count": 5
        }
      ]
    },
    {
      "cell_type": "code",
      "source": [
        "df.info()"
      ],
      "metadata": {
        "colab": {
          "base_uri": "https://localhost:8080/"
        },
        "id": "oDeBOuRTDtyb",
        "outputId": "3b8a7f7f-5a68-46e3-9c76-19445417a15b"
      },
      "execution_count": 6,
      "outputs": [
        {
          "output_type": "stream",
          "name": "stdout",
          "text": [
            "<class 'pandas.core.frame.DataFrame'>\n",
            "DatetimeIndex: 2787 entries, 2013-10-01 to 2021-05-18\n",
            "Data columns (total 5 columns):\n",
            " #   Column               Non-Null Count  Dtype  \n",
            "---  ------               --------------  -----  \n",
            " 0   Currency             2787 non-null   object \n",
            " 1   Closing Price (USD)  2787 non-null   float64\n",
            " 2   24h Open (USD)       2787 non-null   float64\n",
            " 3   24h High (USD)       2787 non-null   float64\n",
            " 4   24h Low (USD)        2787 non-null   float64\n",
            "dtypes: float64(4), object(1)\n",
            "memory usage: 130.6+ KB\n"
          ]
        }
      ]
    },
    {
      "cell_type": "code",
      "source": [
        "df.shape"
      ],
      "metadata": {
        "colab": {
          "base_uri": "https://localhost:8080/"
        },
        "id": "_UpS-_04D0xW",
        "outputId": "b46ebc88-3c0a-4f9b-9aa5-717482cf0bdb"
      },
      "execution_count": 7,
      "outputs": [
        {
          "output_type": "execute_result",
          "data": {
            "text/plain": [
              "(2787, 5)"
            ]
          },
          "metadata": {},
          "execution_count": 7
        }
      ]
    },
    {
      "cell_type": "code",
      "source": [
        "# Only want closing price for each day\n",
        "bitcoin_prices = pd.DataFrame(df['Closing Price (USD)']).rename(columns={'Closing Price (USD)': 'Price'})\n",
        "bitcoin_prices.head()"
      ],
      "metadata": {
        "colab": {
          "base_uri": "https://localhost:8080/",
          "height": 237
        },
        "id": "VF3K-owOEUPm",
        "outputId": "94d01b38-cc26-41f0-d972-8054cdfd57da"
      },
      "execution_count": 8,
      "outputs": [
        {
          "output_type": "execute_result",
          "data": {
            "text/plain": [
              "                Price\n",
              "Date                 \n",
              "2013-10-01  123.65499\n",
              "2013-10-02  125.45500\n",
              "2013-10-03  108.58483\n",
              "2013-10-04  118.67466\n",
              "2013-10-05  121.33866"
            ],
            "text/html": [
              "\n",
              "  <div id=\"df-9ecf20ef-7534-433c-a319-4f45d479d765\">\n",
              "    <div class=\"colab-df-container\">\n",
              "      <div>\n",
              "<style scoped>\n",
              "    .dataframe tbody tr th:only-of-type {\n",
              "        vertical-align: middle;\n",
              "    }\n",
              "\n",
              "    .dataframe tbody tr th {\n",
              "        vertical-align: top;\n",
              "    }\n",
              "\n",
              "    .dataframe thead th {\n",
              "        text-align: right;\n",
              "    }\n",
              "</style>\n",
              "<table border=\"1\" class=\"dataframe\">\n",
              "  <thead>\n",
              "    <tr style=\"text-align: right;\">\n",
              "      <th></th>\n",
              "      <th>Price</th>\n",
              "    </tr>\n",
              "    <tr>\n",
              "      <th>Date</th>\n",
              "      <th></th>\n",
              "    </tr>\n",
              "  </thead>\n",
              "  <tbody>\n",
              "    <tr>\n",
              "      <th>2013-10-01</th>\n",
              "      <td>123.65499</td>\n",
              "    </tr>\n",
              "    <tr>\n",
              "      <th>2013-10-02</th>\n",
              "      <td>125.45500</td>\n",
              "    </tr>\n",
              "    <tr>\n",
              "      <th>2013-10-03</th>\n",
              "      <td>108.58483</td>\n",
              "    </tr>\n",
              "    <tr>\n",
              "      <th>2013-10-04</th>\n",
              "      <td>118.67466</td>\n",
              "    </tr>\n",
              "    <tr>\n",
              "      <th>2013-10-05</th>\n",
              "      <td>121.33866</td>\n",
              "    </tr>\n",
              "  </tbody>\n",
              "</table>\n",
              "</div>\n",
              "      <button class=\"colab-df-convert\" onclick=\"convertToInteractive('df-9ecf20ef-7534-433c-a319-4f45d479d765')\"\n",
              "              title=\"Convert this dataframe to an interactive table.\"\n",
              "              style=\"display:none;\">\n",
              "        \n",
              "  <svg xmlns=\"http://www.w3.org/2000/svg\" height=\"24px\"viewBox=\"0 0 24 24\"\n",
              "       width=\"24px\">\n",
              "    <path d=\"M0 0h24v24H0V0z\" fill=\"none\"/>\n",
              "    <path d=\"M18.56 5.44l.94 2.06.94-2.06 2.06-.94-2.06-.94-.94-2.06-.94 2.06-2.06.94zm-11 1L8.5 8.5l.94-2.06 2.06-.94-2.06-.94L8.5 2.5l-.94 2.06-2.06.94zm10 10l.94 2.06.94-2.06 2.06-.94-2.06-.94-.94-2.06-.94 2.06-2.06.94z\"/><path d=\"M17.41 7.96l-1.37-1.37c-.4-.4-.92-.59-1.43-.59-.52 0-1.04.2-1.43.59L10.3 9.45l-7.72 7.72c-.78.78-.78 2.05 0 2.83L4 21.41c.39.39.9.59 1.41.59.51 0 1.02-.2 1.41-.59l7.78-7.78 2.81-2.81c.8-.78.8-2.07 0-2.86zM5.41 20L4 18.59l7.72-7.72 1.47 1.35L5.41 20z\"/>\n",
              "  </svg>\n",
              "      </button>\n",
              "      \n",
              "  <style>\n",
              "    .colab-df-container {\n",
              "      display:flex;\n",
              "      flex-wrap:wrap;\n",
              "      gap: 12px;\n",
              "    }\n",
              "\n",
              "    .colab-df-convert {\n",
              "      background-color: #E8F0FE;\n",
              "      border: none;\n",
              "      border-radius: 50%;\n",
              "      cursor: pointer;\n",
              "      display: none;\n",
              "      fill: #1967D2;\n",
              "      height: 32px;\n",
              "      padding: 0 0 0 0;\n",
              "      width: 32px;\n",
              "    }\n",
              "\n",
              "    .colab-df-convert:hover {\n",
              "      background-color: #E2EBFA;\n",
              "      box-shadow: 0px 1px 2px rgba(60, 64, 67, 0.3), 0px 1px 3px 1px rgba(60, 64, 67, 0.15);\n",
              "      fill: #174EA6;\n",
              "    }\n",
              "\n",
              "    [theme=dark] .colab-df-convert {\n",
              "      background-color: #3B4455;\n",
              "      fill: #D2E3FC;\n",
              "    }\n",
              "\n",
              "    [theme=dark] .colab-df-convert:hover {\n",
              "      background-color: #434B5C;\n",
              "      box-shadow: 0px 1px 3px 1px rgba(0, 0, 0, 0.15);\n",
              "      filter: drop-shadow(0px 1px 2px rgba(0, 0, 0, 0.3));\n",
              "      fill: #FFFFFF;\n",
              "    }\n",
              "  </style>\n",
              "\n",
              "      <script>\n",
              "        const buttonEl =\n",
              "          document.querySelector('#df-9ecf20ef-7534-433c-a319-4f45d479d765 button.colab-df-convert');\n",
              "        buttonEl.style.display =\n",
              "          google.colab.kernel.accessAllowed ? 'block' : 'none';\n",
              "\n",
              "        async function convertToInteractive(key) {\n",
              "          const element = document.querySelector('#df-9ecf20ef-7534-433c-a319-4f45d479d765');\n",
              "          const dataTable =\n",
              "            await google.colab.kernel.invokeFunction('convertToInteractive',\n",
              "                                                     [key], {});\n",
              "          if (!dataTable) return;\n",
              "\n",
              "          const docLinkHtml = 'Like what you see? Visit the ' +\n",
              "            '<a target=\"_blank\" href=https://colab.research.google.com/notebooks/data_table.ipynb>data table notebook</a>'\n",
              "            + ' to learn more about interactive tables.';\n",
              "          element.innerHTML = '';\n",
              "          dataTable['output_type'] = 'display_data';\n",
              "          await google.colab.output.renderOutput(dataTable, element);\n",
              "          const docLink = document.createElement('div');\n",
              "          docLink.innerHTML = docLinkHtml;\n",
              "          element.appendChild(docLink);\n",
              "        }\n",
              "      </script>\n",
              "    </div>\n",
              "  </div>\n",
              "  "
            ]
          },
          "metadata": {},
          "execution_count": 8
        }
      ]
    },
    {
      "cell_type": "code",
      "source": [
        "# Visulaizing data\n",
        "import matplotlib.pyplot as plt\n",
        "bitcoin_prices.plot(figsize=(10, 7))\n",
        "plt.ylabel('BTC Price')\n",
        "plt.title('Price of Bitcoin from 1 Oct 2013 to 18 May 2021', fontsize=16)\n",
        "plt.legend(fontsize=14)"
      ],
      "metadata": {
        "colab": {
          "base_uri": "https://localhost:8080/",
          "height": 477
        },
        "id": "TbkLAN_0FVYy",
        "outputId": "3b1346b9-6025-408c-f7d3-9b9be92868ec"
      },
      "execution_count": 9,
      "outputs": [
        {
          "output_type": "execute_result",
          "data": {
            "text/plain": [
              "<matplotlib.legend.Legend at 0x7f28a350a9a0>"
            ]
          },
          "metadata": {},
          "execution_count": 9
        },
        {
          "output_type": "display_data",
          "data": {
            "text/plain": [
              "<Figure size 720x504 with 1 Axes>"
            ],
            "image/png": "[encoded data removed]"
          },
          "metadata": {
            "needs_background": "light"
          }
        }
      ]
    },
    {
      "cell_type": "markdown",
      "source": [
        "### Importing time series data with Python's CSV module"
      ],
      "metadata": {
        "id": "sJTzfAWTGPFT"
      }
    },
    {
      "cell_type": "code",
      "source": [
        "# Importing and formatting historical Bitcoin data with Python\n",
        "\n",
        "import csv\n",
        "from datetime import datetime\n",
        "\n",
        "timesteps = []\n",
        "btc_price = []\n",
        "with open('/content/BTC_USD_2013-10-01_2021-05-18-CoinDesk.csv') as f:\n",
        "  csv_reader = csv.reader(f, delimiter=',')\n",
        "  next(csv_reader)\n",
        "  for line in csv_reader:\n",
        "    timesteps.append(datetime.strptime(line[1], \"%Y-%m-%d\"))\n",
        "    btc_price.append(float(line[2]))\n",
        "\n",
        "# View first 10 of each\n",
        "\n",
        "timesteps[:10], btc_price[:10]"
      ],
      "metadata": {
        "colab": {
          "base_uri": "https://localhost:8080/"
        },
        "id": "iGnvksqrGLF8",
        "outputId": "f0c7d120-7f48-4ea0-cdbe-6e4706cd178c"
      },
      "execution_count": 10,
      "outputs": [
        {
          "output_type": "execute_result",
          "data": {
            "text/plain": [
              "([datetime.datetime(2013, 10, 1, 0, 0),\n",
              "  datetime.datetime(2013, 10, 2, 0, 0),\n",
              "  datetime.datetime(2013, 10, 3, 0, 0),\n",
              "  datetime.datetime(2013, 10, 4, 0, 0),\n",
              "  datetime.datetime(2013, 10, 5, 0, 0),\n",
              "  datetime.datetime(2013, 10, 6, 0, 0),\n",
              "  datetime.datetime(2013, 10, 7, 0, 0),\n",
              "  datetime.datetime(2013, 10, 8, 0, 0),\n",
              "  datetime.datetime(2013, 10, 9, 0, 0),\n",
              "  datetime.datetime(2013, 10, 10, 0, 0)],\n",
              " [123.65499,\n",
              "  125.455,\n",
              "  108.58483,\n",
              "  118.67466,\n",
              "  121.33866,\n",
              "  120.65533,\n",
              "  121.795,\n",
              "  123.033,\n",
              "  124.049,\n",
              "  125.96116])"
            ]
          },
          "metadata": {},
          "execution_count": 10
        }
      ]
    },
    {
      "cell_type": "code",
      "source": [
        "# Plot from CSV\n",
        "import matplotlib.pyplot as plt\n",
        "plt.figure(figsize=(10, 7))\n",
        "plt.plot(timesteps, btc_price)\n",
        "plt.ylabel('BTC Price')\n",
        "plt.title('Price of Bitcoin from 1 Oct 2013 to 18 May 2021', fontsize=16)\n",
        "plt.xlabel('Date')"
      ],
      "metadata": {
        "colab": {
          "base_uri": "https://localhost:8080/",
          "height": 477
        },
        "id": "qBOzExKVH5MY",
        "outputId": "2bf48997-8aed-4e66-8a4c-d427a1d038b9"
      },
      "execution_count": 11,
      "outputs": [
        {
          "output_type": "execute_result",
          "data": {
            "text/plain": [
              "Text(0.5, 0, 'Date')"
            ]
          },
          "metadata": {},
          "execution_count": 11
        },
        {
          "output_type": "display_data",
          "data": {
            "text/plain": [
              "<Figure size 720x504 with 1 Axes>"
            ],
            "image/png": "[encoded data removed]"
          },
          "metadata": {
            "needs_background": "light"
          }
        }
      ]
    },
    {
      "cell_type": "markdown",
      "source": [
        "## Formatting data for time series problem"
      ],
      "metadata": {
        "id": "kDch2yFnKIUM"
      }
    },
    {
      "cell_type": "markdown",
      "source": [
        "### Creating train and test sets for time series data (the wrong way)"
      ],
      "metadata": {
        "id": "8mZmNjyCKNU8"
      }
    },
    {
      "cell_type": "code",
      "source": [
        "# Get Bitcoin date array\n",
        "\n",
        "timesteps = bitcoin_prices.index.to_numpy()\n",
        "prices = bitcoin_prices['Price'].to_numpy()\n",
        "\n",
        "timesteps[:10], prices[:10]"
      ],
      "metadata": {
        "colab": {
          "base_uri": "https://localhost:8080/"
        },
        "id": "DnfJTaXLIu9x",
        "outputId": "3d414e3b-a801-4c2a-a046-dd33e4485bc5"
      },
      "execution_count": 12,
      "outputs": [
        {
          "output_type": "execute_result",
          "data": {
            "text/plain": [
              "(array(['2013-10-01T00:00:00.000000000', '2013-10-02T00:00:00.000000000',\n",
              "        '2013-10-03T00:00:00.000000000', '2013-10-04T00:00:00.000000000',\n",
              "        '2013-10-05T00:00:00.000000000', '2013-10-06T00:00:00.000000000',\n",
              "        '2013-10-07T00:00:00.000000000', '2013-10-08T00:00:00.000000000',\n",
              "        '2013-10-09T00:00:00.000000000', '2013-10-10T00:00:00.000000000'],\n",
              "       dtype='datetime64[ns]'),\n",
              " array([123.65499, 125.455  , 108.58483, 118.67466, 121.33866, 120.65533,\n",
              "        121.795  , 123.033  , 124.049  , 125.96116]))"
            ]
          },
          "metadata": {},
          "execution_count": 12
        }
      ]
    },
    {
      "cell_type": "code",
      "source": [
        "# Wrong way to make train test split\n",
        "\n",
        "from sklearn.model_selection import train_test_split\n",
        "X_train, X_test, y_train, y_test = train_test_split(timesteps,\n",
        "                                                    prices,\n",
        "                                                    test_size=0.2,\n",
        "                                                    random_state=42)\n",
        "X_train.shape, X_test.shape, y_train.shape, y_test.shape"
      ],
      "metadata": {
        "colab": {
          "base_uri": "https://localhost:8080/"
        },
        "id": "vqlUhjJULTK3",
        "outputId": "6253ac45-9d05-4f44-add7-78dc0da23c39"
      },
      "execution_count": 13,
      "outputs": [
        {
          "output_type": "execute_result",
          "data": {
            "text/plain": [
              "((2229,), (558,), (2229,), (558,))"
            ]
          },
          "metadata": {},
          "execution_count": 13
        }
      ]
    },
    {
      "cell_type": "code",
      "source": [
        "# Plotting wrong train and test splits\n",
        "\n",
        "plt.figure(figsize=(10, 7))\n",
        "plt.scatter(X_train, y_train, s=5, label='Train data')\n",
        "plt.scatter(X_test, y_test, s=5, label='Test data')\n",
        "plt.xlabel('Date')\n",
        "plt.ylabel('BTC Price')\n",
        "plt.legend(fontsize=14)\n",
        "plt.show()"
      ],
      "metadata": {
        "colab": {
          "base_uri": "https://localhost:8080/",
          "height": 442
        },
        "id": "AT8nCaLAMAev",
        "outputId": "70d4676b-de7d-4c51-9a4a-63f3eedb7d8d"
      },
      "execution_count": 14,
      "outputs": [
        {
          "output_type": "display_data",
          "data": {
            "text/plain": [
              "<Figure size 720x504 with 1 Axes>"
            ],
            "image/png": "[encoded data removed]"
          },
          "metadata": {
            "needs_background": "light"
          }
        }
      ]
    },
    {
      "cell_type": "markdown",
      "source": [
        "### Creating train and test sets for time series data (the right way)"
      ],
      "metadata": {
        "id": "zlqfQuVxOLez"
      }
    },
    {
      "cell_type": "code",
      "source": [
        "split_size = int(0.8 * len(prices))\n",
        "\n",
        "X_train, y_train = timesteps[0:split_size], prices[:split_size]\n",
        "\n",
        "X_test, y_test = timesteps[split_size:], prices[split_size:]\n",
        "\n",
        "len(X_train), len(X_test), len(y_train), len(y_test)"
      ],
      "metadata": {
        "colab": {
          "base_uri": "https://localhost:8080/"
        },
        "id": "gV8dMGg5M5zk",
        "outputId": "1f952b7c-f5c9-4d4f-bc35-5141ca88dae4"
      },
      "execution_count": 15,
      "outputs": [
        {
          "output_type": "execute_result",
          "data": {
            "text/plain": [
              "(2229, 558, 2229, 558)"
            ]
          },
          "metadata": {},
          "execution_count": 15
        }
      ]
    },
    {
      "cell_type": "code",
      "source": [
        "# Plot correctly made splits\n",
        "\n",
        "plt.figure(figsize=(10, 7))\n",
        "plt.scatter(X_train, y_train, s=5, label='Train data')\n",
        "plt.scatter(X_test, y_test, s=5, label='Test data')\n",
        "plt.xlabel('Date')\n",
        "plt.ylabel('BTC Price')\n",
        "plt.legend(fontsize=14)\n",
        "plt.show()"
      ],
      "metadata": {
        "colab": {
          "base_uri": "https://localhost:8080/",
          "height": 442
        },
        "id": "xiFfNRa8PF6S",
        "outputId": "19f7467c-76b4-4ede-e14c-82e36c289299"
      },
      "execution_count": 16,
      "outputs": [
        {
          "output_type": "display_data",
          "data": {
            "text/plain": [
              "<Figure size 720x504 with 1 Axes>"
            ],
            "image/png": "[encoded data removed]"
          },
          "metadata": {
            "needs_background": "light"
          }
        }
      ]
    },
    {
      "cell_type": "markdown",
      "source": [
        "### Creating a plotting function"
      ],
      "metadata": {
        "id": "QZIaqB4fP5f-"
      }
    },
    {
      "cell_type": "code",
      "source": [
        "def plot_time_series(timesteps, values, format='.', start=0, end=None, label=None):\n",
        "  plt.plot(timesteps[start:end], values[start:end], format, label=label)\n",
        "  plt.xlabel('Time')\n",
        "  plt.ylabel('BTC Price')\n",
        "  if label:\n",
        "    plt.legend(fontsize=14)\n",
        "  plt.grid(True) "
      ],
      "metadata": {
        "id": "bOQp_MxvP0R7"
      },
      "execution_count": 17,
      "outputs": []
    },
    {
      "cell_type": "code",
      "source": [
        "# Try out our plotting function\n",
        "\n",
        "plt.figure(figsize=(10, 7))\n",
        "plot_time_series(timesteps=X_train, values=y_train, label='Train data')\n",
        "plot_time_series(timesteps=X_test, values=y_test, label='Test data')"
      ],
      "metadata": {
        "colab": {
          "base_uri": "https://localhost:8080/",
          "height": 442
        },
        "id": "NxSMbI3GRaVW",
        "outputId": "68e586fe-a228-4af8-a393-1710f50d9a00"
      },
      "execution_count": 18,
      "outputs": [
        {
          "output_type": "display_data",
          "data": {
            "text/plain": [
              "<Figure size 720x504 with 1 Axes>"
            ],
            "image/png": "[encoded data removed]"
          },
          "metadata": {
            "needs_background": "light"
          }
        }
      ]
    },
    {
      "cell_type": "markdown",
      "source": [
        "## Modelling Experiments"
      ],
      "metadata": {
        "id": "BfgMr9kUb5mH"
      }
    },
    {
      "cell_type": "markdown",
      "source": [
        "### Model 0: Naive Forecast (baseline)"
      ],
      "metadata": {
        "id": "rpB-eC7ob87b"
      }
    },
    {
      "cell_type": "code",
      "source": [
        "# Create a naive forecast\n",
        "\n",
        "naive_forecast = y_test[:-1]\n",
        "naive_forecast[:10], naive_forecast[-10:]"
      ],
      "metadata": {
        "id": "pmwXESXCR4W5",
        "colab": {
          "base_uri": "https://localhost:8080/"
        },
        "outputId": "800ffa86-a189-4d07-e557-e68a6ed6b8ae"
      },
      "execution_count": 19,
      "outputs": [
        {
          "output_type": "execute_result",
          "data": {
            "text/plain": [
              "(array([9226.48582088, 8794.35864452, 8798.04205463, 9081.18687849,\n",
              "        8711.53433917, 8760.89271814, 8749.52059102, 8656.97092235,\n",
              "        8500.64355816, 8469.2608989 ]),\n",
              " array([57107.12067189, 58788.20967893, 58102.19142623, 55715.54665129,\n",
              "        56573.5554719 , 52147.82118698, 49764.1320816 , 50032.69313676,\n",
              "        47885.62525472, 45604.61575361]))"
            ]
          },
          "metadata": {},
          "execution_count": 19
        }
      ]
    },
    {
      "cell_type": "code",
      "source": [
        "# Plot naive forecast\n",
        "\n",
        "plt.figure(figsize=(10, 7))\n",
        "plot_time_series(timesteps=X_train, values=y_train, label='Train data')\n",
        "plot_time_series(timesteps=X_test, values=y_test, label='Test data')\n",
        "plot_time_series(timesteps=X_test[1:], values=naive_forecast, label='Naive Forecast')"
      ],
      "metadata": {
        "colab": {
          "base_uri": "https://localhost:8080/",
          "height": 442
        },
        "id": "o0SYgJp0c7iJ",
        "outputId": "85ed455a-5d87-45b9-806b-85d04f556290"
      },
      "execution_count": 20,
      "outputs": [
        {
          "output_type": "display_data",
          "data": {
            "text/plain": [
              "<Figure size 720x504 with 1 Axes>"
            ],
            "image/png": "[encoded data removed]"
          },
          "metadata": {
            "needs_background": "light"
          }
        }
      ]
    },
    {
      "cell_type": "code",
      "source": [
        "# Zooming in the plot\n",
        "\n",
        "plt.figure(figsize=(10, 7))\n",
        "offset = 300\n",
        "plot_time_series(timesteps=X_test, values=y_test, start=offset, label='Test data')\n",
        "plot_time_series(timesteps=X_test[1:], values=naive_forecast, start=offset, format='-', label='Naive forecast')\n"
      ],
      "metadata": {
        "colab": {
          "base_uri": "https://localhost:8080/",
          "height": 442
        },
        "id": "0oTrV_iKeDJG",
        "outputId": "bccdd379-f3fa-4775-dacb-e0f15a98d8ab"
      },
      "execution_count": 21,
      "outputs": [
        {
          "output_type": "display_data",
          "data": {
            "text/plain": [
              "<Figure size 720x504 with 1 Axes>"
            ],
            "image/png": "[encoded data removed]"
          },
          "metadata": {
            "needs_background": "light"
          }
        }
      ]
    },
    {
      "cell_type": "markdown",
      "source": [
        "### Evaluating a time series model"
      ],
      "metadata": {
        "id": "sanRTmVuf1Nn"
      }
    },
    {
      "cell_type": "code",
      "source": [
        "import tensorflow as tf"
      ],
      "metadata": {
        "id": "OvW8fMQ4faf-"
      },
      "execution_count": 22,
      "outputs": []
    },
    {
      "cell_type": "code",
      "source": [
        "# Create a function to calculate MASE (mean absolute scaled error)\n",
        "\n",
        "def mean_absolute_scaled_error(y_true, y_pred):\n",
        "  \n",
        "  mae = tf.reduce_mean(tf.abs(y_true - y_pred))\n",
        "  mae_naive_no_season = tf.reduce_mean(tf.abs(y_true[1:]-y_true[:-1]))\n",
        "  \n",
        "  return mae/mae_naive_no_season"
      ],
      "metadata": {
        "id": "QM1clImrhVrn"
      },
      "execution_count": 23,
      "outputs": []
    },
    {
      "cell_type": "code",
      "source": [
        "# Create a function to calculate results (predictions)\n",
        "\n",
        "def evaluate_preds(y_true, y_pred):\n",
        "\n",
        "  y_true = tf.cast(y_true, dtype=tf.float32)\n",
        "  y_pred = tf.cast(y_pred, dtype=tf.float32)\n",
        "\n",
        "  mae = tf.keras.metrics.mean_absolute_error(y_true, y_pred)\n",
        "  mape = tf.keras.metrics.mean_absolute_percentage_error(y_true, y_pred)\n",
        "  mse = tf.keras.metrics.mean_squared_error(y_true, y_pred)\n",
        "  rmse = tf.sqrt(mse)\n",
        "  mase = mean_absolute_scaled_error(y_true, y_pred)\n",
        "\n",
        "  return {\"mae\": mae.numpy(),\n",
        "          \"mse\": mse.numpy(),\n",
        "          \"rmse\": rmse.numpy(),\n",
        "          \"mape\": mape.numpy(),\n",
        "          \"mase\": mase.numpy()}"
      ],
      "metadata": {
        "id": "XBtQtFGOiLrB"
      },
      "execution_count": 24,
      "outputs": []
    },
    {
      "cell_type": "code",
      "source": [
        "naive_results = evaluate_preds(y_true=y_test[1:], y_pred=naive_forecast)\n",
        "naive_results"
      ],
      "metadata": {
        "colab": {
          "base_uri": "https://localhost:8080/"
        },
        "id": "x7es2RpTkshz",
        "outputId": "b695bcbf-a561-4011-8427-32d8779e792a"
      },
      "execution_count": 25,
      "outputs": [
        {
          "output_type": "execute_result",
          "data": {
            "text/plain": [
              "{'mae': 567.9802,\n",
              " 'mse': 1147547.0,\n",
              " 'rmse': 1071.2362,\n",
              " 'mape': 2.516525,\n",
              " 'mase': 0.99957}"
            ]
          },
          "metadata": {},
          "execution_count": 25
        }
      ]
    },
    {
      "cell_type": "markdown",
      "source": [
        "### Other models/libraries for time series forecasting\n",
        "  * Moving average\n",
        "  * ARIMA (AutoRegression Integrated Moving Average)\n",
        "  * Sktime (Scikit-learn for time series)\n",
        "  * TensorFlow Decision Forecasts (random forest, gradient boosting trees)\n",
        "  * Facebook Kats (purpose built forecasting and time series analysis library by facebook)\n",
        "  * LinkedIn Greykite (flexible, intuitive and fast forecasts)\n"
      ],
      "metadata": {
        "id": "TV-DO7-MluR4"
      }
    },
    {
      "cell_type": "markdown",
      "source": [
        "### Windowing dataset"
      ],
      "metadata": {
        "id": "I22RSH9sn3ln"
      }
    },
    {
      "cell_type": "code",
      "source": [
        "HORIZON = 1           # Predict 1 step at a time\n",
        "WINDOW_SIZE = 7       # Use a week worth of timestamps to predict the horizon"
      ],
      "metadata": {
        "id": "a70thobTlPuh"
      },
      "execution_count": 26,
      "outputs": []
    },
    {
      "cell_type": "code",
      "source": [
        "# Create a function to label windowed data\n",
        "\n",
        "def get_labelled_windows(x, horizon=1):\n",
        "\n",
        "  return x[:,:-horizon], x[:,-horizon:]"
      ],
      "metadata": {
        "id": "VPKDC6yciCQY"
      },
      "execution_count": 27,
      "outputs": []
    },
    {
      "cell_type": "code",
      "source": [
        "# Test out the window labelling function\n",
        "\n",
        "test_window, test_label = get_labelled_windows(tf.expand_dims(tf.range(8)+1, axis=0), horizon=HORIZON)\n",
        "print(f\"Window: {test_window} -> Label: {test_label}\")"
      ],
      "metadata": {
        "colab": {
          "base_uri": "https://localhost:8080/"
        },
        "id": "IUX9-nrCigQh",
        "outputId": "3b680202-3dfb-4a37-b2f1-12b26a076ae9"
      },
      "execution_count": 28,
      "outputs": [
        {
          "output_type": "stream",
          "name": "stdout",
          "text": [
            "Window: [[1 2 3 4 5 6 7]] -> Label: [[8]]\n"
          ]
        }
      ]
    },
    {
      "cell_type": "code",
      "source": [
        "# Create a function to view NumPy arrays as windows\n",
        "\n",
        "def make_windows(x, window_size=7, horizon=1):\n",
        "\n",
        "  # 1. Create a window of specific window size (add the horizon on the end for later labelling)\n",
        "  window_step = np.expand_dims(np.arange(window_size+horizon), axis=0)\n",
        "\n",
        "  # 2. Create a 2D array of multiple window steps (minus 1 to account for zero indexing)\n",
        "  window_indexes = window_step + np.expand_dims(np.arange(len(x) - (window_size+horizon-1)), axis=0).T\n",
        "\n",
        "  # 3. Index on the target array (time series) with 2D array of multiple window steps\n",
        "  windowed_array = x[window_indexes]\n",
        "\n",
        "  # 4. Get the labelled windows\n",
        "  windows, labels = get_labelled_windows(windowed_array, horizon=horizon)\n",
        "\n",
        "  return windows, labels"
      ],
      "metadata": {
        "id": "gpxsb2UFjMnm"
      },
      "execution_count": 29,
      "outputs": []
    },
    {
      "cell_type": "code",
      "source": [
        "full_windows, full_labels = make_windows(prices, window_size=WINDOW_SIZE, horizon=HORIZON)\n",
        "len(full_windows), len(full_labels)"
      ],
      "metadata": {
        "colab": {
          "base_uri": "https://localhost:8080/"
        },
        "id": "_5vi0FoVmn6E",
        "outputId": "6d83b176-3160-41f2-cb83-3ef7775d9b12"
      },
      "execution_count": 30,
      "outputs": [
        {
          "output_type": "execute_result",
          "data": {
            "text/plain": [
              "(2780, 2780)"
            ]
          },
          "metadata": {},
          "execution_count": 30
        }
      ]
    },
    {
      "cell_type": "code",
      "source": [
        "# View the first three windows/labels\n",
        "\n",
        "for i in range(3):\n",
        "  print(f\"Window: {full_windows[i]} -> Label: {full_labels[i]}\")"
      ],
      "metadata": {
        "colab": {
          "base_uri": "https://localhost:8080/"
        },
        "id": "3cp-Yq6Kodhs",
        "outputId": "789aeb3e-62d6-4a0d-da42-66b2f2c2dceb"
      },
      "execution_count": 31,
      "outputs": [
        {
          "output_type": "stream",
          "name": "stdout",
          "text": [
            "Window: [123.65499 125.455   108.58483 118.67466 121.33866 120.65533 121.795  ] -> Label: [123.033]\n",
            "Window: [125.455   108.58483 118.67466 121.33866 120.65533 121.795   123.033  ] -> Label: [124.049]\n",
            "Window: [108.58483 118.67466 121.33866 120.65533 121.795   123.033   124.049  ] -> Label: [125.96116]\n"
          ]
        }
      ]
    },
    {
      "cell_type": "markdown",
      "source": [
        "### Turning windows into training and test sets"
      ],
      "metadata": {
        "id": "L1GLRpXNplZa"
      }
    },
    {
      "cell_type": "code",
      "source": [
        "# Make the train test split\n",
        "\n",
        "def make_train_test_split(windows, labels, test_split=0.2):\n",
        "\n",
        "  split_size = int(len(windows) * (1-test_split))\n",
        "  train_windows = windows[:split_size]\n",
        "  train_labels = labels[:split_size]\n",
        "  test_windows = windows[split_size:]\n",
        "  test_labels = labels[split_size:]\n",
        "\n",
        "  return train_windows, test_windows, train_labels, test_labels"
      ],
      "metadata": {
        "id": "Z_Lz-h6HpRke"
      },
      "execution_count": 32,
      "outputs": []
    },
    {
      "cell_type": "code",
      "source": [
        "train_windows, test_windows, train_labels, test_labels = make_train_test_split(full_windows, full_labels)\n",
        "len(train_windows), len(test_windows), len(train_labels), len(test_labels)"
      ],
      "metadata": {
        "colab": {
          "base_uri": "https://localhost:8080/"
        },
        "id": "TJwMFnKArrGT",
        "outputId": "d0529635-2207-402e-dcfe-5ea63e2761ac"
      },
      "execution_count": 33,
      "outputs": [
        {
          "output_type": "execute_result",
          "data": {
            "text/plain": [
              "(2224, 556, 2224, 556)"
            ]
          },
          "metadata": {},
          "execution_count": 33
        }
      ]
    },
    {
      "cell_type": "code",
      "source": [
        "train_windows[:5], train_labels[:5]"
      ],
      "metadata": {
        "colab": {
          "base_uri": "https://localhost:8080/"
        },
        "id": "mdae9nPmr-TP",
        "outputId": "03052558-7423-453a-8ed4-285b696e75d9"
      },
      "execution_count": 34,
      "outputs": [
        {
          "output_type": "execute_result",
          "data": {
            "text/plain": [
              "(array([[123.65499, 125.455  , 108.58483, 118.67466, 121.33866, 120.65533,\n",
              "         121.795  ],\n",
              "        [125.455  , 108.58483, 118.67466, 121.33866, 120.65533, 121.795  ,\n",
              "         123.033  ],\n",
              "        [108.58483, 118.67466, 121.33866, 120.65533, 121.795  , 123.033  ,\n",
              "         124.049  ],\n",
              "        [118.67466, 121.33866, 120.65533, 121.795  , 123.033  , 124.049  ,\n",
              "         125.96116],\n",
              "        [121.33866, 120.65533, 121.795  , 123.033  , 124.049  , 125.96116,\n",
              "         125.27966]]), array([[123.033  ],\n",
              "        [124.049  ],\n",
              "        [125.96116],\n",
              "        [125.27966],\n",
              "        [125.9275 ]]))"
            ]
          },
          "metadata": {},
          "execution_count": 34
        }
      ]
    },
    {
      "cell_type": "markdown",
      "source": [
        "### Make modelling checkpoint"
      ],
      "metadata": {
        "id": "TgtlgPZPsjEu"
      }
    },
    {
      "cell_type": "code",
      "source": [
        "import os\n",
        "\n",
        "# Create a function ti implement model checkpoint callback with a specific filename\n",
        "\n",
        "def create_model_checkpoint(model_name, save_path=\"model_experiments\"):\n",
        "  \n",
        "  return tf.keras.callbacks.ModelCheckpoint(filepath=os.path.join(save_path, model_name),\n",
        "                                            verbose=0,\n",
        "                                            save_best_only=True)"
      ],
      "metadata": {
        "id": "qFXvvNMYslwM"
      },
      "execution_count": 35,
      "outputs": []
    },
    {
      "cell_type": "markdown",
      "source": [
        "### Model 1: Dense model (window = 7, horizon = 1)"
      ],
      "metadata": {
        "id": "Z9baqLMTd2nL"
      }
    },
    {
      "cell_type": "code",
      "source": [
        "import tensorflow as tf\n",
        "from tensorflow.keras import layers\n",
        "\n",
        "# Set seed\n",
        "tf.random.set_seed(42)\n",
        "\n",
        "# Construct model\n",
        "model_1 = tf.keras.Sequential([\n",
        "    layers.Dense(128, activation=\"relu\"),\n",
        "    layers.Dense(HORIZON, activation=\"linear\")\n",
        "], name=\"model_1_dense\")\n",
        "\n",
        "# Compile model\n",
        "model_1.compile(loss=\"mae\",\n",
        "                optimizer=tf.keras.optimizers.Adam(),\n",
        "                metrics=[\"mae\"])\n",
        "\n",
        "# Fit model\n",
        "model_1.fit(x=train_windows,\n",
        "            y=train_labels,\n",
        "            epochs=100,\n",
        "            verbose=1,\n",
        "            batch_size=128,\n",
        "            validation_data=(test_windows, test_labels),\n",
        "            callbacks=[create_model_checkpoint(model_name=model_1.name)])"
      ],
      "metadata": {
        "colab": {
          "base_uri": "https://localhost:8080/"
        },
        "id": "N3JjZ0mzu6_9",
        "outputId": "fce0c2e6-0032-4050-9dfe-438f13925e8b"
      },
      "execution_count": 36,
      "outputs": [
        {
          "output_type": "stream",
          "name": "stdout",
          "text": [
            "Epoch 1/100\n",
            "15/18 [========================>.....] - ETA: 0s - loss: 2984.9275 - mae: 2984.9275  "
          ]
        },
        {
          "output_type": "stream",
          "name": "stderr",
          "text": [
            "WARNING:absl:Found untraced functions such as _update_step_xla while saving (showing 1 of 1). These functions will not be directly callable after loading.\n"
          ]
        },
        {
          "output_type": "stream",
          "name": "stdout",
          "text": [
            "\b\b\b\b\b\b\b\b\b\b\b\b\b\b\b\b\b\b\b\b\b\b\b\b\b\b\b\b\b\b\b\b\b\b\b\b\b\b\b\b\b\b\b\b\b\b\b\b\b\b\b\b\b\b\b\b\b\b\b\b\b\b\b\b\b\b\b\b\b\b\b\b\b\b\b\b\b\b\b\b\b\b\b\r18/18 [==============================] - 8s 74ms/step - loss: 2792.8274 - mae: 2792.8274 - val_loss: 6771.1440 - val_mae: 6771.1440\n",
            "Epoch 2/100\n",
            "15/18 [========================>.....] - ETA: 0s - loss: 453.0300 - mae: 453.0300"
          ]
        },
        {
          "output_type": "stream",
          "name": "stderr",
          "text": [
            "WARNING:absl:Found untraced functions such as _update_step_xla while saving (showing 1 of 1). These functions will not be directly callable after loading.\n"
          ]
        },
        {
          "output_type": "stream",
          "name": "stdout",
          "text": [
            "\b\b\b\b\b\b\b\b\b\b\b\b\b\b\b\b\b\b\b\b\b\b\b\b\b\b\b\b\b\b\b\b\b\b\b\b\b\b\b\b\b\b\b\b\b\b\b\b\b\b\b\b\b\b\b\b\b\b\b\b\b\b\b\b\b\b\b\b\b\b\b\b\b\b\b\b\b\b\b\b\b\r18/18 [==============================] - 1s 44ms/step - loss: 437.4053 - mae: 437.4053 - val_loss: 1243.5789 - val_mae: 1243.5789\n",
            "Epoch 3/100\n",
            " 1/18 [>.............................] - ETA: 0s - loss: 164.5437 - mae: 164.5437"
          ]
        },
        {
          "output_type": "stream",
          "name": "stderr",
          "text": [
            "WARNING:absl:Found untraced functions such as _update_step_xla while saving (showing 1 of 1). These functions will not be directly callable after loading.\n"
          ]
        },
        {
          "output_type": "stream",
          "name": "stdout",
          "text": [
            "\b\b\b\b\b\b\b\b\b\b\b\b\b\b\b\b\b\b\b\b\b\b\b\b\b\b\b\b\b\b\b\b\b\b\b\b\b\b\b\b\b\b\b\b\b\b\b\b\b\b\b\b\b\b\b\b\b\b\b\b\b\b\b\b\b\b\b\b\b\b\b\b\b\b\b\b\b\b\b\b\b\r18/18 [==============================] - 0s 27ms/step - loss: 204.0314 - mae: 204.0314 - val_loss: 1005.4094 - val_mae: 1005.4094\n",
            "Epoch 4/100\n",
            " 1/18 [>.............................] - ETA: 0s - loss: 245.0219 - mae: 245.0219"
          ]
        },
        {
          "output_type": "stream",
          "name": "stderr",
          "text": [
            "WARNING:absl:Found untraced functions such as _update_step_xla while saving (showing 1 of 1). These functions will not be directly callable after loading.\n"
          ]
        },
        {
          "output_type": "stream",
          "name": "stdout",
          "text": [
            "\b\b\b\b\b\b\b\b\b\b\b\b\b\b\b\b\b\b\b\b\b\b\b\b\b\b\b\b\b\b\b\b\b\b\b\b\b\b\b\b\b\b\b\b\b\b\b\b\b\b\b\b\b\b\b\b\b\b\b\b\b\b\b\b\b\b\b\b\b\b\b\b\b\b\b\b\b\b\b\b\b\r18/18 [==============================] - 0s 27ms/step - loss: 178.4635 - mae: 178.4635 - val_loss: 962.5963 - val_mae: 962.5963\n",
            "Epoch 5/100\n",
            " 1/18 [>.............................] - ETA: 0s - loss: 196.0441 - mae: 196.0441"
          ]
        },
        {
          "output_type": "stream",
          "name": "stderr",
          "text": [
            "WARNING:absl:Found untraced functions such as _update_step_xla while saving (showing 1 of 1). These functions will not be directly callable after loading.\n"
          ]
        },
        {
          "output_type": "stream",
          "name": "stdout",
          "text": [
            "\b\b\b\b\b\b\b\b\b\b\b\b\b\b\b\b\b\b\b\b\b\b\b\b\b\b\b\b\b\b\b\b\b\b\b\b\b\b\b\b\b\b\b\b\b\b\b\b\b\b\b\b\b\b\b\b\b\b\b\b\b\b\b\b\b\b\b\b\b\b\b\b\b\b\b\b\b\b\b\b\b\r18/18 [==============================] - 0s 26ms/step - loss: 168.5961 - mae: 168.5961 - val_loss: 923.7477 - val_mae: 923.7477\n",
            "Epoch 6/100\n",
            " 1/18 [>.............................] - ETA: 0s - loss: 123.2668 - mae: 123.2668"
          ]
        },
        {
          "output_type": "stream",
          "name": "stderr",
          "text": [
            "WARNING:absl:Found untraced functions such as _update_step_xla while saving (showing 1 of 1). These functions will not be directly callable after loading.\n"
          ]
        },
        {
          "output_type": "stream",
          "name": "stdout",
          "text": [
            "\b\b\b\b\b\b\b\b\b\b\b\b\b\b\b\b\b\b\b\b\b\b\b\b\b\b\b\b\b\b\b\b\b\b\b\b\b\b\b\b\b\b\b\b\b\b\b\b\b\b\b\b\b\b\b\b\b\b\b\b\b\b\b\b\b\b\b\b\b\b\b\b\b\b\b\b\b\b\b\b\b\r18/18 [==============================] - 1s 34ms/step - loss: 165.4332 - mae: 165.4332 - val_loss: 922.6266 - val_mae: 922.6266\n",
            "Epoch 7/100\n",
            "16/18 [=========================>....] - ETA: 0s - loss: 167.0779 - mae: 167.0779"
          ]
        },
        {
          "output_type": "stream",
          "name": "stderr",
          "text": [
            "WARNING:absl:Found untraced functions such as _update_step_xla while saving (showing 1 of 1). These functions will not be directly callable after loading.\n"
          ]
        },
        {
          "output_type": "stream",
          "name": "stdout",
          "text": [
            "\b\b\b\b\b\b\b\b\b\b\b\b\b\b\b\b\b\b\b\b\b\b\b\b\b\b\b\b\b\b\b\b\b\b\b\b\b\b\b\b\b\b\b\b\b\b\b\b\b\b\b\b\b\b\b\b\b\b\b\b\b\b\b\b\b\b\b\b\b\b\b\b\b\b\b\b\b\b\b\b\b\r18/18 [==============================] - 1s 39ms/step - loss: 162.2077 - mae: 162.2077 - val_loss: 911.4918 - val_mae: 911.4918\n",
            "Epoch 8/100\n",
            "15/18 [========================>.....] - ETA: 0s - loss: 157.1893 - mae: 157.1893"
          ]
        },
        {
          "output_type": "stream",
          "name": "stderr",
          "text": [
            "WARNING:absl:Found untraced functions such as _update_step_xla while saving (showing 1 of 1). These functions will not be directly callable after loading.\n"
          ]
        },
        {
          "output_type": "stream",
          "name": "stdout",
          "text": [
            "\b\b\b\b\b\b\b\b\b\b\b\b\b\b\b\b\b\b\b\b\b\b\b\b\b\b\b\b\b\b\b\b\b\b\b\b\b\b\b\b\b\b\b\b\b\b\b\b\b\b\b\b\b\b\b\b\b\b\b\b\b\b\b\b\b\b\b\b\b\b\b\b\b\b\b\b\b\b\b\b\b\r18/18 [==============================] - 1s 39ms/step - loss: 160.7573 - mae: 160.7573 - val_loss: 888.7836 - val_mae: 888.7836\n",
            "Epoch 9/100\n",
            "18/18 [==============================] - 0s 7ms/step - loss: 157.8822 - mae: 157.8822 - val_loss: 894.6210 - val_mae: 894.6210\n",
            "Epoch 10/100\n",
            "16/18 [=========================>....] - ETA: 0s - loss: 153.4341 - mae: 153.4341"
          ]
        },
        {
          "output_type": "stream",
          "name": "stderr",
          "text": [
            "WARNING:absl:Found untraced functions such as _update_step_xla while saving (showing 1 of 1). These functions will not be directly callable after loading.\n"
          ]
        },
        {
          "output_type": "stream",
          "name": "stdout",
          "text": [
            "\b\b\b\b\b\b\b\b\b\b\b\b\b\b\b\b\b\b\b\b\b\b\b\b\b\b\b\b\b\b\b\b\b\b\b\b\b\b\b\b\b\b\b\b\b\b\b\b\b\b\b\b\b\b\b\b\b\b\b\b\b\b\b\b\b\b\b\b\b\b\b\b\b\b\b\b\b\b\b\b\b\r18/18 [==============================] - 1s 32ms/step - loss: 155.5412 - mae: 155.5412 - val_loss: 867.1402 - val_mae: 867.1402\n",
            "Epoch 11/100\n",
            "18/18 [==============================] - ETA: 0s - loss: 153.8750 - mae: 153.8750"
          ]
        },
        {
          "output_type": "stream",
          "name": "stderr",
          "text": [
            "WARNING:absl:Found untraced functions such as _update_step_xla while saving (showing 1 of 1). These functions will not be directly callable after loading.\n"
          ]
        },
        {
          "output_type": "stream",
          "name": "stdout",
          "text": [
            "\b\b\b\b\b\b\b\b\b\b\b\b\b\b\b\b\b\b\b\b\b\b\b\b\b\b\b\b\b\b\b\b\b\b\b\b\b\b\b\b\b\b\b\b\b\b\b\b\b\b\b\b\b\b\b\b\b\b\b\b\b\b\b\b\b\b\b\b\b\b\b\b\b\b\b\b\b\b\b\b\b\r18/18 [==============================] - 0s 27ms/step - loss: 153.8750 - mae: 153.8750 - val_loss: 856.8818 - val_mae: 856.8818\n",
            "Epoch 12/100\n",
            "18/18 [==============================] - 0s 5ms/step - loss: 151.5387 - mae: 151.5387 - val_loss: 908.5610 - val_mae: 908.5610\n",
            "Epoch 13/100\n",
            " 1/18 [>.............................] - ETA: 0s - loss: 120.5249 - mae: 120.5249"
          ]
        },
        {
          "output_type": "stream",
          "name": "stderr",
          "text": [
            "WARNING:absl:Found untraced functions such as _update_step_xla while saving (showing 1 of 1). These functions will not be directly callable after loading.\n"
          ]
        },
        {
          "output_type": "stream",
          "name": "stdout",
          "text": [
            "\b\b\b\b\b\b\b\b\b\b\b\b\b\b\b\b\b\b\b\b\b\b\b\b\b\b\b\b\b\b\b\b\b\b\b\b\b\b\b\b\b\b\b\b\b\b\b\b\b\b\b\b\b\b\b\b\b\b\b\b\b\b\b\b\b\b\b\b\b\b\b\b\b\b\b\b\b\b\b\b\b\r18/18 [==============================] - 1s 37ms/step - loss: 149.3720 - mae: 149.3720 - val_loss: 835.9690 - val_mae: 835.9690\n",
            "Epoch 14/100\n",
            "18/18 [==============================] - 0s 6ms/step - loss: 145.8603 - mae: 145.8603 - val_loss: 852.0877 - val_mae: 852.0877\n",
            "Epoch 15/100\n",
            " 1/18 [>.............................] - ETA: 0s - loss: 148.6620 - mae: 148.6620"
          ]
        },
        {
          "output_type": "stream",
          "name": "stderr",
          "text": [
            "WARNING:absl:Found untraced functions such as _update_step_xla while saving (showing 1 of 1). These functions will not be directly callable after loading.\n"
          ]
        },
        {
          "output_type": "stream",
          "name": "stdout",
          "text": [
            "\b\b\b\b\b\b\b\b\b\b\b\b\b\b\b\b\b\b\b\b\b\b\b\b\b\b\b\b\b\b\b\b\b\b\b\b\b\b\b\b\b\b\b\b\b\b\b\b\b\b\b\b\b\b\b\b\b\b\b\b\b\b\b\b\b\b\b\b\b\b\b\b\b\b\b\b\b\b\b\b\b\r18/18 [==============================] - 0s 25ms/step - loss: 145.5624 - mae: 145.5624 - val_loss: 810.4448 - val_mae: 810.4448\n",
            "Epoch 16/100\n",
            " 1/18 [>.............................] - ETA: 0s - loss: 127.6625 - mae: 127.6625"
          ]
        },
        {
          "output_type": "stream",
          "name": "stderr",
          "text": [
            "WARNING:absl:Found untraced functions such as _update_step_xla while saving (showing 1 of 1). These functions will not be directly callable after loading.\n"
          ]
        },
        {
          "output_type": "stream",
          "name": "stdout",
          "text": [
            "\b\b\b\b\b\b\b\b\b\b\b\b\b\b\b\b\b\b\b\b\b\b\b\b\b\b\b\b\b\b\b\b\b\b\b\b\b\b\b\b\b\b\b\b\b\b\b\b\b\b\b\b\b\b\b\b\b\b\b\b\b\b\b\b\b\b\b\b\b\b\b\b\b\b\b\b\b\b\b\b\b\r18/18 [==============================] - 0s 25ms/step - loss: 142.0930 - mae: 142.0930 - val_loss: 789.5052 - val_mae: 789.5052\n",
            "Epoch 17/100\n",
            "16/18 [=========================>....] - ETA: 0s - loss: 138.8366 - mae: 138.8366"
          ]
        },
        {
          "output_type": "stream",
          "name": "stderr",
          "text": [
            "WARNING:absl:Found untraced functions such as _update_step_xla while saving (showing 1 of 1). These functions will not be directly callable after loading.\n"
          ]
        },
        {
          "output_type": "stream",
          "name": "stdout",
          "text": [
            "\b\b\b\b\b\b\b\b\b\b\b\b\b\b\b\b\b\b\b\b\b\b\b\b\b\b\b\b\b\b\b\b\b\b\b\b\b\b\b\b\b\b\b\b\b\b\b\b\b\b\b\b\b\b\b\b\b\b\b\b\b\b\b\b\b\b\b\b\b\b\b\b\b\b\b\b\b\b\b\b\b\r18/18 [==============================] - 0s 27ms/step - loss: 140.3846 - mae: 140.3846 - val_loss: 785.3118 - val_mae: 785.3118\n",
            "Epoch 18/100\n",
            " 1/18 [>.............................] - ETA: 0s - loss: 149.8324 - mae: 149.8324"
          ]
        },
        {
          "output_type": "stream",
          "name": "stderr",
          "text": [
            "WARNING:absl:Found untraced functions such as _update_step_xla while saving (showing 1 of 1). These functions will not be directly callable after loading.\n"
          ]
        },
        {
          "output_type": "stream",
          "name": "stdout",
          "text": [
            "\b\b\b\b\b\b\b\b\b\b\b\b\b\b\b\b\b\b\b\b\b\b\b\b\b\b\b\b\b\b\b\b\b\b\b\b\b\b\b\b\b\b\b\b\b\b\b\b\b\b\b\b\b\b\b\b\b\b\b\b\b\b\b\b\b\b\b\b\b\b\b\b\b\b\b\b\b\b\b\b\b\r18/18 [==============================] - 0s 26ms/step - loss: 138.9895 - mae: 138.9895 - val_loss: 783.1664 - val_mae: 783.1664\n",
            "Epoch 19/100\n",
            " 1/18 [>.............................] - ETA: 0s - loss: 82.9654 - mae: 82.9654"
          ]
        },
        {
          "output_type": "stream",
          "name": "stderr",
          "text": [
            "WARNING:absl:Found untraced functions such as _update_step_xla while saving (showing 1 of 1). These functions will not be directly callable after loading.\n"
          ]
        },
        {
          "output_type": "stream",
          "name": "stdout",
          "text": [
            "\b\b\b\b\b\b\b\b\b\b\b\b\b\b\b\b\b\b\b\b\b\b\b\b\b\b\b\b\b\b\b\b\b\b\b\b\b\b\b\b\b\b\b\b\b\b\b\b\b\b\b\b\b\b\b\b\b\b\b\b\b\b\b\b\b\b\b\b\b\b\b\b\b\b\b\b\b\b\b\r18/18 [==============================] - 0s 26ms/step - loss: 137.8614 - mae: 137.8614 - val_loss: 755.3826 - val_mae: 755.3826\n",
            "Epoch 20/100\n",
            "18/18 [==============================] - 0s 5ms/step - loss: 139.8889 - mae: 139.8889 - val_loss: 839.7839 - val_mae: 839.7839\n",
            "Epoch 21/100\n",
            " 1/18 [>.............................] - ETA: 0s - loss: 205.2356 - mae: 205.2356"
          ]
        },
        {
          "output_type": "stream",
          "name": "stderr",
          "text": [
            "WARNING:absl:Found untraced functions such as _update_step_xla while saving (showing 1 of 1). These functions will not be directly callable after loading.\n"
          ]
        },
        {
          "output_type": "stream",
          "name": "stdout",
          "text": [
            "\b\b\b\b\b\b\b\b\b\b\b\b\b\b\b\b\b\b\b\b\b\b\b\b\b\b\b\b\b\b\b\b\b\b\b\b\b\b\b\b\b\b\b\b\b\b\b\b\b\b\b\b\b\b\b\b\b\b\b\b\b\b\b\b\b\b\b\b\b\b\b\b\b\b\b\b\b\b\b\b\b\r18/18 [==============================] - 0s 26ms/step - loss: 138.9848 - mae: 138.9848 - val_loss: 737.3987 - val_mae: 737.3987\n",
            "Epoch 22/100\n",
            " 1/18 [>.............................] - ETA: 0s - loss: 189.4345 - mae: 189.4345"
          ]
        },
        {
          "output_type": "stream",
          "name": "stderr",
          "text": [
            "WARNING:absl:Found untraced functions such as _update_step_xla while saving (showing 1 of 1). These functions will not be directly callable after loading.\n"
          ]
        },
        {
          "output_type": "stream",
          "name": "stdout",
          "text": [
            "\b\b\b\b\b\b\b\b\b\b\b\b\b\b\b\b\b\b\b\b\b\b\b\b\b\b\b\b\b\b\b\b\b\b\b\b\b\b\b\b\b\b\b\b\b\b\b\b\b\b\b\b\b\b\b\b\b\b\b\b\b\b\b\b\b\b\b\b\b\b\b\b\b\b\b\b\b\b\b\b\b\r18/18 [==============================] - 0s 27ms/step - loss: 136.9064 - mae: 136.9064 - val_loss: 731.9457 - val_mae: 731.9457\n",
            "Epoch 23/100\n",
            "18/18 [==============================] - 0s 5ms/step - loss: 132.9069 - mae: 132.9069 - val_loss: 769.0769 - val_mae: 769.0769\n",
            "Epoch 24/100\n",
            " 1/18 [>.............................] - ETA: 0s - loss: 149.4797 - mae: 149.4797"
          ]
        },
        {
          "output_type": "stream",
          "name": "stderr",
          "text": [
            "WARNING:absl:Found untraced functions such as _update_step_xla while saving (showing 1 of 1). These functions will not be directly callable after loading.\n"
          ]
        },
        {
          "output_type": "stream",
          "name": "stdout",
          "text": [
            "\b\b\b\b\b\b\b\b\b\b\b\b\b\b\b\b\b\b\b\b\b\b\b\b\b\b\b\b\b\b\b\b\b\b\b\b\b\b\b\b\b\b\b\b\b\b\b\b\b\b\b\b\b\b\b\b\b\b\b\b\b\b\b\b\b\b\b\b\b\b\b\b\b\b\b\b\b\b\b\b\b\r18/18 [==============================] - 0s 26ms/step - loss: 132.8478 - mae: 132.8478 - val_loss: 724.8142 - val_mae: 724.8142\n",
            "Epoch 25/100\n",
            " 1/18 [>.............................] - ETA: 0s - loss: 142.4670 - mae: 142.4670"
          ]
        },
        {
          "output_type": "stream",
          "name": "stderr",
          "text": [
            "WARNING:absl:Found untraced functions such as _update_step_xla while saving (showing 1 of 1). These functions will not be directly callable after loading.\n"
          ]
        },
        {
          "output_type": "stream",
          "name": "stdout",
          "text": [
            "\b\b\b\b\b\b\b\b\b\b\b\b\b\b\b\b\b\b\b\b\b\b\b\b\b\b\b\b\b\b\b\b\b\b\b\b\b\b\b\b\b\b\b\b\b\b\b\b\b\b\b\b\b\b\b\b\b\b\b\b\b\b\b\b\b\b\b\b\b\b\b\b\b\b\b\b\b\b\b\b\b\r18/18 [==============================] - 0s 27ms/step - loss: 131.3701 - mae: 131.3701 - val_loss: 706.4943 - val_mae: 706.4943\n",
            "Epoch 26/100\n",
            " 1/18 [>.............................] - ETA: 0s - loss: 134.6149 - mae: 134.6149"
          ]
        },
        {
          "output_type": "stream",
          "name": "stderr",
          "text": [
            "WARNING:absl:Found untraced functions such as _update_step_xla while saving (showing 1 of 1). These functions will not be directly callable after loading.\n"
          ]
        },
        {
          "output_type": "stream",
          "name": "stdout",
          "text": [
            "\b\b\b\b\b\b\b\b\b\b\b\b\b\b\b\b\b\b\b\b\b\b\b\b\b\b\b\b\b\b\b\b\b\b\b\b\b\b\b\b\b\b\b\b\b\b\b\b\b\b\b\b\b\b\b\b\b\b\b\b\b\b\b\b\b\b\b\b\b\b\b\b\b\b\b\b\b\b\b\b\b\r18/18 [==============================] - 0s 25ms/step - loss: 128.0918 - mae: 128.0918 - val_loss: 697.7194 - val_mae: 697.7194\n",
            "Epoch 27/100\n",
            " 1/18 [>.............................] - ETA: 0s - loss: 184.1137 - mae: 184.1137"
          ]
        },
        {
          "output_type": "stream",
          "name": "stderr",
          "text": [
            "WARNING:absl:Found untraced functions such as _update_step_xla while saving (showing 1 of 1). These functions will not be directly callable after loading.\n"
          ]
        },
        {
          "output_type": "stream",
          "name": "stdout",
          "text": [
            "\b\b\b\b\b\b\b\b\b\b\b\b\b\b\b\b\b\b\b\b\b\b\b\b\b\b\b\b\b\b\b\b\b\b\b\b\b\b\b\b\b\b\b\b\b\b\b\b\b\b\b\b\b\b\b\b\b\b\b\b\b\b\b\b\b\b\b\b\b\b\b\b\b\b\b\b\b\b\b\b\b\r18/18 [==============================] - 0s 26ms/step - loss: 127.3713 - mae: 127.3713 - val_loss: 697.0356 - val_mae: 697.0356\n",
            "Epoch 28/100\n",
            "18/18 [==============================] - ETA: 0s - loss: 125.9728 - mae: 125.9728"
          ]
        },
        {
          "output_type": "stream",
          "name": "stderr",
          "text": [
            "WARNING:absl:Found untraced functions such as _update_step_xla while saving (showing 1 of 1). These functions will not be directly callable after loading.\n"
          ]
        },
        {
          "output_type": "stream",
          "name": "stdout",
          "text": [
            "\b\b\b\b\b\b\b\b\b\b\b\b\b\b\b\b\b\b\b\b\b\b\b\b\b\b\b\b\b\b\b\b\b\b\b\b\b\b\b\b\b\b\b\b\b\b\b\b\b\b\b\b\b\b\b\b\b\b\b\b\b\b\b\b\b\b\b\b\b\b\b\b\b\b\b\b\b\b\b\b\b\r18/18 [==============================] - 0s 27ms/step - loss: 125.9728 - mae: 125.9728 - val_loss: 684.5853 - val_mae: 684.5853\n",
            "Epoch 29/100\n",
            "18/18 [==============================] - 0s 4ms/step - loss: 124.8464 - mae: 124.8464 - val_loss: 685.1221 - val_mae: 685.1221\n",
            "Epoch 30/100\n",
            "18/18 [==============================] - 0s 5ms/step - loss: 127.9214 - mae: 127.9214 - val_loss: 734.0993 - val_mae: 734.0993\n",
            "Epoch 31/100\n",
            "18/18 [==============================] - 0s 4ms/step - loss: 137.4369 - mae: 137.4369 - val_loss: 802.4418 - val_mae: 802.4418\n",
            "Epoch 32/100\n",
            " 1/18 [>.............................] - ETA: 0s - loss: 134.4786 - mae: 134.4786"
          ]
        },
        {
          "output_type": "stream",
          "name": "stderr",
          "text": [
            "WARNING:absl:Found untraced functions such as _update_step_xla while saving (showing 1 of 1). These functions will not be directly callable after loading.\n"
          ]
        },
        {
          "output_type": "stream",
          "name": "stdout",
          "text": [
            "\b\b\b\b\b\b\b\b\b\b\b\b\b\b\b\b\b\b\b\b\b\b\b\b\b\b\b\b\b\b\b\b\b\b\b\b\b\b\b\b\b\b\b\b\b\b\b\b\b\b\b\b\b\b\b\b\b\b\b\b\b\b\b\b\b\b\b\b\b\b\b\b\b\b\b\b\b\b\b\b\b\r18/18 [==============================] - 0s 26ms/step - loss: 135.8405 - mae: 135.8405 - val_loss: 666.8770 - val_mae: 666.8770\n",
            "Epoch 33/100\n",
            "18/18 [==============================] - 0s 5ms/step - loss: 133.3409 - mae: 133.3409 - val_loss: 703.8083 - val_mae: 703.8083\n",
            "Epoch 34/100\n",
            "18/18 [==============================] - 0s 5ms/step - loss: 123.7323 - mae: 123.7323 - val_loss: 683.8082 - val_mae: 683.8082\n",
            "Epoch 35/100\n",
            " 1/18 [>.............................] - ETA: 0s - loss: 123.0161 - mae: 123.0161"
          ]
        },
        {
          "output_type": "stream",
          "name": "stderr",
          "text": [
            "WARNING:absl:Found untraced functions such as _update_step_xla while saving (showing 1 of 1). These functions will not be directly callable after loading.\n"
          ]
        },
        {
          "output_type": "stream",
          "name": "stdout",
          "text": [
            "\b\b\b\b\b\b\b\b\b\b\b\b\b\b\b\b\b\b\b\b\b\b\b\b\b\b\b\b\b\b\b\b\b\b\b\b\b\b\b\b\b\b\b\b\b\b\b\b\b\b\b\b\b\b\b\b\b\b\b\b\b\b\b\b\b\b\b\b\b\b\b\b\b\b\b\b\b\b\b\b\b\r18/18 [==============================] - 0s 26ms/step - loss: 121.5584 - mae: 121.5584 - val_loss: 651.8752 - val_mae: 651.8752\n",
            "Epoch 36/100\n",
            "18/18 [==============================] - 0s 6ms/step - loss: 123.1017 - mae: 123.1017 - val_loss: 699.9052 - val_mae: 699.9052\n",
            "Epoch 37/100\n",
            " 1/18 [>.............................] - ETA: 0s - loss: 151.9223 - mae: 151.9223"
          ]
        },
        {
          "output_type": "stream",
          "name": "stderr",
          "text": [
            "WARNING:absl:Found untraced functions such as _update_step_xla while saving (showing 1 of 1). These functions will not be directly callable after loading.\n"
          ]
        },
        {
          "output_type": "stream",
          "name": "stdout",
          "text": [
            "\b\b\b\b\b\b\b\b\b\b\b\b\b\b\b\b\b\b\b\b\b\b\b\b\b\b\b\b\b\b\b\b\b\b\b\b\b\b\b\b\b\b\b\b\b\b\b\b\b\b\b\b\b\b\b\b\b\b\b\b\b\b\b\b\b\b\b\b\b\b\b\b\b\b\b\b\b\b\b\b\b\r18/18 [==============================] - 1s 39ms/step - loss: 121.1165 - mae: 121.1165 - val_loss: 643.9358 - val_mae: 643.9358\n",
            "Epoch 38/100\n",
            " 1/18 [>.............................] - ETA: 0s - loss: 108.6671 - mae: 108.6671"
          ]
        },
        {
          "output_type": "stream",
          "name": "stderr",
          "text": [
            "WARNING:absl:Found untraced functions such as _update_step_xla while saving (showing 1 of 1). These functions will not be directly callable after loading.\n"
          ]
        },
        {
          "output_type": "stream",
          "name": "stdout",
          "text": [
            "\b\b\b\b\b\b\b\b\b\b\b\b\b\b\b\b\b\b\b\b\b\b\b\b\b\b\b\b\b\b\b\b\b\b\b\b\b\b\b\b\b\b\b\b\b\b\b\b\b\b\b\b\b\b\b\b\b\b\b\b\b\b\b\b\b\b\b\b\b\b\b\b\b\b\b\b\b\b\b\b\b\r18/18 [==============================] - 0s 27ms/step - loss: 119.2574 - mae: 119.2574 - val_loss: 639.9243 - val_mae: 639.9243\n",
            "Epoch 39/100\n",
            " 1/18 [>.............................] - ETA: 0s - loss: 134.2945 - mae: 134.2945"
          ]
        },
        {
          "output_type": "stream",
          "name": "stderr",
          "text": [
            "WARNING:absl:Found untraced functions such as _update_step_xla while saving (showing 1 of 1). These functions will not be directly callable after loading.\n"
          ]
        },
        {
          "output_type": "stream",
          "name": "stdout",
          "text": [
            "\b\b\b\b\b\b\b\b\b\b\b\b\b\b\b\b\b\b\b\b\b\b\b\b\b\b\b\b\b\b\b\b\b\b\b\b\b\b\b\b\b\b\b\b\b\b\b\b\b\b\b\b\b\b\b\b\b\b\b\b\b\b\b\b\b\b\b\b\b\b\b\b\b\b\b\b\b\b\b\b\b\r18/18 [==============================] - 1s 34ms/step - loss: 118.0552 - mae: 118.0552 - val_loss: 636.9905 - val_mae: 636.9905\n",
            "Epoch 40/100\n",
            "18/18 [==============================] - 0s 7ms/step - loss: 118.4838 - mae: 118.4838 - val_loss: 640.7458 - val_mae: 640.7458\n",
            "Epoch 41/100\n",
            "15/18 [========================>.....] - ETA: 0s - loss: 125.2561 - mae: 125.2561"
          ]
        },
        {
          "output_type": "stream",
          "name": "stderr",
          "text": [
            "WARNING:absl:Found untraced functions such as _update_step_xla while saving (showing 1 of 1). These functions will not be directly callable after loading.\n"
          ]
        },
        {
          "output_type": "stream",
          "name": "stdout",
          "text": [
            "\b\b\b\b\b\b\b\b\b\b\b\b\b\b\b\b\b\b\b\b\b\b\b\b\b\b\b\b\b\b\b\b\b\b\b\b\b\b\b\b\b\b\b\b\b\b\b\b\b\b\b\b\b\b\b\b\b\b\b\b\b\b\b\b\b\b\b\b\b\b\b\b\b\b\b\b\b\b\b\b\b\r18/18 [==============================] - 1s 39ms/step - loss: 121.0080 - mae: 121.0080 - val_loss: 630.4504 - val_mae: 630.4504\n",
            "Epoch 42/100\n",
            "18/18 [==============================] - 0s 7ms/step - loss: 121.0474 - mae: 121.0474 - val_loss: 633.1525 - val_mae: 633.1525\n",
            "Epoch 43/100\n",
            "18/18 [==============================] - 0s 6ms/step - loss: 118.3213 - mae: 118.3213 - val_loss: 653.6290 - val_mae: 653.6290\n",
            "Epoch 44/100\n",
            "18/18 [==============================] - 0s 7ms/step - loss: 118.3940 - mae: 118.3940 - val_loss: 630.8380 - val_mae: 630.8380\n",
            "Epoch 45/100\n",
            "13/18 [====================>.........] - ETA: 0s - loss: 117.9882 - mae: 117.9882"
          ]
        },
        {
          "output_type": "stream",
          "name": "stderr",
          "text": [
            "WARNING:absl:Found untraced functions such as _update_step_xla while saving (showing 1 of 1). These functions will not be directly callable after loading.\n"
          ]
        },
        {
          "output_type": "stream",
          "name": "stdout",
          "text": [
            "\b\b\b\b\b\b\b\b\b\b\b\b\b\b\b\b\b\b\b\b\b\b\b\b\b\b\b\b\b\b\b\b\b\b\b\b\b\b\b\b\b\b\b\b\b\b\b\b\b\b\b\b\b\b\b\b\b\b\b\b\b\b\b\b\b\b\b\b\b\b\b\b\b\b\b\b\b\b\b\b\b\r18/18 [==============================] - 1s 36ms/step - loss: 118.5964 - mae: 118.5964 - val_loss: 621.2770 - val_mae: 621.2770\n",
            "Epoch 46/100\n",
            " 1/18 [>.............................] - ETA: 0s - loss: 90.0629 - mae: 90.0629"
          ]
        },
        {
          "output_type": "stream",
          "name": "stderr",
          "text": [
            "WARNING:absl:Found untraced functions such as _update_step_xla while saving (showing 1 of 1). These functions will not be directly callable after loading.\n"
          ]
        },
        {
          "output_type": "stream",
          "name": "stdout",
          "text": [
            "\b\b\b\b\b\b\b\b\b\b\b\b\b\b\b\b\b\b\b\b\b\b\b\b\b\b\b\b\b\b\b\b\b\b\b\b\b\b\b\b\b\b\b\b\b\b\b\b\b\b\b\b\b\b\b\b\b\b\b\b\b\b\b\b\b\b\b\b\b\b\b\b\b\b\b\b\b\b\b\r18/18 [==============================] - 0s 25ms/step - loss: 116.1819 - mae: 116.1819 - val_loss: 620.5330 - val_mae: 620.5330\n",
            "Epoch 47/100\n",
            "18/18 [==============================] - 0s 5ms/step - loss: 123.3558 - mae: 123.3558 - val_loss: 657.0375 - val_mae: 657.0375\n",
            "Epoch 48/100\n",
            "18/18 [==============================] - 0s 4ms/step - loss: 119.7902 - mae: 119.7902 - val_loss: 704.0484 - val_mae: 704.0484\n",
            "Epoch 49/100\n",
            "18/18 [==============================] - 0s 4ms/step - loss: 117.9071 - mae: 117.9071 - val_loss: 624.3547 - val_mae: 624.3547\n",
            "Epoch 50/100\n",
            " 1/18 [>.............................] - ETA: 0s - loss: 134.3234 - mae: 134.3234"
          ]
        },
        {
          "output_type": "stream",
          "name": "stderr",
          "text": [
            "WARNING:absl:Found untraced functions such as _update_step_xla while saving (showing 1 of 1). These functions will not be directly callable after loading.\n"
          ]
        },
        {
          "output_type": "stream",
          "name": "stdout",
          "text": [
            "\b\b\b\b\b\b\b\b\b\b\b\b\b\b\b\b\b\b\b\b\b\b\b\b\b\b\b\b\b\b\b\b\b\b\b\b\b\b\b\b\b\b\b\b\b\b\b\b\b\b\b\b\b\b\b\b\b\b\b\b\b\b\b\b\b\b\b\b\b\b\b\b\b\b\b\b\b\b\b\b\b\r18/18 [==============================] - 0s 26ms/step - loss: 114.7172 - mae: 114.7172 - val_loss: 610.8628 - val_mae: 610.8628\n",
            "Epoch 51/100\n",
            "18/18 [==============================] - 0s 4ms/step - loss: 113.9080 - mae: 113.9080 - val_loss: 623.8072 - val_mae: 623.8072\n",
            "Epoch 52/100\n",
            "18/18 [==============================] - 0s 4ms/step - loss: 116.1522 - mae: 116.1522 - val_loss: 611.8519 - val_mae: 611.8519\n",
            "Epoch 53/100\n",
            "18/18 [==============================] - 0s 5ms/step - loss: 115.9080 - mae: 115.9080 - val_loss: 624.1317 - val_mae: 624.1317\n",
            "Epoch 54/100\n",
            "18/18 [==============================] - 0s 5ms/step - loss: 115.0345 - mae: 115.0345 - val_loss: 683.2748 - val_mae: 683.2748\n",
            "Epoch 55/100\n",
            " 1/18 [>.............................] - ETA: 0s - loss: 141.6559 - mae: 141.6559"
          ]
        },
        {
          "output_type": "stream",
          "name": "stderr",
          "text": [
            "WARNING:absl:Found untraced functions such as _update_step_xla while saving (showing 1 of 1). These functions will not be directly callable after loading.\n"
          ]
        },
        {
          "output_type": "stream",
          "name": "stdout",
          "text": [
            "\b\b\b\b\b\b\b\b\b\b\b\b\b\b\b\b\b\b\b\b\b\b\b\b\b\b\b\b\b\b\b\b\b\b\b\b\b\b\b\b\b\b\b\b\b\b\b\b\b\b\b\b\b\b\b\b\b\b\b\b\b\b\b\b\b\b\b\b\b\b\b\b\b\b\b\b\b\b\b\b\b\r18/18 [==============================] - 0s 25ms/step - loss: 117.5023 - mae: 117.5023 - val_loss: 605.0751 - val_mae: 605.0751\n",
            "Epoch 56/100\n",
            "18/18 [==============================] - 0s 4ms/step - loss: 114.6613 - mae: 114.6613 - val_loss: 788.2012 - val_mae: 788.2012\n",
            "Epoch 57/100\n",
            "18/18 [==============================] - 0s 4ms/step - loss: 136.1851 - mae: 136.1851 - val_loss: 619.0658 - val_mae: 619.0658\n",
            "Epoch 58/100\n",
            "18/18 [==============================] - 0s 5ms/step - loss: 121.2559 - mae: 121.2559 - val_loss: 633.3699 - val_mae: 633.3699\n",
            "Epoch 59/100\n",
            "18/18 [==============================] - 0s 5ms/step - loss: 111.4363 - mae: 111.4363 - val_loss: 623.1607 - val_mae: 623.1607\n",
            "Epoch 60/100\n",
            " 1/18 [>.............................] - ETA: 0s - loss: 98.4287 - mae: 98.4287"
          ]
        },
        {
          "output_type": "stream",
          "name": "stderr",
          "text": [
            "WARNING:absl:Found untraced functions such as _update_step_xla while saving (showing 1 of 1). These functions will not be directly callable after loading.\n"
          ]
        },
        {
          "output_type": "stream",
          "name": "stdout",
          "text": [
            "\b\b\b\b\b\b\b\b\b\b\b\b\b\b\b\b\b\b\b\b\b\b\b\b\b\b\b\b\b\b\b\b\b\b\b\b\b\b\b\b\b\b\b\b\b\b\b\b\b\b\b\b\b\b\b\b\b\b\b\b\b\b\b\b\b\b\b\b\b\b\b\b\b\b\b\b\b\b\b\r18/18 [==============================] - 0s 27ms/step - loss: 113.0977 - mae: 113.0977 - val_loss: 603.2831 - val_mae: 603.2831\n",
            "Epoch 61/100\n",
            " 1/18 [>.............................] - ETA: 0s - loss: 132.5928 - mae: 132.5928"
          ]
        },
        {
          "output_type": "stream",
          "name": "stderr",
          "text": [
            "WARNING:absl:Found untraced functions such as _update_step_xla while saving (showing 1 of 1). These functions will not be directly callable after loading.\n"
          ]
        },
        {
          "output_type": "stream",
          "name": "stdout",
          "text": [
            "\b\b\b\b\b\b\b\b\b\b\b\b\b\b\b\b\b\b\b\b\b\b\b\b\b\b\b\b\b\b\b\b\b\b\b\b\b\b\b\b\b\b\b\b\b\b\b\b\b\b\b\b\b\b\b\b\b\b\b\b\b\b\b\b\b\b\b\b\b\b\b\b\b\b\b\b\b\b\b\b\b\r18/18 [==============================] - 0s 26ms/step - loss: 112.1185 - mae: 112.1185 - val_loss: 602.0728 - val_mae: 602.0728\n",
            "Epoch 62/100\n",
            " 1/18 [>.............................] - ETA: 0s - loss: 75.4921 - mae: 75.4921"
          ]
        },
        {
          "output_type": "stream",
          "name": "stderr",
          "text": [
            "WARNING:absl:Found untraced functions such as _update_step_xla while saving (showing 1 of 1). These functions will not be directly callable after loading.\n"
          ]
        },
        {
          "output_type": "stream",
          "name": "stdout",
          "text": [
            "\b\b\b\b\b\b\b\b\b\b\b\b\b\b\b\b\b\b\b\b\b\b\b\b\b\b\b\b\b\b\b\b\b\b\b\b\b\b\b\b\b\b\b\b\b\b\b\b\b\b\b\b\b\b\b\b\b\b\b\b\b\b\b\b\b\b\b\b\b\b\b\b\b\b\b\b\b\b\b\r18/18 [==============================] - 0s 26ms/step - loss: 110.5646 - mae: 110.5646 - val_loss: 598.7595 - val_mae: 598.7595\n",
            "Epoch 63/100\n",
            "18/18 [==============================] - 0s 4ms/step - loss: 112.9191 - mae: 112.9191 - val_loss: 626.4710 - val_mae: 626.4710\n",
            "Epoch 64/100\n",
            "18/18 [==============================] - 0s 5ms/step - loss: 113.7597 - mae: 113.7597 - val_loss: 676.6921 - val_mae: 676.6921\n",
            "Epoch 65/100\n",
            "18/18 [==============================] - 0s 5ms/step - loss: 118.0783 - mae: 118.0783 - val_loss: 625.0814 - val_mae: 625.0814\n",
            "Epoch 66/100\n",
            " 1/18 [>.............................] - ETA: 0s - loss: 127.3721 - mae: 127.3721"
          ]
        },
        {
          "output_type": "stream",
          "name": "stderr",
          "text": [
            "WARNING:absl:Found untraced functions such as _update_step_xla while saving (showing 1 of 1). These functions will not be directly callable after loading.\n"
          ]
        },
        {
          "output_type": "stream",
          "name": "stdout",
          "text": [
            "\b\b\b\b\b\b\b\b\b\b\b\b\b\b\b\b\b\b\b\b\b\b\b\b\b\b\b\b\b\b\b\b\b\b\b\b\b\b\b\b\b\b\b\b\b\b\b\b\b\b\b\b\b\b\b\b\b\b\b\b\b\b\b\b\b\b\b\b\b\b\b\b\b\b\b\b\b\b\b\b\b\r18/18 [==============================] - 0s 27ms/step - loss: 112.2707 - mae: 112.2707 - val_loss: 587.7881 - val_mae: 587.7881\n",
            "Epoch 67/100\n",
            "18/18 [==============================] - 0s 4ms/step - loss: 110.2050 - mae: 110.2050 - val_loss: 655.0889 - val_mae: 655.0889\n",
            "Epoch 68/100\n",
            "18/18 [==============================] - 0s 5ms/step - loss: 118.2659 - mae: 118.2659 - val_loss: 717.0062 - val_mae: 717.0062\n",
            "Epoch 69/100\n",
            "18/18 [==============================] - 0s 5ms/step - loss: 123.8724 - mae: 123.8724 - val_loss: 635.4039 - val_mae: 635.4039\n",
            "Epoch 70/100\n",
            "18/18 [==============================] - 0s 4ms/step - loss: 122.3396 - mae: 122.3396 - val_loss: 610.8182 - val_mae: 610.8182\n",
            "Epoch 71/100\n",
            "18/18 [==============================] - 0s 4ms/step - loss: 113.4815 - mae: 113.4815 - val_loss: 607.0884 - val_mae: 607.0884\n",
            "Epoch 72/100\n",
            "17/18 [===========================>..] - ETA: 0s - loss: 109.1140 - mae: 109.1140"
          ]
        },
        {
          "output_type": "stream",
          "name": "stderr",
          "text": [
            "WARNING:absl:Found untraced functions such as _update_step_xla while saving (showing 1 of 1). These functions will not be directly callable after loading.\n"
          ]
        },
        {
          "output_type": "stream",
          "name": "stdout",
          "text": [
            "\b\b\b\b\b\b\b\b\b\b\b\b\b\b\b\b\b\b\b\b\b\b\b\b\b\b\b\b\b\b\b\b\b\b\b\b\b\b\b\b\b\b\b\b\b\b\b\b\b\b\b\b\b\b\b\b\b\b\b\b\b\b\b\b\b\b\b\b\b\b\b\b\b\b\b\b\b\b\b\b\b\r18/18 [==============================] - 0s 27ms/step - loss: 110.7577 - mae: 110.7577 - val_loss: 584.1438 - val_mae: 584.1438\n",
            "Epoch 73/100\n",
            "18/18 [==============================] - 0s 4ms/step - loss: 110.6022 - mae: 110.6022 - val_loss: 599.0655 - val_mae: 599.0655\n",
            "Epoch 74/100\n",
            "18/18 [==============================] - 0s 5ms/step - loss: 110.5365 - mae: 110.5365 - val_loss: 584.3594 - val_mae: 584.3594\n",
            "Epoch 75/100\n",
            " 1/18 [>.............................] - ETA: 0s - loss: 126.6659 - mae: 126.6659"
          ]
        },
        {
          "output_type": "stream",
          "name": "stderr",
          "text": [
            "WARNING:absl:Found untraced functions such as _update_step_xla while saving (showing 1 of 1). These functions will not be directly callable after loading.\n"
          ]
        },
        {
          "output_type": "stream",
          "name": "stdout",
          "text": [
            "\b\b\b\b\b\b\b\b\b\b\b\b\b\b\b\b\b\b\b\b\b\b\b\b\b\b\b\b\b\b\b\b\b\b\b\b\b\b\b\b\b\b\b\b\b\b\b\b\b\b\b\b\b\b\b\b\b\b\b\b\b\b\b\b\b\b\b\b\b\b\b\b\b\b\b\b\b\b\b\b\b\r18/18 [==============================] - 0s 26ms/step - loss: 109.6425 - mae: 109.6425 - val_loss: 582.7119 - val_mae: 582.7119\n",
            "Epoch 76/100\n",
            "18/18 [==============================] - 0s 5ms/step - loss: 111.2667 - mae: 111.2667 - val_loss: 591.9678 - val_mae: 591.9678\n",
            "Epoch 77/100\n",
            "18/18 [==============================] - 0s 4ms/step - loss: 110.4335 - mae: 110.4335 - val_loss: 595.1172 - val_mae: 595.1172\n",
            "Epoch 78/100\n",
            " 1/18 [>.............................] - ETA: 0s - loss: 109.3953 - mae: 109.3953"
          ]
        },
        {
          "output_type": "stream",
          "name": "stderr",
          "text": [
            "WARNING:absl:Found untraced functions such as _update_step_xla while saving (showing 1 of 1). These functions will not be directly callable after loading.\n"
          ]
        },
        {
          "output_type": "stream",
          "name": "stdout",
          "text": [
            "\b\b\b\b\b\b\b\b\b\b\b\b\b\b\b\b\b\b\b\b\b\b\b\b\b\b\b\b\b\b\b\b\b\b\b\b\b\b\b\b\b\b\b\b\b\b\b\b\b\b\b\b\b\b\b\b\b\b\b\b\b\b\b\b\b\b\b\b\b\b\b\b\b\b\b\b\b\b\b\b\b\r18/18 [==============================] - 0s 27ms/step - loss: 110.3391 - mae: 110.3391 - val_loss: 581.2943 - val_mae: 581.2943\n",
            "Epoch 79/100\n",
            "18/18 [==============================] - 0s 4ms/step - loss: 110.0200 - mae: 110.0200 - val_loss: 614.6946 - val_mae: 614.6946\n",
            "Epoch 80/100\n",
            "18/18 [==============================] - 0s 4ms/step - loss: 110.1927 - mae: 110.1927 - val_loss: 591.9525 - val_mae: 591.9525\n",
            "Epoch 81/100\n",
            " 1/18 [>.............................] - ETA: 0s - loss: 94.3894 - mae: 94.3894"
          ]
        },
        {
          "output_type": "stream",
          "name": "stderr",
          "text": [
            "WARNING:absl:Found untraced functions such as _update_step_xla while saving (showing 1 of 1). These functions will not be directly callable after loading.\n"
          ]
        },
        {
          "output_type": "stream",
          "name": "stdout",
          "text": [
            "\b\b\b\b\b\b\b\b\b\b\b\b\b\b\b\b\b\b\b\b\b\b\b\b\b\b\b\b\b\b\b\b\b\b\b\b\b\b\b\b\b\b\b\b\b\b\b\b\b\b\b\b\b\b\b\b\b\b\b\b\b\b\b\b\b\b\b\b\b\b\b\b\b\b\b\b\b\b\b\r18/18 [==============================] - 1s 39ms/step - loss: 108.6993 - mae: 108.6993 - val_loss: 580.1612 - val_mae: 580.1612\n",
            "Epoch 82/100\n",
            " 1/18 [>.............................] - ETA: 0s - loss: 197.6158 - mae: 197.6158"
          ]
        },
        {
          "output_type": "stream",
          "name": "stderr",
          "text": [
            "WARNING:absl:Found untraced functions such as _update_step_xla while saving (showing 1 of 1). These functions will not be directly callable after loading.\n"
          ]
        },
        {
          "output_type": "stream",
          "name": "stdout",
          "text": [
            "\b\b\b\b\b\b\b\b\b\b\b\b\b\b\b\b\b\b\b\b\b\b\b\b\b\b\b\b\b\b\b\b\b\b\b\b\b\b\b\b\b\b\b\b\b\b\b\b\b\b\b\b\b\b\b\b\b\b\b\b\b\b\b\b\b\b\b\b\b\b\b\b\b\b\b\b\b\b\b\b\b\r18/18 [==============================] - 0s 27ms/step - loss: 115.8676 - mae: 115.8676 - val_loss: 576.6942 - val_mae: 576.6942\n",
            "Epoch 83/100\n",
            "18/18 [==============================] - 0s 4ms/step - loss: 112.6341 - mae: 112.6341 - val_loss: 686.2210 - val_mae: 686.2210\n",
            "Epoch 84/100\n",
            "18/18 [==============================] - 0s 4ms/step - loss: 115.1002 - mae: 115.1002 - val_loss: 587.6712 - val_mae: 587.6712\n",
            "Epoch 85/100\n",
            "18/18 [==============================] - 0s 4ms/step - loss: 108.8623 - mae: 108.8623 - val_loss: 590.6817 - val_mae: 590.6817\n",
            "Epoch 86/100\n",
            "18/18 [==============================] - 0s 4ms/step - loss: 111.3760 - mae: 111.3760 - val_loss: 691.9819 - val_mae: 691.9819\n",
            "Epoch 87/100\n",
            "18/18 [==============================] - 0s 5ms/step - loss: 112.4907 - mae: 112.4907 - val_loss: 576.9034 - val_mae: 576.9034\n",
            "Epoch 88/100\n",
            "18/18 [==============================] - 0s 5ms/step - loss: 109.5318 - mae: 109.5318 - val_loss: 586.7981 - val_mae: 586.7981\n",
            "Epoch 89/100\n",
            " 1/18 [>.............................] - ETA: 0s - loss: 102.4863 - mae: 102.4863"
          ]
        },
        {
          "output_type": "stream",
          "name": "stderr",
          "text": [
            "WARNING:absl:Found untraced functions such as _update_step_xla while saving (showing 1 of 1). These functions will not be directly callable after loading.\n"
          ]
        },
        {
          "output_type": "stream",
          "name": "stdout",
          "text": [
            "\b\b\b\b\b\b\b\b\b\b\b\b\b\b\b\b\b\b\b\b\b\b\b\b\b\b\b\b\b\b\b\b\b\b\b\b\b\b\b\b\b\b\b\b\b\b\b\b\b\b\b\b\b\b\b\b\b\b\b\b\b\b\b\b\b\b\b\b\b\b\b\b\b\b\b\b\b\b\b\b\b\r18/18 [==============================] - 0s 26ms/step - loss: 110.6230 - mae: 110.6230 - val_loss: 574.2390 - val_mae: 574.2390\n",
            "Epoch 90/100\n",
            "18/18 [==============================] - 0s 5ms/step - loss: 107.7735 - mae: 107.7735 - val_loss: 611.4883 - val_mae: 611.4883\n",
            "Epoch 91/100\n",
            "18/18 [==============================] - 0s 4ms/step - loss: 110.0776 - mae: 110.0776 - val_loss: 584.3848 - val_mae: 584.3848\n",
            "Epoch 92/100\n",
            " 1/18 [>.............................] - ETA: 0s - loss: 90.1586 - mae: 90.1586"
          ]
        },
        {
          "output_type": "stream",
          "name": "stderr",
          "text": [
            "WARNING:absl:Found untraced functions such as _update_step_xla while saving (showing 1 of 1). These functions will not be directly callable after loading.\n"
          ]
        },
        {
          "output_type": "stream",
          "name": "stdout",
          "text": [
            "\b\b\b\b\b\b\b\b\b\b\b\b\b\b\b\b\b\b\b\b\b\b\b\b\b\b\b\b\b\b\b\b\b\b\b\b\b\b\b\b\b\b\b\b\b\b\b\b\b\b\b\b\b\b\b\b\b\b\b\b\b\b\b\b\b\b\b\b\b\b\b\b\b\b\b\b\b\b\b\r18/18 [==============================] - 0s 25ms/step - loss: 110.5172 - mae: 110.5172 - val_loss: 574.0668 - val_mae: 574.0668\n",
            "Epoch 93/100\n",
            "18/18 [==============================] - 0s 5ms/step - loss: 113.7048 - mae: 113.7048 - val_loss: 635.5768 - val_mae: 635.5768\n",
            "Epoch 94/100\n",
            "18/18 [==============================] - 0s 5ms/step - loss: 110.4218 - mae: 110.4218 - val_loss: 581.6565 - val_mae: 581.6565\n",
            "Epoch 95/100\n",
            "18/18 [==============================] - 0s 5ms/step - loss: 107.4438 - mae: 107.4438 - val_loss: 575.1985 - val_mae: 575.1985\n",
            "Epoch 96/100\n",
            "18/18 [==============================] - 0s 8ms/step - loss: 115.7639 - mae: 115.7639 - val_loss: 628.7607 - val_mae: 628.7607\n",
            "Epoch 97/100\n",
            "18/18 [==============================] - 0s 7ms/step - loss: 110.7228 - mae: 110.7228 - val_loss: 589.8094 - val_mae: 589.8094\n",
            "Epoch 98/100\n",
            "18/18 [==============================] - 0s 7ms/step - loss: 109.0693 - mae: 109.0693 - val_loss: 579.3180 - val_mae: 579.3180\n",
            "Epoch 99/100\n",
            "18/18 [==============================] - 0s 7ms/step - loss: 110.0878 - mae: 110.0878 - val_loss: 579.2951 - val_mae: 579.2951\n",
            "Epoch 100/100\n",
            "18/18 [==============================] - 0s 6ms/step - loss: 110.0947 - mae: 110.0947 - val_loss: 627.6703 - val_mae: 627.6703\n"
          ]
        },
        {
          "output_type": "execute_result",
          "data": {
            "text/plain": [
              "<keras.callbacks.History at 0x7f281c346820>"
            ]
          },
          "metadata": {},
          "execution_count": 36
        }
      ]
    },
    {
      "cell_type": "code",
      "source": [
        "# Evaluate model on test data\n",
        "\n",
        "model_1.evaluate(test_windows, test_labels)"
      ],
      "metadata": {
        "colab": {
          "base_uri": "https://localhost:8080/"
        },
        "id": "QgtfWRNjhFVP",
        "outputId": "7fc8d53f-0c15-4876-f9f5-daa29d453534"
      },
      "execution_count": 37,
      "outputs": [
        {
          "output_type": "stream",
          "name": "stdout",
          "text": [
            "18/18 [==============================] - 0s 2ms/step - loss: 627.6702 - mae: 627.6702\n"
          ]
        },
        {
          "output_type": "execute_result",
          "data": {
            "text/plain": [
              "[627.670166015625, 627.670166015625]"
            ]
          },
          "metadata": {},
          "execution_count": 37
        }
      ]
    },
    {
      "cell_type": "code",
      "source": [
        "# Load in saved best performing model_1 and evaluate on test data\n",
        "\n",
        "model_1 = tf.keras.models.load_model(\"model_experiments/model_1_dense\")\n",
        "model_1.evaluate(test_windows, test_labels)"
      ],
      "metadata": {
        "colab": {
          "base_uri": "https://localhost:8080/"
        },
        "id": "SNnOhyzJhTSx",
        "outputId": "f6bb12df-88ac-4480-b9ce-4f3dd0643c1b"
      },
      "execution_count": 38,
      "outputs": [
        {
          "output_type": "stream",
          "name": "stdout",
          "text": [
            "18/18 [==============================] - 0s 2ms/step - loss: 574.0667 - mae: 574.0667\n"
          ]
        },
        {
          "output_type": "execute_result",
          "data": {
            "text/plain": [
              "[574.0667114257812, 574.0667114257812]"
            ]
          },
          "metadata": {},
          "execution_count": 38
        }
      ]
    },
    {
      "cell_type": "markdown",
      "source": [
        "### Making forecast with model (on the test dataset)"
      ],
      "metadata": {
        "id": "maL1V0jkh5xC"
      }
    },
    {
      "cell_type": "code",
      "source": [
        "def make_preds(model, input_data):\n",
        "\n",
        "  forecast = model.predict(input_data)\n",
        "\n",
        "  return tf.squeeze(forecast)"
      ],
      "metadata": {
        "id": "mGdYxNUzhwFd"
      },
      "execution_count": 39,
      "outputs": []
    },
    {
      "cell_type": "code",
      "source": [
        "# Make prediction using model_1 on the test dataset and view the results\n",
        "\n",
        "model_1_preds = make_preds(model_1, test_windows)\n",
        "len(model_1_preds), model_1_preds[:10]"
      ],
      "metadata": {
        "colab": {
          "base_uri": "https://localhost:8080/"
        },
        "id": "hG1Iab_fiVE9",
        "outputId": "331929dd-855c-4f89-94c7-52e1979a60a2"
      },
      "execution_count": 40,
      "outputs": [
        {
          "output_type": "stream",
          "name": "stdout",
          "text": [
            "18/18 [==============================] - 0s 1ms/step\n"
          ]
        },
        {
          "output_type": "execute_result",
          "data": {
            "text/plain": [
              "(556, <tf.Tensor: shape=(10,), dtype=float32, numpy=\n",
              " array([8898.271 , 8782.839 , 9002.4795, 8838.709 , 8747.806 , 8721.79  ,\n",
              "        8695.997 , 8550.998 , 8458.784 , 8522.91  ], dtype=float32)>)"
            ]
          },
          "metadata": {},
          "execution_count": 40
        }
      ]
    },
    {
      "cell_type": "code",
      "source": [
        "# Evaluate preds\n",
        "\n",
        "model_1_results = evaluate_preds(y_true=tf.squeeze(test_labels),\n",
        "                                 y_pred=model_1_preds)\n",
        "model_1_results"
      ],
      "metadata": {
        "colab": {
          "base_uri": "https://localhost:8080/"
        },
        "id": "ehIoQukziwD-",
        "outputId": "d19cc177-7309-4bc0-a40e-abf722b21c60"
      },
      "execution_count": 41,
      "outputs": [
        {
          "output_type": "execute_result",
          "data": {
            "text/plain": [
              "{'mae': 574.0668,\n",
              " 'mse': 1199035.2,\n",
              " 'rmse': 1095.0046,\n",
              " 'mape': 2.5705588,\n",
              " 'mase': 1.0084764}"
            ]
          },
          "metadata": {},
          "execution_count": 41
        }
      ]
    },
    {
      "cell_type": "code",
      "source": [
        "naive_results"
      ],
      "metadata": {
        "colab": {
          "base_uri": "https://localhost:8080/"
        },
        "id": "rsuqzwowjKD_",
        "outputId": "32a05a1b-fef4-46ee-e938-d40f5cb790f2"
      },
      "execution_count": 42,
      "outputs": [
        {
          "output_type": "execute_result",
          "data": {
            "text/plain": [
              "{'mae': 567.9802,\n",
              " 'mse': 1147547.0,\n",
              " 'rmse': 1071.2362,\n",
              " 'mape': 2.516525,\n",
              " 'mase': 0.99957}"
            ]
          },
          "metadata": {},
          "execution_count": 42
        }
      ]
    },
    {
      "cell_type": "code",
      "source": [
        "# Visualizing the result\n",
        "\n",
        "offset = 300\n",
        "plt.figure(figsize=(10, 7))\n",
        "plot_time_series(timesteps=X_test[-len(test_windows):], values=test_labels[:,0], start=offset, label=\"Test_data\")\n",
        "plot_time_series(timesteps=X_test[-len(test_windows):], values=model_1_preds, start=offset, format=\"-\", label=\"model_1_preds\")"
      ],
      "metadata": {
        "colab": {
          "base_uri": "https://localhost:8080/",
          "height": 442
        },
        "id": "TEmNaVyWjQXt",
        "outputId": "a18261a2-3249-44d4-c881-0ba67f090b92"
      },
      "execution_count": 43,
      "outputs": [
        {
          "output_type": "display_data",
          "data": {
            "text/plain": [
              "<Figure size 720x504 with 1 Axes>"
            ],
            "image/png": "[encoded data removed]"
          },
          "metadata": {
            "needs_background": "light"
          }
        }
      ]
    },
    {
      "cell_type": "markdown",
      "source": [
        "### Model 2: Dense (window = 30, horizon = 1)"
      ],
      "metadata": {
        "id": "f4ZmxJlgd_up"
      }
    },
    {
      "cell_type": "code",
      "source": [
        "HORIZON = 1\n",
        "WINDOW_SIZE = 30"
      ],
      "metadata": {
        "id": "0fAUw1uXkPsw"
      },
      "execution_count": 44,
      "outputs": []
    },
    {
      "cell_type": "code",
      "source": [
        "# Make windowed data with appropriate horizon nad window size\n",
        "\n",
        "full_windows, full_labels = make_windows(prices, window_size=WINDOW_SIZE, horizon=HORIZON)\n",
        "len(full_windows), len(full_labels)"
      ],
      "metadata": {
        "colab": {
          "base_uri": "https://localhost:8080/"
        },
        "id": "gdIKLDcIeOyw",
        "outputId": "357247cf-7eff-4f9f-bbd6-a8b0968f7f02"
      },
      "execution_count": 45,
      "outputs": [
        {
          "output_type": "execute_result",
          "data": {
            "text/plain": [
              "(2757, 2757)"
            ]
          },
          "metadata": {},
          "execution_count": 45
        }
      ]
    },
    {
      "cell_type": "code",
      "source": [
        "# Make train and test windows\n",
        "\n",
        "train_windows, test_windows, train_labels, test_labels = make_train_test_split(windows=full_windows,\n",
        "                                                                               labels=full_labels)\n",
        "len(train_windows), len(test_windows), len(train_labels), len(test_labels)"
      ],
      "metadata": {
        "colab": {
          "base_uri": "https://localhost:8080/"
        },
        "id": "yjUaFD4KeshH",
        "outputId": "b8055795-9a13-4a51-dd78-bd03f25c99f4"
      },
      "execution_count": 46,
      "outputs": [
        {
          "output_type": "execute_result",
          "data": {
            "text/plain": [
              "(2205, 552, 2205, 552)"
            ]
          },
          "metadata": {},
          "execution_count": 46
        }
      ]
    },
    {
      "cell_type": "code",
      "source": [
        "tf.random.set_seed(42)\n",
        "\n",
        "# Create model\n",
        "model_2 = tf.keras.Sequential([\n",
        "    layers.Dense(128, activation=\"relu\"),\n",
        "    layers.Dense(HORIZON)\n",
        "], name=\"model_2_dense\")\n",
        "\n",
        "# Compile model\n",
        "model_2.compile(loss=\"mae\",\n",
        "                optimizer=tf.keras.optimizers.Adam())\n",
        "\n",
        "# Fit the model\n",
        "model_2.fit(train_windows,\n",
        "            train_labels,\n",
        "            epochs=100,\n",
        "            batch_size=128,\n",
        "            verbose=0,\n",
        "            validation_data=(test_windows, test_labels),\n",
        "            callbacks=[create_model_checkpoint(model_name=model_2.name)])"
      ],
      "metadata": {
        "colab": {
          "base_uri": "https://localhost:8080/"
        },
        "id": "c_AyIFtDfyfn",
        "outputId": "58ca7129-318b-4b4d-8f9b-b11fb3cb3824"
      },
      "execution_count": 47,
      "outputs": [
        {
          "output_type": "stream",
          "name": "stderr",
          "text": [
            "WARNING:absl:Found untraced functions such as _update_step_xla while saving (showing 1 of 1). These functions will not be directly callable after loading.\n",
            "WARNING:absl:Found untraced functions such as _update_step_xla while saving (showing 1 of 1). These functions will not be directly callable after loading.\n",
            "WARNING:absl:Found untraced functions such as _update_step_xla while saving (showing 1 of 1). These functions will not be directly callable after loading.\n",
            "WARNING:absl:Found untraced functions such as _update_step_xla while saving (showing 1 of 1). These functions will not be directly callable after loading.\n",
            "WARNING:absl:Found untraced functions such as _update_step_xla while saving (showing 1 of 1). These functions will not be directly callable after loading.\n",
            "WARNING:absl:Found untraced functions such as _update_step_xla while saving (showing 1 of 1). These functions will not be directly callable after loading.\n",
            "WARNING:absl:Found untraced functions such as _update_step_xla while saving (showing 1 of 1). These functions will not be directly callable after loading.\n",
            "WARNING:absl:Found untraced functions such as _update_step_xla while saving (showing 1 of 1). These functions will not be directly callable after loading.\n",
            "WARNING:absl:Found untraced functions such as _update_step_xla while saving (showing 1 of 1). These functions will not be directly callable after loading.\n",
            "WARNING:absl:Found untraced functions such as _update_step_xla while saving (showing 1 of 1). These functions will not be directly callable after loading.\n",
            "WARNING:absl:Found untraced functions such as _update_step_xla while saving (showing 1 of 1). These functions will not be directly callable after loading.\n",
            "WARNING:absl:Found untraced functions such as _update_step_xla while saving (showing 1 of 1). These functions will not be directly callable after loading.\n",
            "WARNING:absl:Found untraced functions such as _update_step_xla while saving (showing 1 of 1). These functions will not be directly callable after loading.\n",
            "WARNING:absl:Found untraced functions such as _update_step_xla while saving (showing 1 of 1). These functions will not be directly callable after loading.\n",
            "WARNING:absl:Found untraced functions such as _update_step_xla while saving (showing 1 of 1). These functions will not be directly callable after loading.\n",
            "WARNING:absl:Found untraced functions such as _update_step_xla while saving (showing 1 of 1). These functions will not be directly callable after loading.\n",
            "WARNING:absl:Found untraced functions such as _update_step_xla while saving (showing 1 of 1). These functions will not be directly callable after loading.\n",
            "WARNING:absl:Found untraced functions such as _update_step_xla while saving (showing 1 of 1). These functions will not be directly callable after loading.\n",
            "WARNING:absl:Found untraced functions such as _update_step_xla while saving (showing 1 of 1). These functions will not be directly callable after loading.\n",
            "WARNING:absl:Found untraced functions such as _update_step_xla while saving (showing 1 of 1). These functions will not be directly callable after loading.\n",
            "WARNING:absl:Found untraced functions such as _update_step_xla while saving (showing 1 of 1). These functions will not be directly callable after loading.\n",
            "WARNING:absl:Found untraced functions such as _update_step_xla while saving (showing 1 of 1). These functions will not be directly callable after loading.\n",
            "WARNING:absl:Found untraced functions such as _update_step_xla while saving (showing 1 of 1). These functions will not be directly callable after loading.\n",
            "WARNING:absl:Found untraced functions such as _update_step_xla while saving (showing 1 of 1). These functions will not be directly callable after loading.\n",
            "WARNING:absl:Found untraced functions such as _update_step_xla while saving (showing 1 of 1). These functions will not be directly callable after loading.\n",
            "WARNING:absl:Found untraced functions such as _update_step_xla while saving (showing 1 of 1). These functions will not be directly callable after loading.\n",
            "WARNING:absl:Found untraced functions such as _update_step_xla while saving (showing 1 of 1). These functions will not be directly callable after loading.\n",
            "WARNING:absl:Found untraced functions such as _update_step_xla while saving (showing 1 of 1). These functions will not be directly callable after loading.\n",
            "WARNING:absl:Found untraced functions such as _update_step_xla while saving (showing 1 of 1). These functions will not be directly callable after loading.\n"
          ]
        },
        {
          "output_type": "execute_result",
          "data": {
            "text/plain": [
              "<keras.callbacks.History at 0x7f27c8719430>"
            ]
          },
          "metadata": {},
          "execution_count": 47
        }
      ]
    },
    {
      "cell_type": "code",
      "source": [
        "# Evaluate model_2 preds\n",
        "\n",
        "model_2.evaluate(test_windows, test_labels)"
      ],
      "metadata": {
        "colab": {
          "base_uri": "https://localhost:8080/"
        },
        "id": "9LXDjE10kaZ5",
        "outputId": "8a6c76b0-6ee1-433d-acee-9aa9417ca4f5"
      },
      "execution_count": 48,
      "outputs": [
        {
          "output_type": "stream",
          "name": "stdout",
          "text": [
            "18/18 [==============================] - 0s 2ms/step - loss: 633.7443\n"
          ]
        },
        {
          "output_type": "execute_result",
          "data": {
            "text/plain": [
              "633.7443237304688"
            ]
          },
          "metadata": {},
          "execution_count": 48
        }
      ]
    },
    {
      "cell_type": "code",
      "source": [
        "# Load in best performing model\n",
        "\n",
        "model_2 = tf.keras.models.load_model(\"model_experiments/model_2_dense\")\n",
        "model_2.evaluate(test_windows, test_labels)"
      ],
      "metadata": {
        "colab": {
          "base_uri": "https://localhost:8080/"
        },
        "id": "uaFe9xojknOD",
        "outputId": "9ff3acb2-95e3-4d84-d4c9-a27a09bac69d"
      },
      "execution_count": 49,
      "outputs": [
        {
          "output_type": "stream",
          "name": "stdout",
          "text": [
            "18/18 [==============================] - 0s 3ms/step - loss: 608.0563\n"
          ]
        },
        {
          "output_type": "execute_result",
          "data": {
            "text/plain": [
              "608.0562744140625"
            ]
          },
          "metadata": {},
          "execution_count": 49
        }
      ]
    },
    {
      "cell_type": "code",
      "source": [
        "# Get forecast predictions\n",
        "\n",
        "model_2_preds = make_preds(model_2,\n",
        "                           input_data=test_windows)\n",
        "model_2_preds[-10:]"
      ],
      "metadata": {
        "colab": {
          "base_uri": "https://localhost:8080/"
        },
        "id": "dnQr8F4tlBDD",
        "outputId": "a8d28324-0762-4d0e-a5b4-15a3a395194c"
      },
      "execution_count": 50,
      "outputs": [
        {
          "output_type": "stream",
          "name": "stdout",
          "text": [
            "18/18 [==============================] - 0s 2ms/step\n"
          ]
        },
        {
          "output_type": "execute_result",
          "data": {
            "text/plain": [
              "<tf.Tensor: shape=(10,), dtype=float32, numpy=\n",
              "array([56999.13 , 57078.348, 58056.934, 56529.344, 56888.934, 52952.504,\n",
              "       50854.074, 49465.266, 49118.69 , 45417.703], dtype=float32)>"
            ]
          },
          "metadata": {},
          "execution_count": 50
        }
      ]
    },
    {
      "cell_type": "code",
      "source": [
        "# Evaluate results for model_2 prediction\n",
        "\n",
        "model_2_results = evaluate_preds(y_true=tf.squeeze(test_labels),\n",
        "                                 y_pred=model_2_preds)"
      ],
      "metadata": {
        "id": "xxZM5Vk8lr9C"
      },
      "execution_count": 51,
      "outputs": []
    },
    {
      "cell_type": "code",
      "source": [
        "model_2_results"
      ],
      "metadata": {
        "colab": {
          "base_uri": "https://localhost:8080/"
        },
        "id": "lKDHNuoqmH9g",
        "outputId": "e8c6e9fb-31cc-4673-beb3-791bf701538b"
      },
      "execution_count": 52,
      "outputs": [
        {
          "output_type": "execute_result",
          "data": {
            "text/plain": [
              "{'mae': 608.0563,\n",
              " 'mse': 1244325.1,\n",
              " 'rmse': 1115.4933,\n",
              " 'mape': 2.7472448,\n",
              " 'mase': 1.0628884}"
            ]
          },
          "metadata": {},
          "execution_count": 52
        }
      ]
    },
    {
      "cell_type": "markdown",
      "source": [
        "### Model 3: Dense (window = 30, horizon = 7)"
      ],
      "metadata": {
        "id": "ctMseeTZdYIi"
      }
    },
    {
      "cell_type": "code",
      "source": [
        "HORIZON = 7\n",
        "WINDOW_SIZE = 30\n",
        "\n",
        "full_windows, full_labels = make_windows(prices, window_size=WINDOW_SIZE, horizon=HORIZON)\n",
        "len(full_windows), len(full_labels)"
      ],
      "metadata": {
        "id": "56t6LzYnmJ2x",
        "colab": {
          "base_uri": "https://localhost:8080/"
        },
        "outputId": "44602181-cde1-4e2a-c51a-a731533bb58b"
      },
      "execution_count": 53,
      "outputs": [
        {
          "output_type": "execute_result",
          "data": {
            "text/plain": [
              "(2751, 2751)"
            ]
          },
          "metadata": {},
          "execution_count": 53
        }
      ]
    },
    {
      "cell_type": "code",
      "source": [
        "train_windows, test_windows, train_labels, test_labels = make_train_test_split(windows=full_windows, labels=full_labels)\n",
        "len(train_windows), len(test_windows), len(train_labels), len(test_labels)"
      ],
      "metadata": {
        "colab": {
          "base_uri": "https://localhost:8080/"
        },
        "id": "NTiPbNBZd7fP",
        "outputId": "7cc61d58-5d4c-4157-de99-a82674889203"
      },
      "execution_count": 54,
      "outputs": [
        {
          "output_type": "execute_result",
          "data": {
            "text/plain": [
              "(2200, 551, 2200, 551)"
            ]
          },
          "metadata": {},
          "execution_count": 54
        }
      ]
    },
    {
      "cell_type": "code",
      "source": [
        "tf.random.set_seed(42)\n",
        "\n",
        "model_3 = tf.keras.Sequential([\n",
        "    layers.Dense(128, activation=\"relu\"),\n",
        "    layers.Dense(HORIZON)\n",
        "], name = \"model_3_dense\")\n",
        "\n",
        "model_3.compile(loss=\"mae\",\n",
        "                optimizer=tf.keras.optimizers.Adam())\n",
        "\n",
        "model_3.fit(train_windows,\n",
        "            train_labels,\n",
        "            batch_size=128,\n",
        "            epochs=100,\n",
        "            verbose=0,\n",
        "            validation_data=(test_windows, test_labels),\n",
        "            callbacks=[create_model_checkpoint(model_name=model_3.name)])"
      ],
      "metadata": {
        "colab": {
          "base_uri": "https://localhost:8080/"
        },
        "id": "rnEDQrZFeWsc",
        "outputId": "da764048-63fc-46d2-e03f-d28c6d586428"
      },
      "execution_count": 55,
      "outputs": [
        {
          "output_type": "stream",
          "name": "stderr",
          "text": [
            "WARNING:absl:Found untraced functions such as _update_step_xla while saving (showing 1 of 1). These functions will not be directly callable after loading.\n",
            "WARNING:absl:Found untraced functions such as _update_step_xla while saving (showing 1 of 1). These functions will not be directly callable after loading.\n",
            "WARNING:absl:Found untraced functions such as _update_step_xla while saving (showing 1 of 1). These functions will not be directly callable after loading.\n",
            "WARNING:absl:Found untraced functions such as _update_step_xla while saving (showing 1 of 1). These functions will not be directly callable after loading.\n",
            "WARNING:absl:Found untraced functions such as _update_step_xla while saving (showing 1 of 1). These functions will not be directly callable after loading.\n",
            "WARNING:absl:Found untraced functions such as _update_step_xla while saving (showing 1 of 1). These functions will not be directly callable after loading.\n",
            "WARNING:absl:Found untraced functions such as _update_step_xla while saving (showing 1 of 1). These functions will not be directly callable after loading.\n",
            "WARNING:absl:Found untraced functions such as _update_step_xla while saving (showing 1 of 1). These functions will not be directly callable after loading.\n",
            "WARNING:absl:Found untraced functions such as _update_step_xla while saving (showing 1 of 1). These functions will not be directly callable after loading.\n",
            "WARNING:absl:Found untraced functions such as _update_step_xla while saving (showing 1 of 1). These functions will not be directly callable after loading.\n",
            "WARNING:absl:Found untraced functions such as _update_step_xla while saving (showing 1 of 1). These functions will not be directly callable after loading.\n",
            "WARNING:absl:Found untraced functions such as _update_step_xla while saving (showing 1 of 1). These functions will not be directly callable after loading.\n",
            "WARNING:absl:Found untraced functions such as _update_step_xla while saving (showing 1 of 1). These functions will not be directly callable after loading.\n",
            "WARNING:absl:Found untraced functions such as _update_step_xla while saving (showing 1 of 1). These functions will not be directly callable after loading.\n",
            "WARNING:absl:Found untraced functions such as _update_step_xla while saving (showing 1 of 1). These functions will not be directly callable after loading.\n",
            "WARNING:absl:Found untraced functions such as _update_step_xla while saving (showing 1 of 1). These functions will not be directly callable after loading.\n",
            "WARNING:absl:Found untraced functions such as _update_step_xla while saving (showing 1 of 1). These functions will not be directly callable after loading.\n",
            "WARNING:absl:Found untraced functions such as _update_step_xla while saving (showing 1 of 1). These functions will not be directly callable after loading.\n",
            "WARNING:absl:Found untraced functions such as _update_step_xla while saving (showing 1 of 1). These functions will not be directly callable after loading.\n",
            "WARNING:absl:Found untraced functions such as _update_step_xla while saving (showing 1 of 1). These functions will not be directly callable after loading.\n",
            "WARNING:absl:Found untraced functions such as _update_step_xla while saving (showing 1 of 1). These functions will not be directly callable after loading.\n",
            "WARNING:absl:Found untraced functions such as _update_step_xla while saving (showing 1 of 1). These functions will not be directly callable after loading.\n",
            "WARNING:absl:Found untraced functions such as _update_step_xla while saving (showing 1 of 1). These functions will not be directly callable after loading.\n",
            "WARNING:absl:Found untraced functions such as _update_step_xla while saving (showing 1 of 1). These functions will not be directly callable after loading.\n"
          ]
        },
        {
          "output_type": "execute_result",
          "data": {
            "text/plain": [
              "<keras.callbacks.History at 0x7f27c861a490>"
            ]
          },
          "metadata": {},
          "execution_count": 55
        }
      ]
    },
    {
      "cell_type": "code",
      "source": [
        "model_3.evaluate(test_windows, test_labels)"
      ],
      "metadata": {
        "colab": {
          "base_uri": "https://localhost:8080/"
        },
        "id": "NJgBoCyJfYZL",
        "outputId": "86c48224-71ff-4928-b285-1d34725a595f"
      },
      "execution_count": 56,
      "outputs": [
        {
          "output_type": "stream",
          "name": "stdout",
          "text": [
            "18/18 [==============================] - 0s 3ms/step - loss: 1429.0547\n"
          ]
        },
        {
          "output_type": "execute_result",
          "data": {
            "text/plain": [
              "1429.0546875"
            ]
          },
          "metadata": {},
          "execution_count": 56
        }
      ]
    },
    {
      "cell_type": "code",
      "source": [
        "model_3 = tf.keras.models.load_model(\"model_experiments/model_3_dense/\")\n",
        "model_3.evaluate(test_windows, test_labels)"
      ],
      "metadata": {
        "colab": {
          "base_uri": "https://localhost:8080/"
        },
        "id": "rrC8_p1VfjG8",
        "outputId": "0ff2b823-e7c6-4dcd-e072-14bf9ac5aeaa"
      },
      "execution_count": 57,
      "outputs": [
        {
          "output_type": "stream",
          "name": "stdout",
          "text": [
            "18/18 [==============================] - 0s 3ms/step - loss: 1233.0946\n"
          ]
        },
        {
          "output_type": "execute_result",
          "data": {
            "text/plain": [
              "1233.0946044921875"
            ]
          },
          "metadata": {},
          "execution_count": 57
        }
      ]
    },
    {
      "cell_type": "code",
      "source": [
        "model_3_preds = make_preds(model_3,\n",
        "                           input_data=test_windows)\n",
        "model_3_preds[-5:]"
      ],
      "metadata": {
        "colab": {
          "base_uri": "https://localhost:8080/"
        },
        "id": "6HzRO1yCf2xs",
        "outputId": "c7007b9a-02d2-4a0c-ef61-a7454ce46caf"
      },
      "execution_count": 58,
      "outputs": [
        {
          "output_type": "stream",
          "name": "stdout",
          "text": [
            "18/18 [==============================] - 0s 2ms/step\n"
          ]
        },
        {
          "output_type": "execute_result",
          "data": {
            "text/plain": [
              "<tf.Tensor: shape=(5, 7), dtype=float32, numpy=\n",
              "array([[56252.05 , 56348.6  , 57367.215, 57298.49 , 56493.855, 56834.684,\n",
              "        57712.4  ],\n",
              "       [57108.52 , 57644.92 , 57279.812, 58053.28 , 58568.492, 58781.793,\n",
              "        58228.594],\n",
              "       [57938.65 , 57215.07 , 59811.285, 60468.945, 58845.984, 60907.598,\n",
              "        59916.906],\n",
              "       [57407.25 , 58884.47 , 59774.145, 60217.31 , 59855.65 , 60640.707,\n",
              "        59986.06 ],\n",
              "       [56543.85 , 56269.64 , 58090.63 , 57907.75 , 59224.633, 58248.73 ,\n",
              "        58474.17 ]], dtype=float32)>"
            ]
          },
          "metadata": {},
          "execution_count": 58
        }
      ]
    },
    {
      "cell_type": "code",
      "source": [
        "model_3_results = evaluate_preds(y_true=tf.squeeze(test_labels),\n",
        "                                 y_pred=model_3_preds)\n",
        "model_3_results"
      ],
      "metadata": {
        "colab": {
          "base_uri": "https://localhost:8080/"
        },
        "id": "1jm6ig1AgH29",
        "outputId": "8c580e87-29e3-427e-9d2c-c1b4553aef2a"
      },
      "execution_count": 59,
      "outputs": [
        {
          "output_type": "execute_result",
          "data": {
            "text/plain": [
              "{'mae': array([  756.7026  ,   489.8789  ,   334.90695 ,   540.6342  ,\n",
              "          557.55426 ,   627.61053 ,   632.01953 ,   561.36975 ,\n",
              "          547.3348  ,   609.5191  ,   791.5566  ,   808.8758  ,\n",
              "          879.4336  ,   915.4212  ,   641.0532  ,   325.71158 ,\n",
              "          171.52818 ,   173.96861 ,   203.69162 ,   225.41838 ,\n",
              "          137.99086 ,   253.08936 ,   314.1613  ,   347.4866  ,\n",
              "          158.03893 ,   117.72168 ,    89.68262 ,   156.85344 ,\n",
              "          173.19295 ,   227.58684 ,   281.4822  ,   362.3185  ,\n",
              "          367.24896 ,   317.32016 ,   360.89767 ,   320.05594 ,\n",
              "          376.59976 ,   265.66058 ,   194.57004 ,   195.33447 ,\n",
              "          433.77078 ,   103.90743 ,    64.58224 ,   115.01514 ,\n",
              "          132.7006  ,   106.05392 ,    85.75697 ,   129.34535 ,\n",
              "          151.93254 ,   146.81473 ,   182.58147 ,   139.22844 ,\n",
              "          212.3256  ,   227.45193 ,   236.94287 ,   330.67062 ,\n",
              "          541.0009  ,   460.84863 ,   436.2933  ,   472.1148  ,\n",
              "          338.80746 ,   156.09221 ,   216.06633 ,   358.69092 ,\n",
              "          318.7278  ,   397.42007 ,   412.76068 ,   371.37305 ,\n",
              "          149.38881 ,   261.98453 ,   349.28934 ,   516.50824 ,\n",
              "          647.6261  ,   496.60727 ,   418.21973 ,   410.68903 ,\n",
              "          297.43457 ,   299.73785 ,   365.1638  ,   637.23004 ,\n",
              "          698.5156  ,   491.73453 ,   216.31682 ,   170.1741  ,\n",
              "          272.41156 ,   234.61789 ,   187.97559 ,   190.41574 ,\n",
              "          250.12737 ,   529.3033  ,   365.28418 ,   326.708   ,\n",
              "          246.84082 ,   138.61272 ,   234.31236 ,   327.43875 ,\n",
              "          460.03223 ,   666.32574 ,   729.1864  ,   887.185   ,\n",
              "          689.0714  ,   394.86957 ,   277.84445 ,   459.98215 ,\n",
              "          417.07562 ,   496.07242 ,   664.1724  ,   736.56903 ,\n",
              "         1071.5984  ,  1095.3971  ,   959.876   ,   401.9343  ,\n",
              "          192.31892 ,   145.46541 ,   144.53055 ,   343.4571  ,\n",
              "          354.42752 ,   464.824   ,   630.1476  ,  1202.9169  ,\n",
              "         1684.6755  ,  2092.8167  ,  2091.6077  ,  2106.3865  ,\n",
              "         2362.1147  ,  2637.2075  ,  1314.8732  ,   632.6691  ,\n",
              "          537.2164  ,   466.55014 ,   534.9377  ,   571.9349  ,\n",
              "          627.3439  ,   329.90717 ,   281.7781  ,   240.20822 ,\n",
              "          414.78287 ,   275.19043 ,   276.36475 ,   334.51736 ,\n",
              "          378.68918 ,   289.785   ,   454.77866 ,   722.83514 ,\n",
              "          632.1425  ,   356.62192 ,   488.00244 ,   198.61174 ,\n",
              "          291.1455  ,   338.45828 ,   231.45041 ,   451.57553 ,\n",
              "          359.14838 ,   573.4606  ,   488.03452 ,   266.40186 ,\n",
              "          266.60275 ,   158.02086 ,   165.1289  ,   244.5791  ,\n",
              "          265.55338 ,   174.31313 ,   257.4313  ,   233.79778 ,\n",
              "          205.40457 ,   267.2138  ,   549.04    ,   657.69104 ,\n",
              "          466.17578 ,   545.0511  ,   676.8238  ,   847.56104 ,\n",
              "          951.3374  ,   972.5602  ,   385.5095  ,   237.51549 ,\n",
              "          296.14105 ,   290.96344 ,   333.79492 ,   412.1377  ,\n",
              "          554.2962  ,   572.2181  ,   712.70215 ,  1013.3955  ,\n",
              "          975.5286  ,   308.16086 ,   354.13797 ,   583.66223 ,\n",
              "          244.19768 ,   296.94086 ,   292.88016 ,   334.90457 ,\n",
              "          449.05106 ,   629.91614 ,   785.6995  ,   721.75555 ,\n",
              "          338.33203 ,   196.34766 ,   299.07144 ,   207.33455 ,\n",
              "          340.17188 ,   684.9686  ,   752.166   ,   434.33218 ,\n",
              "          231.27776 ,   359.09723 ,   235.19002 ,   494.4689  ,\n",
              "          204.90332 ,   162.23926 ,   281.4414  ,   199.94783 ,\n",
              "          239.89662 ,   307.71484 ,   441.50586 ,   487.01102 ,\n",
              "          629.1419  ,   295.6479  ,   235.62123 ,   344.4993  ,\n",
              "          201.07994 ,   265.35895 ,   195.48158 ,   242.10603 ,\n",
              "          131.97266 ,   141.02971 ,   257.4128  ,   306.99707 ,\n",
              "          427.16058 ,   546.5702  ,   394.2762  ,   330.8895  ,\n",
              "          174.75125 ,    60.625557,   169.26213 ,   145.64746 ,\n",
              "           86.57491 ,   135.81348 ,   127.929825,    80.99707 ,\n",
              "          118.990234,   133.8676  ,   133.93861 ,   144.47224 ,\n",
              "          300.93555 ,   228.1356  ,   217.24832 ,   179.68346 ,\n",
              "          179.05162 ,   189.25838 ,   184.64803 ,   136.2302  ,\n",
              "          105.92132 ,   120.76981 ,   128.63979 ,   252.20242 ,\n",
              "          527.5485  ,   641.7935  ,   708.54016 ,   800.04047 ,\n",
              "          991.3831  ,  1231.8118  ,  1241.3473  ,   396.4269  ,\n",
              "          159.59961 ,   290.84683 ,   297.667   ,   272.4756  ,\n",
              "          462.81195 ,   234.6582  ,   139.80748 ,   178.34431 ,\n",
              "          290.95773 ,   415.5777  ,   486.29074 ,   495.04535 ,\n",
              "          347.32758 ,   400.28403 ,   122.05622 ,   304.37988 ,\n",
              "          181.9216  ,   232.73299 ,   291.12332 ,   391.99847 ,\n",
              "          626.11066 ,   633.934   ,   475.78125 ,   497.07394 ,\n",
              "          352.71164 ,   413.12387 ,   395.47153 ,   490.6296  ,\n",
              "          157.15877 ,   126.06236 ,   252.87375 ,   467.1335  ,\n",
              "          722.57117 ,   939.5474  ,  1164.1858  ,  1557.282   ,\n",
              "         1485.3446  ,   958.597   ,   529.39716 ,   112.61579 ,\n",
              "          163.63615 ,   160.33705 ,   292.96332 ,   341.31012 ,\n",
              "          328.52066 ,   344.16226 ,   322.23187 ,   362.96094 ,\n",
              "          296.3647  ,   200.06822 ,   359.81808 ,   452.34235 ,\n",
              "          461.93637 ,   467.5318  ,   310.15332 ,   108.893555,\n",
              "           87.65248 ,   175.70647 ,    95.428154,   260.7603  ,\n",
              "          329.45746 ,   349.2648  ,   390.78168 ,   312.45312 ,\n",
              "          327.87347 ,   232.94127 ,   115.84054 ,   224.85072 ,\n",
              "          260.2595  ,   318.0523  ,   445.64215 ,   611.7472  ,\n",
              "          506.47824 ,   388.50558 ,   212.7839  ,   240.52832 ,\n",
              "          402.47894 ,   258.2443  ,   327.59653 ,   505.8524  ,\n",
              "          599.9205  ,   928.8302  ,  1056.9723  ,  1032.6779  ,\n",
              "         1055.6243  ,   278.13754 ,   318.5664  ,   194.32018 ,\n",
              "          169.1522  ,   217.90877 ,   209.10645 ,   306.9382  ,\n",
              "          170.22098 ,   302.27133 ,   625.2617  ,   607.94446 ,\n",
              "          649.72784 ,   799.0075  ,   984.19055 ,   999.9492  ,\n",
              "          323.56012 ,   442.6455  ,   216.49986 ,   177.27414 ,\n",
              "          354.7119  ,   695.7372  ,   785.55945 ,   681.67145 ,\n",
              "          895.4759  ,  1047.6556  ,  1500.1866  ,  1312.9174  ,\n",
              "          735.1183  ,   342.18695 ,   471.24887 ,   807.15625 ,\n",
              "         1123.2064  ,  1379.1912  ,  1211.4288  ,  1334.1298  ,\n",
              "         1083.8962  ,   625.44476 ,  1203.3605  ,  1054.921   ,\n",
              "          873.80664 ,   286.5413  ,   504.16098 ,   733.00867 ,\n",
              "          924.83484 ,   989.5843  ,   845.702   ,   961.3273  ,\n",
              "          774.2335  ,   352.6395  ,   629.59796 ,  1216.4316  ,\n",
              "         2199.4487  ,  2469.5293  ,  2943.5974  ,  3097.164   ,\n",
              "         3289.7961  ,  2090.3586  ,   656.05133 ,   542.68    ,\n",
              "          907.4185  ,  1139.1189  ,  1212.9607  ,  1383.11    ,\n",
              "         2034.1549  ,  2696.2932  ,  2743.2097  ,  1985.9752  ,\n",
              "         2398.4548  ,  2415.5305  ,  3076.8423  ,  2984.0898  ,\n",
              "         3598.1504  ,  4689.473   ,  4095.468   ,  3985.1616  ,\n",
              "         4758.328   ,  3339.0112  ,  2520.9727  ,  2642.3035  ,\n",
              "         4070.6675  ,  5694.344   ,  4802.198   ,  1515.5452  ,\n",
              "         1211.9197  ,  1153.0374  ,  3365.5034  ,  3301.1746  ,\n",
              "         2927.9856  ,  3241.2332  ,  3775.604   ,  4565.844   ,\n",
              "         4211.374   ,   995.0499  ,   785.21234 ,  1585.158   ,\n",
              "         1462.7726  ,  1013.6727  ,  1479.7902  ,  3689.4001  ,\n",
              "         3177.8325  ,  2157.3882  ,  2018.1038  ,  2475.246   ,\n",
              "         4473.971   ,  5026.3657  ,  4388.9287  ,  5080.8213  ,\n",
              "         5741.6416  ,  5859.257   ,  7332.317   ,  3974.8286  ,\n",
              "         1350.7327  ,  1268.1239  ,  1087.1853  ,  2185.264   ,\n",
              "         2679.1746  ,  2467.0222  ,  2207.9766  ,  3387.9653  ,\n",
              "         3050.3772  ,  3524.3481  ,  5578.606   ,  7892.251   ,\n",
              "        10527.844   ,  9504.213   ,  5166.9536  ,  2631.9163  ,\n",
              "         2130.2065  ,  1856.2394  ,  2270.0078  ,  3563.668   ,\n",
              "         2352.5894  ,  2982.6262  ,  2139.49    ,  3389.8186  ,\n",
              "         4192.965   ,  6003.4717  ,  6166.3438  ,  5544.8213  ,\n",
              "         3776.1418  ,  1983.4431  ,  1711.8058  ,  1814.9045  ,\n",
              "         2553.0994  ,  3667.178   ,  3019.1792  ,  2306.226   ,\n",
              "         4585.6436  ,  4584.357   ,  6092.1084  ,  6218.8154  ,\n",
              "         5396.16    ,  2068.2092  ,  2040.4794  ,  2053.563   ,\n",
              "         3377.7478  ,  3458.0012  ,  1796.851   ,  2519.424   ,\n",
              "         1206.6719  ,   773.0614  ,  1059.5128  ,  1409.1451  ,\n",
              "         1894.0123  ,   828.4894  ,  1118.4375  ,  1300.2924  ,\n",
              "         1180.4475  ,  2218.3074  ,  2706.8582  ,  3198.145   ,\n",
              "         2034.7751  ,  2098.4604  ,  2946.9153  ,  4318.644   ,\n",
              "         6349.026   ,  8139.233   ,  9190.798   ,  8740.01    ,\n",
              "         6590.7515  ,  4997.1943  ,  5016.413   ,  3043.4158  ,\n",
              "         1524.053   ,  2350.0435  ,  3748.0833  ,  5668.336   ,\n",
              "         3575.4973  ,  1693.9749  ,  1888.0022  ,  2163.691   ,\n",
              "          759.50226 ,  1247.034   ,  1315.5725  ,  1484.7745  ,\n",
              "         2014.8867  ,  1957.255   ,  2618.2036  ,  4116.4556  ,\n",
              "         6458.566   ,  8434.514   ,  8523.7     ], dtype=float32),\n",
              " 'mse': array([6.52848875e+05, 2.79179656e+05, 1.52626016e+05, 3.71163688e+05,\n",
              "        3.88965500e+05, 4.97204750e+05, 4.64730312e+05, 4.38093844e+05,\n",
              "        5.10852250e+05, 5.70570312e+05, 8.74275688e+05, 9.20078062e+05,\n",
              "        9.39025375e+05, 8.56400562e+05, 4.25716406e+05, 1.54854969e+05,\n",
              "        4.08577695e+04, 5.47498164e+04, 6.54341445e+04, 6.65986406e+04,\n",
              "        3.07349238e+04, 8.29396094e+04, 1.26218930e+05, 1.31923531e+05,\n",
              "        3.51983242e+04, 2.09551973e+04, 1.45970938e+04, 2.94126348e+04,\n",
              "        3.49080508e+04, 6.21871602e+04, 1.01837109e+05, 1.57825375e+05,\n",
              "        1.70597578e+05, 1.88844922e+05, 2.15112078e+05, 1.69420484e+05,\n",
              "        2.11725469e+05, 1.16823984e+05, 6.71041406e+04, 5.25631680e+04,\n",
              "        2.11606031e+05, 1.34287793e+04, 5.76962646e+03, 2.10354199e+04,\n",
              "        2.47051426e+04, 1.48844219e+04, 1.10341396e+04, 2.24995039e+04,\n",
              "        3.33410547e+04, 3.14695664e+04, 5.14267812e+04, 3.87419258e+04,\n",
              "        7.14941797e+04, 7.94499844e+04, 9.30948672e+04, 1.65052250e+05,\n",
              "        3.65263406e+05, 2.49041594e+05, 2.20306344e+05, 2.41064000e+05,\n",
              "        1.36505375e+05, 6.54351914e+04, 9.64531719e+04, 1.79024406e+05,\n",
              "        1.51166891e+05, 2.06685719e+05, 2.03878672e+05, 1.63452266e+05,\n",
              "        3.32837070e+04, 1.06691734e+05, 1.48177391e+05, 3.42686500e+05,\n",
              "        4.60767000e+05, 3.22165781e+05, 2.57642719e+05, 2.21270250e+05,\n",
              "        1.32410672e+05, 1.30165789e+05, 1.88556672e+05, 4.82436156e+05,\n",
              "        4.95666094e+05, 2.48921531e+05, 7.38077812e+04, 4.49627852e+04,\n",
              "        1.07249805e+05, 8.35632344e+04, 5.95189805e+04, 5.37578398e+04,\n",
              "        7.83178750e+04, 3.05418312e+05, 1.60139141e+05, 1.41442891e+05,\n",
              "        7.99397109e+04, 2.72435449e+04, 9.08808594e+04, 1.46192328e+05,\n",
              "        3.04564781e+05, 5.66313438e+05, 6.76449125e+05, 8.79037000e+05,\n",
              "        5.25783438e+05, 1.84748922e+05, 1.07293945e+05, 2.56447125e+05,\n",
              "        3.22143688e+05, 4.51216219e+05, 6.28799125e+05, 7.34776938e+05,\n",
              "        1.44339875e+06, 1.33866900e+06, 9.58964625e+05, 1.89355328e+05,\n",
              "        5.94499258e+04, 3.03779102e+04, 3.78503633e+04, 1.66928641e+05,\n",
              "        2.34056406e+05, 3.53421219e+05, 4.82551500e+05, 2.40216175e+06,\n",
              "        4.30883100e+06, 6.04576350e+06, 6.12816300e+06, 6.02281050e+06,\n",
              "        6.55804800e+06, 7.05796650e+06, 1.92083562e+06, 5.39210188e+05,\n",
              "        3.51970781e+05, 2.43693891e+05, 3.96109938e+05, 3.97646812e+05,\n",
              "        4.94683281e+05, 1.54017703e+05, 1.17646078e+05, 9.21455625e+04,\n",
              "        2.09638078e+05, 1.18581289e+05, 1.55014172e+05, 1.54237125e+05,\n",
              "        2.04339031e+05, 1.25486953e+05, 2.68024062e+05, 5.42938188e+05,\n",
              "        4.57452250e+05, 1.81990641e+05, 2.80239531e+05, 4.52342617e+04,\n",
              "        1.01163688e+05, 1.54826000e+05, 7.56296641e+04, 2.78267312e+05,\n",
              "        1.54682875e+05, 4.14271031e+05, 2.50328172e+05, 9.81723516e+04,\n",
              "        1.01843820e+05, 5.36686758e+04, 3.30446914e+04, 7.27647734e+04,\n",
              "        1.12544453e+05, 4.32777188e+04, 8.81947969e+04, 1.02885273e+05,\n",
              "        6.75817266e+04, 8.86642500e+04, 3.29723219e+05, 5.81515312e+05,\n",
              "        4.34097281e+05, 5.68131125e+05, 6.88038875e+05, 9.37103688e+05,\n",
              "        1.00521450e+06, 9.51304312e+05, 1.77804141e+05, 1.17379250e+05,\n",
              "        1.73827109e+05, 1.17583625e+05, 1.42252672e+05, 2.02249578e+05,\n",
              "        3.70669156e+05, 4.36146656e+05, 7.22841375e+05, 1.24111538e+06,\n",
              "        1.02347769e+06, 1.32965781e+05, 1.68795969e+05, 3.87582438e+05,\n",
              "        8.70276094e+04, 1.47614047e+05, 1.89928953e+05, 1.49069781e+05,\n",
              "        2.69407938e+05, 4.69724062e+05, 7.37163000e+05, 6.09281938e+05,\n",
              "        1.50784031e+05, 6.11026016e+04, 1.30580242e+05, 5.73738672e+04,\n",
              "        2.27653578e+05, 5.39125438e+05, 6.48831375e+05, 2.71292719e+05,\n",
              "        9.69525156e+04, 1.65328625e+05, 8.26199609e+04, 2.46934109e+05,\n",
              "        4.82724023e+04, 3.55310117e+04, 1.47122109e+05, 7.90817500e+04,\n",
              "        8.57071484e+04, 1.53116141e+05, 2.65903562e+05, 2.65292781e+05,\n",
              "        4.28434656e+05, 1.02690430e+05, 8.09089141e+04, 1.64115578e+05,\n",
              "        5.86491445e+04, 1.10527484e+05, 5.35030859e+04, 7.79296094e+04,\n",
              "        2.06472383e+04, 2.99460762e+04, 9.15458672e+04, 1.24190039e+05,\n",
              "        2.11290719e+05, 3.13332344e+05, 1.81883719e+05, 1.38528016e+05,\n",
              "        4.08598750e+04, 5.45255127e+03, 3.93193008e+04, 3.34562305e+04,\n",
              "        1.05327725e+04, 3.05259668e+04, 2.24855176e+04, 9.57006934e+03,\n",
              "        2.13710938e+04, 3.13670742e+04, 2.83037598e+04, 2.89594902e+04,\n",
              "        1.05033164e+05, 6.28005195e+04, 6.51678984e+04, 3.76825195e+04,\n",
              "        4.26442461e+04, 4.66348828e+04, 4.73840703e+04, 2.82218008e+04,\n",
              "        1.62221221e+04, 2.07303008e+04, 2.64298477e+04, 7.92551094e+04,\n",
              "        5.30128625e+05, 7.66978875e+05, 9.66068875e+05, 1.02260088e+06,\n",
              "        1.23206212e+06, 1.72800175e+06, 1.58727488e+06, 2.45102594e+05,\n",
              "        5.01840195e+04, 1.14530547e+05, 1.22476023e+05, 1.21527523e+05,\n",
              "        2.64998531e+05, 6.95518750e+04, 2.58789160e+04, 5.58488477e+04,\n",
              "        1.18601180e+05, 2.19885328e+05, 3.32435281e+05, 3.79490969e+05,\n",
              "        1.42100984e+05, 1.74611531e+05, 3.91075977e+04, 1.11393930e+05,\n",
              "        4.45827070e+04, 6.54944336e+04, 1.17875820e+05, 1.92165109e+05,\n",
              "        4.75561062e+05, 4.41694094e+05, 2.77431812e+05, 3.40589188e+05,\n",
              "        1.84309797e+05, 2.31364516e+05, 1.93737172e+05, 2.52058141e+05,\n",
              "        2.99148965e+04, 2.51385195e+04, 1.25153039e+05, 3.31201344e+05,\n",
              "        8.99877562e+05, 1.27548325e+06, 1.72917312e+06, 2.71607475e+06,\n",
              "        2.36289375e+06, 9.66264875e+05, 3.09703906e+05, 2.42691211e+04,\n",
              "        4.07522930e+04, 2.94596094e+04, 1.02759680e+05, 1.50947797e+05,\n",
              "        1.29981414e+05, 1.44633703e+05, 1.20504961e+05, 1.54435375e+05,\n",
              "        1.00218047e+05, 7.00137266e+04, 2.33056969e+05, 3.05248000e+05,\n",
              "        2.89046094e+05, 2.89403469e+05, 1.16844984e+05, 1.94657285e+04,\n",
              "        1.28284453e+04, 5.35368984e+04, 1.24697676e+04, 9.83868203e+04,\n",
              "        1.60130109e+05, 1.60329422e+05, 2.24703250e+05, 1.28319641e+05,\n",
              "        1.25934055e+05, 6.45263477e+04, 1.89685527e+04, 7.29360703e+04,\n",
              "        9.46611797e+04, 1.62138219e+05, 2.48266859e+05, 3.95510844e+05,\n",
              "        2.76727031e+05, 1.67017172e+05, 6.40535430e+04, 6.89694297e+04,\n",
              "        1.95106406e+05, 1.02192922e+05, 2.68230812e+05, 5.00254438e+05,\n",
              "        7.64534125e+05, 1.16462425e+06, 1.31916962e+06, 1.16482025e+06,\n",
              "        1.19012288e+06, 1.09209359e+05, 1.30663195e+05, 4.36090625e+04,\n",
              "        4.61691953e+04, 5.95941289e+04, 8.47953906e+04, 1.03533945e+05,\n",
              "        4.07291445e+04, 3.61138469e+05, 7.01318812e+05, 6.01326562e+05,\n",
              "        7.78162938e+05, 7.69769688e+05, 1.08111262e+06, 1.11663162e+06,\n",
              "        1.65865891e+05, 2.79746875e+05, 5.33289336e+04, 5.37928477e+04,\n",
              "        2.14632328e+05, 7.89544125e+05, 8.71259688e+05, 6.36092438e+05,\n",
              "        1.11959888e+06, 1.42278538e+06, 2.45654850e+06, 1.80088112e+06,\n",
              "        6.71806875e+05, 1.56934578e+05, 4.23256156e+05, 1.60103625e+06,\n",
              "        1.86484662e+06, 2.89699725e+06, 2.32089525e+06, 2.50552125e+06,\n",
              "        1.65741588e+06, 5.23082531e+05, 1.59294338e+06, 1.36873288e+06,\n",
              "        9.53384625e+05, 1.15322039e+05, 3.61754938e+05, 7.17970125e+05,\n",
              "        1.13836375e+06, 1.25833175e+06, 1.00906031e+06, 1.16126712e+06,\n",
              "        7.09152688e+05, 2.14852891e+05, 8.78597875e+05, 3.39315400e+06,\n",
              "        7.13750550e+06, 9.32362300e+06, 1.13249330e+07, 1.11085950e+07,\n",
              "        1.12765730e+07, 4.40070800e+06, 5.39061125e+05, 3.75526500e+05,\n",
              "        1.05854788e+06, 1.61306988e+06, 2.60647450e+06, 3.07660050e+06,\n",
              "        5.82416700e+06, 8.67361700e+06, 8.63886900e+06, 7.13328800e+06,\n",
              "        9.93507800e+06, 8.27613200e+06, 1.26370570e+07, 1.33236170e+07,\n",
              "        2.17442660e+07, 3.10595320e+07, 2.54377300e+07, 2.12650920e+07,\n",
              "        2.62512960e+07, 1.61354340e+07, 7.76428900e+06, 1.05967570e+07,\n",
              "        2.30371300e+07, 3.45998240e+07, 2.39769700e+07, 3.35785975e+06,\n",
              "        2.20902675e+06, 1.72502125e+06, 1.64831300e+07, 1.68994200e+07,\n",
              "        1.49608000e+07, 1.65401050e+07, 1.71062680e+07, 2.33555160e+07,\n",
              "        1.89055380e+07, 1.53956912e+06, 7.41357562e+05, 3.55058625e+06,\n",
              "        3.41885150e+06, 2.05334062e+06, 2.65076400e+06, 1.56853380e+07,\n",
              "        1.22083280e+07, 6.72150000e+06, 5.76331100e+06, 7.92857350e+06,\n",
              "        2.66674520e+07, 3.55472000e+07, 3.07860320e+07, 3.66160840e+07,\n",
              "        4.11396560e+07, 4.05617200e+07, 5.56719360e+07, 1.66178910e+07,\n",
              "        2.37001125e+06, 4.02307425e+06, 1.84431212e+06, 7.16217500e+06,\n",
              "        1.04028650e+07, 1.00473090e+07, 6.92012450e+06, 1.34103590e+07,\n",
              "        1.25472130e+07, 1.70947080e+07, 4.52174280e+07, 7.94249360e+07,\n",
              "        1.24609152e+08, 9.48023760e+07, 3.01318820e+07, 1.16832960e+07,\n",
              "        5.90593450e+06, 4.88970550e+06, 6.95165300e+06, 1.39404870e+07,\n",
              "        7.30113350e+06, 1.44682420e+07, 9.19378500e+06, 1.92544740e+07,\n",
              "        2.22688360e+07, 4.64908280e+07, 4.49029840e+07, 3.70490680e+07,\n",
              "        1.79042040e+07, 5.77332400e+06, 4.26224000e+06, 6.11659150e+06,\n",
              "        8.16930150e+06, 1.37344210e+07, 1.17991860e+07, 9.97548500e+06,\n",
              "        3.03096380e+07, 2.86596980e+07, 4.88542280e+07, 4.51170280e+07,\n",
              "        3.23236200e+07, 6.33234550e+06, 4.66961050e+06, 6.26492950e+06,\n",
              "        1.33141990e+07, 1.31410350e+07, 4.09385725e+06, 6.92403550e+06,\n",
              "        2.24815600e+06, 1.12775638e+06, 1.54694338e+06, 2.51157675e+06,\n",
              "        4.75713150e+06, 8.64970438e+05, 2.30620075e+06, 2.82436950e+06,\n",
              "        2.16414350e+06, 6.38665850e+06, 1.02086240e+07, 1.17072050e+07,\n",
              "        5.60767550e+06, 6.57528650e+06, 1.27131660e+07, 2.78547580e+07,\n",
              "        5.40064360e+07, 8.10294320e+07, 9.87415040e+07, 8.69356400e+07,\n",
              "        5.43199920e+07, 3.24415000e+07, 2.90000460e+07, 1.32794290e+07,\n",
              "        4.54032950e+06, 7.76695350e+06, 1.60000250e+07, 3.39057920e+07,\n",
              "        1.52013050e+07, 3.56799575e+06, 4.15517050e+06, 6.70741950e+06,\n",
              "        1.70147362e+06, 3.75631850e+06, 2.32430475e+06, 3.81418400e+06,\n",
              "        5.76007750e+06, 5.15592500e+06, 1.35538150e+07, 2.81975720e+07,\n",
              "        6.10706680e+07, 9.16629040e+07, 9.59691040e+07], dtype=float32),\n",
              " 'rmse': array([  807.99066 ,   528.3745  ,   390.6738  ,   609.23206 ,\n",
              "          623.671   ,   705.12744 ,   681.7113  ,   661.8866  ,\n",
              "          714.73926 ,   755.361   ,   935.0271  ,   959.207   ,\n",
              "          969.0332  ,   925.4191  ,   652.4695  ,   393.51617 ,\n",
              "          202.13306 ,   233.98679 ,   255.80098 ,   258.0671  ,\n",
              "          175.31378 ,   287.99237 ,   355.27304 ,   363.21277 ,\n",
              "          187.61217 ,   144.7591  ,   120.81843 ,   171.50111 ,\n",
              "          186.83696 ,   249.37354 ,   319.11926 ,   397.2724  ,\n",
              "          413.03458 ,   434.5629  ,   463.80176 ,   411.6072  ,\n",
              "          460.13635 ,   341.79523 ,   259.04468 ,   229.26659 ,\n",
              "          460.00656 ,   115.88261 ,    75.95805 ,   145.03592 ,\n",
              "          157.1787  ,   122.001724,   105.04351 ,   149.99835 ,\n",
              "          182.59532 ,   177.39664 ,   226.77473 ,   196.82968 ,\n",
              "          267.38397 ,   281.86874 ,   305.1145  ,   406.26624 ,\n",
              "          604.37024 ,   499.04068 ,   469.368   ,   490.9827  ,\n",
              "          369.46634 ,   255.80302 ,   310.5691  ,   423.11276 ,\n",
              "          388.80188 ,   454.627   ,   451.52927 ,   404.2923  ,\n",
              "          182.43823 ,   326.637   ,   384.93814 ,   585.3943  ,\n",
              "          678.7982  ,   567.5965  ,   507.58517 ,   470.3937  ,\n",
              "          363.88278 ,   360.78497 ,   434.2311  ,   694.57623 ,\n",
              "          704.0356  ,   498.92035 ,   271.67587 ,   212.0443  ,\n",
              "          327.49014 ,   289.07306 ,   243.96512 ,   231.85736 ,\n",
              "          279.8533  ,   552.64667 ,   400.1739  ,   376.08893 ,\n",
              "          282.7361  ,   165.05618 ,   301.4645  ,   382.35104 ,\n",
              "          551.87384 ,   752.53796 ,   822.4653  ,   937.5697  ,\n",
              "          725.10925 ,   429.82428 ,   327.55756 ,   506.40607 ,\n",
              "          567.577   ,   671.72626 ,   792.96857 ,   857.1913  ,\n",
              "         1201.4153  ,  1157.0087  ,   979.2674  ,   435.14978 ,\n",
              "          243.82355 ,   174.2926  ,   194.5517  ,   408.569   ,\n",
              "          483.79376 ,   594.4924  ,   694.65924 ,  1549.8909  ,\n",
              "         2075.7725  ,  2458.8135  ,  2475.5127  ,  2454.1416  ,\n",
              "         2560.8687  ,  2656.6833  ,  1385.9421  ,   734.3093  ,\n",
              "          593.27124 ,   493.6536  ,   629.3726  ,   630.5924  ,\n",
              "          703.3372  ,   392.4509  ,   342.99573 ,   303.55487 ,\n",
              "          457.8625  ,   344.35632 ,   393.71838 ,   392.73035 ,\n",
              "          452.03876 ,   354.24136 ,   517.7104  ,   736.8434  ,\n",
              "          676.3522  ,   426.6036  ,   529.3765  ,   212.68347 ,\n",
              "          318.0624  ,   393.47934 ,   275.00848 ,   527.5105  ,\n",
              "          393.29745 ,   643.6389  ,   500.32806 ,   313.32468 ,\n",
              "          319.1298  ,   231.66501 ,   181.78198 ,   269.74945 ,\n",
              "          335.47647 ,   208.03297 ,   296.97607 ,   320.75735 ,\n",
              "          259.96487 ,   297.7654  ,   574.2153  ,   762.57153 ,\n",
              "          658.8606  ,   753.74475 ,   829.4811  ,   968.04114 ,\n",
              "         1002.6039  ,   975.34827 ,   421.66827 ,   342.60654 ,\n",
              "          416.92578 ,   342.9047  ,   377.16397 ,   449.72168 ,\n",
              "          608.82605 ,   660.414   ,   850.20074 ,  1114.0536  ,\n",
              "         1011.6707  ,   364.64474 ,   410.84787 ,   622.5612  ,\n",
              "          295.00443 ,   384.20572 ,   435.80838 ,   386.09555 ,\n",
              "          519.0452  ,   685.3642  ,   858.582   ,   780.5651  ,\n",
              "          388.3092  ,   247.18939 ,   361.3589  ,   239.52843 ,\n",
              "          477.13055 ,   734.25165 ,   805.5007  ,   520.85767 ,\n",
              "          311.37198 ,   406.60623 ,   287.4369  ,   496.92465 ,\n",
              "          219.70981 ,   188.49672 ,   383.565   ,   281.21475 ,\n",
              "          292.75784 ,   391.30057 ,   515.6584  ,   515.0658  ,\n",
              "          654.5492  ,   320.45346 ,   284.44492 ,   405.11182 ,\n",
              "          242.17586 ,   332.45673 ,   231.30734 ,   279.15875 ,\n",
              "          143.69147 ,   173.04935 ,   302.56546 ,   352.40607 ,\n",
              "          459.6637  ,   559.761   ,   426.47827 ,   372.1935  ,\n",
              "          202.13826 ,    73.84139 ,   198.29095 ,   182.91045 ,\n",
              "          102.629295,   174.71681 ,   149.95172 ,    97.82673 ,\n",
              "          146.18855 ,   177.10751 ,   168.23721 ,   170.17488 ,\n",
              "          324.0882  ,   250.60031 ,   255.28004 ,   194.11986 ,\n",
              "          206.50482 ,   215.95111 ,   217.67882 ,   167.99345 ,\n",
              "          127.3661  ,   143.98021 ,   162.57259 ,   281.52283 ,\n",
              "          728.0993  ,   875.77325 ,   982.888   ,  1011.2373  ,\n",
              "         1109.9829  ,  1314.5348  ,  1259.871   ,   495.07837 ,\n",
              "          224.0179  ,   338.4236  ,   349.96573 ,   348.60797 ,\n",
              "          514.7801  ,   263.7269  ,   160.86925 ,   236.32361 ,\n",
              "          344.38522 ,   468.9193  ,   576.572   ,   616.0284  ,\n",
              "          376.96283 ,   417.86545 ,   197.75641 ,   333.7573  ,\n",
              "          211.14618 ,   255.9188  ,   343.33047 ,   438.3664  ,\n",
              "          689.6093  ,   664.6007  ,   526.71796 ,   583.60016 ,\n",
              "          429.31317 ,   481.00366 ,   440.15585 ,   502.05392 ,\n",
              "          172.95923 ,   158.55132 ,   353.76974 ,   575.501   ,\n",
              "          948.6188  ,  1129.3729  ,  1314.9802  ,  1648.0518  ,\n",
              "         1537.1707  ,   982.98773 ,   556.5105  ,   155.78549 ,\n",
              "          201.87198 ,   171.63802 ,   320.5615  ,   388.52002 ,\n",
              "          360.52936 ,   380.30737 ,   347.13824 ,   392.98267 ,\n",
              "          316.57233 ,   264.60107 ,   482.75974 ,   552.49255 ,\n",
              "          537.63007 ,   537.96234 ,   341.82596 ,   139.51964 ,\n",
              "          113.262726,   231.38042 ,   111.66811 ,   313.66672 ,\n",
              "          400.1626  ,   400.41156 ,   474.02875 ,   358.21732 ,\n",
              "          354.8719  ,   254.02037 ,   137.72636 ,   270.06677 ,\n",
              "          307.67056 ,   402.6639  ,   498.26382 ,   628.89655 ,\n",
              "          526.0485  ,   408.67734 ,   253.08801 ,   262.6203  ,\n",
              "          441.7085  ,   319.67627 ,   517.91003 ,   707.2867  ,\n",
              "          874.3764  ,  1079.1776  ,  1148.551   ,  1079.2683  ,\n",
              "         1090.9275  ,   330.46838 ,   361.47363 ,   208.82782 ,\n",
              "          214.87018 ,   244.11908 ,   291.19647 ,   321.7669  ,\n",
              "          201.81464 ,   600.94794 ,   837.4478  ,   775.45245 ,\n",
              "          882.13544 ,   877.3652  ,  1039.7656  ,  1056.7079  ,\n",
              "          407.26636 ,   528.911   ,   230.93057 ,   231.93285 ,\n",
              "          463.28427 ,   888.5629  ,   933.4129  ,   797.554   ,\n",
              "         1058.111   ,  1192.8057  ,  1567.338   ,  1341.9691  ,\n",
              "          819.63824 ,   396.1497  ,   650.58136 ,  1265.3206  ,\n",
              "         1365.5939  ,  1702.0568  ,  1523.4485  ,  1582.8838  ,\n",
              "         1287.4066  ,   723.24445 ,  1262.1185  ,  1169.9286  ,\n",
              "          976.4141  ,   339.59097 ,   601.46063 ,   847.3312  ,\n",
              "         1066.9413  ,  1121.7539  ,  1004.5199  ,  1077.6211  ,\n",
              "          842.11206 ,   463.52228 ,   937.3355  ,  1842.0515  ,\n",
              "         2671.611   ,  3053.4607  ,  3365.2537  ,  3332.9558  ,\n",
              "         3358.0608  ,  2097.7864  ,   734.2078  ,   612.8022  ,\n",
              "         1028.8575  ,  1270.0669  ,  1614.458   ,  1754.024   ,\n",
              "         2413.331   ,  2945.1003  ,  2939.1953  ,  2670.8215  ,\n",
              "         3151.9958  ,  2876.8267  ,  3554.8638  ,  3650.153   ,\n",
              "         4663.0747  ,  5573.108   ,  5043.583   ,  4611.4087  ,\n",
              "         5123.6016  ,  4016.8936  ,  2786.4473  ,  3255.266   ,\n",
              "         4799.701   ,  5882.1616  ,  4896.6284  ,  1832.4463  ,\n",
              "         1486.2794  ,  1313.4006  ,  4059.9421  ,  4110.89    ,\n",
              "         3867.9192  ,  4066.9526  ,  4135.972   ,  4832.7544  ,\n",
              "         4348.05    ,  1240.7937  ,   861.02124 ,  1884.2999  ,\n",
              "         1849.0137  ,  1432.9482  ,  1628.1167  ,  3960.472   ,\n",
              "         3494.0417  ,  2592.5854  ,  2400.6897  ,  2815.7722  ,\n",
              "         5164.0537  ,  5962.1475  ,  5548.516   ,  6051.1226  ,\n",
              "         6414.02    ,  6368.808   ,  7461.363   ,  4076.5046  ,\n",
              "         1539.484   ,  2005.7603  ,  1358.0546  ,  2676.2239  ,\n",
              "         3225.3472  ,  3169.749   ,  2630.613   ,  3662.0156  ,\n",
              "         3542.2046  ,  4134.5747  ,  6724.3906  ,  8912.067   ,\n",
              "        11162.847   ,  9736.651   ,  5489.2515  ,  3418.0837  ,\n",
              "         2430.213   ,  2211.2678  ,  2636.5986  ,  3733.696   ,\n",
              "         2702.061   ,  3803.714   ,  3032.1255  ,  4387.9917  ,\n",
              "         4718.987   ,  6818.4185  ,  6700.9688  ,  6086.7944  ,\n",
              "         4231.336   ,  2402.7742  ,  2064.5193  ,  2473.1743  ,\n",
              "         2858.199   ,  3705.998   ,  3434.9941  ,  3158.3992  ,\n",
              "         5505.419   ,  5353.475   ,  6989.5796  ,  6716.921   ,\n",
              "         5685.386   ,  2516.4153  ,  2160.9282  ,  2502.9841  ,\n",
              "         3648.8628  ,  3625.0566  ,  2023.3282  ,  2631.3562  ,\n",
              "         1499.3853  ,  1061.9587  ,  1243.7617  ,  1584.7955  ,\n",
              "         2181.085   ,   930.03784 ,  1518.618   ,  1680.586   ,\n",
              "         1471.1028  ,  2527.1838  ,  3195.0938  ,  3421.5793  ,\n",
              "         2368.053   ,  2564.2322  ,  3565.5527  ,  5277.7607  ,\n",
              "         7348.9067  ,  9001.635   ,  9936.876   ,  9323.928   ,\n",
              "         7370.21    ,  5695.744   ,  5385.169   ,  3644.095   ,\n",
              "         2130.805   ,  2786.9253  ,  4000.0032  ,  5822.868   ,\n",
              "         3898.885   ,  1888.914   ,  2038.4235  ,  2589.8687  ,\n",
              "         1304.4055  ,  1938.1224  ,  1524.5671  ,  1952.9935  ,\n",
              "         2400.016   ,  2270.6663  ,  3681.5505  ,  5310.1387  ,\n",
              "         7814.7725  ,  9574.074   ,  9796.382   ], dtype=float32),\n",
              " 'mape': array([ 8.626337  ,  5.630036  ,  3.8788326 ,  6.3003073 ,  6.5870857 ,\n",
              "         7.5074553 ,  7.6280475 ,  7.0008388 ,  7.137198  ,  8.081522  ,\n",
              "        10.728402  , 11.138801  , 12.170325  , 12.58993   ,  8.846279  ,\n",
              "         4.502958  ,  2.3586404 ,  2.300473  ,  2.7057414 ,  2.9971669 ,\n",
              "         1.8477762 ,  3.4115624 ,  4.282718  ,  4.72017   ,  2.1431296 ,\n",
              "         1.598005  ,  1.2262734 ,  2.125106  ,  2.3567493 ,  3.1298969 ,\n",
              "         3.9115407 ,  5.0560694 ,  5.182725  ,  4.6401205 ,  5.248317  ,\n",
              "         4.6606984 ,  5.46665   ,  3.8580139 ,  2.8330755 ,  2.755286  ,\n",
              "         5.9755673 ,  1.4467725 ,  0.89451987,  1.5884349 ,  1.8329071 ,\n",
              "         1.4687159 ,  1.1855545 ,  1.7840524 ,  2.1086624 ,  2.0469656 ,\n",
              "         2.5472922 ,  1.9613233 ,  2.9752688 ,  3.1532876 ,  3.1274915 ,\n",
              "         4.2846184 ,  6.9360366 ,  5.8562756 ,  5.471831  ,  5.8840113 ,\n",
              "         4.1922684 ,  1.8572437 ,  2.5247467 ,  4.184132  ,  3.648856  ,\n",
              "         4.51446   ,  4.687016  ,  4.2098303 ,  1.7000195 ,  3.0167882 ,\n",
              "         4.0497117 ,  6.0430264 ,  7.6109896 ,  5.866032  ,  4.942573  ,\n",
              "         4.839792  ,  3.4812193 ,  3.3005085 ,  3.952582  ,  6.853529  ,\n",
              "         7.512124  ,  5.259259  ,  2.295555  ,  1.811778  ,  2.9170616 ,\n",
              "         2.5121284 ,  1.996656  ,  1.9526471 ,  2.5473714 ,  5.3240676 ,\n",
              "         3.6212869 ,  3.2116077 ,  2.4183118 ,  1.3680458 ,  2.3498783 ,\n",
              "         3.284059  ,  4.640109  ,  6.761109  ,  7.464598  ,  9.100615  ,\n",
              "         7.0940785 ,  4.068092  ,  2.832028  ,  4.7872186 ,  4.5283356 ,\n",
              "         5.496663  ,  7.38814   ,  8.318034  , 12.256389  , 12.518552  ,\n",
              "        10.987061  ,  4.614777  ,  2.215436  ,  1.6424272 ,  1.6040217 ,\n",
              "         3.9366317 ,  4.2616873 ,  5.6782594 ,  7.677628  , 17.253195  ,\n",
              "        26.0148    , 34.503002  , 36.580322  , 38.988705  , 43.87395   ,\n",
              "        49.075554  , 24.568567  , 11.968644  ,  9.539542  ,  7.999497  ,\n",
              "         8.642244  ,  9.099915  ,  9.705704  ,  5.0893435 ,  4.451957  ,\n",
              "         3.780251  ,  6.4597325 ,  4.3367405 ,  4.454303  ,  5.329975  ,\n",
              "         6.0215225 ,  4.614557  ,  6.897611  , 10.819336  ,  9.27606   ,\n",
              "         5.1501656 ,  6.899501  ,  2.8345466 ,  4.0953455 ,  4.796729  ,\n",
              "         3.2488618 ,  6.4725676 ,  5.154116  ,  8.359265  ,  7.0733013 ,\n",
              "         3.87501   ,  3.8277664 ,  2.2989843 ,  2.3535035 ,  3.463937  ,\n",
              "         3.7115972 ,  2.4356651 ,  3.5996616 ,  3.33545   ,  2.9075286 ,\n",
              "         3.5421286 ,  7.2166033 ,  8.225942  ,  5.520501  ,  6.287062  ,\n",
              "         7.7425056 ,  9.622724  , 10.781967  , 10.961823  ,  4.2769704 ,\n",
              "         2.521632  ,  3.0682287 ,  3.0702262 ,  3.5524879 ,  4.463769  ,\n",
              "         6.0327206 ,  6.3348317 ,  7.9745135 , 11.27283   , 10.79195   ,\n",
              "         3.4137878 ,  3.70372   ,  6.0712957 ,  2.5244138 ,  3.171242  ,\n",
              "         3.1616795 ,  3.5931149 ,  4.864051  ,  6.8864355 ,  8.694487  ,\n",
              "         8.003077  ,  3.7513714 ,  2.169631  ,  3.3018286 ,  2.2505434 ,\n",
              "         3.4650934 ,  7.08263   ,  7.7316575 ,  4.4163084 ,  2.3391333 ,\n",
              "         3.6624398 ,  2.3760536 ,  5.100581  ,  2.1049001 ,  1.660214  ,\n",
              "         2.9444191 ,  2.108583  ,  2.5272357 ,  3.2720442 ,  4.6981053 ,\n",
              "         5.1590443 ,  6.6761894 ,  3.1341903 ,  2.5109444 ,  3.6704211 ,\n",
              "         2.1522794 ,  2.8402789 ,  2.0862985 ,  2.584683  ,  1.4088684 ,\n",
              "         1.5148569 ,  2.759328  ,  3.297304  ,  4.6554813 ,  5.9721155 ,\n",
              "         4.3091927 ,  3.6248856 ,  1.9138849 ,  0.6642945 ,  1.8523881 ,\n",
              "         1.592103  ,  0.9485404 ,  1.4844195 ,  1.3917024 ,  0.8717472 ,\n",
              "         1.2832861 ,  1.4352045 ,  1.4358063 ,  1.5521998 ,  3.2564633 ,\n",
              "         2.4751453 ,  2.3629682 ,  1.9536847 ,  1.9513596 ,  2.0634162 ,\n",
              "         2.0100226 ,  1.4814423 ,  1.1344744 ,  1.2833146 ,  1.3425616 ,\n",
              "         2.6130972 ,  5.11289   ,  6.0399437 ,  6.44873   ,  7.228658  ,\n",
              "         8.934862  , 10.930494  , 10.995812  ,  3.4694564 ,  1.3901575 ,\n",
              "         2.5678253 ,  2.615079  ,  2.3990805 ,  4.0618563 ,  2.0351117 ,\n",
              "         1.2021319 ,  1.5360258 ,  2.5162485 ,  3.5894852 ,  4.1961064 ,\n",
              "         4.270334  ,  2.9803944 ,  3.4113247 ,  1.0012299 ,  2.5445867 ,\n",
              "         1.5213654 ,  1.9556025 ,  2.458309  ,  3.316348  ,  5.348867  ,\n",
              "         5.451493  ,  4.112106  ,  4.3380976 ,  3.0839047 ,  3.6148064 ,\n",
              "         3.45493   ,  4.266572  ,  1.3596635 ,  1.0875812 ,  2.239604  ,\n",
              "         4.234066  ,  6.8278656 ,  8.972916  , 11.176562  , 15.092635  ,\n",
              "        14.486723  ,  9.368395  ,  5.1835356 ,  1.1038264 ,  1.5804598 ,\n",
              "         1.5530014 ,  2.7794619 ,  3.196754  ,  3.052872  ,  3.1740952 ,\n",
              "         2.956559  ,  3.3340917 ,  2.7221398 ,  1.8724146 ,  3.4309518 ,\n",
              "         4.301966  ,  4.3865895 ,  4.4465203 ,  2.941194  ,  1.0339837 ,\n",
              "         0.8245771 ,  1.6349509 ,  0.89066803,  2.4433727 ,  3.100426  ,\n",
              "         3.284626  ,  3.6801584 ,  2.946136  ,  3.0860684 ,  2.183981  ,\n",
              "         1.0816636 ,  2.0435462 ,  2.3413806 ,  2.8054702 ,  3.926166  ,\n",
              "         5.3894167 ,  4.4339843 ,  3.3907962 ,  1.8549966 ,  2.098997  ,\n",
              "         3.5184    ,  2.257969  ,  2.6647007 ,  4.0020723 ,  4.618652  ,\n",
              "         7.216525  ,  8.173382  ,  7.9428873 ,  8.000213  ,  2.0967386 ,\n",
              "         2.4196072 ,  1.4622777 ,  1.2612774 ,  1.6045308 ,  1.5242462 ,\n",
              "         2.2564673 ,  1.2410203 ,  2.0194676 ,  4.1894016 ,  4.063661  ,\n",
              "         4.2288175 ,  5.2594824 ,  6.438695  ,  6.4641223 ,  2.0781865 ,\n",
              "         2.887031  ,  1.3650594 ,  1.1111305 ,  2.1687512 ,  4.141749  ,\n",
              "         4.5977345 ,  3.963485  ,  5.060459  ,  5.8001013 ,  8.255749  ,\n",
              "         7.1750083 ,  3.9719257 ,  1.8327683 ,  2.6219206 ,  4.649628  ,\n",
              "         6.377179  ,  7.865099  ,  6.9056554 ,  7.55154   ,  6.1401763 ,\n",
              "         3.34209   ,  6.340532  ,  5.5114603 ,  4.5492644 ,  1.5041134 ,\n",
              "         2.6616523 ,  3.8881035 ,  4.9433    ,  5.3384295 ,  4.575984  ,\n",
              "         5.174899  ,  4.1664214 ,  1.9075122 ,  3.149218  ,  5.665981  ,\n",
              "        10.1931    , 10.960059  , 12.895934  , 13.476547  , 14.205648  ,\n",
              "         8.969615  ,  2.7876663 ,  2.2846992 ,  3.752605  ,  4.604384  ,\n",
              "         4.659139  ,  5.2234564 ,  7.4941254 ,  9.789522  ,  9.77346   ,\n",
              "         6.609359  ,  7.6910677 ,  7.7329016 ,  9.564082  ,  8.839906  ,\n",
              "         9.9627495 , 12.602003  , 10.560602  , 10.26808   , 12.322992  ,\n",
              "         8.491247  ,  6.573955  ,  7.3243446 , 11.382096  , 15.799093  ,\n",
              "        13.389783  ,  4.22331   ,  3.259107  ,  3.1657848 ,  9.933953  ,\n",
              "         9.926924  ,  9.042623  , 10.084539  , 11.646403  , 14.166923  ,\n",
              "        13.278599  ,  3.116496  ,  2.4026866 ,  4.747463  ,  4.3571024 ,\n",
              "         3.0231369 ,  4.358248  , 10.503709  ,  8.871155  ,  5.8956037 ,\n",
              "         5.3400936 ,  6.483597  , 11.153575  , 11.885462  ,  9.956022  ,\n",
              "        11.248198  , 12.506284  , 12.58635   , 15.5751705 ,  8.350737  ,\n",
              "         2.8280284 ,  2.5418694 ,  2.1654637 ,  4.2437263 ,  5.0442877 ,\n",
              "         4.4916043 ,  4.0179787 ,  6.2428794 ,  5.877535  ,  6.9753246 ,\n",
              "        11.539195  , 16.498657  , 22.3452    , 20.194326  , 11.02774   ,\n",
              "         5.6720295 ,  4.52917   ,  3.8119383 ,  4.6026287 ,  7.196922  ,\n",
              "         4.68995   ,  5.752868  ,  3.9750478 ,  6.1302285 ,  7.5731506 ,\n",
              "        10.489884  , 10.608821  ,  9.49111   ,  6.4330826 ,  3.3516686 ,\n",
              "         2.8970628 ,  3.057227  ,  4.420843  ,  6.3526144 ,  5.3053226 ,\n",
              "         4.1416645 ,  8.34354   ,  8.489139  , 11.337509  , 11.536084  ,\n",
              "        10.006487  ,  3.8501983 ,  3.7142377 ,  3.5773628 ,  5.863507  ,\n",
              "         5.9575076 ,  3.0879016 ,  4.3084044 ,  2.05953   ,  1.328373  ,\n",
              "         1.8372452 ,  2.4381766 ,  3.2841363 ,  1.4308984 ,  1.9411037 ,\n",
              "         2.2534978 ,  1.9852238 ,  3.6288373 ,  4.3644776 ,  5.153411  ,\n",
              "         3.2686136 ,  3.4734466 ,  4.998373  ,  7.487158  , 11.213417  ,\n",
              "        14.722906  , 17.050379  , 16.533129  , 12.872143  ,  9.815766  ,\n",
              "         9.786023  ,  6.00395   ,  3.015891  ,  4.318225  ,  6.790831  ,\n",
              "        10.173021  ,  6.3336535 ,  3.0041776 ,  3.34312   ,  3.8061135 ,\n",
              "         1.38103   ,  2.2505207 ,  2.3406863 ,  2.672535  ,  3.4902234 ,\n",
              "         3.5116713 ,  4.9790893 ,  7.983102  , 12.823306  , 17.22224   ,\n",
              "        18.194902  ], dtype=float32),\n",
              " 'mase': 2.194223}"
            ]
          },
          "metadata": {},
          "execution_count": 59
        }
      ]
    },
    {
      "cell_type": "markdown",
      "source": [
        "### Make our evaluation function work for larger horizon"
      ],
      "metadata": {
        "id": "CwvC3Slwgqh9"
      }
    },
    {
      "cell_type": "code",
      "source": [
        "def evaluate_preds(y_true, y_pred):\n",
        "\n",
        "  y_true = tf.cast(y_true, dtype=tf.float32)\n",
        "  y_pred = tf.cast(y_pred, dtype=tf.float32)\n",
        "\n",
        "  # Calculate various metrics\n",
        "  mae = tf.keras.metrics.mean_absolute_error(y_true, y_pred)\n",
        "  mse = tf.keras.metrics.mean_squared_error(y_true, y_pred)\n",
        "  rmse = tf.sqrt(mse)\n",
        "  mape = tf.keras.metrics.mean_absolute_percentage_error(y_true, y_pred)\n",
        "  mase = mean_absolute_scaled_error(y_true, y_pred)\n",
        "\n",
        "  # Account for different sized metrics (for longer horizons, reduce to single number)\n",
        "  if mae.ndim > 0:\n",
        "    mae = tf.reduce_mean(mae)\n",
        "    mse = tf.reduce_mean(mse)\n",
        "    rmse = tf.reduce_mean(rmse)\n",
        "    mape = tf.reduce_mean(mape)\n",
        "    mase = tf.reduce_mean(mase)\n",
        "  \n",
        "  return {\"mae\": mae.numpy(),\n",
        "          \"mse\": mse.numpy(),\n",
        "          \"rmse\": rmse.numpy(),\n",
        "          \"mape\": mape.numpy(),\n",
        "          \"mase\": mase.numpy()}"
      ],
      "metadata": {
        "id": "j4DMzHTQgo34"
      },
      "execution_count": 72,
      "outputs": []
    },
    {
      "cell_type": "code",
      "source": [
        "# Get model_3 reults\n",
        "\n",
        "model_3_results = evaluate_preds(y_true=tf.squeeze(test_labels),\n",
        "                                 y_pred=model_3_preds)\n",
        "model_3_results"
      ],
      "metadata": {
        "colab": {
          "base_uri": "https://localhost:8080/"
        },
        "id": "Arofte_zqBA0",
        "outputId": "61c736c7-cd7e-4fec-8f44-284bc65a17ec"
      },
      "execution_count": 73,
      "outputs": [
        {
          "output_type": "execute_result",
          "data": {
            "text/plain": [
              "{'mae': 1233.0946,\n",
              " 'mse': 5472064.5,\n",
              " 'rmse': 1419.5555,\n",
              " 'mape': 5.5898685,\n",
              " 'mase': 2.194223}"
            ]
          },
          "metadata": {},
          "execution_count": 73
        }
      ]
    },
    {
      "cell_type": "code",
      "source": [
        "offset = 300\n",
        "plt.figure(figsize=(10, 7))\n",
        "plot_time_series(timesteps=X_test[-len(test_windows):], values=test_labels[:, 0], start=offset, label=\"Test_data\")\n",
        "plot_time_series(timesteps=X_test[-len(test_windows):], values=model_3_preds, start=offset, label=\"model_3_preds\")"
      ],
      "metadata": {
        "colab": {
          "base_uri": "https://localhost:8080/",
          "height": 442
        },
        "id": "GLQqy275i5ws",
        "outputId": "d8a37b72-713d-4d8e-828d-813c4e9143a7"
      },
      "execution_count": 61,
      "outputs": [
        {
          "output_type": "display_data",
          "data": {
            "text/plain": [
              "<Figure size 720x504 with 1 Axes>"
            ],
            "image/png": "[encoded data removed]"
          },
          "metadata": {
            "needs_background": "light"
          }
        }
      ]
    },
    {
      "cell_type": "code",
      "source": [
        "offset = 300\n",
        "plt.figure(figsize=(10, 7))\n",
        "\n",
        "plot_time_series(timesteps=X_test[-len(test_windows):], values=test_labels[:, 0], start=offset, label=\"Test_data\")\n",
        "plot_time_series(timesteps=X_test[-len(test_windows):], values=tf.reduce_mean(model_3_preds, axis=1), format=\"-\", start=offset, label=\"model_3_preds\")"
      ],
      "metadata": {
        "colab": {
          "base_uri": "https://localhost:8080/",
          "height": 442
        },
        "id": "Af7CA625kKdT",
        "outputId": "dd1cd8c8-4b5f-42f3-e219-45657c147f7e"
      },
      "execution_count": 62,
      "outputs": [
        {
          "output_type": "display_data",
          "data": {
            "text/plain": [
              "<Figure size 720x504 with 1 Axes>"
            ],
            "image/png": "[encoded data removed]"
          },
          "metadata": {
            "needs_background": "light"
          }
        }
      ]
    },
    {
      "cell_type": "markdown",
      "source": [
        "### Which of our model is performing best so far?"
      ],
      "metadata": {
        "id": "jgqQHhlUlY2t"
      }
    },
    {
      "cell_type": "code",
      "source": [
        "pd.DataFrame({\"naive\":naive_results[\"mae\"],\n",
        "              \"horizon_1_window_7\":model_1_results[\"mae\"],\n",
        "              \"horizon_1_window_30\":model_2_results[\"mae\"],\n",
        "              \"horizon_7_window_30\":model_3_results[\"mae\"]}, index=[\"mae\"]).plot(figsize=(10, 7), kind=\"bar\");"
      ],
      "metadata": {
        "colab": {
          "base_uri": "https://localhost:8080/",
          "height": 440
        },
        "id": "Lt5kCSf3lQuq",
        "outputId": "860b3a61-3b50-4490-9948-27c525cddad9"
      },
      "execution_count": 74,
      "outputs": [
        {
          "output_type": "display_data",
          "data": {
            "text/plain": [
              "<Figure size 720x504 with 1 Axes>"
            ],
            "image/png": "[encoded data removed]"
          },
          "metadata": {
            "needs_background": "light"
          }
        }
      ]
    },
    {
      "cell_type": "markdown",
      "source": [
        "### Model 4: Conv1D"
      ],
      "metadata": {
        "id": "bqiioIHprHPT"
      }
    },
    {
      "cell_type": "code",
      "source": [
        "HORIZON = 1\n",
        "WINDOW_SIZE = 7"
      ],
      "metadata": {
        "id": "Ym3K51QArFt9"
      },
      "execution_count": 75,
      "outputs": []
    },
    {
      "cell_type": "code",
      "source": [
        "# Create windowed dataset\n",
        "\n",
        "full_windows, full_labels = make_windows(prices, window_size=WINDOW_SIZE, horizon=HORIZON)\n",
        "len(full_windows), len(full_labels)"
      ],
      "metadata": {
        "colab": {
          "base_uri": "https://localhost:8080/"
        },
        "id": "0t3St3dBn4nj",
        "outputId": "21a4b052-3bc2-4d9c-9b35-1acbb8f659c7"
      },
      "execution_count": 76,
      "outputs": [
        {
          "output_type": "execute_result",
          "data": {
            "text/plain": [
              "(2780, 2780)"
            ]
          },
          "metadata": {},
          "execution_count": 76
        }
      ]
    },
    {
      "cell_type": "code",
      "source": [
        "# Create test/train splits\n",
        "\n",
        "train_windows, test_windows, train_labels, test_labels = make_train_test_split(full_windows, full_labels)\n",
        "len(train_windows), len(test_windows), len(train_labels), len(test_labels)"
      ],
      "metadata": {
        "colab": {
          "base_uri": "https://localhost:8080/"
        },
        "id": "aV5yNJHprqYK",
        "outputId": "baf99d68-a95a-4df5-9c75-e4584a18d658"
      },
      "execution_count": 77,
      "outputs": [
        {
          "output_type": "execute_result",
          "data": {
            "text/plain": [
              "(2224, 556, 2224, 556)"
            ]
          },
          "metadata": {},
          "execution_count": 77
        }
      ]
    },
    {
      "cell_type": "code",
      "source": [
        "# Check data sample shapes\n",
        "train_windows[0].shape"
      ],
      "metadata": {
        "colab": {
          "base_uri": "https://localhost:8080/"
        },
        "id": "S_8P7sF4sFDc",
        "outputId": "938f0df9-8ba1-4714-e6f0-92dc46535384"
      },
      "execution_count": 78,
      "outputs": [
        {
          "output_type": "execute_result",
          "data": {
            "text/plain": [
              "(7,)"
            ]
          },
          "metadata": {},
          "execution_count": 78
        }
      ]
    },
    {
      "cell_type": "code",
      "source": [
        "# Before we pass our data to conv1D, we have to reshape it to make sure it works\n",
        "\n",
        "x = tf.constant(train_windows[0])\n",
        "expand_dims_layer = layers.Lambda(lambda x: tf.expand_dims(x, axis=1))\n",
        "print(f\"Original shape: {x.shape}\")\n",
        "print(f\"Expanded shape: {expand_dims_layer(x).shape}\")\n",
        "print(f\"Original values with Expanded shape:\\n{expand_dims_layer(x)}\")"
      ],
      "metadata": {
        "colab": {
          "base_uri": "https://localhost:8080/"
        },
        "id": "PHIJtSOfsNj4",
        "outputId": "e6cb66a3-bfd5-4624-cfb0-449a3c220bc5"
      },
      "execution_count": 80,
      "outputs": [
        {
          "output_type": "stream",
          "name": "stdout",
          "text": [
            "Original shape: (7,)\n",
            "Expanded shape: (7, 1)\n",
            "Original values with Expanded shape:\n",
            "[[123.65499]\n",
            " [125.455  ]\n",
            " [108.58483]\n",
            " [118.67466]\n",
            " [121.33866]\n",
            " [120.65533]\n",
            " [121.795  ]]\n"
          ]
        }
      ]
    },
    {
      "cell_type": "code",
      "source": [
        "tf.random.set_seed(42)\n",
        "\n",
        "# Create model\n",
        "model_4 = tf.keras.Sequential([\n",
        "    layers.Lambda(lambda x: tf.expand_dims(x, axis=1)),\n",
        "    layers.Conv1D(filters=128, kernel_size=5, padding=\"causal\", activation=\"relu\"),\n",
        "    layers.Dense(HORIZON)\n",
        "], name=\"model_4_Conv1D\")\n",
        "\n",
        "model_4.compile(loss=\"mae\",\n",
        "                optimizer=tf.keras.optimizers.Adam())\n",
        "\n",
        "model_4.fit(train_windows,\n",
        "            train_labels,\n",
        "            epochs=100,\n",
        "            batch_size=128,\n",
        "            verbose=0,\n",
        "            validation_data=(test_windows, test_labels),\n",
        "            callbacks=[create_model_checkpoint(model_name=model_4.name)])"
      ],
      "metadata": {
        "colab": {
          "base_uri": "https://localhost:8080/"
        },
        "id": "twTXCGyStPyz",
        "outputId": "785431dd-d3e0-4a3a-8798-af128234baf2"
      },
      "execution_count": 82,
      "outputs": [
        {
          "output_type": "stream",
          "name": "stderr",
          "text": [
            "WARNING:absl:Found untraced functions such as _jit_compiled_convolution_op, _update_step_xla while saving (showing 2 of 2). These functions will not be directly callable after loading.\n",
            "WARNING:absl:Found untraced functions such as _jit_compiled_convolution_op, _update_step_xla while saving (showing 2 of 2). These functions will not be directly callable after loading.\n",
            "WARNING:absl:Found untraced functions such as _jit_compiled_convolution_op, _update_step_xla while saving (showing 2 of 2). These functions will not be directly callable after loading.\n",
            "WARNING:absl:Found untraced functions such as _jit_compiled_convolution_op, _update_step_xla while saving (showing 2 of 2). These functions will not be directly callable after loading.\n",
            "WARNING:absl:Found untraced functions such as _jit_compiled_convolution_op, _update_step_xla while saving (showing 2 of 2). These functions will not be directly callable after loading.\n",
            "WARNING:absl:Found untraced functions such as _jit_compiled_convolution_op, _update_step_xla while saving (showing 2 of 2). These functions will not be directly callable after loading.\n",
            "WARNING:absl:Found untraced functions such as _jit_compiled_convolution_op, _update_step_xla while saving (showing 2 of 2). These functions will not be directly callable after loading.\n",
            "WARNING:absl:Found untraced functions such as _jit_compiled_convolution_op, _update_step_xla while saving (showing 2 of 2). These functions will not be directly callable after loading.\n",
            "WARNING:absl:Found untraced functions such as _jit_compiled_convolution_op, _update_step_xla while saving (showing 2 of 2). These functions will not be directly callable after loading.\n",
            "WARNING:absl:Found untraced functions such as _jit_compiled_convolution_op, _update_step_xla while saving (showing 2 of 2). These functions will not be directly callable after loading.\n",
            "WARNING:absl:Found untraced functions such as _jit_compiled_convolution_op, _update_step_xla while saving (showing 2 of 2). These functions will not be directly callable after loading.\n",
            "WARNING:absl:Found untraced functions such as _jit_compiled_convolution_op, _update_step_xla while saving (showing 2 of 2). These functions will not be directly callable after loading.\n",
            "WARNING:absl:Found untraced functions such as _jit_compiled_convolution_op, _update_step_xla while saving (showing 2 of 2). These functions will not be directly callable after loading.\n",
            "WARNING:absl:Found untraced functions such as _jit_compiled_convolution_op, _update_step_xla while saving (showing 2 of 2). These functions will not be directly callable after loading.\n",
            "WARNING:absl:Found untraced functions such as _jit_compiled_convolution_op, _update_step_xla while saving (showing 2 of 2). These functions will not be directly callable after loading.\n",
            "WARNING:absl:Found untraced functions such as _jit_compiled_convolution_op, _update_step_xla while saving (showing 2 of 2). These functions will not be directly callable after loading.\n",
            "WARNING:absl:Found untraced functions such as _jit_compiled_convolution_op, _update_step_xla while saving (showing 2 of 2). These functions will not be directly callable after loading.\n",
            "WARNING:absl:Found untraced functions such as _jit_compiled_convolution_op, _update_step_xla while saving (showing 2 of 2). These functions will not be directly callable after loading.\n",
            "WARNING:absl:Found untraced functions such as _jit_compiled_convolution_op, _update_step_xla while saving (showing 2 of 2). These functions will not be directly callable after loading.\n",
            "WARNING:absl:Found untraced functions such as _jit_compiled_convolution_op, _update_step_xla while saving (showing 2 of 2). These functions will not be directly callable after loading.\n",
            "WARNING:absl:Found untraced functions such as _jit_compiled_convolution_op, _update_step_xla while saving (showing 2 of 2). These functions will not be directly callable after loading.\n",
            "WARNING:absl:Found untraced functions such as _jit_compiled_convolution_op, _update_step_xla while saving (showing 2 of 2). These functions will not be directly callable after loading.\n",
            "WARNING:absl:Found untraced functions such as _jit_compiled_convolution_op, _update_step_xla while saving (showing 2 of 2). These functions will not be directly callable after loading.\n",
            "WARNING:absl:Found untraced functions such as _jit_compiled_convolution_op, _update_step_xla while saving (showing 2 of 2). These functions will not be directly callable after loading.\n",
            "WARNING:absl:Found untraced functions such as _jit_compiled_convolution_op, _update_step_xla while saving (showing 2 of 2). These functions will not be directly callable after loading.\n",
            "WARNING:absl:Found untraced functions such as _jit_compiled_convolution_op, _update_step_xla while saving (showing 2 of 2). These functions will not be directly callable after loading.\n",
            "WARNING:absl:Found untraced functions such as _jit_compiled_convolution_op, _update_step_xla while saving (showing 2 of 2). These functions will not be directly callable after loading.\n",
            "WARNING:absl:Found untraced functions such as _jit_compiled_convolution_op, _update_step_xla while saving (showing 2 of 2). These functions will not be directly callable after loading.\n",
            "WARNING:absl:Found untraced functions such as _jit_compiled_convolution_op, _update_step_xla while saving (showing 2 of 2). These functions will not be directly callable after loading.\n",
            "WARNING:absl:Found untraced functions such as _jit_compiled_convolution_op, _update_step_xla while saving (showing 2 of 2). These functions will not be directly callable after loading.\n",
            "WARNING:absl:Found untraced functions such as _jit_compiled_convolution_op, _update_step_xla while saving (showing 2 of 2). These functions will not be directly callable after loading.\n",
            "WARNING:absl:Found untraced functions such as _jit_compiled_convolution_op, _update_step_xla while saving (showing 2 of 2). These functions will not be directly callable after loading.\n",
            "WARNING:absl:Found untraced functions such as _jit_compiled_convolution_op, _update_step_xla while saving (showing 2 of 2). These functions will not be directly callable after loading.\n",
            "WARNING:absl:Found untraced functions such as _jit_compiled_convolution_op, _update_step_xla while saving (showing 2 of 2). These functions will not be directly callable after loading.\n",
            "WARNING:absl:Found untraced functions such as _jit_compiled_convolution_op, _update_step_xla while saving (showing 2 of 2). These functions will not be directly callable after loading.\n",
            "WARNING:absl:Found untraced functions such as _jit_compiled_convolution_op, _update_step_xla while saving (showing 2 of 2). These functions will not be directly callable after loading.\n",
            "WARNING:absl:Found untraced functions such as _jit_compiled_convolution_op, _update_step_xla while saving (showing 2 of 2). These functions will not be directly callable after loading.\n",
            "WARNING:absl:Found untraced functions such as _jit_compiled_convolution_op, _update_step_xla while saving (showing 2 of 2). These functions will not be directly callable after loading.\n",
            "WARNING:absl:Found untraced functions such as _jit_compiled_convolution_op, _update_step_xla while saving (showing 2 of 2). These functions will not be directly callable after loading.\n",
            "WARNING:absl:Found untraced functions such as _jit_compiled_convolution_op, _update_step_xla while saving (showing 2 of 2). These functions will not be directly callable after loading.\n",
            "WARNING:absl:Found untraced functions such as _jit_compiled_convolution_op, _update_step_xla while saving (showing 2 of 2). These functions will not be directly callable after loading.\n",
            "WARNING:absl:Found untraced functions such as _jit_compiled_convolution_op, _update_step_xla while saving (showing 2 of 2). These functions will not be directly callable after loading.\n",
            "WARNING:absl:Found untraced functions such as _jit_compiled_convolution_op, _update_step_xla while saving (showing 2 of 2). These functions will not be directly callable after loading.\n"
          ]
        },
        {
          "output_type": "execute_result",
          "data": {
            "text/plain": [
              "<keras.callbacks.History at 0x7f27c8b2f130>"
            ]
          },
          "metadata": {},
          "execution_count": 82
        }
      ]
    },
    {
      "cell_type": "code",
      "source": [
        "model_4.summary()"
      ],
      "metadata": {
        "colab": {
          "base_uri": "https://localhost:8080/"
        },
        "id": "Gum5uvq2vAMq",
        "outputId": "056af778-01b1-422f-9d18-444ac94d1c83"
      },
      "execution_count": 83,
      "outputs": [
        {
          "output_type": "stream",
          "name": "stdout",
          "text": [
            "Model: \"model_4_Conv1D\"\n",
            "_________________________________________________________________\n",
            " Layer (type)                Output Shape              Param #   \n",
            "=================================================================\n",
            " lambda_3 (Lambda)           (None, 1, 7)              0         \n",
            "                                                                 \n",
            " conv1d_1 (Conv1D)           (None, 1, 128)            4608      \n",
            "                                                                 \n",
            " dense_6 (Dense)             (None, 1, 1)              129       \n",
            "                                                                 \n",
            "=================================================================\n",
            "Total params: 4,737\n",
            "Trainable params: 4,737\n",
            "Non-trainable params: 0\n",
            "_________________________________________________________________\n"
          ]
        }
      ]
    },
    {
      "cell_type": "code",
      "source": [
        "model_4 = tf.keras.models.load_model(\"model_experiments/model_4_Conv1D\")\n",
        "model_4.evaluate(test_windows, test_labels)"
      ],
      "metadata": {
        "colab": {
          "base_uri": "https://localhost:8080/"
        },
        "id": "BCjk18CQvOaf",
        "outputId": "6a0187dc-3eb0-4766-ceec-450469b0878a"
      },
      "execution_count": 85,
      "outputs": [
        {
          "output_type": "stream",
          "name": "stdout",
          "text": [
            "18/18 [==============================] - 0s 5ms/step - loss: 574.9383\n"
          ]
        },
        {
          "output_type": "execute_result",
          "data": {
            "text/plain": [
              "574.9382934570312"
            ]
          },
          "metadata": {},
          "execution_count": 85
        }
      ]
    },
    {
      "cell_type": "code",
      "source": [
        "# Make predictions\n",
        "model_4_preds = make_preds(model_4, test_windows)\n",
        "model_4_preds[:5]"
      ],
      "metadata": {
        "colab": {
          "base_uri": "https://localhost:8080/"
        },
        "id": "-RmLkclPvlBv",
        "outputId": "2a79909e-2bc8-4f65-ab1c-10deaf6c8017"
      },
      "execution_count": 86,
      "outputs": [
        {
          "output_type": "stream",
          "name": "stdout",
          "text": [
            "18/18 [==============================] - 0s 6ms/step\n"
          ]
        },
        {
          "output_type": "execute_result",
          "data": {
            "text/plain": [
              "<tf.Tensor: shape=(5,), dtype=float32, numpy=array([8939.365, 8816.847, 9034.044, 8835.315, 8773.612], dtype=float32)>"
            ]
          },
          "metadata": {},
          "execution_count": 86
        }
      ]
    },
    {
      "cell_type": "code",
      "source": [
        "# Evaluate predictions\n",
        "\n",
        "model_4_results = evaluate_preds(y_true=tf.squeeze(test_labels),\n",
        "                                 y_pred=model_4_preds)\n",
        "model_4_results"
      ],
      "metadata": {
        "colab": {
          "base_uri": "https://localhost:8080/"
        },
        "id": "nOsYGyyCwCuM",
        "outputId": "b754236d-e173-479b-b332-a301f99a07d9"
      },
      "execution_count": 88,
      "outputs": [
        {
          "output_type": "execute_result",
          "data": {
            "text/plain": [
              "{'mae': 574.9383,\n",
              " 'mse': 1200487.6,\n",
              " 'rmse': 1095.6676,\n",
              " 'mape': 2.581839,\n",
              " 'mase': 1.0100074}"
            ]
          },
          "metadata": {},
          "execution_count": 88
        }
      ]
    },
    {
      "cell_type": "code",
      "source": [],
      "metadata": {
        "id": "sTvPilMzwWGT"
      },
      "execution_count": null,
      "outputs": []
    }
  ]
}